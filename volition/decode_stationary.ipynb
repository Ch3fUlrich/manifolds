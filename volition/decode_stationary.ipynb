{
 "cells": [
  {
   "cell_type": "code",
   "execution_count": 2,
   "id": "9f60266b-8e03-4c0b-a9b0-aac2389de9df",
   "metadata": {},
   "outputs": [
    {
     "data": {
      "application/javascript": [
       "IPython.notebook.set_autosave_interval(180000)"
      ]
     },
     "metadata": {},
     "output_type": "display_data"
    },
    {
     "name": "stdout",
     "output_type": "stream",
     "text": [
      "Autosaving every 180 seconds\n"
     ]
    }
   ],
   "source": [
    "# Visualisation\n",
    "import matplotlib.pyplot as plt\n",
    "%matplotlib tk\n",
    "# Saving settings\n",
    "%autosave 180\n",
    "%load_ext autoreload\n",
    "%autoreload 2\n",
    "\n",
    "# Computing\n",
    "import numpy as np\n",
    "\n",
    "# Files\n",
    "import pandas as pd\n",
    "import os\n",
    "import glob\n",
    "\n",
    "from tqdm import tqdm\n",
    "\n",
    "from utils_nathalie import Volition"
   ]
  },
  {
   "cell_type": "code",
   "execution_count": 112,
   "id": "8d48dada-d7ee-4fc5-8096-08d8b823b1e9",
   "metadata": {},
   "outputs": [
    {
     "name": "stderr",
     "output_type": "stream",
     "text": [
      "100%|██████████| 12/12 [00:00<00:00, 27838.30it/s]"
     ]
    },
    {
     "name": "stdout",
     "output_type": "stream",
     "text": [
      "DONE...\n"
     ]
    },
    {
     "name": "stderr",
     "output_type": "stream",
     "text": [
      "\n"
     ]
    }
   ],
   "source": [
    "####################################################       \n",
    "####################################################       \n",
    "####################################################       \n",
    "#\n",
    "root_dir = \"/media/cat/4TB/donato/nathalie\"\n",
    "animal_id = \"DON-007050\"\n",
    "\n",
    "# \"DON-007050\"\n",
    "# \"DON-007417\"\n",
    "# \"DON-007021\"\n",
    "\n",
    "\n",
    "#######\n",
    "vol = Volition(root_dir, \n",
    "               animal_id)\n",
    "\n",
    "\n",
    "vol.convert_locations()\n",
    "\n",
    "vol.session_ids = [\"FS9\"]\n",
    "\n",
    "#\n",
    "print (\"DONE...\")"
   ]
  },
  {
   "cell_type": "code",
   "execution_count": 113,
   "id": "18d76f7b-7f26-41d7-8b05-d2b2122a1629",
   "metadata": {
    "tags": []
   },
   "outputs": [
    {
     "name": "stdout",
     "output_type": "stream",
     "text": [
      "TODO: use start offset for mouse 7050: \n",
      "Time moving:  748.3 , time not moving:  1051.7\n",
      "total time, total cells:  (14966, 365)\n",
      "length of moving period:  748.3 sec\n",
      "Frames with non-zero activity:  672.85  sec.\n",
      "# cells with some activity in the period:  (288,)\n"
     ]
    },
    {
     "name": "stderr",
     "output_type": "stream",
     "text": [
      "100%|██████████| 288/288 [00:05<00:00, 50.08it/s]\n",
      "100%|██████████| 1496/1496 [00:01<00:00, 1252.00it/s]\n",
      "100%|██████████| 20456/20456 [00:16<00:00, 1239.08it/s]\n",
      "/home/cat/.conda/envs/donato/lib/python3.8/site-packages/numpy/lib/npyio.py:696: VisibleDeprecationWarning: Creating an ndarray from ragged nested sequences (which is a list-or-tuple of lists-or-tuples-or ndarrays with different lengths or shapes) is deprecated. If you meant to do this, you must specify 'dtype=object' when creating the ndarray.\n",
      "  val = np.asanyarray(val)\n"
     ]
    },
    {
     "name": "stdout",
     "output_type": "stream",
     "text": [
      "\n",
      "DONE\n"
     ]
    }
   ],
   "source": [
    "##########################################################\n",
    "################### DECODE ALL PERIODS ###################\n",
    "##########################################################\n",
    "\n",
    "#\n",
    "vol.overwrite_bayes = True\n",
    "vol.use_place_cells_bayes = False\n",
    "vol.shuffle_bayes = False\n",
    "\n",
    "#\n",
    "vol.speed_threshold = 2\n",
    "vol.train_bayes()\n",
    " \n",
    "\n",
    "print (\"DONE\")"
   ]
  },
  {
   "cell_type": "code",
   "execution_count": 123,
   "id": "bd9a49fb-8063-4d83-a635-3354354f536d",
   "metadata": {},
   "outputs": [
    {
     "name": "stdout",
     "output_type": "stream",
     "text": [
      "[[ 0.  8. 16. 24. 32. 40. 48. 56.]\n",
      " [ 1.  9. 17. 25. 33. 41. 49. 57.]\n",
      " [ 2. 10. 18. 26. 34. 42. 50. 58.]\n",
      " [ 3. 11. 19. 27. 35. 43. 51. 59.]\n",
      " [ 4. 12. 20. 28. 36. 44. 52. 60.]\n",
      " [ 5. 13. 21. 29. 37. 45. 53. 61.]\n",
      " [ 6. 14. 22. 30. 38. 46. 54. 62.]\n",
      " [ 7. 15. 23. 31. 39. 47. 55. 63.]]\n",
      "10\n"
     ]
    }
   ],
   "source": [
    "#\n",
    "vol.session_id = \"FS9\"\n",
    "vol.plot_grid()\n",
    "#\n"
   ]
  },
  {
   "cell_type": "code",
   "execution_count": null,
   "id": "cb4d949a-7737-4032-8f41-d17d860fd0d0",
   "metadata": {},
   "outputs": [],
   "source": []
  },
  {
   "cell_type": "code",
   "execution_count": 104,
   "id": "699adaa4-2d49-4db0-87f4-5607c2539527",
   "metadata": {},
   "outputs": [],
   "source": [
    "###################################################\n",
    "################## PLOT ERRORS ####################\n",
    "###################################################\n",
    "#\n",
    "# visualize decoding results\n",
    "vol.use_place_cells_bayes = False\n",
    "\n",
    "#\n",
    "vol.plot_decoder_errors()\n",
    "    \n"
   ]
  },
  {
   "cell_type": "code",
   "execution_count": null,
   "id": "a6823da6-8f85-4f5c-a430-68c29b1564b7",
   "metadata": {},
   "outputs": [],
   "source": []
  },
  {
   "cell_type": "code",
   "execution_count": 102,
   "id": "ac22e955-204a-4bc5-bb21-13275814c52f",
   "metadata": {},
   "outputs": [
    {
     "name": "stdout",
     "output_type": "stream",
     "text": [
      "idx immobile periods:  (20456,)\n",
      "imm true:  (20456, 2)\n"
     ]
    },
    {
     "name": "stderr",
     "output_type": "stream",
     "text": [
      "100%|██████████| 20456/20456 [00:00<00:00, 102386.90it/s]\n",
      "100%|██████████| 20456/20456 [00:00<00:00, 101608.81it/s]\n",
      "100%|██████████| 20456/20456 [00:00<00:00, 103490.98it/s]\n",
      "100%|██████████| 20456/20456 [00:00<00:00, 101284.71it/s]\n",
      "100%|██████████| 20456/20456 [00:00<00:00, 102992.94it/s]\n",
      "100%|██████████| 20456/20456 [00:00<00:00, 101717.22it/s]\n",
      "100%|██████████| 20456/20456 [00:00<00:00, 103345.14it/s]\n",
      "100%|██████████| 20456/20456 [00:00<00:00, 102289.73it/s]\n",
      "100%|██████████| 20456/20456 [00:00<00:00, 104092.28it/s]\n",
      "100%|██████████| 20456/20456 [00:00<00:00, 102442.27it/s]\n"
     ]
    },
    {
     "name": "stdout",
     "output_type": "stream",
     "text": [
      "idx immobile periods:  (20456,)\n",
      "imm true:  (20456, 2)\n"
     ]
    },
    {
     "name": "stderr",
     "output_type": "stream",
     "text": [
      "100%|██████████| 20456/20456 [00:00<00:00, 99290.36it/s]\n"
     ]
    }
   ],
   "source": [
    "##########################################################\n",
    "########### FORWARD / BACKWARD MATCHES ANALYSIS ##########\n",
    "##########################################################\n",
    "#\n",
    "vol.n_sec = 20   # no. of seconds to search forward and backward in time\n",
    "vol.fps = 20    # imaging rate\n",
    "vol.min_dist_difference = 0                  # how far must the imagined location from current location be in order to consider it a projected location\n",
    "vol.min_dist_approached = 5   # how close must the mouse come ot the imagined location\n",
    "vol.bin_width = 0.25\n",
    "vol.n_shuffles = 10\n",
    "vol.session_id = \"FS9\"\n",
    "vol.direction = 'forward'  # 'forward', 'backward'\n",
    "vol.mobile = False\n",
    "#\n",
    "\n",
    "# process data\n",
    "shuffles= [True, False]\n",
    "plt.figure(figsize=(10,4))\n",
    "for shuffle in shuffles:\n",
    "    vol.shuffle_match = shuffle\n",
    "\n",
    "    #\n",
    "    vol.get_matches_forward_backward()\n",
    "\n",
    "    #\n",
    "    plt.plot(vol.x, vol.hist, label='shuffle '+str(vol.shuffle_match))\n",
    "\n",
    "plt.xlabel(\"Time (sec) to arrive at imagined location (within \"+str(vol.min_dist)+\"cm)\")\n",
    "plt.legend()\n",
    "plt.ylabel(\"# of events\")\n",
    "plt.ylim(bottom=0)\n",
    "plt.title(vol.animal_id + \" \" + vol.session_id + \", error(predicted-actual)>\"+str(vol.min_dist_difference)+\"cm\")\n",
    "plt.show()\n"
   ]
  },
  {
   "cell_type": "code",
   "execution_count": 103,
   "id": "9766678a-7f4e-41f3-99e4-c73d90708a39",
   "metadata": {},
   "outputs": [
    {
     "name": "stdout",
     "output_type": "stream",
     "text": [
      "(7760,) (7760,)\n"
     ]
    }
   ],
   "source": [
    "#########################################################\n",
    "############ TIME vs. DISTANCE IMAGINED LOCATIONS #######\n",
    "#########################################################\n",
    "\n",
    "#\n",
    "dists_array = np.hstack(vol.dists_array)\n",
    "match_array = np.hstack(vol.match_times_array)\n",
    "print (dists_array.shape, match_array.shape)\n",
    "\n",
    "plt.figure()\n",
    "plt.scatter(dists_array, \n",
    "            match_array,\n",
    "           c=np.arange(dists_array.shape[0]))\n",
    "    \n",
    "plt.xlabel(\"distance current -> imagined location (cm)\")\n",
    "plt.ylabel(\"Time to arrive -> imagined location (sec)\")\n",
    "plt.xlim(0,100)\n",
    "plt.ylim(0,vol.n_sec)\n",
    "plt.title(vol.animal_id + \" \"+ vol.session_id)\n",
    "plt.show()\n"
   ]
  },
  {
   "cell_type": "code",
   "execution_count": 78,
   "id": "d13e074e-9f2a-4253-9967-c95565aeaa13",
   "metadata": {},
   "outputs": [
    {
     "name": "stdout",
     "output_type": "stream",
     "text": [
      "/media/cat/4TB/donato/nathalie/DON-007050/FS1/bayes_decoder_place_cells_False.npz\n",
      "(36000,) (9102,) (26898,)\n",
      "(210, 2) (211, 2)\n"
     ]
    }
   ],
   "source": [
    "################################################\n",
    "################################################\n",
    "################################################\n",
    "#\n",
    "fname = os.path.join(vol.root_dir,\n",
    "                    vol.animal_id,\n",
    "                    vol.session_id,\n",
    "                    'bayes_decoder_place_cells_False.npz')\n",
    "print (fname)\n",
    "data = np.load(fname, allow_pickle=True)\n",
    "\n",
    "#\n",
    "idx_imm = data['idx_imm']\n",
    "idx_mob = data['idx_mob']\n",
    "speed = data['speed']\n",
    "\n",
    "#\n",
    "print (speed.shape, idx_imm.shape, idx_mob.shape)\n",
    "\n",
    "#\n",
    "imm_bouts = vol.get_bouts(idx_imm)\n",
    "mob_bouts = vol.get_bouts(idx_mob)\n",
    "print (imm_bouts.shape, mob_bouts.shape)\n"
   ]
  },
  {
   "cell_type": "code",
   "execution_count": 111,
   "id": "fd1f3eb0-0e80-45b5-bcf6-a392b0609acb",
   "metadata": {},
   "outputs": [],
   "source": [
    "plt.figure(figsize=(10,4))\n",
    "x = np.arange(speed.shape[0])/vol.fps\n",
    "idx = np.where(speed > vol.speed_threshold)[0]\n",
    "idx2 = np.where(speed < vol.speed_threshold)[0]\n",
    "\n",
    "#\n",
    "x1 = x.copy()\n",
    "x2 = x.copy()\n",
    "speed1 = speed.copy()\n",
    "speed2 = speed.copy()\n",
    "\n",
    "#\n",
    "speed1[idx]=np.nan\n",
    "x1[idx]=np.nan\n",
    "\n",
    "#\n",
    "x2[idx2]=np.nan\n",
    "speed2[idx2]=np.nan\n",
    "#\n",
    "plt.plot(x1,speed1)\n",
    "plt.plot(x2,speed2)\n",
    "plt.xlim(x[0],x[-1])\n",
    "plt.xlabel(\"Time (sec)\")\n",
    "plt.ylabel(\"Speed (cm/sec)\")\n",
    "\n",
    "plt.show()"
   ]
  },
  {
   "cell_type": "code",
   "execution_count": 79,
   "id": "20452889-80f8-476f-9aed-f075915ab767",
   "metadata": {},
   "outputs": [],
   "source": [
    "plt.figure()\n",
    "ax =plt.subplot(1,1,1)\n",
    "temp = (imm_bouts[:,1]-imm_bouts[:,0])/vol.fps\n",
    "y1 = np.histogram(temp, bins=np.arange(0,30,.25))\n",
    "x = y1[1][:-1]\n",
    "plt.plot(x,y1[0], c='blue',label='immobility bouts')\n",
    "\n",
    "\n",
    "#\n",
    "temp = (mob_bouts[:,1]-mob_bouts[:,0])/vol.fps\n",
    "y2 = np.histogram(temp, bins=np.arange(0,30,.25))\n",
    "plt.plot(x,y2[0], c='red', label='mobility bouts')\n",
    "plt.legend(loc=4)\n",
    "plt.xlim(left=0)\n",
    "plt.ylim(bottom=0)\n",
    "plt.ylabel(\"# of bouts\")\n",
    "plt.xlabel('Duration (sec)')\n",
    "\n",
    "#\n",
    "ax2 = ax.twinx()\n",
    "c = np.cumsum(y1[0]*y1[1][:-1])\n",
    "c = c/np.max(c)\n",
    "ax2.plot(x,c, '--',c='blue')\n",
    "ax2.set_ylim(0,1)\n",
    "ax2.set_xlim(left=0)\n",
    "\n",
    "c = np.cumsum(y2[0]*y[1][:-1])\n",
    "c = c/np.max(c)\n",
    "ax2.plot(x,c, '--',c='red')\n",
    "ax2.set_ylabel(\"percent of total time\")\n",
    "plt.title(vol.animal_id + \" \" + vol.session_id)\n",
    "plt.show()\n",
    "\n"
   ]
  },
  {
   "cell_type": "code",
   "execution_count": 75,
   "id": "29912934-a07f-433d-a967-4d72c86a1bc9",
   "metadata": {},
   "outputs": [],
   "source": [
    "plt.figure()\n",
    "\n",
    "x = np.arange(speed.shape[0])/20.\n",
    "plt.plot(x[idx_imm],speed[idx_imm],\n",
    "        c='red')\n",
    "\n",
    "plt.plot(x[idx_mob],speed[idx_mob],\n",
    "        c='blue')\n",
    "\n",
    "plt.xlim(x[0],x[-1])\n",
    "plt.ylim(bottom=0)\n",
    "plt.show()"
   ]
  },
  {
   "cell_type": "code",
   "execution_count": null,
   "id": "bf35de93-568c-40b8-b136-6e62f817a18b",
   "metadata": {},
   "outputs": [],
   "source": []
  },
  {
   "cell_type": "code",
   "execution_count": null,
   "id": "d58f5f79-c160-4aca-b363-f3602cc7deb5",
   "metadata": {},
   "outputs": [],
   "source": []
  },
  {
   "cell_type": "code",
   "execution_count": null,
   "id": "5f4ff0fc-54e7-42cc-b5af-dfab3d325b8e",
   "metadata": {},
   "outputs": [],
   "source": []
  },
  {
   "cell_type": "code",
   "execution_count": null,
   "id": "7e22bf60-8fe2-4e02-a6e4-ed17b8037a1e",
   "metadata": {},
   "outputs": [],
   "source": []
  },
  {
   "cell_type": "code",
   "execution_count": null,
   "id": "70c16dc8-9939-457f-884f-23730ecdf910",
   "metadata": {},
   "outputs": [],
   "source": []
  },
  {
   "cell_type": "code",
   "execution_count": null,
   "id": "69752c9e-66a0-42ee-afbb-e5b216cda4df",
   "metadata": {},
   "outputs": [],
   "source": []
  },
  {
   "cell_type": "code",
   "execution_count": null,
   "id": "147b38a6-b969-4e3b-898c-4035d0ea3845",
   "metadata": {},
   "outputs": [],
   "source": []
  },
  {
   "cell_type": "code",
   "execution_count": null,
   "id": "8694e8f9-95ad-4135-bf31-fed4925f6774",
   "metadata": {},
   "outputs": [],
   "source": []
  },
  {
   "cell_type": "code",
   "execution_count": null,
   "id": "7f795b56-da4d-4105-a082-a3d3f6eb0869",
   "metadata": {},
   "outputs": [],
   "source": []
  },
  {
   "cell_type": "code",
   "execution_count": null,
   "id": "940f1841-1263-41ea-8a7d-9159045c325d",
   "metadata": {},
   "outputs": [],
   "source": []
  },
  {
   "cell_type": "code",
   "execution_count": null,
   "id": "67d0399f-4d26-471d-9d55-3f69f2c5ec36",
   "metadata": {},
   "outputs": [],
   "source": []
  },
  {
   "cell_type": "code",
   "execution_count": 76,
   "id": "b833e354-e469-429b-b023-c79a3998c6d6",
   "metadata": {},
   "outputs": [
    {
     "ename": "NameError",
     "evalue": "name 'y_test' is not defined",
     "output_type": "error",
     "traceback": [
      "\u001b[0;31m---------------------------------------------------------------------------\u001b[0m",
      "\u001b[0;31mNameError\u001b[0m                                 Traceback (most recent call last)",
      "Cell \u001b[0;32mIn[76], line 4\u001b[0m\n\u001b[1;32m      1\u001b[0m \u001b[38;5;66;03m####################################################\u001b[39;00m\n\u001b[1;32m      3\u001b[0m plt\u001b[38;5;241m.\u001b[39mfigure()\n\u001b[0;32m----> 4\u001b[0m plt\u001b[38;5;241m.\u001b[39mscatter(\u001b[43my_test\u001b[49m[:,\u001b[38;5;241m0\u001b[39m],y_test[:,\u001b[38;5;241m1\u001b[39m],\n\u001b[1;32m      5\u001b[0m             c\u001b[38;5;241m=\u001b[39mnp\u001b[38;5;241m.\u001b[39marange(y_test\u001b[38;5;241m.\u001b[39mshape[\u001b[38;5;241m0\u001b[39m]),\n\u001b[1;32m      6\u001b[0m             s\u001b[38;5;241m=\u001b[39mdistances_bayes\u001b[38;5;241m*\u001b[39m\u001b[38;5;241m5\u001b[39m,\n\u001b[1;32m      7\u001b[0m             cmap\u001b[38;5;241m=\u001b[39m\u001b[38;5;124m'\u001b[39m\u001b[38;5;124mviridis\u001b[39m\u001b[38;5;124m'\u001b[39m)\n\u001b[1;32m      9\u001b[0m \u001b[38;5;66;03m#\u001b[39;00m\n\u001b[1;32m     10\u001b[0m plt\u001b[38;5;241m.\u001b[39mscatter(y_bayes[:,\u001b[38;5;241m0\u001b[39m],\n\u001b[1;32m     11\u001b[0m             y_bayes[:,\u001b[38;5;241m1\u001b[39m],\n\u001b[1;32m     12\u001b[0m             c\u001b[38;5;241m=\u001b[39mnp\u001b[38;5;241m.\u001b[39marange(y_bayes\u001b[38;5;241m.\u001b[39mshape[\u001b[38;5;241m0\u001b[39m]),\n\u001b[1;32m     13\u001b[0m             cmap\u001b[38;5;241m=\u001b[39m\u001b[38;5;124m'\u001b[39m\u001b[38;5;124mmagma\u001b[39m\u001b[38;5;124m'\u001b[39m)\n",
      "\u001b[0;31mNameError\u001b[0m: name 'y_test' is not defined"
     ]
    }
   ],
   "source": [
    "####################################################\n",
    "\n",
    "plt.figure()\n",
    "plt.scatter(y_test[:,0],y_test[:,1],\n",
    "            c=np.arange(y_test.shape[0]),\n",
    "            s=distances_bayes*5,\n",
    "            cmap='viridis')\n",
    "\n",
    "#\n",
    "plt.scatter(y_bayes[:,0],\n",
    "            y_bayes[:,1],\n",
    "            c=np.arange(y_bayes.shape[0]),\n",
    "            cmap='magma')\n",
    "\n",
    "#\n",
    "plt.show()"
   ]
  },
  {
   "cell_type": "code",
   "execution_count": null,
   "id": "a94e0ebe-0034-443a-9184-d9c98ae77e29",
   "metadata": {},
   "outputs": [],
   "source": [
    "####################################################################################################\n",
    "########## TEST WHETHER MOUSE GOES THROUGH PREDICTED LOCATION IN PREVIOUS / FUTURE PERIODS #########\n",
    "####################################################################################################\n",
    "\n",
    "n_frames = 18\n",
    "\n",
    "#\n",
    "print (idx_imm[:n_frames])\n",
    "\n",
    "#\n",
    "print (y_bayes[:n_frames])\n",
    "\n",
    "#\n",
    "\n",
    "print (X_test[:n_frames])\n",
    "\n",
    "#\n",
    "s = X_test[:n_frames]-X_test[0]\n",
    "print (s.sum())\n",
    "\n",
    "#\n",
    "for k in range(n_frames):\n",
    "    idx = np.where(X_test[k]!=0)\n",
    "    print (idx)\n"
   ]
  },
  {
   "cell_type": "code",
   "execution_count": 77,
   "id": "7cfb69af-a266-4929-b098-03973ed5a16c",
   "metadata": {},
   "outputs": [
    {
     "name": "stdout",
     "output_type": "stream",
     "text": [
      "{'cell_id': 3, 'overlaps': [0.6558441558441559], 'spatial_info': [2.5525348609366976, 2.8140883482451713, 2.8286039804275, 0.9101248643011705, 1.3278752092892459, 1.3438674239649162, 1.123412603243331, 1.1561605631378915, 1.279342196542679, 1.8810676337781347, 1.7794684847830269, 1.2194517187141143, 1.2052842898692484, 1.1272377625249013, 1.1384000457492287, 1.1005289049304603, 1.5166405132421887, 1.4257672055011121, 1.1602136256409907, 1.1280544425648, 1.3793781677164407, 1.2206092962501665, 0.7943263602749769, 1.0991272043024367, 1.1466281439664288, 1.4946472634710573, 1.0346702957677676, 1.2568657912060663, 1.4666418088167332, 1.433578790880422, 1.3533591571273524, 1.4324653299697256, 1.1849935265293163, 1.134931905941554, 1.0065756336695728, 1.3099695445839674, 1.1245261148370511, 1.107881202186656, 1.2497142471880751, 1.7295170845657972, 1.4564907905192284, 1.1485146897273082, 1.6544858111817515, 1.2650603039306907, 1.0945374114345914, 1.1024764307211343, 1.298403967208392, 1.2592816756408156, 0.9954117663227614, 1.5140426783765921, 1.3681252778816484, 0.9821574669336308, 1.5641400581673979, 1.5197033196433518, 1.1468666026555543, 1.0876512983420905, 1.325884230707213, 1.2058368175626568, 1.5209047227783568, 1.335248160893115, 1.1428334679445262, 1.1394437917007056, 0.9058545978263568, 1.0085538199432853, 1.5489169357318282, 0.938576008852681, 1.296707517429556, 1.0052376313272489, 0.8808875189730168, 1.5887170239568793, 1.0372424449349196, 1.037744244228805, 1.0171098640939282, 1.7084117271637582, 1.1813679690441108, 0.9645464591352497, 1.529113068269883, 1.2226766530723543, 0.8988940543255053, 1.3709443349785995, 1.5524047340713505, 0.9988393470145803, 1.4386574174267928, 1.058797585000748, 1.355712524947425, 1.359549988788888, 0.9619933902519362, 1.5652597113085307, 1.4797652094623668, 1.6792034144193684, 1.746493200767827, 0.7935572274760504, 1.0764778327260762, 0.8194537294031364, 1.2547850798700462, 1.1175799399070323, 1.2169495372476895, 1.386195364506957, 1.1205714560782094, 1.0573791011139424, 1.4864374992629557, 1.2118547163779625, 1.1935235248511755], 'spatial_info_zscores': array([ 3.70196283,  4.47070782,  4.51337144, -1.12532684,  0.10250417,\n",
      "        0.14950769, -0.49844214, -0.40219096, -0.04014164,  1.7284198 ,\n",
      "        1.42980464, -0.21616875, -0.25780895, -0.48719942, -0.45439179,\n",
      "       -0.56570076,  0.65731375,  0.39022345, -0.39027841, -0.48479907,\n",
      "        0.2538791 , -0.21276646, -1.46567603, -0.56982057, -0.43020818,\n",
      "        0.59267229, -0.75926911, -0.10620317,  0.51036005,  0.41318288,\n",
      "        0.17740532,  0.40991025, -0.31744655, -0.46458518, -0.84184354,\n",
      "        0.04987673, -0.49516936, -0.54409126, -0.12722264,  1.28298997,\n",
      "        0.48052468, -0.42466334,  1.06246179, -0.08211827, -0.58331066,\n",
      "       -0.55997669,  0.01588376, -0.09910253, -0.87465582,  0.64967833,\n",
      "        0.22080517, -0.9136122 ,  0.79692205,  0.6663158 , -0.42950731,\n",
      "       -0.60354998,  0.09665239, -0.25618499,  0.66984691,  0.12417438,\n",
      "       -0.4413613 , -0.45132407, -1.13787779, -0.83602935,  0.75217901,\n",
      "       -1.04170465,  0.01089764, -0.84577613, -1.21125979,  0.86915744,\n",
      "       -0.75170918, -0.75023431, -0.81088185,  1.22095815, -0.32810261,\n",
      "       -0.9653736 ,  0.69397247, -0.20669019, -1.15833588,  0.2290908 ,\n",
      "        0.76243017, -0.86458165,  0.42810972, -0.68835538,  0.18432222,\n",
      "        0.19560111, -0.97287745,  0.80021288,  0.5489317 ,  1.13511054,\n",
      "        1.33288533, -1.46793663, -0.63639048, -1.39182292, -0.1123187 ,\n",
      "       -0.51558521, -0.22352304,  0.27391587, -0.5067927 , -0.69252452,\n",
      "        0.56854256, -0.23849748, -0.29237561]), 'coherence': [0.9655854508438909, 0.9842944285292162], 'fields_map_split': [array([[1., 1., 1., ..., 0., 0., 0.],\n",
      "       [1., 1., 1., ..., 0., 0., 0.],\n",
      "       [1., 1., 1., ..., 0., 0., 0.],\n",
      "       ...,\n",
      "       [0., 0., 0., ..., 0., 0., 0.],\n",
      "       [0., 0., 0., ..., 0., 0., 0.],\n",
      "       [0., 0., 0., ..., 0., 0., 0.]]), array([[0., 1., 1., ..., 0., 0., 0.],\n",
      "       [1., 1., 1., ..., 0., 0., 0.],\n",
      "       [1., 1., 1., ..., 0., 0., 0.],\n",
      "       ...,\n",
      "       [0., 0., 0., ..., 0., 0., 0.],\n",
      "       [0., 0., 0., ..., 0., 0., 0.],\n",
      "       [0., 0., 0., ..., 0., 0., 0.]])], 'res_array': [{'spatial_information_rate': 6.337284359463096, 'spatial_information_content': 2.5525348609366976, 'sparsity': 0.1472312446531702, 'selectivity': 14.541222467240814, 'peak_rate': 36.10209722083946, 'mean_rate': 2.870126552770711}, {'spatial_information_rate': 3.6001093111701388, 'spatial_information_content': 2.8140883482451713, 'sparsity': 0.1162872324145671, 'selectivity': 19.183584197493744, 'peak_rate': 24.541873439787473, 'mean_rate': 1.4557489577747156}, {'spatial_information_rate': 3.4040131676077197, 'spatial_information_content': 2.8286039804275, 'sparsity': 0.1071348438381552, 'selectivity': 23.435886729581718, 'peak_rate': 28.203335487777352, 'mean_rate': 1.3836392919281357}, {'spatial_information_rate': 2.3781195692254657, 'spatial_information_content': 0.9101248643011705, 'sparsity': 0.43301187549735304, 'selectivity': 24.027276175128424, 'peak_rate': 62.78230373491865, 'mean_rate': 2.230374000273682}, {'spatial_information_rate': 3.0105529867359087, 'spatial_information_content': 1.3278752092892459, 'sparsity': 0.34789261001557636, 'selectivity': 7.009882222144142, 'peak_rate': 15.892774948211326, 'mean_rate': 2.2249697874522267}, {'spatial_information_rate': 3.9535736984058345, 'spatial_information_content': 1.3438674239649162, 'sparsity': 0.3207910885216287, 'selectivity': 10.528894541787503, 'peak_rate': 30.97534756135778, 'mean_rate': 2.523862662017922}, {'spatial_information_rate': 2.83073158645864, 'spatial_information_content': 1.123412603243331, 'sparsity': 0.4182150866982956, 'selectivity': 47.92679722389923, 'peak_rate': 120.7640882324196, 'mean_rate': 2.766427674167846}, {'spatial_information_rate': 3.0665002167927553, 'spatial_information_content': 1.1561605631378915, 'sparsity': 0.4167219414363779, 'selectivity': 10.337627546312815, 'peak_rate': 27.418628625296062, 'mean_rate': 1.9624035116498622}, {'spatial_information_rate': 3.0754967894786955, 'spatial_information_content': 1.279342196542679, 'sparsity': 0.35378375819819463, 'selectivity': 22.84983297054635, 'peak_rate': 54.930250976596604, 'mean_rate': 3.5368493698752483}, {'spatial_information_rate': 5.581733845544066, 'spatial_information_content': 1.8810676337781347, 'sparsity': 0.16875642607289754, 'selectivity': 24.97444802353152, 'peak_rate': 74.10723532930066, 'mean_rate': 2.7112978790925926}, {'spatial_information_rate': 4.116966698823076, 'spatial_information_content': 1.7794684847830269, 'sparsity': 0.21368345402549085, 'selectivity': 113.21134419619936, 'peak_rate': 261.9250287209108, 'mean_rate': 4.2173666301063095}, {'spatial_information_rate': 3.3918717427531426, 'spatial_information_content': 1.2194517187141143, 'sparsity': 0.37237541813562314, 'selectivity': 17.268876791282832, 'peak_rate': 48.032910461762796, 'mean_rate': 2.98509435894117}, {'spatial_information_rate': 3.338069383671902, 'spatial_information_content': 1.2052842898692484, 'sparsity': 0.39989112207805666, 'selectivity': 39.72136848946946, 'peak_rate': 110.00946842726354, 'mean_rate': 3.2401179027901357}, {'spatial_information_rate': 3.0313007559928664, 'spatial_information_content': 1.1272377625249013, 'sparsity': 0.41714133018019883, 'selectivity': 81.60633193304072, 'peak_rate': 219.45089483902603, 'mean_rate': 2.7243732479206}, {'spatial_information_rate': 2.900416679865962, 'spatial_information_content': 1.1384000457492287, 'sparsity': 0.4148269579399261, 'selectivity': 11.062997708255915, 'peak_rate': 28.186315699966762, 'mean_rate': 2.2182053147888814}, {'spatial_information_rate': 2.6451988962768636, 'spatial_information_content': 1.1005289049304603, 'sparsity': 0.41397587641899425, 'selectivity': 29.30499290853966, 'peak_rate': 70.43661874739088, 'mean_rate': 3.2861710816965672}, {'spatial_information_rate': 3.7458689900004476, 'spatial_information_content': 1.5166405132421887, 'sparsity': 0.3078045546285479, 'selectivity': 7.862120276533419, 'peak_rate': 19.41822883035263, 'mean_rate': 2.4656220180885047}, {'spatial_information_rate': 3.175195413083891, 'spatial_information_content': 1.4257672055011121, 'sparsity': 0.321010338695972, 'selectivity': 16.588743878613688, 'peak_rate': 36.94327045044141, 'mean_rate': 2.981712204534621}, {'spatial_information_rate': 3.0310472299624616, 'spatial_information_content': 1.1602136256409907, 'sparsity': 0.3781345328918467, 'selectivity': 7.649745364944829, 'peak_rate': 19.984888115345203, 'mean_rate': 2.061729303366917}, {'spatial_information_rate': 2.815591038578318, 'spatial_information_content': 1.1280544425648, 'sparsity': 0.39646179410094123, 'selectivity': 48.3245448443861, 'peak_rate': 120.61665667294562, 'mean_rate': 3.7722680989912}, {'spatial_information_rate': 3.6424239538958068, 'spatial_information_content': 1.3793781677164407, 'sparsity': 0.3272610645493644, 'selectivity': 32.78517543486341, 'peak_rate': 86.57343659014005, 'mean_rate': 4.597612086861659}, {'spatial_information_rate': 3.1830886213544103, 'spatial_information_content': 1.2206092962501665, 'sparsity': 0.391098947762486, 'selectivity': 11.572847565265967, 'peak_rate': 30.17951732371313, 'mean_rate': 2.3051690645185605}, {'spatial_information_rate': 1.972772217364987, 'spatial_information_content': 0.7943263602749769, 'sparsity': 0.560201247280459, 'selectivity': 31.67889927911233, 'peak_rate': 78.67704699224906, 'mean_rate': 2.1451966624082344}, {'spatial_information_rate': 2.7482412118256745, 'spatial_information_content': 1.0991272043024367, 'sparsity': 0.4160480505771085, 'selectivity': 26.579569159410216, 'peak_rate': 66.45915692972164, 'mean_rate': 1.8675964592286238}, {'spatial_information_rate': 2.627490312531826, 'spatial_information_content': 1.1466281439664288, 'sparsity': 0.40640934420462693, 'selectivity': 86.00102598497041, 'peak_rate': 197.0707450644291, 'mean_rate': 2.501528017984156}, {'spatial_information_rate': 3.9188040155276056, 'spatial_information_content': 1.4946472634710573, 'sparsity': 0.2666916752363754, 'selectivity': 13.193286547340119, 'peak_rate': 34.59137521160287, 'mean_rate': 3.8133152739653053}, {'spatial_information_rate': 2.628290471531833, 'spatial_information_content': 1.0346702957677676, 'sparsity': 0.41655476042973, 'selectivity': 9.421868097769622, 'peak_rate': 23.93362044575001, 'mean_rate': 2.178076176561932}, {'spatial_information_rate': 3.1236915977227113, 'spatial_information_content': 1.2568657912060663, 'sparsity': 0.36321573511881494, 'selectivity': 9.79864170967524, 'peak_rate': 24.352587994488267, 'mean_rate': 2.6441069330224627}, {'spatial_information_rate': 3.629174480814539, 'spatial_information_content': 1.4666418088167332, 'sparsity': 0.2869106529321639, 'selectivity': 22.874625324104745, 'peak_rate': 56.60278193720057, 'mean_rate': 4.526437962220531}, {'spatial_information_rate': 4.716159117165294, 'spatial_information_content': 1.433578790880422, 'sparsity': 0.27809720147700834, 'selectivity': 15.536733600057714, 'peak_rate': 51.11243852448461, 'mean_rate': 3.2125677179230485}, {'spatial_information_rate': 3.9864246992238903, 'spatial_information_content': 1.3533591571273524, 'sparsity': 0.33847538761278845, 'selectivity': 7.931781598875646, 'peak_rate': 23.363679854003465, 'mean_rate': 2.3983584916360217}, {'spatial_information_rate': 4.036943599040133, 'spatial_information_content': 1.4324653299697256, 'sparsity': 0.32114728488233407, 'selectivity': 27.100007232302865, 'peak_rate': 76.37266916100405, 'mean_rate': 2.2304386583736227}, {'spatial_information_rate': 3.3924953098026114, 'spatial_information_content': 1.1849935265293163, 'sparsity': 0.3497876381862335, 'selectivity': 11.960376666536432, 'peak_rate': 34.24113367398519, 'mean_rate': 2.3102110171300603}, {'spatial_information_rate': 2.878491276188614, 'spatial_information_content': 1.134931905941554, 'sparsity': 0.41395710815881914, 'selectivity': 71.62869904582031, 'peak_rate': 181.66956471021211, 'mean_rate': 2.6650817929805672}, {'spatial_information_rate': 2.5447724565581153, 'spatial_information_content': 1.0065756336695728, 'sparsity': 0.43654510543098907, 'selectivity': 38.851679569746295, 'peak_rate': 98.22280686417601, 'mean_rate': 3.88383659744916}, {'spatial_information_rate': 3.0886925539738206, 'spatial_information_content': 1.3099695445839674, 'sparsity': 0.3189370563451047, 'selectivity': 21.630725047884663, 'peak_rate': 51.00168906115656, 'mean_rate': 2.6498760233847296}, {'spatial_information_rate': 2.9566652427610913, 'spatial_information_content': 1.1245261148370511, 'sparsity': 0.3709622520416455, 'selectivity': 15.957257846166371, 'peak_rate': 41.95569050912922, 'mean_rate': 2.3700394678708876}, {'spatial_information_rate': 2.525161390484524, 'spatial_information_content': 1.107881202186656, 'sparsity': 0.4148300539256929, 'selectivity': 21.03371204104408, 'peak_rate': 47.94152788203493, 'mean_rate': 2.576564090637441}, {'spatial_information_rate': 3.2478187348015712, 'spatial_information_content': 1.2497142471880751, 'sparsity': 0.3456522221115908, 'selectivity': 19.57618326947923, 'peak_rate': 50.875546087101064, 'mean_rate': 1.977043531431518}, {'spatial_information_rate': 4.634835006410302, 'spatial_information_content': 1.7295170845657972, 'sparsity': 0.20728172048305538, 'selectivity': 75.71504677527727, 'peak_rate': 202.90447110220381, 'mean_rate': 4.947503359534422}, {'spatial_information_rate': 4.851140638898057, 'spatial_information_content': 1.4564907905192284, 'sparsity': 0.30629389022076786, 'selectivity': 38.38622148639756, 'peak_rate': 127.85316614327509, 'mean_rate': 3.332713117579574}, {'spatial_information_rate': 2.7376645101118218, 'spatial_information_content': 1.1485146897273082, 'sparsity': 0.3645239186550337, 'selectivity': 70.8977017401357, 'peak_rate': 168.99576787176002, 'mean_rate': 4.350492560319761}, {'spatial_information_rate': 4.627097436088598, 'spatial_information_content': 1.6544858111817515, 'sparsity': 0.21854074689338748, 'selectivity': 18.241373111326126, 'peak_rate': 51.015614750944785, 'mean_rate': 3.5691831815263937}, {'spatial_information_rate': 2.86566255846324, 'spatial_information_content': 1.2650603039306907, 'sparsity': 0.3756075888001957, 'selectivity': 41.500127572875556, 'peak_rate': 94.00766223358869, 'mean_rate': 3.3965323226834307}, {'spatial_information_rate': 2.8845321994472704, 'spatial_information_content': 1.0945374114345914, 'sparsity': 0.4149784518602524, 'selectivity': 58.92765620244972, 'peak_rate': 155.29731554002953, 'mean_rate': 3.554487388931862}, {'spatial_information_rate': 2.5494123660761665, 'spatial_information_content': 1.1024764307211343, 'sparsity': 0.4011489268547668, 'selectivity': 12.81357325406145, 'peak_rate': 29.630639891466355, 'mean_rate': 2.7504587092026798}, {'spatial_information_rate': 3.5323009575204884, 'spatial_information_content': 1.298403967208392, 'sparsity': 0.30202599191549284, 'selectivity': 46.53574103639384, 'peak_rate': 126.60023134032596, 'mean_rate': 3.6741085608851702}, {'spatial_information_rate': 3.4176483617195297, 'spatial_information_content': 1.2592816756408156, 'sparsity': 0.33332627373493534, 'selectivity': 10.184727732510712, 'peak_rate': 27.641010524402258, 'mean_rate': 2.204703385760369}, {'spatial_information_rate': 2.424398588031131, 'spatial_information_content': 0.9954117663227614, 'sparsity': 0.4732579475978228, 'selectivity': 31.191004805836325, 'peak_rate': 75.96798688636585, 'mean_rate': 2.736607052981294}, {'spatial_information_rate': 4.563612593524951, 'spatial_information_content': 1.5140426783765921, 'sparsity': 0.2344766094759606, 'selectivity': 16.36309866686436, 'peak_rate': 49.32149153500906, 'mean_rate': 2.0536252313812065}, {'spatial_information_rate': 4.051666500519982, 'spatial_information_content': 1.3681252778816484, 'sparsity': 0.33355708308967336, 'selectivity': 8.451524693312024, 'peak_rate': 25.028964841019448, 'mean_rate': 2.415785617331175}, {'spatial_information_rate': 2.203917522064983, 'spatial_information_content': 0.9821574669336308, 'sparsity': 0.4496934442134622, 'selectivity': 13.996149732467279, 'peak_rate': 31.406735350833713, 'mean_rate': 2.3945545193829}, {'spatial_information_rate': 4.557117171733059, 'spatial_information_content': 1.5641400581673979, 'sparsity': 0.2550822819477444, 'selectivity': 72.73657677498724, 'peak_rate': 211.91778914142466, 'mean_rate': 4.853799478332043}, {'spatial_information_rate': 4.596011424920818, 'spatial_information_content': 1.5197033196433518, 'sparsity': 0.23298699038544599, 'selectivity': 16.459424324320572, 'peak_rate': 49.77794103914321, 'mean_rate': 2.087896980741801}, {'spatial_information_rate': 3.077728739097603, 'spatial_information_content': 1.1468666026555543, 'sparsity': 0.3832023982036686, 'selectivity': 22.25809247523626, 'peak_rate': 59.731768917070035, 'mean_rate': 2.212775960787892}, {'spatial_information_rate': 2.585232042704987, 'spatial_information_content': 1.0876512983420905, 'sparsity': 0.363273701492767, 'selectivity': 18.883226505583757, 'peak_rate': 44.88343121210255, 'mean_rate': 3.408558407223562}, {'spatial_information_rate': 3.407905841060396, 'spatial_information_content': 1.325884230707213, 'sparsity': 0.3390528732109608, 'selectivity': 18.585035022877225, 'peak_rate': 47.76891371352424, 'mean_rate': 2.883444250398825}, {'spatial_information_rate': 3.0694703861629096, 'spatial_information_content': 1.2058368175626568, 'sparsity': 0.33837504863260703, 'selectivity': 11.408038574784007, 'peak_rate': 29.039282977179557, 'mean_rate': 2.9933607300070433}, {'spatial_information_rate': 3.7356185226799217, 'spatial_information_content': 1.5209047227783568, 'sparsity': 0.2797219761562395, 'selectivity': 15.530219111662927, 'peak_rate': 38.14504176752454, 'mean_rate': 2.61245233685145}, {'spatial_information_rate': 3.2715171202704587, 'spatial_information_content': 1.335248160893115, 'sparsity': 0.33499381811684337, 'selectivity': 9.190709737608701, 'peak_rate': 22.51833414540097, 'mean_rate': 2.351356663226581}, {'spatial_information_rate': 2.840119123552908, 'spatial_information_content': 1.1428334679445262, 'sparsity': 0.4253581493103379, 'selectivity': 7.077584269592227, 'peak_rate': 17.58889899223869, 'mean_rate': 2.530024805658763}, {'spatial_information_rate': 2.920075110495169, 'spatial_information_content': 1.1394437917007056, 'sparsity': 0.37131187636652363, 'selectivity': 28.00289279064149, 'peak_rate': 71.7635664483003, 'mean_rate': 2.9082326154166687}, {'spatial_information_rate': 2.2314348049919364, 'spatial_information_content': 0.9058545978263568, 'sparsity': 0.4797222960060213, 'selectivity': 70.98379500839198, 'peak_rate': 174.85776542087123, 'mean_rate': 3.1480130077221697}, {'spatial_information_rate': 2.505205398389026, 'spatial_information_content': 1.0085538199432853, 'sparsity': 0.44993750299483126, 'selectivity': 16.198261853671607, 'peak_rate': 40.23580322428316, 'mean_rate': 3.4176676233527887}, {'spatial_information_rate': 5.294236798044889, 'spatial_information_content': 1.5489169357318282, 'sparsity': 0.2843467525213606, 'selectivity': 34.76725342598509, 'peak_rate': 118.8353411397335, 'mean_rate': 3.396761549233216}, {'spatial_information_rate': 2.2652774686493955, 'spatial_information_content': 0.938576008852681, 'sparsity': 0.45838075580345267, 'selectivity': 28.384129628973326, 'peak_rate': 68.50583086428455, 'mean_rate': 2.4157777111818675}, {'spatial_information_rate': 3.262550796684851, 'spatial_information_content': 1.296707517429556, 'sparsity': 0.32636819161339065, 'selectivity': 14.219370872363758, 'peak_rate': 35.77631743814424, 'mean_rate': 2.3427520166235816}, {'spatial_information_rate': 2.5705317861652777, 'spatial_information_content': 1.0052376313272489, 'sparsity': 0.4236638432113592, 'selectivity': 9.34698188123371, 'peak_rate': 23.901526645693618, 'mean_rate': 2.274742632703595}, {'spatial_information_rate': 1.9829024756115463, 'spatial_information_content': 0.8808875189730168, 'sparsity': 0.5052318754400597, 'selectivity': 7.831014367452289, 'peak_rate': 17.6278326589009, 'mean_rate': 2.7412430107725467}, {'spatial_information_rate': 4.5908437070060915, 'spatial_information_content': 1.5887170239568793, 'sparsity': 0.2574332091104145, 'selectivity': 59.74301706370604, 'peak_rate': 172.636693500879, 'mean_rate': 4.345311376774663}, {'spatial_information_rate': 2.379549018661498, 'spatial_information_content': 1.0372424449349196, 'sparsity': 0.4464302322420622, 'selectivity': 11.085955000461931, 'peak_rate': 25.432408277439773, 'mean_rate': 2.7533734614956424}, {'spatial_information_rate': 2.7848656346104272, 'spatial_information_content': 1.037744244228805, 'sparsity': 0.39209088162626726, 'selectivity': 60.86202346606797, 'peak_rate': 163.32787056743805, 'mean_rate': 4.278312262716224}, {'spatial_information_rate': 2.6067927925873233, 'spatial_information_content': 1.0171098640939282, 'sparsity': 0.4204258507900017, 'selectivity': 29.49929768939271, 'peak_rate': 75.60496591152453, 'mean_rate': 3.0293001940557933}, {'spatial_information_rate': 5.334274514956788, 'spatial_information_content': 1.7084117271637582, 'sparsity': 0.19382007826042352, 'selectivity': 61.186631944562144, 'peak_rate': 191.04662315785737, 'mean_rate': 3.8200039865475057}, {'spatial_information_rate': 3.4010661450378517, 'spatial_information_content': 1.1813679690441108, 'sparsity': 0.3761450041279783, 'selectivity': 8.044826269286759, 'peak_rate': 23.160426712196337, 'mean_rate': 1.8095952095673633}, {'spatial_information_rate': 2.432135052899259, 'spatial_information_content': 0.9645464591352497, 'sparsity': 0.46797517935113814, 'selectivity': 4.807550456653154, 'peak_rate': 12.122393767005086, 'mean_rate': 1.7695874153348123}, {'spatial_information_rate': 4.000031315394129, 'spatial_information_content': 1.529113068269883, 'sparsity': 0.2598988403381354, 'selectivity': 48.04528214642826, 'peak_rate': 125.68242148378522, 'mean_rate': 4.468369125513897}, {'spatial_information_rate': 3.246590665540285, 'spatial_information_content': 1.2226766530723543, 'sparsity': 0.3775948194405186, 'selectivity': 12.460801366160338, 'peak_rate': 33.08734267467342, 'mean_rate': 3.2363234765941096}, {'spatial_information_rate': 2.3405526390186386, 'spatial_information_content': 0.8988940543255053, 'sparsity': 0.4386993877492073, 'selectivity': 25.60018384778573, 'peak_rate': 66.65810901292228, 'mean_rate': 2.250520383665486}, {'spatial_information_rate': 3.5697766135879396, 'spatial_information_content': 1.3709443349785995, 'sparsity': 0.32568884415962257, 'selectivity': 31.508954268946354, 'peak_rate': 82.04558361565599, 'mean_rate': 2.431187380528736}, {'spatial_information_rate': 4.389882232895449, 'spatial_information_content': 1.5524047340713505, 'sparsity': 0.2577949252958021, 'selectivity': 123.88605218405674, 'peak_rate': 350.32434999090464, 'mean_rate': 4.008567348908396}, {'spatial_information_rate': 2.431407262099183, 'spatial_information_content': 0.9988393470145803, 'sparsity': 0.4713745610051794, 'selectivity': 29.80326949527849, 'peak_rate': 72.54808904125139, 'mean_rate': 2.7277039964703023}, {'spatial_information_rate': 3.863948724730866, 'spatial_information_content': 1.4386574174267928, 'sparsity': 0.27404793276076406, 'selectivity': 15.959180961793242, 'peak_rate': 42.863197435401965, 'mean_rate': 2.8921955622600812}, {'spatial_information_rate': 2.587767165795271, 'spatial_information_content': 1.058797585000748, 'sparsity': 0.37678854709270093, 'selectivity': 9.12533338009701, 'peak_rate': 22.30288247015027, 'mean_rate': 2.71735001700905}, {'spatial_information_rate': 3.516535842575303, 'spatial_information_content': 1.355712524947425, 'sparsity': 0.33681516357022867, 'selectivity': 25.197613355907908, 'peak_rate': 65.3592180369069, 'mean_rate': 2.062726353088372}, {'spatial_information_rate': 3.4143383515716277, 'spatial_information_content': 1.359549988788888, 'sparsity': 0.2953666398922828, 'selectivity': 50.97604690256163, 'peak_rate': 128.0199134906225, 'mean_rate': 4.013863680748884}, {'spatial_information_rate': 2.280993660042617, 'spatial_information_content': 0.9619933902519362, 'sparsity': 0.44289569430970543, 'selectivity': 51.40342501509932, 'peak_rate': 121.88325590595879, 'mean_rate': 4.1087307185635815}, {'spatial_information_rate': 4.249576880773561, 'spatial_information_content': 1.5652597113085307, 'sparsity': 0.27036906166953273, 'selectivity': 42.1359303556015, 'peak_rate': 114.39627187449807, 'mean_rate': 2.776501642067738}, {'spatial_information_rate': 5.34940959615848, 'spatial_information_content': 1.4797652094623668, 'sparsity': 0.2655212505438635, 'selectivity': 34.09592891028966, 'peak_rate': 123.25812780049648, 'mean_rate': 4.55582512613063}, {'spatial_information_rate': 4.323456121874482, 'spatial_information_content': 1.6792034144193684, 'sparsity': 0.22671270188269652, 'selectivity': 159.45818608767917, 'peak_rate': 410.55804490616754, 'mean_rate': 3.6023115604071316}, {'spatial_information_rate': 5.50628662439401, 'spatial_information_content': 1.746493200767827, 'sparsity': 0.19292117644585377, 'selectivity': 60.596249488305865, 'peak_rate': 191.04587289501654, 'mean_rate': 3.8240141061075708}, {'spatial_information_rate': 2.0975986037738963, 'spatial_information_content': 0.7935572274760504, 'sparsity': 0.5493324911862028, 'selectivity': 5.225729866927496, 'peak_rate': 13.813097900236167, 'mean_rate': 2.2884575801560088}, {'spatial_information_rate': 2.9402417035519925, 'spatial_information_content': 1.0764778327260762, 'sparsity': 0.4184288807848765, 'selectivity': 64.38092956793928, 'peak_rate': 175.84708971640043, 'mean_rate': 3.8499342453596834}, {'spatial_information_rate': 2.057052215200816, 'spatial_information_content': 0.8194537294031364, 'sparsity': 0.5298481317735018, 'selectivity': 6.027562800777023, 'peak_rate': 15.13082553255502, 'mean_rate': 2.0093836264184106}, {'spatial_information_rate': 2.8697234843136874, 'spatial_information_content': 1.2547850798700462, 'sparsity': 0.36573296071685524, 'selectivity': 34.100538035698236, 'peak_rate': 77.98874596031243, 'mean_rate': 2.8971734810460115}, {'spatial_information_rate': 2.732685022192003, 'spatial_information_content': 1.1175799399070323, 'sparsity': 0.3849787805018187, 'selectivity': 19.688174891657297, 'peak_rate': 48.141147420026286, 'mean_rate': 2.7072685647555517}, {'spatial_information_rate': 3.1375578550477212, 'spatial_information_content': 1.2169495372476895, 'sparsity': 0.3202419506526579, 'selectivity': 44.82937529069639, 'peak_rate': 115.57977900901143, 'mean_rate': 3.658041070373039}, {'spatial_information_rate': 3.2323575912997353, 'spatial_information_content': 1.386195364506957, 'sparsity': 0.27855979963187055, 'selectivity': 70.76595230327774, 'peak_rate': 165.0134382136053, 'mean_rate': 4.9637429428579685}, {'spatial_information_rate': 2.779387509787463, 'spatial_information_content': 1.1205714560782094, 'sparsity': 0.4110988343032853, 'selectivity': 16.19039347143649, 'peak_rate': 40.15752600958129, 'mean_rate': 2.6606873632192833}, {'spatial_information_rate': 2.4073998356149486, 'spatial_information_content': 1.0573791011139424, 'sparsity': 0.43900426659969644, 'selectivity': 27.592520423161783, 'peak_rate': 62.821583158719676, 'mean_rate': 2.507150136560773}, {'spatial_information_rate': 3.7083182675688477, 'spatial_information_content': 1.4864374992629557, 'sparsity': 0.287162434916456, 'selectivity': 20.667404009137677, 'peak_rate': 51.56039986095156, 'mean_rate': 3.209329184165404}, {'spatial_information_rate': 3.3986664073628314, 'spatial_information_content': 1.2118547163779625, 'sparsity': 0.36923941742542143, 'selectivity': 26.37701748776254, 'peak_rate': 73.97477771099486, 'mean_rate': 3.0759638925620694}, {'spatial_information_rate': 2.9154351368550864, 'spatial_information_content': 1.1935235248511755, 'sparsity': 0.38252524589019327, 'selectivity': 17.197419656761486, 'peak_rate': 42.00835633869609, 'mean_rate': 2.857233963364158}], 'rms_split': [masked_array(\n",
      "  data=[[5.085047868128849, 5.033441015392866, 5.428000352894189, ...,\n",
      "         0.006217686481228631, 0.0013251616052485002,\n",
      "         0.00027184543207220717],\n",
      "        [6.809770722529268, 6.460446347607116, 6.496614486455271, ...,\n",
      "         0.006017614747416952, 0.001290266023233086,\n",
      "         0.0002603024187231647],\n",
      "        [10.127923955986605, 9.258563113047376, 8.664773004914014, ...,\n",
      "         0.00589998232277596, 0.0012555522167833422,\n",
      "         0.00024375163151365656],\n",
      "        ...,\n",
      "        [1.5186369596573453e-09, 1.958997487151437e-09,\n",
      "         2.795785541093069e-09, ..., 0.0, 0.0, 0.0],\n",
      "        [0.0, 0.0, 0.0, ..., 0.0, 0.0, 0.0],\n",
      "        [0.0, 0.0, 0.0, ..., 0.0, 0.0, 0.0]],\n",
      "  mask=[[False, False, False, ..., False, False, False],\n",
      "        [False, False, False, ..., False, False, False],\n",
      "        [False, False, False, ..., False, False, False],\n",
      "        ...,\n",
      "        [False, False, False, ..., False, False, False],\n",
      "        [False, False, False, ..., False, False, False],\n",
      "        [False, False, False, ..., False, False, False]],\n",
      "  fill_value=1e+20), masked_array(\n",
      "  data=[[2.046883058134405, 2.392818539433838, 3.1710945733915135, ...,\n",
      "         0.0, 0.0, 0.0],\n",
      "        [2.5647535054100383, 2.8012979314907374, 3.428048475510229, ...,\n",
      "         0.0, 0.0, 0.0],\n",
      "        [3.661192413364908, 3.70046052713159, 4.054918022363379, ...,\n",
      "         0.0, 0.0, 0.0],\n",
      "        ...,\n",
      "        [1.187666255998027e-06, 1.1631417168300616e-06,\n",
      "         1.24693695038142e-06, ..., 0.0, 0.0, 0.0],\n",
      "        [6.245859345891887e-08, 5.414931757600277e-08,\n",
      "         4.87795019957413e-08, ..., 0.0, 0.0, 0.0],\n",
      "        [0.0, 0.0, 0.0, ..., 0.0, 0.0, 0.0]],\n",
      "  mask=[[False, False, False, ..., False, False, False],\n",
      "        [False, False, False, ..., False, False, False],\n",
      "        [False, False, False, ..., False, False, False],\n",
      "        ...,\n",
      "        [False, False, False, ..., False, False, False],\n",
      "        [False, False, False, ..., False, False, False],\n",
      "        [False, False, False, ..., False, False, False]],\n",
      "  fill_value=1e+20)], 'rms_all': [masked_array(\n",
      "  data=[[7.131931040638813, 7.426259670480848, 8.599095052362308, ...,\n",
      "         0.006217686481228631, 0.0013251616052485002,\n",
      "         0.00027184543207220717],\n",
      "        [9.374524355666962, 9.261744403042876, 9.924663089455118, ...,\n",
      "         0.006017614747416952, 0.001290266023233086,\n",
      "         0.0002603024187231647],\n",
      "        [13.789116504088483, 12.959023766916705, 12.71969115070013, ...,\n",
      "         0.00589998232277596, 0.0012555522167833422,\n",
      "         0.00024375163151365656],\n",
      "        ...,\n",
      "        [1.189184905185557e-06, 1.1651007285691693e-06,\n",
      "         1.2497327542407538e-06, ..., 0.0, 0.0, 0.0],\n",
      "        [6.245859345891887e-08, 5.414931757600277e-08,\n",
      "         4.87795019957413e-08, ..., 0.0, 0.0, 0.0],\n",
      "        [0.0, 0.0, 0.0, ..., 0.0, 0.0, 0.0]],\n",
      "  mask=[[False, False, False, ..., False, False, False],\n",
      "        [False, False, False, ..., False, False, False],\n",
      "        [False, False, False, ..., False, False, False],\n",
      "        ...,\n",
      "        [False, False, False, ..., False, False, False],\n",
      "        [False, False, False, ..., False, False, False],\n",
      "        [False, False, False, ..., False, False, False]],\n",
      "  fill_value=1e+20)], 'fields_map_all': [array([[0., 0., 0., ..., 0., 0., 0.],\n",
      "       [0., 0., 0., ..., 0., 0., 0.],\n",
      "       [0., 0., 0., ..., 0., 0., 0.],\n",
      "       ...,\n",
      "       [0., 0., 0., ..., 0., 0., 0.],\n",
      "       [0., 0., 0., ..., 0., 0., 0.],\n",
      "       [0., 0., 0., ..., 0., 0., 0.]])]}\n"
     ]
    }
   ],
   "source": [
    "d = np.load('/media/cat/4TB/donato/nathalie/DON-007050/FS1/place_cells.npy',\n",
    "            allow_pickle=True)\n",
    "print (d[0])"
   ]
  },
  {
   "cell_type": "code",
   "execution_count": null,
   "id": "3137237f-735e-4e54-8acb-82d8e374f1cc",
   "metadata": {},
   "outputs": [],
   "source": []
  },
  {
   "cell_type": "code",
   "execution_count": null,
   "id": "522dc938-4be5-4042-aceb-fad070d0d167",
   "metadata": {},
   "outputs": [],
   "source": []
  },
  {
   "cell_type": "code",
   "execution_count": null,
   "id": "d7ce2a8f-01bb-451e-99d6-f138ed023617",
   "metadata": {},
   "outputs": [],
   "source": []
  },
  {
   "cell_type": "code",
   "execution_count": null,
   "id": "984de82f-fdbf-4bf6-a4f4-924eccafb31b",
   "metadata": {},
   "outputs": [],
   "source": []
  },
  {
   "cell_type": "code",
   "execution_count": null,
   "id": "51502cee-c946-4e37-b37c-3003611d9567",
   "metadata": {},
   "outputs": [],
   "source": []
  }
 ],
 "metadata": {
  "kernelspec": {
   "display_name": "Python 3",
   "language": "python",
   "name": "python3"
  },
  "language_info": {
   "codemirror_mode": {
    "name": "ipython",
    "version": 3
   },
   "file_extension": ".py",
   "mimetype": "text/x-python",
   "name": "python",
   "nbconvert_exporter": "python",
   "pygments_lexer": "ipython3",
   "version": "3.8.15"
  }
 },
 "nbformat": 4,
 "nbformat_minor": 5
}
