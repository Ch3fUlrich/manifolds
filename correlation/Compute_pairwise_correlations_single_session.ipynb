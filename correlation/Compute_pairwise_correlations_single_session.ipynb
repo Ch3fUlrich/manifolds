{
 "cells": [
  {
   "cell_type": "code",
   "execution_count": 1,
   "id": "8f98c6b4-4a90-4f64-adae-4ce2b75e4d57",
   "metadata": {},
   "outputs": [
    {
     "data": {
      "application/javascript": [
       "IPython.notebook.set_autosave_interval(180000)"
      ]
     },
     "metadata": {},
     "output_type": "display_data"
    },
    {
     "name": "stdout",
     "output_type": "stream",
     "text": [
      "Autosaving every 180 seconds\n"
     ]
    },
    {
     "name": "stderr",
     "output_type": "stream",
     "text": [
      "<ipython-input-1-e4476ecac24a>:12: DeprecationWarning: Importing display from IPython.core.display is deprecated since IPython 7.14, please import from IPython display\n",
      "  from IPython.core.display import display, HTML\n"
     ]
    },
    {
     "data": {
      "text/html": [
       "<style>.container { width:100% !important; }</style>"
      ],
      "text/plain": [
       "<IPython.core.display.HTML object>"
      ]
     },
     "metadata": {},
     "output_type": "display_data"
    },
    {
     "name": "stderr",
     "output_type": "stream",
     "text": [
      "/home/cat/.conda/envs/donato/lib/python3.8/site-packages/tqdm/auto.py:22: TqdmWarning: IProgress not found. Please update jupyter and ipywidgets. See https://ipywidgets.readthedocs.io/en/stable/user_install.html\n",
      "  from .autonotebook import tqdm as notebook_tqdm\n"
     ]
    }
   ],
   "source": [
    "import matplotlib\n",
    "%matplotlib tk\n",
    "%autosave 180\n",
    "%load_ext autoreload\n",
    "%autoreload 2\n",
    "\n",
    "import nest_asyncio\n",
    "%config Completer.use_jedi = False\n",
    "\n",
    "#\n",
    "import matplotlib.pyplot as plt\n",
    "from IPython.core.display import display, HTML\n",
    "display(HTML(\"<style>.container { width:100% !important; }</style>\"))\n",
    "\n",
    "# \n",
    "import numpy as np\n",
    "import os\n",
    "import scipy\n",
    "\n",
    "# add root directory to be able to import packages\n",
    "# todo: make all packages installable so they can be called/imported by environment\n",
    "import sys\n",
    "module_path = os.path.abspath(os.path.join('..'))\n",
    "sys.path.append(module_path)\n",
    "\n",
    "from utils.calcium import calcium\n"
   ]
  },
  {
   "cell_type": "code",
   "execution_count": 4,
   "id": "28da3655-1a7f-43c0-ba3b-f42276c20e6f",
   "metadata": {},
   "outputs": [
    {
     "name": "stdout",
     "output_type": "stream",
     "text": [
      "PRocessing:  DON-009192\n",
      "processing:  20220310\n",
      "pre clean corr array:  (778, 778, 2)\n",
      "clean cell ids:  (612,)\n",
      "pre clean corr array:  (612, 612)\n",
      "DONE\n"
     ]
    }
   ],
   "source": [
    "############################################\n",
    "################# Load data ################\n",
    "############################################\n",
    "\n",
    "#\n",
    "def get_sessions_from_directory_listing(root_dir,\n",
    "                                       animal_id):\n",
    "    \n",
    "    sessions = os.listdir(root_dir+animal_id)\n",
    "    print (\"sessions: \", sessions)\n",
    "    \n",
    "    return sessions\n",
    "    \n",
    "#\n",
    "\n",
    "animal_ids = [\n",
    "    #'DON-009191',\n",
    "    'DON-009192',\n",
    "    #'DON-010473',\n",
    "    #'DON-010477'\n",
    "]\n",
    "              \n",
    "\n",
    "root_dir = '/media/cat/4TB/donato/'\n",
    "animal_id = animal_ids[0]\n",
    "dir_ = '/002P-F/tif/'\n",
    "\n",
    "\n",
    "session = '20220310'\n",
    "#sessions = get_sessions_from_directory_listing(root_dir,\n",
    "#                                              animal_id)\n",
    "\n",
    "print (\"PRocessing: \", animal_id)\n",
    "#\n",
    "#\n",
    "print (\"processing: \", session)\n",
    "c = calcium.Calcium()\n",
    "c.root_dir = root_dir\n",
    "c.data_dir = os.path.join(root_dir, animal_id, session+dir_, 'suite2p','plane0')\n",
    "c.animal_id = animal_id\n",
    "c.session = session\n",
    "c.detrend_model_order = 1\n",
    "\n",
    "#\n",
    "c.load_suite2p()\n",
    "c.save_python = True\n",
    "c.save_matlab = False\n",
    "\n",
    "# \n",
    "c.load_binarization()\n",
    "binarization_method = 'upphase'\n",
    "if binarization_method=='onphase':\n",
    "    traces = c.F_onphase_bin\n",
    "elif binarization_method=='upphase':\n",
    "    traces = c.F_upphase_bin\n",
    "else:\n",
    "    print (\"METHOD NOT FOUND\")\n",
    "\n",
    "# print (\"binarized data: \", traces.shape)\n",
    "\n",
    "###################################################################\n",
    "########## cleanup cells + compute pairwise correlations ##########\n",
    "###################################################################\n",
    "c.load_footprints()\n",
    "c.deduplication_method = 'overlap'      # 'overlap'; 'centre_distance'\n",
    "c.corr_min_distance = 8                 # min distance for centre_distance method - NOT USED HERE\n",
    "c.corr_max_percent_overlap = 0.25       # max overlap for overlap method\n",
    "c.corr_threshold = 0.3                  # max correlation allowed for high overlap\n",
    "\n",
    "#  \n",
    "c.corr_delete_method = 'lowest_snr' #'highest_connected', lowest_snr'\n",
    "c.recompute_deduplication = False\n",
    "\n",
    "#\n",
    "c.correlation_datatype = 'filtered'      # filtered vs. upphase\n",
    "\n",
    "#\n",
    "c.compute_correlations()\n",
    "\n",
    "#\n",
    "c.remove_duplicate_neurons()     # this removes duplicate neurons and saves non-duplicate version of correlation array\n",
    "\n",
    "#\n",
    "print (\"DONE\")\n"
   ]
  },
  {
   "cell_type": "code",
   "execution_count": 5,
   "id": "02694f74-069d-4eaf-92b1-f90764494524",
   "metadata": {},
   "outputs": [
    {
     "name": "stdout",
     "output_type": "stream",
     "text": [
      "(778, 111598)\n"
     ]
    }
   ],
   "source": []
  },
  {
   "cell_type": "code",
   "execution_count": 29,
   "id": "35e05322-977e-4ac8-987d-a6c495156939",
   "metadata": {},
   "outputs": [
    {
     "name": "stderr",
     "output_type": "stream",
     "text": [
      "100%|██████████| 778/778 [01:07<00:00, 11.49it/s] \n"
     ]
    }
   ],
   "source": [
    "from tqdm import tqdm, trange\n",
    "\n",
    "\n",
    "corrs = np.zeros((F_filtered.shape[0], F_filtered.shape[0], 2))\n",
    "corrs_clipped = np.zeros((F_filtered.shape[0], F_filtered.shape[0], 2))\n",
    "\n",
    "#\n",
    "for k in trange(F_filtered.shape[0]): #,desc='computing intercell correlation'):\n",
    "    temp1 = F_filtered[k][::5]\n",
    "    temp1 = temp1 - np.median(temp1)\n",
    "    #\n",
    "    for p in range(k, F_filtered.shape[0],1):\n",
    "        temp2 = F_filtered[p][::5]\n",
    "        temp2 = temp2 - np.median(temp2)\n",
    "        corr = scipy.stats.pearsonr(temp1,\n",
    "                                    temp2)\n",
    "        corrs[k, p, 0] = corr[0]\n",
    "        corrs[k, p, 1] = corr[1]\n",
    "        \n",
    "        # corr = scipy.stats.pearsonr(temp1[300:],\n",
    "        #                             temp2[300:])\n",
    "        # corrs_clipped[k, p, 0] = corr[0]\n",
    "        # corrs_clipped[k, p, 1] = corr[1]"
   ]
  },
  {
   "cell_type": "code",
   "execution_count": 30,
   "id": "cdae763c-ff3c-476a-894f-e511bbf26504",
   "metadata": {},
   "outputs": [
    {
     "name": "stdout",
     "output_type": "stream",
     "text": [
      "(778, 778, 2)\n"
     ]
    }
   ],
   "source": [
    "\n",
    "print (corrs.shape)\n",
    "\n",
    "plt.figure()\n",
    "ax=plt.subplot(121)\n",
    "plt.imshow(corrs[:,:,0])\n",
    "plt.colorbar()\n",
    "ax=plt.subplot(122)\n",
    "plt.title(\"clipped correlations\")\n",
    "plt.imshow(corrs_clipped[:,:,0])\n",
    "plt.colorbar()\n",
    "\n",
    "plt.show()"
   ]
  },
  {
   "cell_type": "code",
   "execution_count": 31,
   "id": "bef97ffa-565a-47c4-b316-33f53f11ef75",
   "metadata": {},
   "outputs": [],
   "source": [
    "from scipy.signal import savgol_filter\n",
    "\n",
    "from scipy.signal import butter, lfilter, freqz\n",
    "import matplotlib.pyplot as plt\n",
    "\n",
    "\n",
    "def butter_lowpass(cutoff, fs, order=5):\n",
    "    return butter(order, cutoff, fs=fs, btype='low', analog=False)\n",
    "\n",
    "def butter_lowpass_filter(data, cutoff, fs, order=5):\n",
    "    b, a = butter_lowpass(cutoff, fs, order=order)\n",
    "    y = lfilter(b, a, data)\n",
    "    return y\n",
    "\n",
    "\n",
    "#\n",
    "plt.figure()\n",
    "t = np.arange(F_filtered[0].shape[0])/30./60.\n",
    "for k in range(10):\n",
    "    plt.plot(t,F_filtered[k]+k*1000)\n",
    "    \n",
    "    y = F_filtered[k]\n",
    "    y = y - np.median(y)\n",
    "    \n",
    "    plt.plot(t, y +k*1000)\n",
    "    \n",
    "    \n",
    "plt.xlabel(\"Time (mins)\")\n",
    "plt.ylabel(\"Filtered [ca] time series\")\n",
    "plt.show()\n",
    "\n"
   ]
  },
  {
   "cell_type": "code",
   "execution_count": null,
   "id": "203b14cf-b492-4f5e-8734-e1a8c12ee138",
   "metadata": {},
   "outputs": [],
   "source": []
  },
  {
   "cell_type": "code",
   "execution_count": null,
   "id": "c6fa28ae-840f-49bd-900a-ed0e880e3141",
   "metadata": {},
   "outputs": [],
   "source": []
  },
  {
   "cell_type": "code",
   "execution_count": 30,
   "id": "a985448d-3e84-4323-86b8-50bbb64267b7",
   "metadata": {},
   "outputs": [
    {
     "name": "stdout",
     "output_type": "stream",
     "text": [
      "(237, 237, 2)\n",
      "(437, 437)\n"
     ]
    }
   ],
   "source": [
    "d1 = np.load('/media/cat/4TB1/donato/DON-009191/20220305/002P-F/tif/suite2p/plane0/allcell_correlation_array_filtered.npy')\n",
    "print (d1.shape)\n",
    "d2 = np.load('/media/cat/4TB1/donato/DON-009191/20220317/002P-F/tif/suite2p/plane0/goodcell_correlations_array_post_deduplication_filtered.npy')\n",
    "print (d2.shape)\n",
    "\n",
    "plt.figure()\n",
    "plt.imshow(d2)\n",
    "plt.colorbar()\n",
    "plt.show()"
   ]
  },
  {
   "cell_type": "code",
   "execution_count": 36,
   "id": "56ada45b-7404-4e1f-8aff-de0c520afccc",
   "metadata": {},
   "outputs": [
    {
     "name": "stderr",
     "output_type": "stream",
     "text": [
      "/home/cat/anaconda3/envs/manifolds/lib/python3.8/site-packages/seaborn/matrix.py:654: UserWarning: Clustering large matrix with scipy. Installing `fastcluster` may give better performance.\n",
      "  warnings.warn(msg)\n"
     ]
    },
    {
     "data": {
      "text/plain": [
       "<seaborn.matrix.ClusterGrid at 0x7f04eb3cecd0>"
      ]
     },
     "execution_count": 36,
     "metadata": {},
     "output_type": "execute_result"
    }
   ],
   "source": [
    "from scipy.spatial import distance\n",
    "from scipy.cluster import hierarchy\n",
    "import seaborn as sns\n",
    "\n",
    "row_linkage = hierarchy.linkage(\n",
    "    distance.pdist(d2), method='average')\n",
    "\n",
    "col_linkage = hierarchy.linkage(\n",
    "    distance.pdist(d2.T), method='average')\n",
    "\n",
    "cmap = sns.diverging_palette(h_neg=210, h_pos=350, s=90, l=30, as_cmap=True)\n",
    "\n",
    "#\n",
    "sns.clustermap(d2, \n",
    "               #row_linkage=row_linkage, \n",
    "               #col_linkage=col_linkage, \n",
    "               #row_colors=network_colors, \n",
    "               method=\"average\",\n",
    "               #col_colors=network_colors, \n",
    "               figsize=(13, 13), \n",
    "               cmap=cmap)\n",
    "\n"
   ]
  },
  {
   "cell_type": "code",
   "execution_count": 2,
   "id": "43ad3f9a-d623-4541-b683-d3e3b423c570",
   "metadata": {},
   "outputs": [
    {
     "ename": "FileNotFoundError",
     "evalue": "[Errno 2] No such file or directory: '/media/cat/4TB1/donato/DON-010477/20220513/002P-F/tif/suite2p/plane0/cell_correlations_filtered.npy'",
     "output_type": "error",
     "traceback": [
      "\u001b[0;31m---------------------------------------------------------------------------\u001b[0m",
      "\u001b[0;31mFileNotFoundError\u001b[0m                         Traceback (most recent call last)",
      "Cell \u001b[0;32mIn[2], line 6\u001b[0m\n\u001b[1;32m      1\u001b[0m \u001b[38;5;66;03m################################################\u001b[39;00m\n\u001b[1;32m      2\u001b[0m \u001b[38;5;66;03m################################################\u001b[39;00m\n\u001b[1;32m      3\u001b[0m \u001b[38;5;66;03m################################################\u001b[39;00m\n\u001b[1;32m      5\u001b[0m session \u001b[38;5;241m=\u001b[39m \u001b[38;5;124m'\u001b[39m\u001b[38;5;124m20220513\u001b[39m\u001b[38;5;124m'\u001b[39m\n\u001b[0;32m----> 6\u001b[0m data1 \u001b[38;5;241m=\u001b[39m \u001b[43mnp\u001b[49m\u001b[38;5;241;43m.\u001b[39;49m\u001b[43mload\u001b[49m\u001b[43m(\u001b[49m\u001b[38;5;124;43m'\u001b[39;49m\u001b[38;5;124;43m/media/cat/4TB1/donato/DON-010477/20220513/002P-F/tif/suite2p/plane0/cell_correlations_filtered.npy\u001b[39;49m\u001b[38;5;124;43m'\u001b[39;49m\u001b[43m)\u001b[49m\n\u001b[1;32m      7\u001b[0m data2 \u001b[38;5;241m=\u001b[39m np\u001b[38;5;241m.\u001b[39mload(\u001b[38;5;124m'\u001b[39m\u001b[38;5;124m/media/cat/4TB1/donato/DON-010477/20220513/002P-F/tif/suite2p/plane0/cell_correlations_upphase.npy\u001b[39m\u001b[38;5;124m'\u001b[39m)\n\u001b[1;32m      9\u001b[0m \u001b[38;5;28mprint\u001b[39m (data1\u001b[38;5;241m.\u001b[39mshape, data2\u001b[38;5;241m.\u001b[39mshape)\n",
      "File \u001b[0;32m~/.conda/envs/donato/lib/python3.8/site-packages/numpy/lib/npyio.py:390\u001b[0m, in \u001b[0;36mload\u001b[0;34m(file, mmap_mode, allow_pickle, fix_imports, encoding)\u001b[0m\n\u001b[1;32m    388\u001b[0m     own_fid \u001b[38;5;241m=\u001b[39m \u001b[38;5;28;01mFalse\u001b[39;00m\n\u001b[1;32m    389\u001b[0m \u001b[38;5;28;01melse\u001b[39;00m:\n\u001b[0;32m--> 390\u001b[0m     fid \u001b[38;5;241m=\u001b[39m stack\u001b[38;5;241m.\u001b[39menter_context(\u001b[38;5;28;43mopen\u001b[39;49m\u001b[43m(\u001b[49m\u001b[43mos_fspath\u001b[49m\u001b[43m(\u001b[49m\u001b[43mfile\u001b[49m\u001b[43m)\u001b[49m\u001b[43m,\u001b[49m\u001b[43m \u001b[49m\u001b[38;5;124;43m\"\u001b[39;49m\u001b[38;5;124;43mrb\u001b[39;49m\u001b[38;5;124;43m\"\u001b[39;49m\u001b[43m)\u001b[49m)\n\u001b[1;32m    391\u001b[0m     own_fid \u001b[38;5;241m=\u001b[39m \u001b[38;5;28;01mTrue\u001b[39;00m\n\u001b[1;32m    393\u001b[0m \u001b[38;5;66;03m# Code to distinguish from NumPy binary files and pickles.\u001b[39;00m\n",
      "\u001b[0;31mFileNotFoundError\u001b[0m: [Errno 2] No such file or directory: '/media/cat/4TB1/donato/DON-010477/20220513/002P-F/tif/suite2p/plane0/cell_correlations_filtered.npy'"
     ]
    }
   ],
   "source": [
    "################################################\n",
    "################################################\n",
    "################################################\n",
    "\n",
    "session = '20220513'\n",
    "data1 = np.load('/media/cat/4TB1/donato/DON-010477/20220513/002P-F/tif/suite2p/plane0/cell_correlations_filtered.npy')\n",
    "data2 = np.load('/media/cat/4TB1/donato/DON-010477/20220513/002P-F/tif/suite2p/plane0/cell_correlations_upphase.npy')\n",
    "\n",
    "print (data1.shape, data2.shape)\n",
    "\n",
    "print (data1[1])\n",
    "\n",
    "corrs1 = data1[:,2]\n",
    "print (corrs1)\n",
    "corrs2 = data2[:,2]\n",
    "print (corrs2)\n",
    "\n",
    "\n",
    "plt.figure()\n",
    "plt.ylabel('Correlation value computed on filtered fluorescence')\n",
    "plt.scatter(corrs1, corrs2,\n",
    "           alpha=.1,\n",
    "           edgecolor='black')\n",
    "\n",
    "\n",
    "plt.xlabel('Correlation value computed on upphase binarized data')\n",
    "plt.suptitle(animal_id + \" \" + session)\n",
    "plt.show()\n",
    "    "
   ]
  },
  {
   "cell_type": "code",
   "execution_count": 4,
   "id": "8b7b4d1d-df1a-4bdf-9d20-ac79ead6dc2f",
   "metadata": {},
   "outputs": [
    {
     "name": "stdout",
     "output_type": "stream",
     "text": [
      "(709, 709)\n"
     ]
    }
   ],
   "source": [
    "d = np.load('/media/cat/4TB/donato/DON-010477/20220513/002P-F/tif/suite2p/plane0/goodcell_correlations_array_post_deduplication_filtered.npy')\n",
    "print (d.shape)\n",
    "\n",
    "plt.figure()\n",
    "plt.imshow(d)\n",
    "plt.colorbar()\n",
    "plt.show()"
   ]
  },
  {
   "cell_type": "code",
   "execution_count": 7,
   "id": "2c07ea74-b0b1-4366-8344-26e5587fe752",
   "metadata": {},
   "outputs": [],
   "source": [
    "plt.figure()\n",
    "plt.hist(d.flatten(), bins=np.arange(-1,1,0.1))\n",
    "plt.show()"
   ]
  },
  {
   "cell_type": "code",
   "execution_count": null,
   "id": "8a10b011-9b31-4736-89d8-a58d8de82440",
   "metadata": {},
   "outputs": [],
   "source": []
  },
  {
   "cell_type": "code",
   "execution_count": null,
   "id": "a8901bbc-e5fe-468b-a7e1-4bf0b6dfa0de",
   "metadata": {},
   "outputs": [],
   "source": []
  },
  {
   "cell_type": "code",
   "execution_count": null,
   "id": "302a0cd5-f775-4de3-af16-c43ee9fca702",
   "metadata": {},
   "outputs": [],
   "source": []
  },
  {
   "cell_type": "code",
   "execution_count": null,
   "id": "586d15b3-2cba-4110-a764-d2365b709779",
   "metadata": {},
   "outputs": [],
   "source": []
  },
  {
   "cell_type": "code",
   "execution_count": null,
   "id": "c8615c65-eec8-4da5-8d4d-b37482021ad8",
   "metadata": {},
   "outputs": [],
   "source": []
  }
 ],
 "metadata": {
  "kernelspec": {
   "display_name": "Python 3",
   "language": "python",
   "name": "python3"
  },
  "language_info": {
   "codemirror_mode": {
    "name": "ipython",
    "version": 3
   },
   "file_extension": ".py",
   "mimetype": "text/x-python",
   "name": "python",
   "nbconvert_exporter": "python",
   "pygments_lexer": "ipython3",
   "version": "3.8.15"
  }
 },
 "nbformat": 4,
 "nbformat_minor": 5
}
