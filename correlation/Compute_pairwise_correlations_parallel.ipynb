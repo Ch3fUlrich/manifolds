{
 "cells": [
  {
   "cell_type": "code",
   "execution_count": 4,
   "id": "8f98c6b4-4a90-4f64-adae-4ce2b75e4d57",
   "metadata": {},
   "outputs": [
    {
     "data": {
      "application/javascript": [
       "IPython.notebook.set_autosave_interval(180000)"
      ]
     },
     "metadata": {},
     "output_type": "display_data"
    },
    {
     "name": "stdout",
     "output_type": "stream",
     "text": [
      "Autosaving every 180 seconds\n",
      "The autoreload extension is already loaded. To reload it, use:\n",
      "  %reload_ext autoreload\n"
     ]
    },
    {
     "data": {
      "text/html": [
       "<style>.container { width:100% !important; }</style>"
      ],
      "text/plain": [
       "<IPython.core.display.HTML object>"
      ]
     },
     "metadata": {},
     "output_type": "display_data"
    }
   ],
   "source": [
    "import matplotlib\n",
    "%matplotlib tk\n",
    "%autosave 180\n",
    "%load_ext autoreload\n",
    "%autoreload 2\n",
    "\n",
    "import nest_asyncio\n",
    "%config Completer.use_jedi = False\n",
    "\n",
    "#\n",
    "import matplotlib.pyplot as plt\n",
    "from IPython.core.display import display, HTML\n",
    "display(HTML(\"<style>.container { width:100% !important; }</style>\"))\n",
    "\n",
    "# \n",
    "import numpy as np\n",
    "import os\n",
    "import scipy\n",
    "\n",
    "# add root directory to be able to import packages\n",
    "# todo: make all packages installable so they can be called/imported by environment\n",
    "import sys\n",
    "module_path = os.path.abspath(os.path.join('..'))\n",
    "sys.path.append(module_path)\n",
    "\n",
    "from utils.calcium import calcium\n"
   ]
  },
  {
   "cell_type": "code",
   "execution_count": 5,
   "id": "28da3655-1a7f-43c0-ba3b-f42276c20e6f",
   "metadata": {
    "tags": []
   },
   "outputs": [
    {
     "name": "stdout",
     "output_type": "stream",
     "text": [
      "Processing:  DON-002865\n",
      "sessions:  ['DON-002865_20210210', 'DON-002865_202102114', 'DON-002865_202102115', 'DON-002865_202102113', 'DON-002865_202102119', 'DON-002865_20210211', 'DON-002865_202102116', 'DON-002865_202102117', 'DON-002865_202102118', 'DON-002865_202102112']\n",
      "Processing:  DON-003165\n",
      "sessions:  ['DON-003165_20210220', 'DON-003165_20210216', 'DON-003165_20210219', 'DON-003165_20210218', 'DON-003165_20210217', 'DON-003165_20210222', 'DON-003165_20210211', 'DON-003165_20210213', 'DON-003165_20210223', 'DON-003165_20210215']\n",
      "Processing:  DON-003343\n",
      "sessions:  ['DON-003343_20210213', 'DON-003343_20210218', 'DON-003343_20210217', 'DON-003343_20210216', 'DON-003343_20210219', 'DON-003343_20210215', 'DON-003343_20210222', 'DON-003343_20210221', 'DON-003343_20210220', 'DON-003343_20210214']\n",
      "processing:  DON-003343_20210221\n",
      "... errror loading :  DON-003343_20210221\n",
      "Processing:  DON-008497\n",
      "sessions:  ['20220206', '20220130', '20220209', '20220211', '20220202', '20220207', '20220204', '20220131', '20220208', '20220210', '20220214', '20220201', '20220203', '20220205']\n",
      "processing:  20220130\n",
      "... errror loading :  20220130\n",
      "processing:  20220131\n",
      "... errror loading :  20220131\n",
      "processing:  20220214\n",
      "... errror loading :  20220214\n",
      "Processing:  DON-008498\n",
      "sessions:  ['20220206', '20220130', '20220209', '20220211', '20220202', '20220207', '20220204', '20220131', '20220208', '20220210', '20220201', '20220203', '20220205']\n",
      "processing:  20220130\n",
      "... errror loading :  20220130\n",
      "processing:  20220131\n",
      "... errror loading :  20220131\n",
      "Processing:  DON-008499\n",
      "sessions:  ['20220206', '20220130', '20220209', '20220211', '20220202', '20220207', '20220204', '20220131', '20220208', '20220210', '20220201', '20220203', '20220205']\n",
      "processing:  20220130\n",
      "... errror loading :  20220130\n",
      "processing:  20220131\n",
      "... errror loading :  20220131\n"
     ]
    }
   ],
   "source": [
    "############################################\n",
    "################# Load data ################\n",
    "############################################\n",
    "\n",
    "#\n",
    "def get_sessions_from_directory_listing(root_dir,\n",
    "                                       animal_id):\n",
    "    \n",
    "    sessions = os.listdir(root_dir+animal_id)\n",
    "    print (\"sessions: \", sessions)\n",
    "    \n",
    "    return sessions\n",
    "    \n",
    "#\n",
    "animal_ids = [\n",
    "        \n",
    "    # 'DON-006084',\n",
    "    # 'DON-006085',\n",
    "    # 'DON-006087',\n",
    "    \n",
    "    # 'DON-009191',\n",
    "    # 'DON-009192',\n",
    "    # 'DON-010473',\n",
    "    # 'DON-010477',\n",
    "    \n",
    "    \n",
    "    'DON-002865',\n",
    "    'DON-003165',\n",
    "    'DON-003343',\n",
    "    \n",
    "    'DON-008497',\n",
    "    'DON-008498',\n",
    "    'DON-008499',\n",
    "       \n",
    "    \n",
    "    \n",
    "]\n",
    "              \n",
    "############################################\n",
    "############################################\n",
    "############################################\n",
    "root_dir = '/media/cat/4TB1/donato/'\n",
    "dir_ = '/002P-F/tif/'\n",
    "\n",
    "#\n",
    "for animal_id in animal_ids:\n",
    "\n",
    "    #\n",
    "    print (\"Processing: \", animal_id)\n",
    "\n",
    "    #\n",
    "    sessions = get_sessions_from_directory_listing(root_dir,\n",
    "                                                  animal_id)\n",
    "\n",
    "    #\n",
    "    for session in sessions:\n",
    "        #\n",
    "        fname_check  =  os.path.join(root_dir, \n",
    "                                     animal_id, \n",
    "                                     session+dir_, 'suite2p','plane0',\n",
    "                                     'goodcell_correlations_array_post_deduplication_filtered.npy'\n",
    "                                      )\n",
    "\n",
    "        #\n",
    "        if os.path.exists(fname_check):\n",
    "            continue\n",
    "\n",
    "        #\n",
    "        try: \n",
    "        #if True:\n",
    "            #\n",
    "            print (\"processing: \", session)\n",
    "\n",
    "            #if session != '20220302':\n",
    "            #    continue\n",
    "\n",
    "            c = calcium.Calcium()\n",
    "            c.root_dir = root_dir\n",
    "            c.data_dir = os.path.join(root_dir, animal_id, session+dir_, 'suite2p','plane0')\n",
    "            c.animal_id = animal_id\n",
    "            c.session = session\n",
    "            c.detrend_model_order = 1\n",
    "            \n",
    "            #\n",
    "            c.load_suite2p()           #note: this already deletes the non-trusted suite2p cells\n",
    "            c.save_python = True\n",
    "            c.save_matlab = False\n",
    "\n",
    "            # \n",
    "            c.load_binarization()\n",
    "            binarization_method = 'upphase'\n",
    "            if binarization_method=='onphase':\n",
    "                traces = c.F_onphase_bin\n",
    "            elif binarization_method=='upphase':\n",
    "                traces = c.F_upphase_bin\n",
    "            else:\n",
    "                print (\"METHOD NOT FOUND\")\n",
    "\n",
    "            #print (\"binarized data: \", traces.shape)\n",
    "\n",
    "            ###################################################################\n",
    "            ########## cleanup cells + compute pairwise correlations ##########\n",
    "            ###################################################################\n",
    "            c.load_footprints()\n",
    "            c.deduplication_method = 'overlap'      # 'overlap'; 'centre_distance'\n",
    "            c.corr_min_distance = 8                 # min distance for centre_distance method - NOT USED HERE\n",
    "            c.corr_max_percent_overlap = 0.25       # max overlap for overlap method\n",
    "            c.corr_threshold = 0.3                  # max correlation allowed for high overlap\n",
    "\n",
    "            #  \n",
    "            c.corr_delete_method = 'lowest_snr' #'highest_connected', lowest_snr'\n",
    "            c.recompute_deduplication = False\n",
    "            \n",
    "            #\n",
    "            c.correlation_datatype = 'filtered'      # filtered vs. upphase\n",
    "            \n",
    "            #\n",
    "            c.compute_correlations()\n",
    "            \n",
    "            #\n",
    "            c.remove_duplicate_neurons()     # this removes duplicate neurons and saves non-duplicate version of correlation array\n",
    "                        \n",
    "        except:\n",
    "            print (\"... errror loading : \", session)\n"
   ]
  },
  {
   "cell_type": "code",
   "execution_count": null,
   "id": "60dd4c97-d18b-482a-a38d-19040213a39e",
   "metadata": {},
   "outputs": [],
   "source": []
  },
  {
   "cell_type": "code",
   "execution_count": 7,
   "id": "7a564f3f-f40e-4457-85da-1ba403350305",
   "metadata": {},
   "outputs": [
    {
     "name": "stdout",
     "output_type": "stream",
     "text": [
      "/media/cat/4TB1/donato/tests/DON-010473_20220514_002P-F_S1-S2-ACQ.mesc ['S1', 'S2']\n"
     ]
    }
   ],
   "source": [
    "def get_sessions_from_filename(fname):\n",
    "    \n",
    "    fname = fname.replace(\"-\",\"_\")\n",
    "    \n",
    "    idx1 = fname.find(\"002P_F\")+7\n",
    "    idx2 = fname.find('.mesc')\n",
    "    \n",
    "    sessions = fname[idx1:idx2].replace(\"-\",\"_\").split(\"_\")\n",
    "    \n",
    "    try:\n",
    "        sessions.remove(\"ACQ\")\n",
    "    except:\n",
    "        pass\n",
    "    \n",
    "    return sessions\n",
    "\n",
    "\n",
    "def get_sessions_from_filename2(fname):\n",
    "\n",
    "    sessions = []\n",
    "    for k in range(1,20,1):\n",
    "        temp = \"S\"+str(k)\n",
    "        if temp in fname:\n",
    "            sessions.append(temp)\n",
    "\n",
    "    return sessions\n",
    "\n",
    "\n",
    "\n",
    "def get_sessions_for_mesc_and_raw_filenames_from_directory(folder):\n",
    "    \n",
    "    fs = []\n",
    "    ss = []\n",
    "    \n",
    "    # look for .mesc files\n",
    "    extensions = '.mesc'\n",
    "    \n",
    "    matches = []\n",
    "    for root, dirnames, filenames in os.walk(folder):\n",
    "        #print (root, dirnames, filenames)\n",
    "        for filename in filenames:\n",
    "            if filename.endswith(extensions):\n",
    "                matches.append(os.path.join(root, filename))\n",
    "                \n",
    "    for match in matches:\n",
    "        sessions = get_sessions_from_filename2(match)\n",
    "        fs.append(match)\n",
    "        ss.append(sessions)\n",
    "        #print (match, sessions)\n",
    "        \n",
    "    # look for .raw files\n",
    "    extensions = '.raw'\n",
    "    matches = []\n",
    "    for root, dirnames, filenames in os.walk(folder):\n",
    "        for filename in filenames:\n",
    "            if filename.endswith(extensions):\n",
    "                matches.append(os.path.join(root, filename))\n",
    "    \n",
    "    for match in matches:\n",
    "        fs.append(match)\n",
    "        ss.append([])           \n",
    "\n",
    "        \n",
    "    return fs, ss\n",
    "\n",
    "folder = '/media/cat/4TB1/donato/tests'\n",
    "fnames, sessions = get_sessions_for_mesc_and_raw_filenames_from_directory(folder)\n",
    "for k in range(len(fnames)):\n",
    "    print (fnames[k], sessions[k])"
   ]
  },
  {
   "cell_type": "code",
   "execution_count": 9,
   "id": "18fe47cf-c643-42db-ace6-ed10c28411ef",
   "metadata": {},
   "outputs": [
    {
     "name": "stdout",
     "output_type": "stream",
     "text": [
      "session loaded:  MUnit_0\n",
      "session loaded:  MUnit_1\n"
     ]
    }
   ],
   "source": [
    "def convert_mesc_sessions_to_concatenated_tiff(fname,\n",
    "                                               sessions_in):\n",
    "\n",
    "    fname_out = fname.replace('.mesc','.tif')\n",
    "\n",
    "    if os.path.exists(fname_out):\n",
    "        print (\".mesc -> .tiff file already done... skipping conversion...\")\n",
    "        return fname_out\n",
    "\n",
    "    # sessions_in = sessions_in.replace(\" \", \"\").split (\",\")\n",
    "\n",
    "    #\n",
    "    sess_list = []\n",
    "    for session in sessions_in:\n",
    "        temp = session.replace(\"S\",'')\n",
    "        temp = 'MUnit_'+str(int(temp)-1)\n",
    "        print (\"session loaded: \", temp)\n",
    "        sess_list.append(temp)\n",
    "    #\n",
    "    \n",
    "    \n",
    "\n",
    "#fname = fnames[0]\n",
    "#sessions_in = sessions[0]\n",
    "\n",
    "convert_mesc_sessions_to_concatenated_tiff(fname, sessions_in)\n",
    "\n",
    "\n"
   ]
  },
  {
   "cell_type": "code",
   "execution_count": null,
   "id": "dfb362cf-ecb3-4b26-9eb5-5560a5030631",
   "metadata": {},
   "outputs": [
    {
     "name": "stdout",
     "output_type": "stream",
     "text": [
      "fname:  /media/cat/4TB1/donato/DON-009192/DON-009192_20220322_002P-F_S1-S2-S3-S4.mesc\n",
      "sessions;  <KeysViewHDF5 ['MSession_0']>\n",
      "processing:  MSession_0\n",
      "Munits:  ['MUnit_0', 'MUnit_1', 'MUnit_2', 'MUnit_3', 'MUnit_4']\n",
      "    data loaded size:  (27874, 512, 512)\n",
      "    data loaded size:  (27874, 512, 512)\n",
      "    data loaded size:  (27874, 512, 512)\n",
      "    data loaded size:  (27874, 512, 512)\n"
     ]
    }
   ],
   "source": [
    "# TEST CONTENT OF .mesc files\n",
    "import h5py\n",
    "def get_data(fname,\n",
    "             unit_ids):\n",
    "\n",
    "    data = []\n",
    "    with h5py.File(fname, 'r') as file:\n",
    "\n",
    "        sessions_in = file.keys()\n",
    "        print (\"sessions; \", sessions_in)\n",
    "                    #\n",
    "        for sess in sessions_in:\n",
    "            print (\"processing: \", sess)\n",
    "\n",
    "            units = file[sess].keys()\n",
    "            \n",
    "            munits = []\n",
    "            for unit in units:\n",
    "                munits.append(unit)\n",
    "                \n",
    "            print (\"Munits: \", munits)\n",
    "            \n",
    "            for unit_id in unit_ids:\n",
    "                \n",
    "                temp = file['MSession_0'][munits[unit_id]]['Channel_0'][()]\n",
    "                print (\"    data loaded size: \", temp.shape)\n",
    "                data.append(temp)\n",
    "                \n",
    "    data = np.vstack(data)\n",
    "    print(data.shape)\n",
    "\n",
    "\n",
    "fname = '/media/cat/4TB1/donato/DON-009192/DON-009192_20220401_002P-F_S1-S2.mesc'\n",
    "#fname = '/media/cat/4TB1/donato/DON-009192/DON-010473_20220510_002P-F_S1-ACQ.mesc'\n",
    "#fname = '/media/cat/4TB1/donato/DON-009192/DON-009192_20220322_002P-F_S1-S2-S3-S4.mesc'\n",
    "fname = '/media/cat/4TB1/donato/DON-009192/DON-010477_20220511_002P-F_S1-S2-ACQ.mesc'\n",
    "fname = '/media/cat/4TB1/donato/DON-009192/DON-009191_20220318_002P-F_S1.mesc'\n",
    "fname = '/media/cat/4TB1/donato/DON-009192/DON-009191_20220311_002P-F_S1-S2.mesc'\n",
    "fname = '/media/cat/4TB1/donato/DON-009192/DON-009192_20220322_002P-F_S1-S2-S3-S4.mesc'\n",
    "\n",
    "\n",
    "print (\"fname: \", fname)\n",
    "unit_ids = [0,1,2,3]\n",
    "get_data(fname, unit_ids)\n",
    "\n",
    "\n",
    "\n"
   ]
  },
  {
   "cell_type": "code",
   "execution_count": 45,
   "id": "8b0502be-0c86-43f0-93a4-588851fd8ec7",
   "metadata": {},
   "outputs": [
    {
     "name": "stdout",
     "output_type": "stream",
     "text": [
      "/media/cat/4TB1/donato/DON-009192/DON-010473_20220510_002P-F_S1-ACQ.mesc\n",
      "sessions;  <KeysViewHDF5 ['MSession_0']>\n",
      "processing:  MSession_0\n",
      "<KeysViewHDF5 ['MUnit_0']>\n"
     ]
    }
   ],
   "source": [
    "fname = '/media/cat/4TB1/donato/DON-009192/DON-010473_20220510_002P-F_S1-ACQ.mesc'\n",
    "print (fname)\n",
    "get_data(fname)\n",
    "\n"
   ]
  },
  {
   "cell_type": "code",
   "execution_count": 3,
   "id": "a94cb46f-8dba-407c-8184-ae1137d024e8",
   "metadata": {},
   "outputs": [
    {
     "name": "stdout",
     "output_type": "stream",
     "text": [
      "(233289, 4)\n"
     ]
    }
   ],
   "source": [
    "corr = np.load('/media/cat/4TB1/donato/DON-009191/20220317/002P-F/tif/suite2p/plane0/cell_correlations.npy')\n",
    "print (corr.shape)"
   ]
  },
  {
   "cell_type": "code",
   "execution_count": 4,
   "id": "58ecfd05-84a8-40cb-8c25-c2a930d8133d",
   "metadata": {},
   "outputs": [
    {
     "name": "stdout",
     "output_type": "stream",
     "text": [
      "(483, 111496)\n"
     ]
    }
   ],
   "source": [
    "bb = np.load('/media/cat/4TB1/donato/DON-009191/20220317/002P-F/tif/suite2p/plane0/binarized_traces.npz',\n",
    "             allow_pickle=True)\n",
    "\n",
    "#\n",
    "upphase = bb['F_upphase']\n",
    "print (upphase.shape)"
   ]
  },
  {
   "cell_type": "code",
   "execution_count": 6,
   "id": "58c3e054-41f5-4dcd-9536-8db373586132",
   "metadata": {},
   "outputs": [
    {
     "name": "stdout",
     "output_type": "stream",
     "text": [
      "(3439, 2)\n",
      "(483,)\n"
     ]
    }
   ],
   "source": [
    "iscell = np.load('/media/cat/4TB1/donato/DON-009191/20220317/002P-F/tif/suite2p/plane0/iscell.npy')\n",
    "\n",
    "print (iscell.shape)\n",
    "\n",
    "idx = np.where(iscell[:,0]==1)[0]\n",
    "print (idx.shape)\n"
   ]
  },
  {
   "cell_type": "code",
   "execution_count": null,
   "id": "cb09a538-f931-448c-8fe8-22ca0a7cb120",
   "metadata": {},
   "outputs": [],
   "source": []
  },
  {
   "cell_type": "code",
   "execution_count": null,
   "id": "dd420c41-d167-4d87-b0c6-613541192225",
   "metadata": {},
   "outputs": [],
   "source": [
    "/media/cat/4TB1/donato/DON-009191/20220317/002P-F/tif/suite2p/plane0/goodcell_correlations_array_post_deduplication_filtered.npy\n",
    "/media/cat/4TB1/donato/DON-009191/20220317/002P-F/tif/suite2p/plane0/goodcell_correlations_array_post_deduplication_filtered.npy"
   ]
  }
 ],
 "metadata": {
  "kernelspec": {
   "display_name": "Python 3 (ipykernel)",
   "language": "python",
   "name": "python3"
  },
  "language_info": {
   "codemirror_mode": {
    "name": "ipython",
    "version": 3
   },
   "file_extension": ".py",
   "mimetype": "text/x-python",
   "name": "python",
   "nbconvert_exporter": "python",
   "pygments_lexer": "ipython3",
   "version": "3.8.12"
  }
 },
 "nbformat": 4,
 "nbformat_minor": 5
}
