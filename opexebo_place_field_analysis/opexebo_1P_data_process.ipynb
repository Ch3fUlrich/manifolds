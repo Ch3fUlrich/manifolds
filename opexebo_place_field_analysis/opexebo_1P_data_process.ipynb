{
 "cells": [
  {
   "cell_type": "code",
   "execution_count": 7,
   "id": "5ec3ac28-a1c6-4e51-be96-ca6d903449e5",
   "metadata": {},
   "outputs": [
    {
     "data": {
      "application/javascript": [
       "IPython.notebook.set_autosave_interval(180000)"
      ]
     },
     "metadata": {},
     "output_type": "display_data"
    },
    {
     "name": "stdout",
     "output_type": "stream",
     "text": [
      "Autosaving every 180 seconds\n",
      "The autoreload extension is already loaded. To reload it, use:\n",
      "  %reload_ext autoreload\n"
     ]
    },
    {
     "name": "stderr",
     "output_type": "stream",
     "text": [
      "/tmp/ipykernel_467576/44542414.py:12: DeprecationWarning: Importing display from IPython.core.display is deprecated since IPython 7.14, please import from IPython display\n",
      "  from IPython.core.display import display, HTML\n"
     ]
    },
    {
     "data": {
      "text/html": [
       "<style>.container { width:100% !important; }</style>"
      ],
      "text/plain": [
       "<IPython.core.display.HTML object>"
      ]
     },
     "metadata": {},
     "output_type": "display_data"
    }
   ],
   "source": [
    "import matplotlib\n",
    "%matplotlib tk\n",
    "%autosave 180\n",
    "%load_ext autoreload\n",
    "%autoreload 2\n",
    "\n",
    "import nest_asyncio\n",
    "%config Completer.use_jedi = False\n",
    "\n",
    "#\n",
    "import matplotlib.pyplot as plt\n",
    "from IPython.core.display import display, HTML\n",
    "display(HTML(\"<style>.container { width:100% !important; }</style>\"))\n",
    "\n",
    "# \n",
    "import numpy as np\n",
    "import os\n",
    "import scipy\n",
    "\n",
    "# add root directory to be able to import packages\n",
    "# todo: make all packages installable so they can be called/imported by environment\n",
    "import sys\n",
    "\n",
    "#\n",
    "from tqdm import tqdm, trange\n",
    "\n",
    "#\n",
    "import opexebo as op\n",
    "\n",
    "import astropy\n",
    "from astropy.convolution import Gaussian2DKernel\n",
    "\n",
    "\n",
    "\n",
    "#\n",
    "from utils import load_locs_traces_running, check_cell_id_field\n"
   ]
  },
  {
   "cell_type": "code",
   "execution_count": 8,
   "id": "0f065b38-2e13-4043-8422-3a2a0cf21ef5",
   "metadata": {},
   "outputs": [
    {
     "name": "stdout",
     "output_type": "stream",
     "text": [
      "(36000, 2)\n",
      "(35999,)\n",
      "Locs:  (35110, 2)  uphases:  (365, 35110)\n"
     ]
    }
   ],
   "source": [
    "#############################################################\n",
    "################### DEFAULT LOADING OF DATA #################\n",
    "#############################################################\n",
    "\n",
    "#fname_locs = ('/media/cat/4TB1/donato/nathalie/DON-007050/FS1/DON-007050_20211022_'+\n",
    "#         'TR-BSL_FS1-ACQDLC_resnet50_open_arena_white_floorSep8shuffle1_200000_locs.npy')\n",
    "fname_locs = ('/media/cat/4TB/donato/nathalie/DON-007050/FS9/DON-007050_20211030_TR-BSL_FS9-ACQDLC_resnet50_open_arena_white_floorSep8shuffle1_200000_locs.npy')\n",
    "\n",
    "#\n",
    "#fname_traces = '/media/cat/4TB1/donato/nathalie/DON-007050/FS1/binarized_traces.npz'\n",
    "fname_traces = '/media/cat/4TB/donato/nathalie/DON-007050/FS9/binarized_traces.npz'\n",
    "\n",
    "#\n",
    "arena_x = [300,1550]\n",
    "arena_y = [175,1400]\n",
    "arena_size = [80,80]\n",
    "arena_shape = 'square'\n",
    "bin_width = 2.5\n",
    "\n",
    "#\n",
    "locs, upphases, times, filtered_Fs = load_locs_traces_running(fname_locs,\n",
    "                                                              fname_traces,\n",
    "                                                              arena_size)\n",
    "\n",
    "# compute spatial occpuancy map; only requires the locatoins and \n",
    "occ_map, coverage, bin_edges = op.analysis.spatial_occupancy(times, \n",
    "                                                             locs.T, \n",
    "                                                             arena_size, \n",
    "                                                             bin_width=bin_width)\n",
    "\n",
    "fname_occ_map = os.path.join(os.path.split(fname_traces)[0],\"occ_map.npy\")\n",
    "occ_map.dump(fname_occ_map)\n",
    "                             \n",
    "\n",
    "#\n",
    "x_edges = bin_edges[0]\n",
    "y_edges = bin_edges[1]"
   ]
  },
  {
   "cell_type": "code",
   "execution_count": 10,
   "id": "55bfbd7b-eca3-4a67-af04-8b3da9de765b",
   "metadata": {
    "tags": []
   },
   "outputs": [
    {
     "name": "stderr",
     "output_type": "stream",
     "text": [
      "100%|███████████████████████████████████████████████████████████████████████████████████████▊| 364/365 [00:06<00:00, 52.59it/s]\n"
     ]
    },
    {
     "ename": "IndexError",
     "evalue": "index 365 is out of bounds for axis 0 with size 365",
     "output_type": "error",
     "traceback": [
      "\u001b[0;31m---------------------------------------------------------------------------\u001b[0m",
      "\u001b[0;31mRemoteTraceback\u001b[0m                           Traceback (most recent call last)",
      "\u001b[0;31mRemoteTraceback\u001b[0m: \n\"\"\"\nTraceback (most recent call last):\n  File \"/home/cat/.conda/envs/donato/lib/python3.11/multiprocessing/pool.py\", line 125, in worker\n    result = (True, func(*args, **kwds))\n                    ^^^^^^^^^^^^^^^^^^^\n  File \"/home/cat/.conda/envs/donato/lib/python3.11/multiprocessing/pool.py\", line 48, in mapstar\n    return list(map(*args))\n           ^^^^^^^^^^^^^^^^\n  File \"/home/cat/.conda/envs/donato/lib/python3.11/site-packages/parmap/parmap.py\", line 93, in _func_star_single\n    return func_item_args[0](*[func_item_args[1]] + func_item_args[2],\n           ^^^^^^^^^^^^^^^^^^^^^^^^^^^^^^^^^^^^^^^^^^^^^^^^^^^^^^^^^^^\n  File \"/home/cat/code/donato/opexebo_place_field_analysis/utils.py\", line 1221, in get_rms_and_place_field_from_tunning_map_split_test\n    upphase = upphases[cell_id]\n              ~~~~~~~~^^^^^^^^^\nIndexError: index 365 is out of bounds for axis 0 with size 365\n\"\"\"",
      "\nThe above exception was the direct cause of the following exception:\n",
      "\u001b[0;31mIndexError\u001b[0m                                Traceback (most recent call last)",
      "Cell \u001b[0;32mIn[10], line 44\u001b[0m\n\u001b[1;32m     41\u001b[0m     \u001b[38;5;28;01mcontinue\u001b[39;00m\n\u001b[1;32m     43\u001b[0m \u001b[38;5;66;03m# get dictionary with all data\u001b[39;00m\n\u001b[0;32m---> 44\u001b[0m D \u001b[38;5;241m=\u001b[39m \u001b[43mcheck_cell_id_field\u001b[49m\u001b[43m(\u001b[49m\u001b[43mcell_id\u001b[49m\u001b[43m,\u001b[49m\n\u001b[1;32m     45\u001b[0m \u001b[43m                        \u001b[49m\u001b[43mupphases\u001b[49m\u001b[43m,\u001b[49m\n\u001b[1;32m     46\u001b[0m \u001b[43m                        \u001b[49m\u001b[43mfiltered_Fs\u001b[49m\u001b[43m,\u001b[49m\n\u001b[1;32m     47\u001b[0m \u001b[43m                        \u001b[49m\u001b[43mlocs\u001b[49m\u001b[43m,\u001b[49m\n\u001b[1;32m     48\u001b[0m \u001b[43m                        \u001b[49m\u001b[43mocc_map\u001b[49m\u001b[43m,\u001b[49m\n\u001b[1;32m     49\u001b[0m \u001b[43m                        \u001b[49m\u001b[43marena_size\u001b[49m\u001b[43m,\u001b[49m\n\u001b[1;32m     50\u001b[0m \u001b[43m                        \u001b[49m\u001b[43msigma\u001b[49m\u001b[43m,\u001b[49m\n\u001b[1;32m     51\u001b[0m \u001b[43m                        \u001b[49m\u001b[43mcircular_shuffle\u001b[49m\u001b[43m,\u001b[49m\n\u001b[1;32m     52\u001b[0m \u001b[43m                        \u001b[49m\u001b[43mn_tests\u001b[49m\u001b[43m,\u001b[49m\n\u001b[1;32m     53\u001b[0m \u001b[43m                        \u001b[49m\u001b[43mx_edges\u001b[49m\u001b[43m,\u001b[49m\n\u001b[1;32m     54\u001b[0m \u001b[43m                        \u001b[49m\u001b[43my_edges\u001b[49m\n\u001b[1;32m     55\u001b[0m \u001b[43m                       \u001b[49m\u001b[43m)\u001b[49m\n\u001b[1;32m     57\u001b[0m \u001b[38;5;66;03m# save dictionary\u001b[39;00m\n\u001b[1;32m     58\u001b[0m np\u001b[38;5;241m.\u001b[39msave(fname_out, D, allow_pickle\u001b[38;5;241m=\u001b[39m\u001b[38;5;28;01mTrue\u001b[39;00m)   \n",
      "File \u001b[0;32m~/code/donato/opexebo_place_field_analysis/utils.py:1399\u001b[0m, in \u001b[0;36mcheck_cell_id_field\u001b[0;34m(cell_id, upphases, filtered_Fs, locs, occ_map, arena_size, sigma, circular_shuffle, n_tests, x_edges, y_edges)\u001b[0m\n\u001b[1;32m   1396\u001b[0m cell_ids \u001b[38;5;241m=\u001b[39m np\u001b[38;5;241m.\u001b[39mones(n_tests, dtype\u001b[38;5;241m=\u001b[39mnp\u001b[38;5;241m.\u001b[39mint32) \u001b[38;5;241m+\u001b[39m cell_id\n\u001b[1;32m   1398\u001b[0m \u001b[38;5;66;03m#\u001b[39;00m\n\u001b[0;32m-> 1399\u001b[0m res \u001b[38;5;241m=\u001b[39m \u001b[43mparmap\u001b[49m\u001b[38;5;241;43m.\u001b[39;49m\u001b[43mmap\u001b[49m\u001b[43m(\u001b[49m\u001b[43mget_rms_and_place_field_from_tunning_map_split_test\u001b[49m\u001b[43m,\u001b[49m\n\u001b[1;32m   1400\u001b[0m \u001b[43m                 \u001b[49m\u001b[43mcell_ids\u001b[49m\u001b[43m,\u001b[49m\n\u001b[1;32m   1401\u001b[0m \u001b[43m                 \u001b[49m\u001b[43mupphases\u001b[49m\u001b[43m,\u001b[49m\n\u001b[1;32m   1402\u001b[0m \u001b[43m                 \u001b[49m\u001b[43mfiltered_Fs\u001b[49m\u001b[43m,\u001b[49m\n\u001b[1;32m   1403\u001b[0m \u001b[43m                 \u001b[49m\u001b[43mlocs\u001b[49m\u001b[43m,\u001b[49m\n\u001b[1;32m   1404\u001b[0m \u001b[43m                 \u001b[49m\u001b[43mocc_map\u001b[49m\u001b[43m,\u001b[49m\n\u001b[1;32m   1405\u001b[0m \u001b[43m                 \u001b[49m\u001b[43marena_size\u001b[49m\u001b[43m,\u001b[49m\n\u001b[1;32m   1406\u001b[0m \u001b[43m                 \u001b[49m\u001b[43mx_edges\u001b[49m\u001b[43m,\u001b[49m\n\u001b[1;32m   1407\u001b[0m \u001b[43m                 \u001b[49m\u001b[43my_edges\u001b[49m\u001b[43m,\u001b[49m\n\u001b[1;32m   1408\u001b[0m \u001b[43m                 \u001b[49m\u001b[43msigma\u001b[49m\u001b[43m,\u001b[49m\n\u001b[1;32m   1409\u001b[0m \u001b[43m                 \u001b[49m\u001b[43mcircular_shuffle\u001b[49m\u001b[43m,\u001b[49m\n\u001b[1;32m   1410\u001b[0m \u001b[43m                 \u001b[49m\u001b[43mpm_pbar\u001b[49m\u001b[38;5;241;43m=\u001b[39;49m\u001b[38;5;28;43;01mFalse\u001b[39;49;00m\n\u001b[1;32m   1411\u001b[0m \u001b[43m                 \u001b[49m\u001b[43m)\u001b[49m\n\u001b[1;32m   1413\u001b[0m \u001b[38;5;66;03m#\u001b[39;00m\n\u001b[1;32m   1414\u001b[0m \u001b[38;5;28;01mfor\u001b[39;00m re \u001b[38;5;129;01min\u001b[39;00m res:\n",
      "File \u001b[0;32m~/.conda/envs/donato/lib/python3.11/site-packages/parmap/parmap.py:296\u001b[0m, in \u001b[0;36mmap\u001b[0;34m(function, iterable, *args, **kwargs)\u001b[0m\n\u001b[1;32m    279\u001b[0m \u001b[38;5;28;01mdef\u001b[39;00m \u001b[38;5;21mmap\u001b[39m(function, iterable, \u001b[38;5;241m*\u001b[39margs, \u001b[38;5;241m*\u001b[39m\u001b[38;5;241m*\u001b[39mkwargs):\n\u001b[1;32m    280\u001b[0m     \u001b[38;5;124;03m\"\"\"This function is equivalent to:\u001b[39;00m\n\u001b[1;32m    281\u001b[0m \u001b[38;5;124;03m        >>> [function(x, args[0], args[1],...) for x in iterable]\u001b[39;00m\n\u001b[1;32m    282\u001b[0m \n\u001b[0;32m   (...)\u001b[0m\n\u001b[1;32m    294\u001b[0m \u001b[38;5;124;03m       :type pm_pbar: bool or dict\u001b[39;00m\n\u001b[1;32m    295\u001b[0m \u001b[38;5;124;03m    \"\"\"\u001b[39;00m\n\u001b[0;32m--> 296\u001b[0m     \u001b[38;5;28;01mreturn\u001b[39;00m \u001b[43m_map_or_starmap\u001b[49m\u001b[43m(\u001b[49m\u001b[43mfunction\u001b[49m\u001b[43m,\u001b[49m\u001b[43m \u001b[49m\u001b[43miterable\u001b[49m\u001b[43m,\u001b[49m\u001b[43m \u001b[49m\u001b[43margs\u001b[49m\u001b[43m,\u001b[49m\u001b[43m \u001b[49m\u001b[43mkwargs\u001b[49m\u001b[43m,\u001b[49m\u001b[43m \u001b[49m\u001b[38;5;124;43m\"\u001b[39;49m\u001b[38;5;124;43mmap\u001b[39;49m\u001b[38;5;124;43m\"\u001b[39;49m\u001b[43m)\u001b[49m\n",
      "File \u001b[0;32m~/.conda/envs/donato/lib/python3.11/site-packages/parmap/parmap.py:238\u001b[0m, in \u001b[0;36m_map_or_starmap\u001b[0;34m(function, iterable, args, kwargs, map_or_starmap)\u001b[0m\n\u001b[1;32m    231\u001b[0m \u001b[38;5;28;01mtry\u001b[39;00m:\n\u001b[1;32m    232\u001b[0m     result \u001b[38;5;241m=\u001b[39m pool\u001b[38;5;241m.\u001b[39mmap_async(func_star,\n\u001b[1;32m    233\u001b[0m                             \u001b[38;5;28mzip\u001b[39m(repeat(function),\n\u001b[1;32m    234\u001b[0m                                 iterable,\n\u001b[1;32m    235\u001b[0m                                 repeat(\u001b[38;5;28mlist\u001b[39m(args)),\n\u001b[1;32m    236\u001b[0m                                 repeat(kwargs)),\n\u001b[1;32m    237\u001b[0m                             chunksize)\n\u001b[0;32m--> 238\u001b[0m     output \u001b[38;5;241m=\u001b[39m \u001b[43mresult\u001b[49m\u001b[38;5;241;43m.\u001b[39;49m\u001b[43mget\u001b[49m\u001b[43m(\u001b[49m\u001b[43m)\u001b[49m\n\u001b[1;32m    239\u001b[0m \u001b[38;5;28;01mexcept\u001b[39;00m:\n\u001b[1;32m    240\u001b[0m     \u001b[38;5;28;01mif\u001b[39;00m close_pool:\n",
      "File \u001b[0;32m~/.conda/envs/donato/lib/python3.11/multiprocessing/pool.py:774\u001b[0m, in \u001b[0;36mApplyResult.get\u001b[0;34m(self, timeout)\u001b[0m\n\u001b[1;32m    772\u001b[0m     \u001b[38;5;28;01mreturn\u001b[39;00m \u001b[38;5;28mself\u001b[39m\u001b[38;5;241m.\u001b[39m_value\n\u001b[1;32m    773\u001b[0m \u001b[38;5;28;01melse\u001b[39;00m:\n\u001b[0;32m--> 774\u001b[0m     \u001b[38;5;28;01mraise\u001b[39;00m \u001b[38;5;28mself\u001b[39m\u001b[38;5;241m.\u001b[39m_value\n",
      "\u001b[0;31mIndexError\u001b[0m: index 365 is out of bounds for axis 0 with size 365"
     ]
    }
   ],
   "source": [
    "#############################################################\n",
    "################### DEFAULT LOADING OF DATA #################\n",
    "#############################################################\n",
    "\n",
    "#\n",
    "sigma = 1.5\n",
    "plotting = False\n",
    "circular_shuffle = False\n",
    "n_tests = 100\n",
    "\n",
    "#\n",
    "#cell_ids = np.arange(0,100,1)\n",
    "cell_ids = np.arange(0,upphases.shape[0],1)\n",
    "#cell_ids = np.array([33])\n",
    "#cell_ids = [18]\n",
    "#cell_ids = np.arange(18,20,1)\n",
    "\n",
    "#\n",
    "overlaps = []\n",
    "s_info = []\n",
    "res_arrays = []\n",
    "cohs_array = []\n",
    "D_array = []\n",
    "\n",
    "# make root directory for data saving\n",
    "root_dir = os.path.join(os.path.split(fname_traces)[0],\n",
    "                             \"cell_analysis\")\n",
    "try:\n",
    "    os.mkdir(root_dir)\n",
    "except:\n",
    "    pass\n",
    "\n",
    "#\n",
    "for cell_id in tqdm(cell_ids):\n",
    "\n",
    "    #\n",
    "    fname_out = os.path.join(root_dir, str(cell_id)+\".npy\")\n",
    "    \n",
    "    #\n",
    "    if os.path.exists(fname_out):\n",
    "        continue\n",
    "    \n",
    "    # get dictionary with all data\n",
    "    D = check_cell_id_field(cell_id,\n",
    "                            upphases,\n",
    "                            filtered_Fs,\n",
    "                            locs,\n",
    "                            occ_map,\n",
    "                            arena_size,\n",
    "                            sigma,\n",
    "                            circular_shuffle,\n",
    "                            n_tests,\n",
    "                            x_edges,\n",
    "                            y_edges\n",
    "                           )\n",
    "       \n",
    "    # save dictionary\n",
    "    np.save(fname_out, D, allow_pickle=True)   \n",
    "\n",
    "\n"
   ]
  },
  {
   "cell_type": "code",
   "execution_count": 14,
   "id": "068f83a5-1fb6-4398-9745-c1966bba651e",
   "metadata": {},
   "outputs": [
    {
     "name": "stdout",
     "output_type": "stream",
     "text": [
      "2\n",
      "{'cell_id': 18, 'overlaps': [0.9583333333333334, 0.2727272727272727, 0.0, 0.1505016722408027, 0.0, 0.2727272727272727, 0.0, 0.1505016722408027, 0.0, 0.2727272727272727, 0.0, 0.1505016722408027, 0.0, 0.2727272727272727, 0.0, 0.1505016722408027, 0.0, 0.2727272727272727, 0.0, 0.1505016722408027, 0.0, 0.2727272727272727, 0.0, 0.1505016722408027, 0.0, 0.2727272727272727, 0.0, 0.1505016722408027, 0.0, 0.2727272727272727, 0.0, 0.1505016722408027, 0.0, 0.0, 0.0888030888030888, 0.15730337078651685, 0.08522727272727272, 0.0, 0.0888030888030888, 0.15730337078651685, 0.08522727272727272, 0.0, 0.0888030888030888, 0.15730337078651685, 0.08522727272727272, 0.0, 0.0888030888030888, 0.15730337078651685, 0.08522727272727272, 0.0, 0.0888030888030888, 0.15730337078651685, 0.08522727272727272, 0.0, 0.0888030888030888, 0.15730337078651685, 0.08522727272727272, 0.0, 0.0888030888030888, 0.15730337078651685, 0.08522727272727272, 0.0, 0.0888030888030888, 0.15730337078651685, 0.08522727272727272, 0.3464566929133858, 0.25301204819277107, 0.16911764705882354, 0.0, 0.3464566929133858, 0.25301204819277107, 0.16911764705882354, 0.0, 0.3464566929133858, 0.25301204819277107, 0.16911764705882354, 0.0, 0.3464566929133858, 0.25301204819277107, 0.16911764705882354, 0.0, 0.3464566929133858, 0.25301204819277107, 0.16911764705882354, 0.0, 0.3464566929133858, 0.25301204819277107, 0.16911764705882354, 0.0, 0.3464566929133858, 0.25301204819277107, 0.16911764705882354, 0.0, 0.3464566929133858, 0.25301204819277107, 0.16911764705882354, 0.0, 0.0, 0.13513513513513514, 0.0, 0.19760479041916168], 'spatial_info': [1.3591402764883092, 1.1869242433804459, 2.0510137560060184, 1.2079397574650077, 3.072716063613804, 1.1869242433804459, 2.0510137560060184, 1.2079397574650077, 3.072716063613804, 1.1869242433804459, 2.0510137560060184, 1.2079397574650077, 3.072716063613804, 1.1869242433804459, 2.0510137560060184, 1.2079397574650077, 3.072716063613804, 1.1869242433804459, 2.0510137560060184, 1.2079397574650077, 3.072716063613804, 1.1869242433804459, 2.0510137560060184, 1.2079397574650077, 3.072716063613804, 1.1869242433804459, 2.0510137560060184, 1.2079397574650077, 3.072716063613804, 1.1869242433804459, 2.0510137560060184, 1.2079397574650077, 3.072716063613804, 2.550391523004673, 1.6029979237752032, 1.001792484614311, 1.8871990118410729, 2.550391523004673, 1.6029979237752032, 1.001792484614311, 1.8871990118410729, 2.550391523004673, 1.6029979237752032, 1.001792484614311, 1.8871990118410729, 2.550391523004673, 1.6029979237752032, 1.001792484614311, 1.8871990118410729, 2.550391523004673, 1.6029979237752032, 1.001792484614311, 1.8871990118410729, 2.550391523004673, 1.6029979237752032, 1.001792484614311, 1.8871990118410729, 2.550391523004673, 1.6029979237752032, 1.001792484614311, 1.8871990118410729, 2.550391523004673, 1.6029979237752032, 1.001792484614311, 1.8871990118410729, 1.2034843151401518, 1.182678601887217, 1.1181245959942379, 1.8476778958653248, 1.2034843151401518, 1.182678601887217, 1.1181245959942379, 1.8476778958653248, 1.2034843151401518, 1.182678601887217, 1.1181245959942379, 1.8476778958653248, 1.2034843151401518, 1.182678601887217, 1.1181245959942379, 1.8476778958653248, 1.2034843151401518, 1.182678601887217, 1.1181245959942379, 1.8476778958653248, 1.2034843151401518, 1.182678601887217, 1.1181245959942379, 1.8476778958653248, 1.2034843151401518, 1.182678601887217, 1.1181245959942379, 1.8476778958653248, 1.2034843151401518, 1.182678601887217, 1.1181245959942379, 1.8476778958653248, 2.7313500401129946, 1.2361639342889352, 1.3485764170453953, 1.2591469764561207], 'overlaps_zscores': array([ 5.90026077,  0.996357  , -0.95436716,  0.12211942, -0.95436716,\n",
      "        0.996357  , -0.95436716,  0.12211942, -0.95436716,  0.996357  ,\n",
      "       -0.95436716,  0.12211942, -0.95436716,  0.996357  , -0.95436716,\n",
      "        0.12211942, -0.95436716,  0.996357  , -0.95436716,  0.12211942,\n",
      "       -0.95436716,  0.996357  , -0.95436716,  0.12211942, -0.95436716,\n",
      "        0.996357  , -0.95436716,  0.12211942, -0.95436716,  0.996357  ,\n",
      "       -0.95436716,  0.12211942, -0.95436716, -0.95436716, -0.31918928,\n",
      "        0.17076962, -0.34476586, -0.95436716, -0.31918928,  0.17076962,\n",
      "       -0.34476586, -0.95436716, -0.31918928,  0.17076962, -0.34476586,\n",
      "       -0.95436716, -0.31918928,  0.17076962, -0.34476586, -0.95436716,\n",
      "       -0.31918928,  0.17076962, -0.34476586, -0.95436716, -0.31918928,\n",
      "        0.17076962, -0.34476586, -0.95436716, -0.31918928,  0.17076962,\n",
      "       -0.34476586, -0.95436716, -0.31918928,  0.17076962, -0.34476586,\n",
      "        1.52371812,  0.85534079,  0.25527307, -0.95436716,  1.52371812,\n",
      "        0.85534079,  0.25527307, -0.95436716,  1.52371812,  0.85534079,\n",
      "        0.25527307, -0.95436716,  1.52371812,  0.85534079,  0.25527307,\n",
      "       -0.95436716,  1.52371812,  0.85534079,  0.25527307, -0.95436716,\n",
      "        1.52371812,  0.85534079,  0.25527307, -0.95436716,  1.52371812,\n",
      "        0.85534079,  0.25527307, -0.95436716,  1.52371812,  0.85534079,\n",
      "        0.25527307, -0.95436716, -0.95436716,  0.01220787, -0.95436716,\n",
      "        0.45903178]), 'spatial_info_zscores': array([-0.47955585, -0.7579267 ,  0.63879189, -0.72395712,  2.29027658,\n",
      "       -0.7579267 ,  0.63879189, -0.72395712,  2.29027658, -0.7579267 ,\n",
      "        0.63879189, -0.72395712,  2.29027658, -0.7579267 ,  0.63879189,\n",
      "       -0.72395712,  2.29027658, -0.7579267 ,  0.63879189, -0.72395712,\n",
      "        2.29027658, -0.7579267 ,  0.63879189, -0.72395712,  2.29027658,\n",
      "       -0.7579267 ,  0.63879189, -0.72395712,  2.29027658, -0.7579267 ,\n",
      "        0.63879189, -0.72395712,  2.29027658,  1.4459886 , -0.08538313,\n",
      "       -1.0571746 ,  0.37400092,  1.4459886 , -0.08538313, -1.0571746 ,\n",
      "        0.37400092,  1.4459886 , -0.08538313, -1.0571746 ,  0.37400092,\n",
      "        1.4459886 , -0.08538313, -1.0571746 ,  0.37400092,  1.4459886 ,\n",
      "       -0.08538313, -1.0571746 ,  0.37400092,  1.4459886 , -0.08538313,\n",
      "       -1.0571746 ,  0.37400092,  1.4459886 , -0.08538313, -1.0571746 ,\n",
      "        0.37400092,  1.4459886 , -0.08538313, -1.0571746 ,  0.37400092,\n",
      "       -0.73115892, -0.76478938, -0.86913479,  0.31011879, -0.73115892,\n",
      "       -0.76478938, -0.86913479,  0.31011879, -0.73115892, -0.76478938,\n",
      "       -0.86913479,  0.31011879, -0.73115892, -0.76478938, -0.86913479,\n",
      "        0.31011879, -0.73115892, -0.76478938, -0.86913479,  0.31011879,\n",
      "       -0.73115892, -0.76478938, -0.86913479,  0.31011879, -0.73115892,\n",
      "       -0.76478938, -0.86913479,  0.31011879, -0.73115892, -0.76478938,\n",
      "       -0.86913479,  0.31011879,  1.73849084, -0.67833542, -0.49663132,\n",
      "       -0.64118551]), 'coherence': [0.9932656714576406, 0.9927328559343691], 'fields_map_good': [array([[0., 0., 0., ..., 0., 0., 0.],\n",
      "       [0., 0., 0., ..., 0., 0., 0.],\n",
      "       [0., 0., 0., ..., 0., 0., 0.],\n",
      "       ...,\n",
      "       [1., 1., 1., ..., 0., 0., 0.],\n",
      "       [1., 1., 1., ..., 0., 0., 0.],\n",
      "       [1., 1., 1., ..., 0., 0., 0.]]), array([[0., 0., 0., ..., 0., 0., 0.],\n",
      "       [0., 0., 0., ..., 0., 0., 0.],\n",
      "       [0., 0., 0., ..., 0., 0., 0.],\n",
      "       ...,\n",
      "       [1., 1., 1., ..., 0., 0., 0.],\n",
      "       [1., 1., 1., ..., 0., 0., 0.],\n",
      "       [1., 1., 1., ..., 0., 0., 0.]])], 'res_array': [{'spatial_information_rate': 0.9796924324743146, 'spatial_information_content': 1.359219137313552, 'sparsity': 0.3840641420120888, 'selectivity': 5.313650816480025, 'peak_rate': 3.8299515882372055, 'mean_rate': 0.10263208135471957}, {'spatial_information_rate': 21.80048672433624, 'spatial_information_content': 1.3590614156630665, 'sparsity': 0.38468089511602194, 'selectivity': 5.078180861325424, 'peak_rate': 81.45828670817721, 'mean_rate': 2.1900803052777245}], 'rms_good': [masked_array(\n",
      "  data=[[0.0, 0.0, 0.0, ..., 0.0, 0.0, 0.0],\n",
      "        [0.0, 0.0, 0.0, ..., 0.0, 0.0, 0.0],\n",
      "        [0.0, 0.0, 0.0, ..., 0.0, 0.0, 0.0],\n",
      "        ...,\n",
      "        [1.9316499060871155, 2.574569626875974, 3.3048901194152167, ...,\n",
      "         0.0, 0.0, 0.0],\n",
      "        [1.4436378395488514, 1.884187241513545, 2.402256297123917, ...,\n",
      "         0.0, 0.0, 0.0],\n",
      "        [1.1290324988445357, 1.3925466556383435, 1.72159688344677, ...,\n",
      "         0.0, 0.0, 0.0]],\n",
      "  mask=[[False, False, False, ..., False, False, False],\n",
      "        [False, False, False, ..., False, False, False],\n",
      "        [False, False, False, ..., False, False, False],\n",
      "        ...,\n",
      "        [False, False, False, ..., False, False, False],\n",
      "        [False, False, False, ..., False, False, False],\n",
      "        [False, False, False, ..., False, False, False]],\n",
      "  fill_value=1e+20), masked_array(\n",
      "  data=[[0.0, 0.0, 0.0, ..., 0.0, 0.0, 0.0],\n",
      "        [0.0, 0.0, 0.0, ..., 0.0, 0.0, 0.0],\n",
      "        [0.0, 0.0, 0.0, ..., 0.0, 0.0, 0.0],\n",
      "        ...,\n",
      "        [43.78374795841686, 57.11042405401519, 71.75673586785513, ...,\n",
      "         0.0, 0.0, 0.0],\n",
      "        [32.90920900361953, 41.95936291714235, 52.25762087387997, ...,\n",
      "         0.0, 0.0, 0.0],\n",
      "        [25.979683796045958, 31.22612402794677, 37.56237973489846, ...,\n",
      "         0.0, 0.0, 0.0]],\n",
      "  mask=[[False, False, False, ..., False, False, False],\n",
      "        [False, False, False, ..., False, False, False],\n",
      "        [False, False, False, ..., False, False, False],\n",
      "        ...,\n",
      "        [False, False, False, ..., False, False, False],\n",
      "        [False, False, False, ..., False, False, False],\n",
      "        [False, False, False, ..., False, False, False]],\n",
      "  fill_value=1e+20)]}\n"
     ]
    }
   ],
   "source": [
    "fname = '/media/cat/4TB/donato/nathalie/DON-007050/FS9/cell_dictionary.npy'\n",
    "data = np.load(fname, allow_pickle=True)\n",
    "print (len(data))\n",
    "print (data[0])"
   ]
  },
  {
   "cell_type": "code",
   "execution_count": null,
   "id": "c06e010a-420a-4f0f-b615-5a9ecab66111",
   "metadata": {},
   "outputs": [],
   "source": []
  },
  {
   "cell_type": "code",
   "execution_count": null,
   "id": "d6beb034-b492-464f-89e4-3d5d6f22a1ff",
   "metadata": {},
   "outputs": [],
   "source": []
  },
  {
   "cell_type": "code",
   "execution_count": null,
   "id": "52bdf593-0c71-481d-8714-4c0374ddba51",
   "metadata": {},
   "outputs": [],
   "source": []
  },
  {
   "cell_type": "code",
   "execution_count": null,
   "id": "4b0f2e1e-95ab-4c8b-bec2-2fc290826c54",
   "metadata": {},
   "outputs": [],
   "source": []
  },
  {
   "cell_type": "code",
   "execution_count": null,
   "id": "bc7309a1-817d-4f89-b197-1aa4ee9d96e6",
   "metadata": {},
   "outputs": [],
   "source": []
  },
  {
   "cell_type": "code",
   "execution_count": null,
   "id": "a0794bd7-d43f-41af-885b-3529755a9efa",
   "metadata": {},
   "outputs": [],
   "source": []
  },
  {
   "cell_type": "code",
   "execution_count": null,
   "id": "a7e52714-5238-4024-846c-29457f20deef",
   "metadata": {},
   "outputs": [],
   "source": []
  },
  {
   "cell_type": "code",
   "execution_count": null,
   "id": "cc508896-0c60-4bdd-a3b5-0660cb4d1b67",
   "metadata": {},
   "outputs": [],
   "source": []
  },
  {
   "cell_type": "code",
   "execution_count": null,
   "id": "fe59e6c0-9599-4066-bd4c-a0b1bb7c9d7d",
   "metadata": {},
   "outputs": [],
   "source": []
  },
  {
   "cell_type": "code",
   "execution_count": null,
   "id": "a5d402b5-6d6f-405b-b8c5-2cc9d56c940b",
   "metadata": {},
   "outputs": [],
   "source": []
  },
  {
   "cell_type": "code",
   "execution_count": null,
   "id": "ea8f7bb5-dd8d-436e-8cf8-93a8b8d36975",
   "metadata": {},
   "outputs": [],
   "source": []
  },
  {
   "cell_type": "code",
   "execution_count": null,
   "id": "79d760b4-f468-4361-977f-602acb356f80",
   "metadata": {},
   "outputs": [],
   "source": []
  },
  {
   "cell_type": "code",
   "execution_count": 487,
   "id": "da259732-5bb1-48a0-b519-c26526103e99",
   "metadata": {},
   "outputs": [
    {
     "name": "stdout",
     "output_type": "stream",
     "text": [
      "10\n",
      "dict_keys(['cell_id', 'overlaps', 'spatial_info', 'overlaps_zscores', 'spatial_info_zscores', 'coherence', 'fields_map_good', 'res_array', 'rms_good'])\n",
      "[-0.82595826  1.58951752 -0.82595826 -0.82595826 -0.32273414  1.58951752\n",
      " -0.82595826 -0.82595826 -0.32273414  1.58951752 -0.82595826 -0.82595826\n",
      " -0.32273414  1.58951752 -0.82595826 -0.82595826 -0.32273414  1.58951752\n",
      " -0.82595826 -0.82595826 -0.32273414  1.58951752 -0.82595826 -0.82595826\n",
      " -0.32273414  1.58951752 -0.82595826 -0.82595826 -0.32273414  1.58951752\n",
      " -0.82595826 -0.82595826 -0.32273414 -0.82595826 -0.82595826  0.09978423\n",
      "  0.11376413 -0.82595826 -0.82595826  0.09978423  0.11376413 -0.82595826\n",
      " -0.82595826  0.09978423  0.11376413 -0.82595826 -0.82595826  0.09978423\n",
      "  0.11376413 -0.82595826 -0.82595826  0.09978423  0.11376413 -0.82595826\n",
      " -0.82595826  0.09978423  0.11376413 -0.82595826 -0.82595826  0.09978423\n",
      "  0.11376413 -0.82595826 -0.82595826  0.09978423  0.11376413 -0.82595826\n",
      "  1.64657601  1.50005546 -0.64914979 -0.82595826  1.64657601  1.50005546\n",
      " -0.64914979 -0.82595826  1.64657601  1.50005546 -0.64914979 -0.82595826\n",
      "  1.64657601  1.50005546 -0.64914979 -0.82595826  1.64657601  1.50005546\n",
      " -0.64914979 -0.82595826  1.64657601  1.50005546 -0.64914979 -0.82595826\n",
      "  1.64657601  1.50005546 -0.64914979 -0.82595826  1.64657601  1.50005546\n",
      " -0.64914979  1.32138742  2.3723106  -0.82595826 -0.82595826]\n",
      "[5.01029280697151, 1.5417411418329094, 4.36956961890486, 0.08032734055753447, 2.654362778945383, -0.24794812776578024, -0.8259582629402022, -1.4225424507663635, 9.999999999999996, -1.8594382256766326]\n",
      "[5.01029280697151, 1.5417411418329094, 4.36956961890486, 0.08032734055753447, 2.654362778945383, -0.24794812776578024, -0.8259582629402022, -1.4225424507663635, 9.999999999999996, -1.8594382256766326]\n"
     ]
    }
   ],
   "source": [
    "##################################################\n",
    "############# VISUALIZE MULTI_CELL ###############\n",
    "##################################################\n",
    "#\n",
    "cell_id = 6\n",
    "\n",
    "#\n",
    "print (len(D_array))\n",
    "print (D_array[cell_id].keys())\n",
    "print (D_array[cell_id]['overlaps_zscores'])\n",
    "\n",
    "def plot_all_metrics(D_array):\n",
    "    \n",
    "    #\n",
    "    sis = []\n",
    "    sis_z = []\n",
    "    overls = []\n",
    "    overls_z = []\n",
    "    cohs = []\n",
    "    spars = []\n",
    "    si_rates = []\n",
    "    for k in range(len(D_array)):\n",
    "        cell = D_array[k]\n",
    "        si = cell['spatial_info'][0]\n",
    "        si_z = cell['spatial_info_zscores'][0]\n",
    "        overl = cell['overlaps'][0]\n",
    "        overl_z = cell['overlaps_zscores'][0]\n",
    "        #\n",
    "        temp = cell['res_array']\n",
    "        spar = []\n",
    "        si_rate = []\n",
    "        for k in range(len(temp)):\n",
    "            spar.append(temp[k]['sparsity'])\n",
    "            si_rate.append(temp[k]['spatial_information_rate'])    \n",
    "        spar = np.nanmean(np.hstack((spar)))\n",
    "        si_rate = np.nanmean(np.hstack((si_rate)))\n",
    "        \n",
    "        #\n",
    "        coh = np.nanmean(np.hstack(cell['coherence']))\n",
    "\n",
    "        \n",
    "        #\n",
    "        sis.append(si)\n",
    "        sis_z.append(si_z)\n",
    "        overls.append(overl)\n",
    "        overls_z.append(overl_z)\n",
    "        cohs.append(coh)\n",
    "        spars.append(spar)\n",
    "        si_rates.append(si_rate)\n",
    "\n",
    "    \n",
    "    plt.figure(figsize=(15,10))\n",
    "\n",
    "    ############################\n",
    "    ax = plt.subplot(2,3,1)\n",
    "    color='blue'\n",
    "    ax.scatter(overls,\n",
    "                sis,\n",
    "                s=100,\n",
    "                #alpha=overl_z,\n",
    "                edgecolor='black',\n",
    "                c=color)\n",
    "    plt.xlabel(\" overlap of place field (1st half and 2nd half)\")\n",
    "    plt.ylabel(\" spatial info (average 1st half and 2nd half)\")\n",
    "    for k in range(len(overls)):\n",
    "        ax.annotate(str(cell_ids[k]), (overls[k], sis[k]))\n",
    "    \n",
    "    ############################\n",
    "    ax = plt.subplot(2,3,2)\n",
    "    color='blue'\n",
    "    print (overls_z)\n",
    "    ax.scatter(overls,\n",
    "                sis_z,\n",
    "                s=100,\n",
    "                #alpha=overl_z,\n",
    "                edgecolor='black',\n",
    "                c=color)\n",
    "    plt.xlabel(\" overlap of place field (1st half and 2nd half)\")\n",
    "    plt.ylabel(\" zscore spatial info\")\n",
    "    for k in range(len(overls)):\n",
    "        ax.annotate(str(cell_ids[k]), (overls[k], sis_z[k]))\n",
    "        \n",
    "    ############################\n",
    "    ax = plt.subplot(2,3,3)\n",
    "    color='blue'\n",
    "    print (overls_z)\n",
    "    ax.scatter(overls,\n",
    "                si_rates,\n",
    "                s=100,\n",
    "                #alpha=overl_z,\n",
    "                edgecolor='black',\n",
    "                c=color)\n",
    "    plt.xlabel(\" overlap of place field (1st half and 2nd half)\")\n",
    "    plt.ylabel(\" spatial information rate\")\n",
    "    for k in range(len(overls)):\n",
    "        ax.annotate(str(cell_ids[k]), (overls[k], si_rates[k]))\n",
    "        \n",
    "        \n",
    "        \n",
    "    ############################\n",
    "    ax = plt.subplot(2,3,4)\n",
    "    color='red'\n",
    "    ax.scatter(overls,\n",
    "                overls_z,\n",
    "                s=100,\n",
    "                #alpha=overl_z,\n",
    "                edgecolor='black',\n",
    "                c=color)\n",
    "    plt.xlabel(\" overlap of place field (1st half and 2nd half)\")\n",
    "    plt.ylabel(\" zscore overlap\")\n",
    "    for k in range(len(overls)):\n",
    "        ax.annotate(str(cell_ids[k]), (overls[k], overls_z[k]))\n",
    "        \n",
    "    ############################\n",
    "    ax = plt.subplot(2,3,5)\n",
    "    color='green'\n",
    "    ax.scatter(overls,\n",
    "                cohs,\n",
    "                s=100,\n",
    "                #alpha=overl_z,\n",
    "                edgecolor='black',\n",
    "                c=color)\n",
    "    plt.xlabel(\" overlap of place field (1st half and 2nd half)\")\n",
    "    plt.ylabel(\" coherence\")\n",
    "    for k in range(len(overls)):\n",
    "        ax.annotate(str(cell_ids[k]), (overls[k], cohs[k]))\n",
    "\n",
    "        \n",
    "        \n",
    "    ############################\n",
    "    ax = plt.subplot(2,3,5)\n",
    "    color='black'\n",
    "    ax.scatter(overls,\n",
    "                spars,\n",
    "                s=100,\n",
    "                #alpha=overl_z,\n",
    "                edgecolor='black',\n",
    "                c=color)\n",
    "    plt.xlabel(\" overlap of place field (1st half and 2nd half)\")\n",
    "    plt.ylabel(\" sparsity\")\n",
    "    for k in range(len(overls)):\n",
    "        ax.annotate(str(cell_ids[k]), (overls[k], spars[k]))\n",
    "    \n",
    "    \n",
    "    \n",
    "    plt.show()\n",
    "\n",
    "plot_all_metrics(D_array)\n",
    "\n",
    "\n"
   ]
  },
  {
   "cell_type": "code",
   "execution_count": 472,
   "id": "a8764cd0-86e8-4342-9228-6723962e56e6",
   "metadata": {},
   "outputs": [],
   "source": [
    "cell_id = 23\n",
    "\n",
    "for k in range(len(D_array)):\n",
    "    cell = D_array[k]\n",
    "    if cell['cell_id'] == cell_id:\n",
    "        rms_good = cell['rms_good']\n",
    "        fields_map_good = cell['fields_map_good']\n",
    "\n",
    "plt.figure()\n",
    "plot_fields(rms_good, fields_map_good)\n",
    "plt.show()\n"
   ]
  },
  {
   "cell_type": "code",
   "execution_count": null,
   "id": "991420c2-7252-4e10-a9c4-ef29f3e8d0c0",
   "metadata": {},
   "outputs": [],
   "source": []
  },
  {
   "cell_type": "code",
   "execution_count": null,
   "id": "947b2ffd-b5f3-4d5d-a671-0ebf0ce5c6e7",
   "metadata": {},
   "outputs": [],
   "source": []
  },
  {
   "cell_type": "code",
   "execution_count": null,
   "id": "c4b3e7b1-50b2-4e5f-a703-a0b557515421",
   "metadata": {},
   "outputs": [],
   "source": []
  },
  {
   "cell_type": "code",
   "execution_count": 325,
   "id": "cb871660-4db8-41cc-b2a8-5f39ec5ff208",
   "metadata": {},
   "outputs": [
    {
     "name": "stderr",
     "output_type": "stream",
     "text": [
      "/tmp/ipykernel_394468/2958903581.py:16: RuntimeWarning: Mean of empty slice\n",
      "  s_info.append(np.nanmean(np.hstack((temp1,temp2))))\n"
     ]
    }
   ],
   "source": [
    "#feature = 'spatial_information_rate'\n",
    "feature = 'spatial_information_content'\n",
    "#feature = 'sparsity'\n",
    "#feature = 'selectivity'\n",
    "#feature = 'peak_rate'\n",
    "#feature = 'mean_rate'\n",
    "\n",
    "#\n",
    "s_info = []\n",
    "for k in range(len(res_arrays)):\n",
    "    temp1 = res_arrays[k][0][feature]\n",
    "    temp2 = res_arrays[k][1][feature]\n",
    "    #print (temp1, temp2)\n",
    "    #print (np.mean(temp1,temp2))\n",
    "    #\n",
    "    s_info.append(np.nanmean(np.hstack((temp1,temp2))))\n"
   ]
  },
  {
   "cell_type": "code",
   "execution_count": 328,
   "id": "5f74a3a5-cf01-4e45-bc07-6be7c8629f7d",
   "metadata": {},
   "outputs": [
    {
     "name": "stderr",
     "output_type": "stream",
     "text": [
      "/tmp/ipykernel_394468/3649763955.py:9: RuntimeWarning: Mean of empty slice\n",
      "  s_info.append(np.nanmean(np.hstack((temp1,temp2))))\n"
     ]
    }
   ],
   "source": [
    "feature = 'coherence'\n",
    "s_info = []\n",
    "for k in range(len(res_arrays)):\n",
    "    temp1 = cohs_array[k][0]\n",
    "    temp2 = cohs_array[k][1]\n",
    "    #print (temp1, temp2)\n",
    "    #print (np.mean(temp1,temp2))\n",
    "    #\n",
    "    s_info.append(np.nanmean(np.hstack((temp1,temp2))))\n"
   ]
  },
  {
   "cell_type": "code",
   "execution_count": 329,
   "id": "63afb0c0-69fa-454b-9722-b38bbbf0e919",
   "metadata": {},
   "outputs": [],
   "source": [
    "color = 'blue'\n",
    "if circular_shuffle:\n",
    "    color='red'\n",
    "\n",
    "plt.figure()\n",
    "plt.scatter(overlaps,\n",
    "            s_info,\n",
    "            c=color)\n",
    "\n",
    "plt.xlabel(\" overlap of place field (1st half and 2nd half)\")\n",
    "plt.ylabel(feature + \" (average 1st half and 2nd half)\")\n",
    "plt.suptitle(\"mouse 7050\")\n",
    "plt.show()"
   ]
  },
  {
   "cell_type": "code",
   "execution_count": 150,
   "id": "8df69361-81a8-44c1-95ac-7f4a63a3c75e",
   "metadata": {},
   "outputs": [
    {
     "name": "stderr",
     "output_type": "stream",
     "text": [
      "/tmp/ipykernel_394468/4117706899.py:672: MatplotlibDeprecationWarning: Auto-removal of overlapping axes is deprecated since 3.6 and will be removed two minor releases later; explicitly call ax.remove() as needed.\n",
      "  ax=plt.subplot(2,2,k+1)\n"
     ]
    }
   ],
   "source": [
    "    plot_fields(rms, fields_map)\n",
    "\n",
    "    if True:\n",
    "        plt.show()\n",
    "    else:\n",
    "        plt.savefig(\"/home/cat/fields.svg\")\n",
    "        plt.close()"
   ]
  },
  {
   "cell_type": "code",
   "execution_count": 429,
   "id": "3e7e20d0-9930-4bde-8adb-7ef7f30b728a",
   "metadata": {},
   "outputs": [],
   "source": []
  },
  {
   "cell_type": "code",
   "execution_count": 39,
   "id": "7172b928-dbd5-4ee7-9aac-f3dca911957e",
   "metadata": {},
   "outputs": [
    {
     "name": "stdout",
     "output_type": "stream",
     "text": [
      "['SI_rate: 2.65SI_cont: 1.14Sparse: 0.45 \\n Select: 4.59Peak_r: 10.64Mean_r: 0.57']\n"
     ]
    }
   ],
   "source": [
    "#print (res)\n",
    "text = \"SI_rate: \"+ str(round(res['spatial_information_rate'],2)) + \\\n",
    "        \"SI_cont: \"+ str(round(res['spatial_information_content'],2)) + \\\n",
    "        \"Sparse: \"+ str(round(res['sparsity'],2)) + ' \\n '+ \\\n",
    "        \"Select: \"+  str(round(res['selectivity'],2))+ \\\n",
    "        \"Peak_r: \"+  str(round(res['peak_rate'],2))+ \\\n",
    "        \"Mean_r: \"+  str(round(res['mean_rate'],2))\n",
    "\n",
    "print (text)\n"
   ]
  },
  {
   "cell_type": "code",
   "execution_count": 9,
   "id": "c45707dd-c713-4a40-86a3-a01b23dbd365",
   "metadata": {
    "tags": []
   },
   "outputs": [
    {
     "name": "stderr",
     "output_type": "stream",
     "text": [
      " 22%|██▏       | 103/476 [00:09<00:29, 12.64it/s]"
     ]
    },
    {
     "name": "stdout",
     "output_type": "stream",
     "text": [
      "ceel Id:  nan nan\n"
     ]
    },
    {
     "name": "stderr",
     "output_type": "stream",
     "text": [
      " 37%|███▋      | 177/476 [00:16<00:27, 11.02it/s]\n"
     ]
    },
    {
     "ename": "KeyboardInterrupt",
     "evalue": "",
     "output_type": "error",
     "traceback": [
      "\u001b[0;31m---------------------------------------------------------------------------\u001b[0m",
      "\u001b[0;31mKeyboardInterrupt\u001b[0m                         Traceback (most recent call last)",
      "Cell \u001b[0;32mIn [9], line 17\u001b[0m\n\u001b[1;32m     11\u001b[0m sel_array \u001b[38;5;241m=\u001b[39m []\n\u001b[1;32m     12\u001b[0m \u001b[38;5;28;01mfor\u001b[39;00m cell_id \u001b[38;5;129;01min\u001b[39;00m tqdm(cell_ids): \n\u001b[1;32m     13\u001b[0m     \u001b[38;5;66;03m#print (cell_id)\u001b[39;00m\n\u001b[1;32m     15\u001b[0m     _, rms, _, _ \u001b[38;5;241m=\u001b[39m get_rms_and_place_field(cell_id,\n\u001b[1;32m     16\u001b[0m                                            upphases\u001b[38;5;241m.\u001b[39mcopy(),\n\u001b[0;32m---> 17\u001b[0m                                            filtered_Fs\u001b[38;5;241m.\u001b[39mcopy(),\n\u001b[1;32m     18\u001b[0m                                            occ_map\u001b[38;5;241m.\u001b[39mcopy(),\n\u001b[1;32m     19\u001b[0m                                            arena_size\u001b[38;5;241m.\u001b[39mcopy(),\n\u001b[1;32m     20\u001b[0m                                            sigma,\n\u001b[1;32m     21\u001b[0m                                            scale_flag,\n\u001b[1;32m     22\u001b[0m                                            scale_value\n\u001b[1;32m     23\u001b[0m                                            \u001b[38;5;66;03m#limits\u001b[39;00m\n\u001b[1;32m     24\u001b[0m                                           )\n\u001b[1;32m     25\u001b[0m     \u001b[38;5;66;03m#\u001b[39;00m\n\u001b[1;32m     26\u001b[0m     res \u001b[38;5;241m=\u001b[39m op\u001b[38;5;241m.\u001b[39manalysis\u001b[38;5;241m.\u001b[39mrate_map_stats(rms\u001b[38;5;241m.\u001b[39mcopy(), \n\u001b[1;32m     27\u001b[0m                                      occ_map\u001b[38;5;241m.\u001b[39mcopy(), \n\u001b[1;32m     28\u001b[0m                                      debug\u001b[38;5;241m=\u001b[39m\u001b[38;5;28;01mFalse\u001b[39;00m)\n",
      "\u001b[0;31mKeyboardInterrupt\u001b[0m: "
     ]
    }
   ],
   "source": [
    "###############################################################\n",
    "############# SPATIAL SELETIVITY VS. SELECTIVITY ##############\n",
    "###############################################################\n",
    "scale_flag = False\n",
    "scale_value = 1\n",
    "sigma = 1.5\n",
    "\n",
    "cell_ids = np.arange(upphases.shape[0])\n",
    "#cell_ids = np.arange(103,200,1)\n",
    "spc_array = []\n",
    "sel_array = []\n",
    "for cell_id in tqdm(cell_ids): \n",
    "    #print (cell_id)\n",
    "    \n",
    "    _, rms, _, _ = get_rms_and_place_field(cell_id,\n",
    "                                           upphases.copy(),\n",
    "                                           filtered_Fs.copy(),\n",
    "                                           occ_map.copy(),\n",
    "                                           arena_size.copy(),\n",
    "                                           sigma,\n",
    "                                           scale_flag,\n",
    "                                           scale_value\n",
    "                                           #limits\n",
    "                                          )\n",
    "    #\n",
    "    res = op.analysis.rate_map_stats(rms.copy(), \n",
    "                                     occ_map.copy(), \n",
    "                                     debug=False)\n",
    "    \n",
    "   # print (res)\n",
    "    spc = res['spatial_information_content']\n",
    "    sel = res['selectivity']\n",
    "    if np.isnan(spc) or np.isnan(sel):\n",
    "        print (\"ceel Id: \", spc, sel)\n",
    "\n",
    "    spc_array.append(spc)\n",
    "    sel_array.append(sel)\n",
    "    \n",
    "plt.figure()\n",
    "\n",
    "plt.scatter(spc_array, sel_array)\n",
    "plt.xlabel(\"special_information_content\")\n",
    "plt.ylabel(\"selectivity\")\n",
    "\n",
    "plt.show()\n",
    "\n"
   ]
  },
  {
   "cell_type": "code",
   "execution_count": null,
   "id": "67f09358-3750-4c9d-b40f-e25ebaa81b03",
   "metadata": {},
   "outputs": [],
   "source": []
  },
  {
   "cell_type": "code",
   "execution_count": null,
   "id": "88f23f9b-4b7b-4aee-83c5-9f457427c48f",
   "metadata": {},
   "outputs": [],
   "source": []
  },
  {
   "cell_type": "code",
   "execution_count": null,
   "id": "fb412641-fbaa-49ea-80dd-ecf2e55585df",
   "metadata": {},
   "outputs": [],
   "source": []
  },
  {
   "cell_type": "code",
   "execution_count": null,
   "id": "1b365865-8924-4d7a-a2d2-36c72aeff513",
   "metadata": {},
   "outputs": [],
   "source": []
  }
 ],
 "metadata": {
  "kernelspec": {
   "display_name": "Python 3 (ipykernel)",
   "language": "python",
   "name": "python3"
  },
  "language_info": {
   "codemirror_mode": {
    "name": "ipython",
    "version": 3
   },
   "file_extension": ".py",
   "mimetype": "text/x-python",
   "name": "python",
   "nbconvert_exporter": "python",
   "pygments_lexer": "ipython3",
   "version": "3.11.0"
  }
 },
 "nbformat": 4,
 "nbformat_minor": 5
}
