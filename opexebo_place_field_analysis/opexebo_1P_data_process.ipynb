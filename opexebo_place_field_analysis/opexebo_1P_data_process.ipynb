{
 "cells": [
  {
   "cell_type": "code",
   "execution_count": 2,
   "id": "5ec3ac28-a1c6-4e51-be96-ca6d903449e5",
   "metadata": {},
   "outputs": [
    {
     "data": {
      "application/javascript": [
       "IPython.notebook.set_autosave_interval(180000)"
      ]
     },
     "metadata": {},
     "output_type": "display_data"
    },
    {
     "name": "stdout",
     "output_type": "stream",
     "text": [
      "Autosaving every 180 seconds\n",
      "The autoreload extension is already loaded. To reload it, use:\n",
      "  %reload_ext autoreload\n"
     ]
    },
    {
     "name": "stderr",
     "output_type": "stream",
     "text": [
      "<ipython-input-2-f30c00f38f82>:12: DeprecationWarning: Importing display from IPython.core.display is deprecated since IPython 7.14, please import from IPython display\n",
      "  from IPython.core.display import display, HTML\n"
     ]
    },
    {
     "data": {
      "text/html": [
       "<style>.container { width:100% !important; }</style>"
      ],
      "text/plain": [
       "<IPython.core.display.HTML object>"
      ]
     },
     "metadata": {},
     "output_type": "display_data"
    }
   ],
   "source": [
    "import matplotlib\n",
    "%matplotlib tk\n",
    "%autosave 180\n",
    "%load_ext autoreload\n",
    "%autoreload 2\n",
    "\n",
    "import nest_asyncio\n",
    "%config Completer.use_jedi = False\n",
    "\n",
    "#\n",
    "import matplotlib.pyplot as plt\n",
    "from IPython.core.display import display, HTML\n",
    "display(HTML(\"<style>.container { width:100% !important; }</style>\"))\n",
    "\n",
    "# \n",
    "import numpy as np\n",
    "import os\n",
    "import scipy\n",
    "\n",
    "# add root directory to be able to import packages\n",
    "# todo: make all packages installable so they can be called/imported by environment\n",
    "import sys\n",
    "\n",
    "#\n",
    "from tqdm import tqdm, trange\n",
    "\n",
    "#\n",
    "import opexebo as op\n",
    "\n",
    "import astropy\n",
    "from astropy.convolution import Gaussian2DKernel\n",
    "\n",
    "\n",
    "\n",
    "#\n",
    "from utils import load_locs_traces_running, check_cell_id_field, compute_all_place_fields_parallel\n"
   ]
  },
  {
   "cell_type": "code",
   "execution_count": 13,
   "id": "0f065b38-2e13-4043-8422-3a2a0cf21ef5",
   "metadata": {},
   "outputs": [
    {
     "name": "stdout",
     "output_type": "stream",
     "text": [
      "(36000, 2)\n",
      "(35999,)\n",
      "Locs:  (35110, 2)  uphases:  (365, 35110)\n"
     ]
    },
    {
     "name": "stderr",
     "output_type": "stream",
     "text": [
      "  0%|          | 0/1 [00:00<?, ?it/s]"
     ]
    },
    {
     "name": "stdout",
     "output_type": "stream",
     "text": [
      "spatial infos:  [2.955531516915589, nan, 2.9555315169986014, 0.9181216553507162, 1.191829225157535, 1.0397786751746796, 1.2005159206994198, 0.7387034849790302, 1.2167301597849207, 0.9389338213054268, 0.7528332325830334, 0.7863014383638653, 1.073112967263811, 0.9349981101402646, 0.6881328507406218, 0.8972120101318345, 0.7765539744086318, 0.6891332242348978, 0.7300578028128288, 1.1239518295589723, 1.032212991766239, 0.8317786115750254, 0.9435569092558892, 1.0783089448132372, 0.7355251324407017, 0.8674601732356588, 0.9063936532869776, 0.6749505156440955, 1.19318951059511, 0.6494780415203133, 1.0428483991577888, 0.7434920533065701, 0.7350650349555868, 0.6961002468112123, 0.7808310466670048, 0.9739172228226538, 0.8280564584715622, 0.7076825747025871, 0.9142057987935502, 0.8749948144233182, 1.0559996933920472, 1.0086119367926438, 0.6468720874040571, 0.8625704109143231, 0.7050627015393219, 1.0286610279314448, 0.7960272651853172, 0.837939198125274, 0.8311306051905922, 0.7045789886199171, 0.9089311993228667, 1.2179411923648593, 0.8937888348691595, 0.7732247906508192, 0.591277685656261, 0.6677874963086253, 1.1033535233150775, 0.936207623644879, 0.960464091612809, 0.8092696493794949, 0.76230668477098, 0.9863131820006142, 0.9592880007314527, 0.7136249346287444, 1.0756905730929804, 1.0119305979200137, 0.8932575560987956, 0.628801879848587, 0.7916125274507652, 1.0386229829152684, 0.6982127065606691, 1.0072001050171187, 0.9337339316430907, 1.057578312050974, 0.7340580568947638, 0.7927464160803667, 0.8454403858468866, 0.7511774163289253, 0.7243727680076308, 0.8022616822934504, 1.0908342195788825, 0.8778189437760912, 0.7875227115252267, 1.1289125349710885, 0.6335792161098727, 0.6875740081056982, 1.0317416902820098, 1.0521465877494642, 1.0490236897910963, 1.0814095760354177, 0.7719435752399907, 0.7450849953492726, 0.8775998548905622, 0.6962827152633171, 0.7983753968592525, 0.6519362062860615, 0.6154066604875887, 0.7391066339062454, 0.7983461589489587, 0.7337792341362355, 0.9283970360808841, 0.8334177594114961, 0.6423760275874262]\n",
      "SI zscors:  [ 6.20934394e+00             nan  6.20934394e+00  3.06192628e-02\n",
      "  8.60674986e-01  3.99560851e-01  8.87018581e-01 -5.13490932e-01\n",
      "  9.36190484e-01  9.37350089e-02 -4.70640536e-01 -3.69143614e-01\n",
      "  5.00651661e-01  8.17994253e-02 -6.66853312e-01 -3.27921025e-02\n",
      " -3.98704135e-01 -6.63819543e-01 -5.39710148e-01  6.54827480e-01\n",
      "  3.76616879e-01 -2.31227853e-01  1.07755157e-01  5.16409175e-01\n",
      " -5.23129722e-01 -1.23018626e-01 -4.94751103e-03 -7.06830551e-01\n",
      "  8.64800238e-01 -7.84079320e-01  4.08870210e-01 -4.98968942e-01\n",
      " -5.24525031e-01 -6.42691092e-01 -3.85733327e-01  1.99826969e-01\n",
      " -2.42515792e-01 -6.07566095e-01  1.87438911e-02 -1.00168794e-01\n",
      "  4.48753313e-01  3.05043445e-01 -7.91982233e-01 -1.37847501e-01\n",
      " -6.15511219e-01  3.65845062e-01 -3.39648711e-01 -2.12545030e-01\n",
      " -2.33193021e-01 -6.16978145e-01  2.74794516e-03  9.39863106e-01\n",
      " -4.31733507e-02 -4.08800341e-01 -9.60579877e-01 -7.28553389e-01\n",
      "  5.92360293e-01  8.54674408e-02  1.59028505e-01 -2.99489366e-01\n",
      " -4.41910993e-01  2.37419415e-01  1.55461848e-01 -5.89545074e-01\n",
      "  5.08468604e-01  3.15107740e-01 -4.47845264e-02 -8.46782614e-01\n",
      " -3.53037009e-01  3.96056056e-01 -6.36284768e-01  3.00761872e-01\n",
      "  7.79656307e-02  4.53540690e-01 -5.27578830e-01 -3.49598336e-01\n",
      " -1.89796650e-01 -4.75662026e-01 -5.56950796e-01 -3.20741987e-01\n",
      "  5.54393788e-01 -9.16042344e-02 -3.65439936e-01  6.69871499e-01\n",
      " -8.32294687e-01 -6.68548079e-01  3.75187593e-01  4.37068242e-01\n",
      "  4.27597625e-01  5.25812265e-01 -4.12685802e-01 -4.94138127e-01\n",
      " -9.22686515e-02 -6.42137731e-01 -3.32527680e-01 -7.76624598e-01\n",
      " -8.87405453e-01 -5.12268328e-01 -3.32616348e-01 -5.28424398e-01\n",
      "  6.17807634e-02 -2.26256912e-01 -8.05617151e-01]\n"
     ]
    },
    {
     "name": "stderr",
     "output_type": "stream",
     "text": [
      "100%|██████████| 1/1 [00:04<00:00,  4.67s/it]\n"
     ]
    }
   ],
   "source": [
    "#############################################################\n",
    "################### DEFAULT LOADING OF DATA #################\n",
    "#############################################################\n",
    "\n",
    "#\n",
    "fname_locs = ('/media/cat/4TB/donato/nathalie/DON-007050/FS9/DON-007050_20211030_TR-BSL_FS9-ACQDLC_resnet50_open_arena_white_floorSep8shuffle1_200000_locs.npy')\n",
    "\n",
    "#\n",
    "fname_traces = '/media/cat/4TB/donato/nathalie/DON-007050/FS9/binarized_traces.npz'\n",
    "\n",
    "\n",
    "#\n",
    "n_tests = 100\n",
    "\n",
    "#\n",
    "cell_ids = [0]\n",
    "\n",
    "#\n",
    "compute_all_place_fields_parallel(n_tests,\n",
    "                                  fname_traces,\n",
    "                                  fname_locs,\n",
    "                                  cell_ids=cell_ids)\n",
    "\n",
    "\n",
    "\n"
   ]
  },
  {
   "cell_type": "code",
   "execution_count": 14,
   "id": "068f83a5-1fb6-4398-9745-c1966bba651e",
   "metadata": {},
   "outputs": [
    {
     "name": "stdout",
     "output_type": "stream",
     "text": [
      "2\n",
      "{'cell_id': 18, 'overlaps': [0.9583333333333334, 0.2727272727272727, 0.0, 0.1505016722408027, 0.0, 0.2727272727272727, 0.0, 0.1505016722408027, 0.0, 0.2727272727272727, 0.0, 0.1505016722408027, 0.0, 0.2727272727272727, 0.0, 0.1505016722408027, 0.0, 0.2727272727272727, 0.0, 0.1505016722408027, 0.0, 0.2727272727272727, 0.0, 0.1505016722408027, 0.0, 0.2727272727272727, 0.0, 0.1505016722408027, 0.0, 0.2727272727272727, 0.0, 0.1505016722408027, 0.0, 0.0, 0.0888030888030888, 0.15730337078651685, 0.08522727272727272, 0.0, 0.0888030888030888, 0.15730337078651685, 0.08522727272727272, 0.0, 0.0888030888030888, 0.15730337078651685, 0.08522727272727272, 0.0, 0.0888030888030888, 0.15730337078651685, 0.08522727272727272, 0.0, 0.0888030888030888, 0.15730337078651685, 0.08522727272727272, 0.0, 0.0888030888030888, 0.15730337078651685, 0.08522727272727272, 0.0, 0.0888030888030888, 0.15730337078651685, 0.08522727272727272, 0.0, 0.0888030888030888, 0.15730337078651685, 0.08522727272727272, 0.3464566929133858, 0.25301204819277107, 0.16911764705882354, 0.0, 0.3464566929133858, 0.25301204819277107, 0.16911764705882354, 0.0, 0.3464566929133858, 0.25301204819277107, 0.16911764705882354, 0.0, 0.3464566929133858, 0.25301204819277107, 0.16911764705882354, 0.0, 0.3464566929133858, 0.25301204819277107, 0.16911764705882354, 0.0, 0.3464566929133858, 0.25301204819277107, 0.16911764705882354, 0.0, 0.3464566929133858, 0.25301204819277107, 0.16911764705882354, 0.0, 0.3464566929133858, 0.25301204819277107, 0.16911764705882354, 0.0, 0.0, 0.13513513513513514, 0.0, 0.19760479041916168], 'spatial_info': [1.3591402764883092, 1.1869242433804459, 2.0510137560060184, 1.2079397574650077, 3.072716063613804, 1.1869242433804459, 2.0510137560060184, 1.2079397574650077, 3.072716063613804, 1.1869242433804459, 2.0510137560060184, 1.2079397574650077, 3.072716063613804, 1.1869242433804459, 2.0510137560060184, 1.2079397574650077, 3.072716063613804, 1.1869242433804459, 2.0510137560060184, 1.2079397574650077, 3.072716063613804, 1.1869242433804459, 2.0510137560060184, 1.2079397574650077, 3.072716063613804, 1.1869242433804459, 2.0510137560060184, 1.2079397574650077, 3.072716063613804, 1.1869242433804459, 2.0510137560060184, 1.2079397574650077, 3.072716063613804, 2.550391523004673, 1.6029979237752032, 1.001792484614311, 1.8871990118410729, 2.550391523004673, 1.6029979237752032, 1.001792484614311, 1.8871990118410729, 2.550391523004673, 1.6029979237752032, 1.001792484614311, 1.8871990118410729, 2.550391523004673, 1.6029979237752032, 1.001792484614311, 1.8871990118410729, 2.550391523004673, 1.6029979237752032, 1.001792484614311, 1.8871990118410729, 2.550391523004673, 1.6029979237752032, 1.001792484614311, 1.8871990118410729, 2.550391523004673, 1.6029979237752032, 1.001792484614311, 1.8871990118410729, 2.550391523004673, 1.6029979237752032, 1.001792484614311, 1.8871990118410729, 1.2034843151401518, 1.182678601887217, 1.1181245959942379, 1.8476778958653248, 1.2034843151401518, 1.182678601887217, 1.1181245959942379, 1.8476778958653248, 1.2034843151401518, 1.182678601887217, 1.1181245959942379, 1.8476778958653248, 1.2034843151401518, 1.182678601887217, 1.1181245959942379, 1.8476778958653248, 1.2034843151401518, 1.182678601887217, 1.1181245959942379, 1.8476778958653248, 1.2034843151401518, 1.182678601887217, 1.1181245959942379, 1.8476778958653248, 1.2034843151401518, 1.182678601887217, 1.1181245959942379, 1.8476778958653248, 1.2034843151401518, 1.182678601887217, 1.1181245959942379, 1.8476778958653248, 2.7313500401129946, 1.2361639342889352, 1.3485764170453953, 1.2591469764561207], 'overlaps_zscores': array([ 5.90026077,  0.996357  , -0.95436716,  0.12211942, -0.95436716,\n",
      "        0.996357  , -0.95436716,  0.12211942, -0.95436716,  0.996357  ,\n",
      "       -0.95436716,  0.12211942, -0.95436716,  0.996357  , -0.95436716,\n",
      "        0.12211942, -0.95436716,  0.996357  , -0.95436716,  0.12211942,\n",
      "       -0.95436716,  0.996357  , -0.95436716,  0.12211942, -0.95436716,\n",
      "        0.996357  , -0.95436716,  0.12211942, -0.95436716,  0.996357  ,\n",
      "       -0.95436716,  0.12211942, -0.95436716, -0.95436716, -0.31918928,\n",
      "        0.17076962, -0.34476586, -0.95436716, -0.31918928,  0.17076962,\n",
      "       -0.34476586, -0.95436716, -0.31918928,  0.17076962, -0.34476586,\n",
      "       -0.95436716, -0.31918928,  0.17076962, -0.34476586, -0.95436716,\n",
      "       -0.31918928,  0.17076962, -0.34476586, -0.95436716, -0.31918928,\n",
      "        0.17076962, -0.34476586, -0.95436716, -0.31918928,  0.17076962,\n",
      "       -0.34476586, -0.95436716, -0.31918928,  0.17076962, -0.34476586,\n",
      "        1.52371812,  0.85534079,  0.25527307, -0.95436716,  1.52371812,\n",
      "        0.85534079,  0.25527307, -0.95436716,  1.52371812,  0.85534079,\n",
      "        0.25527307, -0.95436716,  1.52371812,  0.85534079,  0.25527307,\n",
      "       -0.95436716,  1.52371812,  0.85534079,  0.25527307, -0.95436716,\n",
      "        1.52371812,  0.85534079,  0.25527307, -0.95436716,  1.52371812,\n",
      "        0.85534079,  0.25527307, -0.95436716,  1.52371812,  0.85534079,\n",
      "        0.25527307, -0.95436716, -0.95436716,  0.01220787, -0.95436716,\n",
      "        0.45903178]), 'spatial_info_zscores': array([-0.47955585, -0.7579267 ,  0.63879189, -0.72395712,  2.29027658,\n",
      "       -0.7579267 ,  0.63879189, -0.72395712,  2.29027658, -0.7579267 ,\n",
      "        0.63879189, -0.72395712,  2.29027658, -0.7579267 ,  0.63879189,\n",
      "       -0.72395712,  2.29027658, -0.7579267 ,  0.63879189, -0.72395712,\n",
      "        2.29027658, -0.7579267 ,  0.63879189, -0.72395712,  2.29027658,\n",
      "       -0.7579267 ,  0.63879189, -0.72395712,  2.29027658, -0.7579267 ,\n",
      "        0.63879189, -0.72395712,  2.29027658,  1.4459886 , -0.08538313,\n",
      "       -1.0571746 ,  0.37400092,  1.4459886 , -0.08538313, -1.0571746 ,\n",
      "        0.37400092,  1.4459886 , -0.08538313, -1.0571746 ,  0.37400092,\n",
      "        1.4459886 , -0.08538313, -1.0571746 ,  0.37400092,  1.4459886 ,\n",
      "       -0.08538313, -1.0571746 ,  0.37400092,  1.4459886 , -0.08538313,\n",
      "       -1.0571746 ,  0.37400092,  1.4459886 , -0.08538313, -1.0571746 ,\n",
      "        0.37400092,  1.4459886 , -0.08538313, -1.0571746 ,  0.37400092,\n",
      "       -0.73115892, -0.76478938, -0.86913479,  0.31011879, -0.73115892,\n",
      "       -0.76478938, -0.86913479,  0.31011879, -0.73115892, -0.76478938,\n",
      "       -0.86913479,  0.31011879, -0.73115892, -0.76478938, -0.86913479,\n",
      "        0.31011879, -0.73115892, -0.76478938, -0.86913479,  0.31011879,\n",
      "       -0.73115892, -0.76478938, -0.86913479,  0.31011879, -0.73115892,\n",
      "       -0.76478938, -0.86913479,  0.31011879, -0.73115892, -0.76478938,\n",
      "       -0.86913479,  0.31011879,  1.73849084, -0.67833542, -0.49663132,\n",
      "       -0.64118551]), 'coherence': [0.9932656714576406, 0.9927328559343691], 'fields_map_good': [array([[0., 0., 0., ..., 0., 0., 0.],\n",
      "       [0., 0., 0., ..., 0., 0., 0.],\n",
      "       [0., 0., 0., ..., 0., 0., 0.],\n",
      "       ...,\n",
      "       [1., 1., 1., ..., 0., 0., 0.],\n",
      "       [1., 1., 1., ..., 0., 0., 0.],\n",
      "       [1., 1., 1., ..., 0., 0., 0.]]), array([[0., 0., 0., ..., 0., 0., 0.],\n",
      "       [0., 0., 0., ..., 0., 0., 0.],\n",
      "       [0., 0., 0., ..., 0., 0., 0.],\n",
      "       ...,\n",
      "       [1., 1., 1., ..., 0., 0., 0.],\n",
      "       [1., 1., 1., ..., 0., 0., 0.],\n",
      "       [1., 1., 1., ..., 0., 0., 0.]])], 'res_array': [{'spatial_information_rate': 0.9796924324743146, 'spatial_information_content': 1.359219137313552, 'sparsity': 0.3840641420120888, 'selectivity': 5.313650816480025, 'peak_rate': 3.8299515882372055, 'mean_rate': 0.10263208135471957}, {'spatial_information_rate': 21.80048672433624, 'spatial_information_content': 1.3590614156630665, 'sparsity': 0.38468089511602194, 'selectivity': 5.078180861325424, 'peak_rate': 81.45828670817721, 'mean_rate': 2.1900803052777245}], 'rms_good': [masked_array(\n",
      "  data=[[0.0, 0.0, 0.0, ..., 0.0, 0.0, 0.0],\n",
      "        [0.0, 0.0, 0.0, ..., 0.0, 0.0, 0.0],\n",
      "        [0.0, 0.0, 0.0, ..., 0.0, 0.0, 0.0],\n",
      "        ...,\n",
      "        [1.9316499060871155, 2.574569626875974, 3.3048901194152167, ...,\n",
      "         0.0, 0.0, 0.0],\n",
      "        [1.4436378395488514, 1.884187241513545, 2.402256297123917, ...,\n",
      "         0.0, 0.0, 0.0],\n",
      "        [1.1290324988445357, 1.3925466556383435, 1.72159688344677, ...,\n",
      "         0.0, 0.0, 0.0]],\n",
      "  mask=[[False, False, False, ..., False, False, False],\n",
      "        [False, False, False, ..., False, False, False],\n",
      "        [False, False, False, ..., False, False, False],\n",
      "        ...,\n",
      "        [False, False, False, ..., False, False, False],\n",
      "        [False, False, False, ..., False, False, False],\n",
      "        [False, False, False, ..., False, False, False]],\n",
      "  fill_value=1e+20), masked_array(\n",
      "  data=[[0.0, 0.0, 0.0, ..., 0.0, 0.0, 0.0],\n",
      "        [0.0, 0.0, 0.0, ..., 0.0, 0.0, 0.0],\n",
      "        [0.0, 0.0, 0.0, ..., 0.0, 0.0, 0.0],\n",
      "        ...,\n",
      "        [43.78374795841686, 57.11042405401519, 71.75673586785513, ...,\n",
      "         0.0, 0.0, 0.0],\n",
      "        [32.90920900361953, 41.95936291714235, 52.25762087387997, ...,\n",
      "         0.0, 0.0, 0.0],\n",
      "        [25.979683796045958, 31.22612402794677, 37.56237973489846, ...,\n",
      "         0.0, 0.0, 0.0]],\n",
      "  mask=[[False, False, False, ..., False, False, False],\n",
      "        [False, False, False, ..., False, False, False],\n",
      "        [False, False, False, ..., False, False, False],\n",
      "        ...,\n",
      "        [False, False, False, ..., False, False, False],\n",
      "        [False, False, False, ..., False, False, False],\n",
      "        [False, False, False, ..., False, False, False]],\n",
      "  fill_value=1e+20)]}\n"
     ]
    }
   ],
   "source": [
    "fname = '/media/cat/4TB/donato/nathalie/DON-007050/FS9/cell_dictionary.npy'\n",
    "data = np.load(fname, allow_pickle=True)\n",
    "print (len(data))\n",
    "print (data[0])"
   ]
  },
  {
   "cell_type": "code",
   "execution_count": null,
   "id": "c06e010a-420a-4f0f-b615-5a9ecab66111",
   "metadata": {},
   "outputs": [],
   "source": []
  },
  {
   "cell_type": "code",
   "execution_count": null,
   "id": "d6beb034-b492-464f-89e4-3d5d6f22a1ff",
   "metadata": {},
   "outputs": [],
   "source": []
  },
  {
   "cell_type": "code",
   "execution_count": null,
   "id": "52bdf593-0c71-481d-8714-4c0374ddba51",
   "metadata": {},
   "outputs": [],
   "source": []
  },
  {
   "cell_type": "code",
   "execution_count": null,
   "id": "4b0f2e1e-95ab-4c8b-bec2-2fc290826c54",
   "metadata": {},
   "outputs": [],
   "source": []
  },
  {
   "cell_type": "code",
   "execution_count": null,
   "id": "bc7309a1-817d-4f89-b197-1aa4ee9d96e6",
   "metadata": {},
   "outputs": [],
   "source": []
  },
  {
   "cell_type": "code",
   "execution_count": null,
   "id": "a0794bd7-d43f-41af-885b-3529755a9efa",
   "metadata": {},
   "outputs": [],
   "source": []
  },
  {
   "cell_type": "code",
   "execution_count": null,
   "id": "a7e52714-5238-4024-846c-29457f20deef",
   "metadata": {},
   "outputs": [],
   "source": []
  },
  {
   "cell_type": "code",
   "execution_count": null,
   "id": "cc508896-0c60-4bdd-a3b5-0660cb4d1b67",
   "metadata": {},
   "outputs": [],
   "source": []
  },
  {
   "cell_type": "code",
   "execution_count": null,
   "id": "fe59e6c0-9599-4066-bd4c-a0b1bb7c9d7d",
   "metadata": {},
   "outputs": [],
   "source": []
  },
  {
   "cell_type": "code",
   "execution_count": null,
   "id": "a5d402b5-6d6f-405b-b8c5-2cc9d56c940b",
   "metadata": {},
   "outputs": [],
   "source": []
  },
  {
   "cell_type": "code",
   "execution_count": null,
   "id": "ea8f7bb5-dd8d-436e-8cf8-93a8b8d36975",
   "metadata": {},
   "outputs": [],
   "source": []
  },
  {
   "cell_type": "code",
   "execution_count": null,
   "id": "79d760b4-f468-4361-977f-602acb356f80",
   "metadata": {},
   "outputs": [],
   "source": []
  },
  {
   "cell_type": "code",
   "execution_count": 487,
   "id": "da259732-5bb1-48a0-b519-c26526103e99",
   "metadata": {},
   "outputs": [
    {
     "name": "stdout",
     "output_type": "stream",
     "text": [
      "10\n",
      "dict_keys(['cell_id', 'overlaps', 'spatial_info', 'overlaps_zscores', 'spatial_info_zscores', 'coherence', 'fields_map_good', 'res_array', 'rms_good'])\n",
      "[-0.82595826  1.58951752 -0.82595826 -0.82595826 -0.32273414  1.58951752\n",
      " -0.82595826 -0.82595826 -0.32273414  1.58951752 -0.82595826 -0.82595826\n",
      " -0.32273414  1.58951752 -0.82595826 -0.82595826 -0.32273414  1.58951752\n",
      " -0.82595826 -0.82595826 -0.32273414  1.58951752 -0.82595826 -0.82595826\n",
      " -0.32273414  1.58951752 -0.82595826 -0.82595826 -0.32273414  1.58951752\n",
      " -0.82595826 -0.82595826 -0.32273414 -0.82595826 -0.82595826  0.09978423\n",
      "  0.11376413 -0.82595826 -0.82595826  0.09978423  0.11376413 -0.82595826\n",
      " -0.82595826  0.09978423  0.11376413 -0.82595826 -0.82595826  0.09978423\n",
      "  0.11376413 -0.82595826 -0.82595826  0.09978423  0.11376413 -0.82595826\n",
      " -0.82595826  0.09978423  0.11376413 -0.82595826 -0.82595826  0.09978423\n",
      "  0.11376413 -0.82595826 -0.82595826  0.09978423  0.11376413 -0.82595826\n",
      "  1.64657601  1.50005546 -0.64914979 -0.82595826  1.64657601  1.50005546\n",
      " -0.64914979 -0.82595826  1.64657601  1.50005546 -0.64914979 -0.82595826\n",
      "  1.64657601  1.50005546 -0.64914979 -0.82595826  1.64657601  1.50005546\n",
      " -0.64914979 -0.82595826  1.64657601  1.50005546 -0.64914979 -0.82595826\n",
      "  1.64657601  1.50005546 -0.64914979 -0.82595826  1.64657601  1.50005546\n",
      " -0.64914979  1.32138742  2.3723106  -0.82595826 -0.82595826]\n",
      "[5.01029280697151, 1.5417411418329094, 4.36956961890486, 0.08032734055753447, 2.654362778945383, -0.24794812776578024, -0.8259582629402022, -1.4225424507663635, 9.999999999999996, -1.8594382256766326]\n",
      "[5.01029280697151, 1.5417411418329094, 4.36956961890486, 0.08032734055753447, 2.654362778945383, -0.24794812776578024, -0.8259582629402022, -1.4225424507663635, 9.999999999999996, -1.8594382256766326]\n"
     ]
    }
   ],
   "source": [
    "##################################################\n",
    "############# VISUALIZE MULTI_CELL ###############\n",
    "##################################################\n",
    "#\n",
    "cell_id = 6\n",
    "\n",
    "#\n",
    "print (len(D_array))\n",
    "print (D_array[cell_id].keys())\n",
    "print (D_array[cell_id]['overlaps_zscores'])\n",
    "\n",
    "def plot_all_metrics(D_array):\n",
    "    \n",
    "    #\n",
    "    sis = []\n",
    "    sis_z = []\n",
    "    overls = []\n",
    "    overls_z = []\n",
    "    cohs = []\n",
    "    spars = []\n",
    "    si_rates = []\n",
    "    for k in range(len(D_array)):\n",
    "        cell = D_array[k]\n",
    "        si = cell['spatial_info'][0]\n",
    "        si_z = cell['spatial_info_zscores'][0]\n",
    "        overl = cell['overlaps'][0]\n",
    "        overl_z = cell['overlaps_zscores'][0]\n",
    "        #\n",
    "        temp = cell['res_array']\n",
    "        spar = []\n",
    "        si_rate = []\n",
    "        for k in range(len(temp)):\n",
    "            spar.append(temp[k]['sparsity'])\n",
    "            si_rate.append(temp[k]['spatial_information_rate'])    \n",
    "        spar = np.nanmean(np.hstack((spar)))\n",
    "        si_rate = np.nanmean(np.hstack((si_rate)))\n",
    "        \n",
    "        #\n",
    "        coh = np.nanmean(np.hstack(cell['coherence']))\n",
    "\n",
    "        \n",
    "        #\n",
    "        sis.append(si)\n",
    "        sis_z.append(si_z)\n",
    "        overls.append(overl)\n",
    "        overls_z.append(overl_z)\n",
    "        cohs.append(coh)\n",
    "        spars.append(spar)\n",
    "        si_rates.append(si_rate)\n",
    "\n",
    "    \n",
    "    plt.figure(figsize=(15,10))\n",
    "\n",
    "    ############################\n",
    "    ax = plt.subplot(2,3,1)\n",
    "    color='blue'\n",
    "    ax.scatter(overls,\n",
    "                sis,\n",
    "                s=100,\n",
    "                #alpha=overl_z,\n",
    "                edgecolor='black',\n",
    "                c=color)\n",
    "    plt.xlabel(\" overlap of place field (1st half and 2nd half)\")\n",
    "    plt.ylabel(\" spatial info (average 1st half and 2nd half)\")\n",
    "    for k in range(len(overls)):\n",
    "        ax.annotate(str(cell_ids[k]), (overls[k], sis[k]))\n",
    "    \n",
    "    ############################\n",
    "    ax = plt.subplot(2,3,2)\n",
    "    color='blue'\n",
    "    print (overls_z)\n",
    "    ax.scatter(overls,\n",
    "                sis_z,\n",
    "                s=100,\n",
    "                #alpha=overl_z,\n",
    "                edgecolor='black',\n",
    "                c=color)\n",
    "    plt.xlabel(\" overlap of place field (1st half and 2nd half)\")\n",
    "    plt.ylabel(\" zscore spatial info\")\n",
    "    for k in range(len(overls)):\n",
    "        ax.annotate(str(cell_ids[k]), (overls[k], sis_z[k]))\n",
    "        \n",
    "    ############################\n",
    "    ax = plt.subplot(2,3,3)\n",
    "    color='blue'\n",
    "    print (overls_z)\n",
    "    ax.scatter(overls,\n",
    "                si_rates,\n",
    "                s=100,\n",
    "                #alpha=overl_z,\n",
    "                edgecolor='black',\n",
    "                c=color)\n",
    "    plt.xlabel(\" overlap of place field (1st half and 2nd half)\")\n",
    "    plt.ylabel(\" spatial information rate\")\n",
    "    for k in range(len(overls)):\n",
    "        ax.annotate(str(cell_ids[k]), (overls[k], si_rates[k]))\n",
    "        \n",
    "        \n",
    "        \n",
    "    ############################\n",
    "    ax = plt.subplot(2,3,4)\n",
    "    color='red'\n",
    "    ax.scatter(overls,\n",
    "                overls_z,\n",
    "                s=100,\n",
    "                #alpha=overl_z,\n",
    "                edgecolor='black',\n",
    "                c=color)\n",
    "    plt.xlabel(\" overlap of place field (1st half and 2nd half)\")\n",
    "    plt.ylabel(\" zscore overlap\")\n",
    "    for k in range(len(overls)):\n",
    "        ax.annotate(str(cell_ids[k]), (overls[k], overls_z[k]))\n",
    "        \n",
    "    ############################\n",
    "    ax = plt.subplot(2,3,5)\n",
    "    color='green'\n",
    "    ax.scatter(overls,\n",
    "                cohs,\n",
    "                s=100,\n",
    "                #alpha=overl_z,\n",
    "                edgecolor='black',\n",
    "                c=color)\n",
    "    plt.xlabel(\" overlap of place field (1st half and 2nd half)\")\n",
    "    plt.ylabel(\" coherence\")\n",
    "    for k in range(len(overls)):\n",
    "        ax.annotate(str(cell_ids[k]), (overls[k], cohs[k]))\n",
    "\n",
    "        \n",
    "        \n",
    "    ############################\n",
    "    ax = plt.subplot(2,3,5)\n",
    "    color='black'\n",
    "    ax.scatter(overls,\n",
    "                spars,\n",
    "                s=100,\n",
    "                #alpha=overl_z,\n",
    "                edgecolor='black',\n",
    "                c=color)\n",
    "    plt.xlabel(\" overlap of place field (1st half and 2nd half)\")\n",
    "    plt.ylabel(\" sparsity\")\n",
    "    for k in range(len(overls)):\n",
    "        ax.annotate(str(cell_ids[k]), (overls[k], spars[k]))\n",
    "    \n",
    "    \n",
    "    \n",
    "    plt.show()\n",
    "\n",
    "plot_all_metrics(D_array)\n",
    "\n",
    "\n"
   ]
  },
  {
   "cell_type": "code",
   "execution_count": 472,
   "id": "a8764cd0-86e8-4342-9228-6723962e56e6",
   "metadata": {},
   "outputs": [],
   "source": [
    "cell_id = 23\n",
    "\n",
    "for k in range(len(D_array)):\n",
    "    cell = D_array[k]\n",
    "    if cell['cell_id'] == cell_id:\n",
    "        rms_good = cell['rms_good']\n",
    "        fields_map_good = cell['fields_map_good']\n",
    "\n",
    "plt.figure()\n",
    "plot_fields(rms_good, fields_map_good)\n",
    "plt.show()\n"
   ]
  },
  {
   "cell_type": "code",
   "execution_count": null,
   "id": "991420c2-7252-4e10-a9c4-ef29f3e8d0c0",
   "metadata": {},
   "outputs": [],
   "source": []
  },
  {
   "cell_type": "code",
   "execution_count": null,
   "id": "947b2ffd-b5f3-4d5d-a671-0ebf0ce5c6e7",
   "metadata": {},
   "outputs": [],
   "source": []
  },
  {
   "cell_type": "code",
   "execution_count": null,
   "id": "c4b3e7b1-50b2-4e5f-a703-a0b557515421",
   "metadata": {},
   "outputs": [],
   "source": []
  },
  {
   "cell_type": "code",
   "execution_count": 325,
   "id": "cb871660-4db8-41cc-b2a8-5f39ec5ff208",
   "metadata": {},
   "outputs": [
    {
     "name": "stderr",
     "output_type": "stream",
     "text": [
      "/tmp/ipykernel_394468/2958903581.py:16: RuntimeWarning: Mean of empty slice\n",
      "  s_info.append(np.nanmean(np.hstack((temp1,temp2))))\n"
     ]
    }
   ],
   "source": [
    "#feature = 'spatial_information_rate'\n",
    "feature = 'spatial_information_content'\n",
    "#feature = 'sparsity'\n",
    "#feature = 'selectivity'\n",
    "#feature = 'peak_rate'\n",
    "#feature = 'mean_rate'\n",
    "\n",
    "#\n",
    "s_info = []\n",
    "for k in range(len(res_arrays)):\n",
    "    temp1 = res_arrays[k][0][feature]\n",
    "    temp2 = res_arrays[k][1][feature]\n",
    "    #print (temp1, temp2)\n",
    "    #print (np.mean(temp1,temp2))\n",
    "    #\n",
    "    s_info.append(np.nanmean(np.hstack((temp1,temp2))))\n"
   ]
  },
  {
   "cell_type": "code",
   "execution_count": 328,
   "id": "5f74a3a5-cf01-4e45-bc07-6be7c8629f7d",
   "metadata": {},
   "outputs": [
    {
     "name": "stderr",
     "output_type": "stream",
     "text": [
      "/tmp/ipykernel_394468/3649763955.py:9: RuntimeWarning: Mean of empty slice\n",
      "  s_info.append(np.nanmean(np.hstack((temp1,temp2))))\n"
     ]
    }
   ],
   "source": [
    "feature = 'coherence'\n",
    "s_info = []\n",
    "for k in range(len(res_arrays)):\n",
    "    temp1 = cohs_array[k][0]\n",
    "    temp2 = cohs_array[k][1]\n",
    "    #print (temp1, temp2)\n",
    "    #print (np.mean(temp1,temp2))\n",
    "    #\n",
    "    s_info.append(np.nanmean(np.hstack((temp1,temp2))))\n"
   ]
  },
  {
   "cell_type": "code",
   "execution_count": 329,
   "id": "63afb0c0-69fa-454b-9722-b38bbbf0e919",
   "metadata": {},
   "outputs": [],
   "source": [
    "color = 'blue'\n",
    "if circular_shuffle:\n",
    "    color='red'\n",
    "\n",
    "plt.figure()\n",
    "plt.scatter(overlaps,\n",
    "            s_info,\n",
    "            c=color)\n",
    "\n",
    "plt.xlabel(\" overlap of place field (1st half and 2nd half)\")\n",
    "plt.ylabel(feature + \" (average 1st half and 2nd half)\")\n",
    "plt.suptitle(\"mouse 7050\")\n",
    "plt.show()"
   ]
  },
  {
   "cell_type": "code",
   "execution_count": 150,
   "id": "8df69361-81a8-44c1-95ac-7f4a63a3c75e",
   "metadata": {},
   "outputs": [
    {
     "name": "stderr",
     "output_type": "stream",
     "text": [
      "/tmp/ipykernel_394468/4117706899.py:672: MatplotlibDeprecationWarning: Auto-removal of overlapping axes is deprecated since 3.6 and will be removed two minor releases later; explicitly call ax.remove() as needed.\n",
      "  ax=plt.subplot(2,2,k+1)\n"
     ]
    }
   ],
   "source": [
    "    plot_fields(rms, fields_map)\n",
    "\n",
    "    if True:\n",
    "        plt.show()\n",
    "    else:\n",
    "        plt.savefig(\"/home/cat/fields.svg\")\n",
    "        plt.close()"
   ]
  },
  {
   "cell_type": "code",
   "execution_count": 429,
   "id": "3e7e20d0-9930-4bde-8adb-7ef7f30b728a",
   "metadata": {},
   "outputs": [],
   "source": []
  },
  {
   "cell_type": "code",
   "execution_count": 39,
   "id": "7172b928-dbd5-4ee7-9aac-f3dca911957e",
   "metadata": {},
   "outputs": [
    {
     "name": "stdout",
     "output_type": "stream",
     "text": [
      "['SI_rate: 2.65SI_cont: 1.14Sparse: 0.45 \\n Select: 4.59Peak_r: 10.64Mean_r: 0.57']\n"
     ]
    }
   ],
   "source": [
    "#print (res)\n",
    "text = \"SI_rate: \"+ str(round(res['spatial_information_rate'],2)) + \\\n",
    "        \"SI_cont: \"+ str(round(res['spatial_information_content'],2)) + \\\n",
    "        \"Sparse: \"+ str(round(res['sparsity'],2)) + ' \\n '+ \\\n",
    "        \"Select: \"+  str(round(res['selectivity'],2))+ \\\n",
    "        \"Peak_r: \"+  str(round(res['peak_rate'],2))+ \\\n",
    "        \"Mean_r: \"+  str(round(res['mean_rate'],2))\n",
    "\n",
    "print (text)\n"
   ]
  },
  {
   "cell_type": "code",
   "execution_count": 9,
   "id": "c45707dd-c713-4a40-86a3-a01b23dbd365",
   "metadata": {
    "tags": []
   },
   "outputs": [
    {
     "name": "stderr",
     "output_type": "stream",
     "text": [
      " 22%|██▏       | 103/476 [00:09<00:29, 12.64it/s]"
     ]
    },
    {
     "name": "stdout",
     "output_type": "stream",
     "text": [
      "ceel Id:  nan nan\n"
     ]
    },
    {
     "name": "stderr",
     "output_type": "stream",
     "text": [
      " 37%|███▋      | 177/476 [00:16<00:27, 11.02it/s]\n"
     ]
    },
    {
     "ename": "KeyboardInterrupt",
     "evalue": "",
     "output_type": "error",
     "traceback": [
      "\u001b[0;31m---------------------------------------------------------------------------\u001b[0m",
      "\u001b[0;31mKeyboardInterrupt\u001b[0m                         Traceback (most recent call last)",
      "Cell \u001b[0;32mIn [9], line 17\u001b[0m\n\u001b[1;32m     11\u001b[0m sel_array \u001b[38;5;241m=\u001b[39m []\n\u001b[1;32m     12\u001b[0m \u001b[38;5;28;01mfor\u001b[39;00m cell_id \u001b[38;5;129;01min\u001b[39;00m tqdm(cell_ids): \n\u001b[1;32m     13\u001b[0m     \u001b[38;5;66;03m#print (cell_id)\u001b[39;00m\n\u001b[1;32m     15\u001b[0m     _, rms, _, _ \u001b[38;5;241m=\u001b[39m get_rms_and_place_field(cell_id,\n\u001b[1;32m     16\u001b[0m                                            upphases\u001b[38;5;241m.\u001b[39mcopy(),\n\u001b[0;32m---> 17\u001b[0m                                            filtered_Fs\u001b[38;5;241m.\u001b[39mcopy(),\n\u001b[1;32m     18\u001b[0m                                            occ_map\u001b[38;5;241m.\u001b[39mcopy(),\n\u001b[1;32m     19\u001b[0m                                            arena_size\u001b[38;5;241m.\u001b[39mcopy(),\n\u001b[1;32m     20\u001b[0m                                            sigma,\n\u001b[1;32m     21\u001b[0m                                            scale_flag,\n\u001b[1;32m     22\u001b[0m                                            scale_value\n\u001b[1;32m     23\u001b[0m                                            \u001b[38;5;66;03m#limits\u001b[39;00m\n\u001b[1;32m     24\u001b[0m                                           )\n\u001b[1;32m     25\u001b[0m     \u001b[38;5;66;03m#\u001b[39;00m\n\u001b[1;32m     26\u001b[0m     res \u001b[38;5;241m=\u001b[39m op\u001b[38;5;241m.\u001b[39manalysis\u001b[38;5;241m.\u001b[39mrate_map_stats(rms\u001b[38;5;241m.\u001b[39mcopy(), \n\u001b[1;32m     27\u001b[0m                                      occ_map\u001b[38;5;241m.\u001b[39mcopy(), \n\u001b[1;32m     28\u001b[0m                                      debug\u001b[38;5;241m=\u001b[39m\u001b[38;5;28;01mFalse\u001b[39;00m)\n",
      "\u001b[0;31mKeyboardInterrupt\u001b[0m: "
     ]
    }
   ],
   "source": [
    "###############################################################\n",
    "############# SPATIAL SELETIVITY VS. SELECTIVITY ##############\n",
    "###############################################################\n",
    "scale_flag = False\n",
    "scale_value = 1\n",
    "sigma = 1.5\n",
    "\n",
    "cell_ids = np.arange(upphases.shape[0])\n",
    "#cell_ids = np.arange(103,200,1)\n",
    "spc_array = []\n",
    "sel_array = []\n",
    "for cell_id in tqdm(cell_ids): \n",
    "    #print (cell_id)\n",
    "    \n",
    "    _, rms, _, _ = get_rms_and_place_field(cell_id,\n",
    "                                           upphases.copy(),\n",
    "                                           filtered_Fs.copy(),\n",
    "                                           occ_map.copy(),\n",
    "                                           arena_size.copy(),\n",
    "                                           sigma,\n",
    "                                           scale_flag,\n",
    "                                           scale_value\n",
    "                                           #limits\n",
    "                                          )\n",
    "    #\n",
    "    res = op.analysis.rate_map_stats(rms.copy(), \n",
    "                                     occ_map.copy(), \n",
    "                                     debug=False)\n",
    "    \n",
    "   # print (res)\n",
    "    spc = res['spatial_information_content']\n",
    "    sel = res['selectivity']\n",
    "    if np.isnan(spc) or np.isnan(sel):\n",
    "        print (\"ceel Id: \", spc, sel)\n",
    "\n",
    "    spc_array.append(spc)\n",
    "    sel_array.append(sel)\n",
    "    \n",
    "plt.figure()\n",
    "\n",
    "plt.scatter(spc_array, sel_array)\n",
    "plt.xlabel(\"special_information_content\")\n",
    "plt.ylabel(\"selectivity\")\n",
    "\n",
    "plt.show()\n",
    "\n"
   ]
  },
  {
   "cell_type": "code",
   "execution_count": null,
   "id": "67f09358-3750-4c9d-b40f-e25ebaa81b03",
   "metadata": {},
   "outputs": [],
   "source": []
  },
  {
   "cell_type": "code",
   "execution_count": null,
   "id": "88f23f9b-4b7b-4aee-83c5-9f457427c48f",
   "metadata": {},
   "outputs": [],
   "source": []
  },
  {
   "cell_type": "code",
   "execution_count": null,
   "id": "fb412641-fbaa-49ea-80dd-ecf2e55585df",
   "metadata": {},
   "outputs": [],
   "source": []
  },
  {
   "cell_type": "code",
   "execution_count": null,
   "id": "1b365865-8924-4d7a-a2d2-36c72aeff513",
   "metadata": {},
   "outputs": [],
   "source": []
  }
 ],
 "metadata": {
  "kernelspec": {
   "display_name": "Python 3",
   "language": "python",
   "name": "python3"
  },
  "language_info": {
   "codemirror_mode": {
    "name": "ipython",
    "version": 3
   },
   "file_extension": ".py",
   "mimetype": "text/x-python",
   "name": "python",
   "nbconvert_exporter": "python",
   "pygments_lexer": "ipython3",
   "version": "3.8.15"
  }
 },
 "nbformat": 4,
 "nbformat_minor": 5
}
