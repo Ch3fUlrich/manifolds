{
 "cells": [
  {
   "cell_type": "code",
   "execution_count": 14,
   "id": "5ec3ac28-a1c6-4e51-be96-ca6d903449e5",
   "metadata": {},
   "outputs": [
    {
     "data": {
      "application/javascript": [
       "IPython.notebook.set_autosave_interval(180000)"
      ]
     },
     "metadata": {},
     "output_type": "display_data"
    },
    {
     "name": "stdout",
     "output_type": "stream",
     "text": [
      "Autosaving every 180 seconds\n",
      "The autoreload extension is already loaded. To reload it, use:\n",
      "  %reload_ext autoreload\n"
     ]
    },
    {
     "name": "stderr",
     "output_type": "stream",
     "text": [
      "/tmp/ipykernel_465681/4115810626.py:12: DeprecationWarning: Importing display from IPython.core.display is deprecated since IPython 7.14, please import from IPython display\n",
      "  from IPython.core.display import display, HTML\n"
     ]
    },
    {
     "data": {
      "text/html": [
       "<style>.container { width:100% !important; }</style>"
      ],
      "text/plain": [
       "<IPython.core.display.HTML object>"
      ]
     },
     "metadata": {},
     "output_type": "display_data"
    }
   ],
   "source": [
    "import matplotlib\n",
    "%matplotlib tk\n",
    "%autosave 180\n",
    "%load_ext autoreload\n",
    "%autoreload 2\n",
    "\n",
    "import nest_asyncio\n",
    "%config Completer.use_jedi = False\n",
    "\n",
    "#\n",
    "import matplotlib.pyplot as plt\n",
    "from IPython.core.display import display, HTML\n",
    "display(HTML(\"<style>.container { width:100% !important; }</style>\"))\n",
    "\n",
    "# \n",
    "import numpy as np\n",
    "import os\n",
    "import scipy\n",
    "\n",
    "# add root directory to be able to import packages\n",
    "# todo: make all packages installable so they can be called/imported by environment\n",
    "import sys\n",
    "\n",
    "#\n",
    "from tqdm import tqdm, trange\n",
    "\n",
    "#\n",
    "import opexebo as op\n",
    "\n",
    "import astropy\n",
    "from astropy.convolution import Gaussian2DKernel\n",
    "\n",
    "#\n",
    "import scipy.stats as stats\n",
    "\n",
    "#\n",
    "import parmap\n",
    "\n",
    "#\n",
    "from utils import plot_all_metrics, load_cell, plot_fields\n"
   ]
  },
  {
   "cell_type": "code",
   "execution_count": 65,
   "id": "0f065b38-2e13-4043-8422-3a2a0cf21ef5",
   "metadata": {},
   "outputs": [],
   "source": [
    "###########################################\n",
    "############### LOAD DATA #################\n",
    "###########################################\n",
    "\n",
    "# \n",
    "fname_locs = ('/media/cat/4TB/donato/nathalie/DON-007050/FS9/DON-007050_20211030_TR-BSL_FS9-ACQDLC_resnet50_open_arena_white_floorSep8shuffle1_200000_locs.npy')\n",
    "\n",
    "#\n",
    "fname_traces = '/media/cat/4TB/donato/nathalie/DON-007050/FS9/binarized_traces.npz'\n",
    "\n",
    "#\n",
    "root_dir = os.path.join(os.path.split(fname_traces)[0],\n",
    "                                     'cell_analysis')\n",
    "#\n",
    "occ_map = np.load(os.path.split(root_dir)[0]+ '/occ_map.npy', allow_pickle=True)\n",
    "\n",
    "#\n",
    "cell_id=0\n",
    "cells = []\n",
    "while True:\n",
    "    \n",
    "    cell = load_cell(root_dir,\n",
    "                     cell_id)\n",
    "    \n",
    "    if cell is not None:\n",
    "        cells.append(cell)\n",
    "        cell_id+=1\n",
    "    else:\n",
    "        break"
   ]
  },
  {
   "cell_type": "code",
   "execution_count": 66,
   "id": "5199f094-247c-47e7-aa75-896b04b9b072",
   "metadata": {},
   "outputs": [],
   "source": [
    "#####################################\n",
    "#####################################\n",
    "#####################################\n",
    "\n",
    "#\n",
    "plot_all_metrics(cells)"
   ]
  },
  {
   "cell_type": "code",
   "execution_count": 85,
   "id": "9b570ff9-87d5-4a1a-9068-3ee3e617588b",
   "metadata": {},
   "outputs": [],
   "source": [
    "#####################################\n",
    "#####################################\n",
    "#####################################\n",
    "cell_id = 243\n",
    "cell = cells[cell_id]\n",
    "\n",
    "#rms_good = cell['rms_good']\n",
    "#fields_map_good = cell['fields_map_good']\n",
    "\n",
    "plt.figure()\n",
    "plot_fields(cell,\n",
    "           occ_map)\n",
    "plt.show()\n"
   ]
  },
  {
   "cell_type": "code",
   "execution_count": null,
   "id": "e325d3a0-a8f0-4d97-9853-e7f461757839",
   "metadata": {},
   "outputs": [],
   "source": []
  },
  {
   "cell_type": "code",
   "execution_count": null,
   "id": "f7ee4e6d-c79a-478f-bd83-908f79625a13",
   "metadata": {},
   "outputs": [],
   "source": []
  },
  {
   "cell_type": "code",
   "execution_count": null,
   "id": "c8bf88d1-1a2a-4472-8d6c-24d7a0e6e73f",
   "metadata": {},
   "outputs": [],
   "source": []
  },
  {
   "cell_type": "code",
   "execution_count": null,
   "id": "a7327b51-0b49-4c1a-ad77-5a6d8b5963d4",
   "metadata": {},
   "outputs": [],
   "source": []
  },
  {
   "cell_type": "code",
   "execution_count": null,
   "id": "6d60c9fb-b675-4141-a584-fb750a0e5de1",
   "metadata": {},
   "outputs": [],
   "source": []
  },
  {
   "cell_type": "code",
   "execution_count": null,
   "id": "f9d61c60-6f7c-40e9-b892-49ab66517051",
   "metadata": {},
   "outputs": [],
   "source": []
  },
  {
   "cell_type": "code",
   "execution_count": 496,
   "id": "a8764cd0-86e8-4342-9228-6723962e56e6",
   "metadata": {},
   "outputs": [],
   "source": [
    "cell_id = 26\n",
    "\n",
    "for k in range(len(D_array)):\n",
    "    cell = D_array[k]\n",
    "    if cell['cell_id'] == cell_id:\n",
    "        rms_good = cell['rms_good']\n",
    "        fields_map_good = cell['fields_map_good']\n",
    "\n",
    "plt.figure()\n",
    "plot_fields(rms_good, fields_map_good)\n",
    "plt.show()\n"
   ]
  },
  {
   "cell_type": "code",
   "execution_count": 498,
   "id": "991420c2-7252-4e10-a9c4-ef29f3e8d0c0",
   "metadata": {},
   "outputs": [
    {
     "name": "stdout",
     "output_type": "stream",
     "text": [
      "{'cell_id': 0, 'overlaps': [0.0, 0.2823529411764706, 0.28634361233480177, 0.35036496350364965, 0.008368200836820083, 0.2823529411764706, 0.28634361233480177, 0.35036496350364965, 0.008368200836820083, 0.2823529411764706, 0.28634361233480177, 0.35036496350364965, 0.008368200836820083, 0.2823529411764706, 0.28634361233480177, 0.35036496350364965, 0.008368200836820083, 0.2823529411764706, 0.28634361233480177, 0.35036496350364965, 0.008368200836820083, 0.2823529411764706, 0.28634361233480177, 0.35036496350364965, 0.008368200836820083, 0.2823529411764706, 0.28634361233480177, 0.35036496350364965, 0.008368200836820083, 0.2823529411764706, 0.28634361233480177, 0.35036496350364965, 0.008368200836820083, 0.0, 0.26666666666666666, 0.29949238578680204, 0.21351351351351353, 0.0, 0.26666666666666666, 0.29949238578680204, 0.21351351351351353, 0.0, 0.26666666666666666, 0.29949238578680204, 0.21351351351351353, 0.0, 0.26666666666666666, 0.29949238578680204, 0.21351351351351353, 0.0, 0.26666666666666666, 0.29949238578680204, 0.21351351351351353, 0.0, 0.26666666666666666, 0.29949238578680204, 0.21351351351351353, 0.0, 0.26666666666666666, 0.29949238578680204, 0.21351351351351353, 0.2413793103448276, 0.2882882882882883, 0.1891891891891892, 0.27530364372469635, 0.2413793103448276, 0.2882882882882883, 0.1891891891891892, 0.27530364372469635, 0.0, 0.26666666666666666, 0.29949238578680204, 0.21351351351351353, 0.2413793103448276, 0.2882882882882883, 0.1891891891891892, 0.27530364372469635, 0.2413793103448276, 0.2882882882882883, 0.1891891891891892, 0.27530364372469635, 0.2413793103448276, 0.2882882882882883, 0.1891891891891892, 0.27530364372469635, 0.2413793103448276, 0.2882882882882883, 0.1891891891891892, 0.27530364372469635, 0.2413793103448276, 0.2882882882882883, 0.1891891891891892, 0.27530364372469635, 0.3092369477911647, 0.3436426116838488, 0.17928286852589642, 0.29880478087649404, 0.3092369477911647, 0.3436426116838488, 0.17928286852589642, 0.29880478087649404], 'spatial_info': [2.9555315169986014, 1.2308570825074394, 1.5387879973164864, 1.2128896772164068, 2.021036980730668, 1.2308570825074394, 1.5387879973164864, 1.2128896772164068, 2.021036980730668, 1.2308570825074394, 1.5387879973164864, 1.2128896772164068, 2.021036980730668, 1.2308570825074394, 1.5387879973164864, 1.2128896772164068, 2.021036980730668, 1.2308570825074394, 1.5387879973164864, 1.2128896772164068, 2.021036980730668, 1.2308570825074394, 1.5387879973164864, 1.2128896772164068, 2.021036980730668, 1.2308570825074394, 1.5387879973164864, 1.2128896772164068, 2.021036980730668, 1.2308570825074394, 1.5387879973164864, 1.2128896772164068, 2.021036980730668, 2.2244899016753568, 1.0135877446688808, 0.9164346104198619, 1.4449760097148099, 2.2244899016753568, 1.0135877446688808, 0.9164346104198619, 1.4449760097148099, 2.2244899016753568, 1.0135877446688808, 0.9164346104198619, 1.4449760097148099, 2.2244899016753568, 1.0135877446688808, 0.9164346104198619, 1.4449760097148099, 2.2244899016753568, 1.0135877446688808, 0.9164346104198619, 1.4449760097148099, 2.2244899016753568, 1.0135877446688808, 0.9164346104198619, 1.4449760097148099, 2.2244899016753568, 1.0135877446688808, 0.9164346104198619, 1.4449760097148099, 0.9328148634147169, 1.0279461445583244, 1.073361030129075, 1.5701630978314673, 0.9328148634147169, 1.0279461445583244, 1.073361030129075, 1.5701630978314673, 2.2244899016753568, 1.0135877446688808, 0.9164346104198619, 1.4449760097148099, 0.9328148634147169, 1.0279461445583244, 1.073361030129075, 1.5701630978314673, 0.9328148634147169, 1.0279461445583244, 1.073361030129075, 1.5701630978314673, 0.9328148634147169, 1.0279461445583244, 1.073361030129075, 1.5701630978314673, 0.9328148634147169, 1.0279461445583244, 1.073361030129075, 1.5701630978314673, 0.9328148634147169, 1.0279461445583244, 1.073361030129075, 1.5701630978314673, 0.9213640207480069, 1.6642655555620762, 0.9808993335200678, 0.9196101973766582, 0.9213640207480069, 1.6642655555620762, 0.9808993335200678, 0.9196101973766582], 'overlaps_zscores': array([-2.09001991,  0.51522417,  0.55204571,  1.14276471, -2.01280731,\n",
      "        0.51522417,  0.55204571,  1.14276471, -2.01280731,  0.51522417,\n",
      "        0.55204571,  1.14276471, -2.01280731,  0.51522417,  0.55204571,\n",
      "        1.14276471, -2.01280731,  0.51522417,  0.55204571,  1.14276471,\n",
      "       -2.01280731,  0.51522417,  0.55204571,  1.14276471, -2.01280731,\n",
      "        0.51522417,  0.55204571,  1.14276471, -2.01280731,  0.51522417,\n",
      "        0.55204571,  1.14276471, -2.01280731, -2.09001991,  0.37048838,\n",
      "        0.67336821, -0.11995077, -2.09001991,  0.37048838,  0.67336821,\n",
      "       -0.11995077, -2.09001991,  0.37048838,  0.67336821, -0.11995077,\n",
      "       -2.09001991,  0.37048838,  0.67336821, -0.11995077, -2.09001991,\n",
      "        0.37048838,  0.67336821, -0.11995077, -2.09001991,  0.37048838,\n",
      "        0.67336821, -0.11995077, -2.09001991,  0.37048838,  0.67336821,\n",
      "       -0.11995077,  0.13716432,  0.56998906, -0.34438903,  0.45018096,\n",
      "        0.13716432,  0.56998906, -0.34438903,  0.45018096, -2.09001991,\n",
      "        0.37048838,  0.67336821, -0.11995077,  0.13716432,  0.56998906,\n",
      "       -0.34438903,  0.45018096,  0.13716432,  0.56998906, -0.34438903,\n",
      "        0.45018096,  0.13716432,  0.56998906, -0.34438903,  0.45018096,\n",
      "        0.13716432,  0.56998906, -0.34438903,  0.45018096,  0.13716432,\n",
      "        0.56998906, -0.34438903,  0.45018096,  0.76328037,  1.0807382 ,\n",
      "       -0.43579372,  0.66702375,  0.76328037,  1.0807382 , -0.43579372,\n",
      "        0.66702375]), 'spatial_info_zscores': array([ 3.65362024, -0.28649021,  0.41699433, -0.32753771,  1.51871778,\n",
      "       -0.28649021,  0.41699433, -0.32753771,  1.51871778, -0.28649021,\n",
      "        0.41699433, -0.32753771,  1.51871778, -0.28649021,  0.41699433,\n",
      "       -0.32753771,  1.51871778, -0.28649021,  0.41699433, -0.32753771,\n",
      "        1.51871778, -0.28649021,  0.41699433, -0.32753771,  1.51871778,\n",
      "       -0.28649021,  0.41699433, -0.32753771,  1.51871778, -0.28649021,\n",
      "        0.41699433, -0.32753771,  1.51871778,  1.9835168 , -0.78285357,\n",
      "       -1.00480507,  0.20267586,  1.9835168 , -0.78285357, -1.00480507,\n",
      "        0.20267586,  1.9835168 , -0.78285357, -1.00480507,  0.20267586,\n",
      "        1.9835168 , -0.78285357, -1.00480507,  0.20267586,  1.9835168 ,\n",
      "       -0.78285357, -1.00480507,  0.20267586,  1.9835168 , -0.78285357,\n",
      "       -1.00480507,  0.20267586,  1.9835168 , -0.78285357, -1.00480507,\n",
      "        0.20267586, -0.96738351, -0.75005104, -0.64629832,  0.48867242,\n",
      "       -0.96738351, -0.75005104, -0.64629832,  0.48867242,  1.9835168 ,\n",
      "       -0.78285357, -1.00480507,  0.20267586, -0.96738351, -0.75005104,\n",
      "       -0.64629832,  0.48867242, -0.96738351, -0.75005104, -0.64629832,\n",
      "        0.48867242, -0.96738351, -0.75005104, -0.64629832,  0.48867242,\n",
      "       -0.96738351, -0.75005104, -0.64629832,  0.48867242, -0.96738351,\n",
      "       -0.75005104, -0.64629832,  0.48867242, -0.99354357,  0.70365449,\n",
      "       -0.85753198, -0.99755027, -0.99354357,  0.70365449, -0.85753198,\n",
      "       -0.99755027]), 'coherence': [nan, 0.8019064377699011], 'fields_map_good': [masked_array(\n",
      "  data=[[0.0, 0.0, 0.0, ..., 0.0, 0.0, 0.0],\n",
      "        [0.0, 0.0, 0.0, ..., 0.0, 0.0, 0.0],\n",
      "        [0.0, 0.0, 0.0, ..., 0.0, 0.0, 0.0],\n",
      "        ...,\n",
      "        [0.0, 0.0, 0.0, ..., 0.0, 0.0, 0.0],\n",
      "        [0.0, 0.0, 0.0, ..., 0.0, 0.0, 0.0],\n",
      "        [0.0, 0.0, 0.0, ..., 0.0, 0.0, 0.0]],\n",
      "  mask=[[False, False, False, ..., False, False, False],\n",
      "        [False, False, False, ..., False, False, False],\n",
      "        [False, False, False, ..., False, False, False],\n",
      "        ...,\n",
      "        [False, False, False, ..., False, False, False],\n",
      "        [False, False, False, ..., False, False, False],\n",
      "        [False, False, False, ..., False, False, False]],\n",
      "  fill_value=1e+20), array([[0., 0., 0., ..., 0., 0., 0.],\n",
      "       [0., 0., 0., ..., 0., 0., 0.],\n",
      "       [0., 0., 0., ..., 0., 0., 0.],\n",
      "       ...,\n",
      "       [0., 0., 0., ..., 0., 0., 0.],\n",
      "       [0., 0., 0., ..., 0., 0., 0.],\n",
      "       [0., 0., 0., ..., 0., 0., 0.]])], 'res_array': [{'spatial_information_rate': nan, 'spatial_information_content': nan, 'sparsity': nan, 'selectivity': nan, 'peak_rate': 0.0, 'mean_rate': 0.0}, {'spatial_information_rate': 0.6707781268373796, 'spatial_information_content': 2.9555315169986014, 'sparsity': 0.10271293910605367, 'selectivity': 21.956663972439195, 'peak_rate': 4.9832153189106085, 'mean_rate': 0.4231640338374571}], 'rms_good': [masked_array(\n",
      "  data=[[0.0, 0.0, 0.0, ..., 0.0, 0.0, 0.0],\n",
      "        [0.0, 0.0, 0.0, ..., 0.0, 0.0, 0.0],\n",
      "        [0.0, 0.0, 0.0, ..., 0.0, 0.0, 0.0],\n",
      "        ...,\n",
      "        [0.0, 0.0, 0.0, ..., 0.0, 0.0, 0.0],\n",
      "        [0.0, 0.0, 0.0, ..., 0.0, 0.0, 0.0],\n",
      "        [0.0, 0.0, 0.0, ..., 0.0, 0.0, 0.0]],\n",
      "  mask=[[False, False, False, ..., False, False, False],\n",
      "        [False, False, False, ..., False, False, False],\n",
      "        [False, False, False, ..., False, False, False],\n",
      "        ...,\n",
      "        [False, False, False, ..., False, False, False],\n",
      "        [False, False, False, ..., False, False, False],\n",
      "        [False, False, False, ..., False, False, False]],\n",
      "  fill_value=1e+20), masked_array(\n",
      "  data=[[9.940774818951793e-08, 1.0295184523465395e-06,\n",
      "         7.580965489044313e-06, ..., 5.633738483657327e-05,\n",
      "         1.8017642808061056e-05, 5.7289590351745424e-06],\n",
      "        [2.500423406452073e-07, 2.4788408361138207e-06,\n",
      "         1.7745957180466405e-05, ..., 0.00019178672807646982,\n",
      "         6.151203426600087e-05, 1.9807301105026246e-05],\n",
      "        [5.656384072318738e-07, 5.711032669089265e-06,\n",
      "         4.141683579975479e-05, ..., 0.0006386067909663131,\n",
      "         0.00020458261721515063, 6.64709082008009e-05],\n",
      "        ...,\n",
      "        [0.0, 0.0, 0.0, ..., 0.0, 0.0, 0.0],\n",
      "        [0.0, 0.0, 0.0, ..., 0.0, 0.0, 0.0],\n",
      "        [0.0, 0.0, 0.0, ..., 0.0, 0.0, 0.0]],\n",
      "  mask=[[False, False, False, ..., False, False, False],\n",
      "        [False, False, False, ..., False, False, False],\n",
      "        [False, False, False, ..., False, False, False],\n",
      "        ...,\n",
      "        [False, False, False, ..., False, False, False],\n",
      "        [False, False, False, ..., False, False, False],\n",
      "        [False, False, False, ..., False, False, False]],\n",
      "  fill_value=1e+20)]}\n"
     ]
    }
   ],
   "source": [
    "fname = '/media/cat/4TB/donato/nathalie/DON-007050/FS9/cell_analysis/0.npy'\n",
    "data = np.load(fname, allow_pickle=True)\n",
    "#print (len(data))\n",
    "print (data)"
   ]
  },
  {
   "cell_type": "code",
   "execution_count": null,
   "id": "947b2ffd-b5f3-4d5d-a671-0ebf0ce5c6e7",
   "metadata": {},
   "outputs": [],
   "source": []
  },
  {
   "cell_type": "code",
   "execution_count": null,
   "id": "c4b3e7b1-50b2-4e5f-a703-a0b557515421",
   "metadata": {},
   "outputs": [],
   "source": []
  },
  {
   "cell_type": "code",
   "execution_count": 325,
   "id": "cb871660-4db8-41cc-b2a8-5f39ec5ff208",
   "metadata": {},
   "outputs": [
    {
     "name": "stderr",
     "output_type": "stream",
     "text": [
      "/tmp/ipykernel_394468/2958903581.py:16: RuntimeWarning: Mean of empty slice\n",
      "  s_info.append(np.nanmean(np.hstack((temp1,temp2))))\n"
     ]
    }
   ],
   "source": [
    "#feature = 'spatial_information_rate'\n",
    "feature = 'spatial_information_content'\n",
    "#feature = 'sparsity'\n",
    "#feature = 'selectivity'\n",
    "#feature = 'peak_rate'\n",
    "#feature = 'mean_rate'\n",
    "\n",
    "#\n",
    "s_info = []\n",
    "for k in range(len(res_arrays)):\n",
    "    temp1 = res_arrays[k][0][feature]\n",
    "    temp2 = res_arrays[k][1][feature]\n",
    "    #print (temp1, temp2)\n",
    "    #print (np.mean(temp1,temp2))\n",
    "    #\n",
    "    s_info.append(np.nanmean(np.hstack((temp1,temp2))))\n"
   ]
  },
  {
   "cell_type": "code",
   "execution_count": 328,
   "id": "5f74a3a5-cf01-4e45-bc07-6be7c8629f7d",
   "metadata": {},
   "outputs": [
    {
     "name": "stderr",
     "output_type": "stream",
     "text": [
      "/tmp/ipykernel_394468/3649763955.py:9: RuntimeWarning: Mean of empty slice\n",
      "  s_info.append(np.nanmean(np.hstack((temp1,temp2))))\n"
     ]
    }
   ],
   "source": [
    "feature = 'coherence'\n",
    "s_info = []\n",
    "for k in range(len(res_arrays)):\n",
    "    temp1 = cohs_array[k][0]\n",
    "    temp2 = cohs_array[k][1]\n",
    "    #print (temp1, temp2)\n",
    "    #print (np.mean(temp1,temp2))\n",
    "    #\n",
    "    s_info.append(np.nanmean(np.hstack((temp1,temp2))))\n"
   ]
  },
  {
   "cell_type": "code",
   "execution_count": 329,
   "id": "63afb0c0-69fa-454b-9722-b38bbbf0e919",
   "metadata": {},
   "outputs": [],
   "source": [
    "color = 'blue'\n",
    "if circular_shuffle:\n",
    "    color='red'\n",
    "\n",
    "plt.figure()\n",
    "plt.scatter(overlaps,\n",
    "            s_info,\n",
    "            c=color)\n",
    "\n",
    "plt.xlabel(\" overlap of place field (1st half and 2nd half)\")\n",
    "plt.ylabel(feature + \" (average 1st half and 2nd half)\")\n",
    "plt.suptitle(\"mouse 7050\")\n",
    "plt.show()"
   ]
  },
  {
   "cell_type": "code",
   "execution_count": 150,
   "id": "8df69361-81a8-44c1-95ac-7f4a63a3c75e",
   "metadata": {},
   "outputs": [
    {
     "name": "stderr",
     "output_type": "stream",
     "text": [
      "/tmp/ipykernel_394468/4117706899.py:672: MatplotlibDeprecationWarning: Auto-removal of overlapping axes is deprecated since 3.6 and will be removed two minor releases later; explicitly call ax.remove() as needed.\n",
      "  ax=plt.subplot(2,2,k+1)\n"
     ]
    }
   ],
   "source": [
    "    plot_fields(rms, fields_map)\n",
    "\n",
    "    if True:\n",
    "        plt.show()\n",
    "    else:\n",
    "        plt.savefig(\"/home/cat/fields.svg\")\n",
    "        plt.close()"
   ]
  },
  {
   "cell_type": "code",
   "execution_count": 429,
   "id": "3e7e20d0-9930-4bde-8adb-7ef7f30b728a",
   "metadata": {},
   "outputs": [],
   "source": []
  },
  {
   "cell_type": "code",
   "execution_count": 39,
   "id": "7172b928-dbd5-4ee7-9aac-f3dca911957e",
   "metadata": {},
   "outputs": [
    {
     "name": "stdout",
     "output_type": "stream",
     "text": [
      "['SI_rate: 2.65SI_cont: 1.14Sparse: 0.45 \\n Select: 4.59Peak_r: 10.64Mean_r: 0.57']\n"
     ]
    }
   ],
   "source": [
    "#print (res)\n",
    "text = \"SI_rate: \"+ str(round(res['spatial_information_rate'],2)) + \\\n",
    "        \"SI_cont: \"+ str(round(res['spatial_information_content'],2)) + \\\n",
    "        \"Sparse: \"+ str(round(res['sparsity'],2)) + ' \\n '+ \\\n",
    "        \"Select: \"+  str(round(res['selectivity'],2))+ \\\n",
    "        \"Peak_r: \"+  str(round(res['peak_rate'],2))+ \\\n",
    "        \"Mean_r: \"+  str(round(res['mean_rate'],2))\n",
    "\n",
    "print (text)\n"
   ]
  },
  {
   "cell_type": "code",
   "execution_count": 9,
   "id": "c45707dd-c713-4a40-86a3-a01b23dbd365",
   "metadata": {
    "tags": []
   },
   "outputs": [
    {
     "name": "stderr",
     "output_type": "stream",
     "text": [
      " 22%|██▏       | 103/476 [00:09<00:29, 12.64it/s]"
     ]
    },
    {
     "name": "stdout",
     "output_type": "stream",
     "text": [
      "ceel Id:  nan nan\n"
     ]
    },
    {
     "name": "stderr",
     "output_type": "stream",
     "text": [
      " 37%|███▋      | 177/476 [00:16<00:27, 11.02it/s]\n"
     ]
    },
    {
     "ename": "KeyboardInterrupt",
     "evalue": "",
     "output_type": "error",
     "traceback": [
      "\u001b[0;31m---------------------------------------------------------------------------\u001b[0m",
      "\u001b[0;31mKeyboardInterrupt\u001b[0m                         Traceback (most recent call last)",
      "Cell \u001b[0;32mIn [9], line 17\u001b[0m\n\u001b[1;32m     11\u001b[0m sel_array \u001b[38;5;241m=\u001b[39m []\n\u001b[1;32m     12\u001b[0m \u001b[38;5;28;01mfor\u001b[39;00m cell_id \u001b[38;5;129;01min\u001b[39;00m tqdm(cell_ids): \n\u001b[1;32m     13\u001b[0m     \u001b[38;5;66;03m#print (cell_id)\u001b[39;00m\n\u001b[1;32m     15\u001b[0m     _, rms, _, _ \u001b[38;5;241m=\u001b[39m get_rms_and_place_field(cell_id,\n\u001b[1;32m     16\u001b[0m                                            upphases\u001b[38;5;241m.\u001b[39mcopy(),\n\u001b[0;32m---> 17\u001b[0m                                            filtered_Fs\u001b[38;5;241m.\u001b[39mcopy(),\n\u001b[1;32m     18\u001b[0m                                            occ_map\u001b[38;5;241m.\u001b[39mcopy(),\n\u001b[1;32m     19\u001b[0m                                            arena_size\u001b[38;5;241m.\u001b[39mcopy(),\n\u001b[1;32m     20\u001b[0m                                            sigma,\n\u001b[1;32m     21\u001b[0m                                            scale_flag,\n\u001b[1;32m     22\u001b[0m                                            scale_value\n\u001b[1;32m     23\u001b[0m                                            \u001b[38;5;66;03m#limits\u001b[39;00m\n\u001b[1;32m     24\u001b[0m                                           )\n\u001b[1;32m     25\u001b[0m     \u001b[38;5;66;03m#\u001b[39;00m\n\u001b[1;32m     26\u001b[0m     res \u001b[38;5;241m=\u001b[39m op\u001b[38;5;241m.\u001b[39manalysis\u001b[38;5;241m.\u001b[39mrate_map_stats(rms\u001b[38;5;241m.\u001b[39mcopy(), \n\u001b[1;32m     27\u001b[0m                                      occ_map\u001b[38;5;241m.\u001b[39mcopy(), \n\u001b[1;32m     28\u001b[0m                                      debug\u001b[38;5;241m=\u001b[39m\u001b[38;5;28;01mFalse\u001b[39;00m)\n",
      "\u001b[0;31mKeyboardInterrupt\u001b[0m: "
     ]
    }
   ],
   "source": [
    "###############################################################\n",
    "############# SPATIAL SELETIVITY VS. SELECTIVITY ##############\n",
    "###############################################################\n",
    "scale_flag = False\n",
    "scale_value = 1\n",
    "sigma = 1.5\n",
    "\n",
    "cell_ids = np.arange(upphases.shape[0])\n",
    "#cell_ids = np.arange(103,200,1)\n",
    "spc_array = []\n",
    "sel_array = []\n",
    "for cell_id in tqdm(cell_ids): \n",
    "    #print (cell_id)\n",
    "    \n",
    "    _, rms, _, _ = get_rms_and_place_field(cell_id,\n",
    "                                           upphases.copy(),\n",
    "                                           filtered_Fs.copy(),\n",
    "                                           occ_map.copy(),\n",
    "                                           arena_size.copy(),\n",
    "                                           sigma,\n",
    "                                           scale_flag,\n",
    "                                           scale_value\n",
    "                                           #limits\n",
    "                                          )\n",
    "    #\n",
    "    res = op.analysis.rate_map_stats(rms.copy(), \n",
    "                                     occ_map.copy(), \n",
    "                                     debug=False)\n",
    "    \n",
    "   # print (res)\n",
    "    spc = res['spatial_information_content']\n",
    "    sel = res['selectivity']\n",
    "    if np.isnan(spc) or np.isnan(sel):\n",
    "        print (\"ceel Id: \", spc, sel)\n",
    "\n",
    "    spc_array.append(spc)\n",
    "    sel_array.append(sel)\n",
    "    \n",
    "plt.figure()\n",
    "\n",
    "plt.scatter(spc_array, sel_array)\n",
    "plt.xlabel(\"special_information_content\")\n",
    "plt.ylabel(\"selectivity\")\n",
    "\n",
    "plt.show()\n",
    "\n"
   ]
  },
  {
   "cell_type": "code",
   "execution_count": null,
   "id": "67f09358-3750-4c9d-b40f-e25ebaa81b03",
   "metadata": {},
   "outputs": [],
   "source": []
  },
  {
   "cell_type": "code",
   "execution_count": null,
   "id": "88f23f9b-4b7b-4aee-83c5-9f457427c48f",
   "metadata": {},
   "outputs": [],
   "source": []
  },
  {
   "cell_type": "code",
   "execution_count": null,
   "id": "fb412641-fbaa-49ea-80dd-ecf2e55585df",
   "metadata": {},
   "outputs": [],
   "source": []
  },
  {
   "cell_type": "code",
   "execution_count": null,
   "id": "1b365865-8924-4d7a-a2d2-36c72aeff513",
   "metadata": {},
   "outputs": [],
   "source": []
  }
 ],
 "metadata": {
  "kernelspec": {
   "display_name": "Python 3 (ipykernel)",
   "language": "python",
   "name": "python3"
  },
  "language_info": {
   "codemirror_mode": {
    "name": "ipython",
    "version": 3
   },
   "file_extension": ".py",
   "mimetype": "text/x-python",
   "name": "python",
   "nbconvert_exporter": "python",
   "pygments_lexer": "ipython3",
   "version": "3.11.0"
  }
 },
 "nbformat": 4,
 "nbformat_minor": 5
}
