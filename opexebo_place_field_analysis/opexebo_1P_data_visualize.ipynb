{
 "cells": [
  {
   "cell_type": "code",
   "execution_count": 1,
   "id": "5ec3ac28-a1c6-4e51-be96-ca6d903449e5",
   "metadata": {},
   "outputs": [
    {
     "data": {
      "application/javascript": [
       "IPython.notebook.set_autosave_interval(180000)"
      ]
     },
     "metadata": {},
     "output_type": "display_data"
    },
    {
     "name": "stdout",
     "output_type": "stream",
     "text": [
      "Autosaving every 180 seconds\n"
     ]
    },
    {
     "name": "stderr",
     "output_type": "stream",
     "text": [
      "<ipython-input-1-37e7f3dd53bd>:12: DeprecationWarning: Importing display from IPython.core.display is deprecated since IPython 7.14, please import from IPython display\n",
      "  from IPython.core.display import display, HTML\n"
     ]
    },
    {
     "data": {
      "text/html": [
       "<style>.container { width:100% !important; }</style>"
      ],
      "text/plain": [
       "<IPython.core.display.HTML object>"
      ]
     },
     "metadata": {},
     "output_type": "display_data"
    },
    {
     "name": "stderr",
     "output_type": "stream",
     "text": [
      "/home/cat/.conda/envs/donato/lib/python3.8/site-packages/tqdm/auto.py:22: TqdmWarning: IProgress not found. Please update jupyter and ipywidgets. See https://ipywidgets.readthedocs.io/en/stable/user_install.html\n",
      "  from .autonotebook import tqdm as notebook_tqdm\n"
     ]
    }
   ],
   "source": [
    "import matplotlib\n",
    "%matplotlib tk\n",
    "%autosave 180\n",
    "%load_ext autoreload\n",
    "%autoreload 2\n",
    "\n",
    "import nest_asyncio\n",
    "%config Completer.use_jedi = False\n",
    "\n",
    "#\n",
    "import matplotlib.pyplot as plt\n",
    "from IPython.core.display import display, HTML\n",
    "display(HTML(\"<style>.container { width:100% !important; }</style>\"))\n",
    "\n",
    "# \n",
    "import numpy as np\n",
    "import os\n",
    "import scipy\n",
    "\n",
    "# add root directory to be able to import packages\n",
    "# todo: make all packages installable so they can be called/imported by environment\n",
    "import sys\n",
    "\n",
    "#\n",
    "from tqdm import tqdm, trange\n",
    "\n",
    "#\n",
    "import opexebo as op\n",
    "\n",
    "import astropy\n",
    "from astropy.convolution import Gaussian2DKernel\n",
    "\n",
    "#\n",
    "import scipy.stats as stats\n",
    "\n",
    "#\n",
    "import parmap\n",
    "import glob\n",
    "\n",
    "#\n",
    "from utils import plot_all_metrics, load_cell, plot_fields\n"
   ]
  },
  {
   "cell_type": "code",
   "execution_count": 11,
   "id": "0f065b38-2e13-4043-8422-3a2a0cf21ef5",
   "metadata": {},
   "outputs": [
    {
     "name": "stderr",
     "output_type": "stream",
     "text": [
      "100%|██████████| 2000/2000 [00:00<00:00, 40833.39it/s]"
     ]
    },
    {
     "name": "stdout",
     "output_type": "stream",
     "text": [
      " Done... found:  216  cells\n"
     ]
    },
    {
     "name": "stderr",
     "output_type": "stream",
     "text": [
      "\n"
     ]
    }
   ],
   "source": [
    "###########################################\n",
    "############### LOAD DATA #################\n",
    "###########################################\n",
    "\n",
    "from utils import return_cells\n",
    "\n",
    "root_dir = '/media/cat/4TB/donato/nathalie'\n",
    "animal_id = 'DON-007021'\n",
    "session_id = \"FS9\"\n",
    "\n",
    "cells, occ_map = return_cells(root_dir, \n",
    "                     animal_id,\n",
    "                     session_id)"
   ]
  },
  {
   "cell_type": "code",
   "execution_count": 29,
   "id": "0b25f430-786c-4fdf-9761-ec335921a6ad",
   "metadata": {},
   "outputs": [
    {
     "name": "stderr",
     "output_type": "stream",
     "text": [
      "/home/cat/.conda/envs/donato/lib/python3.8/site-packages/astropy/convolution/convolve.py:430: AstropyUserWarning: nan_treatment='interpolate', however, NaN values detected post convolution. A contiguous region of NaN values, larger than the kernel size, are present in the input array. Increase the kernel size to avoid this.\n",
      "  warnings.warn(\n"
     ]
    }
   ],
   "source": [
    "#####################################\n",
    "#####################################\n",
    "#####################################\n",
    "cell_id = 395\n",
    "cell = cells[cell_id]\n",
    "\n",
    "#\n",
    "plot_fields(cell, occ_map)\n",
    "plt.tight_layout()\n"
   ]
  },
  {
   "cell_type": "code",
   "execution_count": 30,
   "id": "5199f094-247c-47e7-aa75-896b04b9b072",
   "metadata": {},
   "outputs": [
    {
     "name": "stderr",
     "output_type": "stream",
     "text": [
      "100%|██████████| 2000/2000 [00:00<00:00, 22932.85it/s]\n"
     ]
    },
    {
     "name": "stdout",
     "output_type": "stream",
     "text": [
      " Done... found:  428  cells\n"
     ]
    }
   ],
   "source": [
    "#########################################\n",
    "########## PLOT ALL METRICS #############\n",
    "#########################################\n",
    "\n",
    "from utils import plot_all_metrics\n",
    "\n",
    "# animal_id = 'DON-007021'\n",
    "# session_id = \"FS9\"\n",
    "\n",
    "#\n",
    "cells, occ_map = return_cells(root_dir, \n",
    "                     animal_id,\n",
    "                     session_id)\n",
    "\n",
    "#\n",
    "plot_all_metrics(cells)\n",
    "plt.suptitle(animal_id + \" \" + session_id)\n",
    "plt.savefig('/home/cat/'+animal_id + \" \" + session_id+'.png',dpi=300)\n",
    "#plt.close()\n",
    "plt.show()"
   ]
  },
  {
   "cell_type": "code",
   "execution_count": 15,
   "id": "f7ee4e6d-c79a-478f-bd83-908f79625a13",
   "metadata": {},
   "outputs": [
    {
     "name": "stderr",
     "output_type": "stream",
     "text": [
      "12it [00:02,  4.63it/s]\n",
      "12it [00:03,  3.39it/s]\n",
      "12it [00:01,  7.21it/s]\n",
      "12it [00:01,  7.76it/s]\n",
      "12it [00:03,  3.76it/s]\n",
      "12it [00:03,  3.06it/s]\n"
     ]
    }
   ],
   "source": [
    "######################################################\n",
    "########## PLOT # PLACE FIELDS ALL SESSIONS ##########\n",
    "######################################################\n",
    "\n",
    "from utils import find_placefields\n",
    "    \n",
    "#\n",
    "root_dir = '/media/cat/4TB/donato/nathalie/'\n",
    "animal_ids = [\n",
    "'DON-007021',\n",
    "'DON-007050',\n",
    "'DON-007369',\n",
    "'DON-007416',\n",
    "'DON-007417',\n",
    "'DON-007513'\n",
    "    \n",
    "    \n",
    "]\n",
    "\n",
    "fig =plt.figure()\n",
    "ax=plt.subplot(111)\n",
    "\n",
    "#\n",
    "for animal_id in animal_ids:\n",
    "    find_placefields(root_dir, animal_id, ax, animal_id)\n"
   ]
  },
  {
   "cell_type": "code",
   "execution_count": 31,
   "id": "a7327b51-0b49-4c1a-ad77-5a6d8b5963d4",
   "metadata": {},
   "outputs": [
    {
     "name": "stderr",
     "output_type": "stream",
     "text": [
      "100%|██████████| 2000/2000 [00:00<00:00, 23008.77it/s]"
     ]
    },
    {
     "name": "stdout",
     "output_type": "stream",
     "text": [
      " Done... found:  428  cells\n"
     ]
    },
    {
     "name": "stderr",
     "output_type": "stream",
     "text": [
      "\n"
     ]
    }
   ],
   "source": [
    "###########################################\n",
    "########## VISUALIZE CONTOURS #############\n",
    "###########################################\n",
    "\n",
    "from utils import plot_contours\n",
    "\n",
    "root_dir = '/media/cat/4TB/donato/nathalie/'\n",
    "animal_id = 'DON-007417'\n",
    "session_id = \"FS12\"\n",
    "\n",
    "\n",
    "std_threshold=2.5\n",
    "plot_contours(root_dir,\n",
    "              animal_id,\n",
    "              session_id,\n",
    "              std_threshold)\n"
   ]
  },
  {
   "cell_type": "code",
   "execution_count": null,
   "id": "6d60c9fb-b675-4141-a584-fb750a0e5de1",
   "metadata": {},
   "outputs": [],
   "source": []
  },
  {
   "cell_type": "code",
   "execution_count": null,
   "id": "f9d61c60-6f7c-40e9-b892-49ab66517051",
   "metadata": {},
   "outputs": [],
   "source": []
  },
  {
   "cell_type": "code",
   "execution_count": null,
   "id": "88f23f9b-4b7b-4aee-83c5-9f457427c48f",
   "metadata": {},
   "outputs": [],
   "source": []
  },
  {
   "cell_type": "code",
   "execution_count": null,
   "id": "fb412641-fbaa-49ea-80dd-ecf2e55585df",
   "metadata": {},
   "outputs": [],
   "source": []
  },
  {
   "cell_type": "code",
   "execution_count": null,
   "id": "1b365865-8924-4d7a-a2d2-36c72aeff513",
   "metadata": {},
   "outputs": [],
   "source": []
  }
 ],
 "metadata": {
  "kernelspec": {
   "display_name": "Python 3",
   "language": "python",
   "name": "python3"
  },
  "language_info": {
   "codemirror_mode": {
    "name": "ipython",
    "version": 3
   },
   "file_extension": ".py",
   "mimetype": "text/x-python",
   "name": "python",
   "nbconvert_exporter": "python",
   "pygments_lexer": "ipython3",
   "version": "3.8.15"
  }
 },
 "nbformat": 4,
 "nbformat_minor": 5
}
