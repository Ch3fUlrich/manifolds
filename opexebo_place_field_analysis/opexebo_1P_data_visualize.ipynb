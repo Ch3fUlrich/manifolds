{
 "cells": [
  {
   "cell_type": "code",
   "execution_count": 100,
   "id": "5ec3ac28-a1c6-4e51-be96-ca6d903449e5",
   "metadata": {},
   "outputs": [
    {
     "data": {
      "application/javascript": [
       "IPython.notebook.set_autosave_interval(180000)"
      ]
     },
     "metadata": {},
     "output_type": "display_data"
    },
    {
     "name": "stdout",
     "output_type": "stream",
     "text": [
      "Autosaving every 180 seconds\n",
      "The autoreload extension is already loaded. To reload it, use:\n",
      "  %reload_ext autoreload\n"
     ]
    },
    {
     "name": "stderr",
     "output_type": "stream",
     "text": [
      "<ipython-input-100-b209bcf1c780>:12: DeprecationWarning: Importing display from IPython.core.display is deprecated since IPython 7.14, please import from IPython display\n",
      "  from IPython.core.display import display, HTML\n"
     ]
    },
    {
     "data": {
      "text/html": [
       "<style>.container { width:100% !important; }</style>"
      ],
      "text/plain": [
       "<IPython.core.display.HTML object>"
      ]
     },
     "metadata": {},
     "output_type": "display_data"
    }
   ],
   "source": [
    "import matplotlib\n",
    "%matplotlib tk\n",
    "%autosave 180\n",
    "%load_ext autoreload\n",
    "%autoreload 2\n",
    "\n",
    "import nest_asyncio\n",
    "%config Completer.use_jedi = False\n",
    "\n",
    "#\n",
    "import matplotlib.pyplot as plt\n",
    "from IPython.core.display import display, HTML\n",
    "display(HTML(\"<style>.container { width:100% !important; }</style>\"))\n",
    "\n",
    "# \n",
    "import numpy as np\n",
    "import os\n",
    "import scipy\n",
    "\n",
    "# add root directory to be able to import packages\n",
    "# todo: make all packages installable so they can be called/imported by environment\n",
    "import sys\n",
    "\n",
    "#\n",
    "from tqdm import tqdm, trange\n",
    "\n",
    "#\n",
    "import opexebo as op\n",
    "\n",
    "import astropy\n",
    "from astropy.convolution import Gaussian2DKernel\n",
    "\n",
    "#\n",
    "import scipy.stats as stats\n",
    "\n",
    "#\n",
    "import parmap\n",
    "\n",
    "#\n",
    "from utils import plot_all_metrics, load_cell, plot_fields\n"
   ]
  },
  {
   "cell_type": "code",
   "execution_count": 168,
   "id": "0f065b38-2e13-4043-8422-3a2a0cf21ef5",
   "metadata": {},
   "outputs": [
    {
     "name": "stderr",
     "output_type": "stream",
     "text": [
      "100%|██████████| 2000/2000 [00:00<00:00, 23531.32it/s]"
     ]
    },
    {
     "name": "stdout",
     "output_type": "stream",
     "text": [
      " Done... found:  364  cells\n"
     ]
    },
    {
     "name": "stderr",
     "output_type": "stream",
     "text": [
      "\n"
     ]
    }
   ],
   "source": [
    "###########################################\n",
    "############### LOAD DATA #################\n",
    "###########################################\n",
    "\n",
    "# \n",
    "fname_locs = ('/media/cat/4TB/donato/nathalie/DON-007050/FS9/DON-007050_20211030_TR-BSL_FS9-ACQDLC_resnet50_open_arena_white_floorSep8shuffle1_200000_locs.npy')\n",
    "\n",
    "#\n",
    "fname_traces = '/media/cat/4TB/donato/nathalie/DON-007050/FS9/binarized_traces.npz'\n",
    "\n",
    "#\n",
    "root_dir = os.path.join(os.path.split(fname_traces)[0],\n",
    "                                     'cell_analysis')\n",
    "#\n",
    "occ_map = np.load(os.path.split(root_dir)[0]+ '/occ_map.npy', allow_pickle=True)\n",
    "\n",
    "#\n",
    "cell_id=0\n",
    "cells = []\n",
    "for k in trange(2000):\n",
    "    \n",
    "    cell = load_cell(root_dir,\n",
    "                     k)\n",
    "    \n",
    "    if cell is not None:\n",
    "        #print (\"found: \", k)\n",
    "        cells.append(cell)\n",
    "        cell_id+=1\n",
    "\n",
    "print ( \" Done... found: \", len(cells), \" cells\")"
   ]
  },
  {
   "cell_type": "code",
   "execution_count": 183,
   "id": "0b25f430-786c-4fdf-9761-ec335921a6ad",
   "metadata": {},
   "outputs": [
    {
     "name": "stdout",
     "output_type": "stream",
     "text": [
      "SI zscores:  [ 3.13908145e+00  3.89210632e+00  6.23355044e+00  1.29377125e-01\n",
      " -9.13262665e-02 -5.84360945e-01 -2.91721916e-01 -6.29838207e-01\n",
      " -3.85718010e-02 -4.62647258e-03 -4.53016112e-01 -4.21629544e-01\n",
      " -2.88497283e-01 -3.66841013e-02 -5.38130016e-01 -7.70709325e-01\n",
      " -1.95397487e-01 -4.64044463e-01  1.55457449e+00 -2.83865838e-01\n",
      "  1.47149153e-01 -2.99340140e-01 -1.69287596e-01 -3.12700128e-01\n",
      " -5.28124704e-01 -8.34070113e-02 -1.12138304e-01 -2.02018842e-01\n",
      " -1.72188273e-01 -2.30405789e-01 -6.68538814e-01 -2.24152853e-01\n",
      " -4.24671194e-02 -1.28173042e-01 -4.13917914e-02 -1.28794868e-01\n",
      " -4.35717639e-01 -5.30208153e-01 -2.84833662e-01  3.52505645e-02\n",
      "  6.34436805e-01  2.93356825e-01 -4.90997765e-01 -2.86301982e-01\n",
      " -5.20236399e-01  5.28187491e-02 -2.35353694e-01  1.02110257e+00\n",
      " -4.41027915e-01 -4.26082558e-01 -4.54536209e-01 -5.65716615e-01\n",
      " -3.64267398e-01 -3.66267189e-01 -4.04152941e-01 -4.57884833e-01\n",
      "  1.69714547e+00 -4.76221758e-01 -6.91275249e-02  2.26794822e-01\n",
      " -1.00368791e+00 -2.36709019e-02 -3.32633730e-01 -6.58385680e-01\n",
      " -2.96456895e-01 -1.73851034e-01  1.87982917e-01 -2.57495156e-01\n",
      " -1.10390856e-01 -4.55932856e-01  1.40156453e-01 -1.00219773e+00\n",
      " -5.33493795e-01 -5.90290551e-01  2.21347229e-01 -3.91391819e-01\n",
      " -4.06254891e-01 -1.86124281e-01 -5.19665586e-01 -2.03197188e-01\n",
      "  2.69356562e+00 -1.19438763e-01 -3.50174570e-01  3.38575202e-01\n",
      "  1.60692190e+00 -7.41510510e-01 -5.12683048e-01 -3.94798610e-02\n",
      "  1.90785129e-01 -3.66267189e-01 -1.92197936e-01 -3.65354190e-01\n",
      " -2.41314460e-01 -9.79435469e-01 -6.12123909e-01 -4.44151338e-01\n",
      "  2.63665126e+00  3.23247557e-02 -7.71753297e-02 -2.48057004e-01\n",
      "  2.04701541e-01  9.67737193e-01 -5.98526267e-01]\n",
      "sI zscores:  103\n",
      "sI:  103\n"
     ]
    }
   ],
   "source": [
    "#####################################\n",
    "#####################################\n",
    "#####################################\n",
    "cell_id = 25\n",
    "cell = cells[cell_id]\n",
    "\n",
    "#\n",
    "plot_fields(cell, occ_map)\n",
    "plt.tight_layout()\n"
   ]
  },
  {
   "cell_type": "code",
   "execution_count": 127,
   "id": "5199f094-247c-47e7-aa75-896b04b9b072",
   "metadata": {},
   "outputs": [],
   "source": [
    "#####################################\n",
    "#####################################\n",
    "#####################################\n",
    "\n",
    "#\n",
    "plot_all_metrics(cells)\n",
    "plt.savefig('/home/cat/figure.png')\n",
    "plt.close()"
   ]
  },
  {
   "cell_type": "code",
   "execution_count": null,
   "id": "f7ee4e6d-c79a-478f-bd83-908f79625a13",
   "metadata": {},
   "outputs": [],
   "source": []
  },
  {
   "cell_type": "code",
   "execution_count": null,
   "id": "c8bf88d1-1a2a-4472-8d6c-24d7a0e6e73f",
   "metadata": {},
   "outputs": [],
   "source": []
  },
  {
   "cell_type": "code",
   "execution_count": null,
   "id": "a7327b51-0b49-4c1a-ad77-5a6d8b5963d4",
   "metadata": {},
   "outputs": [],
   "source": []
  },
  {
   "cell_type": "code",
   "execution_count": null,
   "id": "6d60c9fb-b675-4141-a584-fb750a0e5de1",
   "metadata": {},
   "outputs": [],
   "source": []
  },
  {
   "cell_type": "code",
   "execution_count": null,
   "id": "f9d61c60-6f7c-40e9-b892-49ab66517051",
   "metadata": {},
   "outputs": [],
   "source": []
  },
  {
   "cell_type": "code",
   "execution_count": null,
   "id": "88f23f9b-4b7b-4aee-83c5-9f457427c48f",
   "metadata": {},
   "outputs": [],
   "source": []
  },
  {
   "cell_type": "code",
   "execution_count": null,
   "id": "fb412641-fbaa-49ea-80dd-ecf2e55585df",
   "metadata": {},
   "outputs": [],
   "source": []
  },
  {
   "cell_type": "code",
   "execution_count": null,
   "id": "1b365865-8924-4d7a-a2d2-36c72aeff513",
   "metadata": {},
   "outputs": [],
   "source": []
  }
 ],
 "metadata": {
  "kernelspec": {
   "display_name": "Python 3",
   "language": "python",
   "name": "python3"
  },
  "language_info": {
   "codemirror_mode": {
    "name": "ipython",
    "version": 3
   },
   "file_extension": ".py",
   "mimetype": "text/x-python",
   "name": "python",
   "nbconvert_exporter": "python",
   "pygments_lexer": "ipython3",
   "version": "3.8.15"
  }
 },
 "nbformat": 4,
 "nbformat_minor": 5
}
