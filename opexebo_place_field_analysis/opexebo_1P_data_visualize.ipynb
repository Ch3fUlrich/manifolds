{
 "cells": [
  {
   "cell_type": "code",
   "execution_count": 1,
   "id": "5ec3ac28-a1c6-4e51-be96-ca6d903449e5",
   "metadata": {},
   "outputs": [
    {
     "data": {
      "application/javascript": [
       "IPython.notebook.set_autosave_interval(180000)"
      ]
     },
     "metadata": {},
     "output_type": "display_data"
    },
    {
     "name": "stdout",
     "output_type": "stream",
     "text": [
      "Autosaving every 180 seconds\n"
     ]
    },
    {
     "name": "stderr",
     "output_type": "stream",
     "text": [
      "<ipython-input-1-37e7f3dd53bd>:12: DeprecationWarning: Importing display from IPython.core.display is deprecated since IPython 7.14, please import from IPython display\n",
      "  from IPython.core.display import display, HTML\n"
     ]
    },
    {
     "data": {
      "text/html": [
       "<style>.container { width:100% !important; }</style>"
      ],
      "text/plain": [
       "<IPython.core.display.HTML object>"
      ]
     },
     "metadata": {},
     "output_type": "display_data"
    },
    {
     "name": "stderr",
     "output_type": "stream",
     "text": [
      "/home/cat/.conda/envs/donato/lib/python3.8/site-packages/tqdm/auto.py:22: TqdmWarning: IProgress not found. Please update jupyter and ipywidgets. See https://ipywidgets.readthedocs.io/en/stable/user_install.html\n",
      "  from .autonotebook import tqdm as notebook_tqdm\n"
     ]
    }
   ],
   "source": [
    "import matplotlib\n",
    "%matplotlib tk\n",
    "%autosave 180\n",
    "%load_ext autoreload\n",
    "%autoreload 2\n",
    "\n",
    "import nest_asyncio\n",
    "%config Completer.use_jedi = False\n",
    "\n",
    "#\n",
    "import matplotlib.pyplot as plt\n",
    "from IPython.core.display import display, HTML\n",
    "display(HTML(\"<style>.container { width:100% !important; }</style>\"))\n",
    "\n",
    "# \n",
    "import numpy as np\n",
    "import os\n",
    "import scipy\n",
    "\n",
    "# add root directory to be able to import packages\n",
    "# todo: make all packages installable so they can be called/imported by environment\n",
    "import sys\n",
    "\n",
    "#\n",
    "from tqdm import tqdm, trange\n",
    "\n",
    "#\n",
    "import opexebo as op\n",
    "\n",
    "import astropy\n",
    "from astropy.convolution import Gaussian2DKernel\n",
    "\n",
    "#\n",
    "import scipy.stats as stats\n",
    "\n",
    "#\n",
    "import parmap\n",
    "import glob\n",
    "\n",
    "#\n",
    "from utils import plot_all_metrics, load_cell, plot_fields\n"
   ]
  },
  {
   "cell_type": "code",
   "execution_count": 2,
   "id": "0f065b38-2e13-4043-8422-3a2a0cf21ef5",
   "metadata": {},
   "outputs": [
    {
     "name": "stderr",
     "output_type": "stream",
     "text": [
      "100%|██████████| 2000/2000 [00:00<00:00, 25437.45it/s]"
     ]
    },
    {
     "name": "stdout",
     "output_type": "stream",
     "text": [
      " Done... found:  365  cells\n"
     ]
    },
    {
     "name": "stderr",
     "output_type": "stream",
     "text": [
      "\n"
     ]
    }
   ],
   "source": [
    "###########################################\n",
    "############### LOAD DATA #################\n",
    "###########################################\n",
    "\n",
    "from utils import return_cells\n",
    "\n",
    "root_dir = '/media/cat/4TB/donato/nathalie'\n",
    "animal_id = 'DON-007050'\n",
    "session_id = \"FS9\"\n",
    "\n",
    "cells, occ_map = return_cells(root_dir, \n",
    "                     animal_id,\n",
    "                     session_id)"
   ]
  },
  {
   "cell_type": "code",
   "execution_count": 64,
   "id": "0b25f430-786c-4fdf-9761-ec335921a6ad",
   "metadata": {},
   "outputs": [
    {
     "name": "stdout",
     "output_type": "stream",
     "text": [
      "SI zscores:  [ 1.74472534e+00  2.24654137e+00  3.32592428e+00 -5.95220762e-02\n",
      " -1.30677720e-01 -8.32302507e-01 -4.29651558e-01  1.15025092e+00\n",
      " -3.79336399e-02 -7.84136556e-01 -2.94133585e-01 -7.62868183e-01\n",
      " -1.77236165e+00 -2.34420290e-01  8.85379309e-01  4.50093650e-01\n",
      "  6.00788918e-02  2.17737391e-01  8.23737974e-01 -4.78601460e-02\n",
      "  1.49327876e+00  3.39681148e-01 -1.02411325e+00  9.92425611e-02\n",
      "  8.25735268e-01 -4.14241364e-01 -1.11021990e+00  1.43212459e+00\n",
      "  1.26981926e-01 -1.37435608e+00 -1.37334630e+00 -7.23544070e-02\n",
      " -8.26214763e-01 -8.49788017e-01  9.58399335e-01 -2.24310253e-01\n",
      " -1.65374398e+00  9.79147022e-01  1.09131522e+00  4.91537916e-01\n",
      " -1.08896556e+00 -3.34827880e-01 -4.09669403e-01 -1.31801230e+00\n",
      " -1.37485220e-01 -4.46615931e-01 -6.59441245e-02 -4.34530784e-01\n",
      "  3.48953442e-01 -1.37648459e+00 -1.35069359e+00 -2.85030149e-02\n",
      "  1.09513728e+00 -4.61257311e-01  6.98331330e-01  1.35664210e-01\n",
      "  1.11360238e+00 -4.29765842e-01 -1.35842086e+00 -1.57237374e+00\n",
      " -1.50047891e+00 -6.14109956e-01  7.94195296e-02  1.04142067e-01\n",
      " -1.30858878e+00  1.63402765e+00 -3.15563131e-01  6.84953374e-01\n",
      "  8.30533882e-02  4.17572465e-03 -8.56299418e-01  2.24820860e+00\n",
      "  3.16743704e-03 -3.26986631e-01 -2.21672369e-01  2.53647456e-02\n",
      " -8.72503523e-01 -1.64406809e+00  7.06921913e-02  1.37099445e+00\n",
      "  2.51410297e-01 -1.32854417e-02 -4.15616373e-01 -1.87090312e+00\n",
      " -1.68362129e-02 -2.04702288e-01 -1.51242363e-01 -4.52237502e-01\n",
      "  1.46337669e-01  2.18719688e+00  1.73568617e+00 -8.00640916e-01\n",
      "  8.56271315e-01  6.56869729e-01 -1.28594827e-01  8.98293629e-01\n",
      "  4.69513034e-01 -9.14447754e-01  2.12366767e+00 -2.11313908e-01\n",
      "  1.23754416e+00 -9.88583664e-01 -5.38096796e-02]\n"
     ]
    }
   ],
   "source": [
    "#####################################\n",
    "#####################################\n",
    "#####################################\n",
    "cell_id = 25\n",
    "cell = cells[cell_id]\n",
    "\n",
    "#\n",
    "plot_fields(cell, occ_map)\n",
    "plt.tight_layout()\n"
   ]
  },
  {
   "cell_type": "code",
   "execution_count": 15,
   "id": "5199f094-247c-47e7-aa75-896b04b9b072",
   "metadata": {},
   "outputs": [
    {
     "name": "stderr",
     "output_type": "stream",
     "text": [
      "100%|██████████| 2000/2000 [00:00<00:00, 40365.17it/s]\n"
     ]
    },
    {
     "name": "stdout",
     "output_type": "stream",
     "text": [
      " Done... found:  216  cells\n"
     ]
    }
   ],
   "source": [
    "#########################################\n",
    "########## PLOT ALL METRICS #############\n",
    "#########################################\n",
    "\n",
    "from utils import plot_all_metrics\n",
    "\n",
    "animal_id = 'DON-007021'\n",
    "session_id = \"FS9\"\n",
    "\n",
    "#\n",
    "cells, occ_map = return_cells(root_dir, \n",
    "                     animal_id,\n",
    "                     session_id)\n",
    "\n",
    "#\n",
    "plot_all_metrics(cells)\n",
    "plt.suptitle(animal_id + \" \" + session_id)\n",
    "plt.savefig('/home/cat/'+animal_id + \" \" + session_id+'.png',dpi=300)\n",
    "plt.close()"
   ]
  },
  {
   "cell_type": "code",
   "execution_count": 62,
   "id": "f7ee4e6d-c79a-478f-bd83-908f79625a13",
   "metadata": {},
   "outputs": [
    {
     "name": "stderr",
     "output_type": "stream",
     "text": [
      "12it [00:01,  8.29it/s]\n",
      "12it [00:01,  6.06it/s]\n",
      "12it [00:00, 15.23it/s]\n",
      "12it [00:00, 15.74it/s]\n",
      "12it [00:01,  8.54it/s]\n",
      "12it [00:02,  5.60it/s]\n"
     ]
    }
   ],
   "source": [
    "######################################################\n",
    "########## PLOT # PLACE FIELDS ALL SESSIONS ##########\n",
    "######################################################\n",
    "\n",
    "from utils import find_placefields\n",
    "    \n",
    "#\n",
    "root_dir = '/media/cat/4TB/donato/nathalie/'\n",
    "animal_ids = [\n",
    "'DON-007021',\n",
    "'DON-007050',\n",
    "'DON-007369',\n",
    "'DON-007416',\n",
    "'DON-007417',\n",
    "'DON-007513'\n",
    "    \n",
    "    \n",
    "]\n",
    "\n",
    "fig =plt.figure()\n",
    "ax=plt.subplot(111)\n",
    "\n",
    "#\n",
    "for animal_id in animal_ids:\n",
    "    find_placefields(root_dir, animal_id, ax, animal_id)\n"
   ]
  },
  {
   "cell_type": "code",
   "execution_count": 7,
   "id": "a7327b51-0b49-4c1a-ad77-5a6d8b5963d4",
   "metadata": {},
   "outputs": [
    {
     "name": "stderr",
     "output_type": "stream",
     "text": [
      "100%|██████████| 2000/2000 [00:00<00:00, 17572.22it/s]"
     ]
    },
    {
     "name": "stdout",
     "output_type": "stream",
     "text": [
      " Done... found:  374  cells\n"
     ]
    },
    {
     "name": "stderr",
     "output_type": "stream",
     "text": [
      "\n"
     ]
    }
   ],
   "source": [
    "###########################################\n",
    "########## VISUALIZE CONTOURS #############\n",
    "###########################################\n",
    "\n",
    "from utils import plot_contours\n",
    "\n",
    "root_dir = '/media/cat/4TB/donato/nathalie/'\n",
    "animal_id = 'DON-007050'\n",
    "session_id = \"FS10\"\n",
    "\n",
    "\n",
    "    \n",
    "plot_contours(root_dir,\n",
    "              animal_id,\n",
    "              session_id)\n"
   ]
  },
  {
   "cell_type": "code",
   "execution_count": null,
   "id": "6d60c9fb-b675-4141-a584-fb750a0e5de1",
   "metadata": {},
   "outputs": [],
   "source": []
  },
  {
   "cell_type": "code",
   "execution_count": null,
   "id": "f9d61c60-6f7c-40e9-b892-49ab66517051",
   "metadata": {},
   "outputs": [],
   "source": []
  },
  {
   "cell_type": "code",
   "execution_count": null,
   "id": "88f23f9b-4b7b-4aee-83c5-9f457427c48f",
   "metadata": {},
   "outputs": [],
   "source": []
  },
  {
   "cell_type": "code",
   "execution_count": null,
   "id": "fb412641-fbaa-49ea-80dd-ecf2e55585df",
   "metadata": {},
   "outputs": [],
   "source": []
  },
  {
   "cell_type": "code",
   "execution_count": null,
   "id": "1b365865-8924-4d7a-a2d2-36c72aeff513",
   "metadata": {},
   "outputs": [],
   "source": []
  }
 ],
 "metadata": {
  "kernelspec": {
   "display_name": "Python 3",
   "language": "python",
   "name": "python3"
  },
  "language_info": {
   "codemirror_mode": {
    "name": "ipython",
    "version": 3
   },
   "file_extension": ".py",
   "mimetype": "text/x-python",
   "name": "python",
   "nbconvert_exporter": "python",
   "pygments_lexer": "ipython3",
   "version": "3.8.15"
  }
 },
 "nbformat": 4,
 "nbformat_minor": 5
}
