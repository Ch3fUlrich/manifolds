{
 "cells": [
  {
   "cell_type": "code",
   "execution_count": 2,
   "id": "611dc90f",
   "metadata": {},
   "outputs": [
    {
     "data": {
      "application/javascript": [
       "IPython.notebook.set_autosave_interval(180000)"
      ]
     },
     "metadata": {},
     "output_type": "display_data"
    },
    {
     "name": "stdout",
     "output_type": "stream",
     "text": [
      "Autosaving every 180 seconds\n",
      "The autoreload extension is already loaded. To reload it, use:\n",
      "  %reload_ext autoreload\n"
     ]
    },
    {
     "data": {
      "text/html": [
       "<style>.container { width:100% !important; }</style>"
      ],
      "text/plain": [
       "<IPython.core.display.HTML object>"
      ]
     },
     "metadata": {},
     "output_type": "display_data"
    }
   ],
   "source": [
    "import matplotlib\n",
    "%matplotlib tk\n",
    "%autosave 180\n",
    "%load_ext autoreload\n",
    "%autoreload 2\n",
    "\n",
    "import nest_asyncio\n",
    "%config Completer.use_jedi = False\n",
    "\n",
    "#\n",
    "import matplotlib.pyplot as plt\n",
    "from IPython.core.display import display, HTML\n",
    "display(HTML(\"<style>.container { width:100% !important; }</style>\"))\n",
    "\n",
    "# \n",
    "import numpy as np\n",
    "import os\n",
    "import scipy\n",
    "\n",
    "# add root directory to be able to import packages\n",
    "# todo: make all packages installable so they can be called/imported by environment\n",
    "import sys\n",
    "module_path = os.path.abspath(os.path.join('..'))\n",
    "sys.path.append(module_path)\n",
    "\n",
    "from utils.wheel import wheel\n",
    "from utils.calcium import calcium\n"
   ]
  },
  {
   "cell_type": "code",
   "execution_count": null,
   "id": "240d6ff7",
   "metadata": {
    "scrolled": true
   },
   "outputs": [
    {
     "name": "stderr",
     "output_type": "stream",
     "text": [
      "running PCA on multi-sessions:   0%|                                                                                               | 0/10 [00:00<?, ?it/s]"
     ]
    },
    {
     "name": "stdout",
     "output_type": "stream",
     "text": [
      "\n",
      "\n",
      " ... deduplicating cells... (can take ~5 for ~1,000cells) \n",
      "... computing cell overlaps ...\n"
     ]
    },
    {
     "data": {
      "application/vnd.jupyter.widget-view+json": {
       "model_id": "722735f510ab49e194d73e3c512c1975",
       "version_major": 2,
       "version_minor": 0
      },
      "text/plain": [
       "  0%|          | 0/30 [00:01<?, ?it/s]"
      ]
     },
     "metadata": {},
     "output_type": "display_data"
    },
    {
     "name": "stdout",
     "output_type": "stream",
     "text": [
      "... computing pairwise pearson correlation ...\n"
     ]
    },
    {
     "data": {
      "application/vnd.jupyter.widget-view+json": {
       "model_id": "73ec36b74bfe48b58c58bf98f432c0e7",
       "version_major": 2,
       "version_minor": 0
      },
      "text/plain": [
       "  0%|          | 0/100 [00:00<?, ?it/s]"
      ]
     },
     "metadata": {},
     "output_type": "display_data"
    },
    {
     "name": "stdout",
     "output_type": "stream",
     "text": [
      "Parallel corrs:  (281961, 4)\n"
     ]
    },
    {
     "name": "stderr",
     "output_type": "stream",
     "text": [
      "\n",
      "7503it [00:00, 91672.70it/s]                                                                                                                              \u001b[A\n",
      "running PCA on multi-sessions:  10%|████████▋                                                                              | 1/10 [01:33<13:57, 93.08s/it]"
     ]
    },
    {
     "name": "stdout",
     "output_type": "stream",
     "text": [
      "Exp time :  1858.0\n",
      "   Queiscent periods (seconds):  1455.0666666666666\n",
      "   Running periods (seconds):  70.33333333333333\n",
      "\n",
      "\n",
      " ... deduplicating cells... (can take ~5 for ~1,000cells) \n",
      "... computing cell overlaps ...\n"
     ]
    },
    {
     "data": {
      "application/vnd.jupyter.widget-view+json": {
       "model_id": "e98ce07f251b4e9aaf1044aa2ecc286c",
       "version_major": 2,
       "version_minor": 0
      },
      "text/plain": [
       "  0%|          | 0/30 [00:00<?, ?it/s]"
      ]
     },
     "metadata": {},
     "output_type": "display_data"
    },
    {
     "name": "stdout",
     "output_type": "stream",
     "text": [
      "... computing pairwise pearson correlation ...\n"
     ]
    },
    {
     "data": {
      "application/vnd.jupyter.widget-view+json": {
       "model_id": "ad943adad7b347499e542c1bf3b3c795",
       "version_major": 2,
       "version_minor": 0
      },
      "text/plain": [
       "  0%|          | 0/100 [00:00<?, ?it/s]"
      ]
     },
     "metadata": {},
     "output_type": "display_data"
    },
    {
     "name": "stdout",
     "output_type": "stream",
     "text": [
      "Parallel corrs:  (341056, 4)\n"
     ]
    },
    {
     "name": "stderr",
     "output_type": "stream",
     "text": [
      "\n",
      "8001it [00:00, 100245.03it/s]                                                                                                                             \u001b[A\n",
      "running PCA on multi-sessions:  20%|█████████████████▏                                                                    | 2/10 [03:24<13:52, 104.01s/it]"
     ]
    },
    {
     "name": "stdout",
     "output_type": "stream",
     "text": [
      "Exp time :  1858.0\n",
      "   Queiscent periods (seconds):  1359.2333333333333\n",
      "   Running periods (seconds):  170.1\n",
      "\n",
      "\n",
      " ... deduplicating cells... (can take ~5 for ~1,000cells) \n",
      "... computing cell overlaps ...\n"
     ]
    },
    {
     "data": {
      "application/vnd.jupyter.widget-view+json": {
       "model_id": "d749521dd09a40ca8cf8c5b1bf5e587f",
       "version_major": 2,
       "version_minor": 0
      },
      "text/plain": [
       "  0%|          | 0/30 [00:00<?, ?it/s]"
      ]
     },
     "metadata": {},
     "output_type": "display_data"
    },
    {
     "name": "stdout",
     "output_type": "stream",
     "text": [
      "... computing pairwise pearson correlation ...\n"
     ]
    },
    {
     "data": {
      "application/vnd.jupyter.widget-view+json": {
       "model_id": "38324621fca94c0ca004ac7b657d6dde",
       "version_major": 2,
       "version_minor": 0
      },
      "text/plain": [
       "  0%|          | 0/100 [00:00<?, ?it/s]"
      ]
     },
     "metadata": {},
     "output_type": "display_data"
    },
    {
     "name": "stdout",
     "output_type": "stream",
     "text": [
      "Parallel corrs:  (220900, 4)\n"
     ]
    },
    {
     "name": "stderr",
     "output_type": "stream",
     "text": [
      "\n",
      "4950it [00:00, 78116.51it/s]                                                                                                                              \u001b[A\n",
      "running PCA on multi-sessions:  30%|██████████████████████████                                                             | 3/10 [04:41<10:40, 91.50s/it]"
     ]
    },
    {
     "name": "stdout",
     "output_type": "stream",
     "text": [
      "Exp time :  1858.0\n",
      "   Queiscent periods (seconds):  1395.7333333333333\n",
      "   Running periods (seconds):  91.26666666666667\n",
      "\n",
      "\n",
      " ... deduplicating cells... (can take ~5 for ~1,000cells) \n",
      "... computing cell overlaps ...\n"
     ]
    },
    {
     "data": {
      "application/vnd.jupyter.widget-view+json": {
       "model_id": "9038f7784dfb477b8f9e9c176b43240e",
       "version_major": 2,
       "version_minor": 0
      },
      "text/plain": [
       "  0%|          | 0/30 [00:00<?, ?it/s]"
      ]
     },
     "metadata": {},
     "output_type": "display_data"
    },
    {
     "name": "stdout",
     "output_type": "stream",
     "text": [
      "... computing pairwise pearson correlation ...\n"
     ]
    },
    {
     "data": {
      "application/vnd.jupyter.widget-view+json": {
       "model_id": "b84d765c96574096b1eca6b215ac01b4",
       "version_major": 2,
       "version_minor": 0
      },
      "text/plain": [
       "  0%|          | 0/100 [00:00<?, ?it/s]"
      ]
     },
     "metadata": {},
     "output_type": "display_data"
    },
    {
     "name": "stdout",
     "output_type": "stream",
     "text": [
      "Parallel corrs:  (253009, 4)\n"
     ]
    },
    {
     "name": "stderr",
     "output_type": "stream",
     "text": [
      "\n",
      "6105it [00:00, 89868.48it/s]                                                                                                                              \u001b[A\n",
      "running PCA on multi-sessions:  40%|██████████████████████████████████▊                                                    | 4/10 [06:13<09:09, 91.63s/it]"
     ]
    },
    {
     "name": "stdout",
     "output_type": "stream",
     "text": [
      "Exp time :  1858.0\n",
      "   Queiscent periods (seconds):  1331.3\n",
      "   Running periods (seconds):  62.86666666666667\n",
      "\n",
      "\n",
      " ... deduplicating cells... (can take ~5 for ~1,000cells) \n",
      "... computing cell overlaps ...\n"
     ]
    },
    {
     "data": {
      "application/vnd.jupyter.widget-view+json": {
       "model_id": "8664e23d5bae4024afb4820c707ac876",
       "version_major": 2,
       "version_minor": 0
      },
      "text/plain": [
       "  0%|          | 0/30 [00:00<?, ?it/s]"
      ]
     },
     "metadata": {},
     "output_type": "display_data"
    },
    {
     "name": "stdout",
     "output_type": "stream",
     "text": [
      "... computing pairwise pearson correlation ...\n"
     ]
    },
    {
     "data": {
      "application/vnd.jupyter.widget-view+json": {
       "model_id": "9dc4ed3c1ff544228bab66b822db8f0f",
       "version_major": 2,
       "version_minor": 0
      },
      "text/plain": [
       "  0%|          | 0/100 [00:00<?, ?it/s]"
      ]
     },
     "metadata": {},
     "output_type": "display_data"
    },
    {
     "name": "stdout",
     "output_type": "stream",
     "text": [
      "Parallel corrs:  (297025, 4)\n"
     ]
    },
    {
     "name": "stderr",
     "output_type": "stream",
     "text": [
      "\n",
      "5995it [00:00, 77921.66it/s]                                                                                                                              \u001b[A\n",
      "running PCA on multi-sessions:  50%|███████████████████████████████████████████▌                                           | 5/10 [07:54<07:56, 95.25s/it]"
     ]
    },
    {
     "name": "stdout",
     "output_type": "stream",
     "text": [
      "Exp time :  1858.0\n",
      "   Queiscent periods (seconds):  1481.1333333333334\n",
      "   Running periods (seconds):  7.933333333333334\n",
      "\n",
      "\n",
      " ... deduplicating cells... (can take ~5 for ~1,000cells) \n",
      "... computing cell overlaps ...\n"
     ]
    },
    {
     "data": {
      "application/vnd.jupyter.widget-view+json": {
       "model_id": "da92c6b136e243d39d02f882eabc0fac",
       "version_major": 2,
       "version_minor": 0
      },
      "text/plain": [
       "  0%|          | 0/30 [00:00<?, ?it/s]"
      ]
     },
     "metadata": {},
     "output_type": "display_data"
    },
    {
     "name": "stdout",
     "output_type": "stream",
     "text": [
      "... computing pairwise pearson correlation ...\n"
     ]
    },
    {
     "data": {
      "application/vnd.jupyter.widget-view+json": {
       "model_id": "5a7ea861cf674d9eb33628e91d5f17c5",
       "version_major": 2,
       "version_minor": 0
      },
      "text/plain": [
       "  0%|          | 0/100 [00:00<?, ?it/s]"
      ]
     },
     "metadata": {},
     "output_type": "display_data"
    },
    {
     "name": "stdout",
     "output_type": "stream",
     "text": [
      "Parallel corrs:  (84681, 4)\n"
     ]
    },
    {
     "name": "stderr",
     "output_type": "stream",
     "text": [
      "\n",
      "2346it [00:00, 53052.95it/s]                                                                                                                              \u001b[A\n",
      "running PCA on multi-sessions:  60%|████████████████████████████████████████████████████▏                                  | 6/10 [08:31<05:01, 75.38s/it]"
     ]
    },
    {
     "name": "stdout",
     "output_type": "stream",
     "text": [
      "Exp time :  1858.0\n",
      "   Queiscent periods (seconds):  1406.1333333333334\n",
      "   Running periods (seconds):  7.633333333333334\n",
      "\n",
      "\n",
      " ... deduplicating cells... (can take ~5 for ~1,000cells) \n",
      "... computing cell overlaps ...\n"
     ]
    },
    {
     "data": {
      "application/vnd.jupyter.widget-view+json": {
       "model_id": "bd658ca6cdea494a8d75ae9ffece4d84",
       "version_major": 2,
       "version_minor": 0
      },
      "text/plain": [
       "  0%|          | 0/30 [00:00<?, ?it/s]"
      ]
     },
     "metadata": {},
     "output_type": "display_data"
    },
    {
     "name": "stdout",
     "output_type": "stream",
     "text": [
      "... computing pairwise pearson correlation ...\n"
     ]
    },
    {
     "data": {
      "application/vnd.jupyter.widget-view+json": {
       "model_id": "b0e2a705680847ef8f06ad7d429d9698",
       "version_major": 2,
       "version_minor": 0
      },
      "text/plain": [
       "  0%|          | 0/100 [00:00<?, ?it/s]"
      ]
     },
     "metadata": {},
     "output_type": "display_data"
    },
    {
     "name": "stdout",
     "output_type": "stream",
     "text": [
      "Parallel corrs:  (213444, 4)\n"
     ]
    },
    {
     "name": "stderr",
     "output_type": "stream",
     "text": [
      "\n",
      "2775it [00:00, 42310.03it/s]                                                                                                                              \u001b[A\n",
      "running PCA on multi-sessions:  70%|████████████████████████████████████████████████████████████▉                          | 7/10 [09:49<03:48, 76.32s/it]"
     ]
    },
    {
     "name": "stdout",
     "output_type": "stream",
     "text": [
      "Exp time :  1858.0\n",
      "   Queiscent periods (seconds):  1562.1666666666667\n",
      "   Running periods (seconds):  9.766666666666667\n",
      "\n",
      "\n",
      " ... deduplicating cells... (can take ~5 for ~1,000cells) \n",
      "... computing cell overlaps ...\n"
     ]
    },
    {
     "data": {
      "application/vnd.jupyter.widget-view+json": {
       "model_id": "2c7459dd93e042968ad107221835ec5f",
       "version_major": 2,
       "version_minor": 0
      },
      "text/plain": [
       "  0%|          | 0/30 [00:00<?, ?it/s]"
      ]
     },
     "metadata": {},
     "output_type": "display_data"
    },
    {
     "name": "stdout",
     "output_type": "stream",
     "text": [
      "... computing pairwise pearson correlation ...\n"
     ]
    },
    {
     "data": {
      "application/vnd.jupyter.widget-view+json": {
       "model_id": "ab0d4b5c73734fcd8e3798bf06161930",
       "version_major": 2,
       "version_minor": 0
      },
      "text/plain": [
       "  0%|          | 0/100 [00:00<?, ?it/s]"
      ]
     },
     "metadata": {},
     "output_type": "display_data"
    },
    {
     "name": "stdout",
     "output_type": "stream",
     "text": [
      "Parallel corrs:  (71824, 4)\n"
     ]
    },
    {
     "name": "stderr",
     "output_type": "stream",
     "text": [
      "\n",
      "1711it [00:00, 53727.23it/s]                                                                                                                              \u001b[A\n",
      "running PCA on multi-sessions:  80%|█████████████████████████████████████████████████████████████████████▌                 | 8/10 [10:24<02:06, 63.13s/it]"
     ]
    },
    {
     "name": "stdout",
     "output_type": "stream",
     "text": [
      "Exp time :  1858.0\n",
      "   Queiscent periods (seconds):  1426.4666666666667\n",
      "   Running periods (seconds):  22.866666666666667\n",
      "\n",
      "\n",
      " ... deduplicating cells... (can take ~5 for ~1,000cells) \n",
      "... computing cell overlaps ...\n"
     ]
    },
    {
     "data": {
      "application/vnd.jupyter.widget-view+json": {
       "model_id": "39632e1752e34481b2573b0984461b67",
       "version_major": 2,
       "version_minor": 0
      },
      "text/plain": [
       "  0%|          | 0/30 [00:00<?, ?it/s]"
      ]
     },
     "metadata": {},
     "output_type": "display_data"
    },
    {
     "name": "stdout",
     "output_type": "stream",
     "text": [
      "... computing pairwise pearson correlation ...\n"
     ]
    },
    {
     "data": {
      "application/vnd.jupyter.widget-view+json": {
       "model_id": "a15012a5ea9744519f3d44128032180a",
       "version_major": 2,
       "version_minor": 0
      },
      "text/plain": [
       "  0%|          | 0/100 [00:00<?, ?it/s]"
      ]
     },
     "metadata": {},
     "output_type": "display_data"
    },
    {
     "name": "stdout",
     "output_type": "stream",
     "text": [
      "Parallel corrs:  (230400, 4)\n"
     ]
    },
    {
     "name": "stderr",
     "output_type": "stream",
     "text": [
      "\n",
      "3741it [00:00, 65540.65it/s]                                                                                                                              \u001b[A\n",
      "running PCA on multi-sessions:  90%|██████████████████████████████████████████████████████████████████████████████▎        | 9/10 [11:48<01:09, 69.42s/it]"
     ]
    },
    {
     "name": "stdout",
     "output_type": "stream",
     "text": [
      "Exp time :  1858.0\n",
      "   Queiscent periods (seconds):  1323.2\n",
      "   Running periods (seconds):  58.8\n",
      "\n",
      "\n",
      " ... deduplicating cells... (can take ~5 for ~1,000cells) \n",
      "... computing cell overlaps ...\n"
     ]
    },
    {
     "data": {
      "application/vnd.jupyter.widget-view+json": {
       "model_id": "d90a54fb430049348e6445b4877d0aca",
       "version_major": 2,
       "version_minor": 0
      },
      "text/plain": [
       "  0%|          | 0/30 [00:00<?, ?it/s]"
      ]
     },
     "metadata": {},
     "output_type": "display_data"
    },
    {
     "name": "stdout",
     "output_type": "stream",
     "text": [
      "... computing pairwise pearson correlation ...\n"
     ]
    },
    {
     "data": {
      "application/vnd.jupyter.widget-view+json": {
       "model_id": "55cbda0b72da4655a5f85f3d5f8080b2",
       "version_major": 2,
       "version_minor": 0
      },
      "text/plain": [
       "  0%|          | 0/100 [00:00<?, ?it/s]"
      ]
     },
     "metadata": {},
     "output_type": "display_data"
    },
    {
     "name": "stdout",
     "output_type": "stream",
     "text": [
      "Parallel corrs:  (154449, 4)\n"
     ]
    },
    {
     "name": "stderr",
     "output_type": "stream",
     "text": [
      "\n",
      "3003it [00:00, 49670.50it/s]                                                                                                                              \u001b[A\n",
      "running PCA on multi-sessions: 100%|██████████████████████████████████████████████████████████████████████████████████████| 10/10 [12:47<00:00, 76.79s/it]\n"
     ]
    },
    {
     "name": "stdout",
     "output_type": "stream",
     "text": [
      "Exp time :  1858.0\n",
      "   Queiscent periods (seconds):  1526.7\n",
      "   Running periods (seconds):  7.5\n"
     ]
    },
    {
     "name": "stderr",
     "output_type": "stream",
     "text": [
      "running PCA on multi-sessions:   0%|                                                                                               | 0/10 [00:00<?, ?it/s]"
     ]
    },
    {
     "name": "stdout",
     "output_type": "stream",
     "text": [
      "\n",
      "\n",
      " ... deduplicating cells... (can take ~5 for ~1,000cells) \n",
      "... computing cell overlaps ...\n"
     ]
    },
    {
     "data": {
      "application/vnd.jupyter.widget-view+json": {
       "model_id": "8787e983d6b84864af33aa204f7301c7",
       "version_major": 2,
       "version_minor": 0
      },
      "text/plain": [
       "  0%|          | 0/30 [00:00<?, ?it/s]"
      ]
     },
     "metadata": {},
     "output_type": "display_data"
    },
    {
     "name": "stdout",
     "output_type": "stream",
     "text": [
      "... computing pairwise pearson correlation ...\n"
     ]
    },
    {
     "data": {
      "application/vnd.jupyter.widget-view+json": {
       "model_id": "7b7bfeb02d6947938075d5a66fbd62be",
       "version_major": 2,
       "version_minor": 0
      },
      "text/plain": [
       "  0%|          | 0/100 [00:00<?, ?it/s]"
      ]
     },
     "metadata": {},
     "output_type": "display_data"
    },
    {
     "name": "stdout",
     "output_type": "stream",
     "text": [
      "Parallel corrs:  (1517824, 4)\n"
     ]
    },
    {
     "name": "stderr",
     "output_type": "stream",
     "text": [
      "\n",
      "  0%|                                                                                                                             | 0/279 [00:00<?, ?it/s]\u001b[A\n",
      "3403it [00:00, 33807.73it/s]                                                                                                                              \u001b[A\n",
      "38781it [00:00, 163146.46it/s]\u001b[A\n",
      "running PCA on multi-sessions:  10%|████████▍                                                                           | 1/10 [07:00<1:03:04, 420.52s/it]"
     ]
    },
    {
     "name": "stdout",
     "output_type": "stream",
     "text": [
      "Exp time :  1858.0\n",
      "   Queiscent periods (seconds):  1473.8333333333333\n",
      "   Running periods (seconds):  29.766666666666666\n",
      "\n",
      "\n",
      " ... deduplicating cells... (can take ~5 for ~1,000cells) \n",
      "... computing cell overlaps ...\n"
     ]
    },
    {
     "data": {
      "application/vnd.jupyter.widget-view+json": {
       "model_id": "d680ee3ca4bd4d0baef3c2fcc5e8697d",
       "version_major": 2,
       "version_minor": 0
      },
      "text/plain": [
       "  0%|          | 0/30 [00:00<?, ?it/s]"
      ]
     },
     "metadata": {},
     "output_type": "display_data"
    },
    {
     "name": "stdout",
     "output_type": "stream",
     "text": [
      "... computing pairwise pearson correlation ...\n"
     ]
    },
    {
     "data": {
      "application/vnd.jupyter.widget-view+json": {
       "model_id": "70e37103f36c4962b67ad810fdade5dd",
       "version_major": 2,
       "version_minor": 0
      },
      "text/plain": [
       "  0%|          | 0/100 [00:00<?, ?it/s]"
      ]
     },
     "metadata": {},
     "output_type": "display_data"
    },
    {
     "name": "stdout",
     "output_type": "stream",
     "text": [
      "Parallel corrs:  (1243225, 4)\n"
     ]
    },
    {
     "name": "stderr",
     "output_type": "stream",
     "text": [
      "\n",
      "  0%|                                                                                                                             | 0/228 [00:00<?, ?it/s]\u001b[A\n",
      "25878it [00:00, 196651.10it/s]                                                                                                                            \u001b[A\n",
      "running PCA on multi-sessions:  20%|█████████████████▏                                                                    | 2/10 [12:54<50:51, 381.42s/it]"
     ]
    },
    {
     "name": "stdout",
     "output_type": "stream",
     "text": [
      "Exp time :  1858.0\n",
      "   Queiscent periods (seconds):  928.0666666666667\n",
      "   Running periods (seconds):  313.46666666666664\n",
      "\n",
      "\n",
      " ... deduplicating cells... (can take ~5 for ~1,000cells) \n",
      "... computing cell overlaps ...\n"
     ]
    },
    {
     "data": {
      "application/vnd.jupyter.widget-view+json": {
       "model_id": "c977328b97b047e3b105ba20bde785ca",
       "version_major": 2,
       "version_minor": 0
      },
      "text/plain": [
       "  0%|          | 0/30 [00:00<?, ?it/s]"
      ]
     },
     "metadata": {},
     "output_type": "display_data"
    },
    {
     "name": "stdout",
     "output_type": "stream",
     "text": [
      "... computing pairwise pearson correlation ...\n"
     ]
    },
    {
     "data": {
      "application/vnd.jupyter.widget-view+json": {
       "model_id": "72356b0420794fba836187c224a57737",
       "version_major": 2,
       "version_minor": 0
      },
      "text/plain": [
       "  0%|          | 0/100 [00:00<?, ?it/s]"
      ]
     },
     "metadata": {},
     "output_type": "display_data"
    },
    {
     "name": "stdout",
     "output_type": "stream",
     "text": [
      "Parallel corrs:  (228484, 4)\n"
     ]
    },
    {
     "name": "stderr",
     "output_type": "stream",
     "text": [
      "\n",
      "5151it [00:00, 80302.63it/s]                                                                                                                              \u001b[A\n",
      "running PCA on multi-sessions:  30%|█████████████████████████▊                                                            | 3/10 [14:12<28:19, 242.75s/it]"
     ]
    },
    {
     "name": "stdout",
     "output_type": "stream",
     "text": [
      "Exp time :  1858.0\n",
      "   Queiscent periods (seconds):  1222.5333333333333\n",
      "   Running periods (seconds):  186.4\n",
      "\n",
      "\n",
      " ... deduplicating cells... (can take ~5 for ~1,000cells) \n",
      "... computing cell overlaps ...\n"
     ]
    },
    {
     "data": {
      "application/vnd.jupyter.widget-view+json": {
       "model_id": "292de1be23784f8d822f36c23f674782",
       "version_major": 2,
       "version_minor": 0
      },
      "text/plain": [
       "  0%|          | 0/30 [00:00<?, ?it/s]"
      ]
     },
     "metadata": {},
     "output_type": "display_data"
    },
    {
     "name": "stdout",
     "output_type": "stream",
     "text": [
      "... computing pairwise pearson correlation ...\n"
     ]
    },
    {
     "data": {
      "application/vnd.jupyter.widget-view+json": {
       "model_id": "5cb1f94415e24867b0955d2fcc071f82",
       "version_major": 2,
       "version_minor": 0
      },
      "text/plain": [
       "  0%|          | 0/100 [00:00<?, ?it/s]"
      ]
     },
     "metadata": {},
     "output_type": "display_data"
    },
    {
     "name": "stdout",
     "output_type": "stream",
     "text": [
      "Parallel corrs:  (2709316, 4)\n"
     ]
    },
    {
     "name": "stderr",
     "output_type": "stream",
     "text": [
      "\n",
      "  0%|                                                                                                                             | 0/390 [00:00<?, ?it/s]\u001b[A\n",
      "5253it [00:00, 52525.54it/s]                                                                                                                              \u001b[A\n",
      "75855it [00:00, 278337.47it/s]\u001b[A\n",
      "running PCA on multi-sessions:  40%|██████████████████████████████████▍                                                   | 4/10 [26:02<42:43, 427.20s/it]"
     ]
    },
    {
     "name": "stdout",
     "output_type": "stream",
     "text": [
      "Exp time :  1858.0\n",
      "   Queiscent periods (seconds):  932.4666666666667\n",
      "   Running periods (seconds):  270.73333333333335\n",
      "\n",
      "\n",
      " ... deduplicating cells... (can take ~5 for ~1,000cells) \n",
      "... computing cell overlaps ...\n"
     ]
    },
    {
     "data": {
      "application/vnd.jupyter.widget-view+json": {
       "model_id": "785b0ea027dd4b609abbb136a9e5fee8",
       "version_major": 2,
       "version_minor": 0
      },
      "text/plain": [
       "  0%|          | 0/30 [00:00<?, ?it/s]"
      ]
     },
     "metadata": {},
     "output_type": "display_data"
    },
    {
     "name": "stdout",
     "output_type": "stream",
     "text": [
      "... computing pairwise pearson correlation ...\n"
     ]
    },
    {
     "data": {
      "application/vnd.jupyter.widget-view+json": {
       "model_id": "87c4ed9733014a1c9e6f7022e5bbdb84",
       "version_major": 2,
       "version_minor": 0
      },
      "text/plain": [
       "  0%|          | 0/100 [00:00<?, ?it/s]"
      ]
     },
     "metadata": {},
     "output_type": "display_data"
    },
    {
     "name": "stdout",
     "output_type": "stream",
     "text": [
      "Parallel corrs:  (1397124, 4)\n"
     ]
    },
    {
     "name": "stderr",
     "output_type": "stream",
     "text": [
      "\n",
      "  0%|                                                                                                                             | 0/238 [00:00<?, ?it/s]\u001b[A\n",
      "28203it [00:00, 209250.37it/s]                                                                                                                            \u001b[A\n",
      "running PCA on multi-sessions:  50%|███████████████████████████████████████████                                           | 5/10 [32:40<34:43, 416.61s/it]"
     ]
    },
    {
     "name": "stdout",
     "output_type": "stream",
     "text": [
      "Exp time :  1858.0\n",
      "   Queiscent periods (seconds):  980.0666666666667\n",
      "   Running periods (seconds):  114.96666666666667\n",
      "\n",
      "\n",
      " ... deduplicating cells... (can take ~5 for ~1,000cells) \n",
      "... computing cell overlaps ...\n"
     ]
    },
    {
     "data": {
      "application/vnd.jupyter.widget-view+json": {
       "model_id": "abf10fceb91548efa40fbbced3f16bf6",
       "version_major": 2,
       "version_minor": 0
      },
      "text/plain": [
       "  0%|          | 0/30 [00:00<?, ?it/s]"
      ]
     },
     "metadata": {},
     "output_type": "display_data"
    },
    {
     "name": "stdout",
     "output_type": "stream",
     "text": [
      "... computing pairwise pearson correlation ...\n"
     ]
    },
    {
     "data": {
      "application/vnd.jupyter.widget-view+json": {
       "model_id": "d40a519e3de94d51bf5d373d76fc8cc8",
       "version_major": 2,
       "version_minor": 0
      },
      "text/plain": [
       "  0%|          | 0/100 [00:00<?, ?it/s]"
      ]
     },
     "metadata": {},
     "output_type": "display_data"
    },
    {
     "name": "stdout",
     "output_type": "stream",
     "text": [
      "Parallel corrs:  (1394761, 4)\n"
     ]
    },
    {
     "name": "stderr",
     "output_type": "stream",
     "text": [
      "\n",
      "  0%|                                                                                                                             | 0/259 [00:00<?, ?it/s]\u001b[A\n",
      "33411it [00:00, 208583.35it/s]                                                                                                                            \u001b[A\n",
      "running PCA on multi-sessions:  60%|███████████████████████████████████████████████████▌                                  | 6/10 [39:16<27:18, 409.72s/it]"
     ]
    },
    {
     "name": "stdout",
     "output_type": "stream",
     "text": [
      "Exp time :  1858.0\n",
      "   Queiscent periods (seconds):  1001.9\n",
      "   Running periods (seconds):  176.7\n",
      "\n",
      "\n",
      " ... deduplicating cells... (can take ~5 for ~1,000cells) \n",
      "... computing cell overlaps ...\n"
     ]
    },
    {
     "data": {
      "application/vnd.jupyter.widget-view+json": {
       "model_id": "bf259e33c0b34c2b84ae5b741a57f12c",
       "version_major": 2,
       "version_minor": 0
      },
      "text/plain": [
       "  0%|          | 0/30 [00:00<?, ?it/s]"
      ]
     },
     "metadata": {},
     "output_type": "display_data"
    },
    {
     "name": "stdout",
     "output_type": "stream",
     "text": [
      "... computing pairwise pearson correlation ...\n"
     ]
    },
    {
     "data": {
      "application/vnd.jupyter.widget-view+json": {
       "model_id": "450c1c041ba1453386225c7a0887062a",
       "version_major": 2,
       "version_minor": 0
      },
      "text/plain": [
       "  0%|          | 0/100 [00:00<?, ?it/s]"
      ]
     },
     "metadata": {},
     "output_type": "display_data"
    },
    {
     "name": "stdout",
     "output_type": "stream",
     "text": [
      "Parallel corrs:  (1272384, 4)\n"
     ]
    },
    {
     "name": "stderr",
     "output_type": "stream",
     "text": [
      "\n",
      "  0%|                                                                                                                             | 0/239 [00:00<?, ?it/s]\u001b[A\n",
      "28441it [00:00, 184190.44it/s]                                                                                                                            \u001b[A\n",
      "running PCA on multi-sessions:  70%|████████████████████████████████████████████████████████████▏                         | 7/10 [45:24<19:47, 395.95s/it]"
     ]
    },
    {
     "name": "stdout",
     "output_type": "stream",
     "text": [
      "Exp time :  1858.0\n",
      "   Queiscent periods (seconds):  1213.2\n",
      "   Running periods (seconds):  85.56666666666666\n",
      "\n",
      "\n",
      " ... deduplicating cells... (can take ~5 for ~1,000cells) \n",
      "... computing cell overlaps ...\n"
     ]
    },
    {
     "data": {
      "application/vnd.jupyter.widget-view+json": {
       "model_id": "1a39f14fccba419388f338542b694228",
       "version_major": 2,
       "version_minor": 0
      },
      "text/plain": [
       "  0%|          | 0/30 [00:00<?, ?it/s]"
      ]
     },
     "metadata": {},
     "output_type": "display_data"
    },
    {
     "name": "stdout",
     "output_type": "stream",
     "text": [
      "... computing pairwise pearson correlation ...\n"
     ]
    },
    {
     "data": {
      "application/vnd.jupyter.widget-view+json": {
       "model_id": "ae9d6efc1ed84d68a8df8897cb7c0d2f",
       "version_major": 2,
       "version_minor": 0
      },
      "text/plain": [
       "  0%|          | 0/100 [00:00<?, ?it/s]"
      ]
     },
     "metadata": {},
     "output_type": "display_data"
    },
    {
     "name": "stdout",
     "output_type": "stream",
     "text": [
      "Parallel corrs:  (1085764, 4)\n"
     ]
    },
    {
     "name": "stderr",
     "output_type": "stream",
     "text": [
      "\n",
      "  0%|                                                                                                                             | 0/209 [00:00<?, ?it/s]\u001b[A\n",
      "21736it [00:00, 180541.29it/s]                                                                                                                            \u001b[A\n",
      "running PCA on multi-sessions:  80%|████████████████████████████████████████████████████████████████████▊                 | 8/10 [50:40<12:21, 370.55s/it]"
     ]
    },
    {
     "name": "stdout",
     "output_type": "stream",
     "text": [
      "Exp time :  1858.0\n",
      "   Queiscent periods (seconds):  1246.4333333333334\n",
      "   Running periods (seconds):  98.43333333333334\n",
      "\n",
      "\n",
      " ... deduplicating cells... (can take ~5 for ~1,000cells) \n",
      "... computing cell overlaps ...\n"
     ]
    },
    {
     "data": {
      "application/vnd.jupyter.widget-view+json": {
       "model_id": "21a0a81dd07d4346aa4e9cd56b41d7f9",
       "version_major": 2,
       "version_minor": 0
      },
      "text/plain": [
       "  0%|          | 0/30 [00:00<?, ?it/s]"
      ]
     },
     "metadata": {},
     "output_type": "display_data"
    },
    {
     "name": "stdout",
     "output_type": "stream",
     "text": [
      "... computing pairwise pearson correlation ...\n"
     ]
    },
    {
     "data": {
      "application/vnd.jupyter.widget-view+json": {
       "model_id": "a070b75ea22c419d975255a407d1c765",
       "version_major": 2,
       "version_minor": 0
      },
      "text/plain": [
       "  0%|          | 0/100 [00:00<?, ?it/s]"
      ]
     },
     "metadata": {},
     "output_type": "display_data"
    },
    {
     "name": "stdout",
     "output_type": "stream",
     "text": [
      "Parallel corrs:  (1056784, 4)\n"
     ]
    },
    {
     "name": "stderr",
     "output_type": "stream",
     "text": [
      "\n",
      "  0%|                                                                                                                             | 0/180 [00:00<?, ?it/s]\u001b[A\n",
      "16110it [00:00, 138896.51it/s]                                                                                                                            \u001b[A\n",
      "running PCA on multi-sessions:  90%|█████████████████████████████████████████████████████████████████████████████▍        | 9/10 [55:51<05:52, 352.05s/it]"
     ]
    },
    {
     "name": "stdout",
     "output_type": "stream",
     "text": [
      "Exp time :  1858.0\n",
      "   Queiscent periods (seconds):  887.8666666666667\n",
      "   Running periods (seconds):  266.7\n",
      "\n",
      "\n",
      " ... deduplicating cells... (can take ~5 for ~1,000cells) \n",
      "... computing cell overlaps ...\n"
     ]
    },
    {
     "data": {
      "application/vnd.jupyter.widget-view+json": {
       "model_id": "ac736d7c40a545a1812a9801a27ee70c",
       "version_major": 2,
       "version_minor": 0
      },
      "text/plain": [
       "  0%|          | 0/30 [00:00<?, ?it/s]"
      ]
     },
     "metadata": {},
     "output_type": "display_data"
    },
    {
     "name": "stdout",
     "output_type": "stream",
     "text": [
      "... computing pairwise pearson correlation ...\n"
     ]
    },
    {
     "data": {
      "application/vnd.jupyter.widget-view+json": {
       "model_id": "99baf03552494e30b38fb24eed1eecd2",
       "version_major": 2,
       "version_minor": 0
      },
      "text/plain": [
       "  0%|          | 0/100 [00:00<?, ?it/s]"
      ]
     },
     "metadata": {},
     "output_type": "display_data"
    },
    {
     "name": "stdout",
     "output_type": "stream",
     "text": [
      "Parallel corrs:  (456976, 4)\n"
     ]
    },
    {
     "name": "stderr",
     "output_type": "stream",
     "text": [
      "\n",
      "8646it [00:00, 113623.11it/s]                                                                                                                             \u001b[A\n",
      "running PCA on multi-sessions: 100%|█████████████████████████████████████████████████████████████████████████████████████| 10/10 [58:19<00:00, 349.95s/it]\n"
     ]
    },
    {
     "name": "stdout",
     "output_type": "stream",
     "text": [
      "Exp time :  1858.0\n",
      "   Queiscent periods (seconds):  1171.9\n",
      "   Running periods (seconds):  161.23333333333332\n"
     ]
    },
    {
     "name": "stderr",
     "output_type": "stream",
     "text": [
      "running PCA on multi-sessions:   0%|                                                                                               | 0/10 [00:00<?, ?it/s]"
     ]
    },
    {
     "name": "stdout",
     "output_type": "stream",
     "text": [
      "\n",
      "\n",
      " ... deduplicating cells... (can take ~5 for ~1,000cells) \n",
      "... computing cell overlaps ...\n"
     ]
    },
    {
     "data": {
      "application/vnd.jupyter.widget-view+json": {
       "model_id": "cb4e06f74cd54ff6b6dfacfa365f0296",
       "version_major": 2,
       "version_minor": 0
      },
      "text/plain": [
       "  0%|          | 0/30 [00:00<?, ?it/s]"
      ]
     },
     "metadata": {},
     "output_type": "display_data"
    },
    {
     "name": "stdout",
     "output_type": "stream",
     "text": [
      "... computing pairwise pearson correlation ...\n"
     ]
    },
    {
     "data": {
      "application/vnd.jupyter.widget-view+json": {
       "model_id": "413f8396e17645a9a62273b3e6a744f9",
       "version_major": 2,
       "version_minor": 0
      },
      "text/plain": [
       "  0%|          | 0/100 [00:00<?, ?it/s]"
      ]
     },
     "metadata": {},
     "output_type": "display_data"
    },
    {
     "name": "stdout",
     "output_type": "stream",
     "text": [
      "Parallel corrs:  (60025, 4)\n"
     ]
    },
    {
     "name": "stderr",
     "output_type": "stream",
     "text": [
      "\n",
      "990it [00:00, 37240.57it/s]                                                                                                                               \u001b[A\n",
      "running PCA on multi-sessions:  10%|████████▋                                                                              | 1/10 [00:28<04:15, 28.38s/it]"
     ]
    },
    {
     "name": "stdout",
     "output_type": "stream",
     "text": [
      "Exp time :  1858.0\n",
      "   Queiscent periods (seconds):  1358.4333333333334\n",
      "   Running periods (seconds):  66.8\n",
      " ... insuficient cells ...\n",
      "\n",
      "\n",
      " ... deduplicating cells... (can take ~5 for ~1,000cells) \n",
      "... computing cell overlaps ...\n"
     ]
    },
    {
     "data": {
      "application/vnd.jupyter.widget-view+json": {
       "model_id": "00a4266be8384582b8050e1761c992c9",
       "version_major": 2,
       "version_minor": 0
      },
      "text/plain": [
       "  0%|          | 0/30 [00:00<?, ?it/s]"
      ]
     },
     "metadata": {},
     "output_type": "display_data"
    },
    {
     "name": "stdout",
     "output_type": "stream",
     "text": [
      "... computing pairwise pearson correlation ...\n"
     ]
    },
    {
     "data": {
      "application/vnd.jupyter.widget-view+json": {
       "model_id": "f71333cccc6a4c6fbeae4e0614262234",
       "version_major": 2,
       "version_minor": 0
      },
      "text/plain": [
       "  0%|          | 0/100 [00:00<?, ?it/s]"
      ]
     },
     "metadata": {},
     "output_type": "display_data"
    },
    {
     "name": "stdout",
     "output_type": "stream",
     "text": [
      "Parallel corrs:  (203401, 4)\n"
     ]
    },
    {
     "name": "stderr",
     "output_type": "stream",
     "text": [
      "\n",
      "4095it [00:00, 76194.10it/s]                                                                                                                              \u001b[A\n",
      "running PCA on multi-sessions:  20%|█████████████████▍                                                                     | 2/10 [01:40<07:11, 53.94s/it]"
     ]
    },
    {
     "name": "stdout",
     "output_type": "stream",
     "text": [
      "Exp time :  1858.0\n",
      "   Queiscent periods (seconds):  1294.0333333333333\n",
      "   Running periods (seconds):  48.9\n",
      "\n",
      "\n",
      " ... deduplicating cells... (can take ~5 for ~1,000cells) \n",
      "... computing cell overlaps ...\n"
     ]
    },
    {
     "data": {
      "application/vnd.jupyter.widget-view+json": {
       "model_id": "6da9ba7d7b0d4e5baa84165a7cd9656d",
       "version_major": 2,
       "version_minor": 0
      },
      "text/plain": [
       "  0%|          | 0/30 [00:00<?, ?it/s]"
      ]
     },
     "metadata": {},
     "output_type": "display_data"
    },
    {
     "name": "stdout",
     "output_type": "stream",
     "text": [
      "... computing pairwise pearson correlation ...\n"
     ]
    },
    {
     "data": {
      "application/vnd.jupyter.widget-view+json": {
       "model_id": "805b5180a22d41a8992c5c5342f93b9b",
       "version_major": 2,
       "version_minor": 0
      },
      "text/plain": [
       "  0%|          | 0/100 [00:00<?, ?it/s]"
      ]
     },
     "metadata": {},
     "output_type": "display_data"
    },
    {
     "name": "stdout",
     "output_type": "stream",
     "text": [
      "Parallel corrs:  (422500, 4)\n"
     ]
    },
    {
     "name": "stderr",
     "output_type": "stream",
     "text": [
      "\n",
      "8001it [00:00, 100411.20it/s]                                                                                                                             \u001b[A\n",
      "running PCA on multi-sessions:  30%|██████████████████████████                                                             | 3/10 [03:57<10:42, 91.86s/it]"
     ]
    },
    {
     "name": "stdout",
     "output_type": "stream",
     "text": [
      "Exp time :  1858.0\n",
      "   Queiscent periods (seconds):  1461.3\n",
      "   Running periods (seconds):  23.9\n",
      "\n",
      "\n",
      " ... deduplicating cells... (can take ~5 for ~1,000cells) \n",
      "... computing cell overlaps ...\n"
     ]
    },
    {
     "data": {
      "application/vnd.jupyter.widget-view+json": {
       "model_id": "db0092f677404fbf94f9caee9e8962d2",
       "version_major": 2,
       "version_minor": 0
      },
      "text/plain": [
       "  0%|          | 0/30 [00:00<?, ?it/s]"
      ]
     },
     "metadata": {},
     "output_type": "display_data"
    },
    {
     "name": "stdout",
     "output_type": "stream",
     "text": [
      "... computing pairwise pearson correlation ...\n"
     ]
    },
    {
     "data": {
      "application/vnd.jupyter.widget-view+json": {
       "model_id": "b8a35a4e84f741e784730c70df8618a2",
       "version_major": 2,
       "version_minor": 0
      },
      "text/plain": [
       "  0%|          | 0/100 [00:00<?, ?it/s]"
      ]
     },
     "metadata": {},
     "output_type": "display_data"
    },
    {
     "name": "stdout",
     "output_type": "stream",
     "text": [
      "Parallel corrs:  (341056, 4)\n"
     ]
    },
    {
     "name": "stderr",
     "output_type": "stream",
     "text": [
      "\n",
      "8515it [00:00, 110138.49it/s]                                                                                                                             \u001b[A\n",
      "running PCA on multi-sessions:  40%|██████████████████████████████████▊                                                    | 4/10 [05:48<09:56, 99.39s/it]"
     ]
    },
    {
     "name": "stdout",
     "output_type": "stream",
     "text": [
      "Exp time :  1858.0\n",
      "   Queiscent periods (seconds):  1369.1333333333334\n",
      "   Running periods (seconds):  103.93333333333334\n",
      "\n",
      "\n",
      " ... deduplicating cells... (can take ~5 for ~1,000cells) \n",
      "... computing cell overlaps ...\n"
     ]
    },
    {
     "data": {
      "application/vnd.jupyter.widget-view+json": {
       "model_id": "bce950a4271d4de5a92be26bc2162b45",
       "version_major": 2,
       "version_minor": 0
      },
      "text/plain": [
       "  0%|          | 0/30 [00:00<?, ?it/s]"
      ]
     },
     "metadata": {},
     "output_type": "display_data"
    },
    {
     "name": "stdout",
     "output_type": "stream",
     "text": [
      "... computing pairwise pearson correlation ...\n"
     ]
    },
    {
     "data": {
      "application/vnd.jupyter.widget-view+json": {
       "model_id": "491cb1ac2d3941b5954fa167beb0a3db",
       "version_major": 2,
       "version_minor": 0
      },
      "text/plain": [
       "  0%|          | 0/100 [00:00<?, ?it/s]"
      ]
     },
     "metadata": {},
     "output_type": "display_data"
    },
    {
     "name": "stdout",
     "output_type": "stream",
     "text": [
      "Parallel corrs:  (614656, 4)\n"
     ]
    },
    {
     "name": "stderr",
     "output_type": "stream",
     "text": [
      "\n",
      "11175it [00:00, 125697.85it/s]                                                                                                                            \u001b[A\n",
      "running PCA on multi-sessions:  50%|███████████████████████████████████████████                                           | 5/10 [08:58<11:00, 132.20s/it]"
     ]
    },
    {
     "name": "stdout",
     "output_type": "stream",
     "text": [
      "Exp time :  1858.0\n",
      "   Queiscent periods (seconds):  1434.4666666666667\n",
      "   Running periods (seconds):  38.166666666666664\n",
      "\n",
      "\n",
      " ... deduplicating cells... (can take ~5 for ~1,000cells) \n",
      "... computing cell overlaps ...\n"
     ]
    },
    {
     "data": {
      "application/vnd.jupyter.widget-view+json": {
       "model_id": "460ab032d07547b1ade747d6741b904c",
       "version_major": 2,
       "version_minor": 0
      },
      "text/plain": [
       "  0%|          | 0/30 [00:00<?, ?it/s]"
      ]
     },
     "metadata": {},
     "output_type": "display_data"
    },
    {
     "name": "stdout",
     "output_type": "stream",
     "text": [
      "... computing pairwise pearson correlation ...\n"
     ]
    },
    {
     "data": {
      "application/vnd.jupyter.widget-view+json": {
       "model_id": "f5df065749e14aef96cc7f3ef06c1fa2",
       "version_major": 2,
       "version_minor": 0
      },
      "text/plain": [
       "  0%|          | 0/100 [00:00<?, ?it/s]"
      ]
     },
     "metadata": {},
     "output_type": "display_data"
    },
    {
     "name": "stdout",
     "output_type": "stream",
     "text": [
      "Parallel corrs:  (1062961, 4)\n"
     ]
    },
    {
     "name": "stderr",
     "output_type": "stream",
     "text": [
      "\n",
      "  0%|                                                                                                                             | 0/186 [00:00<?, ?it/s]\u001b[A\n",
      "17205it [00:00, 154854.56it/s]                                                                                                                            \u001b[A\n",
      "running PCA on multi-sessions:  60%|███████████████████████████████████████████████████▌                                  | 6/10 [14:09<12:51, 192.87s/it]"
     ]
    },
    {
     "name": "stdout",
     "output_type": "stream",
     "text": [
      "Exp time :  1858.0\n",
      "   Queiscent periods (seconds):  471.53333333333336\n",
      "   Running periods (seconds):  864.9666666666667\n",
      "\n",
      "\n",
      " ... deduplicating cells... (can take ~5 for ~1,000cells) \n",
      "... computing cell overlaps ...\n"
     ]
    },
    {
     "data": {
      "application/vnd.jupyter.widget-view+json": {
       "model_id": "234b44f920b648a78a1ba2ec6276f008",
       "version_major": 2,
       "version_minor": 0
      },
      "text/plain": [
       "  0%|          | 0/30 [00:03<?, ?it/s]"
      ]
     },
     "metadata": {},
     "output_type": "display_data"
    },
    {
     "name": "stdout",
     "output_type": "stream",
     "text": [
      "... computing pairwise pearson correlation ...\n"
     ]
    },
    {
     "data": {
      "application/vnd.jupyter.widget-view+json": {
       "model_id": "c59134bcad504f61b08dff4b954314ec",
       "version_major": 2,
       "version_minor": 0
      },
      "text/plain": [
       "  0%|          | 0/100 [00:00<?, ?it/s]"
      ]
     },
     "metadata": {},
     "output_type": "display_data"
    },
    {
     "name": "stdout",
     "output_type": "stream",
     "text": [
      "Parallel corrs:  (2096704, 4)\n"
     ]
    },
    {
     "name": "stderr",
     "output_type": "stream",
     "text": [
      "\n",
      "  0%|                                                                                                                             | 0/340 [00:00<?, ?it/s]\u001b[A\n",
      "8515it [00:00, 85072.40it/s]                                                                                                                              \u001b[A\n",
      "57630it [00:00, 245403.95it/s]\u001b[A\n",
      "running PCA on multi-sessions:  70%|████████████████████████████████████████████████████████████▏                         | 7/10 [23:35<15:44, 314.86s/it]"
     ]
    },
    {
     "name": "stdout",
     "output_type": "stream",
     "text": [
      "Exp time :  1858.0\n",
      "   Queiscent periods (seconds):  42.93333333333333\n",
      "   Running periods (seconds):  1709.3333333333333\n",
      "\n",
      "\n",
      " ... deduplicating cells... (can take ~5 for ~1,000cells) \n",
      "... computing cell overlaps ...\n"
     ]
    },
    {
     "data": {
      "application/vnd.jupyter.widget-view+json": {
       "model_id": "0eb8683058114446a186ad68f54e9139",
       "version_major": 2,
       "version_minor": 0
      },
      "text/plain": [
       "  0%|          | 0/30 [00:00<?, ?it/s]"
      ]
     },
     "metadata": {},
     "output_type": "display_data"
    },
    {
     "name": "stdout",
     "output_type": "stream",
     "text": [
      "... computing pairwise pearson correlation ...\n"
     ]
    },
    {
     "data": {
      "application/vnd.jupyter.widget-view+json": {
       "model_id": "2d7b9b721966497a941f12e259a76634",
       "version_major": 2,
       "version_minor": 0
      },
      "text/plain": [
       "  0%|          | 0/100 [00:00<?, ?it/s]"
      ]
     },
     "metadata": {},
     "output_type": "display_data"
    },
    {
     "name": "stdout",
     "output_type": "stream",
     "text": [
      "Parallel corrs:  (1371241, 4)\n"
     ]
    },
    {
     "name": "stderr",
     "output_type": "stream",
     "text": [
      "\n",
      "  0%|                                                                                                                             | 0/230 [00:00<?, ?it/s]\u001b[A\n",
      "26335it [00:00, 160581.80it/s]                                                                                                                            \u001b[A\n",
      "running PCA on multi-sessions:  80%|████████████████████████████████████████████████████████████████████▊                 | 8/10 [30:16<11:24, 342.27s/it]"
     ]
    },
    {
     "name": "stdout",
     "output_type": "stream",
     "text": [
      "Exp time :  1858.0\n",
      "   Queiscent periods (seconds):  39.233333333333334\n",
      "   Running periods (seconds):  1669.2666666666667\n",
      "\n",
      "\n",
      " ... deduplicating cells... (can take ~5 for ~1,000cells) \n",
      "... computing cell overlaps ...\n"
     ]
    },
    {
     "data": {
      "application/vnd.jupyter.widget-view+json": {
       "model_id": "ffb444583ad940d7b4c20ba7683b7dc9",
       "version_major": 2,
       "version_minor": 0
      },
      "text/plain": [
       "  0%|          | 0/30 [00:00<?, ?it/s]"
      ]
     },
     "metadata": {},
     "output_type": "display_data"
    }
   ],
   "source": [
    "#############################################\n",
    "######### LOAD SUITE2P BINARIZED DATA #######\n",
    "#############################################\n",
    "\n",
    "# load list of directories to be processed\n",
    "fnames = [\n",
    "    '/media/cat/4TB/donato/DON-006084/sessions_filenames.txt',\n",
    "    '/media/cat/4TB/donato/DON-006085/sessions_filenames.txt',\n",
    "    '/media/cat/4TB/donato/DON-006087/sessions_filenames.txt', \n",
    "    '/media/cat/4TB/donato/DON-002865/sessions_filenames.txt', \n",
    "    '/media/cat/4TB/donato/DON-003165/sessions_filenames.txt', \n",
    "    '/media/cat/4TB/donato/DON-003343/sessions_filenames.txt',\n",
    "]\n",
    "\n",
    "#   \n",
    "n_cells = 200                               # take top X cells\n",
    "n_sec = 600                                 # fit only specific # of seconds to each dataset to compare apples to apples\n",
    "remove_duplicate_cells = True\n",
    "process_quiescent_periods = True\n",
    "recompute_deduplication = True\n",
    "\n",
    "for fname in fnames:\n",
    "    #\n",
    "    data_dirs = np.loadtxt(fname, dtype='str')\n",
    "    \n",
    "    #\n",
    "    calcium.pca_multi_sessions(data_dirs, \n",
    "                           n_cells,\n",
    "                           n_sec,\n",
    "                           remove_duplicate_cells,\n",
    "                           recompute_deduplication, \n",
    "                           process_quiescent_periods\n",
    "                          )\n",
    "\n"
   ]
  },
  {
   "cell_type": "code",
   "execution_count": null,
   "id": "6b1ffa08-e344-4755-a1bb-22ce4273f071",
   "metadata": {},
   "outputs": [],
   "source": []
  },
  {
   "cell_type": "code",
   "execution_count": 27,
   "id": "cfac258e-def1-4296-b519-5fa1051df6c0",
   "metadata": {},
   "outputs": [
    {
     "name": "stdout",
     "output_type": "stream",
     "text": [
      " ... deduplicating cells... (can take 5-10mins for ~1,000cells) (TODO: parallelize further...\n"
     ]
    },
    {
     "name": "stderr",
     "output_type": "stream",
     "text": [
      "finding medians: 100%|█████████████████████████████████████████████████████████████████████████████████████████████████| 840/840 [00:00<00:00, 904.16it/s]\n"
     ]
    },
    {
     "data": {
      "application/vnd.jupyter.widget-view+json": {
       "model_id": "c2cb57db772f479490733da7b63d64dc",
       "version_major": 2,
       "version_minor": 0
      },
      "text/plain": [
       "  0%|          | 0/30 [00:00<?, ?it/s]"
      ]
     },
     "metadata": {},
     "output_type": "display_data"
    },
    {
     "name": "stderr",
     "output_type": "stream",
     "text": [
      "computing intercell correlation: 100%|██████████████████████████████████████████████████████████████████████████████████| 840/840 [04:27<00:00,  3.14it/s]\n",
      "getting correlations and pvals: 100%|█████████████████████████████████████████████████████████████████████████| 352380/352380 [00:00<00:00, 418025.36it/s]\n",
      "14535it [00:00, 123245.42it/s]                                                                                                                            "
     ]
    },
    {
     "name": "stdout",
     "output_type": "stream",
     "text": [
      "All cells:  (840, 55740)   unique cells:  (608, 55740)\n",
      "Selected cells (# cells, time points):  (200, 55740)\n"
     ]
    },
    {
     "name": "stderr",
     "output_type": "stream",
     "text": [
      "\n"
     ]
    }
   ],
   "source": [
    "\n",
    "def pca_multi_sessions(self, data_dirs):\n",
    "    \n",
    "    for data-dir in data_dirs:\n",
    "        # initialize calcium object and load suite2p data\n",
    "        c = calcium.Calcium()\n",
    "        c.verbose = True                          # outputs additional information during processing\n",
    "        c.recompute_binarization = False           # recomputes binarization and other processing steps; False: loads from previous saved locations if avialable\n",
    "        c.data_dir = data_dir\n",
    "        c.load_suite2p()                          # this function assumes output dirs is either in data_dir OR data_dir/suite2p/plane0/\n",
    "\n",
    "\n",
    "        #\n",
    "        c.load_binarization()\n",
    "        traces = c.F_onphase_bin    # c.F_upphase_bin\n",
    "\n",
    "        print (\"binarized data (# cells, # time points): \", traces.shape)\n",
    "\n",
    "\n",
    "\n",
    "        #################################################\n",
    "        ####### OPTIONAL: REMOVE DUPLICATE CELLS ########\n",
    "        #################################################\n",
    "        c.load_footprints()\n",
    "        c.deduplication_method = 'overlap'      # 'overlap'; 'centre_distance'\n",
    "        c.corr_min_distance = 8                 # min distance for centre_distance method - NOT USED HERE\n",
    "        c.corr_max_percent_overlap = 0.25       # max normalized cell body allowed \n",
    "        c.corr_threshold = 0.3                  # max correlation allowed for high overlap; \n",
    "                                                #     note correlations computed using filtered fluorescecne not binarized\n",
    "        c.corr_delete_method = 'lowest_snr'     # highest_connected: removes hub neurons,keeps more cells; \n",
    "                                                # lowest_snr - removes lower SNR cells, keep less neurons\n",
    "        c.recompute_deduplication = False       # recompute the dedplucaiton wif new paramters are saved\n",
    "\n",
    "\n",
    "        c.remove_duplicate_neurons()            \n",
    "\n",
    "        #       \n",
    "        traces_unique = traces[c.clean_cell_ids]\n",
    "        print (\"All cells: \", c.F.shape, \"  unique cells: \", traces_unique.shape)\n",
    "\n",
    "        # take only 200 cells; either random or top\n",
    "        n_cells = 200\n",
    "        traces_unique = traces_unique[:n_cells]\n",
    "        print (\"Selected cells (# cells, time points): \", traces_unique.shape)\n",
    "\n",
    "\n",
    "\n",
    "        ##############################################################\n",
    "        ### OPTIONAL: LOAD WHEEL DATA AND QUEISCENT OR RUN PERIODS ####\n",
    "        ###############################################################\n",
    "        # \n",
    "        w = wheel.Wheel()\n",
    "        w.root_dir = os.path.join(c.data_dir.replace('suite2p/','').replace('plane0/',''),    # this assumes wheel data from Steffens' matlab scripts\n",
    "                                  'TRD-2P')                                                   #   is saved in the root diretory of the animal\n",
    "        w.load_track()\n",
    "        w.compute_velocity()\n",
    "        print (\"Exp time : \", w.track.velocity.times.shape[0]/w.imaging_sample_rate)\n",
    "\n",
    "        # \n",
    "        w.max_velocity_quiescent = 0.001  # in metres per second\n",
    "        idx_quiescent = w.get_indexes_quiescent_periods()\n",
    "\n",
    "        #\n",
    "        w.min_velocity_running = 0.1  # in metres per second\n",
    "        idx_run = w.get_indexes_run_periods()\n",
    "\n",
    "\n",
    "        #########################################################\n",
    "        ####### RUN PCA ON ALL OR SUBSET OF TRACES ##############\n",
    "        #########################################################\n",
    "        #\n",
    "        traces_in = traces_unique[:,idx_quiescent]\n",
    "        pca, X_pca = c.compute_PCA(traces_in)\n",
    "\n",
    "        # \n",
    "\n",
    "\n",
    "\n"
   ]
  },
  {
   "cell_type": "code",
   "execution_count": null,
   "id": "8dce1020-b4e8-41a1-8758-e65aecfa1f7d",
   "metadata": {},
   "outputs": [],
   "source": []
  },
  {
   "cell_type": "code",
   "execution_count": null,
   "id": "6fb367b9-10c3-444a-84e7-b018723f7241",
   "metadata": {},
   "outputs": [],
   "source": []
  },
  {
   "cell_type": "code",
   "execution_count": null,
   "id": "26a5d869-2836-4467-8fff-469dc43460b0",
   "metadata": {},
   "outputs": [],
   "source": []
  },
  {
   "cell_type": "code",
   "execution_count": null,
   "id": "f99a9019",
   "metadata": {},
   "outputs": [],
   "source": []
  },
  {
   "cell_type": "code",
   "execution_count": null,
   "id": "f6ce39e8",
   "metadata": {},
   "outputs": [],
   "source": []
  },
  {
   "cell_type": "code",
   "execution_count": null,
   "id": "8d1b6b80",
   "metadata": {},
   "outputs": [],
   "source": []
  },
  {
   "cell_type": "code",
   "execution_count": null,
   "id": "67585fad",
   "metadata": {},
   "outputs": [],
   "source": []
  },
  {
   "cell_type": "code",
   "execution_count": null,
   "id": "fe3d8bc0",
   "metadata": {},
   "outputs": [],
   "source": []
  },
  {
   "cell_type": "code",
   "execution_count": null,
   "id": "eb29474c",
   "metadata": {},
   "outputs": [],
   "source": []
  }
 ],
 "metadata": {
  "kernelspec": {
   "display_name": "Python 3 (ipykernel)",
   "language": "python",
   "name": "python3"
  },
  "language_info": {
   "codemirror_mode": {
    "name": "ipython",
    "version": 3
   },
   "file_extension": ".py",
   "mimetype": "text/x-python",
   "name": "python",
   "nbconvert_exporter": "python",
   "pygments_lexer": "ipython3",
   "version": "3.8.12"
  }
 },
 "nbformat": 4,
 "nbformat_minor": 5
}
