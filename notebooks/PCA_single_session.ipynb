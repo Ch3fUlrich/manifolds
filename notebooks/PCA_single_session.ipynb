{
 "cells": [
  {
   "cell_type": "code",
   "execution_count": 1,
   "id": "611dc90f",
   "metadata": {},
   "outputs": [
    {
     "data": {
      "application/javascript": [
       "IPython.notebook.set_autosave_interval(180000)"
      ]
     },
     "metadata": {},
     "output_type": "display_data"
    },
    {
     "name": "stdout",
     "output_type": "stream",
     "text": [
      "Autosaving every 180 seconds\n"
     ]
    },
    {
     "data": {
      "text/html": [
       "<style>.container { width:100% !important; }</style>"
      ],
      "text/plain": [
       "<IPython.core.display.HTML object>"
      ]
     },
     "metadata": {},
     "output_type": "display_data"
    }
   ],
   "source": [
    "import matplotlib\n",
    "%matplotlib tk\n",
    "%autosave 180\n",
    "%load_ext autoreload\n",
    "%autoreload 2\n",
    "\n",
    "import nest_asyncio\n",
    "%config Completer.use_jedi = False\n",
    "\n",
    "#\n",
    "import matplotlib.pyplot as plt\n",
    "from IPython.core.display import display, HTML\n",
    "display(HTML(\"<style>.container { width:100% !important; }</style>\"))\n",
    "\n",
    "# \n",
    "import numpy as np\n",
    "import os\n",
    "import scipy\n",
    "\n",
    "# add root directory to be able to import packages\n",
    "# todo: make all packages installable so they can be called/imported by environment\n",
    "import sys\n",
    "module_path = os.path.abspath(os.path.join('..'))\n",
    "sys.path.append(module_path)\n",
    "\n",
    "from utils.wheel import wheel\n",
    "from utils.calcium import calcium\n"
   ]
  },
  {
   "cell_type": "code",
   "execution_count": 2,
   "id": "240d6ff7",
   "metadata": {
    "scrolled": true
   },
   "outputs": [
    {
     "name": "stdout",
     "output_type": "stream",
     "text": [
      "\n",
      "\n",
      "  Fluorescence data loading information\n",
      "         sample rate:  30 hz\n",
      "         self.F (fluorescence):  (840, 55740)\n",
      "         self.Fneu (neuropile):  (840, 55740)\n",
      "         self.iscell (Suite2p cell classifier output):  (1098, 2)\n",
      "              of which number of good cells:  (840,)\n",
      "         self.spks (deconnvoved spikes):  (840, 55740)\n",
      "         self.stat (footprints structure):  (840,)\n",
      "         mean std over all cells :  13.0\n",
      "   todo: print binarization defaults...\n",
      "binarized data (# cells, # time points):  (840, 55740)\n"
     ]
    }
   ],
   "source": [
    "#############################################\n",
    "######### LOAD SUITE2P BINARIZED DATA #######\n",
    "#############################################\n",
    "\n",
    "# input directory where Suite2p outputs matlab Fall.mat and all .npy files\n",
    "# data_dir = '/media/cat/4TB/donato/steffen/DON-004366/20210228/'\n",
    "# data_dir = '/media/cat/4TB/donato/steffen/DON-004366/20210301/'\n",
    "data_dir = '/media/cat/4TB/donato/DON-003343/DON-003343_20210213/suite2p/plane0/'\n",
    "# data_dir = '/media/cat/4TB/donato/nathalie/plane0'\n",
    "# data_dir = '/media/cat/4TB/donato/renan/renan'\n",
    "#data_dir = '/media/cat/4TB/donato/steffen/DON-004366/20210228/'\n",
    "\n",
    "# initialize calcium object and load suite2p data\n",
    "c = calcium.Calcium()\n",
    "c.verbose = True                          # outputs additional information during processing\n",
    "c.recompute_binarization = False           # recomputes binarization and other processing steps; False: loads from previous saved locations if avialable\n",
    "c.data_dir = data_dir\n",
    "c.load_suite2p()                          # this function assumes output dirs is either in data_dir OR data_dir/suite2p/plane0/\n",
    "\n",
    "\n",
    "#\n",
    "c.load_binarization()\n",
    "traces = c.F_onphase_bin    # c.F_upphase_bin\n",
    "\n",
    "print (\"binarized data (# cells, # time points): \", traces.shape)\n"
   ]
  },
  {
   "cell_type": "code",
   "execution_count": 4,
   "id": "cfac258e-def1-4296-b519-5fa1051df6c0",
   "metadata": {},
   "outputs": [
    {
     "name": "stdout",
     "output_type": "stream",
     "text": [
      " ... deduplicating cells... (can take ~5 for ~1,000cells) \n"
     ]
    },
    {
     "name": "stderr",
     "output_type": "stream",
     "text": [
      "finding medians: 100%|█████████████████████████████████████████████████████████████████████████████████████████████████| 840/840 [00:00<00:00, 955.17it/s]\n",
      "getting correlations and pvals: 100%|█████████████████████████████████████████████████████████████████████████| 705600/705600 [00:01<00:00, 401854.45it/s]\n",
      "14535it [00:00, 121154.24it/s]                                                                                                                            "
     ]
    },
    {
     "name": "stdout",
     "output_type": "stream",
     "text": [
      "All cells:  (840, 55740)   unique cells:  (608, 55740)\n"
     ]
    },
    {
     "name": "stderr",
     "output_type": "stream",
     "text": [
      "\n"
     ]
    }
   ],
   "source": [
    "#################################################\n",
    "####### OPTIONAL: REMOVE DUPLICATE CELLS ########\n",
    "#################################################\n",
    "c.load_footprints()\n",
    "c.deduplication_method = 'overlap'      # 'overlap'; 'centre_distance'\n",
    "c.corr_min_distance = 8                 # min distance for centre_distance method - NOT USED HERE\n",
    "c.corr_max_percent_overlap = 0.25       # max normalized cell body allowed \n",
    "c.corr_threshold = 0.3                  # max correlation allowed for high overlap; \n",
    "                                        #     note correlations computed using filtered fluorescecne not binarized\n",
    "c.corr_delete_method = 'lowest_snr'     # highest_connected: removes hub neurons,keeps more cells; \n",
    "                                        # lowest_snr - removes lower SNR cells, keep less neurons\n",
    "c.recompute_deduplication = False        # recompute the dedplucaiton wif new paramters are saved\n",
    "c.n_cores = 8                           #  Number of cores to use for multi processing\n",
    "\n",
    "#\n",
    "c.remove_duplicate_neurons()            \n",
    "\n",
    "#       \n",
    "traces_unique = traces[c.clean_cell_ids]\n",
    "print (\"All cells: \", c.F.shape, \"  unique cells: \", traces_unique.shape)\n"
   ]
  },
  {
   "cell_type": "code",
   "execution_count": 6,
   "id": "b0c15189-d633-47c6-a0dd-dcfb04cf0310",
   "metadata": {},
   "outputs": [
    {
     "name": "stdout",
     "output_type": "stream",
     "text": [
      "Exp time :  1858.0\n",
      "   Queiscent periods (seconds):  1341.6\n",
      "   Running periods (seconds):  195.93333333333334\n"
     ]
    }
   ],
   "source": [
    "###############################################################\n",
    "### OPTIONAL: LOAD WHEEL DATA AND QUEISCENT OR RUN PERIODS ####\n",
    "###############################################################\n",
    "# \n",
    "w = wheel.Wheel()\n",
    "w.root_dir = os.path.join(c.data_dir.replace('suite2p/','').replace('plane0/',''),    # this assumes wheel data from Steffens' matlab scripts\n",
    "                          'TRD-2P')                                                   #   is saved in the root diretory of the animal\n",
    "w.load_track()\n",
    "w.compute_velocity()\n",
    "print (\"Exp time : \", w.track.velocity.times.shape[0]/w.imaging_sample_rate)\n",
    "\n",
    "# \n",
    "w.max_velocity_quiescent = 0.001  # in metres per second\n",
    "idx_quiescent = w.get_indexes_quiescent_periods()\n",
    "\n",
    "#\n",
    "w.min_velocity_running = 0.1  # in metres per second\n",
    "idx_run = w.get_indexes_run_periods()\n",
    "\n"
   ]
  },
  {
   "cell_type": "code",
   "execution_count": 7,
   "id": "c127af6d-28d6-498b-b215-582cf07cf32e",
   "metadata": {},
   "outputs": [
    {
     "name": "stdout",
     "output_type": "stream",
     "text": [
      "Selected cells (# cells, time points):  (200, 55740)\n"
     ]
    }
   ],
   "source": [
    "#########################################################\n",
    "####### RUN PCA ON ALL OR SUBSET OF TRACES ##############\n",
    "#########################################################\n",
    "#\n",
    "\n",
    "# take only 200 cells; and first 10 minutes\n",
    "n_cells = 200\n",
    "traces_unique = traces_unique[:n_cells]\n",
    "print (\"Selected cells (# cells, time points): \", traces_unique.shape)\n",
    "\n",
    "# take quiescent periods\n",
    "traces_in = traces_unique[:,idx_quiescent]\n",
    "\n",
    "#\n",
    "n_sec = 600\n",
    "times = np.arange(n_sec)\n",
    "traces_in = traces_in[:,times]\n",
    "\n",
    "#\n",
    "pca, X_pca = c.compute_PCA(traces_in)\n",
    "\n",
    "# plot  variance exaplined\n",
    "var_exp = pca.explained_variance_ratio_\n",
    "\n",
    "# \n",
    "# plt.plot(var_exp)\n",
    "# plt.ylabel(\"variance explained\")\n",
    "# plt.xlabel(\"PC component\")\n",
    "# plt.show()\n"
   ]
  },
  {
   "cell_type": "code",
   "execution_count": null,
   "id": "8dce1020-b4e8-41a1-8758-e65aecfa1f7d",
   "metadata": {},
   "outputs": [],
   "source": []
  },
  {
   "cell_type": "code",
   "execution_count": null,
   "id": "6fb367b9-10c3-444a-84e7-b018723f7241",
   "metadata": {},
   "outputs": [],
   "source": []
  },
  {
   "cell_type": "code",
   "execution_count": null,
   "id": "26a5d869-2836-4467-8fff-469dc43460b0",
   "metadata": {},
   "outputs": [],
   "source": []
  },
  {
   "cell_type": "code",
   "execution_count": null,
   "id": "f99a9019",
   "metadata": {},
   "outputs": [],
   "source": []
  },
  {
   "cell_type": "code",
   "execution_count": null,
   "id": "f6ce39e8",
   "metadata": {},
   "outputs": [],
   "source": []
  },
  {
   "cell_type": "code",
   "execution_count": null,
   "id": "8d1b6b80",
   "metadata": {},
   "outputs": [],
   "source": []
  },
  {
   "cell_type": "code",
   "execution_count": null,
   "id": "67585fad",
   "metadata": {},
   "outputs": [],
   "source": []
  },
  {
   "cell_type": "code",
   "execution_count": null,
   "id": "fe3d8bc0",
   "metadata": {},
   "outputs": [],
   "source": []
  },
  {
   "cell_type": "code",
   "execution_count": null,
   "id": "eb29474c",
   "metadata": {},
   "outputs": [],
   "source": []
  }
 ],
 "metadata": {
  "kernelspec": {
   "display_name": "Python 3 (ipykernel)",
   "language": "python",
   "name": "python3"
  },
  "language_info": {
   "codemirror_mode": {
    "name": "ipython",
    "version": 3
   },
   "file_extension": ".py",
   "mimetype": "text/x-python",
   "name": "python",
   "nbconvert_exporter": "python",
   "pygments_lexer": "ipython3",
   "version": "3.8.12"
  }
 },
 "nbformat": 4,
 "nbformat_minor": 5
}
