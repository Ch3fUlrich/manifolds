{
 "cells": [
  {
   "cell_type": "code",
   "execution_count": 7,
   "id": "5ec3ac28-a1c6-4e51-be96-ca6d903449e5",
   "metadata": {},
   "outputs": [
    {
     "data": {
      "application/javascript": [
       "IPython.notebook.set_autosave_interval(180000)"
      ]
     },
     "metadata": {},
     "output_type": "display_data"
    },
    {
     "name": "stdout",
     "output_type": "stream",
     "text": [
      "Autosaving every 180 seconds\n",
      "The autoreload extension is already loaded. To reload it, use:\n",
      "  %reload_ext autoreload\n"
     ]
    },
    {
     "data": {
      "text/html": [
       "<style>.container { width:100% !important; }</style>"
      ],
      "text/plain": [
       "<IPython.core.display.HTML object>"
      ]
     },
     "metadata": {},
     "output_type": "display_data"
    }
   ],
   "source": [
    "import matplotlib\n",
    "%matplotlib tk\n",
    "%autosave 180\n",
    "%load_ext autoreload\n",
    "%autoreload 2\n",
    "\n",
    "import nest_asyncio\n",
    "%config Completer.use_jedi = False\n",
    "\n",
    "#\n",
    "import matplotlib.pyplot as plt\n",
    "from IPython.core.display import display, HTML\n",
    "display(HTML(\"<style>.container { width:100% !important; }</style>\"))\n",
    "\n",
    "# \n",
    "import numpy as np\n",
    "import os\n",
    "import scipy\n",
    "\n",
    "# add root directory to be able to import packages\n",
    "# todo: make all packages installable so they can be called/imported by environment\n",
    "import sys\n",
    "\n",
    "#\n",
    "from tqdm import tqdm, trange\n",
    "\n",
    "#\n",
    "import opexebo\n",
    "\n",
    "import astropy\n",
    "\n",
    "from utils import process_ephys\n"
   ]
  },
  {
   "cell_type": "code",
   "execution_count": 174,
   "id": "0f065b38-2e13-4043-8422-3a2a0cf21ef5",
   "metadata": {},
   "outputs": [
    {
     "name": "stdout",
     "output_type": "stream",
     "text": [
      "locs:  (138617, 2)\n",
      "locs tims:  (138617,)\n",
      "locs times:  [0.00000000e+00 5.98552227e-02 8.77804756e-02 ... 3.59992525e+03\n",
      " 3.59994918e+03 3.59997511e+03]\n",
      "distances:  (138616,)\n",
      "vel_all:  [ 0.93317371  2.03108485  1.07346283 ... 29.88362156 12.8680298\n",
      " 26.38388726]\n",
      "loaded spikes:  [[3.0000000e+00 7.0000000e+00]\n",
      " [4.0000000e+00 2.9000000e+01]\n",
      " [5.0000000e+00 1.0500000e+02]\n",
      " ...\n",
      " [1.0956083e+08 9.9000000e+01]\n",
      " [1.0956083e+08 9.8000000e+01]\n",
      " [1.0956085e+08 1.0000000e+01]]\n",
      "time shift (sec):  46.754133333333336\n",
      "spikes pre:  (10223352, 2)\n",
      "spikes post:  (10099500, 2)\n"
     ]
    }
   ],
   "source": [
    "#############################################################\n",
    "################### DEFAULT LOADING OF DATA #################\n",
    "#############################################################\n",
    "\n",
    "\n",
    "#fname_locs = ('/media/cat/4TB1/donato/nathalie/DON-007050/FS1/DON-007050_20211022_'+\n",
    "#         'TR-BSL_FS1-ACQDLC_resnet50_open_arena_white_floorSep8shuffle1_200000_locs.npy')\n",
    "\n",
    "root_dir = '/media/cat/4TB1/donato/DON-011737/2022_11_14/'\n",
    "\n",
    "#\n",
    "fname_locs = root_dir+'/Test_011737_Test1_60minDLC_resnet50_OF darkbox white floorMar21shuffle1_350000.npy'\n",
    "fname_locs_times = root_dir + '/011737_Test1_60min_frame_times.npy'\n",
    "fname_shift = root_dir+'/events/MessageCenter/timestamps.npy'\n",
    "\n",
    "#\n",
    "#fname_traces = '/media/cat/4TB1/donato/nathalie/DON-007050/FS1/binarized_traces.npz'\n",
    "fname_spikes = root_dir + '/yass/spike_train.npy'\n",
    "\n",
    "#\n",
    "#arena_x = [300,1550]\n",
    "#arena_y = [175,1400]\n",
    "arena_size = [80,80]\n",
    "arena_shape = 'square'\n",
    "bin_width = 2.5\n",
    "\n",
    "#\n",
    "locs, locs_binned, locs_times, spikes = process_ephys(fname_locs,\n",
    "                                                      fname_spikes,\n",
    "                                                      fname_locs_times,\n",
    "                                                      fname_shift,\n",
    "                                                      arena_size,\n",
    "                                                      bin_width)\n",
    "\n",
    "# compute spatial occpuancy map; only requires the locatoins and the time at which the mouse was at some location\n",
    "occ_map, coverage, bin_edges = op.analysis.spatial_occupancy(locs_times, \n",
    "                                                             locs.T, \n",
    "                                                             arena_size, \n",
    "                                                             bin_width=bin_width)\n",
    "\n",
    "#\n",
    "plt.figure()\n",
    "plt.imshow(occ_map)\n",
    "plt.show()\n",
    "\n"
   ]
  },
  {
   "cell_type": "code",
   "execution_count": 199,
   "id": "ab639988-bfbd-4938-82e8-aacf97956a51",
   "metadata": {},
   "outputs": [
    {
     "name": "stdout",
     "output_type": "stream",
     "text": [
      "cell:  10 , spike times:  (177069,)\n"
     ]
    },
    {
     "name": "stderr",
     "output_type": "stream",
     "text": [
      "100%|█████████████████████████████████████████████████████████████████████████████████████████| 94125/94125 [00:07<00:00, 12283.12it/s]\n"
     ]
    },
    {
     "name": "stdout",
     "output_type": "stream",
     "text": [
      "cell spikes:  (3, 23518)\n",
      "mid pt:  47062\n",
      "mid_pt_idx:  11822\n",
      "cell:  11 , spike times:  (61498,)\n"
     ]
    },
    {
     "name": "stderr",
     "output_type": "stream",
     "text": [
      "100%|█████████████████████████████████████████████████████████████████████████████████████████| 94125/94125 [00:03<00:00, 26004.63it/s]\n"
     ]
    },
    {
     "name": "stdout",
     "output_type": "stream",
     "text": [
      "cell spikes:  (3, 3432)\n",
      "mid pt:  47062\n",
      "mid_pt_idx:  2009\n",
      "cell:  12 , spike times:  (304772,)\n"
     ]
    },
    {
     "name": "stderr",
     "output_type": "stream",
     "text": [
      "100%|██████████████████████████████████████████████████████████████████████████████████████████| 94125/94125 [00:11<00:00, 8107.77it/s]\n"
     ]
    },
    {
     "name": "stdout",
     "output_type": "stream",
     "text": [
      "cell spikes:  (3, 49903)\n",
      "mid pt:  47062\n",
      "mid_pt_idx:  25891\n",
      "cell:  13 , spike times:  (82886,)\n"
     ]
    },
    {
     "name": "stderr",
     "output_type": "stream",
     "text": [
      "100%|█████████████████████████████████████████████████████████████████████████████████████████| 94125/94125 [00:04<00:00, 21735.99it/s]\n"
     ]
    },
    {
     "name": "stdout",
     "output_type": "stream",
     "text": [
      "cell spikes:  (3, 5922)\n",
      "mid pt:  47062\n",
      "mid_pt_idx:  2917\n",
      "cell:  14 , spike times:  (22087,)\n"
     ]
    },
    {
     "name": "stderr",
     "output_type": "stream",
     "text": [
      "100%|█████████████████████████████████████████████████████████████████████████████████████████| 94125/94125 [00:02<00:00, 39143.82it/s]\n"
     ]
    },
    {
     "name": "stdout",
     "output_type": "stream",
     "text": [
      "cell spikes:  (3, 296)\n",
      "mid pt:  47062\n",
      "mid_pt_idx:  87\n",
      "cell:  15 , spike times:  (5613,)\n"
     ]
    },
    {
     "name": "stderr",
     "output_type": "stream",
     "text": [
      "100%|█████████████████████████████████████████████████████████████████████████████████████████| 94125/94125 [00:01<00:00, 58065.14it/s]\n"
     ]
    },
    {
     "name": "stdout",
     "output_type": "stream",
     "text": [
      "cell spikes:  (3, 243)\n",
      "mid pt:  47062\n",
      "mid_pt_idx:  109\n",
      "cell:  16 , spike times:  (33782,)\n"
     ]
    },
    {
     "name": "stderr",
     "output_type": "stream",
     "text": [
      "100%|█████████████████████████████████████████████████████████████████████████████████████████| 94125/94125 [00:02<00:00, 32309.59it/s]\n"
     ]
    },
    {
     "name": "stdout",
     "output_type": "stream",
     "text": [
      "cell spikes:  (3, 1955)\n",
      "mid pt:  47062\n",
      "mid_pt_idx:  679\n",
      "cell:  17 , spike times:  (18637,)\n"
     ]
    },
    {
     "name": "stderr",
     "output_type": "stream",
     "text": [
      "100%|█████████████████████████████████████████████████████████████████████████████████████████| 94125/94125 [00:02<00:00, 39003.97it/s]\n"
     ]
    },
    {
     "name": "stdout",
     "output_type": "stream",
     "text": [
      "cell spikes:  (3, 302)\n",
      "mid pt:  47062\n",
      "mid_pt_idx:  49\n",
      "cell:  18 , spike times:  (19146,)\n"
     ]
    },
    {
     "name": "stderr",
     "output_type": "stream",
     "text": [
      "100%|█████████████████████████████████████████████████████████████████████████████████████████| 94125/94125 [00:02<00:00, 38214.04it/s]\n"
     ]
    },
    {
     "name": "stdout",
     "output_type": "stream",
     "text": [
      "cell spikes:  (3, 515)\n",
      "mid pt:  47062\n",
      "mid_pt_idx:  169\n",
      "cell:  19 , spike times:  (4315,)\n"
     ]
    },
    {
     "name": "stderr",
     "output_type": "stream",
     "text": [
      "100%|█████████████████████████████████████████████████████████████████████████████████████████| 94125/94125 [00:01<00:00, 56917.48it/s]\n"
     ]
    },
    {
     "name": "stdout",
     "output_type": "stream",
     "text": [
      "cell spikes:  (3, 127)\n",
      "mid pt:  47062\n",
      "mid_pt_idx:  43\n"
     ]
    }
   ],
   "source": [
    "###################################################################################################\n",
    "###################################################################################################\n",
    "###################################################################################################\n",
    "\n",
    "def get_spikes(locs,\n",
    "               locs_times,\n",
    "               spikes_all, \n",
    "               cell_id):\n",
    "               \n",
    "    #\n",
    "    idx = np.where(spikes_all[:,1]==cell_id)[0]\n",
    "    \n",
    "    #\n",
    "    spikes = spikes_all[idx,0]\n",
    "    idx = np.argsort(spikes)\n",
    "    spikes=spikes[idx]\n",
    "    \n",
    "    #\n",
    "    print (\"cell: \", cell_id, \", spike times: \", spikes.shape)\n",
    "    \n",
    "    # make the spikes_tracking vstack;  not completely clear this is correct; X->Y inverstion etc? not clear\n",
    "    min_time = 0.0333\n",
    "    min_spikes = 3\n",
    "\n",
    "    #\n",
    "    spikes_tracking = []\n",
    "    ctr=0\n",
    "    for k in trange(locs_times.shape[0]):\n",
    "        temp = locs_times[k]\n",
    "        idx1 = np.where(np.logical_and(spikes>(temp-min_time), spikes<=temp))[0]\n",
    "\n",
    "        #\n",
    "        if idx1.shape[0]>= min_spikes:\n",
    "            ctr+=1\n",
    "            spikes_tracking.append([k,\n",
    "                                    locs[k,0], \n",
    "                                    locs[k,1]])\n",
    "        \n",
    "        # delete spikes before\n",
    "        if idx1.shape[0]>0:\n",
    "            spikes = spikes[idx1[0]:]\n",
    "\n",
    "    #\n",
    "    spikes_tracking = np.vstack(spikes_tracking)\n",
    "        \n",
    "                       \n",
    "    return spikes_tracking.T\n",
    "\n",
    "#\n",
    "def get_field(occ_map,\n",
    "              cell_spikes,\n",
    "              arena_size):\n",
    "    \n",
    "    #\n",
    "    try:\n",
    "        rm = opexebo.analysis.rate_map(occ_map, \n",
    "                                   cell_spikes, \n",
    "                                   arena_size)\n",
    "    except:\n",
    "        rm = np.zeros((32,32))\n",
    "\n",
    "    #\n",
    "    sigma = 1\n",
    "    rms = op.general.smooth(rm, sigma)\n",
    "\n",
    "    #\n",
    "    init_thresh = 1   \n",
    "    min_bins = 2\n",
    "    min_mean = rms.max()*0.1               # \n",
    "    min_peak = rms.max()*0.1            # \n",
    "\n",
    "    #\n",
    "    fields, fields_map = op.analysis.place_field(rms, \n",
    "                                                 min_bins = min_bins,\n",
    "                                                 min_peak = min_peak,\n",
    "                                                 min_mean = min_mean,\n",
    "                                                 init_thresh = init_thresh,\n",
    "                                                 search_method='sep',\n",
    "                                                 debug=False\n",
    "                                              #    limits=limits\n",
    "                                                )\n",
    "    #\n",
    "    return rms, fields_map\n",
    "    \n",
    "#\n",
    "def compute_place_field(cell_id,\n",
    "                        locs,\n",
    "                        locs_times,\n",
    "                        spikes,\n",
    "                        occ_map,\n",
    "                        arena_size,\n",
    "                       ):\n",
    "    \n",
    "    #\n",
    "    cell_spikes = get_spikes(\n",
    "                             #locs_binned,\n",
    "                             locs,\n",
    "                             locs_times,\n",
    "                             spikes,\n",
    "                             cell_id)\n",
    "    \n",
    "    #\n",
    "    n_spikes = cell_spikes.shape[1]\n",
    "    print (\"cell spikes: \", cell_spikes.shape)\n",
    "    \n",
    "    # find mid-point of time:\n",
    "    mid_pt = locs_times.shape[0]//2\n",
    "    mid_pt_idx = np.argmin(np.abs(mid_pt-cell_spikes[0]))\n",
    "    print (\"mid pt: \", mid_pt)\n",
    "    print (\"mid_pt_idx: \", mid_pt_idx)\n",
    "    \n",
    "    #\n",
    "    plt.figure(figsize=(10,10))\n",
    "\n",
    "    \n",
    "    #\n",
    "    rms, fields_map = get_field(occ_map,\n",
    "                                cell_spikes,\n",
    "                                arena_size)\n",
    "\n",
    "    #\n",
    "    ax=plt.subplot(3,3,1)\n",
    "    plt.imshow(rms)\n",
    "    plt.ylabel(\"rate map (smoothed)\")\n",
    "    \n",
    "    #\n",
    "    ax=plt.subplot(3,3,4)\n",
    "    plt.imshow(rms/occ_map)\n",
    "    plt.ylabel(\"rate map/occ_map\")\n",
    "    \n",
    "\n",
    "    #\n",
    "    ax=plt.subplot(3,3,7)\n",
    "    plt.imshow(fields_map)\n",
    "    plt.ylabel(\"fields\")\n",
    "\n",
    "    \n",
    "    ########################################\n",
    "    rms, fields_map = get_field(occ_map,\n",
    "                                cell_spikes[:,:mid_pt_idx//2],\n",
    "                                arena_size)\n",
    "\n",
    "    #\n",
    "    ax=plt.subplot(3,3,2)\n",
    "    plt.imshow(rms)\n",
    "    \n",
    "    #\n",
    "    ax=plt.subplot(3,3,5)\n",
    "    plt.imshow(rms/occ_map)\n",
    "    \n",
    "    #\n",
    "    ax=plt.subplot(3,3,8)\n",
    "    plt.imshow(fields_map)\n",
    "\n",
    "    #\n",
    "    rms, fields_map = get_field(occ_map,\n",
    "                                cell_spikes[:,mid_pt_idx//2:],\n",
    "                                arena_size)\n",
    "    ax=plt.subplot(3,3,3)\n",
    "    plt.imshow(rms)\n",
    "    \n",
    "    #\n",
    "    ax=plt.subplot(3,3,6)\n",
    "    plt.imshow(rms/occ_map)\n",
    "    \n",
    "    \n",
    "    ax=plt.subplot(3,3,9)\n",
    "    plt.imshow(fields_map)\n",
    "    plt.suptitle(\"Cell: \"+str(cell_id) + \", # spks: \"+str(n_spikes))\n",
    "\n",
    "    if False:\n",
    "        plt.show()\n",
    "    else:\n",
    "        plt.savefig('/media/cat/4TB1/temp/place_field_'+str(cell_id)+'.png')\n",
    "        plt.close()\n",
    "\n",
    "####################################################################\n",
    "#               \n",
    "cell_ids = np.arange(np.max(spikes[:,1]))\n",
    "\n",
    "cell_ids = [14]\n",
    "cell_ids = np.arange(10,20,1)\n",
    "\n",
    "for cell_id in cell_ids:\n",
    "    compute_place_field(cell_id,\n",
    "                        locs,\n",
    "                        locs_times,\n",
    "                        spikes,\n",
    "                        occ_map,\n",
    "                        arena_size)\n"
   ]
  },
  {
   "cell_type": "code",
   "execution_count": 166,
   "id": "809a3ba9-f49b-4592-b6ac-91ea712d2813",
   "metadata": {},
   "outputs": [
    {
     "name": "stdout",
     "output_type": "stream",
     "text": [
      "(3, 7120)\n",
      "(7120,)\n"
     ]
    }
   ],
   "source": [
    "plt.figure()\n",
    "\n",
    "print (cell_spikes.shape)\n",
    "x = cell_spikes[1]\n",
    "y = cell_spikes[2]\n",
    "print (x.shape)\n",
    "\n",
    "plt.scatter(x,\n",
    "            y\n",
    "           )\n",
    "\n",
    "plt.show()"
   ]
  },
  {
   "cell_type": "code",
   "execution_count": 167,
   "id": "92a3ae22-06af-4ebd-a1b3-047690ac300d",
   "metadata": {},
   "outputs": [
    {
     "name": "stdout",
     "output_type": "stream",
     "text": [
      "[  184.   185.   186. ... 94049. 94094. 94095.]\n"
     ]
    }
   ],
   "source": [
    "print (cell_spikes[0])"
   ]
  },
  {
   "cell_type": "code",
   "execution_count": null,
   "id": "21d4152b-9bd6-4754-b31a-0933a3b58d3e",
   "metadata": {},
   "outputs": [],
   "source": []
  },
  {
   "cell_type": "code",
   "execution_count": null,
   "id": "fa1960c7-a4f2-4e53-bdb0-5c2aadfa2d48",
   "metadata": {},
   "outputs": [],
   "source": []
  },
  {
   "cell_type": "code",
   "execution_count": null,
   "id": "5a535bdc-33e1-4698-98c6-d2f10e48bc0a",
   "metadata": {},
   "outputs": [],
   "source": []
  },
  {
   "cell_type": "code",
   "execution_count": 6,
   "id": "55bfbd7b-eca3-4a67-af04-8b3da9de765b",
   "metadata": {},
   "outputs": [
    {
     "name": "stderr",
     "output_type": "stream",
     "text": [
      "100%|██████████| 100/100 [00:27<00:00,  3.61it/s]\n"
     ]
    }
   ],
   "source": [
    "#############################################################\n",
    "################### DEFAULT LOADING OF DATA #################\n",
    "#############################################################\n",
    "\n",
    "\n",
    "scale_flag = False\n",
    "scale_value = 1\n",
    "sigma = 1.5\n",
    "\n",
    "#\n",
    "x_edges = bin_edges[0]\n",
    "y_edges = bin_edges[1]\n",
    "\n",
    "#\n",
    "plt.figure(figsize=(15,15))\n",
    "#cell_ids = np.arange(0,100,1)\n",
    "cell_ids = np.arange(100)\n",
    "#cell_ids = [27]\n",
    "ctr=0\n",
    "for cell_id in tqdm(cell_ids): \n",
    "    \n",
    "   \n",
    "    #\n",
    "    rm, rms, fields_map, occ_map = get_rms_and_place_field_from_tunning_map(cell_id,\n",
    "                                                                           upphases,\n",
    "                                                                           filtered_Fs,\n",
    "                                                                           locs,\n",
    "                                                                           occ_map,\n",
    "                                                                           arena_size,\n",
    "                                                                           sigma,\n",
    "                                                                           scale_flag,\n",
    "                                                                           scale_value\n",
    "                                                                           #limits\n",
    "                                                                          )\n",
    "\n",
    "\n",
    "    # #\n",
    "    #ax=plt.subplot(1,2,ctr+1)\n",
    "    #plt.imshow(rms/occ_map)\n",
    "    #plt.title(\"rms/occ_map\")\n",
    "\n",
    "    #\n",
    "    if cell_ids.shape[0]==100:\n",
    "        ax=plt.subplot(10,10,ctr+1)\n",
    "    elif cell_ids.shape[0]==10:\n",
    "        ax=plt.subplot(2,5,ctr+1)\n",
    "    else:\n",
    "        ax=plt.subplot(1,1,1)\n",
    "        \n",
    "    #\n",
    "    img1 = rms#/(occ_map+0.00001)\n",
    "    if np.max(fields_map)!=0:\n",
    "        img2 = fields_map/np.max(fields_map)*np.nanmax(img1)\n",
    "    else:\n",
    "        img2 = fields_map\n",
    "    #\n",
    "    img = np.vstack((img1, \n",
    "                     np.zeros(32)+np.nan,\n",
    "                     img2))\n",
    "    #img[32]=np.nan\n",
    "\n",
    "    plt.imshow(img,\n",
    "              vmin=np.min(img1),\n",
    "              vmax=np.max(img1)\n",
    "              )\n",
    "    plt.xticks([])\n",
    "    plt.yticks([])\n",
    "    plt.title(str(cell_id),fontsize=10,pad=0.9)\n",
    "    \n",
    "    #\n",
    "    res = op.analysis.rate_map_stats(rms, \n",
    "                                 occ_map, \n",
    "                                 debug=False)\n",
    "\n",
    "    #\n",
    "    coh = op.analysis.rate_map_coherence(rm)\n",
    "\n",
    "    #\n",
    "    text = \"SI_rate: \"+ str(round(res['spatial_information_rate'],2)) + \\\n",
    "        \"  SI_cont: \"+ str(round(res['spatial_information_content'],2)) + \\\n",
    "        \"  Sparse: \"+ str(round(res['sparsity'],2)) + ' \\n '+ \\\n",
    "        \"Select: \"+  str(round(res['selectivity'],2))+ \\\n",
    "        \"  Peak_r: \"+  str(round(res['peak_rate'],2))+ \\\n",
    "        \"  Mean_r: \"+  str(round(res['mean_rate'],2))+ \\\n",
    "        \"  Coh: \"+str(round(coh,2))\n",
    "\n",
    "\n",
    "    ax.set_ylabel(text, labelpad=.3, fontsize=3)\n",
    "    \n",
    "    ctr+=1\n",
    "\n",
    "    #\n",
    "\n",
    "\n",
    "plt.suptitle(\"cell \"+str(cell_id)+ \"\\n\"+str(res)+\"\\ncoherence \"+str(coh),fontsize=10)\n",
    "\n",
    "if False:\n",
    "    plt.show()\n",
    "else:\n",
    "    plt.savefig(\"/home/cat/fields.svg\")\n",
    "    plt.close()\n"
   ]
  },
  {
   "cell_type": "code",
   "execution_count": 39,
   "id": "7172b928-dbd5-4ee7-9aac-f3dca911957e",
   "metadata": {},
   "outputs": [
    {
     "name": "stdout",
     "output_type": "stream",
     "text": [
      "['SI_rate: 2.65SI_cont: 1.14Sparse: 0.45 \\n Select: 4.59Peak_r: 10.64Mean_r: 0.57']\n"
     ]
    }
   ],
   "source": [
    "#print (res)\n",
    "text = \"SI_rate: \"+ str(round(res['spatial_information_rate'],2)) + \\\n",
    "        \"SI_cont: \"+ str(round(res['spatial_information_content'],2)) + \\\n",
    "        \"Sparse: \"+ str(round(res['sparsity'],2)) + ' \\n '+ \\\n",
    "        \"Select: \"+  str(round(res['selectivity'],2))+ \\\n",
    "        \"Peak_r: \"+  str(round(res['peak_rate'],2))+ \\\n",
    "        \"Mean_r: \"+  str(round(res['mean_rate'],2))\n",
    "\n",
    "print (text)\n"
   ]
  },
  {
   "cell_type": "code",
   "execution_count": 9,
   "id": "c45707dd-c713-4a40-86a3-a01b23dbd365",
   "metadata": {
    "tags": []
   },
   "outputs": [
    {
     "name": "stderr",
     "output_type": "stream",
     "text": [
      " 22%|██▏       | 103/476 [00:09<00:29, 12.64it/s]"
     ]
    },
    {
     "name": "stdout",
     "output_type": "stream",
     "text": [
      "ceel Id:  nan nan\n"
     ]
    },
    {
     "name": "stderr",
     "output_type": "stream",
     "text": [
      " 37%|███▋      | 177/476 [00:16<00:27, 11.02it/s]\n"
     ]
    },
    {
     "ename": "KeyboardInterrupt",
     "evalue": "",
     "output_type": "error",
     "traceback": [
      "\u001b[0;31m---------------------------------------------------------------------------\u001b[0m",
      "\u001b[0;31mKeyboardInterrupt\u001b[0m                         Traceback (most recent call last)",
      "Cell \u001b[0;32mIn [9], line 17\u001b[0m\n\u001b[1;32m     11\u001b[0m sel_array \u001b[38;5;241m=\u001b[39m []\n\u001b[1;32m     12\u001b[0m \u001b[38;5;28;01mfor\u001b[39;00m cell_id \u001b[38;5;129;01min\u001b[39;00m tqdm(cell_ids): \n\u001b[1;32m     13\u001b[0m     \u001b[38;5;66;03m#print (cell_id)\u001b[39;00m\n\u001b[1;32m     15\u001b[0m     _, rms, _, _ \u001b[38;5;241m=\u001b[39m get_rms_and_place_field(cell_id,\n\u001b[1;32m     16\u001b[0m                                            upphases\u001b[38;5;241m.\u001b[39mcopy(),\n\u001b[0;32m---> 17\u001b[0m                                            filtered_Fs\u001b[38;5;241m.\u001b[39mcopy(),\n\u001b[1;32m     18\u001b[0m                                            occ_map\u001b[38;5;241m.\u001b[39mcopy(),\n\u001b[1;32m     19\u001b[0m                                            arena_size\u001b[38;5;241m.\u001b[39mcopy(),\n\u001b[1;32m     20\u001b[0m                                            sigma,\n\u001b[1;32m     21\u001b[0m                                            scale_flag,\n\u001b[1;32m     22\u001b[0m                                            scale_value\n\u001b[1;32m     23\u001b[0m                                            \u001b[38;5;66;03m#limits\u001b[39;00m\n\u001b[1;32m     24\u001b[0m                                           )\n\u001b[1;32m     25\u001b[0m     \u001b[38;5;66;03m#\u001b[39;00m\n\u001b[1;32m     26\u001b[0m     res \u001b[38;5;241m=\u001b[39m op\u001b[38;5;241m.\u001b[39manalysis\u001b[38;5;241m.\u001b[39mrate_map_stats(rms\u001b[38;5;241m.\u001b[39mcopy(), \n\u001b[1;32m     27\u001b[0m                                      occ_map\u001b[38;5;241m.\u001b[39mcopy(), \n\u001b[1;32m     28\u001b[0m                                      debug\u001b[38;5;241m=\u001b[39m\u001b[38;5;28;01mFalse\u001b[39;00m)\n",
      "\u001b[0;31mKeyboardInterrupt\u001b[0m: "
     ]
    }
   ],
   "source": [
    "###############################################################\n",
    "############# SPATIAL SELETIVITY VS. SELECTIVITY ##############\n",
    "###############################################################\n",
    "scale_flag = False\n",
    "scale_value = 1\n",
    "sigma = 1.5\n",
    "\n",
    "cell_ids = np.arange(upphases.shape[0])\n",
    "#cell_ids = np.arange(103,200,1)\n",
    "spc_array = []\n",
    "sel_array = []\n",
    "for cell_id in tqdm(cell_ids): \n",
    "    #print (cell_id)\n",
    "    \n",
    "    _, rms, _, _ = get_rms_and_place_field(cell_id,\n",
    "                                           upphases.copy(),\n",
    "                                           filtered_Fs.copy(),\n",
    "                                           occ_map.copy(),\n",
    "                                           arena_size.copy(),\n",
    "                                           sigma,\n",
    "                                           scale_flag,\n",
    "                                           scale_value\n",
    "                                           #limits\n",
    "                                          )\n",
    "    #\n",
    "    res = op.analysis.rate_map_stats(rms.copy(), \n",
    "                                     occ_map.copy(), \n",
    "                                     debug=False)\n",
    "    \n",
    "   # print (res)\n",
    "    spc = res['spatial_information_content']\n",
    "    sel = res['selectivity']\n",
    "    if np.isnan(spc) or np.isnan(sel):\n",
    "        print (\"ceel Id: \", spc, sel)\n",
    "\n",
    "    spc_array.append(spc)\n",
    "    sel_array.append(sel)\n",
    "    \n",
    "plt.figure()\n",
    "\n",
    "plt.scatter(spc_array, sel_array)\n",
    "plt.xlabel(\"special_information_content\")\n",
    "plt.ylabel(\"selectivity\")\n",
    "\n",
    "plt.show()\n",
    "\n"
   ]
  },
  {
   "cell_type": "code",
   "execution_count": null,
   "id": "67f09358-3750-4c9d-b40f-e25ebaa81b03",
   "metadata": {},
   "outputs": [],
   "source": []
  },
  {
   "cell_type": "code",
   "execution_count": null,
   "id": "88f23f9b-4b7b-4aee-83c5-9f457427c48f",
   "metadata": {},
   "outputs": [],
   "source": []
  },
  {
   "cell_type": "code",
   "execution_count": null,
   "id": "fb412641-fbaa-49ea-80dd-ecf2e55585df",
   "metadata": {},
   "outputs": [],
   "source": []
  },
  {
   "cell_type": "code",
   "execution_count": 3,
   "id": "1b365865-8924-4d7a-a2d2-36c72aeff513",
   "metadata": {},
   "outputs": [
    {
     "name": "stdout",
     "output_type": "stream",
     "text": [
      "(10223352,)\n",
      "(10223352,)\n"
     ]
    }
   ],
   "source": [
    "import numpy as np\n",
    "data = np.load('/media/cat/4TB1/ephys/spike_times.npy')\n",
    "print (data.shape)\n",
    "\n",
    "d2 = np.load('/media/cat/4TB1/ephys/spike_clusters.npy')\n",
    "print (d2.shape)"
   ]
  },
  {
   "cell_type": "code",
   "execution_count": 22,
   "id": "bdb888b9-e976-4e78-96d1-35d6ca10c85b",
   "metadata": {},
   "outputs": [
    {
     "name": "stdout",
     "output_type": "stream",
     "text": [
      "[1.6684163e+09 1.6684163e+09 1.6684163e+09 ... 1.6684199e+09 1.6684199e+09\n",
      " 1.6684199e+09]\n"
     ]
    }
   ],
   "source": [
    "d = np.load('/media/cat/4TB1/donato/DON-011737/2022_11_14/011737_Test1_60min_frame_times.npy')\n",
    "print (d)\n",
    "\n",
    "plt.figure()\n",
    "plt.plot(d[1:]-d[:-1])\n",
    "\n",
    "plt.show()"
   ]
  },
  {
   "cell_type": "code",
   "execution_count": null,
   "id": "05eea2af-a39d-4d17-ac41-2daf66f1d706",
   "metadata": {},
   "outputs": [],
   "source": [
    "root_dir = '/media/cat/4TB1/donato/DON-011737/2022_11_18/events/'\n",
    "\n",
    "d1 = np.load(root_dir+'/MessageCenter/sample_numbers.npy')\n",
    "print (d1)\n",
    "\n",
    "d2 = np.load(root_dir+'/MessageCenter/text.npy')\n",
    "print (d2)\n",
    "\n",
    "d3 = np.load(root_dir+'/MessageCenter/timestamps.npy')\n",
    "print (d3)\n",
    "\n",
    "d4 = np.load(root_dir +'/Acquisition_Board-100.Rhythm Data/TTL/full_words.npy')\n",
    "print (d4)\n",
    "\n",
    "d5 = np.load(root_dir +'/Acquisition_Board-100.Rhythm Data/TTL/sample_numbers.npy')\n",
    "print (d5)\n",
    "\n",
    "d6 = np.load(root_dir+'/Acquisition_Board-100.Rhythm Data/TTL/states.npy')\n",
    "print (d6)\n",
    "\n",
    "d7 = np.load(root_dir+'/Acquisition_Board-100.Rhythm Data/TTL/timestamps.npy')\n",
    "print (d7)"
   ]
  }
 ],
 "metadata": {
  "kernelspec": {
   "display_name": "Python 3 (ipykernel)",
   "language": "python",
   "name": "python3"
  },
  "language_info": {
   "codemirror_mode": {
    "name": "ipython",
    "version": 3
   },
   "file_extension": ".py",
   "mimetype": "text/x-python",
   "name": "python",
   "nbconvert_exporter": "python",
   "pygments_lexer": "ipython3",
   "version": "3.8.12"
  }
 },
 "nbformat": 4,
 "nbformat_minor": 5
}
