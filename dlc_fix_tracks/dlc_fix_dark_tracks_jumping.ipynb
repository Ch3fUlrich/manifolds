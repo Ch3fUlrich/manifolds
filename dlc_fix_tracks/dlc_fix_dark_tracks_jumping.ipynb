{
 "cells": [
  {
   "cell_type": "code",
   "execution_count": 1,
   "id": "1dac3418-b92d-491e-b36b-91851871fc80",
   "metadata": {},
   "outputs": [
    {
     "data": {
      "application/javascript": [
       "IPython.notebook.set_autosave_interval(180000)"
      ]
     },
     "metadata": {},
     "output_type": "display_data"
    },
    {
     "name": "stdout",
     "output_type": "stream",
     "text": [
      "Autosaving every 180 seconds\n"
     ]
    },
    {
     "name": "stderr",
     "output_type": "stream",
     "text": [
      "<ipython-input-1-19b29333d0f1>:12: DeprecationWarning: Importing display from IPython.core.display is deprecated since IPython 7.14, please import from IPython display\n",
      "  from IPython.core.display import display, HTML\n"
     ]
    },
    {
     "data": {
      "text/html": [
       "<style>.container { width:100% !important; }</style>"
      ],
      "text/plain": [
       "<IPython.core.display.HTML object>"
      ]
     },
     "metadata": {},
     "output_type": "display_data"
    },
    {
     "name": "stderr",
     "output_type": "stream",
     "text": [
      "/home/cat/.conda/envs/donato/lib/python3.8/site-packages/tqdm/auto.py:22: TqdmWarning: IProgress not found. Please update jupyter and ipywidgets. See https://ipywidgets.readthedocs.io/en/stable/user_install.html\n",
      "  from .autonotebook import tqdm as notebook_tqdm\n"
     ]
    }
   ],
   "source": [
    "import matplotlib\n",
    "%matplotlib tk\n",
    "%autosave 180\n",
    "%load_ext autoreload\n",
    "%autoreload 2\n",
    "\n",
    "import nest_asyncio\n",
    "%config Completer.use_jedi = False\n",
    "\n",
    "#\n",
    "import matplotlib.pyplot as plt\n",
    "from IPython.core.display import display, HTML\n",
    "display(HTML(\"<style>.container { width:100% !important; }</style>\"))\n",
    "\n",
    "# \n",
    "import numpy as np\n",
    "import os\n",
    "import scipy\n",
    "\n",
    "# add root directory to be able to import packages\n",
    "# todo: make all packages installable so they can be called/imported by environment\n",
    "import sys\n",
    "module_path = os.path.abspath(os.path.join('..'))\n",
    "#module_path = '/home/cat/code/manifolds-main/'\n",
    "sys.path.append(module_path)\n",
    "\n",
    "from utils.calcium import calcium\n",
    "from utils.dlc import dlc"
   ]
  },
  {
   "cell_type": "code",
   "execution_count": 3,
   "id": "7db9046e-a323-42f3-a61c-55c3ae8dee6c",
   "metadata": {},
   "outputs": [
    {
     "name": "stdout",
     "output_type": "stream",
     "text": [
      "(347667, 66)\n"
     ]
    }
   ],
   "source": [
    "from numpy import genfromtxt\n",
    "fname = '/media/cat/4TB1/donato/nathalie/DON-007369/NovelContext/20211209/TR-BSL/DON-007396_20211209_TR-BSL_NS1-ACQ(crop)DLC_resnet50_open_arena_white_floorSep8shuffle1_200000.csv'\n",
    "fname = '/media/cat/4TB1/donato/nathalie/DON-007369/NovelContext/20211212/TR-BSL/DON-007369_20211212_TR-BSL_NS4-ACQ(crop)DLC_resnet50_open_arena_white_floorSep8shuffle1_200000.csv'\n",
    "fname = '/media/cat/4TB/donato/anja/DON-012904/2023_01_30/012094_Test1_60minDLC_resnet50_OF darkbox white floorMar21shuffle1_350000.csv'\n",
    "\n",
    "#fname = '/media/cat/4TB1/donato/nathalie/DON-007369/NovelContext/20211214/TR-BSL/DON-007369_20211214_TR-BSL_NS6-ACQ(crop)DLC_resnet50_open_arena_white_floorSep8shuffle1_200000.csv' \n",
    "\n",
    "#\n",
    "my_data = genfromtxt(fname, delimiter=',')[3:,1:]\n",
    "\n",
    "print (my_data.shape)\n",
    "    "
   ]
  },
  {
   "cell_type": "code",
   "execution_count": 36,
   "id": "f0acc524-2581-448f-9ab5-9106cafae1c8",
   "metadata": {},
   "outputs": [
    {
     "name": "stdout",
     "output_type": "stream",
     "text": [
      "(347667, 22) (347667, 22)\n",
      "locs:  (347667, 2)\n",
      "diff:  (347666, 2)\n",
      "dist:  (347666,)\n",
      "# of nans:  (19554,)\n",
      "# of nans:  (0,)\n",
      "locs fixed:  (347667, 2)\n"
     ]
    }
   ],
   "source": [
    "#########################################################\n",
    "#################### FIX BIG JUMPS ######################\n",
    "#########################################################\n",
    "\n",
    "# \n",
    "min_DLC_likelihood = 0.05     # minimum confidence/likelihood that DLC feature must have in order to be good; default: 0.8\n",
    "max_distance_jump =  50      # max distance a mouse can travel in between 2 frames; default 300 pixels\n",
    "min_length_seg = 20           # shortest segment allowed; usually short segments indicate incorrect /jumpy detections\n",
    "window_smooth = 5\n",
    "\n",
    "#\n",
    "dlc.fix_jumps(my_data.copy(),\n",
    "              fname,\n",
    "              min_DLC_likelihood,\n",
    "              max_distance_jump,\n",
    "              min_length_seg,\n",
    "              window_smooth)\n",
    "\n",
    "if True:\n",
    "    plt.show()\n",
    "else:\n",
    "    plt.savefig('/home/cat/dlc_fix.jpg')\n",
    "    plt.close()\n",
    "\n"
   ]
  },
  {
   "cell_type": "code",
   "execution_count": null,
   "id": "a9711adc-cf77-4138-9967-6a9ffeb90f4a",
   "metadata": {},
   "outputs": [],
   "source": []
  }
 ],
 "metadata": {
  "kernelspec": {
   "display_name": "Python 3",
   "language": "python",
   "name": "python3"
  },
  "language_info": {
   "codemirror_mode": {
    "name": "ipython",
    "version": 3
   },
   "file_extension": ".py",
   "mimetype": "text/x-python",
   "name": "python",
   "nbconvert_exporter": "python",
   "pygments_lexer": "ipython3",
   "version": "3.8.15"
  }
 },
 "nbformat": 4,
 "nbformat_minor": 5
}
