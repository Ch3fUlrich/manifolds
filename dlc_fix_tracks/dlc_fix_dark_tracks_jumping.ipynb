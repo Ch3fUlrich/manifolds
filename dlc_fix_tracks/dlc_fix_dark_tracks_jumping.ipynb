{
 "cells": [
  {
   "cell_type": "code",
   "execution_count": 1,
   "id": "1dac3418-b92d-491e-b36b-91851871fc80",
   "metadata": {},
   "outputs": [
    {
     "data": {
      "application/javascript": [
       "IPython.notebook.set_autosave_interval(180000)"
      ]
     },
     "metadata": {},
     "output_type": "display_data"
    },
    {
     "name": "stdout",
     "output_type": "stream",
     "text": [
      "Autosaving every 180 seconds\n"
     ]
    },
    {
     "data": {
      "text/html": [
       "<style>.container { width:100% !important; }</style>"
      ],
      "text/plain": [
       "<IPython.core.display.HTML object>"
      ]
     },
     "metadata": {},
     "output_type": "display_data"
    }
   ],
   "source": [
    "import matplotlib\n",
    "%matplotlib tk\n",
    "%autosave 180\n",
    "%load_ext autoreload\n",
    "%autoreload 2\n",
    "\n",
    "import nest_asyncio\n",
    "%config Completer.use_jedi = False\n",
    "\n",
    "#\n",
    "import matplotlib.pyplot as plt\n",
    "from IPython.core.display import display, HTML\n",
    "display(HTML(\"<style>.container { width:100% !important; }</style>\"))\n",
    "\n",
    "# \n",
    "import numpy as np\n",
    "import os\n",
    "import scipy\n",
    "\n",
    "# add root directory to be able to import packages\n",
    "# todo: make all packages installable so they can be called/imported by environment\n",
    "import sys\n",
    "module_path = os.path.abspath(os.path.join('..'))\n",
    "sys.path.append(module_path)\n",
    "\n",
    "from utils.calcium import calcium\n",
    "from utils.dlc import dlc"
   ]
  },
  {
   "cell_type": "code",
   "execution_count": 2,
   "id": "7db9046e-a323-42f3-a61c-55c3ae8dee6c",
   "metadata": {},
   "outputs": [
    {
     "name": "stdout",
     "output_type": "stream",
     "text": [
      "(138617, 66)\n"
     ]
    }
   ],
   "source": [
    "from numpy import genfromtxt\n",
    "fname = '/media/cat/4TB1/donato/nathalie/DON-007369/NovelContext/20211209/TR-BSL/DON-007396_20211209_TR-BSL_NS1-ACQ(crop)DLC_resnet50_open_arena_white_floorSep8shuffle1_200000.csv'\n",
    "fname = '/media/cat/4TB1/donato/nathalie/DON-007369/NovelContext/20211212/TR-BSL/DON-007369_20211212_TR-BSL_NS4-ACQ(crop)DLC_resnet50_open_arena_white_floorSep8shuffle1_200000.csv'\n",
    "fname = '/media/cat/4TB1/donato/DON-011737/2022_11_14/Test_011737_Test1_60minDLC_resnet50_OF darkbox white floorMar21shuffle1_350000.csv'\n",
    "\n",
    "#fname = '/media/cat/4TB1/donato/nathalie/DON-007369/NovelContext/20211214/TR-BSL/DON-007369_20211214_TR-BSL_NS6-ACQ(crop)DLC_resnet50_open_arena_white_floorSep8shuffle1_200000.csv' \n",
    "\n",
    "#\n",
    "my_data = genfromtxt(fname, delimiter=',')[3:,1:]\n",
    "\n",
    "print (my_data.shape)\n",
    "    "
   ]
  },
  {
   "cell_type": "code",
   "execution_count": 5,
   "id": "f0acc524-2581-448f-9ab5-9106cafae1c8",
   "metadata": {},
   "outputs": [
    {
     "name": "stdout",
     "output_type": "stream",
     "text": [
      "locs:  (138617, 2)\n",
      "diff:  (138616, 2)\n",
      "dist:  (138616,)\n",
      "# of nans:  (14,)\n",
      "# of nans:  (0,)\n",
      "locs fixed:  (138617, 2)\n"
     ]
    }
   ],
   "source": [
    "#########################################################\n",
    "#################### FIX BIG JUMPS ######################\n",
    "#########################################################\n",
    "\n",
    "# \n",
    "min_DLC_likelihood = 0.1     # minimum confidence/likelihood that DLC feature must have in order to be good; default: 0.8\n",
    "max_distance_jump =  200      # max distance a mouse can travel in between 2 frames; default 300 pixels\n",
    "min_length_seg = 10           # shortest segment allowed; usually short segments indicate incorrect /jumpy detections\n",
    "\n",
    "#\n",
    "locs = dlc.fix_jumps(my_data.copy(),\n",
    "                      min_DLC_likelihood,\n",
    "                      max_distance_jump,\n",
    "                      min_length_seg)\n",
    "\n",
    "np.save(fname[:-4]+\".npy\", locs)\n",
    "\n",
    "# \n",
    "plt.figure(figsize=(20,10))\n",
    "ax=plt.subplot(1,2,1)\n",
    "# snout, top, body, ear left; ear rigth; neck\n",
    "ctr=6\n",
    "miniscope_top = my_data[:,ctr*3:ctr*3+2]\n",
    "plt.plot(miniscope_top[:,0],\n",
    "         miniscope_top[:,1])\n",
    "plt.title(\"Neck tracked by DLC\")\n",
    "\n",
    "#\n",
    "ax=plt.subplot(1,2,2)\n",
    "plt.plot(locs[:,0],\n",
    "         locs[:,1])\n",
    "plt.suptitle(fname)\n",
    "plt.title(\"Fixed body centre; parameters: \" + str(min_DLC_likelihood) + \" DLC threshold; \"+str(max_distance_jump)+\" max jump (pixels)\")\n",
    "if True:\n",
    "    plt.show()\n",
    "else:\n",
    "    plt.savefig('/home/cat/dlc_fix.jpg')\n",
    "    plt.close()\n",
    "\n",
    "\n"
   ]
  },
  {
   "cell_type": "code",
   "execution_count": null,
   "id": "a9711adc-cf77-4138-9967-6a9ffeb90f4a",
   "metadata": {},
   "outputs": [],
   "source": []
  }
 ],
 "metadata": {
  "kernelspec": {
   "display_name": "Python 3",
   "language": "python",
   "name": "python3"
  },
  "language_info": {
   "codemirror_mode": {
    "name": "ipython",
    "version": 3
   },
   "file_extension": ".py",
   "mimetype": "text/x-python",
   "name": "python",
   "nbconvert_exporter": "python",
   "pygments_lexer": "ipython3",
   "version": "3.8.15"
  }
 },
 "nbformat": 4,
 "nbformat_minor": 5
}
