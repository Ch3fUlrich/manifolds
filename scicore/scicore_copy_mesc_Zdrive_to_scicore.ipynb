{
 "cells": [
  {
   "cell_type": "code",
   "execution_count": 1,
   "id": "611dc90f",
   "metadata": {},
   "outputs": [
    {
     "data": {
      "application/javascript": [
       "IPython.notebook.set_autosave_interval(180000)"
      ]
     },
     "metadata": {},
     "output_type": "display_data"
    },
    {
     "name": "stdout",
     "output_type": "stream",
     "text": [
      "Autosaving every 180 seconds\n"
     ]
    },
    {
     "name": "stderr",
     "output_type": "stream",
     "text": [
      "<ipython-input-1-faab10a91db1>:12: DeprecationWarning: Importing display from IPython.core.display is deprecated since IPython 7.14, please import from IPython display\n",
      "  from IPython.core.display import display, HTML\n"
     ]
    },
    {
     "data": {
      "text/html": [
       "<style>.container { width:100% !important; }</style>"
      ],
      "text/plain": [
       "<IPython.core.display.HTML object>"
      ]
     },
     "metadata": {},
     "output_type": "display_data"
    },
    {
     "name": "stderr",
     "output_type": "stream",
     "text": [
      "/home/cat/.conda/envs/donato/lib/python3.8/site-packages/tqdm/auto.py:22: TqdmWarning: IProgress not found. Please update jupyter and ipywidgets. See https://ipywidgets.readthedocs.io/en/stable/user_install.html\n",
      "  from .autonotebook import tqdm as notebook_tqdm\n"
     ]
    }
   ],
   "source": [
    "import matplotlib\n",
    "%matplotlib tk\n",
    "%autosave 180\n",
    "%load_ext autoreload\n",
    "%autoreload 2\n",
    "\n",
    "import nest_asyncio\n",
    "%config Completer.use_jedi = False\n",
    "\n",
    "#\n",
    "import matplotlib.pyplot as plt\n",
    "from IPython.core.display import display, HTML\n",
    "display(HTML(\"<style>.container { width:100% !important; }</style>\"))\n",
    "\n",
    "# \n",
    "import numpy as np\n",
    "import os\n",
    "import scipy\n",
    "\n",
    "# add root directory to be able to import packages\n",
    "# todo: make all packages installable so they can be called/imported by environment\n",
    "import sys\n",
    "module_path = os.path.abspath(os.path.join('..'))\n",
    "sys.path.append(module_path)\n",
    "\n",
    "from utils.calcium import calcium\n",
    "\n",
    "from tqdm import tqdm\n",
    "\n"
   ]
  },
  {
   "cell_type": "code",
   "execution_count": 2,
   "id": "1ee2927b-67a4-41d3-abaa-05de04c31209",
   "metadata": {},
   "outputs": [],
   "source": [
    "###########################################################\n",
    "################## HELPER FUNCTIONS #######################\n",
    "###########################################################\n",
    "\n",
    "#\n",
    "def rcopy(root_scicore, \n",
    "          root_src,\n",
    "          animal_id,\n",
    "          src, \n",
    "          dest,\n",
    "          overwrite=False):\n",
    "\n",
    "    # bash recursive find all files ending in .mesc\n",
    "    fnames_src = !find {src} -type f -name \"*.mesc\"\n",
    "    \n",
    "    # extract the session names from the files by indexing into string\n",
    "    # TODO/NOTE: this may break on some files not named correctly\n",
    "    sess = []\n",
    "    for f in fnames_src:\n",
    "        idx = f.index(animal_id)\n",
    "        s = f[idx+11:idx+19]\n",
    "        sess.append(s)\n",
    "    \n",
    "    # make the root dir of the mouse\n",
    "    !mkdir {root_scicore}{animal_id} \n",
    "    \n",
    "    # loop over all files and copy them\n",
    "    ctr=0\n",
    "    for f in tqdm(fnames_src):\n",
    "\n",
    "        #\n",
    "        f_in = f\n",
    "\n",
    "        #\n",
    "        idx = f.index(animal_id)\n",
    "        \n",
    "        # destination file needs to be properly formated\n",
    "        dest_file = os.path.join(root_scicore, f[idx:])\n",
    "        \n",
    "        # convert double slhashes to singles\n",
    "        dest_file = dest_file.replace(\"\\\\\\\\\", \"\\\\\")\n",
    "        \n",
    "        # add extra directory; may not be necessary in future.\n",
    "        idx = dest_file.index('002P-F')\n",
    "        dest_file = dest_file[:idx+6]\n",
    "        \n",
    "        #\n",
    "        if overwrite==False:\n",
    "            if os.path.exists(dest_file):\n",
    "                print (\"file already found, skipping: \", dest_file)\n",
    "                continue\n",
    "                \n",
    "        # make the session directory and subdirectory\n",
    "        !mkdir {root_scicore}{animal_id}/{sess[ctr]}\n",
    "        !mkdir {root_scicore}{animal_id}/{sess[ctr]}/002P-F\n",
    "\n",
    "        # bash command to copy files; the f_in file has a space in it, so we need to use quotations on the whole file.\n",
    "        !cp \"{f_in}\" {dest_file}\n",
    "        \n",
    "        #\n",
    "        ctr+=1"
   ]
  },
  {
   "cell_type": "code",
   "execution_count": 3,
   "id": "57e76efe-a1d9-4fa6-a7bf-3db24f9d4020",
   "metadata": {},
   "outputs": [
    {
     "name": "stdout",
     "output_type": "stream",
     "text": [
      "SRC:  /run/user/1000/gvfs/smb-share\\:server\\=unibasel.ads.unibas.ch\\,share\\=bz/RG\\ Donato/Microscopy/Steffen/Experiments/\n",
      "DEST:  /run/user/1000/gvfs/smb-share\\:server\\=toucan-all.scicore.unibas.ch\\,share\\=donafl00-calcium\\$/Users/Catalin/Experiments/\n",
      "mkdir: cannot create directory ‘/run/user/1000/gvfs/smb-share:server=toucan-all.scicore.unibas.ch,share=donafl00-calcium$/Users/Catalin/Experiments/DON-009191’: File exists\n"
     ]
    },
    {
     "name": "stderr",
     "output_type": "stream",
     "text": [
      "  0%|          | 0/33 [00:00<?, ?it/s]"
     ]
    },
    {
     "name": "stdout",
     "output_type": "stream",
     "text": [
      "mkdir: cannot create directory ‘/run/user/1000/gvfs/smb-share:server=toucan-all.scicore.unibas.ch,share=donafl00-calcium$/Users/Catalin/Experiments/DON-009191/20220221’: File exists\n",
      "mkdir: cannot create directory ‘/run/user/1000/gvfs/smb-share:server=toucan-all.scicore.unibas.ch,share=donafl00-calcium$/Users/Catalin/Experiments/DON-009191/20220221/002P-F’: File exists\n"
     ]
    },
    {
     "name": "stderr",
     "output_type": "stream",
     "text": [
      "  3%|▎         | 1/33 [05:07<2:44:06, 307.69s/it]"
     ]
    },
    {
     "name": "stdout",
     "output_type": "stream",
     "text": [
      "mkdir: cannot create directory ‘/run/user/1000/gvfs/smb-share:server=toucan-all.scicore.unibas.ch,share=donafl00-calcium$/Users/Catalin/Experiments/DON-009191/20220223’: File exists\n",
      "mkdir: cannot create directory ‘/run/user/1000/gvfs/smb-share:server=toucan-all.scicore.unibas.ch,share=donafl00-calcium$/Users/Catalin/Experiments/DON-009191/20220223/002P-F’: File exists\n"
     ]
    },
    {
     "name": "stderr",
     "output_type": "stream",
     "text": [
      " 48%|████▊     | 16/33 [1:30:26<1:27:42, 309.54s/it]"
     ]
    },
    {
     "name": "stdout",
     "output_type": "stream",
     "text": [
      "mkdir: cannot create directory ‘/run/user/1000/gvfs/smb-share:server=toucan-all.scicore.unibas.ch,share=donafl00-calcium$/Users/Catalin/Experiments/DON-009191/20220311’: File exists\n",
      "mkdir: cannot create directory ‘/run/user/1000/gvfs/smb-share:server=toucan-all.scicore.unibas.ch,share=donafl00-calcium$/Users/Catalin/Experiments/DON-009191/20220311/002P-F’: File exists\n"
     ]
    },
    {
     "name": "stderr",
     "output_type": "stream",
     "text": [
      "100%|██████████| 33/33 [2:57:15<00:00, 322.30s/it]  \n",
      " 19%|█▉        | 10/52 [42:20<3:07:04, 267.26s/it]"
     ]
    },
    {
     "name": "stdout",
     "output_type": "stream",
     "text": [
      "mkdir: cannot create directory ‘/run/user/1000/gvfs/smb-share:server=toucan-all.scicore.unibas.ch,share=donafl00-calcium$/Users/Catalin/Experiments/DON-009192/20220224’: File exists\n",
      "mkdir: cannot create directory ‘/run/user/1000/gvfs/smb-share:server=toucan-all.scicore.unibas.ch,share=donafl00-calcium$/Users/Catalin/Experiments/DON-009192/20220224/002P-F’: File exists\n"
     ]
    },
    {
     "name": "stderr",
     "output_type": "stream",
     "text": [
      " 23%|██▎       | 12/52 [50:32<2:51:00, 256.50s/it]"
     ]
    },
    {
     "name": "stdout",
     "output_type": "stream",
     "text": [
      "mkdir: cannot create directory ‘/run/user/1000/gvfs/smb-share:server=toucan-all.scicore.unibas.ch,share=donafl00-calcium$/Users/Catalin/Experiments/DON-009192/20220226’: File exists\n",
      "mkdir: cannot create directory ‘/run/user/1000/gvfs/smb-share:server=toucan-all.scicore.unibas.ch,share=donafl00-calcium$/Users/Catalin/Experiments/DON-009192/20220226/002P-F’: File exists\n"
     ]
    },
    {
     "name": "stderr",
     "output_type": "stream",
     "text": [
      " 31%|███       | 16/52 [1:14:19<3:40:00, 366.68s/it]"
     ]
    },
    {
     "name": "stdout",
     "output_type": "stream",
     "text": [
      "mkdir: cannot create directory ‘/run/user/1000/gvfs/smb-share:server=toucan-all.scicore.unibas.ch,share=donafl00-calcium$/Users/Catalin/Experiments/DON-009192/20220302’: File exists\n",
      "mkdir: cannot create directory ‘/run/user/1000/gvfs/smb-share:server=toucan-all.scicore.unibas.ch,share=donafl00-calcium$/Users/Catalin/Experiments/DON-009192/20220302/002P-F’: File exists\n"
     ]
    },
    {
     "name": "stderr",
     "output_type": "stream",
     "text": [
      " 44%|████▍     | 23/52 [1:40:51<1:23:40, 173.13s/it]"
     ]
    },
    {
     "name": "stdout",
     "output_type": "stream",
     "text": [
      "mkdir: cannot create directory ‘/run/user/1000/gvfs/smb-share:server=toucan-all.scicore.unibas.ch,share=donafl00-calcium$/Users/Catalin/Experiments/DON-009192/20220320’: File exists\n",
      "mkdir: cannot create directory ‘/run/user/1000/gvfs/smb-share:server=toucan-all.scicore.unibas.ch,share=donafl00-calcium$/Users/Catalin/Experiments/DON-009192/20220320/002P-F’: File exists\n"
     ]
    },
    {
     "name": "stderr",
     "output_type": "stream",
     "text": [
      " 65%|██████▌   | 34/52 [2:10:14<1:05:55, 219.76s/it]"
     ]
    },
    {
     "name": "stdout",
     "output_type": "stream",
     "text": [
      "mkdir: cannot create directory ‘/run/user/1000/gvfs/smb-share:server=toucan-all.scicore.unibas.ch,share=donafl00-calcium$/Users/Catalin/Experiments/DON-009192/20220215’: File exists\n",
      "mkdir: cannot create directory ‘/run/user/1000/gvfs/smb-share:server=toucan-all.scicore.unibas.ch,share=donafl00-calcium$/Users/Catalin/Experiments/DON-009192/20220215/002P-F’: File exists\n"
     ]
    },
    {
     "name": "stderr",
     "output_type": "stream",
     "text": [
      " 67%|██████▋   | 35/52 [2:21:38<1:41:44, 359.06s/it]"
     ]
    },
    {
     "name": "stdout",
     "output_type": "stream",
     "text": [
      "mkdir: cannot create directory ‘/run/user/1000/gvfs/smb-share:server=toucan-all.scicore.unibas.ch,share=donafl00-calcium$/Users/Catalin/Experiments/DON-009192/20220215’: File exists\n",
      "mkdir: cannot create directory ‘/run/user/1000/gvfs/smb-share:server=toucan-all.scicore.unibas.ch,share=donafl00-calcium$/Users/Catalin/Experiments/DON-009192/20220215/002P-F’: File exists\n"
     ]
    },
    {
     "name": "stderr",
     "output_type": "stream",
     "text": [
      " 75%|███████▌  | 39/52 [2:35:30<46:14, 213.39s/it]  "
     ]
    },
    {
     "name": "stdout",
     "output_type": "stream",
     "text": [
      "mkdir: cannot create directory ‘/run/user/1000/gvfs/smb-share:server=toucan-all.scicore.unibas.ch,share=donafl00-calcium$/Users/Catalin/Experiments/DON-009192/20220317’: File exists\n",
      "mkdir: cannot create directory ‘/run/user/1000/gvfs/smb-share:server=toucan-all.scicore.unibas.ch,share=donafl00-calcium$/Users/Catalin/Experiments/DON-009192/20220317/002P-F’: File exists\n"
     ]
    },
    {
     "name": "stderr",
     "output_type": "stream",
     "text": [
      "100%|██████████| 52/52 [3:18:19<00:00, 228.84s/it]\n",
      "100%|██████████| 17/17 [41:58<00:00, 148.13s/it]\n",
      " 37%|███▋      | 7/19 [23:44<34:08, 170.67s/it]  "
     ]
    },
    {
     "name": "stdout",
     "output_type": "stream",
     "text": [
      "mkdir: cannot create directory ‘/run/user/1000/gvfs/smb-share:server=toucan-all.scicore.unibas.ch,share=donafl00-calcium$/Users/Catalin/Experiments/DON-010477/20220524’: File exists\n",
      "mkdir: cannot create directory ‘/run/user/1000/gvfs/smb-share:server=toucan-all.scicore.unibas.ch,share=donafl00-calcium$/Users/Catalin/Experiments/DON-010477/20220524/002P-F’: File exists\n"
     ]
    },
    {
     "name": "stderr",
     "output_type": "stream",
     "text": [
      "100%|██████████| 19/19 [1:06:45<00:00, 210.83s/it]\n"
     ]
    }
   ],
   "source": [
    "#############################################\n",
    "######### LOAD SUITE2P AND BINARIZE #########\n",
    "#############################################\n",
    "\n",
    "#\n",
    "root_src = '/run/user/1000/gvfs/smb-share\\:server\\=unibasel.ads.unibas.ch\\,share\\=bz/RG\\ Donato/Microscopy/Steffen/Experiments/'\n",
    "root_scicore = '/run/user/1000/gvfs/smb-share\\:server\\=toucan-all.scicore.unibas.ch\\,share\\=donafl00-calcium\\$/Users/Catalin/Experiments/'\n",
    "\n",
    "#\n",
    "print (\"SRC: \", root_src)\n",
    "print (\"DEST: \", root_scicore)\n",
    "\n",
    "#\n",
    "animal_ids = [\n",
    "#'DON-008497',\n",
    "#'DON-008498',\n",
    "'DON-009191',\n",
    "'DON-009192',\n",
    "'DON-010473',\n",
    "'DON-010477',\n",
    "]\n",
    "\n",
    "#\n",
    "for animal_id in animal_ids:\n",
    "\n",
    "    #\n",
    "    src = root_src + animal_id + '/'\n",
    "    dest = root_scicore + animal_id + '/'\n",
    "    \n",
    "    #\n",
    "    rcopy(root_scicore,\n",
    "          root_src,\n",
    "          animal_id,\n",
    "          src, \n",
    "          dest)"
   ]
  },
  {
   "cell_type": "code",
   "execution_count": null,
   "id": "b5175c45-52cb-45dd-8393-1c298950e4c7",
   "metadata": {},
   "outputs": [],
   "source": []
  },
  {
   "cell_type": "code",
   "execution_count": null,
   "id": "59f71417-07d8-4429-9933-81ccbd271461",
   "metadata": {},
   "outputs": [],
   "source": []
  },
  {
   "cell_type": "code",
   "execution_count": null,
   "id": "fdced6cf-2ea2-47e7-b599-26f9fdf34d42",
   "metadata": {},
   "outputs": [],
   "source": []
  },
  {
   "cell_type": "code",
   "execution_count": null,
   "id": "c8257683",
   "metadata": {},
   "outputs": [],
   "source": []
  },
  {
   "cell_type": "code",
   "execution_count": null,
   "id": "dd3177bc",
   "metadata": {},
   "outputs": [],
   "source": []
  },
  {
   "cell_type": "code",
   "execution_count": null,
   "id": "afc00149",
   "metadata": {},
   "outputs": [],
   "source": []
  },
  {
   "cell_type": "code",
   "execution_count": null,
   "id": "f99a9019",
   "metadata": {},
   "outputs": [],
   "source": []
  },
  {
   "cell_type": "code",
   "execution_count": null,
   "id": "f6ce39e8",
   "metadata": {},
   "outputs": [],
   "source": []
  },
  {
   "cell_type": "code",
   "execution_count": null,
   "id": "8d1b6b80",
   "metadata": {},
   "outputs": [],
   "source": []
  },
  {
   "cell_type": "code",
   "execution_count": null,
   "id": "67585fad",
   "metadata": {},
   "outputs": [],
   "source": []
  },
  {
   "cell_type": "code",
   "execution_count": null,
   "id": "fe3d8bc0",
   "metadata": {},
   "outputs": [],
   "source": []
  },
  {
   "cell_type": "code",
   "execution_count": null,
   "id": "eb29474c",
   "metadata": {},
   "outputs": [],
   "source": []
  }
 ],
 "metadata": {
  "kernelspec": {
   "display_name": "Python 3",
   "language": "python",
   "name": "python3"
  },
  "language_info": {
   "codemirror_mode": {
    "name": "ipython",
    "version": 3
   },
   "file_extension": ".py",
   "mimetype": "text/x-python",
   "name": "python",
   "nbconvert_exporter": "python",
   "pygments_lexer": "ipython3",
   "version": "3.8.15"
  }
 },
 "nbformat": 4,
 "nbformat_minor": 5
}
