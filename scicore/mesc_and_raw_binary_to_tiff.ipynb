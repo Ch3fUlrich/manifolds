{
 "cells": [
  {
   "cell_type": "code",
   "execution_count": 1,
   "id": "636b40dd-1e4b-4aaa-b0e1-25304199c397",
   "metadata": {},
   "outputs": [
    {
     "data": {
      "application/javascript": [
       "IPython.notebook.set_autosave_interval(180000)"
      ]
     },
     "metadata": {},
     "output_type": "display_data"
    },
    {
     "name": "stdout",
     "output_type": "stream",
     "text": [
      "Autosaving every 180 seconds\n"
     ]
    }
   ],
   "source": [
    "import matplotlib\n",
    "%matplotlib tk\n",
    "\n",
    "%autosave 180\n",
    "%load_ext autoreload\n",
    "%autoreload 2\n",
    "\n",
    "import nest_asyncio\n",
    "%config Completer.use_jedi = False\n",
    "\n",
    "# "
   ]
  },
  {
   "cell_type": "code",
   "execution_count": 2,
   "id": "e334554d-27ee-4e9d-bbb6-f683b62b72d1",
   "metadata": {},
   "outputs": [],
   "source": [
    "##############################################\n",
    "################# IMPORTS ####################\n",
    "##############################################\n",
    "import numpy as np\n",
    "import os\n",
    "\n",
    "#\n",
    "import pandas as pd\n",
    "import h5py\n",
    "from tifffile import tifffile, imread\n",
    "import pathlib\n",
    "#import suite2p\n",
    "\n",
    "\n",
    "###############################################\n",
    "################ HELPER FUNCTIONS #############\n",
    "###############################################\n",
    "\n",
    "def get_mouse_ids(header,\n",
    "                  dfs):\n",
    "    \n",
    "    #\n",
    "    header_ = np.array(header)\n",
    "\n",
    "    idx = np.where(header_=='mouse ID')[0][0]\n",
    "\n",
    "    ids = np.vstack(df.iloc[:,idx])\n",
    "\n",
    "    return ids.squeeze()\n",
    "\n",
    "def get_file_paths(header,\n",
    "                  dfs):\n",
    "    \n",
    "    #\n",
    "    header_ = np.array(header)\n",
    "\n",
    "    idx = np.where(header_=='path')[0][0]\n",
    "\n",
    "    paths = np.vstack(df.iloc[:,idx])\n",
    "\n",
    "    return paths.squeeze()\n",
    "\n",
    "def get_sessions(header,\n",
    "                 dfs):\n",
    "    \n",
    "    #\n",
    "    header_ = np.array(header)\n",
    "\n",
    "    idx = np.where(header_=='sessions')[0][0]\n",
    "\n",
    "    sessions = np.vstack(df.iloc[:,idx][:])\n",
    "\n",
    "    return sessions.squeeze()\n",
    "\n",
    "def convert_mesc_sessions_to_concatenated_tiff(fname, \n",
    "                                               sessions_in):\n",
    "    \n",
    "    fname_out = fname.replace('.mesc','.tif')\n",
    "\n",
    "    if os.path.exists(fname_out):\n",
    "        return fname_out\n",
    "    \n",
    "    sessions_in = sessions_in.replace(\" \", \"\").split (\",\")\n",
    "\n",
    "    #\n",
    "    sess_list = [] \n",
    "    for session in sessions_in:\n",
    "        temp = session.replace(\"S\",'')\n",
    "        temp = 'MUnit_'+str(int(temp)-1)\n",
    "        print (\"session loaded: \", temp)\n",
    "        sess_list.append(temp)\n",
    "    #\n",
    "    data = []\n",
    "    with h5py.File(fname, 'r') as file:\n",
    "                #\n",
    "        for sess in sess_list:\n",
    "            print (\"processing: \", sess)\n",
    "            temp = file['MSession_0'][sess]['Channel_0'][()]\n",
    "            print (\"    data loaded size: \", temp.shape)\n",
    "            data.append(temp)\n",
    "\n",
    "    data = np.vstack(data)\n",
    "    print(data.shape)\n",
    "\n",
    "    # from tifffile import tifffile\n",
    "    \n",
    "    tifffile.imwrite(fname_out, data)\n",
    "    \n",
    "    return fname_out\n",
    "\n",
    "\n",
    "def run_suite2p_from_fname(fname):\n",
    "\n",
    "    data = imread(fname)\n",
    "    print('imaging data of shape: ', data.shape)\n",
    "    n_time, Ly, Lx = data.shape\n",
    "\n",
    "    #\n",
    "    ops = suite2p.default_ops()\n",
    "    ops['batch_size'] = 200 # we will decrease the batch_size in case low RAM on computer\n",
    "    ops['threshold_scaling'] = 2.0 # we are increasing the threshold for finding ROIs to limit the number of non-cell ROIs found (sometimes useful in gcamp injections)\n",
    "    ops['fs'] = 30 # sampling rate of recording, determines binning for cell detection\n",
    "    ops['tau'] = 1.25 # timescale of gcamp to use for deconvolution\n",
    "    ops['save_path0'] = os.path.split(fname)[0]\n",
    "    ops['save_folder'] = os.path.split(fname)[0]\n",
    "    ops['tiff_list'] = [fname]\n",
    "\n",
    "    print(ops)\n",
    "\n",
    "    #\n",
    "    db = {\n",
    "        'data_path': os.path.split(fname)[0],\n",
    "    }\n",
    "    print(db)\n",
    "\n",
    "    #\n",
    "    output_ops = suite2p.run_s2p(ops=ops, db=db)\n",
    "\n",
    "      "
   ]
  },
  {
   "cell_type": "code",
   "execution_count": 20,
   "id": "0160bd96-0f23-40d0-8cb8-0bf2a3e78f6e",
   "metadata": {},
   "outputs": [
    {
     "name": "stdout",
     "output_type": "stream",
     "text": [
      "(6, 512, 512)\n",
      "(37161, 512, 512)\n"
     ]
    }
   ],
   "source": [
    "#\n",
    "fname = '/media/cat/4TB1/donato/anja/20221109.mesc'\n",
    "sessions_in = 'S2'\n",
    "\n",
    "#\n",
    "data = []\n",
    "with h5py.File(fname, 'r') as file:\n",
    "            #\n",
    "    temp = file['MSession_0']['MUnit_0']['Channel_0'][()]\n",
    "    print (temp.shape)\n",
    "    temp = file['MSession_0']['MUnit_1']['Channel_0']\n",
    "    print (temp.shape)\n",
    "    \n",
    "            "
   ]
  },
  {
   "cell_type": "code",
   "execution_count": 3,
   "id": "504b7457-ff65-4e35-a370-7b62b98b0d52",
   "metadata": {},
   "outputs": [
    {
     "name": "stdout",
     "output_type": "stream",
     "text": [
      "...DONE...\n"
     ]
    }
   ],
   "source": [
    "################################################################################\n",
    "############################## READ SPREADSHEET ################################\n",
    "################################################################################\n",
    "#\n",
    "fname = '/media/cat/4TB1/donato/DON-10775/22-08-10/data/Image_001_001.raw'\n",
    "fname = '/media/cat/4TB/donato/andres/DON011733/20230118/calibration/Image_001_001.raw'\n",
    "data = np.memmap(fname,\n",
    "               dtype='uint16',\n",
    "               mode='r')\n",
    "\n",
    "data = data.reshape(-1, 512,512)\n",
    "    \n",
    "fname_out = fname.replace('.raw','.tiff')\n",
    "\n",
    "tifffile.imwrite(fname_out, data)\n",
    "\n",
    "#\n",
    "print (\"...DONE...\")\n",
    "    \n"
   ]
  },
  {
   "cell_type": "code",
   "execution_count": 12,
   "id": "7749579a-94f5-4ce3-a82e-bdc584ab8905",
   "metadata": {},
   "outputs": [],
   "source": [
    "import matplotlib.pyplot as plt\n",
    "\n",
    "#\n",
    "plt.figure()\n",
    "plt.imshow(data[10000:11000].mean(0))\n",
    "plt.colorbar()\n",
    "plt.show()\n",
    "\n"
   ]
  },
  {
   "cell_type": "code",
   "execution_count": null,
   "id": "f606c2b7-9eee-49b5-8749-46fa9603025d",
   "metadata": {},
   "outputs": [],
   "source": []
  },
  {
   "cell_type": "code",
   "execution_count": 31,
   "id": "b974cd36-6792-448b-9d1d-64cfd09568c6",
   "metadata": {},
   "outputs": [
    {
     "name": "stderr",
     "output_type": "stream",
     "text": [
      "  0%|                                                                                                                 | 0/180 [00:00<?, ?it/s]\n"
     ]
    },
    {
     "ename": "FileNotFoundError",
     "evalue": "[Errno 2] No such file or directory: '/media/cat/4TB1/donato/DON-10775/22-08-10/data/suite2p/plane0/reg_tif/file000_chan0.tif'",
     "output_type": "error",
     "traceback": [
      "\u001b[0;31m---------------------------------------------------------------------------\u001b[0m",
      "\u001b[0;31mFileNotFoundError\u001b[0m                         Traceback (most recent call last)",
      "\u001b[0;32m/tmp/ipykernel_131449/1918330336.py\u001b[0m in \u001b[0;36m<module>\u001b[0;34m\u001b[0m\n\u001b[1;32m     15\u001b[0m \u001b[0;32mfor\u001b[0m \u001b[0mfname\u001b[0m \u001b[0;32min\u001b[0m \u001b[0mtqdm\u001b[0m\u001b[0;34m(\u001b[0m\u001b[0mfnames\u001b[0m\u001b[0;34m)\u001b[0m\u001b[0;34m:\u001b[0m\u001b[0;34m\u001b[0m\u001b[0;34m\u001b[0m\u001b[0m\n\u001b[1;32m     16\u001b[0m     \u001b[0;31m#print (\"fname: \", fname)\u001b[0m\u001b[0;34m\u001b[0m\u001b[0;34m\u001b[0m\u001b[0;34m\u001b[0m\u001b[0m\n\u001b[0;32m---> 17\u001b[0;31m     \u001b[0mdata\u001b[0m \u001b[0;34m=\u001b[0m \u001b[0mtifffile\u001b[0m\u001b[0;34m.\u001b[0m\u001b[0mimread\u001b[0m\u001b[0;34m(\u001b[0m\u001b[0mfname\u001b[0m\u001b[0;34m,\u001b[0m \u001b[0mkey\u001b[0m \u001b[0;34m=\u001b[0m \u001b[0mnp\u001b[0m\u001b[0;34m.\u001b[0m\u001b[0marange\u001b[0m\u001b[0;34m(\u001b[0m\u001b[0;36m500\u001b[0m\u001b[0;34m)\u001b[0m\u001b[0;34m)\u001b[0m\u001b[0;34m\u001b[0m\u001b[0;34m\u001b[0m\u001b[0m\n\u001b[0m\u001b[1;32m     18\u001b[0m     \u001b[0;31m#data = cv2.imread(fname)\u001b[0m\u001b[0;34m\u001b[0m\u001b[0;34m\u001b[0m\u001b[0;34m\u001b[0m\u001b[0m\n\u001b[1;32m     19\u001b[0m     \u001b[0;31m#data = skio.imread(fname, plugin=\"tifffile\")\u001b[0m\u001b[0;34m\u001b[0m\u001b[0;34m\u001b[0m\u001b[0;34m\u001b[0m\u001b[0m\n",
      "\u001b[0;32m~/anaconda3/envs/manifolds/lib/python3.8/site-packages/tifffile/tifffile.py\u001b[0m in \u001b[0;36mimread\u001b[0;34m(files, aszarr, **kwargs)\u001b[0m\n\u001b[1;32m    710\u001b[0m \u001b[0;34m\u001b[0m\u001b[0m\n\u001b[1;32m    711\u001b[0m         \u001b[0;32mif\u001b[0m \u001b[0misinstance\u001b[0m\u001b[0;34m(\u001b[0m\u001b[0mfiles\u001b[0m\u001b[0;34m,\u001b[0m \u001b[0;34m(\u001b[0m\u001b[0mstr\u001b[0m\u001b[0;34m,\u001b[0m \u001b[0mos\u001b[0m\u001b[0;34m.\u001b[0m\u001b[0mPathLike\u001b[0m\u001b[0;34m)\u001b[0m\u001b[0;34m)\u001b[0m \u001b[0;32mor\u001b[0m \u001b[0mhasattr\u001b[0m\u001b[0;34m(\u001b[0m\u001b[0mfiles\u001b[0m\u001b[0;34m,\u001b[0m \u001b[0;34m'seek'\u001b[0m\u001b[0;34m)\u001b[0m\u001b[0;34m:\u001b[0m\u001b[0;34m\u001b[0m\u001b[0;34m\u001b[0m\u001b[0m\n\u001b[0;32m--> 712\u001b[0;31m             \u001b[0;32mwith\u001b[0m \u001b[0mTiffFile\u001b[0m\u001b[0;34m(\u001b[0m\u001b[0mfiles\u001b[0m\u001b[0;34m,\u001b[0m \u001b[0;34m**\u001b[0m\u001b[0mkwargs_file\u001b[0m\u001b[0;34m)\u001b[0m \u001b[0;32mas\u001b[0m \u001b[0mtif\u001b[0m\u001b[0;34m:\u001b[0m\u001b[0;34m\u001b[0m\u001b[0;34m\u001b[0m\u001b[0m\n\u001b[0m\u001b[1;32m    713\u001b[0m                 \u001b[0;32mif\u001b[0m \u001b[0maszarr\u001b[0m\u001b[0;34m:\u001b[0m\u001b[0;34m\u001b[0m\u001b[0;34m\u001b[0m\u001b[0m\n\u001b[1;32m    714\u001b[0m                     \u001b[0;32mreturn\u001b[0m \u001b[0mtif\u001b[0m\u001b[0;34m.\u001b[0m\u001b[0maszarr\u001b[0m\u001b[0;34m(\u001b[0m\u001b[0;34m**\u001b[0m\u001b[0mkwargs\u001b[0m\u001b[0;34m)\u001b[0m\u001b[0;34m\u001b[0m\u001b[0;34m\u001b[0m\u001b[0m\n",
      "\u001b[0;32m~/anaconda3/envs/manifolds/lib/python3.8/site-packages/tifffile/tifffile.py\u001b[0m in \u001b[0;36m__init__\u001b[0;34m(self, arg, name, offset, size, _multifile, _useframes, _master, **kwargs)\u001b[0m\n\u001b[1;32m   2742\u001b[0m                     \u001b[0;32mraise\u001b[0m \u001b[0mTypeError\u001b[0m\u001b[0;34m(\u001b[0m\u001b[0;34mf'unexpected keyword argument: {key}'\u001b[0m\u001b[0;34m)\u001b[0m\u001b[0;34m\u001b[0m\u001b[0;34m\u001b[0m\u001b[0m\n\u001b[1;32m   2743\u001b[0m \u001b[0;34m\u001b[0m\u001b[0m\n\u001b[0;32m-> 2744\u001b[0;31m         \u001b[0mfh\u001b[0m \u001b[0;34m=\u001b[0m \u001b[0mFileHandle\u001b[0m\u001b[0;34m(\u001b[0m\u001b[0marg\u001b[0m\u001b[0;34m,\u001b[0m \u001b[0mmode\u001b[0m\u001b[0;34m=\u001b[0m\u001b[0;34m'rb'\u001b[0m\u001b[0;34m,\u001b[0m \u001b[0mname\u001b[0m\u001b[0;34m=\u001b[0m\u001b[0mname\u001b[0m\u001b[0;34m,\u001b[0m \u001b[0moffset\u001b[0m\u001b[0;34m=\u001b[0m\u001b[0moffset\u001b[0m\u001b[0;34m,\u001b[0m \u001b[0msize\u001b[0m\u001b[0;34m=\u001b[0m\u001b[0msize\u001b[0m\u001b[0;34m)\u001b[0m\u001b[0;34m\u001b[0m\u001b[0;34m\u001b[0m\u001b[0m\n\u001b[0m\u001b[1;32m   2745\u001b[0m         \u001b[0mself\u001b[0m\u001b[0;34m.\u001b[0m\u001b[0m_fh\u001b[0m \u001b[0;34m=\u001b[0m \u001b[0mfh\u001b[0m\u001b[0;34m\u001b[0m\u001b[0;34m\u001b[0m\u001b[0m\n\u001b[1;32m   2746\u001b[0m         \u001b[0mself\u001b[0m\u001b[0;34m.\u001b[0m\u001b[0m_multifile\u001b[0m \u001b[0;34m=\u001b[0m \u001b[0mbool\u001b[0m\u001b[0;34m(\u001b[0m\u001b[0m_multifile\u001b[0m\u001b[0;34m)\u001b[0m\u001b[0;34m\u001b[0m\u001b[0;34m\u001b[0m\u001b[0m\n",
      "\u001b[0;32m~/anaconda3/envs/manifolds/lib/python3.8/site-packages/tifffile/tifffile.py\u001b[0m in \u001b[0;36m__init__\u001b[0;34m(self, file, mode, name, offset, size)\u001b[0m\n\u001b[1;32m   8209\u001b[0m         \u001b[0mself\u001b[0m\u001b[0;34m.\u001b[0m\u001b[0mis_file\u001b[0m \u001b[0;34m=\u001b[0m \u001b[0;32mNone\u001b[0m\u001b[0;34m\u001b[0m\u001b[0;34m\u001b[0m\u001b[0m\n\u001b[1;32m   8210\u001b[0m         \u001b[0mself\u001b[0m\u001b[0;34m.\u001b[0m\u001b[0m_lock\u001b[0m \u001b[0;34m=\u001b[0m \u001b[0mNullContext\u001b[0m\u001b[0;34m(\u001b[0m\u001b[0;34m)\u001b[0m\u001b[0;34m\u001b[0m\u001b[0;34m\u001b[0m\u001b[0m\n\u001b[0;32m-> 8211\u001b[0;31m         \u001b[0mself\u001b[0m\u001b[0;34m.\u001b[0m\u001b[0mopen\u001b[0m\u001b[0;34m(\u001b[0m\u001b[0;34m)\u001b[0m\u001b[0;34m\u001b[0m\u001b[0;34m\u001b[0m\u001b[0m\n\u001b[0m\u001b[1;32m   8212\u001b[0m \u001b[0;34m\u001b[0m\u001b[0m\n\u001b[1;32m   8213\u001b[0m     \u001b[0;32mdef\u001b[0m \u001b[0mopen\u001b[0m\u001b[0;34m(\u001b[0m\u001b[0mself\u001b[0m\u001b[0;34m)\u001b[0m\u001b[0;34m:\u001b[0m\u001b[0;34m\u001b[0m\u001b[0;34m\u001b[0m\u001b[0m\n",
      "\u001b[0;32m~/anaconda3/envs/manifolds/lib/python3.8/site-packages/tifffile/tifffile.py\u001b[0m in \u001b[0;36mopen\u001b[0;34m(self)\u001b[0m\n\u001b[1;32m   8222\u001b[0m             \u001b[0mself\u001b[0m\u001b[0;34m.\u001b[0m\u001b[0m_file\u001b[0m \u001b[0;34m=\u001b[0m \u001b[0mos\u001b[0m\u001b[0;34m.\u001b[0m\u001b[0mpath\u001b[0m\u001b[0;34m.\u001b[0m\u001b[0mrealpath\u001b[0m\u001b[0;34m(\u001b[0m\u001b[0mself\u001b[0m\u001b[0;34m.\u001b[0m\u001b[0m_file\u001b[0m\u001b[0;34m)\u001b[0m\u001b[0;34m\u001b[0m\u001b[0;34m\u001b[0m\u001b[0m\n\u001b[1;32m   8223\u001b[0m             \u001b[0mself\u001b[0m\u001b[0;34m.\u001b[0m\u001b[0m_dir\u001b[0m\u001b[0;34m,\u001b[0m \u001b[0mself\u001b[0m\u001b[0;34m.\u001b[0m\u001b[0m_name\u001b[0m \u001b[0;34m=\u001b[0m \u001b[0mos\u001b[0m\u001b[0;34m.\u001b[0m\u001b[0mpath\u001b[0m\u001b[0;34m.\u001b[0m\u001b[0msplit\u001b[0m\u001b[0;34m(\u001b[0m\u001b[0mself\u001b[0m\u001b[0;34m.\u001b[0m\u001b[0m_file\u001b[0m\u001b[0;34m)\u001b[0m\u001b[0;34m\u001b[0m\u001b[0;34m\u001b[0m\u001b[0m\n\u001b[0;32m-> 8224\u001b[0;31m             \u001b[0mself\u001b[0m\u001b[0;34m.\u001b[0m\u001b[0m_fh\u001b[0m \u001b[0;34m=\u001b[0m \u001b[0mopen\u001b[0m\u001b[0;34m(\u001b[0m\u001b[0mself\u001b[0m\u001b[0;34m.\u001b[0m\u001b[0m_file\u001b[0m\u001b[0;34m,\u001b[0m \u001b[0mself\u001b[0m\u001b[0;34m.\u001b[0m\u001b[0m_mode\u001b[0m\u001b[0;34m)\u001b[0m\u001b[0;34m\u001b[0m\u001b[0;34m\u001b[0m\u001b[0m\n\u001b[0m\u001b[1;32m   8225\u001b[0m             \u001b[0mself\u001b[0m\u001b[0;34m.\u001b[0m\u001b[0m_close\u001b[0m \u001b[0;34m=\u001b[0m \u001b[0;32mTrue\u001b[0m\u001b[0;34m\u001b[0m\u001b[0;34m\u001b[0m\u001b[0m\n\u001b[1;32m   8226\u001b[0m             \u001b[0;32mif\u001b[0m \u001b[0mself\u001b[0m\u001b[0;34m.\u001b[0m\u001b[0m_offset\u001b[0m \u001b[0;32mis\u001b[0m \u001b[0;32mNone\u001b[0m\u001b[0;34m:\u001b[0m\u001b[0;34m\u001b[0m\u001b[0;34m\u001b[0m\u001b[0m\n",
      "\u001b[0;31mFileNotFoundError\u001b[0m: [Errno 2] No such file or directory: '/media/cat/4TB1/donato/DON-10775/22-08-10/data/suite2p/plane0/reg_tif/file000_chan0.tif'"
     ]
    }
   ],
   "source": [
    "from tqdm import tqdm\n",
    "\n",
    "\n",
    "#image = cv2.imread('tif_file.tif')\n",
    "#image = np.asarray(image,dtype = np.float64)\n",
    "\n",
    "fnames= np.loadtxt('/home/cat/registered_tiff_list.txt', dtype='str')\n",
    "#print (fnames)\n",
    "\n",
    "# \n",
    "f = open('/media/cat/4TB1/donato/DON-10775/22-08-10/data/suite2p/plane0/data_registered.bin', 'ab')\n",
    "\n",
    "#\n",
    "ctr=0\n",
    "for fname in tqdm(fnames):\n",
    "    #print (\"fname: \", fname)\n",
    "    data = tifffile.imread(fname, key = np.arange(500))\n",
    "    #data = cv2.imread(fname)\n",
    "    #data = skio.imread(fname, plugin=\"tifffile\")\n",
    "    \n",
    "    #print (data.shape)\n",
    "    f.write(data)\n",
    "    ctr+=1\n",
    "    if ctr>20:\n",
    "        break\n",
    "        \n",
    "#\n",
    "f.close()\n"
   ]
  },
  {
   "cell_type": "code",
   "execution_count": null,
   "id": "4b2e5008-a8a7-446d-9e30-aa61df451757",
   "metadata": {},
   "outputs": [],
   "source": []
  },
  {
   "cell_type": "code",
   "execution_count": 30,
   "id": "f37afd3e-115b-42e2-b9ea-21b5ffff8968",
   "metadata": {},
   "outputs": [
    {
     "ename": "ValueError",
     "evalue": "cannot reshape array of size 25248792576 into shape (512,512)",
     "output_type": "error",
     "traceback": [
      "\u001b[0;31m---------------------------------------------------------------------------\u001b[0m",
      "\u001b[0;31mValueError\u001b[0m                                Traceback (most recent call last)",
      "\u001b[0;32m/tmp/ipykernel_131449/850768012.py\u001b[0m in \u001b[0;36m<module>\u001b[0;34m\u001b[0m\n\u001b[1;32m      4\u001b[0m                mode='r')\n\u001b[1;32m      5\u001b[0m \u001b[0;34m\u001b[0m\u001b[0m\n\u001b[0;32m----> 6\u001b[0;31m \u001b[0mdata\u001b[0m \u001b[0;34m=\u001b[0m \u001b[0mdata\u001b[0m\u001b[0;34m.\u001b[0m\u001b[0mreshape\u001b[0m\u001b[0;34m(\u001b[0m\u001b[0;34m-\u001b[0m\u001b[0;36m1\u001b[0m\u001b[0;34m,\u001b[0m \u001b[0;36m512\u001b[0m\u001b[0;34m,\u001b[0m\u001b[0;36m512\u001b[0m\u001b[0;34m)\u001b[0m\u001b[0;34m\u001b[0m\u001b[0;34m\u001b[0m\u001b[0m\n\u001b[0m\u001b[1;32m      7\u001b[0m \u001b[0mprint\u001b[0m \u001b[0;34m(\u001b[0m\u001b[0mdata\u001b[0m\u001b[0;34m.\u001b[0m\u001b[0mshape\u001b[0m\u001b[0;34m)\u001b[0m\u001b[0;34m\u001b[0m\u001b[0;34m\u001b[0m\u001b[0m\n",
      "\u001b[0;31mValueError\u001b[0m: cannot reshape array of size 25248792576 into shape (512,512)"
     ]
    }
   ],
   "source": [
    "fname = '/media/cat/4TB1/donato/DON-10775/22-08-10/bmi_rerun/data/Image_001_001.raw'\n",
    "data = np.memmap(fname,\n",
    "               dtype='uint16',\n",
    "               mode='r')\n",
    "\n",
    "data = data.reshape(-1, 512,512)\n",
    "print (data.shape)"
   ]
  },
  {
   "cell_type": "code",
   "execution_count": null,
   "id": "63b3e15d-8e7b-4602-91ae-4ffe79d33e3d",
   "metadata": {},
   "outputs": [],
   "source": []
  },
  {
   "cell_type": "code",
   "execution_count": 32,
   "id": "059a82fb-18a9-41c6-8c53-69b3d71e1e95",
   "metadata": {},
   "outputs": [
    {
     "name": "stdout",
     "output_type": "stream",
     "text": [
      "86\n",
      "{'suite2p_version': '0.10.1', 'look_one_level_down': 0.0, 'fast_disk': [], 'delete_bin': True, 'mesoscan': False, 'bruker': False, 'bruker_bidirectional': False, 'h5py': [], 'h5py_key': 'data', 'nwb_file': '', 'nwb_driver': '', 'nwb_series': '', 'save_path0': [], 'save_folder': [], 'subfolders': [], 'move_bin': False, 'nplanes': 1, 'nchannels': 1, 'functional_chan': 1, 'tau': 1.0, 'fs': 30.947, 'force_sktiff': False, 'frames_include': -1, 'multiplane_parallel': 0.0, 'ignore_flyback': [], 'preclassify': 0.0, 'save_mat': True, 'save_NWB': 0.0, 'combined': 1.0, 'aspect': 1.0, 'do_bidiphase': False, 'bidiphase': 0.0, 'bidi_corrected': False, 'do_registration': 1, 'two_step_registration': 0.0, 'keep_movie_raw': False, 'nimg_init': 500, 'batch_size': 500, 'maxregshift': 0.1, 'align_by_chan': 1, 'reg_tif': True, 'reg_tif_chan2': False, 'subpixel': 10, 'smooth_sigma_time': 0.0, 'smooth_sigma': 1.15, 'th_badframes': 100.0, 'norm_frames': True, 'force_refImg': False, 'pad_fft': False, 'nonrigid': True, 'block_size': [128, 128], 'snr_thresh': 1.2, 'maxregshiftNR': 5.0, '1Preg': False, 'spatial_hp': 42, 'spatial_hp_reg': 42.0, 'spatial_hp_detect': 25, 'pre_smooth': 0.0, 'spatial_taper': 40.0, 'roidetect': True, 'spikedetect': True, 'anatomical_only': 0.0, 'cellprob_threshold': 0.0, 'flow_threshold': 1.5, 'sparse_mode': True, 'diameter': [9, 9], 'spatial_scale': 0, 'connected': True, 'nbinned': 5000, 'max_iterations': 20, 'threshold_scaling': 1.0, 'max_overlap': 0.75, 'high_pass': 100.0, 'denoise': 0.0, 'soma_crop': 1.0, 'neuropil_extract': True, 'inner_neuropil_radius': 2, 'min_neuropil_pixels': 350, 'lam_percentile': 50.0, 'allow_overlap': True, 'use_builtin_classifier': False, 'classifier_path': 0, 'chan2_thres': 0.65, 'baseline': 'maximin', 'win_baseline': 60.0, 'sig_baseline': 10.0, 'prctile_baseline': 8.0, 'neucoeff': 0.7, 'input_format': 'tif'}\n"
     ]
    }
   ],
   "source": [
    "import suite2p, numpy as np\n",
    "\n",
    "def load_params(fname_ops, ops):\n",
    "    \n",
    "    ps_read = np.load(fname_ops,\n",
    "                  allow_pickle=True).tolist()\n",
    "    #print (\"ops_read: \", ops_read)\n",
    "    print (len(ops_read))\n",
    "    names = []\n",
    "    vals = []\n",
    "    for o in ops_read:\n",
    "        ops[o] = ops_read[o]    \n",
    "        \n",
    "    return ops\n",
    "#\n",
    "fname_ops = '/media/cat/4TB1/donato/steffen/scicore/Steffen/ops_CA3.npy'\n",
    "ops = suite2p.default_ops()\n",
    "\n",
    "ops = load_params(fname_ops, ops)\n",
    "print (ops)\n",
    "#ops['batch_size'] = 200 # we will decrease the batch_size in case low RAM on computer\n",
    "#ops['threshold_scaling'] = 2.0 # we are increasing the threshold for finding ROIs to limit the number of non-cell ROIs found (sometimes useful in gcamp injections)\n",
    "#ops['fs'] = 30 # sampling rate of recording, determines binning for cell detection\n",
    "#ops['tau'] = 1.25 # timescale of gcamp to use for deconvolution\n",
    "#ops['save_path0'] = os.path.split(fname)[0]\n",
    "#ops['save_folder'] = os.path.split(fname)[0]\n",
    "#ops['tiff_list'] = [fname]\n",
    "\n",
    "#print(ops)\n",
    "\n"
   ]
  },
  {
   "cell_type": "code",
   "execution_count": null,
   "id": "d3a8a560-0e0e-401e-b28d-38b3a3102f69",
   "metadata": {},
   "outputs": [],
   "source": []
  },
  {
   "cell_type": "code",
   "execution_count": null,
   "id": "c41ecf49-0979-47d8-9393-3dd101cb318c",
   "metadata": {},
   "outputs": [],
   "source": []
  },
  {
   "cell_type": "code",
   "execution_count": null,
   "id": "fce68025-d3b6-4003-a70f-16c8f9f77a6d",
   "metadata": {},
   "outputs": [],
   "source": []
  },
  {
   "cell_type": "code",
   "execution_count": null,
   "id": "5b2d39aa-de00-4501-8b60-c6051f9da477",
   "metadata": {},
   "outputs": [],
   "source": []
  },
  {
   "cell_type": "code",
   "execution_count": null,
   "id": "f020b424-8959-4ba1-bc32-6235d64aa067",
   "metadata": {},
   "outputs": [],
   "source": []
  },
  {
   "cell_type": "code",
   "execution_count": null,
   "id": "1a0c624e-21a8-4f38-aaee-dd35f0cecb42",
   "metadata": {},
   "outputs": [],
   "source": []
  },
  {
   "cell_type": "code",
   "execution_count": null,
   "id": "92a5edca-69c6-4526-9ef8-6952ae559989",
   "metadata": {},
   "outputs": [],
   "source": []
  }
 ],
 "metadata": {
  "kernelspec": {
   "display_name": "Python 3",
   "language": "python",
   "name": "python3"
  },
  "language_info": {
   "codemirror_mode": {
    "name": "ipython",
    "version": 3
   },
   "file_extension": ".py",
   "mimetype": "text/x-python",
   "name": "python",
   "nbconvert_exporter": "python",
   "pygments_lexer": "ipython3",
   "version": "3.8.15"
  }
 },
 "nbformat": 4,
 "nbformat_minor": 5
}
