{
 "cells": [
  {
   "cell_type": "code",
   "execution_count": 2,
   "id": "38265774",
   "metadata": {},
   "outputs": [
    {
     "data": {
      "application/javascript": "IPython.notebook.set_autosave_interval(180000)"
     },
     "metadata": {},
     "output_type": "display_data"
    },
    {
     "name": "stdout",
     "output_type": "stream",
     "text": [
      "Autosaving every 180 seconds\n",
      "The autoreload extension is already loaded. To reload it, use:\n",
      "  %reload_ext autoreload\n"
     ]
    }
   ],
   "source": [
    "# Saving settings\n",
    "%autosave 180\n",
    "%load_ext autoreload\n",
    "%autoreload 2\n",
    "\n",
    "import matplotlib.pyplot as plt\n",
    "%matplotlib inline\n",
    "\n",
    "# Computing\n",
    "import numpy as np\n",
    "\n",
    "# Files\n",
    "from utils_local import Animal, ProjectionDecoder\n",
    "\n",
    "#"
   ]
  },
  {
   "cell_type": "code",
   "execution_count": 10,
   "id": "8d48dada-d7ee-4fc5-8096-08d8b823b1e9",
   "metadata": {},
   "outputs": [
    {
     "name": "stdout",
     "output_type": "stream",
     "text": [
      "... processing location csv\n",
      "...processing neural data...\n",
      "bin upphase:  (357, 36025)\n",
      "All DLC locations:  (36000, 2)\n",
      "Final locations shape:  (36000, 2)\n",
      "bin upphase:  (357, 36025)\n",
      "(36000, 357)\n",
      "1364.0284 1376.2297\n",
      "DONE\n",
      "...done...\n"
     ]
    }
   ],
   "source": [
    "# Select the directory with the input data\n",
    "main_dir = \"/media/cat/4TB/donato/nathalie\"\n",
    "animal_id = \"DON-007417\"\n",
    "animal_id = \"DON-007050\"\n",
    "session_id = \"FS11\"\n",
    "\n",
    "#\n",
    "ani = Animal(main_dir,\n",
    "              animal_id,\n",
    "              session_id)\n"
   ]
  },
  {
   "cell_type": "code",
   "execution_count": 12,
   "id": "18d76f7b-7f26-41d7-8b05-d2b2122a1629",
   "metadata": {},
   "outputs": [
    {
     "name": "stdout",
     "output_type": "stream",
     "text": [
      "Time moving:  750.3 , time not moving:  1049.7\n",
      "total time, total cells:  (15006, 357)\n",
      "length of moving period:  750.3 sec\n",
      "Frames with non-zero activity:  600.1  sec.\n",
      "# cells with some activity in the period:  (270,)\n",
      "X_in.shape:  (12002, 270)\n",
      "y_in.shape:  (12002, 2)\n"
     ]
    },
    {
     "name": "stderr",
     "output_type": "stream",
     "text": [
      "  6%|▋         | 17/270 [00:00<00:06, 41.57it/s]/home/cat/.conda/envs/bmi/lib/python3.8/site-packages/statsmodels/genmod/families/links.py:516: RuntimeWarning: overflow encountered in exp\n",
      "  return np.exp(z)\n",
      "/home/cat/.conda/envs/bmi/lib/python3.8/site-packages/statsmodels/genmod/families/family.py:428: RuntimeWarning: overflow encountered in multiply\n",
      "  return 2 * resid_dev\n",
      "/home/cat/.conda/envs/bmi/lib/python3.8/site-packages/statsmodels/genmod/families/family.py:132: RuntimeWarning: invalid value encountered in multiply\n",
      "  return 1. / (self.link.deriv(mu)**2 * self.variance(mu))\n",
      "/home/cat/.conda/envs/bmi/lib/python3.8/site-packages/statsmodels/genmod/families/family.py:132: RuntimeWarning: divide by zero encountered in divide\n",
      "  return 1. / (self.link.deriv(mu)**2 * self.variance(mu))\n",
      "/home/cat/.conda/envs/bmi/lib/python3.8/site-packages/statsmodels/genmod/generalized_linear_model.py:1211: RuntimeWarning: invalid value encountered in multiply\n",
      "  wlsendog = (lin_pred + self.family.link.deriv(mu) * (self.endog-mu)\n",
      " 13%|█▎        | 34/270 [00:00<00:04, 52.97it/s]"
     ]
    },
    {
     "name": "stdout",
     "output_type": "stream",
     "text": [
      "ERROR in CELL\n"
     ]
    },
    {
     "name": "stderr",
     "output_type": "stream",
     "text": [
      "100%|██████████| 270/270 [00:04<00:00, 66.05it/s]\n"
     ]
    },
    {
     "name": "stdout",
     "output_type": "stream",
     "text": [
      "test removed from training set because too far  3.0635576  cm\n"
     ]
    },
    {
     "name": "stderr",
     "output_type": "stream",
     "text": [
      "100%|██████████| 2996/2996 [00:02<00:00, 1262.53it/s]\n",
      "100%|██████████| 19749/19749 [00:15<00:00, 1259.12it/s]\n"
     ]
    },
    {
     "data": {
      "image/png": "[encoded data removed]",
      "text/plain": [
       "<Figure size 640x480 with 1 Axes>"
      ]
     },
     "metadata": {},
     "output_type": "display_data"
    },
    {
     "name": "stderr",
     "output_type": "stream",
     "text": [
      "/home/cat/.conda/envs/bmi/lib/python3.8/site-packages/numpy/lib/npyio.py:716: VisibleDeprecationWarning: Creating an ndarray from ragged nested sequences (which is a list-or-tuple of lists-or-tuples-or ndarrays with different lengths or shapes) is deprecated. If you meant to do this, you must specify 'dtype=object' when creating the ndarray.\n",
      "  val = np.asanyarray(val)\n"
     ]
    },
    {
     "name": "stdout",
     "output_type": "stream",
     "text": [
      "\n"
     ]
    },
    {
     "ename": "",
     "evalue": "",
     "output_type": "error",
     "traceback": [
      "\u001b[1;31mThe Kernel crashed while executing code in the the current cell or a previous cell. Please review the code in the cell(s) to identify a possible cause of the failure. Click <a href='https://aka.ms/vscodeJupyterKernelCrash'>here</a> for more info. View Jupyter <a href='command:jupyter.viewOutput'>log</a> for further details."
     ]
    }
   ],
   "source": [
    "# bayesian_decoder\n",
    "ani.speed_threshold = 2 #Set a threshold for the speed\n",
    "ani.use_place_cells = False\n",
    "ani.shuffle = False\n",
    "ani.data_split = 0.8\n",
    "ani.predict_immobile = False\n",
    "ani.remove_nonvisited_locs = True\n",
    "\n",
    "#\n",
    "ani.plot_bayesian_decoding = True\n",
    "\n",
    "# this uses the utils/decode Class for this <- this is the generic class for overall use\n",
    "ani.bayesian_decoding(ani)\n"
   ]
  },
  {
   "cell_type": "code",
   "execution_count": null,
   "id": "b935b095-8edc-420f-95db-a32db7b0b334",
   "metadata": {},
   "outputs": [],
   "source": []
  }
 ],
 "metadata": {
  "kernelspec": {
   "display_name": "Python 3",
   "language": "python",
   "name": "python3"
  },
  "language_info": {
   "codemirror_mode": {
    "name": "ipython",
    "version": 3
   },
   "file_extension": ".py",
   "mimetype": "text/x-python",
   "name": "python",
   "nbconvert_exporter": "python",
   "pygments_lexer": "ipython3",
   "version": "3.8.15"
  }
 },
 "nbformat": 4,
 "nbformat_minor": 5
}
