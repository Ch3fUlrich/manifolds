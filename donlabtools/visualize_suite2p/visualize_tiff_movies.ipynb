{
 "cells": [
  {
   "cell_type": "code",
   "execution_count": 1,
   "id": "611dc90f",
   "metadata": {},
   "outputs": [
    {
     "data": {
      "application/javascript": [
       "IPython.notebook.set_autosave_interval(180000)"
      ]
     },
     "metadata": {},
     "output_type": "display_data"
    },
    {
     "name": "stdout",
     "output_type": "stream",
     "text": [
      "Autosaving every 180 seconds\n"
     ]
    },
    {
     "name": "stderr",
     "output_type": "stream",
     "text": [
      "<ipython-input-1-156d6bfde458>:14: DeprecationWarning: Importing display from IPython.core.display is deprecated since IPython 7.14, please import from IPython display\n",
      "  from IPython.core.display import display, HTML\n"
     ]
    },
    {
     "data": {
      "text/html": [
       "<style>.container { width:100% !important; }</style>"
      ],
      "text/plain": [
       "<IPython.core.display.HTML object>"
      ]
     },
     "metadata": {},
     "output_type": "display_data"
    }
   ],
   "source": [
    "%matplotlib agg\n",
    "\n",
    "#\n",
    "import matplotlib\n",
    "%autosave 180\n",
    "%load_ext autoreload\n",
    "%autoreload 2\n",
    "\n",
    "import nest_asyncio\n",
    "%config Completer.use_jedi = False\n",
    "\n",
    "#\n",
    "import matplotlib.pyplot as plt\n",
    "from IPython.core.display import display, HTML\n",
    "display(HTML(\"<style>.container { width:100% !important; }</style>\"))\n",
    "\n",
    "# \n",
    "import numpy as np\n",
    "import os\n",
    "import scipy\n",
    "\n",
    "# add root directory to be able to import packages\n",
    "# todo: make all packages installable so they can be called/imported by environment\n",
    "import sys\n",
    "module_path = os.path.abspath('/home/cat/code/donatolab/')\n",
    "sys.path.append(module_path)\n",
    "\n",
    "#from utils.wheel import wheel\n",
    "#from utils.calcium import calcium\n"
   ]
  },
  {
   "cell_type": "code",
   "execution_count": 3,
   "id": "bd0fa06d-a674-4a94-931f-1beafe10c0dc",
   "metadata": {},
   "outputs": [
    {
     "name": "stderr",
     "output_type": "stream",
     "text": [
      "  0%|          | 0/334 [00:00<?, ?it/s]<ipython-input-3-a47507d91e8f>:72: DeprecationWarning: Starting with ImageIO v3 the behavior of this function will switch to that of iio.v3.imread. To keep the current behavior (and make this warning disappear) use `import imageio.v2 as imageio` or call `imageio.v2.imread` directly.\n",
      "  writer.append_data(imageio.imread('temp.png'))\n",
      "100%|██████████| 334/334 [01:23<00:00,  4.01it/s]\n",
      "100%|██████████| 334/334 [01:21<00:00,  4.08it/s]\n",
      "100%|██████████| 334/334 [01:22<00:00,  4.03it/s]\n"
     ]
    }
   ],
   "source": [
    "import cv2\n",
    "from tqdm import trange\n",
    "\n",
    "# Path to the TIFF file\n",
    "root_dir = \"/media/cat/4TB/donato/insular_cortex/\"\n",
    "animal_id = 'DON-015508'\n",
    "\n",
    "animal_ids = [\n",
    "    \n",
    "    #'DON-015506',\n",
    "    #'DON-015507',\n",
    "    #'DON-015508',\n",
    "    'DON-015509',\n",
    "    'DON-015510',\n",
    "    'DON-015512',\n",
    "    \n",
    "]\n",
    "\n",
    "for animal_id in animal_ids:\n",
    "    tiff_file = os.path.join(root_dir,\n",
    "                             animal_id,\n",
    "                             'data',\n",
    "                             'Image_001_001.tiff')\n",
    "\n",
    "    #                         \n",
    "    import matplotlib.pyplot as plt\n",
    "    import imageio\n",
    "    from tifffile import TiffFile\n",
    "    from scipy.ndimage import gaussian_filter\n",
    "\n",
    "    # Open the tiff file\n",
    "    try:\n",
    "        tiff = TiffFile(tiff_file)\n",
    "    except:\n",
    "        print (\"Couldn't find tiff file\")\n",
    "\n",
    "    # Get the image stack\n",
    "    stack = tiff.asarray()\n",
    "\n",
    "    # Create an imageio writer\n",
    "    writer = imageio.get_writer(tiff_file.replace('.tiff','.gif'), fps=5)\n",
    "\n",
    "    #\n",
    "    sigma = [1, 1, 0]\n",
    "\n",
    "    # Apply the Gaussian filter\n",
    "\n",
    "    # Loop through the slices\n",
    "    for i in trange(0, stack.shape[0], 30):\n",
    "\n",
    "        # Extract the slice\n",
    "        temp = stack[i:i+30, :, :]\n",
    "\n",
    "        # \n",
    "        smoothed_stack = gaussian_filter(temp, sigma)\n",
    "\n",
    "        #\n",
    "        temp = temp.mean(0)\n",
    "\n",
    "        # Plot the slice\n",
    "        fig, ax = plt.subplots()\n",
    "        ax.imshow(temp, cmap='gray')\n",
    "\n",
    "        plt.text(x=10, y=10, \n",
    "                 s=str(i/30)+ \" sec\", color='white', fontsize=20, \n",
    "                 ha='left', va='top', alpha=0.7)\n",
    "\n",
    "        # Save the current slice to a temporary .png file\n",
    "        plt.savefig('temp.png')\n",
    "\n",
    "        # Read the temporary .png file and add it to the movie\n",
    "        writer.append_data(imageio.imread('temp.png'))\n",
    "\n",
    "        # Close the figure to free up memory\n",
    "        plt.close(fig)\n",
    "\n",
    "        #\n",
    "        #if i>500:\n",
    "        #    break\n",
    "\n",
    "    # Close the writer\n",
    "    writer.close()"
   ]
  },
  {
   "cell_type": "code",
   "execution_count": null,
   "id": "3b8d2c64-817b-493b-8447-8b41f4ee89f6",
   "metadata": {},
   "outputs": [],
   "source": []
  },
  {
   "cell_type": "code",
   "execution_count": null,
   "id": "020fb78c-845f-4b01-a2f5-0a73c32e0d14",
   "metadata": {},
   "outputs": [],
   "source": []
  },
  {
   "cell_type": "code",
   "execution_count": null,
   "id": "2e7124d9-4cad-4117-a212-622a9bbaaab3",
   "metadata": {},
   "outputs": [],
   "source": []
  },
  {
   "cell_type": "code",
   "execution_count": 9,
   "id": "240d6ff7",
   "metadata": {
    "scrolled": true,
    "tags": []
   },
   "outputs": [
    {
     "name": "stdout",
     "output_type": "stream",
     "text": [
      "  Fluorescence data loading information\n",
      "         sample rate:  30 hz\n",
      "         self.F (fluorescence):  (93, 20000)\n",
      "         self.Fneu (neuropile):  (93, 20000)\n",
      "         self.iscell (Suite2p cell classifier output):  (306, 2)\n",
      "              of which number of good cells:  (93,)\n",
      "         self.spks (deconnvoved spikes):  (93, 20000)\n",
      "         self.stat (footprints structure):  (93,)\n",
      "         mean std over all cells :  57.0\n",
      "   todo: print binarization defaults...\n",
      "binarized data (# cells, # time points):  (93, 20000)\n"
     ]
    }
   ],
   "source": [
    "#############################################\n",
    "######### LOAD SUITE2P BINARIZED DATA #######\n",
    "#############################################\n",
    "\n",
    "# input directory where Suite2p outputs matlab Fall.mat and all .npy files\n",
    "# data_dir = '/media/cat/4TB/donato/steffen/DON-004366/20210228/'\n",
    "# data_dir = '/media/cat/4TB/donato/steffen/DON-004366/20210301/'\n",
    "#data_dir = '/media/cat/4TB/donato/DON-003343/DON-003343_20210214/suite2p/plane0/'\n",
    "# data_dir = '/media/cat/4TB/donato/nathalie/plane0'\n",
    "# data_dir = '/media/cat/4TB/donato/renan/renan'\n",
    "#data_dir = '/media/cat/4TB/donato/steffen/DON-004366/20210228/'\n",
    "data_dir = '/media/cat/4TB/donato/DON-006084/20210520/'\n",
    "\n",
    "data_dir = '/media/cat/4TB/donato/andres/DON011733/20230118/calibration/'\n",
    "\n",
    "# initialize calcium object and load suite2p data\n",
    "c = calcium.Calcium()\n",
    "c.verbose = True                          # outputs additional information during processing\n",
    "c.recompute_binarization = False           # recomputes binarization and other processing steps; False: loads from previous saved locations if avialable\n",
    "c.data_dir = data_dir\n",
    "c.load_suite2p()                          # this function assumes output dirs is either in data_dir OR data_dir/suite2p/plane0/\n",
    "c.save_matlab = False\n",
    "#\n",
    "c.detrend_model_order = 1\n",
    "\n",
    "#\n",
    "c.save_python = True\n",
    "\n",
    "#\n",
    "c.load_binarization()\n",
    "traces = c.F_upphase_bin    # c.F_upphase_bin\n",
    "\n",
    "print (\"binarized data (# cells, # time points): \", traces.shape)\n"
   ]
  },
  {
   "cell_type": "code",
   "execution_count": 10,
   "id": "cfac258e-def1-4296-b519-5fa1051df6c0",
   "metadata": {
    "tags": []
   },
   "outputs": [
    {
     "name": "stdout",
     "output_type": "stream",
     "text": [
      "# of footprints;  93\n",
      "# of contours:  93\n"
     ]
    }
   ],
   "source": [
    "#################################################\n",
    "############# LOAD CONTOURS ###################\n",
    "#################################################\n",
    "\n",
    "# this loads the suite2p footprints\n",
    "c.load_footprints()\n",
    "print (\"# of footprints; \", len(c.footprints))\n",
    "\n",
    "# these should be the contours that we can plot\n",
    "print (\"# of contours: \", len(c.contours))\n",
    "\n",
    "plt.figure()\n",
    "for k in range(len(c.footprints)):\n",
    "    plt.plot(c.contours[k][:,0], c.contours[k][:,1])\n",
    "plt.xlim(0,512)\n",
    "plt.ylim(0,512)\n",
    "plt.show()"
   ]
  },
  {
   "cell_type": "code",
   "execution_count": 4,
   "id": "8dce1020-b4e8-41a1-8758-e65aecfa1f7d",
   "metadata": {},
   "outputs": [
    {
     "name": "stdout",
     "output_type": "stream",
     "text": [
      "# of traces:  155\n"
     ]
    }
   ],
   "source": [
    "#################################################\n",
    "############# LOAD TRACES FOR ROIS ##############\n",
    "#################################################\n",
    "\n",
    "print (\"# of traces: \", len(c.F_filtered))\n",
    "\n",
    "plt.figure()\n",
    "plt.plot(c.F_filtered[0])\n",
    "plt.show()"
   ]
  },
  {
   "cell_type": "code",
   "execution_count": null,
   "id": "6fb367b9-10c3-444a-84e7-b018723f7241",
   "metadata": {},
   "outputs": [],
   "source": []
  },
  {
   "cell_type": "code",
   "execution_count": null,
   "id": "26a5d869-2836-4467-8fff-469dc43460b0",
   "metadata": {},
   "outputs": [],
   "source": []
  },
  {
   "cell_type": "code",
   "execution_count": null,
   "id": "f99a9019",
   "metadata": {},
   "outputs": [],
   "source": []
  },
  {
   "cell_type": "code",
   "execution_count": null,
   "id": "f6ce39e8",
   "metadata": {},
   "outputs": [],
   "source": []
  },
  {
   "cell_type": "code",
   "execution_count": null,
   "id": "8d1b6b80",
   "metadata": {},
   "outputs": [],
   "source": []
  },
  {
   "cell_type": "code",
   "execution_count": null,
   "id": "67585fad",
   "metadata": {},
   "outputs": [],
   "source": []
  },
  {
   "cell_type": "code",
   "execution_count": null,
   "id": "fe3d8bc0",
   "metadata": {},
   "outputs": [],
   "source": []
  },
  {
   "cell_type": "code",
   "execution_count": null,
   "id": "eb29474c",
   "metadata": {},
   "outputs": [],
   "source": []
  }
 ],
 "metadata": {
  "kernelspec": {
   "display_name": "Python 3",
   "language": "python",
   "name": "python3"
  },
  "language_info": {
   "codemirror_mode": {
    "name": "ipython",
    "version": 3
   },
   "file_extension": ".py",
   "mimetype": "text/x-python",
   "name": "python",
   "nbconvert_exporter": "python",
   "pygments_lexer": "ipython3",
   "version": "3.8.15"
  }
 },
 "nbformat": 4,
 "nbformat_minor": 5
}
