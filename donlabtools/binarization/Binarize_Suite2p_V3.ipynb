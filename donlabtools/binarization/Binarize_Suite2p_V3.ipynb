{
 "cells": [
  {
   "cell_type": "code",
   "execution_count": 1,
   "id": "611dc90f",
   "metadata": {},
   "outputs": [
    {
     "data": {
      "application/javascript": [
       "IPython.notebook.set_autosave_interval(180000)"
      ]
     },
     "metadata": {},
     "output_type": "display_data"
    },
    {
     "name": "stdout",
     "output_type": "stream",
     "text": [
      "Autosaving every 180 seconds\n"
     ]
    },
    {
     "name": "stderr",
     "output_type": "stream",
     "text": [
      "<ipython-input-1-eb2d793f7d38>:12: DeprecationWarning: Importing display from IPython.core.display is deprecated since IPython 7.14, please import from IPython display\n",
      "  from IPython.core.display import display, HTML\n"
     ]
    },
    {
     "data": {
      "text/html": [
       "<style>.container { width:100% !important; }</style>"
      ],
      "text/plain": [
       "<IPython.core.display.HTML object>"
      ]
     },
     "metadata": {},
     "output_type": "display_data"
    },
    {
     "name": "stderr",
     "output_type": "stream",
     "text": [
      "/home/cat/.conda/envs/donato/lib/python3.8/site-packages/tqdm/auto.py:22: TqdmWarning: IProgress not found. Please update jupyter and ipywidgets. See https://ipywidgets.readthedocs.io/en/stable/user_install.html\n",
      "  from .autonotebook import tqdm as notebook_tqdm\n"
     ]
    }
   ],
   "source": [
    "import matplotlib\n",
    "%matplotlib tk\n",
    "%autosave 180\n",
    "%load_ext autoreload\n",
    "%autoreload 2\n",
    "\n",
    "import nest_asyncio\n",
    "%config Completer.use_jedi = False\n",
    "\n",
    "#\n",
    "import matplotlib.pyplot as plt\n",
    "from IPython.core.display import display, HTML\n",
    "display(HTML(\"<style>.container { width:100% !important; }</style>\"))\n",
    "\n",
    "# \n",
    "import numpy as np\n",
    "import os\n",
    "import scipy\n",
    "\n",
    "# add root directory to be able to import packages\n",
    "# todo: make all packages installable so they can be called/imported by environment\n",
    "import sys\n",
    "module_path = os.path.abspath(os.path.join('..'))\n",
    "sys.path.append(module_path)\n",
    "\n",
    "from binarize2pcalcium import binarize2pcalcium as binca\n",
    "\n",
    "import yaml\n",
    "\n"
   ]
  },
  {
   "cell_type": "code",
   "execution_count": 2,
   "id": "240d6ff7",
   "metadata": {
    "scrolled": true
   },
   "outputs": [
    {
     "name": "stdout",
     "output_type": "stream",
     "text": [
      "\n",
      "BINARIZING:  None\n"
     ]
    },
    {
     "name": "stderr",
     "output_type": "stream",
     "text": [
      "low pass filter: 100%|██████████| 417/417 [00:00<00:00, 813.98it/s]\n",
      "model filter: remove bleaching or trends: 100%|██████████| 417/417 [00:09<00:00, 43.83it/s]\n",
      "420it [00:04, 86.89it/s]                         \n",
      "binarizing continuous traces filtered fluorescence onphase: 100%|██████████| 417/417 [00:03<00:00, 136.44it/s]\n",
      "binarizing continuous traces filtered fluorescence upphase: 100%|██████████| 417/417 [00:04<00:00, 97.81it/s] \n"
     ]
    },
    {
     "name": "stdout",
     "output_type": "stream",
     "text": [
      "...saving data...\n",
      "\n",
      "BINARIZING:  None\n"
     ]
    },
    {
     "name": "stderr",
     "output_type": "stream",
     "text": [
      "low pass filter: 100%|██████████| 417/417 [00:00<00:00, 828.96it/s]\n",
      "model filter: remove bleaching or trends: 100%|██████████| 417/417 [00:09<00:00, 43.84it/s]\n",
      "420it [00:04, 87.27it/s]                         \n",
      "binarizing continuous traces filtered fluorescence onphase: 100%|██████████| 417/417 [00:03<00:00, 127.09it/s]\n",
      "binarizing continuous traces filtered fluorescence upphase: 100%|██████████| 417/417 [00:04<00:00, 92.73it/s] \n"
     ]
    },
    {
     "name": "stdout",
     "output_type": "stream",
     "text": [
      "...saving data...\n",
      "\n",
      "BINARIZING:  None\n"
     ]
    },
    {
     "name": "stderr",
     "output_type": "stream",
     "text": [
      "low pass filter: 100%|██████████| 417/417 [00:00<00:00, 810.07it/s]\n",
      "model filter: remove bleaching or trends: 100%|██████████| 417/417 [00:09<00:00, 44.74it/s]\n",
      "420it [00:05, 79.06it/s]                         \n",
      "binarizing continuous traces filtered fluorescence onphase: 100%|██████████| 417/417 [00:03<00:00, 115.95it/s]\n",
      "binarizing continuous traces filtered fluorescence upphase: 100%|██████████| 417/417 [00:04<00:00, 86.42it/s] \n"
     ]
    },
    {
     "name": "stdout",
     "output_type": "stream",
     "text": [
      "...saving data...\n",
      "\n",
      "BINARIZING:  None\n"
     ]
    },
    {
     "name": "stderr",
     "output_type": "stream",
     "text": [
      "low pass filter: 100%|██████████| 417/417 [00:00<00:00, 832.52it/s]\n",
      "model filter: remove bleaching or trends: 100%|██████████| 417/417 [00:09<00:00, 45.09it/s]\n",
      "420it [00:04, 86.50it/s]                         \n",
      "binarizing continuous traces filtered fluorescence onphase: 100%|██████████| 417/417 [00:03<00:00, 131.70it/s]\n",
      "binarizing continuous traces filtered fluorescence upphase: 100%|██████████| 417/417 [00:04<00:00, 99.59it/s] \n"
     ]
    },
    {
     "name": "stdout",
     "output_type": "stream",
     "text": [
      "...saving data...\n",
      "\n",
      "BINARIZING:  None\n"
     ]
    },
    {
     "name": "stderr",
     "output_type": "stream",
     "text": [
      "/home/cat/.conda/envs/donato/lib/python3.8/site-packages/binarize2pcalcium/binarize2pcalcium.py:524: RuntimeWarning: invalid value encountered in divide\n",
      "  cumsum = cumsum/np.max(cumsum)\n",
      "low pass filter: 100%|██████████| 417/417 [00:00<00:00, 813.01it/s]\n",
      "model filter: remove bleaching or trends: 100%|██████████| 417/417 [00:09<00:00, 44.09it/s]\n",
      "420it [00:05, 81.69it/s]                         \n",
      "binarizing continuous traces filtered fluorescence onphase: 100%|██████████| 417/417 [00:02<00:00, 164.34it/s]\n",
      "binarizing continuous traces filtered fluorescence upphase: 100%|██████████| 417/417 [00:03<00:00, 126.63it/s]\n"
     ]
    },
    {
     "name": "stdout",
     "output_type": "stream",
     "text": [
      "...saving data...\n",
      "\n",
      "BINARIZING:  None\n"
     ]
    },
    {
     "name": "stderr",
     "output_type": "stream",
     "text": [
      "low pass filter: 100%|██████████| 417/417 [00:00<00:00, 808.41it/s]\n",
      "model filter: remove bleaching or trends: 100%|██████████| 417/417 [00:09<00:00, 42.57it/s]\n",
      "420it [00:05, 82.33it/s]                         \n",
      "binarizing continuous traces filtered fluorescence onphase: 100%|██████████| 417/417 [00:02<00:00, 162.82it/s]\n",
      "binarizing continuous traces filtered fluorescence upphase: 100%|██████████| 417/417 [00:03<00:00, 121.03it/s]\n"
     ]
    },
    {
     "name": "stdout",
     "output_type": "stream",
     "text": [
      "...saving data...\n",
      "\n",
      "BINARIZING:  None\n"
     ]
    },
    {
     "name": "stderr",
     "output_type": "stream",
     "text": [
      "low pass filter: 100%|██████████| 417/417 [00:00<00:00, 804.16it/s]\n",
      "model filter: remove bleaching or trends: 100%|██████████| 417/417 [00:09<00:00, 45.25it/s]\n",
      "420it [00:05, 71.21it/s]                         \n",
      "binarizing continuous traces filtered fluorescence onphase: 100%|██████████| 417/417 [00:02<00:00, 171.41it/s]\n",
      "binarizing continuous traces filtered fluorescence upphase: 100%|██████████| 417/417 [00:03<00:00, 131.72it/s]\n"
     ]
    },
    {
     "name": "stdout",
     "output_type": "stream",
     "text": [
      "...saving data...\n",
      "\n",
      "BINARIZING:  None\n"
     ]
    },
    {
     "name": "stderr",
     "output_type": "stream",
     "text": [
      "low pass filter: 100%|██████████| 417/417 [00:00<00:00, 800.79it/s]\n",
      "model filter: remove bleaching or trends: 100%|██████████| 417/417 [00:09<00:00, 44.87it/s]\n",
      "420it [00:05, 80.81it/s]                         \n",
      "binarizing continuous traces filtered fluorescence onphase: 100%|██████████| 417/417 [00:02<00:00, 195.09it/s]\n",
      "binarizing continuous traces filtered fluorescence upphase: 100%|██████████| 417/417 [00:02<00:00, 148.45it/s]\n"
     ]
    },
    {
     "name": "stdout",
     "output_type": "stream",
     "text": [
      "...saving data...\n",
      " ... DONE ...\n"
     ]
    }
   ],
   "source": [
    "#############################################\n",
    "######### LOAD SUITE2P AND BINARIZE #########\n",
    "#############################################\n",
    "\n",
    "# input directory where Suite2p outputs matlab Fall.mat and all .npy files\n",
    "#data_dir = '/media/cat/4TB/donato/andres/master_analysis/DON-014266/20230131/plane0'\n",
    "data_dir = '/media/cat/4TB/donato/andres/master_analysis/'#20230131/plane0'\n",
    "data_dir = '/media/cat/8TB/donato/bmi/'\n",
    "\n",
    "# ****************** MICE AVAILABLE ***********************\n",
    "# M1 = [\n",
    "#     'DON-011733',\n",
    "#     'DON-014382',\n",
    "#     'DON-014451',\n",
    "#     'DON-014575',\n",
    "#     'DON-014618',\n",
    "#     'DON-015821',\n",
    "\n",
    "# CA3 = [\n",
    "#     'DON-012502',\n",
    "#     'DON-014266',\n",
    "#     'DON-014371',\n",
    "#     'DON-015801',\n",
    "# ]\n",
    "\n",
    "#animal_id = \"DON-014575\"\n",
    "animal_id = 'DON-011733' \n",
    "\n",
    "\n",
    "sessions = [\n",
    "    \n",
    "    '20230302',\n",
    "    '20230303',\n",
    "    '20230304',\n",
    "    '20230305',\n",
    "    '20230306',\n",
    "    '20230307',\n",
    "    '20230308',\n",
    "    '20230309',\n",
    "    \n",
    "    \n",
    "]\n",
    "\n",
    "for session in sessions:\n",
    "    # initialize calcium object and load suite2p data\n",
    "    c = binca.Calcium(data_dir, animal_id)\n",
    "\n",
    "    c.session = session #plane0/merged/binarized_traces.npz\n",
    "    c.data_dir =  os.path.join(data_dir, \n",
    "                               animal_id,\n",
    "                               c.session,\n",
    "                               'plane0',\n",
    "                               'merged') #binarized_traces.npz\n",
    "    c.session_name = c.session\n",
    "\n",
    "    c.data_type = '2p'\n",
    "    c.remove_bad_cells = False\n",
    "    c.verbose = False                          # outputs additional information during processing\n",
    "    c.recompute_binarization = True           # recomputes binarization and other processing steps; False: loads from previous saved locations\n",
    "\n",
    "    # set flags to save matlab and python data\n",
    "    c.save_python = True         # save output as .npz file \n",
    "    c.save_matlab = False         # save output as .mat file\n",
    "\n",
    "    # manual thresholds for spike detection\n",
    "    c.dff_min = 0.05                  # min %DFF for [ca] burst to considered a spike (default 5%) overwrites percentile threshold parameter\n",
    "    c.percentile_threshold = 0.999   # this is pretty fixed, we don't change it; we want [ca] bursts that are well outside the \"physics-caused\"noise\n",
    "    c.maximum_std_of_signal = 0.28     # if std of signal is greater than this, then we have a noisy signal and we don't want to binarize it\n",
    "                                          #    - this is a very important flag! come see me if you don't understand it\n",
    "\n",
    "    #\n",
    "    c.binarize_data()\n",
    "\n",
    "print (\" ... DONE ...\")"
   ]
  },
  {
   "cell_type": "code",
   "execution_count": 9,
   "id": "dc28ac1f",
   "metadata": {},
   "outputs": [
    {
     "ename": "TypeError",
     "evalue": "__init__() missing 2 required positional arguments: 'data_dir' and 'animal_id'",
     "output_type": "error",
     "traceback": [
      "\u001b[0;31m---------------------------------------------------------------------------\u001b[0m",
      "\u001b[0;31mTypeError\u001b[0m                                 Traceback (most recent call last)",
      "Cell \u001b[0;32mIn[9], line 9\u001b[0m\n\u001b[1;32m      1\u001b[0m \u001b[39m###############################################################\u001b[39;00m\n\u001b[1;32m      2\u001b[0m \u001b[39m######### LOAD BINARZIED DATA AND VISUALIZE CELL ACTIVITY #####\u001b[39;00m\n\u001b[1;32m      3\u001b[0m \u001b[39m###############################################################\u001b[39;00m\n\u001b[1;32m      4\u001b[0m \u001b[39m#fname = '/media/cat/4TB/donato/DON-003343/DON-003343_20210213/suite2p/plane0/binarized_traces.npz'\u001b[39;00m\n\u001b[1;32m      5\u001b[0m \u001b[39m# \u001b[39;00m\n\u001b[1;32m      6\u001b[0m \u001b[39m#fname = os.path.join(data_dir,'suite2p','plane0','binarized_traces.npz')\u001b[39;00m\n\u001b[1;32m      7\u001b[0m fname \u001b[39m=\u001b[39m os\u001b[39m.\u001b[39mpath\u001b[39m.\u001b[39mjoin(data_dir,\u001b[39m'\u001b[39m\u001b[39mbinarized_traces.npz\u001b[39m\u001b[39m'\u001b[39m)\n\u001b[0;32m----> 9\u001b[0m c \u001b[39m=\u001b[39m calcium\u001b[39m.\u001b[39;49mCalcium()\n\u001b[1;32m     10\u001b[0m c\u001b[39m.\u001b[39mfname \u001b[39m=\u001b[39m fname\n\u001b[1;32m     11\u001b[0m c\u001b[39m.\u001b[39mdata_dir \u001b[39m=\u001b[39m data_dir\n",
      "\u001b[0;31mTypeError\u001b[0m: __init__() missing 2 required positional arguments: 'data_dir' and 'animal_id'"
     ]
    }
   ],
   "source": [
    "###############################################################\n",
    "######### LOAD BINARZIED DATA AND VISUALIZE CELL ACTIVITY #####\n",
    "###############################################################\n",
    "#fname = '/media/cat/4TB/donato/DON-003343/DON-003343_20210213/suite2p/plane0/binarized_traces.npz'\n",
    "# \n",
    "#fname = os.path.join(data_dir,'suite2p','plane0','binarized_traces.npz')\n",
    "fname = os.path.join(data_dir,'binarized_traces.npz')\n",
    "\n",
    "c = calcium.Calcium()\n",
    "c.fname = fname\n",
    "c.data_dir = data_dir\n",
    "c.recompute_binarization = False\n",
    "c.load_binarization()\n",
    "\n",
    "# pick a random cell to visuzlie\n",
    "cell_id = 204\n",
    "scale = .3\n",
    "\n",
    "# \n",
    "c.plot_cell_binarization(cell_id, scale)\n"
   ]
  },
  {
   "cell_type": "code",
   "execution_count": null,
   "id": "407653fe-c988-49d5-bedf-32dd06991173",
   "metadata": {},
   "outputs": [
    {
     "name": "stderr",
     "output_type": "stream",
     "text": [
      "low pass filter: 100%|██████████| 2/2 [00:00<00:00, 1650.00it/s]\n"
     ]
    }
   ],
   "source": [
    "# plt.figure()\n",
    "# plt.plot(c.F[0])\n",
    "# c.high_cutoff=0.0002\n",
    "# res = c.low_pass_filter(c.F[:2])\n",
    "# plt.plot(res[0])\n",
    "    \n",
    "# plt.show()"
   ]
  },
  {
   "cell_type": "code",
   "execution_count": null,
   "id": "a0e177d9",
   "metadata": {},
   "outputs": [],
   "source": [
    "#/media/cat/4TB/donato/DON-002865/DON-002865_20210211/002P-F/tif/suite2p/plane0/binarized_traces.npz\n",
    "#/media/cat/4TB/donato/DON-002865/DON-002865_20210211/002P-F/tif/suite2p/plane0/suite2p/plane0/binarized_traces.npz\n",
    "\n",
    "######################################################\n",
    "############# SHOW RASTERS ###########################\n",
    "######################################################\n",
    "fname = os.path.join(data_dir,'suite2p','plane0','binarized_traces.npz')\n",
    "#data_dir = '/media/cat/4TB/donato/DON-003343/DON-003343_20210213/suite2p/plane0/'\n",
    "\n",
    "c = calcium.Calcium()\n",
    "c.data_dir = data_dir\n",
    "c.fname = fname\n",
    "c.recompute_binarization = False\n",
    "c.load_binarization()\n",
    "\n",
    "c.show_rasters()\n"
   ]
  },
  {
   "cell_type": "code",
   "execution_count": null,
   "id": "faa37030",
   "metadata": {},
   "outputs": [
    {
     "name": "stderr",
     "output_type": "stream",
     "text": [
      "<ipython-input-62-6f56bde31059>:9: FutureWarning: Unlike other reduction functions (e.g. `skew`, `kurtosis`), the default behavior of `mode` typically preserves the axis it acts along. In SciPy 1.11.0, this behavior will change: the default value of `keepdims` will become False, the `axis` over which the statistic is taken will be eliminated, and the value None will no longer be accepted. Set `keepdims` to True or False to avoid this warning.\n",
      "  mode = scipy.stats.mode(trace)[0]\n"
     ]
    }
   ],
   "source": [
    "import scipy\n",
    "\n",
    "#\n",
    "trace = np.load('/home/cat/trace.npy')\n",
    "\n",
    "#\n",
    "y = np.histogram(trace, bins = np.arange(-1,1,0.001))\n",
    "\n",
    "mode = scipy.stats.mode(trace)[0]\n",
    "mode_empirical = y[1][np.argmax(y[0])]\n",
    "\n",
    "#\n",
    "plt.figure()\n",
    "plt.plot(y[1][:-1],y[0])\n",
    "plt.plot([mode,mode],[0,4000])\n",
    "plt.plot([mode_empirical, mode_empirical],[0,4000])\n",
    "\n",
    "plt.show()"
   ]
  },
  {
   "cell_type": "code",
   "execution_count": null,
   "id": "c8257683",
   "metadata": {},
   "outputs": [],
   "source": []
  },
  {
   "cell_type": "code",
   "execution_count": null,
   "id": "dd3177bc",
   "metadata": {},
   "outputs": [],
   "source": []
  },
  {
   "cell_type": "code",
   "execution_count": null,
   "id": "afc00149",
   "metadata": {},
   "outputs": [],
   "source": []
  },
  {
   "cell_type": "code",
   "execution_count": null,
   "id": "f99a9019",
   "metadata": {},
   "outputs": [],
   "source": []
  },
  {
   "cell_type": "code",
   "execution_count": null,
   "id": "f6ce39e8",
   "metadata": {},
   "outputs": [],
   "source": []
  },
  {
   "cell_type": "code",
   "execution_count": null,
   "id": "8d1b6b80",
   "metadata": {},
   "outputs": [],
   "source": []
  },
  {
   "cell_type": "code",
   "execution_count": null,
   "id": "67585fad",
   "metadata": {},
   "outputs": [],
   "source": []
  },
  {
   "cell_type": "code",
   "execution_count": null,
   "id": "fe3d8bc0",
   "metadata": {},
   "outputs": [],
   "source": []
  },
  {
   "cell_type": "code",
   "execution_count": null,
   "id": "eb29474c",
   "metadata": {},
   "outputs": [],
   "source": []
  }
 ],
 "metadata": {
  "kernelspec": {
   "display_name": "Python 3",
   "language": "python",
   "name": "python3"
  },
  "language_info": {
   "codemirror_mode": {
    "name": "ipython",
    "version": 3
   },
   "file_extension": ".py",
   "mimetype": "text/x-python",
   "name": "python",
   "nbconvert_exporter": "python",
   "pygments_lexer": "ipython3",
   "version": "3.8.15"
  }
 },
 "nbformat": 4,
 "nbformat_minor": 5
}
