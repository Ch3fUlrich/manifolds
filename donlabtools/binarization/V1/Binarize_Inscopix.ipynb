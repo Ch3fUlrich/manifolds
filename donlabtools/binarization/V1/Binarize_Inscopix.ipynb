{
 "cells": [
  {
   "cell_type": "code",
   "execution_count": 1,
   "id": "611dc90f",
   "metadata": {},
   "outputs": [
    {
     "data": {
      "application/javascript": "IPython.notebook.set_autosave_interval(180000)"
     },
     "metadata": {},
     "output_type": "display_data"
    },
    {
     "name": "stdout",
     "output_type": "stream",
     "text": [
      "Autosaving every 180 seconds\n"
     ]
    },
    {
     "name": "stderr",
     "output_type": "stream",
     "text": [
      "<ipython-input-1-e4476ecac24a>:12: DeprecationWarning: Importing display from IPython.core.display is deprecated since IPython 7.14, please import from IPython display\n",
      "  from IPython.core.display import display, HTML\n"
     ]
    },
    {
     "data": {
      "text/html": [
       "<style>.container { width:100% !important; }</style>"
      ],
      "text/plain": [
       "<IPython.core.display.HTML object>"
      ]
     },
     "metadata": {},
     "output_type": "display_data"
    },
    {
     "name": "stderr",
     "output_type": "stream",
     "text": [
      "/home/cat/.conda/envs/donato/lib/python3.8/site-packages/tqdm/auto.py:22: TqdmWarning: IProgress not found. Please update jupyter and ipywidgets. See https://ipywidgets.readthedocs.io/en/stable/user_install.html\n",
      "  from .autonotebook import tqdm as notebook_tqdm\n"
     ]
    }
   ],
   "source": [
    "import matplotlib\n",
    "%matplotlib tk\n",
    "%autosave 180\n",
    "%load_ext autoreload\n",
    "%autoreload 2\n",
    "\n",
    "import nest_asyncio\n",
    "%config Completer.use_jedi = False\n",
    "\n",
    "#\n",
    "import matplotlib.pyplot as plt\n",
    "from IPython.core.display import display, HTML\n",
    "display(HTML(\"<style>.container { width:100% !important; }</style>\"))\n",
    "\n",
    "# \n",
    "import numpy as np\n",
    "import os\n",
    "import scipy\n",
    "\n",
    "# add root directory to be able to import packages\n",
    "# todo: make all packages installable so they can be called/imported by environment\n",
    "import sys\n",
    "module_path = os.path.abspath(os.path.join('..'))\n",
    "sys.path.append(module_path)\n",
    "\n",
    "from utils.calcium import calcium\n"
   ]
  },
  {
   "cell_type": "code",
   "execution_count": 9,
   "id": "18271c71",
   "metadata": {},
   "outputs": [
    {
     "name": "stdout",
     "output_type": "stream",
     "text": [
      "cells:  (480, 36026)\n",
      "F times:  (36026,)\n",
      "fluorescence shapes:  (480, 36026)\n",
      "\n",
      "  Binarization parameters: \n",
      "        low pass filter low cuttoff:  0.5 hz\n",
      "        oasis_thresh_prefilter:  15\n",
      "        min_thresh_std_oasis:  0.1\n",
      "        min_thresh_std_onphase:  1.5\n",
      "        min_thresh_std_upphase:  1.5\n",
      "        min_width_event_onphase:  30\n",
      "        min_width_event_upphase:  10\n",
      "        min_width_event_oasis:  2\n",
      "        min_event_amplitude:  1\n"
     ]
    },
    {
     "name": "stderr",
     "output_type": "stream",
     "text": [
      "low pass filter: 100%|██████████| 480/480 [00:00<00:00, 1300.45it/s]\n",
      "model filter: remove bleaching or trends: 100%|██████████| 480/480 [00:04<00:00, 96.72it/s]\n",
      "100%|██████████| 480/480 [00:02<00:00, 207.36it/s]\n",
      "binarizing continuous traces filtered fluorescence onphase: 100%|██████████| 480/480 [00:00<00:00, 1058.44it/s]\n",
      "binarizing continuous traces filtered fluorescence upphase: 100%|██████████| 480/480 [00:00<00:00, 726.56it/s]\n"
     ]
    },
    {
     "name": "stdout",
     "output_type": "stream",
     "text": [
      "...saving data...\n"
     ]
    }
   ],
   "source": [
    "#############################################\n",
    "######### LOAD SUITE2P AND BINARIZE #########\n",
    "#############################################\n",
    "\n",
    "# input directory where Suite2p outputs matlab Fall.mat and all .npy files\n",
    "# input calcium traces .csv file from Inscopix\n",
    "fname = '/home/cat/data/nathalie/2021-10-22-15-41-49_video_sched_0.csv'\n",
    "\n",
    "c = calcium.Calcium()\n",
    "c.verbose = True             # outputs additional information during processing\n",
    "c.recompute = True           # recomputes binarization and other processing steps; False: loads from previous saved locations\n",
    "c.data_dir = os.path.split(fname)[0]\n",
    "\n",
    "# Load inscopix data\n",
    "c.save_python = True         # save output as .npz file\n",
    "c.save_matlab = True         # save output as .mat file\n",
    "c.fname_inscopix = fname\n",
    "c.load_inscopix()\n",
    "\n",
    "\n",
    "c.recompute_binarization = True           # recomputes binarization and other processing steps; False: loads from previous saved locations\n",
    "c.data_dir = os.path.split(fname)[0]\n",
    "\n",
    "# set flags to save matlab and python data\n",
    "c.save_python = True         # save output as .npz file \n",
    "c.save_matlab = True         # save output as .mat file\n",
    "\n",
    "###############################################\n",
    "##### PARAMETERS FOR RUNNING BINARIZATION #####\n",
    "###############################################\n",
    "c.min_width_event_onphase = c.sample_rate//2 # set minimum withd of an onphase event; default: 0.5 seconds\n",
    "c.min_width_event_upphase = c.sample_rate//4 # set minimum width of upphase event; default: 0.25 seconds\n",
    "\n",
    "############# PARAMTERS TO TWEAK ##############\n",
    "#     1. Cutoff for calling somthing a spike:\n",
    "#        This is stored in: std_Fluorescence_onphase/uppohase: defaults: 1.5\n",
    "#                                        higher -> less events; lower -> more events\n",
    "#                                        start at default and increase if data is very noisy and getting too many noise-events\n",
    "#c.min_thresh_std_onphase = 2.5      # set the minimum thrshold for onphase detection; defatul 2.5\n",
    "#c.min_thresh_std_upphase = 2.5      # set the minimum thershold for uppohase detection; default: 2.5\n",
    "\n",
    "#     2. Filter of [Ca] data which smooths the data significantly more and decreases number of binarzied events within a multi-second [Ca] event\n",
    "#        This is stored in high_cutoff: default 0.5 to 1.0\n",
    "#        The lower we set it the smoother our [Ca] traces and less \"choppy\" the binarized traces (but we loose some temporal precision)\n",
    "c.high_cutoff = 0.5              \n",
    "\n",
    "#     3. Removing bleaching and drift artifacts using polynomial fits\n",
    "#        This is stored in detrend_model_order\n",
    "c.detrend_model_order = 1 # 1-3 polynomial fit\n",
    "c.detrend_model_type = 'mode' # 'mode', 'polynomial'\n",
    "\n",
    "#\n",
    "c.mode_window = None #*30 # 120 seconds @ 30Hz \n",
    "\n",
    "################################################\n",
    "########### RUN BINARIZATION STEP ##############\n",
    "################################################\n",
    "# \n",
    "# double check that we have set the STD thrshold at a reasonable level to catch biggest/highest SNR bursts\n",
    "c.show_plots = True\n",
    "\n",
    "#\n",
    "c.sample_rate = 20\n",
    "c.min_width_event_onphase = c.sample_rate   # the onphase needs to be at least \n",
    "c.min_width_event_upphase = c.sample_rate//3 # the upphase needs to be at least 1/3 of a second\n",
    "c.recompute_binarization = True\n",
    "\n",
    "# not used currently\n",
    "c.dff_min = 0.02   #this is the final threshold required by putative spikes\n",
    "c.percentile_threshold = 0.999999\n",
    "c.use_upphase = True\n",
    "\n",
    "#\n",
    "print (\"fluorescence shapes: \", c.F.shape)\n",
    "#c.F = c.F[:,:1300*30]\n",
    "c.show_plots =False\n",
    "c.remove_ends = False                     # delete the first and last x seconds in case [ca] imaging had issues\n",
    "c.detrend_filter_threshold = 0.001\n",
    "c.mode_window = 30*30  # None: compute mode on entire time; Value: sliding window based - baseline detection # of frames to use to compute mode\n",
    "\n",
    "c.binarize_fluorescence()\n",
    "\n",
    "\n",
    "# generate standard randomized plots:\n",
    "c.save_sample_traces()\n",
    "\n",
    "#\n",
    "save_image = True\n",
    "c.show_rasters(save_image)\n"
   ]
  },
  {
   "cell_type": "code",
   "execution_count": null,
   "id": "7e4332d3",
   "metadata": {},
   "outputs": [],
   "source": []
  },
  {
   "cell_type": "code",
   "execution_count": 6,
   "id": "635bda6e",
   "metadata": {},
   "outputs": [],
   "source": [
    "# #####################################################\n",
    "# ############## LOAD INSCOPIX AND BINARIZE ###########\n",
    "# #####################################################\n",
    "\n",
    "# ######## OLD VERSION (PRE-MODE FILTERING) ##########\n",
    "\n",
    "\n",
    "\n",
    "# # input calcium traces .csv file from Inscopix\n",
    "# fname = '/media/cat/4TB/donato/laurenz/DON-005099/20210609/suite2p/plane0/DON-005099_20210609_TRACES_ACQ.csv'\n",
    "\n",
    "# c = calcium.Calcium()\n",
    "# c.verbose = True             # outputs additional information during processing\n",
    "# c.recompute = True           # recomputes binarization and other processing steps; False: loads from previous saved locations\n",
    "# c.data_dir = os.path.split(fname)[0]\n",
    "\n",
    "# # Load inscopix data\n",
    "# c.save_python = True         # save output as .npz file\n",
    "# c.save_matlab = True         # save output as .mat file\n",
    "# c.fname_inscopix = fname\n",
    "# c.load_inscopix()\n",
    "\n",
    "# ###############################################\n",
    "# ########## 3 parameters to tweak ##############\n",
    "# ###############################################\n",
    "# #     1. Cutoff for calling somthing a spike:\n",
    "# #        This is stored in: std_Fluorescence_onphase/uppohase: defaults: 1.5\n",
    "# #                                        higher -> less events; lower -> more events\n",
    "# #                                        start at default and increase if data is very noisy and getting too many noise-events\n",
    "# c.min_thresh_std_Fluorescence_onphase = 2.5\n",
    "# c.min_thresh_std_Fluorescence_upphase = 2.5\n",
    "\n",
    "# #     2. Filter of [Ca] data which smooths the data significantly more and decreases number of binarzied events within a multi-second [Ca] event\n",
    "# #        This is stored in high_cutoff: default 1.0\n",
    "# #                             - the lower we set it the smoother our [Ca] traces and less \"choppy\" the binarized traces\n",
    "# c.high_cutoff = .5\n",
    "\n",
    "# #     3. Removing bleaching and drift artifacts using polynomial fits\n",
    "# #        This is stored in detrend_model_order\n",
    "# c.detrend_model_order = 1 # 1-5 polynomial fit\n",
    "\n",
    "# # \n",
    "# #c.F=c.F[250:260]\n",
    "# c.binarize_fluorescence()"
   ]
  },
  {
   "cell_type": "code",
   "execution_count": 12,
   "id": "dc28ac1f",
   "metadata": {
    "tags": []
   },
   "outputs": [],
   "source": [
    "###############################################################\n",
    "######### LOAD BINARZIED DATA AND VISUALIZE CELL ACTIVITY #####\n",
    "###############################################################\n",
    "#fname = '/media/cat/4TB/donato/DON-003343/DON-003343_20210213/suite2p/plane0/binarized_traces.npz'\n",
    "#fname = '/media/cat/4TB/donato/steffen/DON-004366/20210228/binarized_traces.npz'\n",
    "#fname = '/media/cat/4TB/donato/nathalie/plane0/binarized_traces.npz'\n",
    "#fname = '/media/cat/4TB/donato/renan/renan/binarized_traces.npz'\n",
    "# \n",
    "fname = '/home/cat/data/nathalie/binarized_traces.npz'\n",
    "\n",
    "c = calcium.Calcium()\n",
    "c.fname = fname\n",
    "c.data_dir = os.path.split(fname)[0]\n",
    "c.load_binarization()\n",
    "\n",
    "# pick a random cell to visuzlie\n",
    "cell_id = 220\n",
    "\n",
    "# \n",
    "scale = 100\n",
    "\n",
    "c.plot_cell_binarization(cell_id, scale)\n"
   ]
  },
  {
   "cell_type": "code",
   "execution_count": 12,
   "id": "a0e177d9",
   "metadata": {},
   "outputs": [
    {
     "name": "stdout",
     "output_type": "stream",
     "text": [
      "(1027, 92900)\n"
     ]
    }
   ],
   "source": [
    "######################################################\n",
    "############# SHOW RASTERS ###########################\n",
    "######################################################\n",
    "\n",
    "fname = '/media/cat/4TB/donato/steffen/DON-004366/20210228/binarized_traces.npz'\n",
    "\n",
    "c = calcium.Calcium()\n",
    "c.fname = fname\n",
    "c.load_binarization()\n",
    "\n",
    "\n",
    "c.show_rasters()"
   ]
  },
  {
   "cell_type": "code",
   "execution_count": null,
   "id": "faa37030",
   "metadata": {},
   "outputs": [],
   "source": []
  },
  {
   "cell_type": "code",
   "execution_count": null,
   "id": "c8257683",
   "metadata": {},
   "outputs": [],
   "source": []
  },
  {
   "cell_type": "code",
   "execution_count": null,
   "id": "dd3177bc",
   "metadata": {},
   "outputs": [],
   "source": []
  },
  {
   "cell_type": "code",
   "execution_count": null,
   "id": "afc00149",
   "metadata": {},
   "outputs": [],
   "source": []
  },
  {
   "cell_type": "code",
   "execution_count": null,
   "id": "f99a9019",
   "metadata": {},
   "outputs": [],
   "source": []
  },
  {
   "cell_type": "code",
   "execution_count": null,
   "id": "f6ce39e8",
   "metadata": {},
   "outputs": [],
   "source": []
  },
  {
   "cell_type": "code",
   "execution_count": null,
   "id": "8d1b6b80",
   "metadata": {},
   "outputs": [],
   "source": []
  },
  {
   "cell_type": "code",
   "execution_count": null,
   "id": "67585fad",
   "metadata": {},
   "outputs": [],
   "source": []
  },
  {
   "cell_type": "code",
   "execution_count": null,
   "id": "fe3d8bc0",
   "metadata": {},
   "outputs": [],
   "source": []
  },
  {
   "cell_type": "code",
   "execution_count": null,
   "id": "eb29474c",
   "metadata": {},
   "outputs": [],
   "source": []
  }
 ],
 "metadata": {
  "kernelspec": {
   "display_name": "Python 3 (ipykernel)",
   "language": "python",
   "name": "python3"
  },
  "language_info": {
   "codemirror_mode": {
    "name": "ipython",
    "version": 3
   },
   "file_extension": ".py",
   "mimetype": "text/x-python",
   "name": "python",
   "nbconvert_exporter": "python",
   "pygments_lexer": "ipython3",
   "version": "3.8.15"
  }
 },
 "nbformat": 4,
 "nbformat_minor": 5
}
