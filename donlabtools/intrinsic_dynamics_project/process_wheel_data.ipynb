{
 "cells": [
  {
   "cell_type": "code",
   "execution_count": 1,
   "id": "3f67a6dc-ac29-4135-a506-607562ad77d1",
   "metadata": {},
   "outputs": [
    {
     "data": {
      "application/javascript": "IPython.notebook.set_autosave_interval(180000)"
     },
     "metadata": {},
     "output_type": "display_data"
    },
    {
     "name": "stdout",
     "output_type": "stream",
     "text": [
      "Autosaving every 180 seconds\n"
     ]
    },
    {
     "name": "stderr",
     "output_type": "stream",
     "text": [
      "<ipython-input-1-1e8567532231>:12: DeprecationWarning: Importing display from IPython.core.display is deprecated since IPython 7.14, please import from IPython display\n",
      "  from IPython.core.display import display, HTML\n"
     ]
    },
    {
     "data": {
      "text/html": [
       "<style>.container { width:100% !important; }</style>"
      ],
      "text/plain": [
       "<IPython.core.display.HTML object>"
      ]
     },
     "metadata": {},
     "output_type": "display_data"
    },
    {
     "name": "stderr",
     "output_type": "stream",
     "text": [
      "/home/cat/.conda/envs/donato/lib/python3.8/site-packages/tqdm/auto.py:22: TqdmWarning: IProgress not found. Please update jupyter and ipywidgets. See https://ipywidgets.readthedocs.io/en/stable/user_install.html\n",
      "  from .autonotebook import tqdm as notebook_tqdm\n"
     ]
    }
   ],
   "source": [
    "import matplotlib\n",
    "%matplotlib tk\n",
    "%autosave 180\n",
    "%load_ext autoreload\n",
    "%autoreload 2\n",
    "\n",
    "import nest_asyncio\n",
    "%config Completer.use_jedi = False\n",
    "\n",
    "#\n",
    "import matplotlib.pyplot as plt\n",
    "from IPython.core.display import display, HTML\n",
    "display(HTML(\"<style>.container { width:100% !important; }</style>\"))\n",
    "\n",
    "# \n",
    "import numpy as np\n",
    "import os\n",
    "import scipy\n",
    "\n",
    "# add root directory to be able to import packages\n",
    "# todo: make all packages installable so they can be called/imported by environment\n",
    "import sys\n",
    "module_path = os.path.abspath(os.path.join('..'))\n",
    "sys.path.append(module_path)\n",
    "\n",
    "from utils.calcium import calcium\n",
    "from utils.wheel import wheel"
   ]
  },
  {
   "cell_type": "code",
   "execution_count": 3,
   "id": "501ff89f-79aa-4869-8bbc-b95e0bee5a96",
   "metadata": {},
   "outputs": [
    {
     "name": "stdout",
     "output_type": "stream",
     "text": [
      "animal:  DON-009191\n"
     ]
    },
    {
     "ename": "FileNotFoundError",
     "evalue": "[Errno 2] No such file or directory: '/media/cat/4TB/donato/DON-009191/20220215/TRD-2P/wheel.npy'",
     "output_type": "error",
     "traceback": [
      "\u001b[0;31m---------------------------------------------------------------------------\u001b[0m",
      "\u001b[0;31mFileNotFoundError\u001b[0m                         Traceback (most recent call last)",
      "\u001b[1;32m/home/cat/code/donatolab/donlabtools/intrinsic_dynamics_project/process_wheel_data.ipynb Cell 2\u001b[0m line \u001b[0;36m3\n\u001b[1;32m     <a href='vscode-notebook-cell:/home/cat/code/donatolab/donlabtools/intrinsic_dynamics_project/process_wheel_data.ipynb#W1sZmlsZQ%3D%3D?line=29'>30</a>\u001b[0m w \u001b[39m=\u001b[39m wheel\u001b[39m.\u001b[39mWheel()\n\u001b[1;32m     <a href='vscode-notebook-cell:/home/cat/code/donatolab/donlabtools/intrinsic_dynamics_project/process_wheel_data.ipynb#W1sZmlsZQ%3D%3D?line=30'>31</a>\u001b[0m w\u001b[39m.\u001b[39mroot_dir \u001b[39m=\u001b[39m os\u001b[39m.\u001b[39mpath\u001b[39m.\u001b[39mjoin(root_dir, animal_id, session, \u001b[39m'\u001b[39m\u001b[39mTRD-2P/\u001b[39m\u001b[39m'\u001b[39m)\n\u001b[0;32m---> <a href='vscode-notebook-cell:/home/cat/code/donatolab/donlabtools/intrinsic_dynamics_project/process_wheel_data.ipynb#W1sZmlsZQ%3D%3D?line=31'>32</a>\u001b[0m w\u001b[39m.\u001b[39;49mload_track()\n\u001b[1;32m     <a href='vscode-notebook-cell:/home/cat/code/donatolab/donlabtools/intrinsic_dynamics_project/process_wheel_data.ipynb#W1sZmlsZQ%3D%3D?line=32'>33</a>\u001b[0m w\u001b[39m.\u001b[39mcompute_velocity()\n",
      "File \u001b[0;32m~/code/donatolab/donlabtools/utils/wheel/wheel.py:66\u001b[0m, in \u001b[0;36mWheel.load_track\u001b[0;34m(self)\u001b[0m\n\u001b[1;32m     63\u001b[0m \u001b[39mself\u001b[39m\u001b[39m.\u001b[39mfname \u001b[39m=\u001b[39m os\u001b[39m.\u001b[39mpath\u001b[39m.\u001b[39mjoin(\u001b[39mself\u001b[39m\u001b[39m.\u001b[39mroot_dir,\u001b[39m'\u001b[39m\u001b[39mwheel.npy\u001b[39m\u001b[39m'\u001b[39m)\n\u001b[1;32m     65\u001b[0m \u001b[39mself\u001b[39m\u001b[39m.\u001b[39mtrack\u001b[39m.\u001b[39mrotary_binarized \u001b[39m=\u001b[39m empty()\n\u001b[0;32m---> 66\u001b[0m \u001b[39mself\u001b[39m\u001b[39m.\u001b[39mtrack\u001b[39m.\u001b[39mrotary_binarized\u001b[39m.\u001b[39mvalues \u001b[39m=\u001b[39m \u001b[39m-\u001b[39mnp\u001b[39m.\u001b[39;49mload(\u001b[39mself\u001b[39;49m\u001b[39m.\u001b[39;49mfname)\n\u001b[1;32m     68\u001b[0m \u001b[39m# get time on track\u001b[39;00m\n\u001b[1;32m     69\u001b[0m times \u001b[39m=\u001b[39m np\u001b[39m.\u001b[39marange(\u001b[39mself\u001b[39m\u001b[39m.\u001b[39mtrack\u001b[39m.\u001b[39mrotary_binarized\u001b[39m.\u001b[39mvalues\u001b[39m.\u001b[39mshape[\u001b[39m0\u001b[39m]) \u001b[39m/\u001b[39m \u001b[39mself\u001b[39m\u001b[39m.\u001b[39msample_rate\n",
      "File \u001b[0;32m~/.conda/envs/donato/lib/python3.8/site-packages/numpy/lib/npyio.py:390\u001b[0m, in \u001b[0;36mload\u001b[0;34m(file, mmap_mode, allow_pickle, fix_imports, encoding)\u001b[0m\n\u001b[1;32m    388\u001b[0m     own_fid \u001b[39m=\u001b[39m \u001b[39mFalse\u001b[39;00m\n\u001b[1;32m    389\u001b[0m \u001b[39melse\u001b[39;00m:\n\u001b[0;32m--> 390\u001b[0m     fid \u001b[39m=\u001b[39m stack\u001b[39m.\u001b[39menter_context(\u001b[39mopen\u001b[39;49m(os_fspath(file), \u001b[39m\"\u001b[39;49m\u001b[39mrb\u001b[39;49m\u001b[39m\"\u001b[39;49m))\n\u001b[1;32m    391\u001b[0m     own_fid \u001b[39m=\u001b[39m \u001b[39mTrue\u001b[39;00m\n\u001b[1;32m    393\u001b[0m \u001b[39m# Code to distinguish from NumPy binary files and pickles.\u001b[39;00m\n",
      "\u001b[0;31mFileNotFoundError\u001b[0m: [Errno 2] No such file or directory: '/media/cat/4TB/donato/DON-009191/20220215/TRD-2P/wheel.npy'"
     ]
    }
   ],
   "source": [
    "#################################################\n",
    "########## PDAYS OF RECORDINGS - PUPS ###########\n",
    "#################################################\n",
    "import glob\n",
    "\n",
    "#\n",
    "mouse_ids = [\n",
    "    #'006084',\n",
    "    #'006085',\n",
    "    #'006087',\n",
    "    'DON-009191',\n",
    "    #'DON-009192',\n",
    "    #'DON-010473',\n",
    "    #'DON-010477'\n",
    "]\n",
    "\n",
    "root_dir = '/media/cat/4TB/donato/'\n",
    "\n",
    "#\n",
    "for animal_id in mouse_ids:\n",
    "\n",
    "    #\n",
    "    print (\"animal: \", animal_id)\n",
    "    \n",
    "    #\n",
    "    sessions = os.listdir(os.path.join(root_dir,animal_id))\n",
    "\n",
    "    for session in sessions:\n",
    "        print (session)\n",
    "        w = wheel.Wheel()\n",
    "        w.root_dir = os.path.join(root_dir, animal_id, session, 'TRD-2P/')\n",
    "        w.load_track()\n",
    "        w.compute_velocity()\n",
    " "
   ]
  },
  {
   "cell_type": "code",
   "execution_count": 14,
   "id": "ed40d8ef-5530-420d-b34c-f30640710a1a",
   "metadata": {},
   "outputs": [],
   "source": [
    "w.track.distances.values\n",
    "\n",
    "plt.figure()\n",
    "plt.plot(w.track.distances.values)\n",
    "plt.show()\n"
   ]
  },
  {
   "cell_type": "code",
   "execution_count": 46,
   "id": "a8cf6d20-bb08-4ffc-a6e2-ab6d20481e0c",
   "metadata": {},
   "outputs": [],
   "source": [
    "#################################################\n",
    "############ # of CELLS PER RECORDING ###########\n",
    "#################################################\n",
    "# \n",
    "def show_n_cell_allmice(mouse_ids, PDays):\n",
    "    \n",
    "    #\n",
    "    fig=plt.figure(figsize=(10,5))\n",
    "    ax=plt.subplot()\n",
    "\n",
    "    for k in range(len(mouse_ids)):\n",
    "        animal_id = mouse_ids[k]\n",
    "\n",
    "        #\n",
    "        root_dir = os.path.join('/media/cat/4TB1/donato/', \n",
    "                                animal_id)\n",
    "\n",
    "        #\n",
    "        sessions = np.sort(os.listdir(root_dir))\n",
    "\n",
    "        #\n",
    "        n_cells = []\n",
    "        for session in sessions:\n",
    "\n",
    "            #\n",
    "            fname = os.path.join(root_dir, session,\n",
    "                                 '002P-F/tif/suite2p/plane0/iscell.npy')\n",
    "\n",
    "            #\n",
    "            data = np.load(fname)\n",
    "            idx = np.where(data[:,0]==1)[0]\n",
    "            n_cells.append(idx.shape[0])\n",
    "\n",
    "\n",
    "        # \n",
    "        x = np.arange(PDays[k][0],PDays[k][1],1)\n",
    "\n",
    "        #\n",
    "        plt.plot(x,\n",
    "                 n_cells,\n",
    "                 c=clrs[k],\n",
    "                 linewidth=3,\n",
    "                 label=mouse_ids[k])\n",
    "\n",
    "\n",
    "\n",
    "        \n",
    "        \n",
    "    #\n",
    "    plt.xlim(left=0)\n",
    "    plt.ylim(bottom=0)\n",
    "    plt.ylabel(\"# of cells \", fontsize=16)\n",
    "\n",
    "    #\n",
    "    plt.xlabel(\"P-Day\",fontsize=16)\n",
    "    plt.legend(ncol=2)\n",
    "    plt.show()\n",
    "    \n",
    "    \n",
    "##################################################\n",
    "##################################################\n",
    "##################################################\n",
    "clrs = ['black','blue','red','green']\n",
    "    \n",
    "# \n",
    "mouse_ids = [\n",
    "    # '006084',\n",
    "    # '006085',\n",
    "    # '006087',\n",
    "    'DON-009191',\n",
    "    'DON-009192',\n",
    "    'DON-010473',\n",
    "    'DON-010477'\n",
    "]\n",
    "\n",
    "# \n",
    "PDays = [\n",
    "    #[19,28],\n",
    "    #[19,28],\n",
    "    #[24,33],\n",
    "    [16,48],  # expression issues\n",
    "    [15,60],  \n",
    "    [16,33],\n",
    "    [15,33],\n",
    "]\n",
    "\n",
    "#\n",
    "show_n_cell_allmice(mouse_ids, PDays)\n",
    "\n",
    "#\n"
   ]
  },
  {
   "cell_type": "code",
   "execution_count": 47,
   "id": "175acabc-ab48-4e5b-b749-acdc45aec5ee",
   "metadata": {},
   "outputs": [],
   "source": [
    "##############################################################\n",
    "##############################################################\n",
    "##############################################################\n",
    "def show_n_frames_allmice(mouse_ids, \n",
    "                          PDays,\n",
    "                         fps=30):\n",
    "    \n",
    "    #\n",
    "    fig=plt.figure(figsize=(10,5))\n",
    "    ax=plt.subplot()\n",
    "\n",
    "    for k in range(len(mouse_ids)):\n",
    "        animal_id = mouse_ids[k]\n",
    "\n",
    "        #\n",
    "        root_dir = os.path.join('/media/cat/4TB1/donato/', \n",
    "                                animal_id)\n",
    "\n",
    "        #\n",
    "        sessions = np.sort(os.listdir(root_dir))\n",
    "\n",
    "        #\n",
    "        n_frames = []\n",
    "        for session in sessions:\n",
    "\n",
    "            #\n",
    "            fname = os.path.join(root_dir, session,\n",
    "                                 '002P-F/tif/suite2p/plane0/F.npy')\n",
    "\n",
    "            #\n",
    "            #data = np.load(fname)\n",
    "            data = np.load(fname, mmap_mode='r+')\n",
    "            #print (data.shape)\n",
    "            n_frames.append(data.shape[1]/fps)\n",
    "\n",
    "\n",
    "        # \n",
    "        x = np.arange(PDays[k][0],PDays[k][1],1)\n",
    "\n",
    "        #\n",
    "        plt.plot(x,\n",
    "                 n_frames,\n",
    "                 c=clrs[k],\n",
    "                 linewidth=3,\n",
    "                 label=mouse_ids[k])\n",
    "\n",
    "\n",
    "\n",
    "        \n",
    "        \n",
    "    #\n",
    "    plt.xlim(left=0)\n",
    "    plt.ylim(bottom=0)\n",
    "    plt.ylabel(\"# of seconds of recording \", fontsize=16)\n",
    "\n",
    "    #\n",
    "    plt.xlabel(\"P-Day\",fontsize=16)\n",
    "    plt.legend(ncol=2)\n",
    "    plt.show()\n",
    "    \n",
    "    \n",
    "##################################################\n",
    "##################################################\n",
    "##################################################\n",
    "clrs = ['black','blue','red','green']\n",
    "    \n",
    "# \n",
    "mouse_ids = [\n",
    "    # '006084',\n",
    "    # '006085',\n",
    "    # '006087',\n",
    "    'DON-009191',\n",
    "    'DON-009192',\n",
    "    'DON-010473',\n",
    "    'DON-010477'\n",
    "]\n",
    "\n",
    "# \n",
    "PDays = [\n",
    "    #[19,28],\n",
    "    #[19,28],\n",
    "    #[24,33],\n",
    "    [16,48],  # expression issues\n",
    "    [15,60],  \n",
    "    [16,33],\n",
    "    [15,33],\n",
    "]\n",
    "\n",
    "#\n",
    "show_n_frames_allmice(mouse_ids, PDays)\n"
   ]
  },
  {
   "cell_type": "code",
   "execution_count": null,
   "id": "51e27fbe-da8e-499a-8e31-cbd11b3739d5",
   "metadata": {},
   "outputs": [],
   "source": []
  },
  {
   "cell_type": "code",
   "execution_count": null,
   "id": "91cfc075-e005-4933-8f84-483520ec276f",
   "metadata": {},
   "outputs": [],
   "source": []
  },
  {
   "cell_type": "code",
   "execution_count": null,
   "id": "2cc1d61c-8fd5-4c7e-a95a-1367470cc3ed",
   "metadata": {},
   "outputs": [],
   "source": []
  },
  {
   "cell_type": "code",
   "execution_count": null,
   "id": "44511667-a160-4b5a-83c3-138955adb69e",
   "metadata": {},
   "outputs": [],
   "source": []
  },
  {
   "cell_type": "code",
   "execution_count": null,
   "id": "45269486-c426-461b-9e75-8b2090a77661",
   "metadata": {},
   "outputs": [],
   "source": []
  },
  {
   "cell_type": "code",
   "execution_count": null,
   "id": "817b06c8-9982-4b43-adff-df6ba0020c81",
   "metadata": {},
   "outputs": [],
   "source": []
  },
  {
   "cell_type": "code",
   "execution_count": 36,
   "id": "016a9c68-99ed-4925-959d-459ae558d4b7",
   "metadata": {},
   "outputs": [
    {
     "name": "stdout",
     "output_type": "stream",
     "text": [
      "(632, 111496)\n",
      "(427,)\n"
     ]
    }
   ],
   "source": [
    "F = np.load('/media/cat/4TB1/donato/DON-009191/20220223/002P-F/tif/suite2p/plane0/F.npy')\n",
    "print (F.shape)\n",
    "\n",
    "idx = np.load('/media/cat/4TB1/donato/DON-009191/20220223/002P-F/tif/suite2p/plane0/iscell.npy')\n",
    "print (np.where(idx==1.0)[0].shape)"
   ]
  },
  {
   "cell_type": "code",
   "execution_count": null,
   "id": "0ce645bb-9358-4798-93b7-c67b55d14ee9",
   "metadata": {},
   "outputs": [],
   "source": []
  },
  {
   "cell_type": "code",
   "execution_count": null,
   "id": "ded54641-462e-4174-9443-d389acc036e1",
   "metadata": {},
   "outputs": [],
   "source": []
  },
  {
   "cell_type": "code",
   "execution_count": null,
   "id": "911658f4-873f-4913-9c7d-616dff79c838",
   "metadata": {},
   "outputs": [],
   "source": []
  },
  {
   "cell_type": "code",
   "execution_count": null,
   "id": "3e021221-2995-44a6-b41a-0f7ddfd80bb9",
   "metadata": {},
   "outputs": [],
   "source": []
  },
  {
   "cell_type": "code",
   "execution_count": null,
   "id": "5301d749-9949-46c0-8873-4cd9beb55986",
   "metadata": {},
   "outputs": [],
   "source": []
  },
  {
   "cell_type": "code",
   "execution_count": null,
   "id": "cfb3307c-800f-46e5-b0e5-1b286dfc0cca",
   "metadata": {},
   "outputs": [],
   "source": []
  },
  {
   "cell_type": "code",
   "execution_count": null,
   "id": "235f6aed-3ae9-4e5c-bcf5-b520aedc647e",
   "metadata": {},
   "outputs": [],
   "source": []
  },
  {
   "cell_type": "code",
   "execution_count": null,
   "id": "f57dd334-7d42-4bd7-97fa-7b61b50a313e",
   "metadata": {},
   "outputs": [],
   "source": []
  },
  {
   "cell_type": "code",
   "execution_count": null,
   "id": "e46ab837-4f6b-4cba-8a17-c768bcae3538",
   "metadata": {},
   "outputs": [],
   "source": []
  },
  {
   "cell_type": "code",
   "execution_count": null,
   "id": "ae72a2b2-3801-4180-aa7d-abab4a14fdab",
   "metadata": {},
   "outputs": [],
   "source": []
  },
  {
   "cell_type": "code",
   "execution_count": null,
   "id": "2064a0bf-6846-4103-bfaf-99f69f1d5b93",
   "metadata": {},
   "outputs": [],
   "source": []
  },
  {
   "cell_type": "code",
   "execution_count": null,
   "id": "d1939e46-a23d-4cb8-9372-1529ef1b0364",
   "metadata": {},
   "outputs": [],
   "source": []
  },
  {
   "cell_type": "code",
   "execution_count": null,
   "id": "35d29b28-c26d-4108-badb-002c58ee4dca",
   "metadata": {},
   "outputs": [],
   "source": []
  },
  {
   "cell_type": "code",
   "execution_count": null,
   "id": "50a93598-4be6-45ca-8acf-a3ff3cf8dc9c",
   "metadata": {},
   "outputs": [],
   "source": []
  },
  {
   "cell_type": "code",
   "execution_count": null,
   "id": "2df4f0ff-060d-4c58-adaa-c1954208a6e3",
   "metadata": {},
   "outputs": [],
   "source": []
  },
  {
   "cell_type": "code",
   "execution_count": null,
   "id": "14abf60b-d66a-477c-adca-cccc06f8f5b1",
   "metadata": {},
   "outputs": [],
   "source": []
  }
 ],
 "metadata": {
  "kernelspec": {
   "display_name": "Python 3 (ipykernel)",
   "language": "python",
   "name": "python3"
  },
  "language_info": {
   "codemirror_mode": {
    "name": "ipython",
    "version": 3
   },
   "file_extension": ".py",
   "mimetype": "text/x-python",
   "name": "python",
   "nbconvert_exporter": "python",
   "pygments_lexer": "ipython3",
   "version": "3.8.15"
  }
 },
 "nbformat": 4,
 "nbformat_minor": 5
}
