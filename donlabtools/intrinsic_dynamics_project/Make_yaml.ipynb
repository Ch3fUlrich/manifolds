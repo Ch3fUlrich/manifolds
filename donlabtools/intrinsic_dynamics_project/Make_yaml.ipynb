{
 "cells": [
  {
   "cell_type": "code",
   "execution_count": 1,
   "id": "b0467c63-9d3b-4a13-be42-eaadce8c8073",
   "metadata": {},
   "outputs": [
    {
     "data": {
      "application/javascript": "IPython.notebook.set_autosave_interval(180000)"
     },
     "metadata": {},
     "output_type": "display_data"
    },
    {
     "name": "stdout",
     "output_type": "stream",
     "text": [
      "Autosaving every 180 seconds\n"
     ]
    },
    {
     "name": "stderr",
     "output_type": "stream",
     "text": [
      "<ipython-input-1-5a02044cf7a9>:12: DeprecationWarning: Importing display from IPython.core.display is deprecated since IPython 7.14, please import from IPython display\n",
      "  from IPython.core.display import display, HTML\n"
     ]
    },
    {
     "data": {
      "text/html": [
       "<style>.container { width:100% !important; }</style>"
      ],
      "text/plain": [
       "<IPython.core.display.HTML object>"
      ]
     },
     "metadata": {},
     "output_type": "display_data"
    },
    {
     "name": "stderr",
     "output_type": "stream",
     "text": [
      "/home/cat/.conda/envs/donato/lib/python3.8/site-packages/tqdm/auto.py:22: TqdmWarning: IProgress not found. Please update jupyter and ipywidgets. See https://ipywidgets.readthedocs.io/en/stable/user_install.html\n",
      "  from .autonotebook import tqdm as notebook_tqdm\n"
     ]
    }
   ],
   "source": [
    "import matplotlib\n",
    "%matplotlib tk\n",
    "%autosave 180\n",
    "%load_ext autoreload\n",
    "%autoreload 2\n",
    "\n",
    "import nest_asyncio\n",
    "%config Completer.use_jedi = False\n",
    "\n",
    "#\n",
    "import matplotlib.pyplot as plt\n",
    "from IPython.core.display import display, HTML\n",
    "display(HTML(\"<style>.container { width:100% !important; }</style>\"))\n",
    "\n",
    "# \n",
    "import numpy as np\n",
    "import os\n",
    "import scipy\n",
    "\n",
    "# add root directory to be able to import packages\n",
    "# todo: make all packages installable so they can be called/imported by environment\n",
    "import sys\n",
    "module_path = os.path.abspath(os.path.join('..'))\n",
    "sys.path.append(module_path)\n",
    "\n",
    "from utils.calcium import calcium\n",
    "from utils.wheel import wheel\n",
    "from utils.cohort import cohort \n",
    "\n",
    "\n"
   ]
  },
  {
   "cell_type": "code",
   "execution_count": 87,
   "id": "cbeaee42-466a-44e6-a4f2-2d7e7e57d0f3",
   "metadata": {},
   "outputs": [],
   "source": [
    "#######################################################\n",
    "#######################################################\n",
    "#######################################################\n",
    "\n",
    "#\n",
    "mouse_ids = [\n",
    "    'DON-006084',\n",
    "    'DON-006085',\n",
    "    'DON-006087',\n",
    "    \n",
    "   # 'DON-009191',\n",
    "   # 'DON-009192',\n",
    "   # 'DON-010473',\n",
    "   # 'DON-010477',\n",
    "           \n",
    "    'DON-002865',\n",
    "    'DON-003165',\n",
    "    'DON-003343',\n",
    "    \n",
    "   # 'DON-008497',\n",
    "   # 'DON-008498',\n",
    "   # 'DON-008499',  \n",
    "]\n",
    "\n",
    "\n",
    "dobs = [\n",
    "\n",
    "\n",
    "'20210430',\n",
    "'20210430',\n",
    "'20210430',\n",
    "\n",
    "\n",
    "#\n",
    "#\n",
    "#\n",
    "\n",
    "\n",
    "'20210622',\n",
    "'20200731',\n",
    "'20200826'\n",
    "\n",
    "#\n",
    "#\n",
    "#\n",
    "\n",
    "\n",
    "]\n",
    "\n",
    "sexes = [\n",
    "\n",
    "'male',\n",
    "'male',\n",
    "'male',\n",
    "\n",
    "\n",
    "#\n",
    "#\n",
    "#\n",
    "\n",
    "'male',\n",
    "'male',\n",
    "'male'\n",
    "\n",
    "\n",
    "#\n",
    "#\n",
    "#\n",
    "]\n",
    "\n",
    "#\n",
    "years = [\n",
    "    [2021],\n",
    "    [2021],\n",
    "    [2021],\n",
    "\n",
    "   # [2022],\n",
    "   # [2022],\n",
    "   # [2022],\n",
    "   # [2022],\n",
    "\n",
    "    [2021],\n",
    "    [2021],\n",
    "    [2021],\n",
    "\n",
    "    #[2022],\n",
    "    #[2022],\n",
    "    #[2022],\n",
    "]\n",
    "\n",
    "\n",
    "\n",
    "#\n",
    "PDays = [\n",
    "    [19,28],\n",
    "    [19,28],\n",
    "    [24,33],\n",
    "    \n",
    "    #[16,48],  # expression issues\n",
    "    #[15,60],  \n",
    "    #[16,33],\n",
    "    #[15,33],\n",
    "    \n",
    "    [90,100],\n",
    "    [120,130],\n",
    "    [150,160],\n",
    "    \n",
    "    #[60,73],\n",
    "    #[60,73],\n",
    "    #[60,73],\n",
    "\n",
    "]\n"
   ]
  },
  {
   "cell_type": "code",
   "execution_count": 93,
   "id": "37d61c8a-a8f5-4728-b224-f0a448504e94",
   "metadata": {
    "collapsed": true,
    "jupyter": {
     "outputs_hidden": true
    },
    "tags": []
   },
   "outputs": [
    {
     "name": "stdout",
     "output_type": "stream",
     "text": [
      "DON-006084 [19, 28] [2021]\n",
      "DON-006085 [19, 28] [2021]\n",
      "DON-006087 [24, 33] [2021]\n",
      "DON-002865 [90, 100] [2021]\n",
      "DON-003165 [120, 130] [2021]\n",
      "DON-003343 [150, 160] [2021]\n"
     ]
    }
   ],
   "source": [
    "#######################################################\n",
    "#######################################################\n",
    "#######################################################\n",
    "import yaml\n",
    "\n",
    "#\n",
    "root_dir = \"/run/user/1000/gvfs/smb-share:server=toucan-all.scicore.unibas.ch,share=donafl00-calcium$/Users/Rodrigo/\"\n",
    "\n",
    "\n",
    "#\n",
    "Dict = {}\n",
    "for mouse_id, PDay, sex, dob, year in zip(mouse_ids, PDays, sexes, dobs, years):\n",
    "    print (mouse_id, PDay, year)\n",
    "\n",
    "    fname_dir = os.path.join(root_dir, str(year[0]), mouse_id)\n",
    "    \n",
    "    #\n",
    "    fname = os.path.join(fname_dir, 'sessions.txt')\n",
    "    sessions = np.loadtxt(fname,dtype='str')\n",
    "\n",
    "\n",
    "    data = dict(name = mouse_id,\n",
    "                dob = dob,\n",
    "                sex = sex,\n",
    "                cohort_year = year,\n",
    "                session_names=[str(sessions[k]) for k in range(len(sessions))],\n",
    "                session_dates=[str(sessions[k]) for k in range(len(sessions))],\n",
    "                pdays=np.arange(PDay[0],PDay[1]).tolist())\n",
    "\n",
    "    #\n",
    "    #Dict.update({mouse_id:data})\n",
    "\n",
    "    # Specify the path where you want to save the YAML file\n",
    "    fname_out = '/home/cat/'+mouse_id+ '.yaml'\n",
    "\n",
    "    # Write the data to the YAML file\n",
    "    with open(fname_out, 'w') as file:\n",
    "        yaml.dump(data, file)\n",
    "\n",
    "\n"
   ]
  },
  {
   "cell_type": "code",
   "execution_count": 85,
   "id": "0209b1e1-96b3-41ce-a02c-00f40298b2f7",
   "metadata": {},
   "outputs": [
    {
     "name": "stdout",
     "output_type": "stream",
     "text": [
      "{'DON-002865': {'Pdays': [90, 91, 92, 93, 94, 95, 96, 97, 98, 99, 100], 'name': 'DON-002865', 'sessions': ['DON-002865_20210210', 'DON-002865_20210211', 'DON-002865_202102112', 'DON-002865_202102113', 'DON-002865_202102114', 'DON-002865_202102115', 'DON-002865_202102116', 'DON-002865_202102117', 'DON-002865_202102118', 'DON-002865_202102119'], 'year': [2021]}, 'DON-003165': {'Pdays': [120, 121, 122, 123, 124, 125, 126, 127, 128, 129, 130], 'name': 'DON-003165', 'sessions': ['DON-003165_20210211', 'DON-003165_20210213', 'DON-003165_20210215', 'DON-003165_20210216', 'DON-003165_20210217', 'DON-003165_20210218', 'DON-003165_20210219', 'DON-003165_20210220', 'DON-003165_20210222', 'DON-003165_20210223'], 'year': [2021]}, 'DON-003343': {'Pdays': [150, 151, 152, 153, 154, 155, 156, 157, 158, 159, 160], 'name': 'DON-003343', 'sessions': ['DON-003343_20210213', 'DON-003343_20210214', 'DON-003343_20210215', 'DON-003343_20210216', 'DON-003343_20210217', 'DON-003343_20210218', 'DON-003343_20210219', 'DON-003343_20210220', 'DON-003343_20210221', 'DON-003343_20210222'], 'year': [2021]}, 'DON-006084': {'Pdays': [19, 20, 21, 22, 23, 24, 25, 26, 27, 28], 'name': 'DON-006084', 'sessions': ['20210519', '20210520', '20210521', '20210522', '20210523', '20210524', '20210525', '20210526', '20210527', '20210528'], 'year': [2021]}, 'DON-006085': {'Pdays': [19, 20, 21, 22, 23, 24, 25, 26, 27, 28], 'name': 'DON-006085', 'sessions': ['20210519', '20210520', '20210521', '20210522', '20210523', '20210524', '20210525', '20210526', '20210527', '20210528'], 'year': [2021]}, 'DON-006087': {'Pdays': [24, 25, 26, 27, 28, 29, 30, 31, 32, 33], 'name': 'DON-006087', 'sessions': ['20210524', '20210525', '20210526', '20210527', '20210528', '20210529', '20210530', '20210531', '20210601', '20210602'], 'year': [2021]}}\n"
     ]
    }
   ],
   "source": [
    "with open(fname_out) as file:\n",
    "    doc = yaml.load(file, Loader=yaml.FullLoader)\n",
    "\n",
    "    #sort_file = yaml.dump(doc, sort_keys=True)\n",
    "    print(doc)"
   ]
  },
  {
   "cell_type": "code",
   "execution_count": null,
   "id": "feb2870f-a11f-4f40-8878-4ca6e57a2542",
   "metadata": {},
   "outputs": [],
   "source": []
  },
  {
   "cell_type": "code",
   "execution_count": null,
   "id": "1f188bf4-3afb-45c4-99fc-2f1a3934f932",
   "metadata": {},
   "outputs": [],
   "source": []
  },
  {
   "cell_type": "code",
   "execution_count": null,
   "id": "55233f71-2405-477a-971f-d7d5ef79a028",
   "metadata": {},
   "outputs": [],
   "source": []
  },
  {
   "cell_type": "code",
   "execution_count": null,
   "id": "dc61d334-7edf-4c50-9c06-1acac00f25f9",
   "metadata": {},
   "outputs": [],
   "source": []
  },
  {
   "cell_type": "code",
   "execution_count": null,
   "id": "1ddfa007-e5de-4c53-ad42-32a71733410c",
   "metadata": {},
   "outputs": [],
   "source": []
  },
  {
   "cell_type": "code",
   "execution_count": null,
   "id": "9cb8272e-d559-49a2-bfb8-8c48d0871a5d",
   "metadata": {},
   "outputs": [],
   "source": []
  },
  {
   "cell_type": "code",
   "execution_count": null,
   "id": "1f62a6a4-3637-479c-a30c-096ca356b6fb",
   "metadata": {},
   "outputs": [],
   "source": []
  },
  {
   "cell_type": "code",
   "execution_count": null,
   "id": "ec5e6e07-2475-40e2-b68d-54cfa9f41e0e",
   "metadata": {},
   "outputs": [],
   "source": []
  },
  {
   "cell_type": "code",
   "execution_count": null,
   "id": "364d2ba6-fd42-49de-8004-00fb7e6d35e4",
   "metadata": {},
   "outputs": [],
   "source": []
  },
  {
   "cell_type": "code",
   "execution_count": null,
   "id": "87efadea-d849-4d99-9fbb-34adff02fce7",
   "metadata": {},
   "outputs": [],
   "source": []
  }
 ],
 "metadata": {
  "kernelspec": {
   "display_name": "Python 3 (ipykernel)",
   "language": "python",
   "name": "python3"
  },
  "language_info": {
   "codemirror_mode": {
    "name": "ipython",
    "version": 3
   },
   "file_extension": ".py",
   "mimetype": "text/x-python",
   "name": "python",
   "nbconvert_exporter": "python",
   "pygments_lexer": "ipython3",
   "version": "3.8.12"
  }
 },
 "nbformat": 4,
 "nbformat_minor": 5
}
