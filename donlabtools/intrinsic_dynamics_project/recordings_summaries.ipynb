{
 "cells": [
  {
   "cell_type": "code",
   "execution_count": 3,
   "id": "3f67a6dc-ac29-4135-a506-607562ad77d1",
   "metadata": {},
   "outputs": [
    {
     "data": {
      "application/javascript": "IPython.notebook.set_autosave_interval(180000)"
     },
     "metadata": {},
     "output_type": "display_data"
    },
    {
     "name": "stdout",
     "output_type": "stream",
     "text": [
      "Autosaving every 180 seconds\n"
     ]
    },
    {
     "name": "stderr",
     "output_type": "stream",
     "text": [
      "<ipython-input-3-e3b2feee25f7>:12: DeprecationWarning: Importing display from IPython.core.display is deprecated since IPython 7.14, please import from IPython display\n",
      "  from IPython.core.display import display, HTML\n"
     ]
    },
    {
     "data": {
      "text/html": [
       "<style>.container { width:100% !important; }</style>"
      ],
      "text/plain": [
       "<IPython.core.display.HTML object>"
      ]
     },
     "metadata": {},
     "output_type": "display_data"
    },
    {
     "name": "stderr",
     "output_type": "stream",
     "text": [
      "/home/cat/.conda/envs/donato/lib/python3.8/site-packages/tqdm/auto.py:22: TqdmWarning: IProgress not found. Please update jupyter and ipywidgets. See https://ipywidgets.readthedocs.io/en/stable/user_install.html\n",
      "  from .autonotebook import tqdm as notebook_tqdm\n"
     ]
    }
   ],
   "source": [
    "import matplotlib\n",
    "%matplotlib tk\n",
    "%autosave 180\n",
    "%load_ext autoreload\n",
    "%autoreload 2\n",
    "\n",
    "import nest_asyncio\n",
    "%config Completer.use_jedi = False\n",
    "\n",
    "#\n",
    "import matplotlib.pyplot as plt\n",
    "from IPython.core.display import display, HTML\n",
    "display(HTML(\"<style>.container { width:100% !important; }</style>\"))\n",
    "\n",
    "# \n",
    "import numpy as np\n",
    "import os\n",
    "import scipy\n",
    "\n",
    "# add root directory to be able to import packages\n",
    "# todo: make all packages installable so they can be called/imported by environment\n",
    "import sys\n",
    "module_path = os.path.abspath(os.path.join('..'))\n",
    "sys.path.append(module_path)\n",
    "\n",
    "from utils.calcium import calcium\n",
    "from utils.wheel import wheel\n",
    "from utils.cohort import cohort "
   ]
  },
  {
   "cell_type": "code",
   "execution_count": 19,
   "id": "501ff89f-79aa-4869-8bbc-b95e0bee5a96",
   "metadata": {},
   "outputs": [],
   "source": [
    "#################################################\n",
    "########## PDAYS OF RECORDINGS - PUPS ###########\n",
    "#################################################\n",
    "\n",
    "#\n",
    "root_dir = '/media/cat/4TB/donato/'\n",
    "\n",
    "#\n",
    "mouse_ids = [\n",
    "    'DON-006084',\n",
    "    'DON-006085',\n",
    "    'DON-006087',\n",
    "     'DON-002865',   #P90\n",
    "     'DON-003165',   #P120\n",
    "     'DON-003343',   #P150\n",
    "\n",
    "#     #'DON-009191',\n",
    "    #'DON-009192',\n",
    "    #'DON-010473',\n",
    "    #'DON-010477',\n",
    "    \n",
    "    \n",
    "        \n",
    "#     'DON-002865',   P90\n",
    "#     'DON-003165',   P120\n",
    "#     'DON-003343',   P150\n",
    "    \n",
    "#     'DON-008497',   P60\n",
    "#     'DON-008498',   P60\n",
    "#     'DON-008499',   P60\n",
    "       \n",
    "    \n",
    "    \n",
    "    \n",
    "]\n",
    "\n",
    "#\n",
    "PDays = [\n",
    "    [19,28],\n",
    "    [19,28],\n",
    "    [24,33],\n",
    "    [90,99],\n",
    "    [120,129],\n",
    "    [150,159],\n",
    "\n",
    "\n",
    "\n",
    "   # [16,48],  # expression issues\n",
    "   # [15,60],  \n",
    "   # [16,33],\n",
    "   # [15,33],\n",
    "    \n",
    "    \n",
    "\n",
    "    \n",
    "    \n",
    "]\n",
    "\n",
    "#\n",
    "coh = cohort.Cohort(mouse_ids, \n",
    "                    PDays,\n",
    "                    wheel.Wheel)\n",
    "\n",
    "coh.root_dir = root_dir\n",
    "\n"
   ]
  },
  {
   "cell_type": "code",
   "execution_count": 20,
   "id": "52fa9fdd-9592-4627-a070-9c99988b2fee",
   "metadata": {},
   "outputs": [],
   "source": [
    "\n",
    "coh.plot_recording_summary()\n"
   ]
  },
  {
   "cell_type": "code",
   "execution_count": 57,
   "id": "a8cf6d20-bb08-4ffc-a6e2-ab6d20481e0c",
   "metadata": {},
   "outputs": [
    {
     "name": "stdout",
     "output_type": "stream",
     "text": [
      "[19 20 21 22 23 24 25 26 27 28]\n",
      "[441, 521, 460, 562, 514, 259, 544, 322, 546, 400]\n",
      "[19 20 21 22 23 24 25 26 27 28]\n",
      "[1316, 1111, 460, 1603, 1191, 1173, 1128, 1015, 1027, 690]\n",
      "[24 25 26 27 28 29 30 31 32 33]\n",
      "[244, 418, 632, 573, 764, 1009, 1466, 1132, 962, 1121]\n",
      "[90 91 92 93 94 95 96 97 98 99]\n",
      "[1064, 748, 885, 827, 1177, 850, 769, 594, 876, 1079]\n",
      "[120 121 122 123 124 125 126 127 128 129]\n",
      "[657, 354, 337, 389, 399, 399, 305, 301, 321, 305]\n",
      "[150 151 152 153 154 155 156 157 158 159]\n",
      "[840, 842, 1084, 1023, 778, 542, 840, 882, 605, 519]\n"
     ]
    }
   ],
   "source": [
    "#################################################\n",
    "############ # of CELLS PER RECORDING ###########\n",
    "#################################################\n",
    "# \n",
    "coh.show_n_cell_allmice()\n",
    "#\n"
   ]
  },
  {
   "cell_type": "code",
   "execution_count": 37,
   "id": "175acabc-ab48-4e5b-b749-acdc45aec5ee",
   "metadata": {},
   "outputs": [],
   "source": [
    "##############################################################\n",
    "##############################################################\n",
    "##############################################################\n",
    "\n",
    "#\n",
    "coh.show_n_frames_allmice()\n"
   ]
  },
  {
   "cell_type": "code",
   "execution_count": 52,
   "id": "91cfc075-e005-4933-8f84-483520ec276f",
   "metadata": {},
   "outputs": [
    {
     "name": "stderr",
     "output_type": "stream",
     "text": [
      "loading mice: 100%|██████████| 6/6 [00:07<00:00,  1.28s/it]\n"
     ]
    }
   ],
   "source": [
    "##############################################################\n",
    "##############################################################\n",
    "##############################################################\n",
    "\n",
    "coh.show_distance_travelled_allmice()"
   ]
  },
  {
   "cell_type": "code",
   "execution_count": 54,
   "id": "2cc1d61c-8fd5-4c7e-a95a-1367470cc3ed",
   "metadata": {},
   "outputs": [
    {
     "name": "stdout",
     "output_type": "stream",
     "text": [
      "missing data for DON-002865_202102112\n",
      "missing data for DON-003343_20210221\n"
     ]
    }
   ],
   "source": [
    "##############################################################\n",
    "##############################################################\n",
    "##############################################################\n",
    "\n",
    "#\n",
    "coh.show_time_spent_running_allmice()"
   ]
  },
  {
   "cell_type": "code",
   "execution_count": null,
   "id": "44511667-a160-4b5a-83c3-138955adb69e",
   "metadata": {},
   "outputs": [],
   "source": []
  },
  {
   "cell_type": "code",
   "execution_count": null,
   "id": "45269486-c426-461b-9e75-8b2090a77661",
   "metadata": {},
   "outputs": [],
   "source": []
  },
  {
   "cell_type": "code",
   "execution_count": null,
   "id": "817b06c8-9982-4b43-adff-df6ba0020c81",
   "metadata": {},
   "outputs": [],
   "source": []
  },
  {
   "cell_type": "code",
   "execution_count": 36,
   "id": "016a9c68-99ed-4925-959d-459ae558d4b7",
   "metadata": {},
   "outputs": [
    {
     "name": "stdout",
     "output_type": "stream",
     "text": [
      "(632, 111496)\n",
      "(427,)\n"
     ]
    }
   ],
   "source": [
    "F = np.load('/media/cat/4TB1/donato/DON-009191/20220223/002P-F/tif/suite2p/plane0/F.npy')\n",
    "print (F.shape)\n",
    "\n",
    "idx = np.load('/media/cat/4TB1/donato/DON-009191/20220223/002P-F/tif/suite2p/plane0/iscell.npy')\n",
    "print (np.where(idx==1.0)[0].shape)"
   ]
  },
  {
   "cell_type": "code",
   "execution_count": null,
   "id": "0ce645bb-9358-4798-93b7-c67b55d14ee9",
   "metadata": {},
   "outputs": [],
   "source": []
  },
  {
   "cell_type": "code",
   "execution_count": null,
   "id": "ded54641-462e-4174-9443-d389acc036e1",
   "metadata": {},
   "outputs": [],
   "source": []
  },
  {
   "cell_type": "code",
   "execution_count": null,
   "id": "911658f4-873f-4913-9c7d-616dff79c838",
   "metadata": {},
   "outputs": [],
   "source": []
  },
  {
   "cell_type": "code",
   "execution_count": null,
   "id": "3e021221-2995-44a6-b41a-0f7ddfd80bb9",
   "metadata": {},
   "outputs": [],
   "source": []
  },
  {
   "cell_type": "code",
   "execution_count": null,
   "id": "5301d749-9949-46c0-8873-4cd9beb55986",
   "metadata": {},
   "outputs": [],
   "source": []
  },
  {
   "cell_type": "code",
   "execution_count": null,
   "id": "cfb3307c-800f-46e5-b0e5-1b286dfc0cca",
   "metadata": {},
   "outputs": [],
   "source": []
  },
  {
   "cell_type": "code",
   "execution_count": null,
   "id": "235f6aed-3ae9-4e5c-bcf5-b520aedc647e",
   "metadata": {},
   "outputs": [],
   "source": []
  },
  {
   "cell_type": "code",
   "execution_count": null,
   "id": "f57dd334-7d42-4bd7-97fa-7b61b50a313e",
   "metadata": {},
   "outputs": [],
   "source": []
  },
  {
   "cell_type": "code",
   "execution_count": null,
   "id": "e46ab837-4f6b-4cba-8a17-c768bcae3538",
   "metadata": {},
   "outputs": [],
   "source": []
  },
  {
   "cell_type": "code",
   "execution_count": null,
   "id": "ae72a2b2-3801-4180-aa7d-abab4a14fdab",
   "metadata": {},
   "outputs": [],
   "source": []
  },
  {
   "cell_type": "code",
   "execution_count": null,
   "id": "2064a0bf-6846-4103-bfaf-99f69f1d5b93",
   "metadata": {},
   "outputs": [],
   "source": []
  },
  {
   "cell_type": "code",
   "execution_count": null,
   "id": "d1939e46-a23d-4cb8-9372-1529ef1b0364",
   "metadata": {},
   "outputs": [],
   "source": []
  },
  {
   "cell_type": "code",
   "execution_count": null,
   "id": "35d29b28-c26d-4108-badb-002c58ee4dca",
   "metadata": {},
   "outputs": [],
   "source": []
  },
  {
   "cell_type": "code",
   "execution_count": null,
   "id": "50a93598-4be6-45ca-8acf-a3ff3cf8dc9c",
   "metadata": {},
   "outputs": [],
   "source": []
  },
  {
   "cell_type": "code",
   "execution_count": null,
   "id": "2df4f0ff-060d-4c58-adaa-c1954208a6e3",
   "metadata": {},
   "outputs": [],
   "source": []
  },
  {
   "cell_type": "code",
   "execution_count": null,
   "id": "14abf60b-d66a-477c-adca-cccc06f8f5b1",
   "metadata": {},
   "outputs": [],
   "source": []
  }
 ],
 "metadata": {
  "kernelspec": {
   "display_name": "Python 3 (ipykernel)",
   "language": "python",
   "name": "python3"
  },
  "language_info": {
   "codemirror_mode": {
    "name": "ipython",
    "version": 3
   },
   "file_extension": ".py",
   "mimetype": "text/x-python",
   "name": "python",
   "nbconvert_exporter": "python",
   "pygments_lexer": "ipython3",
   "version": "3.8.15"
  }
 },
 "nbformat": 4,
 "nbformat_minor": 5
}
