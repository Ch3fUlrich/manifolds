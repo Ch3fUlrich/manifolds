{
 "cells": [
  {
   "cell_type": "code",
   "execution_count": 2,
   "id": "611dc90f",
   "metadata": {},
   "outputs": [
    {
     "data": {
      "application/javascript": "IPython.notebook.set_autosave_interval(180000)"
     },
     "metadata": {},
     "output_type": "display_data"
    },
    {
     "name": "stdout",
     "output_type": "stream",
     "text": [
      "Autosaving every 180 seconds\n",
      "The autoreload extension is already loaded. To reload it, use:\n",
      "  %reload_ext autoreload\n"
     ]
    },
    {
     "name": "stderr",
     "output_type": "stream",
     "text": [
      "<ipython-input-2-7738a0d6c81d>:12: DeprecationWarning: Importing display from IPython.core.display is deprecated since IPython 7.14, please import from IPython display\n",
      "  from IPython.core.display import display, HTML\n"
     ]
    },
    {
     "data": {
      "text/html": [
       "<style>.container { width:100% !important; }</style>"
      ],
      "text/plain": [
       "<IPython.core.display.HTML object>"
      ]
     },
     "metadata": {},
     "output_type": "display_data"
    }
   ],
   "source": [
    "import matplotlib\n",
    "%matplotlib tk\n",
    "%autosave 180\n",
    "%load_ext autoreload\n",
    "%autoreload 2\n",
    "\n",
    "import nest_asyncio\n",
    "%config Completer.use_jedi = False\n",
    "\n",
    "#\n",
    "import matplotlib.pyplot as plt\n",
    "from IPython.core.display import display, HTML\n",
    "display(HTML(\"<style>.container { width:100% !important; }</style>\"))\n",
    "\n",
    "# \n",
    "import numpy as np\n",
    "import os\n",
    "import scipy\n",
    "from scipy import stats\n",
    "\n",
    "# add root directory to be able to import packages\n",
    "# todo: make all packages installable so they can be called/imported by environment\n",
    "# import sys\n",
    "# module_path = os.path.abspath(os.path.join('..'))\n",
    "# sys.path.append(module_path)\n",
    "\n",
    "# from utils.wheel import wheel\n",
    "# from utils.calcium import calcium\n",
    "# from utils.animal_database import animal_database\n"
   ]
  },
  {
   "cell_type": "code",
   "execution_count": 39,
   "id": "e9d77e34",
   "metadata": {},
   "outputs": [
    {
     "name": "stdout",
     "output_type": "stream",
     "text": [
      "[0 0 0 1 1 1 1 1 1 1 0 0 1 1 0 0 0 0 0 1 0 0]\n",
      "diffs:  [1 1 1 1 1 1 3 1 6]\n",
      "diffs:  [ 1  1 12  1  1  1  1  2  1]\n",
      "[0 0 0 1 1 1 1 1 1 1 1 1 1 1 0 0 0 0 0 0 0 0]\n"
     ]
    }
   ],
   "source": [
    "\n",
    "# FUNCTION FOR NATHALIE'S MERGEING RUNNING and NONTMOVING BOUTS\n",
    "\n",
    "def replace_sequences_in_place(arr, n):\n",
    "\n",
    "    #\n",
    "    idx = np.where(arr==1)[0]\n",
    "    idx_diff = np.diff(idx)\n",
    "\n",
    "    # fill in all sequences less than n with 0s\n",
    "    for i in range(len(idx_diff)):\n",
    "        if idx_diff[i]<n:\n",
    "            arr[idx[i]:idx[i+1]] = 1\n",
    " \n",
    "    idx = np.where(arr==0)[0]\n",
    "    idx_diff = np.diff(idx)\n",
    "\n",
    "    # fill in all sequences less than n with 0s\n",
    "    for i in range(len(idx_diff)):\n",
    "        if idx_diff[i]<n:\n",
    "            arr[idx[i]:idx[i+1]] = 0\n",
    " \n",
    "    return arr\n",
    "    \n",
    "\n",
    "    #\n",
    "\n",
    "\n",
    "# make a boolean array of all stationary frames \n",
    "idx_stationary = np.array([0,0,0,1,1,1,1,1,1,1,0,0,1,1,0,0,0,0,0,1,0,0])\n",
    "print (idx_stationary)\n",
    "\n",
    "idx_stationary = replace_sequences_in_place(idx_stationary, 5)\n",
    "print (idx_stationary)\n",
    "\n"
   ]
  },
  {
   "cell_type": "code",
   "execution_count": null,
   "id": "d0a91d96",
   "metadata": {},
   "outputs": [],
   "source": []
  },
  {
   "cell_type": "code",
   "execution_count": 10,
   "id": "ead03f5f-94cc-4036-9076-bc8ec0a5ca79",
   "metadata": {},
   "outputs": [
    {
     "name": "stdout",
     "output_type": "stream",
     "text": [
      "Final cumulative variance explained:  10\n",
      "Pca not available;  DON-006085 20210521\n",
      "Final cumulative variance explained:  9\n",
      "Pca not available;  DON-003165 DON-003165_20210215\n",
      "Pca not available;  DON-003165 DON-003165_20210219\n",
      "Final cumulative variance explained:  8\n",
      "Pca not available;  DON-003343 DON-003343_20210215\n",
      "Pca not available;  DON-003343 DON-003343_20210221\n",
      "Pca not available;  DON-003343 DON-003343_20210222\n",
      "Final cumulative variance explained:  7\n"
     ]
    }
   ],
   "source": [
    "#############################################\n",
    "########### LOAD ALREADY COMPUTED PCA #######\n",
    "#############################################\n",
    "root_dir = '/media/cat/4TB/donato/'\n",
    "binarization_method = 'upphase'\n",
    "quiescent_periods = True\n",
    "cell_randomization = False\n",
    "recompute = False\n",
    "\n",
    "#                          #cells, #secs,  #P-day start\n",
    "animal_ids = {'DON-006084':[200, 600, 19], \n",
    "              'DON-006085':[500, 600, 19],\n",
    "              'DON-003165':[200, 600, 120],\n",
    "              'DON-003343':[400, 600, 150]\n",
    "             }\n",
    "\n",
    "\n",
    "evs = []\n",
    "times = []\n",
    "for kk in animal_ids.items():\n",
    "    \n",
    "    # \n",
    "    animal_id = kk[0]\n",
    "    \n",
    "    # \n",
    "    n_cells = kk[1][0]\n",
    "    n_times = kk[1][1]\n",
    "    p_start = kk[1][2]\n",
    "    # \n",
    "    ad = animal_database.AnimalDatabase()\n",
    "    ad.load_sessions(animal_id)\n",
    "\n",
    "    # \n",
    "    animal_id = kk[0]\n",
    "    \n",
    "    # \n",
    "    n_cells = kk[1][0]\n",
    "    n_times = kk[1][1]\n",
    "    p_start = kk[1][2]# \n",
    "    clrs = ['black','blue','red']\n",
    "\n",
    "    # \n",
    "    binarization_method = 'upphase'\n",
    "    cum_var = []\n",
    "    singular_vals = []\n",
    "\n",
    "    #n_cells = 400\n",
    "    #n_times = 600\n",
    "    temp_times = []\n",
    "    temp_evs = []\n",
    "    for ctr, session in enumerate(ad.sessions):\n",
    "\n",
    "        # \n",
    "        c = calcium.Calcium()\n",
    "        c.root_dir = root_dir\n",
    "        c.data_dir = os.path.join(root_dir, animal_id, session)\n",
    "        c.animal_id = animal_id\n",
    "        c.session = session\n",
    "        c.load_suite2p()\n",
    "\n",
    "        #c.load_binarization()\n",
    "\n",
    "        #\n",
    "        try:\n",
    "            pca, X_pca = c.load_PCA(session, n_cells, n_times)\n",
    "        except:\n",
    "            print (\"Pca not available; \", animal_id, session)\n",
    "            continue\n",
    "        #\n",
    "        temp_times.append(ctr+p_start)\n",
    "        ctr+=1\n",
    "\n",
    "        #print (session, X_pca.shape)\n",
    "        cum_var.append(pca.explained_variance_ratio_)\n",
    "\n",
    "        #\n",
    "        temp_evs.append(pca.singular_values_)\n",
    "    \n",
    "    times.append(temp_times)\n",
    "    evs.append(temp_evs)\n",
    "\n",
    "    # \n",
    "    print (\"# of sessions loaded: \", animal_id, len(cum_var))"
   ]
  },
  {
   "cell_type": "code",
   "execution_count": 13,
   "id": "8770b8a9-4ad5-4281-823f-78d710ad05bf",
   "metadata": {},
   "outputs": [],
   "source": [
    "#######################################################################\n",
    "###### LINEAR REGRESSION EIGENVALUE SPECTRUM/DECAY - ALL SESSIONS #####\n",
    "#######################################################################\n",
    "clrs = ['black','blue','red','green']\n",
    "\n",
    "fig=plt.figure(figsize=(10,5))\n",
    "ctr=0\n",
    "for times1, evs1 in zip(times, evs):\n",
    "    \n",
    "    slopes = []\n",
    "    singular_vals = evs1\n",
    "    for k in range(len(singular_vals)):\n",
    "\n",
    "        # get eigenvalues\n",
    "        temp = singular_vals[k]\n",
    "\n",
    "        # take log\n",
    "        temp_log = np.log(temp)\n",
    "\n",
    "        # \n",
    "        x = np.arange(len(temp_log))\n",
    "        z = np.polyfit(x, temp_log, 1)\n",
    "        slopes.append(z[0])\n",
    "        z = np.poly1d(z)(x)\n",
    "    \n",
    "\n",
    "    # \n",
    "    x = times1\n",
    "    z = np.polyfit(x, slopes, 1)\n",
    "    z = np.poly1d(z)(x)\n",
    "    \n",
    "    #\n",
    "    pcor = stats.pearsonr(x,slopes)\n",
    "\n",
    "    #\n",
    "    plt.scatter(times1, \n",
    "                slopes, \n",
    "                c=clrs[ctr],\n",
    "               label=list(animal_ids.keys())[ctr]+\": p-cor:\"+str(round(pcor[0],3)).zfill(4)+\", p-val:\"+str(round(pcor[1],3)))\n",
    "    if pcor[1]<0.05:\n",
    "        plt.plot(x,z,c=clrs[ctr])\n",
    "    else:\n",
    "        plt.plot(x,z,'--',c=clrs[ctr],alpha=.5)\n",
    "\n",
    "    ctr+=1\n",
    "    \n",
    "plt.ylim(top=0)\n",
    "plt.legend()\n",
    "plt.title(\"Trends in Singular Value Decay (PCA) of Population Dynamics During Quiescent Periods\"+\n",
    "         \"\\n (0-slope: completely correlated activity; -1 slope: all noise)\")\n",
    "plt.xlabel(\"Post-natal Day\")\n",
    "plt.ylabel('Slope of Log(Eigenvalue Spectrum Decay)')\n",
    "plt.show()"
   ]
  },
  {
   "cell_type": "code",
   "execution_count": null,
   "id": "b085f407-3fec-4155-a051-076c472f4842",
   "metadata": {},
   "outputs": [],
   "source": []
  },
  {
   "cell_type": "code",
   "execution_count": null,
   "id": "00e1a959-3d25-49e9-993d-99facfc4cc01",
   "metadata": {},
   "outputs": [],
   "source": []
  },
  {
   "cell_type": "code",
   "execution_count": null,
   "id": "7f34192d-28a6-4453-bb81-5e9044299f44",
   "metadata": {},
   "outputs": [],
   "source": []
  },
  {
   "cell_type": "code",
   "execution_count": null,
   "id": "6b1ffa08-e344-4755-a1bb-22ce4273f071",
   "metadata": {},
   "outputs": [],
   "source": []
  },
  {
   "cell_type": "code",
   "execution_count": null,
   "id": "8dce1020-b4e8-41a1-8758-e65aecfa1f7d",
   "metadata": {},
   "outputs": [],
   "source": []
  },
  {
   "cell_type": "code",
   "execution_count": null,
   "id": "6fb367b9-10c3-444a-84e7-b018723f7241",
   "metadata": {},
   "outputs": [],
   "source": []
  },
  {
   "cell_type": "code",
   "execution_count": null,
   "id": "26a5d869-2836-4467-8fff-469dc43460b0",
   "metadata": {},
   "outputs": [],
   "source": []
  },
  {
   "cell_type": "code",
   "execution_count": null,
   "id": "f99a9019",
   "metadata": {},
   "outputs": [],
   "source": []
  },
  {
   "cell_type": "code",
   "execution_count": null,
   "id": "f6ce39e8",
   "metadata": {},
   "outputs": [],
   "source": []
  },
  {
   "cell_type": "code",
   "execution_count": null,
   "id": "8d1b6b80",
   "metadata": {},
   "outputs": [],
   "source": []
  },
  {
   "cell_type": "code",
   "execution_count": null,
   "id": "67585fad",
   "metadata": {},
   "outputs": [],
   "source": []
  },
  {
   "cell_type": "code",
   "execution_count": null,
   "id": "fe3d8bc0",
   "metadata": {},
   "outputs": [],
   "source": []
  },
  {
   "cell_type": "code",
   "execution_count": null,
   "id": "eb29474c",
   "metadata": {},
   "outputs": [],
   "source": []
  }
 ],
 "metadata": {
  "kernelspec": {
   "display_name": "Python 3 (ipykernel)",
   "language": "python",
   "name": "python3"
  },
  "language_info": {
   "codemirror_mode": {
    "name": "ipython",
    "version": 3
   },
   "file_extension": ".py",
   "mimetype": "text/x-python",
   "name": "python",
   "nbconvert_exporter": "python",
   "pygments_lexer": "ipython3",
   "version": "3.8.15"
  }
 },
 "nbformat": 4,
 "nbformat_minor": 5
}
