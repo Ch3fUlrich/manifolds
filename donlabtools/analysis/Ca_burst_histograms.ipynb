{
 "cells": [
  {
   "cell_type": "code",
   "execution_count": 2,
   "id": "611dc90f",
   "metadata": {},
   "outputs": [
    {
     "data": {
      "application/javascript": "IPython.notebook.set_autosave_interval(180000)"
     },
     "metadata": {},
     "output_type": "display_data"
    },
    {
     "name": "stdout",
     "output_type": "stream",
     "text": [
      "Autosaving every 180 seconds\n"
     ]
    },
    {
     "name": "stderr",
     "output_type": "stream",
     "text": [
      "/tmp/ipykernel_1184248/65607256.py:12: DeprecationWarning: Importing display from IPython.core.display is deprecated since IPython 7.14, please import from IPython display\n",
      "  from IPython.core.display import display, HTML\n"
     ]
    },
    {
     "data": {
      "text/html": [
       "<style>.container { width:100% !important; }</style>"
      ],
      "text/plain": [
       "<IPython.core.display.HTML object>"
      ]
     },
     "metadata": {},
     "output_type": "display_data"
    }
   ],
   "source": [
    "import matplotlib\n",
    "%matplotlib tk\n",
    "%autosave 180\n",
    "%load_ext autoreload\n",
    "%autoreload 2\n",
    "\n",
    "import nest_asyncio\n",
    "%config Completer.use_jedi = False\n",
    "\n",
    "#\n",
    "import matplotlib.pyplot as plt\n",
    "from IPython.core.display import display, HTML\n",
    "display(HTML(\"<style>.container { width:100% !important; }</style>\"))\n",
    "\n",
    "# \n",
    "import numpy as np\n",
    "import os\n",
    "import scipy\n",
    "import networkx as nx\n",
    "from tqdm import tqdm, trange\n",
    "\n",
    "# add root directory to be able to import packages\n",
    "# todo: make all packages installable so they can be called/imported by environment\n",
    "import sys\n",
    "module_path = os.path.abspath(os.path.join('..'))\n",
    "sys.path.append(module_path)\n",
    "\n",
    "from utils.wheel import wheel\n",
    "from utils.calcium import calcium\n",
    "from utils.network import network\n",
    "#from utils.animal_database import animal_database\n"
   ]
  },
  {
   "cell_type": "code",
   "execution_count": 39,
   "id": "b4300175-9dd3-4aa1-a70b-01356404e5b6",
   "metadata": {},
   "outputs": [
    {
     "name": "stdout",
     "output_type": "stream",
     "text": [
      "  Fluorescence data loading information\n",
      "         sample rate:  30 hz\n",
      "         self.F (fluorescence):  (38, 10001)\n",
      "         self.Fneu (neuropile):  (38, 10001)\n",
      "         self.iscell (Suite2p cell classifier output):  (944, 2)\n",
      "              of which number of good cells:  (38,)\n",
      "         self.spks (deconnvoved spikes):  (38, 10001)\n",
      "         self.stat (footprints structure):  (38,)\n",
      "         mean std over all cells :  78.5\n",
      "   todo: print binarization defaults...\n",
      "binarized data (# cells, # time points):  (38, 10001)\n",
      "  Fluorescence data loading information\n",
      "         sample rate:  30 hz\n",
      "         self.F (fluorescence):  (1191, 55740)\n",
      "         self.Fneu (neuropile):  (1191, 55740)\n",
      "         self.iscell (Suite2p cell classifier output):  (2304, 2)\n",
      "              of which number of good cells:  (1191,)\n",
      "         self.spks (deconnvoved spikes):  (1191, 55740)\n",
      "         self.stat (footprints structure):  (1191,)\n",
      "         mean std over all cells :  25.0\n",
      "   todo: print binarization defaults...\n"
     ]
    }
   ],
   "source": [
    "################################################\n",
    "############### NETWORK ANALYSIS ###############\n",
    "################################################\n",
    "data_dir = '/media/cat/4TB1/donato/DON-011735/22-10-26/calibration/suite2p/plane0/'\n",
    "\n",
    "# initialize calcium object and load suite2p data\n",
    "c = calcium.Calcium()\n",
    "c.verbose = True                          # outputs additional information during processing\n",
    "c.recompute_binarization = False           # recomputes binarization and other processing steps; False: loads from previous saved locations if avialable\n",
    "c.data_dir = data_dir\n",
    "c.load_suite2p()                          # this function assumes output dirs is either in data_dir OR data_dir/suite2p/plane0/\n",
    "c.detrend_model_order = 1\n",
    "c.save_python = True\n",
    "c.save_matlab = False\n",
    "\n",
    "#\n",
    "c.load_binarization()\n",
    "traces = c.F_upphase_bin    # c.F_upphase_bin\n",
    "\n",
    "print (\"binarized data (# cells, # time points): \", traces.shape)\n",
    "\n",
    "\n",
    "data_dir2 = '/media/cat/4TB1/donato/DON-006085/20210523/002P-F/tif/suite2p/plane0/'\n",
    "\n",
    "# initialize calcium object and load suite2p data\n",
    "c2 = calcium.Calcium()\n",
    "c2.verbose = True                          # outputs additional information during processing\n",
    "c2.recompute_binarization = False           # recomputes binarization and other processing steps; False: loads from previous saved locations if avialable\n",
    "c2.data_dir = data_dir2\n",
    "c2.load_suite2p()                          # this function assumes output dirs is either in data_dir OR data_dir/suite2p/plane0/\n",
    "\n",
    "\n",
    "#\n",
    "c2.load_binarization()\n",
    "traces = c2.F_upphase_bin    # c.F_upphase_bin\n",
    "\n",
    "    "
   ]
  },
  {
   "cell_type": "code",
   "execution_count": 41,
   "id": "870d167a-a8ee-46a4-9de5-6ce72f977f4a",
   "metadata": {},
   "outputs": [
    {
     "name": "stderr",
     "output_type": "stream",
     "text": [
      "100%|█████████████████████████████████████████████████████████████████████████████████████████| 38/38 [00:00<00:00, 1305.48it/s]\n",
      "100%|██████████████████████████████████████████████████████████████████████████████████████████| 38/38 [00:00<00:00, 331.99it/s]\n"
     ]
    }
   ],
   "source": [
    "###############################################################\n",
    "###############################################################\n",
    "###############################################################\n",
    "\n",
    "def find_peaks(upphase, F_raw):\n",
    "    #print (upphase.shape)\n",
    "\n",
    "    # find peak\n",
    "    bursts = np.where(upphase>0)[0]\n",
    "    #print (bursts)\n",
    "\n",
    "    diffs = bursts[1:]-bursts[:-1]\n",
    "\n",
    "    if diffs.shape[0]==0:\n",
    "        return [], []\n",
    "    \n",
    "    ons = []\n",
    "    start = bursts[0]\n",
    "    end = 0\n",
    "    for k in range(1,bursts.shape[0]-1,1):\n",
    "        if diffs[k]>1:\n",
    "            ons.append([start,bursts[k]])\n",
    "            start = bursts[k+1]\n",
    "            end = None\n",
    "        #\n",
    "\n",
    "    if end==None and start>bursts[k]:\n",
    "        ons.append([start, bursts[k]])\n",
    "\n",
    "    #\n",
    "    f0 = np.median(F_raw)\n",
    "        \n",
    "    #\n",
    "    peaks = []\n",
    "    durations = []\n",
    "    for burst in ons:\n",
    "        if burst[1]>(burst[0]+1):\n",
    "            try:\n",
    "                temp = np.max(F_raw[burst[0]:burst[1]])\n",
    "\n",
    "                #\n",
    "                peaks.append(temp/f0)\n",
    "\n",
    "                #\n",
    "                durations.append(burst[1]-burst[0])\n",
    "            except:\n",
    "                pass\n",
    "            \n",
    "    \n",
    "    return peaks, durations\n",
    "\n",
    "\n",
    "# compute the peaks of each burst\n",
    "fps = 30\n",
    "\n",
    "cell_ids = np.arange(38)\n",
    "\n",
    "all_peaks = []\n",
    "all_durations = []\n",
    "for cell_id in tqdm(cell_ids):\n",
    "    peaks, durations = find_peaks(c.F_upphase_bin[cell_id], c.F[cell_id])\n",
    "    \n",
    "    all_peaks.append(peaks)\n",
    "    all_durations.append(durations)\n",
    "\n",
    "y1 = np.histogram(np.hstack(all_peaks), bins=np.arange(0,5,0.1))\n",
    "y11 = np.histogram(np.hstack(all_durations), bins=np.arange(0,110,1))\n",
    "    \n",
    "\n",
    "############################################\n",
    "all_peaks = []\n",
    "all_durations = []\n",
    "for cell_id in tqdm(cell_ids):\n",
    "    peaks, durations = find_peaks(c2.F_upphase_bin[cell_id], c2.F[cell_id])\n",
    "    \n",
    "    all_peaks.append(peaks)\n",
    "    all_durations.append(durations)\n",
    "\n",
    "y2 = np.histogram(np.hstack(all_peaks), bins=np.arange(0,5,0.1))\n",
    "y22 = np.histogram(np.hstack(all_durations), bins=np.arange(0,110,1))\n",
    "    \n",
    "\n",
    "#########################################################\n",
    "plt.figure()\n",
    "ax=plt.subplot(1,2,1)\n",
    "plt.plot(y1[1][:-1], y1[0]/np.max(y1[0]), label='gcamp8')\n",
    "plt.plot(y2[1][:-1], y2[0]/np.max(y2[0]), label='gcamp6')\n",
    "plt.xlabel(\"SNR (max peak/f0)\")\n",
    "plt.legend()\n",
    "#\n",
    "ax=plt.subplot(1,2,2)\n",
    "plt.plot(y11[1][:-1]/fps, y11[0]/np.max(y11[0]))\n",
    "plt.plot(y22[1][:-1]/fps, y22[0]/np.max(y22[0]))\n",
    "plt.xlabel(\"Duration of up phase (sec)\")\n",
    "plt.suptitle(data_dir, fontsize=10)\n",
    "\n",
    "plt.show()"
   ]
  },
  {
   "cell_type": "code",
   "execution_count": 35,
   "id": "d0ebc54c-52ed-4a45-a378-c1b7b12dd152",
   "metadata": {},
   "outputs": [],
   "source": [
    "# \n",
    "cell_id = 200\n",
    "\n",
    "#\n",
    "t = np.arange(c2.F_onphase_bin.shape[1])/30.\n",
    "plt.figure()\n",
    "temp = c2.F_filtered[cell_id]\n",
    "#temp = temp - np.median(temp)\n",
    "#temp = temp / np.max(temp)\n",
    "plt.plot(t,temp, label='F_filtered')\n",
    "\n",
    "plt.plot(t,c2.F_upphase_bin[cell_id]*np.max(temp), \n",
    "         alpha=.5,label=\"upphase\")\n",
    "\n",
    "plt.legend()\n",
    "plt.xlabel(\"Time (sec)\")\n",
    "plt.title(data_dir2 + \",   cell #\"+str(cell_id))\n",
    "plt.show()"
   ]
  },
  {
   "cell_type": "code",
   "execution_count": null,
   "id": "1217734f-a232-41ac-9744-17271dba5a09",
   "metadata": {},
   "outputs": [],
   "source": []
  },
  {
   "cell_type": "code",
   "execution_count": null,
   "id": "5209ba52-c853-44b1-aeb1-90b2e1d75ec3",
   "metadata": {},
   "outputs": [],
   "source": []
  },
  {
   "cell_type": "code",
   "execution_count": null,
   "id": "303753a7-60fc-44f4-82b3-d7545c8fbb15",
   "metadata": {},
   "outputs": [],
   "source": []
  },
  {
   "cell_type": "code",
   "execution_count": null,
   "id": "9d00851d-543f-42e0-91d7-7463486613f9",
   "metadata": {},
   "outputs": [],
   "source": []
  },
  {
   "cell_type": "code",
   "execution_count": null,
   "id": "e9d36b42-688a-46cd-b1f5-034e4aa24b57",
   "metadata": {},
   "outputs": [],
   "source": []
  },
  {
   "cell_type": "code",
   "execution_count": null,
   "id": "956d5d0c-464c-4d76-857c-07408a0e6daf",
   "metadata": {},
   "outputs": [],
   "source": []
  },
  {
   "cell_type": "code",
   "execution_count": null,
   "id": "476ad181-2dde-44c1-a187-884e9cfccee5",
   "metadata": {},
   "outputs": [],
   "source": []
  },
  {
   "cell_type": "code",
   "execution_count": null,
   "id": "ccc3cb8d-3441-4ea4-8b47-e67b37e685c8",
   "metadata": {},
   "outputs": [],
   "source": []
  },
  {
   "cell_type": "code",
   "execution_count": null,
   "id": "54c4def5-5cbc-4e1b-84ae-9a3b76ce74f2",
   "metadata": {},
   "outputs": [],
   "source": []
  },
  {
   "cell_type": "code",
   "execution_count": null,
   "id": "329dc412-fb7c-4b44-af9b-ab0aeb18af58",
   "metadata": {},
   "outputs": [],
   "source": []
  },
  {
   "cell_type": "code",
   "execution_count": null,
   "id": "b447e520-7a28-4aab-bf2e-f8838486b989",
   "metadata": {},
   "outputs": [],
   "source": []
  },
  {
   "cell_type": "code",
   "execution_count": null,
   "id": "0599101a-68c4-44c0-a7ad-35a21c18a6a9",
   "metadata": {},
   "outputs": [],
   "source": []
  },
  {
   "cell_type": "code",
   "execution_count": null,
   "id": "0b82dfc0-e53e-4487-bf40-b9a0c9d1d53a",
   "metadata": {},
   "outputs": [],
   "source": []
  },
  {
   "cell_type": "code",
   "execution_count": null,
   "id": "55a5f863-f047-4ce0-9606-409f2da50b0b",
   "metadata": {},
   "outputs": [],
   "source": []
  },
  {
   "cell_type": "code",
   "execution_count": 34,
   "id": "240d6ff7",
   "metadata": {
    "scrolled": true
   },
   "outputs": [
    {
     "name": "stdout",
     "output_type": "stream",
     "text": [
      "\n",
      "\n",
      "  Fluorescence data loading information\n",
      "         sample rate:  30 hz\n",
      "         self.F (fluorescence):  (584, 55740)\n",
      "         self.Fneu (neuropile):  (584, 55740)\n",
      "         self.iscell (Suite2p cell classifier output):  (717, 2)\n",
      "              of which number of good cells:  (584,)\n",
      "         self.spks (deconnvoved spikes):  (584, 55740)\n",
      "         self.stat (footprints structure):  (584,)\n",
      "         mean std over all cells :  22.5\n",
      "   todo: print binarization defaults...\n",
      "binarized data (# cells, # time points):  (584, 55740)\n"
     ]
    }
   ],
   "source": [
    "#############################################\n",
    "######### LOAD SUITE2P BINARIZED DATA #######\n",
    "#############################################\n",
    "\n",
    "# input directory where Suite2p outputs matlab Fall.mat and all .npy files\n",
    "# data_dir = '/media/cat/4TB/donato/steffen/DON-004366/20210228/'\n",
    "# data_dir = '/media/cat/4TB/donato/steffen/DON-004366/20210301/'\n",
    "#data_dir = '/media/cat/4TB/donato/DON-003343/DON-003343_20210214/suite2p/plane0/'\n",
    "# data_dir = '/media/cat/4TB/donato/nathalie/plane0'\n",
    "# data_dir = '/media/cat/4TB/donato/renan/renan'\n",
    "#data_dir = '/media/cat/4TB/donato/steffen/DON-004366/20210228/'\n",
    "data_dir = '/media/cat/4TB/donato/DON-006084/20210520/'\n",
    "\n",
    "data_dir = '/media/cat/4TB/donato/DON-006084/20210520/'\n",
    "\n",
    "# initialize calcium object and load suite2p data\n",
    "c = calcium.Calcium()\n",
    "c.verbose = True                          # outputs additional information during processing\n",
    "c.recompute_binarization = False           # recomputes binarization and other processing steps; False: loads from previous saved locations if avialable\n",
    "c.data_dir = data_dir\n",
    "c.load_suite2p()                          # this function assumes output dirs is either in data_dir OR data_dir/suite2p/plane0/\n",
    "\n",
    "\n",
    "#\n",
    "c.load_binarization()\n",
    "traces = c.F_upphase_bin    # c.F_upphase_bin\n",
    "\n",
    "print (\"binarized data (# cells, # time points): \", traces.shape)\n"
   ]
  },
  {
   "cell_type": "code",
   "execution_count": 35,
   "id": "cfac258e-def1-4296-b519-5fa1051df6c0",
   "metadata": {},
   "outputs": [
    {
     "name": "stdout",
     "output_type": "stream",
     "text": [
      " ... deduplicating cells... (can take ~5 for ~1,000cells) \n"
     ]
    },
    {
     "name": "stderr",
     "output_type": "stream",
     "text": [
      "8001it [00:00, 97660.61it/s]                                                                                                                              "
     ]
    },
    {
     "name": "stdout",
     "output_type": "stream",
     "text": [
      "All cells:  (584, 55740)   unique cells:  (424, 55740)\n"
     ]
    },
    {
     "name": "stderr",
     "output_type": "stream",
     "text": [
      "\n"
     ]
    }
   ],
   "source": [
    "#################################################\n",
    "####### OPTIONAL: REMOVE DUPLICATE CELLS ########\n",
    "#################################################\n",
    "c.load_footprints()\n",
    "c.deduplication_method = 'overlap'      # 'overlap'; 'centre_distance'\n",
    "c.corr_min_distance = 8                 # min distance for centre_distance method - NOT USED HERE\n",
    "c.corr_max_percent_overlap = 0.25       # max normalized cell body allowed \n",
    "c.corr_threshold = 0.3                  # max correlation allowed for high overlap; \n",
    "                                        #     note correlations computed using filtered fluorescecne not binarized\n",
    "c.corr_delete_method = 'lowest_snr'     # highest_connected: removes hub neurons,keeps more cells; \n",
    "                                        # lowest_snr - removes lower SNR cells, keep less neurons\n",
    "c.recompute_deduplication = False        # recompute the dedplucaiton wif new paramters are saved\n",
    "c.n_cores = 8                           #  Number of cores to use for multi processing\n",
    "\n",
    "#\n",
    "c.remove_duplicate_neurons()            \n",
    "\n",
    "#       \n",
    "traces_unique = traces[c.clean_cell_ids]\n",
    "print (\"All cells: \", c.F.shape, \"  unique cells: \", traces_unique.shape)\n"
   ]
  },
  {
   "cell_type": "code",
   "execution_count": 36,
   "id": "b0c15189-d633-47c6-a0dd-dcfb04cf0310",
   "metadata": {},
   "outputs": [
    {
     "name": "stdout",
     "output_type": "stream",
     "text": [
      "Exp time :  1858.0\n",
      "   Queiscent periods (seconds):  1359.2333333333333\n",
      "   Running periods (seconds):  170.1\n"
     ]
    }
   ],
   "source": [
    "###############################################################\n",
    "### OPTIONAL: LOAD WHEEL DATA AND QUEISCENT OR RUN PERIODS ####\n",
    "###############################################################\n",
    "# \n",
    "w = wheel.Wheel()\n",
    "w.root_dir = os.path.join(c.data_dir.replace('suite2p/','').replace('plane0',''),    # this assumes wheel data from Steffens' matlab scripts\n",
    "                          'TRD-2P')                                                   #   is saved in the root diretory of the animal\n",
    "w.load_track()\n",
    "w.compute_velocity()\n",
    "print (\"Exp time : \", w.track.velocity.times.shape[0]/w.imaging_sample_rate)\n",
    "\n",
    "# \n",
    "w.max_velocity_quiescent = 0.001  # in metres per second\n",
    "idx_quiescent = w.get_indexes_quiescent_periods()\n",
    "\n",
    "#\n",
    "w.min_velocity_running = 0.1  # in metres per second\n",
    "idx_run = w.get_indexes_run_periods()\n",
    "\n"
   ]
  },
  {
   "cell_type": "code",
   "execution_count": 60,
   "id": "c127af6d-28d6-498b-b215-582cf07cf32e",
   "metadata": {},
   "outputs": [
    {
     "name": "stdout",
     "output_type": "stream",
     "text": [
      "Selected cells (# cells, time points):  (200, 55740)\n"
     ]
    }
   ],
   "source": [
    "#########################################################\n",
    "####### RUN PCA ON ALL OR SUBSET OF TRACES ##############\n",
    "#########################################################\n",
    "#\n",
    "\n",
    "# take only 200 cells; and first 10 minutes\n",
    "n_cells = 200\n",
    "traces_unique = traces_unique[:n_cells]\n",
    "print (\"Selected cells (# cells, time points): \", traces_unique.shape)\n",
    "\n",
    "# take quiescent periods\n",
    "traces_in = traces_unique[:,idx_quiescent]\n",
    "\n",
    "#\n",
    "n_sec = 1300*30\n",
    "times = np.arange(n_sec)\n",
    "traces_in = traces_in[:,times]\n",
    "\n",
    "#\n",
    "suffix1 = 200   # # of cells\n",
    "suffix2 = 600   # # seconds\n",
    "recompute=True\n",
    "pca, X_pca = c.compute_PCA(traces_in, suffix1,suffix2,recompute)\n",
    "\n",
    "# plot  variance exaplined\n",
    "var_exp = pca.explained_variance_ratio_\n",
    "# \n",
    "fig=plt.figure()\n",
    "ax=plt.subplot(111)\n",
    "plt.plot(var_exp, label='variance explained')\n",
    "plt.ylabel(\"variance explained\")\n",
    "plt.xlabel(\"PC component\")\n",
    "plt.ylim(0,0.05)\n",
    "plt.legend()\n",
    "\n",
    "ax2=ax.twinx()\n",
    "cumsum = np.cumsum(var_exp)\n",
    "cumsum = cumsum/np.max(cumsum)\n",
    "plt.plot(cumsum, c='red', label='cumulative variance explained')\n",
    "#plt.semilogy()\n",
    "plt.legend()\n",
    "\n",
    "\n",
    "plt.show()\n",
    "\n"
   ]
  },
  {
   "cell_type": "code",
   "execution_count": 3,
   "id": "8dce1020-b4e8-41a1-8758-e65aecfa1f7d",
   "metadata": {},
   "outputs": [
    {
     "ename": "NameError",
     "evalue": "name 'var_exp' is not defined",
     "output_type": "error",
     "traceback": [
      "\u001b[0;31m---------------------------------------------------------------------------\u001b[0m",
      "\u001b[0;31mNameError\u001b[0m                                 Traceback (most recent call last)",
      "Cell \u001b[0;32mIn[3], line 4\u001b[0m\n\u001b[1;32m      2\u001b[0m fig\u001b[39m=\u001b[39mplt\u001b[39m.\u001b[39mfigure()\n\u001b[1;32m      3\u001b[0m ax\u001b[39m=\u001b[39mplt\u001b[39m.\u001b[39msubplot(\u001b[39m111\u001b[39m)\n\u001b[0;32m----> 4\u001b[0m plt\u001b[39m.\u001b[39mplot(var_exp, label\u001b[39m=\u001b[39m\u001b[39m'\u001b[39m\u001b[39mvariance explained\u001b[39m\u001b[39m'\u001b[39m)\n\u001b[1;32m      5\u001b[0m plt\u001b[39m.\u001b[39mylabel(\u001b[39m\"\u001b[39m\u001b[39mvariance explained\u001b[39m\u001b[39m\"\u001b[39m)\n\u001b[1;32m      6\u001b[0m plt\u001b[39m.\u001b[39mxlabel(\u001b[39m\"\u001b[39m\u001b[39mPC component\u001b[39m\u001b[39m\"\u001b[39m)\n",
      "\u001b[0;31mNameError\u001b[0m: name 'var_exp' is not defined"
     ]
    }
   ],
   "source": [
    "# \n",
    "fig=plt.figure()\n",
    "ax=plt.subplot(111)\n",
    "plt.plot(var_exp, label='variance explained')\n",
    "plt.ylabel(\"variance explained\")\n",
    "plt.xlabel(\"PC component\")\n",
    "#plt.ylim(0,0.05)\n",
    "plt.legend()\n",
    "plt.semilogy()\n",
    "\n",
    "plt.show()\n"
   ]
  },
  {
   "cell_type": "code",
   "execution_count": null,
   "id": "6fb367b9-10c3-444a-84e7-b018723f7241",
   "metadata": {},
   "outputs": [],
   "source": []
  },
  {
   "cell_type": "code",
   "execution_count": null,
   "id": "26a5d869-2836-4467-8fff-469dc43460b0",
   "metadata": {},
   "outputs": [],
   "source": []
  },
  {
   "cell_type": "code",
   "execution_count": null,
   "id": "f99a9019",
   "metadata": {},
   "outputs": [],
   "source": []
  },
  {
   "cell_type": "code",
   "execution_count": null,
   "id": "f6ce39e8",
   "metadata": {},
   "outputs": [],
   "source": []
  },
  {
   "cell_type": "code",
   "execution_count": null,
   "id": "8d1b6b80",
   "metadata": {},
   "outputs": [],
   "source": []
  },
  {
   "cell_type": "code",
   "execution_count": 29,
   "id": "67585fad",
   "metadata": {},
   "outputs": [],
   "source": [
    "import numpy as np\n",
    "import cv2\n",
    "size = 512,512\n",
    "duration = 2\n",
    "fps = 150\n",
    "\n",
    "fname = '/media/cat/4TB/donato/andres/objective_test/video_gelobj/Image_001_001.raw'\n",
    "#fname = '/media/cat/4TB/donato/andres/objective_test/video_airobj/Image_001_001.raw'\n",
    "d = np.fromfile(fname,dtype=np.uint16)\n",
    "d = d.reshape(-1,512,512)\n",
    "\n",
    "# plt.figure()\n",
    "# plt.imshow(d[100:120].mean(0))\n",
    "# plt.show()\n",
    "\n",
    "d = (d-d.min())/(d.max()-d.min())*1024\n",
    "\n",
    "out = cv2.VideoWriter(fname[:-4]+\".mp4\", cv2.VideoWriter_fourcc(*'mp4v'), fps, (size[1], size[0]), False)\n",
    "bin = 10\n",
    "for k in range(0,1000,1):\n",
    "    #data = np.random.randint(0, 256, size, dtype='uint8')\n",
    "    #data = d[k*20:k*20+20].mean(0)\n",
    "    data = d[k:k+bin].mean(0)\n",
    "    #data = (data-data.min())/(data.max()-data.min())*256\n",
    "    data = data.astype('uint8')\n",
    "    #cvuint8 = cv2.convertScaleAbs(data)\n",
    "    #plt.imshow(d[100:120].mean(0))\n",
    "    out.write(data)\n",
    "    #break\n",
    "out.release()"
   ]
  },
  {
   "cell_type": "code",
   "execution_count": null,
   "id": "fe3d8bc0",
   "metadata": {},
   "outputs": [],
   "source": []
  },
  {
   "cell_type": "code",
   "execution_count": null,
   "id": "eb29474c",
   "metadata": {},
   "outputs": [],
   "source": []
  }
 ],
 "metadata": {
  "kernelspec": {
   "display_name": "Python 3 (ipykernel)",
   "language": "python",
   "name": "python3"
  },
  "language_info": {
   "codemirror_mode": {
    "name": "ipython",
    "version": 3
   },
   "file_extension": ".py",
   "mimetype": "text/x-python",
   "name": "python",
   "nbconvert_exporter": "python",
   "pygments_lexer": "ipython3",
   "version": "3.8.15"
  }
 },
 "nbformat": 4,
 "nbformat_minor": 5
}
