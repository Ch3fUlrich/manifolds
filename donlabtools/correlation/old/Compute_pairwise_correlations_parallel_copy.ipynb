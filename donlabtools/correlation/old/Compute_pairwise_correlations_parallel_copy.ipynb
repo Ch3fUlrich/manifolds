{
 "cells": [
  {
   "cell_type": "code",
   "execution_count": 1,
   "id": "8f98c6b4-4a90-4f64-adae-4ce2b75e4d57",
   "metadata": {},
   "outputs": [
    {
     "data": {
      "application/javascript": [
       "IPython.notebook.set_autosave_interval(180000)"
      ]
     },
     "metadata": {},
     "output_type": "display_data"
    },
    {
     "name": "stdout",
     "output_type": "stream",
     "text": [
      "Autosaving every 180 seconds\n"
     ]
    },
    {
     "data": {
      "text/html": [
       "<style>.container { width:100% !important; }</style>"
      ],
      "text/plain": [
       "<IPython.core.display.HTML object>"
      ]
     },
     "metadata": {},
     "output_type": "display_data"
    }
   ],
   "source": [
    "import matplotlib\n",
    "%matplotlib tk\n",
    "%autosave 180\n",
    "%load_ext autoreload\n",
    "%autoreload 2\n",
    "\n",
    "import nest_asyncio\n",
    "%config Completer.use_jedi = False\n",
    "\n",
    "#\n",
    "import matplotlib.pyplot as plt\n",
    "from IPython.core.display import display, HTML\n",
    "display(HTML(\"<style>.container { width:100% !important; }</style>\"))\n",
    "\n",
    "# \n",
    "import numpy as np\n",
    "import os\n",
    "import scipy\n",
    "\n",
    "# add root directory to be able to import packages\n",
    "# todo: make all packages installable so they can be called/imported by environment\n",
    "import sys\n",
    "module_path = os.path.abspath(os.path.join('..'))\n",
    "sys.path.append(module_path)\n",
    "\n",
    "from utils.calcium import calcium\n"
   ]
  },
  {
   "cell_type": "code",
   "execution_count": 2,
   "id": "28da3655-1a7f-43c0-ba3b-f42276c20e6f",
   "metadata": {},
   "outputs": [
    {
     "name": "stdout",
     "output_type": "stream",
     "text": [
      "sessions:  ['20220524', '20220518', '20220510', '20220516', '20220512', '20220525', '20220530', '20220511', '20220523', '20220517', '20220521', '20220514', '20220531', '20220515', '20220513', '20220520', '20220519', '20220522']\n",
      "PRocessing:  DON-010477\n",
      "processing:  20220524\n"
     ]
    },
    {
     "name": "stderr",
     "output_type": "stream",
     "text": [
      "low pass filter: 100%|█████████████████████████████████████████████████████████████████████████████████████████████████████████████████████████████████████████████████████████████████████████████████████████| 582/582 [00:01<00:00, 541.43it/s]\n",
      "model filter: remove bleaching or trends: 100%|████████████████████████████████████████████████████████████████████████████████████████████████████████████████████████████████████████████████████████████████| 582/582 [00:01<00:00, 463.30it/s]\n",
      "binarizing continuous traces filtered fluorescence onphase: 100%|███████████████████████████████████████████████████████████████████████████████████████████████████████████████████████████████████████████████| 582/582 [00:09<00:00, 62.52it/s]\n",
      "binarizing continuous traces filtered fluorescence upphase: 100%|███████████████████████████████████████████████████████████████████████████████████████████████████████████████████████████████████████████████| 582/582 [00:18<00:00, 31.75it/s]\n"
     ]
    },
    {
     "name": "stdout",
     "output_type": "stream",
     "text": [
      "   Oasis based binarization skipped by default ... \n",
      "... computing cell overlaps ...\n"
     ]
    },
    {
     "data": {
      "application/vnd.jupyter.widget-view+json": {
       "model_id": "83396b77f556457d97114353936a0651",
       "version_major": 2,
       "version_minor": 0
      },
      "text/plain": [
       "  0%|          | 0/30 [00:00<?, ?it/s]"
      ]
     },
     "metadata": {},
     "output_type": "display_data"
    },
    {
     "name": "stdout",
     "output_type": "stream",
     "text": [
      "... computing pairwise pearson correlation ...\n"
     ]
    },
    {
     "data": {
      "application/vnd.jupyter.widget-view+json": {
       "model_id": "a90e30d77e6a4d2697991c7d66f04972",
       "version_major": 2,
       "version_minor": 0
      },
      "text/plain": [
       "  0%|          | 0/100 [00:00<?, ?it/s]"
      ]
     },
     "metadata": {},
     "output_type": "display_data"
    },
    {
     "name": "stdout",
     "output_type": "stream",
     "text": [
      "Parallel corrs:  (338724, 4)\n",
      "processing:  20220518\n"
     ]
    },
    {
     "name": "stderr",
     "output_type": "stream",
     "text": [
      "low pass filter: 100%|█████████████████████████████████████████████████████████████████████████████████████████████████████████████████████████████████████████████████████████████████████████████████████████| 561/561 [00:00<00:00, 685.29it/s]\n",
      "model filter: remove bleaching or trends: 100%|████████████████████████████████████████████████████████████████████████████████████████████████████████████████████████████████████████████████████████████████| 561/561 [00:01<00:00, 516.80it/s]\n",
      "binarizing continuous traces filtered fluorescence onphase: 100%|███████████████████████████████████████████████████████████████████████████████████████████████████████████████████████████████████████████████| 561/561 [00:08<00:00, 65.06it/s]\n",
      "binarizing continuous traces filtered fluorescence upphase: 100%|███████████████████████████████████████████████████████████████████████████████████████████████████████████████████████████████████████████████| 561/561 [00:18<00:00, 30.87it/s]\n"
     ]
    },
    {
     "name": "stdout",
     "output_type": "stream",
     "text": [
      "   Oasis based binarization skipped by default ... \n",
      "... computing cell overlaps ...\n"
     ]
    },
    {
     "data": {
      "application/vnd.jupyter.widget-view+json": {
       "model_id": "dae42df2d0ce40059c8914e6cb02da3d",
       "version_major": 2,
       "version_minor": 0
      },
      "text/plain": [
       "  0%|          | 0/30 [00:00<?, ?it/s]"
      ]
     },
     "metadata": {},
     "output_type": "display_data"
    },
    {
     "name": "stdout",
     "output_type": "stream",
     "text": [
      "... computing pairwise pearson correlation ...\n"
     ]
    },
    {
     "data": {
      "application/vnd.jupyter.widget-view+json": {
       "model_id": "88e984257f8d4e51a2beac2192c19aac",
       "version_major": 2,
       "version_minor": 0
      },
      "text/plain": [
       "  0%|          | 0/100 [00:00<?, ?it/s]"
      ]
     },
     "metadata": {},
     "output_type": "display_data"
    },
    {
     "name": "stdout",
     "output_type": "stream",
     "text": [
      "Parallel corrs:  (314721, 4)\n",
      "processing:  20220510\n"
     ]
    },
    {
     "name": "stderr",
     "output_type": "stream",
     "text": [
      "low pass filter: 100%|████████████████████████████████████████████████████████████████████████████████████████████████████████████████████████████████████████████████████████████████████████████████████████| 443/443 [00:00<00:00, 1834.97it/s]\n",
      "model filter: remove bleaching or trends: 100%|███████████████████████████████████████████████████████████████████████████████████████████████████████████████████████████████████████████████████████████████| 443/443 [00:00<00:00, 1920.41it/s]\n",
      "binarizing continuous traces filtered fluorescence onphase: 100%|█████████████████████████████████████████████████████████████████████████████████████████████████████████████████████████████████████████████| 443/443 [00:00<00:00, 2733.37it/s]\n",
      "binarizing continuous traces filtered fluorescence upphase: 100%|█████████████████████████████████████████████████████████████████████████████████████████████████████████████████████████████████████████████| 443/443 [00:00<00:00, 1568.86it/s]\n"
     ]
    },
    {
     "name": "stdout",
     "output_type": "stream",
     "text": [
      "   Oasis based binarization skipped by default ... \n",
      "... computing cell overlaps ...\n"
     ]
    },
    {
     "data": {
      "application/vnd.jupyter.widget-view+json": {
       "model_id": "a6131eb187374e8c84b8a694d64526fd",
       "version_major": 2,
       "version_minor": 0
      },
      "text/plain": [
       "  0%|          | 0/30 [00:00<?, ?it/s]"
      ]
     },
     "metadata": {},
     "output_type": "display_data"
    },
    {
     "name": "stdout",
     "output_type": "stream",
     "text": [
      "... computing pairwise pearson correlation ...\n"
     ]
    },
    {
     "data": {
      "application/vnd.jupyter.widget-view+json": {
       "model_id": "112bcb0f74b9467985c7fbefe547098a",
       "version_major": 2,
       "version_minor": 0
      },
      "text/plain": [
       "  0%|          | 0/100 [00:00<?, ?it/s]"
      ]
     },
     "metadata": {},
     "output_type": "display_data"
    },
    {
     "name": "stdout",
     "output_type": "stream",
     "text": [
      "Parallel corrs:  (196249, 4)\n",
      "processing:  20220516\n"
     ]
    },
    {
     "name": "stderr",
     "output_type": "stream",
     "text": [
      "low pass filter: 100%|█████████████████████████████████████████████████████████████████████████████████████████████████████████████████████████████████████████████████████████████████████████████████████████| 900/900 [00:01<00:00, 804.91it/s]\n",
      "model filter: remove bleaching or trends: 100%|████████████████████████████████████████████████████████████████████████████████████████████████████████████████████████████████████████████████████████████████| 900/900 [00:01<00:00, 767.98it/s]\n",
      "binarizing continuous traces filtered fluorescence onphase: 100%|███████████████████████████████████████████████████████████████████████████████████████████████████████████████████████████████████████████████| 900/900 [00:16<00:00, 54.46it/s]\n",
      "binarizing continuous traces filtered fluorescence upphase: 100%|███████████████████████████████████████████████████████████████████████████████████████████████████████████████████████████████████████████████| 900/900 [00:37<00:00, 24.16it/s]\n"
     ]
    },
    {
     "name": "stdout",
     "output_type": "stream",
     "text": [
      "   Oasis based binarization skipped by default ... \n",
      "... computing cell overlaps ...\n"
     ]
    },
    {
     "data": {
      "application/vnd.jupyter.widget-view+json": {
       "model_id": "29377f8dce5b4fd6852e016ff895e7c8",
       "version_major": 2,
       "version_minor": 0
      },
      "text/plain": [
       "  0%|          | 0/30 [00:00<?, ?it/s]"
      ]
     },
     "metadata": {},
     "output_type": "display_data"
    },
    {
     "name": "stdout",
     "output_type": "stream",
     "text": [
      "... computing pairwise pearson correlation ...\n"
     ]
    },
    {
     "data": {
      "application/vnd.jupyter.widget-view+json": {
       "model_id": "84e53c7d9ae24a1ab33155976adfb2d1",
       "version_major": 2,
       "version_minor": 0
      },
      "text/plain": [
       "  0%|          | 0/100 [00:00<?, ?it/s]"
      ]
     },
     "metadata": {},
     "output_type": "display_data"
    },
    {
     "name": "stdout",
     "output_type": "stream",
     "text": [
      "Parallel corrs:  (810000, 4)\n",
      "processing:  20220512\n"
     ]
    },
    {
     "name": "stderr",
     "output_type": "stream",
     "text": [
      "low pass filter: 100%|███████████████████████████████████████████████████████████████████████████████████████████████████████████████████████████████████████████████████████████████████████████████████████| 1064/1064 [00:01<00:00, 559.36it/s]\n",
      "model filter: remove bleaching or trends: 100%|██████████████████████████████████████████████████████████████████████████████████████████████████████████████████████████████████████████████████████████████| 1064/1064 [00:02<00:00, 458.41it/s]\n",
      "binarizing continuous traces filtered fluorescence onphase: 100%|█████████████████████████████████████████████████████████████████████████████████████████████████████████████████████████████████████████████| 1064/1064 [00:15<00:00, 69.84it/s]\n",
      "binarizing continuous traces filtered fluorescence upphase: 100%|█████████████████████████████████████████████████████████████████████████████████████████████████████████████████████████████████████████████| 1064/1064 [00:25<00:00, 41.43it/s]\n"
     ]
    },
    {
     "name": "stdout",
     "output_type": "stream",
     "text": [
      "   Oasis based binarization skipped by default ... \n",
      "... computing cell overlaps ...\n"
     ]
    },
    {
     "data": {
      "application/vnd.jupyter.widget-view+json": {
       "model_id": "ab8f0728d04447588fef8937dd94b6ae",
       "version_major": 2,
       "version_minor": 0
      },
      "text/plain": [
       "  0%|          | 0/30 [00:00<?, ?it/s]"
      ]
     },
     "metadata": {},
     "output_type": "display_data"
    },
    {
     "name": "stdout",
     "output_type": "stream",
     "text": [
      "... computing pairwise pearson correlation ...\n"
     ]
    },
    {
     "data": {
      "application/vnd.jupyter.widget-view+json": {
       "model_id": "4106c0f563d84e3c89700221689c83c4",
       "version_major": 2,
       "version_minor": 0
      },
      "text/plain": [
       "  0%|          | 0/100 [00:00<?, ?it/s]"
      ]
     },
     "metadata": {},
     "output_type": "display_data"
    },
    {
     "name": "stdout",
     "output_type": "stream",
     "text": [
      "Parallel corrs:  (1132096, 4)\n",
      "processing:  20220525\n"
     ]
    },
    {
     "name": "stderr",
     "output_type": "stream",
     "text": [
      "low pass filter: 100%|█████████████████████████████████████████████████████████████████████████████████████████████████████████████████████████████████████████████████████████████████████████████████████████| 323/323 [00:00<00:00, 582.89it/s]\n",
      "model filter: remove bleaching or trends: 100%|████████████████████████████████████████████████████████████████████████████████████████████████████████████████████████████████████████████████████████████████| 323/323 [00:00<00:00, 454.88it/s]\n",
      "binarizing continuous traces filtered fluorescence onphase: 100%|███████████████████████████████████████████████████████████████████████████████████████████████████████████████████████████████████████████████| 323/323 [00:04<00:00, 78.59it/s]\n",
      "binarizing continuous traces filtered fluorescence upphase: 100%|███████████████████████████████████████████████████████████████████████████████████████████████████████████████████████████████████████████████| 323/323 [00:09<00:00, 33.90it/s]\n"
     ]
    },
    {
     "name": "stdout",
     "output_type": "stream",
     "text": [
      "   Oasis based binarization skipped by default ... \n",
      "... computing cell overlaps ...\n"
     ]
    },
    {
     "data": {
      "application/vnd.jupyter.widget-view+json": {
       "model_id": "1687da5252f54cb3bb1bb7e54253f255",
       "version_major": 2,
       "version_minor": 0
      },
      "text/plain": [
       "  0%|          | 0/30 [00:00<?, ?it/s]"
      ]
     },
     "metadata": {},
     "output_type": "display_data"
    },
    {
     "name": "stdout",
     "output_type": "stream",
     "text": [
      "... computing pairwise pearson correlation ...\n"
     ]
    },
    {
     "data": {
      "application/vnd.jupyter.widget-view+json": {
       "model_id": "916410bc2e474400ac954cb6e4c3ff05",
       "version_major": 2,
       "version_minor": 0
      },
      "text/plain": [
       "  0%|          | 0/100 [00:00<?, ?it/s]"
      ]
     },
     "metadata": {},
     "output_type": "display_data"
    },
    {
     "name": "stdout",
     "output_type": "stream",
     "text": [
      "Parallel corrs:  (104329, 4)\n",
      "processing:  20220530\n"
     ]
    },
    {
     "name": "stderr",
     "output_type": "stream",
     "text": [
      "low pass filter: 100%|██████████████████████████████████████████████████████████████████████████████████████████████████████████████████████████████████████████████████████████████████████████████████████████| 57/57 [00:00<00:00, 1056.08it/s]\n",
      "model filter: remove bleaching or trends: 100%|█████████████████████████████████████████████████████████████████████████████████████████████████████████████████████████████████████████████████████████████████| 57/57 [00:00<00:00, 1090.94it/s]\n",
      "binarizing continuous traces filtered fluorescence onphase: 100%|████████████████████████████████████████████████████████████████████████████████████████████████████████████████████████████████████████████████| 57/57 [00:00<00:00, 160.25it/s]\n",
      "binarizing continuous traces filtered fluorescence upphase: 100%|█████████████████████████████████████████████████████████████████████████████████████████████████████████████████████████████████████████████████| 57/57 [00:00<00:00, 78.78it/s]\n"
     ]
    },
    {
     "name": "stdout",
     "output_type": "stream",
     "text": [
      "   Oasis based binarization skipped by default ... \n",
      "... computing cell overlaps ...\n"
     ]
    },
    {
     "data": {
      "application/vnd.jupyter.widget-view+json": {
       "model_id": "a2e1059c9ef84e77bcf7ade96bccf81d",
       "version_major": 2,
       "version_minor": 0
      },
      "text/plain": [
       "  0%|          | 0/30 [00:00<?, ?it/s]"
      ]
     },
     "metadata": {},
     "output_type": "display_data"
    },
    {
     "name": "stdout",
     "output_type": "stream",
     "text": [
      "... computing pairwise pearson correlation ...\n"
     ]
    },
    {
     "data": {
      "application/vnd.jupyter.widget-view+json": {
       "model_id": "b95d4e64838345cc96e88746308f0156",
       "version_major": 2,
       "version_minor": 0
      },
      "text/plain": [
       "  0%|          | 0/100 [00:00<?, ?it/s]"
      ]
     },
     "metadata": {},
     "output_type": "display_data"
    },
    {
     "name": "stdout",
     "output_type": "stream",
     "text": [
      "... errror loading :  20220530\n",
      "processing:  20220511\n"
     ]
    },
    {
     "name": "stderr",
     "output_type": "stream",
     "text": [
      "low pass filter: 100%|███████████████████████████████████████████████████████████████████████████████████████████████████████████████████████████████████████████████████████████████████████████████████████| 1222/1222 [00:01<00:00, 654.47it/s]\n",
      "model filter: remove bleaching or trends: 100%|██████████████████████████████████████████████████████████████████████████████████████████████████████████████████████████████████████████████████████████████| 1222/1222 [00:02<00:00, 529.54it/s]\n",
      "binarizing continuous traces filtered fluorescence onphase: 100%|█████████████████████████████████████████████████████████████████████████████████████████████████████████████████████████████████████████████| 1222/1222 [00:16<00:00, 74.16it/s]\n",
      "binarizing continuous traces filtered fluorescence upphase: 100%|█████████████████████████████████████████████████████████████████████████████████████████████████████████████████████████████████████████████| 1222/1222 [00:29<00:00, 41.20it/s]\n"
     ]
    },
    {
     "name": "stdout",
     "output_type": "stream",
     "text": [
      "   Oasis based binarization skipped by default ... \n",
      "... computing cell overlaps ...\n"
     ]
    },
    {
     "data": {
      "application/vnd.jupyter.widget-view+json": {
       "model_id": "3a921b1a6dac44cfaf4221ccc4bab256",
       "version_major": 2,
       "version_minor": 0
      },
      "text/plain": [
       "  0%|          | 0/30 [00:00<?, ?it/s]"
      ]
     },
     "metadata": {},
     "output_type": "display_data"
    },
    {
     "name": "stdout",
     "output_type": "stream",
     "text": [
      "... computing pairwise pearson correlation ...\n"
     ]
    },
    {
     "data": {
      "application/vnd.jupyter.widget-view+json": {
       "model_id": "f422d810254e437ba04ad0c625728874",
       "version_major": 2,
       "version_minor": 0
      },
      "text/plain": [
       "  0%|          | 0/100 [00:00<?, ?it/s]"
      ]
     },
     "metadata": {},
     "output_type": "display_data"
    },
    {
     "name": "stdout",
     "output_type": "stream",
     "text": [
      "Parallel corrs:  (1493284, 4)\n",
      "processing:  20220523\n"
     ]
    },
    {
     "name": "stderr",
     "output_type": "stream",
     "text": [
      "low pass filter: 100%|█████████████████████████████████████████████████████████████████████████████████████████████████████████████████████████████████████████████████████████████████████████████████████████| 483/483 [00:00<00:00, 798.10it/s]\n",
      "model filter: remove bleaching or trends: 100%|████████████████████████████████████████████████████████████████████████████████████████████████████████████████████████████████████████████████████████████████| 483/483 [00:00<00:00, 775.02it/s]\n",
      "binarizing continuous traces filtered fluorescence onphase: 100%|███████████████████████████████████████████████████████████████████████████████████████████████████████████████████████████████████████████████| 483/483 [00:06<00:00, 77.83it/s]\n",
      "binarizing continuous traces filtered fluorescence upphase: 100%|███████████████████████████████████████████████████████████████████████████████████████████████████████████████████████████████████████████████| 483/483 [00:13<00:00, 37.11it/s]\n"
     ]
    },
    {
     "name": "stdout",
     "output_type": "stream",
     "text": [
      "   Oasis based binarization skipped by default ... \n",
      "... computing cell overlaps ...\n"
     ]
    },
    {
     "data": {
      "application/vnd.jupyter.widget-view+json": {
       "model_id": "d8b77908825a42a380eaab0f2b3b45e5",
       "version_major": 2,
       "version_minor": 0
      },
      "text/plain": [
       "  0%|          | 0/30 [00:00<?, ?it/s]"
      ]
     },
     "metadata": {},
     "output_type": "display_data"
    },
    {
     "name": "stdout",
     "output_type": "stream",
     "text": [
      "... computing pairwise pearson correlation ...\n"
     ]
    },
    {
     "data": {
      "application/vnd.jupyter.widget-view+json": {
       "model_id": "5330a601e96f4a15b25861828f312628",
       "version_major": 2,
       "version_minor": 0
      },
      "text/plain": [
       "  0%|          | 0/100 [00:00<?, ?it/s]"
      ]
     },
     "metadata": {},
     "output_type": "display_data"
    },
    {
     "name": "stdout",
     "output_type": "stream",
     "text": [
      "Parallel corrs:  (233289, 4)\n",
      "processing:  20220517\n"
     ]
    },
    {
     "name": "stderr",
     "output_type": "stream",
     "text": [
      "low pass filter: 100%|█████████████████████████████████████████████████████████████████████████████████████████████████████████████████████████████████████████████████████████████████████████████████████████| 742/742 [00:00<00:00, 790.61it/s]\n",
      "model filter: remove bleaching or trends: 100%|████████████████████████████████████████████████████████████████████████████████████████████████████████████████████████████████████████████████████████████████| 742/742 [00:00<00:00, 785.84it/s]\n",
      "binarizing continuous traces filtered fluorescence onphase: 100%|███████████████████████████████████████████████████████████████████████████████████████████████████████████████████████████████████████████████| 742/742 [00:08<00:00, 91.10it/s]\n",
      "binarizing continuous traces filtered fluorescence upphase: 100%|███████████████████████████████████████████████████████████████████████████████████████████████████████████████████████████████████████████████| 742/742 [00:17<00:00, 42.61it/s]\n"
     ]
    },
    {
     "name": "stdout",
     "output_type": "stream",
     "text": [
      "   Oasis based binarization skipped by default ... \n",
      "... computing cell overlaps ...\n"
     ]
    },
    {
     "data": {
      "application/vnd.jupyter.widget-view+json": {
       "model_id": "9bc26ca83c574523b838684416a8b900",
       "version_major": 2,
       "version_minor": 0
      },
      "text/plain": [
       "  0%|          | 0/30 [00:00<?, ?it/s]"
      ]
     },
     "metadata": {},
     "output_type": "display_data"
    },
    {
     "name": "stdout",
     "output_type": "stream",
     "text": [
      "... computing pairwise pearson correlation ...\n"
     ]
    },
    {
     "data": {
      "application/vnd.jupyter.widget-view+json": {
       "model_id": "4402b04fb45e46d88180a5d565e7821c",
       "version_major": 2,
       "version_minor": 0
      },
      "text/plain": [
       "  0%|          | 0/100 [00:00<?, ?it/s]"
      ]
     },
     "metadata": {},
     "output_type": "display_data"
    },
    {
     "name": "stdout",
     "output_type": "stream",
     "text": [
      "Parallel corrs:  (550564, 4)\n",
      "processing:  20220521\n"
     ]
    },
    {
     "name": "stderr",
     "output_type": "stream",
     "text": [
      "low pass filter: 100%|█████████████████████████████████████████████████████████████████████████████████████████████████████████████████████████████████████████████████████████████████████████████████████████| 480/480 [00:00<00:00, 794.78it/s]\n",
      "model filter: remove bleaching or trends: 100%|████████████████████████████████████████████████████████████████████████████████████████████████████████████████████████████████████████████████████████████████| 480/480 [00:00<00:00, 769.89it/s]\n",
      "binarizing continuous traces filtered fluorescence onphase: 100%|███████████████████████████████████████████████████████████████████████████████████████████████████████████████████████████████████████████████| 480/480 [00:09<00:00, 52.33it/s]\n",
      "binarizing continuous traces filtered fluorescence upphase: 100%|███████████████████████████████████████████████████████████████████████████████████████████████████████████████████████████████████████████████| 480/480 [00:15<00:00, 31.27it/s]\n"
     ]
    },
    {
     "name": "stdout",
     "output_type": "stream",
     "text": [
      "   Oasis based binarization skipped by default ... \n",
      "... computing cell overlaps ...\n"
     ]
    },
    {
     "data": {
      "application/vnd.jupyter.widget-view+json": {
       "model_id": "87d069a5dbb540fc9569fe94e02dc510",
       "version_major": 2,
       "version_minor": 0
      },
      "text/plain": [
       "  0%|          | 0/30 [00:00<?, ?it/s]"
      ]
     },
     "metadata": {},
     "output_type": "display_data"
    },
    {
     "name": "stdout",
     "output_type": "stream",
     "text": [
      "... computing pairwise pearson correlation ...\n"
     ]
    },
    {
     "data": {
      "application/vnd.jupyter.widget-view+json": {
       "model_id": "2106ae657d6042a083c2b0c75c0d3c37",
       "version_major": 2,
       "version_minor": 0
      },
      "text/plain": [
       "  0%|          | 0/100 [00:00<?, ?it/s]"
      ]
     },
     "metadata": {},
     "output_type": "display_data"
    },
    {
     "name": "stdout",
     "output_type": "stream",
     "text": [
      "Parallel corrs:  (230400, 4)\n",
      "processing:  20220514\n"
     ]
    },
    {
     "name": "stderr",
     "output_type": "stream",
     "text": [
      "low pass filter: 100%|███████████████████████████████████████████████████████████████████████████████████████████████████████████████████████████████████████████████████████████████████████████████████████| 1303/1303 [00:01<00:00, 803.05it/s]\n",
      "model filter: remove bleaching or trends: 100%|██████████████████████████████████████████████████████████████████████████████████████████████████████████████████████████████████████████████████████████████| 1303/1303 [00:01<00:00, 783.20it/s]\n",
      "binarizing continuous traces filtered fluorescence onphase: 100%|█████████████████████████████████████████████████████████████████████████████████████████████████████████████████████████████████████████████| 1303/1303 [00:15<00:00, 83.05it/s]\n",
      "binarizing continuous traces filtered fluorescence upphase: 100%|█████████████████████████████████████████████████████████████████████████████████████████████████████████████████████████████████████████████| 1303/1303 [00:39<00:00, 33.29it/s]\n"
     ]
    },
    {
     "name": "stdout",
     "output_type": "stream",
     "text": [
      "   Oasis based binarization skipped by default ... \n",
      "... computing cell overlaps ...\n"
     ]
    },
    {
     "data": {
      "application/vnd.jupyter.widget-view+json": {
       "model_id": "7ed74baaa6cb40939f0bf811927e500b",
       "version_major": 2,
       "version_minor": 0
      },
      "text/plain": [
       "  0%|          | 0/30 [00:00<?, ?it/s]"
      ]
     },
     "metadata": {},
     "output_type": "display_data"
    },
    {
     "name": "stdout",
     "output_type": "stream",
     "text": [
      "... computing pairwise pearson correlation ...\n"
     ]
    },
    {
     "data": {
      "application/vnd.jupyter.widget-view+json": {
       "model_id": "eab1a5e783de48b9a68bad0dedb063d2",
       "version_major": 2,
       "version_minor": 0
      },
      "text/plain": [
       "  0%|          | 0/100 [00:00<?, ?it/s]"
      ]
     },
     "metadata": {},
     "output_type": "display_data"
    },
    {
     "name": "stdout",
     "output_type": "stream",
     "text": [
      "Parallel corrs:  (1697809, 4)\n",
      "processing:  20220531\n"
     ]
    },
    {
     "name": "stderr",
     "output_type": "stream",
     "text": [
      "low pass filter: 100%|████████████████████████████████████████████████████████████████████████████████████████████████████████████████████████████████████████████████████████████████████████████████████████| 594/594 [00:00<00:00, 1178.43it/s]\n",
      "model filter: remove bleaching or trends: 100%|███████████████████████████████████████████████████████████████████████████████████████████████████████████████████████████████████████████████████████████████| 594/594 [00:00<00:00, 1117.15it/s]\n",
      "binarizing continuous traces filtered fluorescence onphase: 100%|███████████████████████████████████████████████████████████████████████████████████████████████████████████████████████████████████████████████| 594/594 [00:06<00:00, 92.59it/s]\n",
      "binarizing continuous traces filtered fluorescence upphase: 100%|███████████████████████████████████████████████████████████████████████████████████████████████████████████████████████████████████████████████| 594/594 [00:09<00:00, 61.22it/s]\n"
     ]
    },
    {
     "name": "stdout",
     "output_type": "stream",
     "text": [
      "   Oasis based binarization skipped by default ... \n",
      "... computing cell overlaps ...\n"
     ]
    },
    {
     "data": {
      "application/vnd.jupyter.widget-view+json": {
       "model_id": "31f0c23353e3493faff6d9a934c13220",
       "version_major": 2,
       "version_minor": 0
      },
      "text/plain": [
       "  0%|          | 0/30 [00:00<?, ?it/s]"
      ]
     },
     "metadata": {},
     "output_type": "display_data"
    },
    {
     "name": "stdout",
     "output_type": "stream",
     "text": [
      "... computing pairwise pearson correlation ...\n"
     ]
    },
    {
     "data": {
      "application/vnd.jupyter.widget-view+json": {
       "model_id": "557576a9986c44fbb871ca254289e3b9",
       "version_major": 2,
       "version_minor": 0
      },
      "text/plain": [
       "  0%|          | 0/100 [00:00<?, ?it/s]"
      ]
     },
     "metadata": {},
     "output_type": "display_data"
    },
    {
     "name": "stdout",
     "output_type": "stream",
     "text": [
      "Parallel corrs:  (352836, 4)\n",
      "processing:  20220515\n"
     ]
    },
    {
     "name": "stderr",
     "output_type": "stream",
     "text": [
      "low pass filter: 100%|███████████████████████████████████████████████████████████████████████████████████████████████████████████████████████████████████████████████████████████████████████████████████████| 1018/1018 [00:01<00:00, 797.79it/s]\n",
      "model filter: remove bleaching or trends: 100%|██████████████████████████████████████████████████████████████████████████████████████████████████████████████████████████████████████████████████████████████| 1018/1018 [00:01<00:00, 789.75it/s]\n",
      "binarizing continuous traces filtered fluorescence onphase: 100%|████████████████████████████████████████████████████████████████████████████████████████████████████████████████████████████████████████████| 1018/1018 [00:07<00:00, 130.88it/s]\n",
      "binarizing continuous traces filtered fluorescence upphase: 100%|█████████████████████████████████████████████████████████████████████████████████████████████████████████████████████████████████████████████| 1018/1018 [00:18<00:00, 55.02it/s]\n"
     ]
    },
    {
     "name": "stdout",
     "output_type": "stream",
     "text": [
      "   Oasis based binarization skipped by default ... \n",
      "... computing cell overlaps ...\n"
     ]
    },
    {
     "data": {
      "application/vnd.jupyter.widget-view+json": {
       "model_id": "b0a192928d7740649d685736a2d02f7f",
       "version_major": 2,
       "version_minor": 0
      },
      "text/plain": [
       "  0%|          | 0/30 [00:00<?, ?it/s]"
      ]
     },
     "metadata": {},
     "output_type": "display_data"
    },
    {
     "name": "stdout",
     "output_type": "stream",
     "text": [
      "... computing pairwise pearson correlation ...\n"
     ]
    },
    {
     "data": {
      "application/vnd.jupyter.widget-view+json": {
       "model_id": "9b1e070119b44e6499d0547496d65d77",
       "version_major": 2,
       "version_minor": 0
      },
      "text/plain": [
       "  0%|          | 0/100 [00:00<?, ?it/s]"
      ]
     },
     "metadata": {},
     "output_type": "display_data"
    },
    {
     "name": "stdout",
     "output_type": "stream",
     "text": [
      "Parallel corrs:  (1036324, 4)\n",
      "processing:  20220513\n"
     ]
    },
    {
     "name": "stderr",
     "output_type": "stream",
     "text": [
      "low pass filter: 100%|█████████████████████████████████████████████████████████████████████████████████████████████████████████████████████████████████████████████████████████████████████████████████████████| 897/897 [00:01<00:00, 790.92it/s]\n",
      "model filter: remove bleaching or trends: 100%|████████████████████████████████████████████████████████████████████████████████████████████████████████████████████████████████████████████████████████████████| 897/897 [00:01<00:00, 789.79it/s]\n",
      "binarizing continuous traces filtered fluorescence onphase: 100%|██████████████████████████████████████████████████████████████████████████████████████████████████████████████████████████████████████████████| 897/897 [00:07<00:00, 122.59it/s]\n",
      "binarizing continuous traces filtered fluorescence upphase: 100%|███████████████████████████████████████████████████████████████████████████████████████████████████████████████████████████████████████████████| 897/897 [00:16<00:00, 54.49it/s]\n"
     ]
    },
    {
     "name": "stdout",
     "output_type": "stream",
     "text": [
      "   Oasis based binarization skipped by default ... \n",
      "... computing cell overlaps ...\n"
     ]
    },
    {
     "data": {
      "application/vnd.jupyter.widget-view+json": {
       "model_id": "a85ddcc054314c1f82616e26294713d0",
       "version_major": 2,
       "version_minor": 0
      },
      "text/plain": [
       "  0%|          | 0/30 [00:00<?, ?it/s]"
      ]
     },
     "metadata": {},
     "output_type": "display_data"
    },
    {
     "name": "stdout",
     "output_type": "stream",
     "text": [
      "... computing pairwise pearson correlation ...\n"
     ]
    },
    {
     "data": {
      "application/vnd.jupyter.widget-view+json": {
       "model_id": "de302c1369ff4a9c8cb38b994220ecae",
       "version_major": 2,
       "version_minor": 0
      },
      "text/plain": [
       "  0%|          | 0/100 [00:00<?, ?it/s]"
      ]
     },
     "metadata": {},
     "output_type": "display_data"
    },
    {
     "name": "stdout",
     "output_type": "stream",
     "text": [
      "Parallel corrs:  (804609, 4)\n",
      "processing:  20220520\n"
     ]
    },
    {
     "name": "stderr",
     "output_type": "stream",
     "text": [
      "low pass filter: 100%|█████████████████████████████████████████████████████████████████████████████████████████████████████████████████████████████████████████████████████████████████████████████████████████| 411/411 [00:00<00:00, 719.82it/s]\n",
      "model filter: remove bleaching or trends: 100%|████████████████████████████████████████████████████████████████████████████████████████████████████████████████████████████████████████████████████████████████| 411/411 [00:00<00:00, 722.78it/s]\n",
      "binarizing continuous traces filtered fluorescence onphase: 100%|███████████████████████████████████████████████████████████████████████████████████████████████████████████████████████████████████████████████| 411/411 [00:04<00:00, 87.12it/s]\n",
      "binarizing continuous traces filtered fluorescence upphase: 100%|███████████████████████████████████████████████████████████████████████████████████████████████████████████████████████████████████████████████| 411/411 [00:10<00:00, 40.80it/s]\n"
     ]
    },
    {
     "name": "stdout",
     "output_type": "stream",
     "text": [
      "   Oasis based binarization skipped by default ... \n",
      "... computing cell overlaps ...\n"
     ]
    },
    {
     "data": {
      "application/vnd.jupyter.widget-view+json": {
       "model_id": "0850f00c6f8343e98350ae326f3e4706",
       "version_major": 2,
       "version_minor": 0
      },
      "text/plain": [
       "  0%|          | 0/30 [00:00<?, ?it/s]"
      ]
     },
     "metadata": {},
     "output_type": "display_data"
    },
    {
     "name": "stdout",
     "output_type": "stream",
     "text": [
      "... computing pairwise pearson correlation ...\n"
     ]
    },
    {
     "data": {
      "application/vnd.jupyter.widget-view+json": {
       "model_id": "8211a8ea6e0448598212a2041da84205",
       "version_major": 2,
       "version_minor": 0
      },
      "text/plain": [
       "  0%|          | 0/100 [00:00<?, ?it/s]"
      ]
     },
     "metadata": {},
     "output_type": "display_data"
    },
    {
     "name": "stdout",
     "output_type": "stream",
     "text": [
      "Parallel corrs:  (168921, 4)\n",
      "processing:  20220519\n"
     ]
    },
    {
     "name": "stderr",
     "output_type": "stream",
     "text": [
      "low pass filter: 100%|█████████████████████████████████████████████████████████████████████████████████████████████████████████████████████████████████████████████████████████████████████████████████████████| 532/532 [00:00<00:00, 783.05it/s]\n",
      "model filter: remove bleaching or trends: 100%|████████████████████████████████████████████████████████████████████████████████████████████████████████████████████████████████████████████████████████████████| 532/532 [00:00<00:00, 771.24it/s]\n",
      "binarizing continuous traces filtered fluorescence onphase: 100%|███████████████████████████████████████████████████████████████████████████████████████████████████████████████████████████████████████████████| 532/532 [00:11<00:00, 45.57it/s]\n",
      "binarizing continuous traces filtered fluorescence upphase: 100%|███████████████████████████████████████████████████████████████████████████████████████████████████████████████████████████████████████████████| 532/532 [00:19<00:00, 26.67it/s]\n"
     ]
    },
    {
     "name": "stdout",
     "output_type": "stream",
     "text": [
      "   Oasis based binarization skipped by default ... \n",
      "... computing cell overlaps ...\n"
     ]
    },
    {
     "data": {
      "application/vnd.jupyter.widget-view+json": {
       "model_id": "2bd3f41e99224d45b717cc674872882b",
       "version_major": 2,
       "version_minor": 0
      },
      "text/plain": [
       "  0%|          | 0/30 [00:00<?, ?it/s]"
      ]
     },
     "metadata": {},
     "output_type": "display_data"
    },
    {
     "name": "stdout",
     "output_type": "stream",
     "text": [
      "... computing pairwise pearson correlation ...\n"
     ]
    },
    {
     "data": {
      "application/vnd.jupyter.widget-view+json": {
       "model_id": "a2bd40a853814db2817f27dce3b90d36",
       "version_major": 2,
       "version_minor": 0
      },
      "text/plain": [
       "  0%|          | 0/100 [00:00<?, ?it/s]"
      ]
     },
     "metadata": {},
     "output_type": "display_data"
    },
    {
     "name": "stdout",
     "output_type": "stream",
     "text": [
      "Parallel corrs:  (283024, 4)\n",
      "processing:  20220522\n"
     ]
    },
    {
     "name": "stderr",
     "output_type": "stream",
     "text": [
      "low pass filter: 100%|█████████████████████████████████████████████████████████████████████████████████████████████████████████████████████████████████████████████████████████████████████████████████████████| 505/505 [00:00<00:00, 789.88it/s]\n",
      "model filter: remove bleaching or trends: 100%|████████████████████████████████████████████████████████████████████████████████████████████████████████████████████████████████████████████████████████████████| 505/505 [00:00<00:00, 779.82it/s]\n",
      "binarizing continuous traces filtered fluorescence onphase: 100%|███████████████████████████████████████████████████████████████████████████████████████████████████████████████████████████████████████████████| 505/505 [00:06<00:00, 83.81it/s]\n",
      "binarizing continuous traces filtered fluorescence upphase: 100%|███████████████████████████████████████████████████████████████████████████████████████████████████████████████████████████████████████████████| 505/505 [00:12<00:00, 39.08it/s]\n"
     ]
    },
    {
     "name": "stdout",
     "output_type": "stream",
     "text": [
      "   Oasis based binarization skipped by default ... \n",
      "... computing cell overlaps ...\n"
     ]
    },
    {
     "data": {
      "application/vnd.jupyter.widget-view+json": {
       "model_id": "363b3e0570844a4f9c9870c119a57eab",
       "version_major": 2,
       "version_minor": 0
      },
      "text/plain": [
       "  0%|          | 0/30 [00:00<?, ?it/s]"
      ]
     },
     "metadata": {},
     "output_type": "display_data"
    },
    {
     "name": "stdout",
     "output_type": "stream",
     "text": [
      "... computing pairwise pearson correlation ...\n"
     ]
    },
    {
     "data": {
      "application/vnd.jupyter.widget-view+json": {
       "model_id": "baef7f0833474e28af3839ce8ce0bf54",
       "version_major": 2,
       "version_minor": 0
      },
      "text/plain": [
       "  0%|          | 0/100 [00:00<?, ?it/s]"
      ]
     },
     "metadata": {},
     "output_type": "display_data"
    },
    {
     "name": "stdout",
     "output_type": "stream",
     "text": [
      "Parallel corrs:  (255025, 4)\n"
     ]
    }
   ],
   "source": [
    "############################################\n",
    "################# Load data ################\n",
    "############################################\n",
    "\n",
    "#\n",
    "def get_sessions_from_directory_listing(root_dir,\n",
    "                                       animal_id):\n",
    "    \n",
    "    sessions = os.listdir(root_dir+animal_id)\n",
    "    print (\"sessions: \", sessions)\n",
    "    \n",
    "    return sessions\n",
    "    \n",
    "#\n",
    "\n",
    "animal_ids = [\n",
    "    'DON-009191',\n",
    "    'DON-009192',\n",
    "    'DON-010473',\n",
    "    'DON-010477'\n",
    "]\n",
    "              \n",
    "\n",
    "root_dir = '/media/cat/4TB1/donato/'\n",
    "animal_id = animal_ids[3]\n",
    "dir_ = '/002P-F/tif/'\n",
    "\n",
    "sessions = get_sessions_from_directory_listing(root_dir,\n",
    "                                              animal_id)\n",
    "\n",
    "print (\"PRocessing: \", animal_id)\n",
    "#\n",
    "for session in sessions:\n",
    "    #\n",
    "    try: \n",
    "        print (\"processing: \", session)\n",
    "        \n",
    "        #if session != '20220302':\n",
    "        #    continue\n",
    "        \n",
    "        c = calcium.Calcium()\n",
    "        c.root_dir = root_dir\n",
    "        c.data_dir = os.path.join(root_dir, animal_id, session+dir_, 'suite2p','plane0')\n",
    "        c.animal_id = animal_id\n",
    "        c.session = session\n",
    "        c.detrend_model_order = 1\n",
    "        c.load_suite2p()\n",
    "        c.save_python = True\n",
    "        c.save_matlab = False\n",
    "\n",
    "        # \n",
    "        c.load_binarization()\n",
    "        binarization_method = 'upphase'\n",
    "        if binarization_method=='onphase':\n",
    "            traces = c.F_onphase_bin\n",
    "        elif binarization_method=='upphase':\n",
    "            traces = c.F_upphase_bin\n",
    "        else:\n",
    "            print (\"METHOD NOT FOUND\")\n",
    "\n",
    "        #print (\"binarized data: \", traces.shape)\n",
    "\n",
    "        ###################################################################\n",
    "        ########## cleanup cells + compute pairwise correlations ##########\n",
    "        ###################################################################\n",
    "        c.load_footprints()\n",
    "        c.deduplication_method = 'overlap'      # 'overlap'; 'centre_distance'\n",
    "        c.corr_min_distance = 8                 # min distance for centre_distance method - NOT USED HERE\n",
    "        c.corr_max_percent_overlap = 0.25       # max overlap for overlap method\n",
    "        c.corr_threshold = 0.3                  # max correlation allowed for high overlap\n",
    "\n",
    "        #  \n",
    "        c.corr_delete_method = 'lowest_snr' #'highest_connected', lowest_snr'\n",
    "        c.recompute_deduplication = False\n",
    "\n",
    "        c.remove_duplicate_neurons()\n",
    "    except:\n",
    "        print (\"... errror loading : \", session)\n"
   ]
  },
  {
   "cell_type": "code",
   "execution_count": 7,
   "id": "7a564f3f-f40e-4457-85da-1ba403350305",
   "metadata": {},
   "outputs": [
    {
     "name": "stdout",
     "output_type": "stream",
     "text": [
      "/media/cat/4TB1/donato/tests/DON-010473_20220514_002P-F_S1-S2-ACQ.mesc ['S1', 'S2']\n"
     ]
    }
   ],
   "source": [
    "def get_sessions_from_filename(fname):\n",
    "    \n",
    "    fname = fname.replace(\"-\",\"_\")\n",
    "    \n",
    "    idx1 = fname.find(\"002P_F\")+7\n",
    "    idx2 = fname.find('.mesc')\n",
    "    \n",
    "    sessions = fname[idx1:idx2].replace(\"-\",\"_\").split(\"_\")\n",
    "    \n",
    "    try:\n",
    "        sessions.remove(\"ACQ\")\n",
    "    except:\n",
    "        pass\n",
    "    \n",
    "    return sessions\n",
    "\n",
    "\n",
    "def get_sessions_from_filename2(fname):\n",
    "\n",
    "    sessions = []\n",
    "    for k in range(1,20,1):\n",
    "        temp = \"S\"+str(k)\n",
    "        if temp in fname:\n",
    "            sessions.append(temp)\n",
    "\n",
    "    return sessions\n",
    "\n",
    "\n",
    "\n",
    "def get_sessions_for_mesc_and_raw_filenames_from_directory(folder):\n",
    "    \n",
    "    fs = []\n",
    "    ss = []\n",
    "    \n",
    "    # look for .mesc files\n",
    "    extensions = '.mesc'\n",
    "    \n",
    "    matches = []\n",
    "    for root, dirnames, filenames in os.walk(folder):\n",
    "        #print (root, dirnames, filenames)\n",
    "        for filename in filenames:\n",
    "            if filename.endswith(extensions):\n",
    "                matches.append(os.path.join(root, filename))\n",
    "                \n",
    "    for match in matches:\n",
    "        sessions = get_sessions_from_filename2(match)\n",
    "        fs.append(match)\n",
    "        ss.append(sessions)\n",
    "        #print (match, sessions)\n",
    "        \n",
    "    # look for .raw files\n",
    "    extensions = '.raw'\n",
    "    matches = []\n",
    "    for root, dirnames, filenames in os.walk(folder):\n",
    "        for filename in filenames:\n",
    "            if filename.endswith(extensions):\n",
    "                matches.append(os.path.join(root, filename))\n",
    "    \n",
    "    for match in matches:\n",
    "        fs.append(match)\n",
    "        ss.append([])           \n",
    "\n",
    "        \n",
    "    return fs, ss\n",
    "\n",
    "folder = '/media/cat/4TB1/donato/tests'\n",
    "fnames, sessions = get_sessions_for_mesc_and_raw_filenames_from_directory(folder)\n",
    "for k in range(len(fnames)):\n",
    "    print (fnames[k], sessions[k])"
   ]
  },
  {
   "cell_type": "code",
   "execution_count": 9,
   "id": "18fe47cf-c643-42db-ace6-ed10c28411ef",
   "metadata": {},
   "outputs": [
    {
     "name": "stdout",
     "output_type": "stream",
     "text": [
      "session loaded:  MUnit_0\n",
      "session loaded:  MUnit_1\n"
     ]
    }
   ],
   "source": [
    "def convert_mesc_sessions_to_concatenated_tiff(fname,\n",
    "                                               sessions_in):\n",
    "\n",
    "    fname_out = fname.replace('.mesc','.tif')\n",
    "\n",
    "    if os.path.exists(fname_out):\n",
    "        print (\".mesc -> .tiff file already done... skipping conversion...\")\n",
    "        return fname_out\n",
    "\n",
    "    # sessions_in = sessions_in.replace(\" \", \"\").split (\",\")\n",
    "\n",
    "    #\n",
    "    sess_list = []\n",
    "    for session in sessions_in:\n",
    "        temp = session.replace(\"S\",'')\n",
    "        temp = 'MUnit_'+str(int(temp)-1)\n",
    "        print (\"session loaded: \", temp)\n",
    "        sess_list.append(temp)\n",
    "    #\n",
    "    \n",
    "    \n",
    "\n",
    "#fname = fnames[0]\n",
    "#sessions_in = sessions[0]\n",
    "\n",
    "convert_mesc_sessions_to_concatenated_tiff(fname, sessions_in)\n",
    "\n",
    "\n"
   ]
  },
  {
   "cell_type": "code",
   "execution_count": null,
   "id": "dfb362cf-ecb3-4b26-9eb5-5560a5030631",
   "metadata": {},
   "outputs": [
    {
     "name": "stdout",
     "output_type": "stream",
     "text": [
      "fname:  /media/cat/4TB1/donato/DON-009192/DON-009192_20220322_002P-F_S1-S2-S3-S4.mesc\n",
      "sessions;  <KeysViewHDF5 ['MSession_0']>\n",
      "processing:  MSession_0\n",
      "Munits:  ['MUnit_0', 'MUnit_1', 'MUnit_2', 'MUnit_3', 'MUnit_4']\n",
      "    data loaded size:  (27874, 512, 512)\n",
      "    data loaded size:  (27874, 512, 512)\n",
      "    data loaded size:  (27874, 512, 512)\n",
      "    data loaded size:  (27874, 512, 512)\n"
     ]
    }
   ],
   "source": [
    "# TEST CONTENT OF .mesc files\n",
    "import h5py\n",
    "def get_data(fname,\n",
    "             unit_ids):\n",
    "\n",
    "    data = []\n",
    "    with h5py.File(fname, 'r') as file:\n",
    "\n",
    "        sessions_in = file.keys()\n",
    "        print (\"sessions; \", sessions_in)\n",
    "                    #\n",
    "        for sess in sessions_in:\n",
    "            print (\"processing: \", sess)\n",
    "\n",
    "            units = file[sess].keys()\n",
    "            \n",
    "            munits = []\n",
    "            for unit in units:\n",
    "                munits.append(unit)\n",
    "                \n",
    "            print (\"Munits: \", munits)\n",
    "            \n",
    "            for unit_id in unit_ids:\n",
    "                \n",
    "                temp = file['MSession_0'][munits[unit_id]]['Channel_0'][()]\n",
    "                print (\"    data loaded size: \", temp.shape)\n",
    "                data.append(temp)\n",
    "                \n",
    "    data = np.vstack(data)\n",
    "    print(data.shape)\n",
    "\n",
    "\n",
    "fname = '/media/cat/4TB1/donato/DON-009192/DON-009192_20220401_002P-F_S1-S2.mesc'\n",
    "#fname = '/media/cat/4TB1/donato/DON-009192/DON-010473_20220510_002P-F_S1-ACQ.mesc'\n",
    "#fname = '/media/cat/4TB1/donato/DON-009192/DON-009192_20220322_002P-F_S1-S2-S3-S4.mesc'\n",
    "fname = '/media/cat/4TB1/donato/DON-009192/DON-010477_20220511_002P-F_S1-S2-ACQ.mesc'\n",
    "fname = '/media/cat/4TB1/donato/DON-009192/DON-009191_20220318_002P-F_S1.mesc'\n",
    "fname = '/media/cat/4TB1/donato/DON-009192/DON-009191_20220311_002P-F_S1-S2.mesc'\n",
    "fname = '/media/cat/4TB1/donato/DON-009192/DON-009192_20220322_002P-F_S1-S2-S3-S4.mesc'\n",
    "\n",
    "\n",
    "print (\"fname: \", fname)\n",
    "unit_ids = [0,1,2,3]\n",
    "get_data(fname, unit_ids)\n",
    "\n",
    "\n",
    "\n"
   ]
  },
  {
   "cell_type": "code",
   "execution_count": 45,
   "id": "8b0502be-0c86-43f0-93a4-588851fd8ec7",
   "metadata": {},
   "outputs": [
    {
     "name": "stdout",
     "output_type": "stream",
     "text": [
      "/media/cat/4TB1/donato/DON-009192/DON-010473_20220510_002P-F_S1-ACQ.mesc\n",
      "sessions;  <KeysViewHDF5 ['MSession_0']>\n",
      "processing:  MSession_0\n",
      "<KeysViewHDF5 ['MUnit_0']>\n"
     ]
    }
   ],
   "source": [
    "fname = '/media/cat/4TB1/donato/DON-009192/DON-010473_20220510_002P-F_S1-ACQ.mesc'\n",
    "print (fname)\n",
    "get_data(fname)\n",
    "\n"
   ]
  },
  {
   "cell_type": "code",
   "execution_count": null,
   "id": "9c2d5780-d0cc-4c94-a0b8-cc51fd3a6014",
   "metadata": {},
   "outputs": [],
   "source": [
    "def convert_mesc_sessions_to_concatenated_tiff(fname,\n",
    "                                               sessions_in):\n",
    "\n",
    "    fname_out = fname.replace('.mesc','.tif')\n",
    "\n",
    "    if os.path.exists(fname_out):\n",
    "        print (\".mesc -> .tiff file already done... skipping conversion...\")\n",
    "        return fname_out\n",
    "\n",
    "    # sessions_in = sessions_in.replace(\" \", \"\").split (\",\")\n",
    "\n",
    "    # #\n",
    "    # sess_list = []\n",
    "    # for session in sessions_in:\n",
    "    #     temp = session.replace(\"S\",'')\n",
    "    #     temp = 'MUnit_'+str(int(temp)-1)\n",
    "    #     print (\"session loaded: \", temp)\n",
    "    #     sess_list.append(temp)\n",
    "    #\n",
    "    data = []\n",
    "    with h5py.File(fname, 'r') as file:\n",
    "                #\n",
    "        for sess in sess_list:\n",
    "            print (\"processing: \", sess)\n",
    "            temp = file['MSession_0'][sess]['Channel_0'][()]\n",
    "            print (\"    data loaded size: \", temp.shape)\n",
    "            data.append(temp)\n",
    "\n",
    "    data = np.vstack(data)\n",
    "    print(data.shape)\n",
    "\n",
    "    #\n",
    "    tifffile.imwrite(fname_out, data)\n",
    "\n",
    "    return fname_out\n"
   ]
  }
 ],
 "metadata": {
  "kernelspec": {
   "display_name": "Python 3 (ipykernel)",
   "language": "python",
   "name": "python3"
  },
  "language_info": {
   "codemirror_mode": {
    "name": "ipython",
    "version": 3
   },
   "file_extension": ".py",
   "mimetype": "text/x-python",
   "name": "python",
   "nbconvert_exporter": "python",
   "pygments_lexer": "ipython3",
   "version": "3.8.12"
  }
 },
 "nbformat": 4,
 "nbformat_minor": 5
}
