{
 "cells": [
  {
   "cell_type": "code",
   "execution_count": 1,
   "id": "8f98c6b4-4a90-4f64-adae-4ce2b75e4d57",
   "metadata": {},
   "outputs": [
    {
     "data": {
      "application/javascript": "IPython.notebook.set_autosave_interval(180000)"
     },
     "metadata": {},
     "output_type": "display_data"
    },
    {
     "name": "stdout",
     "output_type": "stream",
     "text": [
      "Autosaving every 180 seconds\n"
     ]
    },
    {
     "name": "stderr",
     "output_type": "stream",
     "text": [
      "<ipython-input-1-e4476ecac24a>:12: DeprecationWarning: Importing display from IPython.core.display is deprecated since IPython 7.14, please import from IPython display\n",
      "  from IPython.core.display import display, HTML\n"
     ]
    },
    {
     "data": {
      "text/html": [
       "<style>.container { width:100% !important; }</style>"
      ],
      "text/plain": [
       "<IPython.core.display.HTML object>"
      ]
     },
     "metadata": {},
     "output_type": "display_data"
    },
    {
     "name": "stderr",
     "output_type": "stream",
     "text": [
      "/home/cat/.conda/envs/donato/lib/python3.8/site-packages/tqdm/auto.py:22: TqdmWarning: IProgress not found. Please update jupyter and ipywidgets. See https://ipywidgets.readthedocs.io/en/stable/user_install.html\n",
      "  from .autonotebook import tqdm as notebook_tqdm\n"
     ]
    }
   ],
   "source": [
    "import matplotlib\n",
    "%matplotlib tk\n",
    "%autosave 180\n",
    "%load_ext autoreload\n",
    "%autoreload 2\n",
    "\n",
    "import nest_asyncio\n",
    "%config Completer.use_jedi = False\n",
    "\n",
    "#\n",
    "import matplotlib.pyplot as plt\n",
    "from IPython.core.display import display, HTML\n",
    "display(HTML(\"<style>.container { width:100% !important; }</style>\"))\n",
    "\n",
    "# \n",
    "import numpy as np\n",
    "import os\n",
    "import scipy\n",
    "\n",
    "# add root directory to be able to import packages\n",
    "# todo: make all packages installable so they can be called/imported by environment\n",
    "import sys\n",
    "module_path = os.path.abspath(os.path.join('..'))\n",
    "sys.path.append(module_path)\n",
    "\n",
    "from utils.calcium import calcium\n"
   ]
  },
  {
   "cell_type": "code",
   "execution_count": 3,
   "id": "28da3655-1a7f-43c0-ba3b-f42276c20e6f",
   "metadata": {
    "tags": []
   },
   "outputs": [
    {
     "name": "stdout",
     "output_type": "stream",
     "text": [
      "Processing:  DON-002865\n",
      "sessions:  ['DON-002865_20210210', 'DON-002865_202102114', 'DON-002865_202102115', 'DON-002865_202102113', 'DON-002865_202102119', 'DON-002865_20210211', 'DON-002865_202102116', 'DON-002865_202102117', 'DON-002865_202102118', 'DON-002865_202102112']\n",
      "\n",
      "\n",
      "\n",
      "processing:  DON-002865_20210210\n"
     ]
    },
    {
     "name": "stderr",
     "output_type": "stream",
     "text": [
      "low pass filter: 100%|██████████| 1064/1064 [00:00<00:00, 1567.61it/s]\n",
      "model filter: remove bleaching or trends: 100%|██████████| 1064/1064 [00:08<00:00, 125.63it/s]\n",
      "1071it [00:06, 154.64it/s]                         \n",
      "binarizing continuous traces filtered fluorescence onphase: 100%|██████████| 1064/1064 [00:02<00:00, 529.28it/s]\n",
      "binarizing continuous traces filtered fluorescence upphase: 100%|██████████| 1064/1064 [00:15<00:00, 70.12it/s] \n"
     ]
    },
    {
     "name": "stdout",
     "output_type": "stream",
     "text": [
      "...saving data...\n",
      "   Queiscent periods (seconds):  87.73333333333333\n",
      "   Running periods (seconds):  2757.4\n",
      "... computing pairwise pearson correlation ...\n",
      " RASTERS IN:  (1064, 86186)\n",
      " BINNING WINDOW:  30\n"
     ]
    },
    {
     "name": "stderr",
     "output_type": "stream",
     "text": [
      "1071it [01:32, 11.57it/s]                          \n"
     ]
    },
    {
     "name": "stdout",
     "output_type": "stream",
     "text": [
      "... computing cell overlaps ...\n"
     ]
    },
    {
     "name": "stderr",
     "output_type": "stream",
     "text": [
      "100%|██████████| 30/30 [01:29<00:00,  2.99s/it]\n"
     ]
    },
    {
     "name": "stdout",
     "output_type": "stream",
     "text": [
      "Removed cells:  250\n",
      "DONE\n",
      "   Queiscent periods (seconds):  87.73333333333333\n",
      "   Running periods (seconds):  2757.4\n",
      "... computing pairwise pearson correlation ...\n",
      " RASTERS IN:  (1064, 82722)\n",
      " BINNING WINDOW:  30\n"
     ]
    },
    {
     "name": "stderr",
     "output_type": "stream",
     "text": [
      "1071it [01:22, 13.05it/s]                          \n"
     ]
    },
    {
     "name": "stdout",
     "output_type": "stream",
     "text": [
      "... computing cell overlaps ...\n"
     ]
    },
    {
     "name": "stderr",
     "output_type": "stream",
     "text": [
      "100%|██████████| 30/30 [01:15<00:00,  2.51s/it]\n"
     ]
    },
    {
     "name": "stdout",
     "output_type": "stream",
     "text": [
      "Removed cells:  250\n",
      "DONE\n",
      "   Queiscent periods (seconds):  87.73333333333333\n",
      "   Running periods (seconds):  2757.4\n",
      "... computing pairwise pearson correlation ...\n",
      " RASTERS IN:  (1064, 86186)\n",
      " BINNING WINDOW:  30\n"
     ]
    },
    {
     "name": "stderr",
     "output_type": "stream",
     "text": [
      "1071it [01:25, 12.57it/s]                          \n"
     ]
    },
    {
     "name": "stdout",
     "output_type": "stream",
     "text": [
      "... computing cell overlaps ...\n"
     ]
    },
    {
     "name": "stderr",
     "output_type": "stream",
     "text": [
      "100%|██████████| 30/30 [01:15<00:00,  2.51s/it]\n"
     ]
    },
    {
     "name": "stdout",
     "output_type": "stream",
     "text": [
      "Removed cells:  250\n",
      "DONE\n",
      "\n",
      "\n",
      "\n",
      "processing:  DON-002865_202102114\n"
     ]
    },
    {
     "name": "stderr",
     "output_type": "stream",
     "text": [
      "low pass filter: 100%|██████████| 1177/1177 [00:00<00:00, 2442.94it/s]\n",
      "model filter: remove bleaching or trends: 100%|██████████| 1177/1177 [00:05<00:00, 208.55it/s]\n",
      "1178it [00:04, 239.16it/s]                         \n",
      "binarizing continuous traces filtered fluorescence onphase: 100%|██████████| 1177/1177 [00:00<00:00, 1204.13it/s]\n",
      "binarizing continuous traces filtered fluorescence upphase: 100%|██████████| 1177/1177 [00:06<00:00, 183.80it/s]\n"
     ]
    },
    {
     "name": "stdout",
     "output_type": "stream",
     "text": [
      "...saving data...\n",
      "   Queiscent periods (seconds):  653.4666666666667\n",
      "   Running periods (seconds):  1110.5333333333333\n",
      "... computing pairwise pearson correlation ...\n",
      " RASTERS IN:  (1177, 55740)\n",
      " BINNING WINDOW:  30\n"
     ]
    },
    {
     "name": "stderr",
     "output_type": "stream",
     "text": [
      "1180it [01:01, 19.13it/s]                          \n"
     ]
    },
    {
     "name": "stdout",
     "output_type": "stream",
     "text": [
      "... computing cell overlaps ...\n"
     ]
    },
    {
     "name": "stderr",
     "output_type": "stream",
     "text": [
      "100%|██████████| 30/30 [01:29<00:00,  3.00s/it]\n"
     ]
    },
    {
     "name": "stdout",
     "output_type": "stream",
     "text": [
      "Removed cells:  377\n",
      "DONE\n",
      "   Queiscent periods (seconds):  653.4666666666667\n",
      "   Running periods (seconds):  1110.5333333333333\n",
      "... computing pairwise pearson correlation ...\n",
      " RASTERS IN:  (1177, 33316)\n",
      " BINNING WINDOW:  30\n"
     ]
    },
    {
     "name": "stderr",
     "output_type": "stream",
     "text": [
      "1180it [00:36, 31.93it/s]                          \n"
     ]
    },
    {
     "name": "stdout",
     "output_type": "stream",
     "text": [
      "... computing cell overlaps ...\n"
     ]
    },
    {
     "name": "stderr",
     "output_type": "stream",
     "text": [
      "100%|██████████| 30/30 [01:30<00:00,  3.00s/it]\n"
     ]
    },
    {
     "name": "stdout",
     "output_type": "stream",
     "text": [
      "Removed cells:  360\n",
      "DONE\n",
      "   Queiscent periods (seconds):  653.4666666666667\n",
      "   Running periods (seconds):  1110.5333333333333\n",
      "... computing pairwise pearson correlation ...\n",
      " RASTERS IN:  (1177, 55740)\n",
      " BINNING WINDOW:  30\n"
     ]
    },
    {
     "name": "stderr",
     "output_type": "stream",
     "text": [
      "1180it [01:01, 19.30it/s]                          \n"
     ]
    },
    {
     "name": "stdout",
     "output_type": "stream",
     "text": [
      "... computing cell overlaps ...\n"
     ]
    },
    {
     "name": "stderr",
     "output_type": "stream",
     "text": [
      "100%|██████████| 30/30 [01:29<00:00,  2.99s/it]\n"
     ]
    },
    {
     "name": "stdout",
     "output_type": "stream",
     "text": [
      "Removed cells:  377\n",
      "DONE\n",
      "\n",
      "\n",
      "\n",
      "processing:  DON-002865_202102115\n"
     ]
    },
    {
     "name": "stderr",
     "output_type": "stream",
     "text": [
      "low pass filter: 100%|██████████| 850/850 [00:00<00:00, 2428.92it/s]\n",
      "model filter: remove bleaching or trends: 100%|██████████| 850/850 [00:04<00:00, 205.09it/s]\n",
      "854it [00:03, 250.03it/s]                         \n",
      "binarizing continuous traces filtered fluorescence onphase: 100%|██████████| 850/850 [00:00<00:00, 1228.33it/s]\n",
      "binarizing continuous traces filtered fluorescence upphase: 100%|██████████| 850/850 [00:04<00:00, 184.33it/s]\n"
     ]
    },
    {
     "name": "stdout",
     "output_type": "stream",
     "text": [
      "...saving data...\n",
      "   Queiscent periods (seconds):  1.5666666666666667\n",
      "   Running periods (seconds):  84.03333333333333\n",
      "... computing pairwise pearson correlation ...\n",
      " RASTERS IN:  (850, 55740)\n",
      " BINNING WINDOW:  30\n"
     ]
    },
    {
     "name": "stderr",
     "output_type": "stream",
     "text": [
      "854it [00:44, 19.25it/s]                         \n"
     ]
    },
    {
     "name": "stdout",
     "output_type": "stream",
     "text": [
      "... computing cell overlaps ...\n"
     ]
    },
    {
     "name": "stderr",
     "output_type": "stream",
     "text": [
      "100%|██████████| 30/30 [00:58<00:00,  1.95s/it]"
     ]
    },
    {
     "name": "stdout",
     "output_type": "stream",
     "text": [
      "Removed cells:  240\n",
      "DONE\n",
      "   Queiscent periods (seconds):  1.5666666666666667\n",
      "   Running periods (seconds):  84.03333333333333\n",
      "... computing pairwise pearson correlation ...\n",
      " RASTERS IN:  (850, 2521)\n",
      " BINNING WINDOW:  30\n"
     ]
    },
    {
     "name": "stderr",
     "output_type": "stream",
     "text": [
      "\n",
      "854it [00:01, 444.96it/s]              \n"
     ]
    },
    {
     "name": "stdout",
     "output_type": "stream",
     "text": [
      "... computing cell overlaps ...\n"
     ]
    },
    {
     "name": "stderr",
     "output_type": "stream",
     "text": [
      "100%|██████████| 30/30 [00:58<00:00,  1.94s/it]"
     ]
    },
    {
     "name": "stdout",
     "output_type": "stream",
     "text": [
      "Removed cells:  88\n",
      "DONE\n",
      "   Queiscent periods (seconds):  1.5666666666666667\n",
      "   Running periods (seconds):  84.03333333333333\n",
      "... computing pairwise pearson correlation ...\n",
      " RASTERS IN:  (850, 55740)\n",
      " BINNING WINDOW:  30\n"
     ]
    },
    {
     "name": "stderr",
     "output_type": "stream",
     "text": [
      "\n",
      "854it [00:44, 19.22it/s]                         \n"
     ]
    },
    {
     "name": "stdout",
     "output_type": "stream",
     "text": [
      "... computing cell overlaps ...\n"
     ]
    },
    {
     "name": "stderr",
     "output_type": "stream",
     "text": [
      "100%|██████████| 30/30 [00:58<00:00,  1.94s/it]\n"
     ]
    },
    {
     "name": "stdout",
     "output_type": "stream",
     "text": [
      "Removed cells:  240\n",
      "DONE\n",
      "\n",
      "\n",
      "\n",
      "processing:  DON-002865_202102113\n"
     ]
    },
    {
     "name": "stderr",
     "output_type": "stream",
     "text": [
      "low pass filter: 100%|██████████| 827/827 [00:00<00:00, 2407.26it/s]\n",
      "model filter: remove bleaching or trends: 100%|██████████| 827/827 [00:03<00:00, 207.77it/s]\n",
      "832it [00:03, 244.32it/s]                         \n",
      "binarizing continuous traces filtered fluorescence onphase: 100%|██████████| 827/827 [00:00<00:00, 1202.63it/s]\n",
      "binarizing continuous traces filtered fluorescence upphase: 100%|██████████| 827/827 [00:04<00:00, 194.96it/s]\n"
     ]
    },
    {
     "name": "stdout",
     "output_type": "stream",
     "text": [
      "...saving data...\n",
      "   Queiscent periods (seconds):  398.76666666666665\n",
      "   Running periods (seconds):  1386.2333333333333\n",
      "... computing pairwise pearson correlation ...\n",
      " RASTERS IN:  (827, 55740)\n",
      " BINNING WINDOW:  30\n"
     ]
    },
    {
     "name": "stderr",
     "output_type": "stream",
     "text": [
      "833it [00:41, 19.85it/s]                         \n"
     ]
    },
    {
     "name": "stdout",
     "output_type": "stream",
     "text": [
      "... computing cell overlaps ...\n"
     ]
    },
    {
     "name": "stderr",
     "output_type": "stream",
     "text": [
      "100%|██████████| 30/30 [00:56<00:00,  1.88s/it]\n"
     ]
    },
    {
     "name": "stdout",
     "output_type": "stream",
     "text": [
      "Removed cells:  275\n",
      "DONE\n",
      "   Queiscent periods (seconds):  398.76666666666665\n",
      "   Running periods (seconds):  1386.2333333333333\n",
      "... computing pairwise pearson correlation ...\n",
      " RASTERS IN:  (827, 41587)\n",
      " BINNING WINDOW:  30\n"
     ]
    },
    {
     "name": "stderr",
     "output_type": "stream",
     "text": [
      "833it [00:31, 26.58it/s]                         \n"
     ]
    },
    {
     "name": "stdout",
     "output_type": "stream",
     "text": [
      "... computing cell overlaps ...\n"
     ]
    },
    {
     "name": "stderr",
     "output_type": "stream",
     "text": [
      "100%|██████████| 30/30 [00:56<00:00,  1.88s/it]\n"
     ]
    },
    {
     "name": "stdout",
     "output_type": "stream",
     "text": [
      "Removed cells:  266\n",
      "DONE\n",
      "   Queiscent periods (seconds):  398.76666666666665\n",
      "   Running periods (seconds):  1386.2333333333333\n",
      "... computing pairwise pearson correlation ...\n",
      " RASTERS IN:  (827, 55740)\n",
      " BINNING WINDOW:  30\n"
     ]
    },
    {
     "name": "stderr",
     "output_type": "stream",
     "text": [
      "833it [00:42, 19.80it/s]                         \n"
     ]
    },
    {
     "name": "stdout",
     "output_type": "stream",
     "text": [
      "... computing cell overlaps ...\n"
     ]
    },
    {
     "name": "stderr",
     "output_type": "stream",
     "text": [
      "100%|██████████| 30/30 [00:56<00:00,  1.88s/it]\n"
     ]
    },
    {
     "name": "stdout",
     "output_type": "stream",
     "text": [
      "Removed cells:  275\n",
      "DONE\n",
      "\n",
      "\n",
      "\n",
      "processing:  DON-002865_202102119\n"
     ]
    },
    {
     "name": "stderr",
     "output_type": "stream",
     "text": [
      "low pass filter: 100%|██████████| 1079/1079 [00:00<00:00, 2440.56it/s]\n",
      "model filter: remove bleaching or trends: 100%|██████████| 1079/1079 [00:05<00:00, 207.20it/s]\n",
      "1088it [00:04, 234.40it/s]                         \n",
      "binarizing continuous traces filtered fluorescence onphase: 100%|██████████| 1079/1079 [00:00<00:00, 1184.80it/s]\n",
      "binarizing continuous traces filtered fluorescence upphase: 100%|██████████| 1079/1079 [00:04<00:00, 230.75it/s]\n"
     ]
    },
    {
     "name": "stdout",
     "output_type": "stream",
     "text": [
      "...saving data...\n",
      "   Queiscent periods (seconds):  0.26666666666666666\n",
      "   Running periods (seconds):  85.43333333333334\n",
      "... computing pairwise pearson correlation ...\n",
      " RASTERS IN:  (1079, 55740)\n",
      " BINNING WINDOW:  30\n"
     ]
    },
    {
     "name": "stderr",
     "output_type": "stream",
     "text": [
      "1080it [00:57, 18.87it/s]                          \n"
     ]
    },
    {
     "name": "stdout",
     "output_type": "stream",
     "text": [
      "... computing cell overlaps ...\n"
     ]
    },
    {
     "name": "stderr",
     "output_type": "stream",
     "text": [
      "100%|██████████| 30/30 [01:17<00:00,  2.60s/it]\n"
     ]
    },
    {
     "name": "stdout",
     "output_type": "stream",
     "text": [
      "Removed cells:  343\n",
      "DONE\n",
      "   Queiscent periods (seconds):  0.26666666666666666\n",
      "   Running periods (seconds):  85.43333333333334\n",
      "... computing pairwise pearson correlation ...\n",
      " RASTERS IN:  (1079, 2563)\n",
      " BINNING WINDOW:  30\n"
     ]
    },
    {
     "name": "stderr",
     "output_type": "stream",
     "text": [
      "1080it [00:02, 516.17it/s]                          \n"
     ]
    },
    {
     "name": "stdout",
     "output_type": "stream",
     "text": [
      "... computing cell overlaps ...\n"
     ]
    },
    {
     "name": "stderr",
     "output_type": "stream",
     "text": [
      "100%|██████████| 30/30 [01:17<00:00,  2.59s/it]\n"
     ]
    },
    {
     "name": "stdout",
     "output_type": "stream",
     "text": [
      "Removed cells:  94\n",
      "DONE\n",
      "   Queiscent periods (seconds):  0.26666666666666666\n",
      "   Running periods (seconds):  85.43333333333334\n",
      "... computing pairwise pearson correlation ...\n",
      " RASTERS IN:  (1079, 55740)\n",
      " BINNING WINDOW:  30\n"
     ]
    },
    {
     "name": "stderr",
     "output_type": "stream",
     "text": [
      "1080it [00:56, 19.09it/s]                          \n"
     ]
    },
    {
     "name": "stdout",
     "output_type": "stream",
     "text": [
      "... computing cell overlaps ...\n"
     ]
    },
    {
     "name": "stderr",
     "output_type": "stream",
     "text": [
      "100%|██████████| 30/30 [01:18<00:00,  2.60s/it]\n"
     ]
    },
    {
     "name": "stdout",
     "output_type": "stream",
     "text": [
      "Removed cells:  343\n",
      "DONE\n",
      "\n",
      "\n",
      "\n",
      "processing:  DON-002865_20210211\n"
     ]
    },
    {
     "name": "stderr",
     "output_type": "stream",
     "text": [
      "low pass filter: 100%|██████████| 748/748 [00:00<00:00, 2426.83it/s]\n",
      "model filter: remove bleaching or trends: 100%|██████████| 748/748 [00:03<00:00, 207.08it/s]\n",
      "756it [00:02, 263.26it/s]                         \n",
      "binarizing continuous traces filtered fluorescence onphase: 100%|██████████| 748/748 [00:00<00:00, 1119.10it/s]\n",
      "binarizing continuous traces filtered fluorescence upphase: 100%|██████████| 748/748 [00:04<00:00, 165.30it/s]\n"
     ]
    },
    {
     "name": "stdout",
     "output_type": "stream",
     "text": [
      "...saving data...\n",
      "   Queiscent periods (seconds):  394.93333333333334\n",
      "   Running periods (seconds):  1404.0666666666666\n",
      "... computing pairwise pearson correlation ...\n",
      " RASTERS IN:  (748, 55740)\n",
      " BINNING WINDOW:  30\n"
     ]
    },
    {
     "name": "stderr",
     "output_type": "stream",
     "text": [
      "750it [00:40, 18.70it/s]                         \n"
     ]
    },
    {
     "name": "stdout",
     "output_type": "stream",
     "text": [
      "... computing cell overlaps ...\n"
     ]
    },
    {
     "name": "stderr",
     "output_type": "stream",
     "text": [
      "100%|██████████| 30/30 [00:50<00:00,  1.68s/it]\n"
     ]
    },
    {
     "name": "stdout",
     "output_type": "stream",
     "text": [
      "Removed cells:  216\n",
      "DONE\n",
      "   Queiscent periods (seconds):  394.93333333333334\n",
      "   Running periods (seconds):  1404.0666666666666\n",
      "... computing pairwise pearson correlation ...\n",
      " RASTERS IN:  (748, 42122)\n",
      " BINNING WINDOW:  30\n"
     ]
    },
    {
     "name": "stderr",
     "output_type": "stream",
     "text": [
      "750it [00:30, 24.86it/s]                         \n"
     ]
    },
    {
     "name": "stdout",
     "output_type": "stream",
     "text": [
      "... computing cell overlaps ...\n"
     ]
    },
    {
     "name": "stderr",
     "output_type": "stream",
     "text": [
      "100%|██████████| 30/30 [00:50<00:00,  1.68s/it]\n"
     ]
    },
    {
     "name": "stdout",
     "output_type": "stream",
     "text": [
      "Removed cells:  211\n",
      "DONE\n",
      "   Queiscent periods (seconds):  394.93333333333334\n",
      "   Running periods (seconds):  1404.0666666666666\n",
      "... computing pairwise pearson correlation ...\n",
      " RASTERS IN:  (748, 55740)\n",
      " BINNING WINDOW:  30\n"
     ]
    },
    {
     "name": "stderr",
     "output_type": "stream",
     "text": [
      "750it [00:40, 18.69it/s]                         \n"
     ]
    },
    {
     "name": "stdout",
     "output_type": "stream",
     "text": [
      "... computing cell overlaps ...\n"
     ]
    },
    {
     "name": "stderr",
     "output_type": "stream",
     "text": [
      "100%|██████████| 30/30 [00:50<00:00,  1.68s/it]\n"
     ]
    },
    {
     "name": "stdout",
     "output_type": "stream",
     "text": [
      "Removed cells:  216\n",
      "DONE\n",
      "\n",
      "\n",
      "\n",
      "processing:  DON-002865_202102116\n"
     ]
    },
    {
     "name": "stderr",
     "output_type": "stream",
     "text": [
      "low pass filter: 100%|██████████| 769/769 [00:00<00:00, 2437.85it/s]\n",
      "model filter: remove bleaching or trends: 100%|██████████| 769/769 [00:03<00:00, 208.12it/s]\n",
      "780it [00:03, 253.76it/s]                         \n",
      "binarizing continuous traces filtered fluorescence onphase: 100%|██████████| 769/769 [00:00<00:00, 1024.04it/s]\n",
      "binarizing continuous traces filtered fluorescence upphase: 100%|██████████| 769/769 [00:04<00:00, 185.04it/s]\n"
     ]
    },
    {
     "name": "stdout",
     "output_type": "stream",
     "text": [
      "...saving data...\n",
      "   Queiscent periods (seconds):  493.6333333333333\n",
      "   Running periods (seconds):  1290.9666666666667\n",
      "... computing pairwise pearson correlation ...\n",
      " RASTERS IN:  (769, 55740)\n",
      " BINNING WINDOW:  30\n"
     ]
    },
    {
     "name": "stderr",
     "output_type": "stream",
     "text": [
      "770it [00:40, 19.23it/s]                         \n"
     ]
    },
    {
     "name": "stdout",
     "output_type": "stream",
     "text": [
      "... computing cell overlaps ...\n"
     ]
    },
    {
     "name": "stderr",
     "output_type": "stream",
     "text": [
      "100%|██████████| 30/30 [00:56<00:00,  1.87s/it]\n"
     ]
    },
    {
     "name": "stdout",
     "output_type": "stream",
     "text": [
      "Removed cells:  222\n",
      "DONE\n",
      "   Queiscent periods (seconds):  493.6333333333333\n",
      "   Running periods (seconds):  1290.9666666666667\n",
      "... computing pairwise pearson correlation ...\n",
      " RASTERS IN:  (769, 38729)\n",
      " BINNING WINDOW:  30\n"
     ]
    },
    {
     "name": "stderr",
     "output_type": "stream",
     "text": [
      "770it [00:28, 26.73it/s]                         \n"
     ]
    },
    {
     "name": "stdout",
     "output_type": "stream",
     "text": [
      "... computing cell overlaps ...\n"
     ]
    },
    {
     "name": "stderr",
     "output_type": "stream",
     "text": [
      "100%|██████████| 30/30 [00:56<00:00,  1.88s/it]\n"
     ]
    },
    {
     "name": "stdout",
     "output_type": "stream",
     "text": [
      "Removed cells:  216\n",
      "DONE\n",
      "   Queiscent periods (seconds):  493.6333333333333\n",
      "   Running periods (seconds):  1290.9666666666667\n",
      "... computing pairwise pearson correlation ...\n",
      " RASTERS IN:  (769, 55740)\n",
      " BINNING WINDOW:  30\n"
     ]
    },
    {
     "name": "stderr",
     "output_type": "stream",
     "text": [
      "770it [00:39, 19.29it/s]                         \n"
     ]
    },
    {
     "name": "stdout",
     "output_type": "stream",
     "text": [
      "... computing cell overlaps ...\n"
     ]
    },
    {
     "name": "stderr",
     "output_type": "stream",
     "text": [
      "100%|██████████| 30/30 [00:56<00:00,  1.87s/it]\n"
     ]
    },
    {
     "name": "stdout",
     "output_type": "stream",
     "text": [
      "Removed cells:  222\n",
      "DONE\n",
      "\n",
      "\n",
      "\n",
      "processing:  DON-002865_202102117\n"
     ]
    },
    {
     "name": "stderr",
     "output_type": "stream",
     "text": [
      "low pass filter: 100%|██████████| 594/594 [00:00<00:00, 2298.99it/s]\n",
      "model filter: remove bleaching or trends: 100%|██████████| 594/594 [00:02<00:00, 204.94it/s]\n",
      "600it [00:02, 245.11it/s]                         \n",
      "binarizing continuous traces filtered fluorescence onphase: 100%|██████████| 594/594 [00:00<00:00, 1423.49it/s]\n",
      "binarizing continuous traces filtered fluorescence upphase: 100%|██████████| 594/594 [00:02<00:00, 238.70it/s]\n"
     ]
    },
    {
     "name": "stdout",
     "output_type": "stream",
     "text": [
      "...saving data...\n",
      "   Queiscent periods (seconds):  927.4666666666667\n",
      "   Running periods (seconds):  794.2666666666667\n",
      "... computing pairwise pearson correlation ...\n",
      " RASTERS IN:  (594, 55740)\n",
      " BINNING WINDOW:  30\n"
     ]
    },
    {
     "name": "stderr",
     "output_type": "stream",
     "text": [
      "595it [00:30, 19.56it/s]                         \n"
     ]
    },
    {
     "name": "stdout",
     "output_type": "stream",
     "text": [
      "... computing cell overlaps ...\n"
     ]
    },
    {
     "name": "stderr",
     "output_type": "stream",
     "text": [
      "100%|██████████| 30/30 [00:39<00:00,  1.33s/it]\n"
     ]
    },
    {
     "name": "stdout",
     "output_type": "stream",
     "text": [
      "Removed cells:  168\n",
      "DONE\n",
      "   Queiscent periods (seconds):  927.4666666666667\n",
      "   Running periods (seconds):  794.2666666666667\n",
      "... computing pairwise pearson correlation ...\n",
      " RASTERS IN:  (594, 23828)\n",
      " BINNING WINDOW:  30\n"
     ]
    },
    {
     "name": "stderr",
     "output_type": "stream",
     "text": [
      "595it [00:13, 45.07it/s]                         \n"
     ]
    },
    {
     "name": "stdout",
     "output_type": "stream",
     "text": [
      "... computing cell overlaps ...\n"
     ]
    },
    {
     "name": "stderr",
     "output_type": "stream",
     "text": [
      "100%|██████████| 30/30 [00:39<00:00,  1.33s/it]\n"
     ]
    },
    {
     "name": "stdout",
     "output_type": "stream",
     "text": [
      "Removed cells:  155\n",
      "DONE\n",
      "   Queiscent periods (seconds):  927.4666666666667\n",
      "   Running periods (seconds):  794.2666666666667\n",
      "... computing pairwise pearson correlation ...\n",
      " RASTERS IN:  (594, 55740)\n",
      " BINNING WINDOW:  30\n"
     ]
    },
    {
     "name": "stderr",
     "output_type": "stream",
     "text": [
      "595it [00:30, 19.69it/s]                         \n"
     ]
    },
    {
     "name": "stdout",
     "output_type": "stream",
     "text": [
      "... computing cell overlaps ...\n"
     ]
    },
    {
     "name": "stderr",
     "output_type": "stream",
     "text": [
      "100%|██████████| 30/30 [00:39<00:00,  1.33s/it]\n"
     ]
    },
    {
     "name": "stdout",
     "output_type": "stream",
     "text": [
      "Removed cells:  168\n",
      "DONE\n",
      "\n",
      "\n",
      "\n",
      "processing:  DON-002865_202102118\n"
     ]
    },
    {
     "name": "stderr",
     "output_type": "stream",
     "text": [
      "low pass filter: 100%|██████████| 876/876 [00:00<00:00, 2443.02it/s]\n",
      "model filter: remove bleaching or trends: 100%|██████████| 876/876 [00:04<00:00, 205.91it/s]\n",
      "882it [00:03, 256.85it/s]                         \n",
      "binarizing continuous traces filtered fluorescence onphase: 100%|██████████| 876/876 [00:00<00:00, 1436.32it/s]\n",
      "binarizing continuous traces filtered fluorescence upphase: 100%|██████████| 876/876 [00:03<00:00, 246.88it/s]\n"
     ]
    },
    {
     "name": "stdout",
     "output_type": "stream",
     "text": [
      "...saving data...\n",
      "   Queiscent periods (seconds):  612.9666666666667\n",
      "   Running periods (seconds):  1147.8333333333333\n",
      "... computing pairwise pearson correlation ...\n",
      " RASTERS IN:  (876, 55740)\n",
      " BINNING WINDOW:  30\n"
     ]
    },
    {
     "name": "stderr",
     "output_type": "stream",
     "text": [
      "882it [00:52, 16.94it/s]                         \n"
     ]
    },
    {
     "name": "stdout",
     "output_type": "stream",
     "text": [
      "... computing cell overlaps ...\n"
     ]
    },
    {
     "name": "stderr",
     "output_type": "stream",
     "text": [
      "100%|██████████| 30/30 [01:04<00:00,  2.16s/it]\n"
     ]
    },
    {
     "name": "stdout",
     "output_type": "stream",
     "text": [
      "Removed cells:  239\n",
      "DONE\n",
      "   Queiscent periods (seconds):  612.9666666666667\n",
      "   Running periods (seconds):  1147.8333333333333\n",
      "... computing pairwise pearson correlation ...\n",
      " RASTERS IN:  (876, 34435)\n",
      " BINNING WINDOW:  30\n"
     ]
    },
    {
     "name": "stderr",
     "output_type": "stream",
     "text": [
      "882it [00:33, 26.01it/s]                         \n"
     ]
    },
    {
     "name": "stdout",
     "output_type": "stream",
     "text": [
      "... computing cell overlaps ...\n"
     ]
    },
    {
     "name": "stderr",
     "output_type": "stream",
     "text": [
      "100%|██████████| 30/30 [01:04<00:00,  2.14s/it]\n"
     ]
    },
    {
     "name": "stdout",
     "output_type": "stream",
     "text": [
      "Removed cells:  230\n",
      "DONE\n",
      "   Queiscent periods (seconds):  612.9666666666667\n",
      "   Running periods (seconds):  1147.8333333333333\n",
      "... computing pairwise pearson correlation ...\n",
      " RASTERS IN:  (876, 55740)\n",
      " BINNING WINDOW:  30\n"
     ]
    },
    {
     "name": "stderr",
     "output_type": "stream",
     "text": [
      "882it [00:51, 17.07it/s]                         \n"
     ]
    },
    {
     "name": "stdout",
     "output_type": "stream",
     "text": [
      "... computing cell overlaps ...\n"
     ]
    },
    {
     "name": "stderr",
     "output_type": "stream",
     "text": [
      "100%|██████████| 30/30 [01:04<00:00,  2.14s/it]\n"
     ]
    },
    {
     "name": "stdout",
     "output_type": "stream",
     "text": [
      "Removed cells:  239\n",
      "DONE\n",
      "\n",
      "\n",
      "\n",
      "processing:  DON-002865_202102112\n"
     ]
    },
    {
     "name": "stderr",
     "output_type": "stream",
     "text": [
      "low pass filter: 100%|██████████| 885/885 [00:00<00:00, 2440.75it/s]\n",
      "model filter: remove bleaching or trends: 100%|██████████| 885/885 [00:04<00:00, 205.59it/s]\n",
      "896it [00:03, 242.25it/s]                         \n",
      "binarizing continuous traces filtered fluorescence onphase: 100%|██████████| 885/885 [00:00<00:00, 1065.16it/s]\n",
      "binarizing continuous traces filtered fluorescence upphase: 100%|██████████| 885/885 [00:05<00:00, 164.85it/s]\n"
     ]
    },
    {
     "name": "stdout",
     "output_type": "stream",
     "text": [
      "...saving data...\n",
      "   Queiscent periods (seconds):  0.0\n",
      "   Running periods (seconds):  0.0\n",
      "... computing pairwise pearson correlation ...\n",
      " RASTERS IN:  (885, 55740)\n",
      " BINNING WINDOW:  30\n"
     ]
    },
    {
     "name": "stderr",
     "output_type": "stream",
     "text": [
      "889it [00:49, 17.94it/s]                         \n"
     ]
    },
    {
     "name": "stdout",
     "output_type": "stream",
     "text": [
      "... computing cell overlaps ...\n"
     ]
    },
    {
     "name": "stderr",
     "output_type": "stream",
     "text": [
      "100%|██████████| 30/30 [01:01<00:00,  2.06s/it]\n"
     ]
    },
    {
     "name": "stdout",
     "output_type": "stream",
     "text": [
      "Removed cells:  285\n",
      "DONE\n",
      "   Queiscent periods (seconds):  0.0\n",
      "   Running periods (seconds):  0.0\n",
      "... computing pairwise pearson correlation ...\n",
      " RASTERS IN:  (885, 0)\n",
      " BINNING WINDOW:  30\n"
     ]
    },
    {
     "name": "stderr",
     "output_type": "stream",
     "text": [
      "889it [00:00, 160541.47it/s]           \n"
     ]
    },
    {
     "name": "stdout",
     "output_type": "stream",
     "text": [
      "... errror loading :  DON-002865_202102112   DON-002865\n",
      "Processing:  DON-003165\n",
      "sessions:  ['DON-003165_20210220', 'DON-003165_20210216', 'DON-003165_20210219', 'DON-003165_20210218', 'DON-003165_20210217', 'DON-003165_20210222', 'DON-003165_20210211', 'DON-003165_20210213', 'DON-003165_20210223', 'DON-003165_20210215']\n",
      "\n",
      "\n",
      "\n",
      "processing:  DON-003165_20210220\n"
     ]
    },
    {
     "name": "stderr",
     "output_type": "stream",
     "text": [
      "low pass filter: 100%|██████████| 301/301 [00:00<00:00, 2415.07it/s]\n",
      "model filter: remove bleaching or trends: 100%|██████████| 301/301 [00:01<00:00, 206.07it/s]\n",
      "305it [00:01, 241.52it/s]              \n",
      "binarizing continuous traces filtered fluorescence onphase: 100%|██████████| 301/301 [00:00<00:00, 1419.61it/s]\n",
      "binarizing continuous traces filtered fluorescence upphase: 100%|██████████| 301/301 [00:00<00:00, 307.60it/s]\n"
     ]
    },
    {
     "name": "stdout",
     "output_type": "stream",
     "text": [
      "...saving data...\n",
      "   Queiscent periods (seconds):  1469.2666666666667\n",
      "   Running periods (seconds):  261.3333333333333\n",
      "... computing pairwise pearson correlation ...\n",
      " RASTERS IN:  (301, 55740)\n",
      " BINNING WINDOW:  30\n"
     ]
    },
    {
     "name": "stderr",
     "output_type": "stream",
     "text": [
      "303it [00:12, 23.51it/s]                         \n"
     ]
    },
    {
     "name": "stdout",
     "output_type": "stream",
     "text": [
      "... computing cell overlaps ...\n"
     ]
    },
    {
     "name": "stderr",
     "output_type": "stream",
     "text": [
      "100%|██████████| 30/30 [00:19<00:00,  1.56it/s]\n"
     ]
    },
    {
     "name": "stdout",
     "output_type": "stream",
     "text": [
      "Removed cells:  52\n",
      "DONE\n",
      "   Queiscent periods (seconds):  1469.2666666666667\n",
      "   Running periods (seconds):  261.3333333333333\n",
      "... computing pairwise pearson correlation ...\n",
      " RASTERS IN:  (301, 7840)\n",
      " BINNING WINDOW:  30\n"
     ]
    },
    {
     "name": "stderr",
     "output_type": "stream",
     "text": [
      "303it [00:02, 131.86it/s]                         \n"
     ]
    },
    {
     "name": "stdout",
     "output_type": "stream",
     "text": [
      "... computing cell overlaps ...\n"
     ]
    },
    {
     "name": "stderr",
     "output_type": "stream",
     "text": [
      "100%|██████████| 30/30 [00:19<00:00,  1.57it/s]\n"
     ]
    },
    {
     "name": "stdout",
     "output_type": "stream",
     "text": [
      "Removed cells:  47\n",
      "DONE\n",
      "   Queiscent periods (seconds):  1469.2666666666667\n",
      "   Running periods (seconds):  261.3333333333333\n",
      "... computing pairwise pearson correlation ...\n",
      " RASTERS IN:  (301, 55740)\n",
      " BINNING WINDOW:  30\n"
     ]
    },
    {
     "name": "stderr",
     "output_type": "stream",
     "text": [
      "303it [00:12, 23.55it/s]                         \n"
     ]
    },
    {
     "name": "stdout",
     "output_type": "stream",
     "text": [
      "... computing cell overlaps ...\n"
     ]
    },
    {
     "name": "stderr",
     "output_type": "stream",
     "text": [
      "100%|██████████| 30/30 [00:19<00:00,  1.57it/s]\n"
     ]
    },
    {
     "name": "stdout",
     "output_type": "stream",
     "text": [
      "Removed cells:  52\n",
      "DONE\n",
      "\n",
      "\n",
      "\n",
      "processing:  DON-003165_20210216\n"
     ]
    },
    {
     "name": "stderr",
     "output_type": "stream",
     "text": [
      "low pass filter: 100%|██████████| 389/389 [00:00<00:00, 2450.75it/s]\n",
      "model filter: remove bleaching or trends: 100%|██████████| 389/389 [00:01<00:00, 202.95it/s]\n",
      "392it [00:01, 234.35it/s]              \n",
      "binarizing continuous traces filtered fluorescence onphase: 100%|██████████| 389/389 [00:00<00:00, 1159.84it/s]\n",
      "binarizing continuous traces filtered fluorescence upphase: 100%|██████████| 389/389 [00:01<00:00, 227.93it/s]\n"
     ]
    },
    {
     "name": "stdout",
     "output_type": "stream",
     "text": [
      "...saving data...\n",
      "   Queiscent periods (seconds):  1172.3666666666666\n",
      "   Running periods (seconds):  570.2666666666667\n",
      "... computing pairwise pearson correlation ...\n",
      " RASTERS IN:  (389, 55740)\n",
      " BINNING WINDOW:  30\n"
     ]
    },
    {
     "name": "stderr",
     "output_type": "stream",
     "text": [
      "392it [00:19, 19.84it/s]                         \n"
     ]
    },
    {
     "name": "stdout",
     "output_type": "stream",
     "text": [
      "... computing cell overlaps ...\n"
     ]
    },
    {
     "name": "stderr",
     "output_type": "stream",
     "text": [
      "100%|██████████| 30/30 [00:29<00:00,  1.02it/s]\n"
     ]
    },
    {
     "name": "stdout",
     "output_type": "stream",
     "text": [
      "Removed cells:  89\n",
      "DONE\n",
      "   Queiscent periods (seconds):  1172.3666666666666\n",
      "   Running periods (seconds):  570.2666666666667\n",
      "... computing pairwise pearson correlation ...\n",
      " RASTERS IN:  (389, 17108)\n",
      " BINNING WINDOW:  30\n"
     ]
    },
    {
     "name": "stderr",
     "output_type": "stream",
     "text": [
      "392it [00:06, 63.86it/s]                         \n"
     ]
    },
    {
     "name": "stdout",
     "output_type": "stream",
     "text": [
      "... computing cell overlaps ...\n"
     ]
    },
    {
     "name": "stderr",
     "output_type": "stream",
     "text": [
      "100%|██████████| 30/30 [00:29<00:00,  1.02it/s]\n"
     ]
    },
    {
     "name": "stdout",
     "output_type": "stream",
     "text": [
      "Removed cells:  86\n",
      "DONE\n",
      "   Queiscent periods (seconds):  1172.3666666666666\n",
      "   Running periods (seconds):  570.2666666666667\n",
      "... computing pairwise pearson correlation ...\n",
      " RASTERS IN:  (389, 55740)\n",
      " BINNING WINDOW:  30\n"
     ]
    },
    {
     "name": "stderr",
     "output_type": "stream",
     "text": [
      "392it [00:19, 19.78it/s]                         \n"
     ]
    },
    {
     "name": "stdout",
     "output_type": "stream",
     "text": [
      "... computing cell overlaps ...\n"
     ]
    },
    {
     "name": "stderr",
     "output_type": "stream",
     "text": [
      "100%|██████████| 30/30 [00:29<00:00,  1.02it/s]\n"
     ]
    },
    {
     "name": "stdout",
     "output_type": "stream",
     "text": [
      "Removed cells:  89\n",
      "DONE\n",
      "\n",
      "\n",
      "\n",
      "processing:  DON-003165_20210219\n"
     ]
    },
    {
     "name": "stderr",
     "output_type": "stream",
     "text": [
      "low pass filter: 100%|██████████| 305/305 [00:00<00:00, 2430.66it/s]\n",
      "model filter: remove bleaching or trends: 100%|██████████| 305/305 [00:01<00:00, 205.10it/s]\n",
      "100%|██████████| 305/305 [00:01<00:00, 242.09it/s]\n",
      "binarizing continuous traces filtered fluorescence onphase: 100%|██████████| 305/305 [00:00<00:00, 1244.29it/s]\n",
      "binarizing continuous traces filtered fluorescence upphase: 100%|██████████| 305/305 [00:01<00:00, 223.74it/s]\n"
     ]
    },
    {
     "name": "stdout",
     "output_type": "stream",
     "text": [
      "...saving data...\n",
      "   Queiscent periods (seconds):  21.966666666666665\n",
      "   Running periods (seconds):  59.733333333333334\n",
      "... computing pairwise pearson correlation ...\n",
      " RASTERS IN:  (305, 55740)\n",
      " BINNING WINDOW:  30\n"
     ]
    },
    {
     "name": "stderr",
     "output_type": "stream",
     "text": [
      "306it [00:14, 21.16it/s]                         \n"
     ]
    },
    {
     "name": "stdout",
     "output_type": "stream",
     "text": [
      "... computing cell overlaps ...\n"
     ]
    },
    {
     "name": "stderr",
     "output_type": "stream",
     "text": [
      "100%|██████████| 30/30 [00:20<00:00,  1.49it/s]"
     ]
    },
    {
     "name": "stdout",
     "output_type": "stream",
     "text": [
      "Removed cells:  62\n",
      "DONE\n",
      "   Queiscent periods (seconds):  21.966666666666665\n",
      "   Running periods (seconds):  59.733333333333334\n",
      "... computing pairwise pearson correlation ...\n",
      " RASTERS IN:  (305, 1792)\n",
      " BINNING WINDOW:  30\n"
     ]
    },
    {
     "name": "stderr",
     "output_type": "stream",
     "text": [
      "\n",
      "306it [00:00, 750.16it/s]              \n"
     ]
    },
    {
     "name": "stdout",
     "output_type": "stream",
     "text": [
      "... computing cell overlaps ...\n"
     ]
    },
    {
     "name": "stderr",
     "output_type": "stream",
     "text": [
      "100%|██████████| 30/30 [00:20<00:00,  1.49it/s]"
     ]
    },
    {
     "name": "stdout",
     "output_type": "stream",
     "text": [
      "Removed cells:  22\n",
      "DONE\n",
      "   Queiscent periods (seconds):  21.966666666666665\n",
      "   Running periods (seconds):  59.733333333333334\n",
      "... computing pairwise pearson correlation ...\n",
      " RASTERS IN:  (305, 55740)\n",
      " BINNING WINDOW:  30\n"
     ]
    },
    {
     "name": "stderr",
     "output_type": "stream",
     "text": [
      "\n",
      "306it [00:14, 21.27it/s]                         \n"
     ]
    },
    {
     "name": "stdout",
     "output_type": "stream",
     "text": [
      "... computing cell overlaps ...\n"
     ]
    },
    {
     "name": "stderr",
     "output_type": "stream",
     "text": [
      "100%|██████████| 30/30 [00:20<00:00,  1.50it/s]\n"
     ]
    },
    {
     "name": "stdout",
     "output_type": "stream",
     "text": [
      "Removed cells:  62\n",
      "DONE\n",
      "\n",
      "\n",
      "\n",
      "processing:  DON-003165_20210218\n"
     ]
    },
    {
     "name": "stderr",
     "output_type": "stream",
     "text": [
      "low pass filter: 100%|██████████| 399/399 [00:00<00:00, 2437.70it/s]\n",
      "model filter: remove bleaching or trends: 100%|██████████| 399/399 [00:01<00:00, 202.36it/s]\n",
      "100%|██████████| 399/399 [00:01<00:00, 245.32it/s]\n",
      "binarizing continuous traces filtered fluorescence onphase: 100%|██████████| 399/399 [00:00<00:00, 977.18it/s] \n",
      "binarizing continuous traces filtered fluorescence upphase: 100%|██████████| 399/399 [00:02<00:00, 191.73it/s]\n"
     ]
    },
    {
     "name": "stdout",
     "output_type": "stream",
     "text": [
      "...saving data...\n",
      "   Queiscent periods (seconds):  1520.6333333333334\n",
      "   Running periods (seconds):  214.16666666666666\n",
      "... computing pairwise pearson correlation ...\n",
      " RASTERS IN:  (399, 55740)\n",
      " BINNING WINDOW:  30\n"
     ]
    },
    {
     "name": "stderr",
     "output_type": "stream",
     "text": [
      "400it [00:24, 16.32it/s]                         \n"
     ]
    },
    {
     "name": "stdout",
     "output_type": "stream",
     "text": [
      "... computing cell overlaps ...\n"
     ]
    },
    {
     "name": "stderr",
     "output_type": "stream",
     "text": [
      "100%|██████████| 30/30 [00:31<00:00,  1.04s/it]\n"
     ]
    },
    {
     "name": "stdout",
     "output_type": "stream",
     "text": [
      "Removed cells:  93\n",
      "DONE\n",
      "   Queiscent periods (seconds):  1520.6333333333334\n",
      "   Running periods (seconds):  214.16666666666666\n",
      "... computing pairwise pearson correlation ...\n",
      " RASTERS IN:  (399, 6425)\n",
      " BINNING WINDOW:  30\n"
     ]
    },
    {
     "name": "stderr",
     "output_type": "stream",
     "text": [
      "400it [00:02, 157.80it/s]                         \n"
     ]
    },
    {
     "name": "stdout",
     "output_type": "stream",
     "text": [
      "... computing cell overlaps ...\n"
     ]
    },
    {
     "name": "stderr",
     "output_type": "stream",
     "text": [
      "100%|██████████| 30/30 [00:31<00:00,  1.04s/it]\n"
     ]
    },
    {
     "name": "stdout",
     "output_type": "stream",
     "text": [
      "Removed cells:  86\n",
      "DONE\n",
      "   Queiscent periods (seconds):  1520.6333333333334\n",
      "   Running periods (seconds):  214.16666666666666\n",
      "... computing pairwise pearson correlation ...\n",
      " RASTERS IN:  (399, 55740)\n",
      " BINNING WINDOW:  30\n"
     ]
    },
    {
     "name": "stderr",
     "output_type": "stream",
     "text": [
      "400it [00:24, 16.25it/s]                         \n"
     ]
    },
    {
     "name": "stdout",
     "output_type": "stream",
     "text": [
      "... computing cell overlaps ...\n"
     ]
    },
    {
     "name": "stderr",
     "output_type": "stream",
     "text": [
      "100%|██████████| 30/30 [00:31<00:00,  1.04s/it]\n"
     ]
    },
    {
     "name": "stdout",
     "output_type": "stream",
     "text": [
      "Removed cells:  93\n",
      "DONE\n",
      "\n",
      "\n",
      "\n",
      "processing:  DON-003165_20210217\n"
     ]
    },
    {
     "name": "stderr",
     "output_type": "stream",
     "text": [
      "low pass filter: 100%|██████████| 399/399 [00:00<00:00, 2428.13it/s]\n",
      "model filter: remove bleaching or trends: 100%|██████████| 399/399 [00:01<00:00, 203.99it/s]\n",
      "100%|██████████| 399/399 [00:01<00:00, 243.14it/s]\n",
      "binarizing continuous traces filtered fluorescence onphase: 100%|██████████| 399/399 [00:00<00:00, 1187.54it/s]\n",
      "binarizing continuous traces filtered fluorescence upphase: 100%|██████████| 399/399 [00:01<00:00, 202.51it/s]\n"
     ]
    },
    {
     "name": "stdout",
     "output_type": "stream",
     "text": [
      "...saving data...\n",
      "   Queiscent periods (seconds):  1250.4666666666667\n",
      "   Running periods (seconds):  487.43333333333334\n",
      "... computing pairwise pearson correlation ...\n",
      " RASTERS IN:  (399, 55740)\n",
      " BINNING WINDOW:  30\n"
     ]
    },
    {
     "name": "stderr",
     "output_type": "stream",
     "text": [
      "400it [00:19, 20.84it/s]                         \n"
     ]
    },
    {
     "name": "stdout",
     "output_type": "stream",
     "text": [
      "... computing cell overlaps ...\n"
     ]
    },
    {
     "name": "stderr",
     "output_type": "stream",
     "text": [
      "100%|██████████| 30/30 [00:27<00:00,  1.09it/s]\n"
     ]
    },
    {
     "name": "stdout",
     "output_type": "stream",
     "text": [
      "Removed cells:  106\n",
      "DONE\n",
      "   Queiscent periods (seconds):  1250.4666666666667\n",
      "   Running periods (seconds):  487.43333333333334\n",
      "... computing pairwise pearson correlation ...\n",
      " RASTERS IN:  (399, 14623)\n",
      " BINNING WINDOW:  30\n"
     ]
    },
    {
     "name": "stderr",
     "output_type": "stream",
     "text": [
      "400it [00:04, 81.08it/s]                         \n"
     ]
    },
    {
     "name": "stdout",
     "output_type": "stream",
     "text": [
      "... computing cell overlaps ...\n"
     ]
    },
    {
     "name": "stderr",
     "output_type": "stream",
     "text": [
      "100%|██████████| 30/30 [00:27<00:00,  1.09it/s]\n"
     ]
    },
    {
     "name": "stdout",
     "output_type": "stream",
     "text": [
      "Removed cells:  96\n",
      "DONE\n",
      "   Queiscent periods (seconds):  1250.4666666666667\n",
      "   Running periods (seconds):  487.43333333333334\n",
      "... computing pairwise pearson correlation ...\n",
      " RASTERS IN:  (399, 55740)\n",
      " BINNING WINDOW:  30\n"
     ]
    },
    {
     "name": "stderr",
     "output_type": "stream",
     "text": [
      "400it [00:19, 20.98it/s]                         \n"
     ]
    },
    {
     "name": "stdout",
     "output_type": "stream",
     "text": [
      "... computing cell overlaps ...\n"
     ]
    },
    {
     "name": "stderr",
     "output_type": "stream",
     "text": [
      "100%|██████████| 30/30 [00:27<00:00,  1.10it/s]\n"
     ]
    },
    {
     "name": "stdout",
     "output_type": "stream",
     "text": [
      "Removed cells:  106\n",
      "DONE\n",
      "\n",
      "\n",
      "\n",
      "processing:  DON-003165_20210222\n"
     ]
    },
    {
     "name": "stderr",
     "output_type": "stream",
     "text": [
      "low pass filter: 100%|██████████| 321/321 [00:00<00:00, 2411.95it/s]\n",
      "model filter: remove bleaching or trends: 100%|██████████| 321/321 [00:01<00:00, 203.54it/s]\n",
      "324it [00:01, 239.93it/s]              \n",
      "binarizing continuous traces filtered fluorescence onphase: 100%|██████████| 321/321 [00:00<00:00, 1099.52it/s]\n",
      "binarizing continuous traces filtered fluorescence upphase: 100%|██████████| 321/321 [00:01<00:00, 212.64it/s]\n"
     ]
    },
    {
     "name": "stdout",
     "output_type": "stream",
     "text": [
      "...saving data...\n",
      "   Queiscent periods (seconds):  1300.7333333333333\n",
      "   Running periods (seconds):  421.9\n",
      "... computing pairwise pearson correlation ...\n",
      " RASTERS IN:  (321, 55740)\n",
      " BINNING WINDOW:  30\n"
     ]
    },
    {
     "name": "stderr",
     "output_type": "stream",
     "text": [
      "100%|██████████| 321/321 [00:14<00:00, 21.99it/s]\n"
     ]
    },
    {
     "name": "stdout",
     "output_type": "stream",
     "text": [
      "... computing cell overlaps ...\n"
     ]
    },
    {
     "name": "stderr",
     "output_type": "stream",
     "text": [
      "100%|██████████| 30/30 [00:20<00:00,  1.46it/s]\n"
     ]
    },
    {
     "name": "stdout",
     "output_type": "stream",
     "text": [
      "Removed cells:  100\n",
      "DONE\n",
      "   Queiscent periods (seconds):  1300.7333333333333\n",
      "   Running periods (seconds):  421.9\n",
      "... computing pairwise pearson correlation ...\n",
      " RASTERS IN:  (321, 12657)\n",
      " BINNING WINDOW:  30\n"
     ]
    },
    {
     "name": "stderr",
     "output_type": "stream",
     "text": [
      "100%|██████████| 321/321 [00:03<00:00, 103.30it/s]\n"
     ]
    },
    {
     "name": "stdout",
     "output_type": "stream",
     "text": [
      "... computing cell overlaps ...\n"
     ]
    },
    {
     "name": "stderr",
     "output_type": "stream",
     "text": [
      "100%|██████████| 30/30 [00:20<00:00,  1.46it/s]\n"
     ]
    },
    {
     "name": "stdout",
     "output_type": "stream",
     "text": [
      "Removed cells:  91\n",
      "DONE\n",
      "   Queiscent periods (seconds):  1300.7333333333333\n",
      "   Running periods (seconds):  421.9\n",
      "... computing pairwise pearson correlation ...\n",
      " RASTERS IN:  (321, 55740)\n",
      " BINNING WINDOW:  30\n"
     ]
    },
    {
     "name": "stderr",
     "output_type": "stream",
     "text": [
      "100%|██████████| 321/321 [00:14<00:00, 22.15it/s]\n"
     ]
    },
    {
     "name": "stdout",
     "output_type": "stream",
     "text": [
      "... computing cell overlaps ...\n"
     ]
    },
    {
     "name": "stderr",
     "output_type": "stream",
     "text": [
      "100%|██████████| 30/30 [00:20<00:00,  1.46it/s]\n"
     ]
    },
    {
     "name": "stdout",
     "output_type": "stream",
     "text": [
      "Removed cells:  100\n",
      "DONE\n",
      "\n",
      "\n",
      "\n",
      "processing:  DON-003165_20210211\n"
     ]
    },
    {
     "name": "stderr",
     "output_type": "stream",
     "text": [
      "low pass filter: 100%|██████████| 657/657 [00:00<00:00, 2425.07it/s]\n",
      "model filter: remove bleaching or trends: 100%|██████████| 657/657 [00:03<00:00, 206.33it/s]\n",
      "660it [00:02, 249.21it/s]                         \n",
      "binarizing continuous traces filtered fluorescence onphase: 100%|██████████| 657/657 [00:00<00:00, 1076.30it/s]\n",
      "binarizing continuous traces filtered fluorescence upphase: 100%|██████████| 657/657 [00:04<00:00, 156.23it/s]\n"
     ]
    },
    {
     "name": "stdout",
     "output_type": "stream",
     "text": [
      "...saving data...\n",
      "   Queiscent periods (seconds):  959.4333333333333\n",
      "   Running periods (seconds):  698.9666666666667\n",
      "... computing pairwise pearson correlation ...\n",
      " RASTERS IN:  (657, 55740)\n",
      " BINNING WINDOW:  30\n"
     ]
    },
    {
     "name": "stderr",
     "output_type": "stream",
     "text": [
      "660it [00:34, 18.92it/s]                         \n"
     ]
    },
    {
     "name": "stdout",
     "output_type": "stream",
     "text": [
      "... computing cell overlaps ...\n"
     ]
    },
    {
     "name": "stderr",
     "output_type": "stream",
     "text": [
      "100%|██████████| 30/30 [00:47<00:00,  1.57s/it]\n"
     ]
    },
    {
     "name": "stdout",
     "output_type": "stream",
     "text": [
      "Removed cells:  186\n",
      "DONE\n",
      "   Queiscent periods (seconds):  959.4333333333333\n",
      "   Running periods (seconds):  698.9666666666667\n",
      "... computing pairwise pearson correlation ...\n",
      " RASTERS IN:  (657, 20969)\n",
      " BINNING WINDOW:  30\n"
     ]
    },
    {
     "name": "stderr",
     "output_type": "stream",
     "text": [
      "660it [00:14, 45.69it/s]                         \n"
     ]
    },
    {
     "name": "stdout",
     "output_type": "stream",
     "text": [
      "... computing cell overlaps ...\n"
     ]
    },
    {
     "name": "stderr",
     "output_type": "stream",
     "text": [
      "100%|██████████| 30/30 [00:47<00:00,  1.57s/it]\n"
     ]
    },
    {
     "name": "stdout",
     "output_type": "stream",
     "text": [
      "Removed cells:  168\n",
      "DONE\n",
      "   Queiscent periods (seconds):  959.4333333333333\n",
      "   Running periods (seconds):  698.9666666666667\n",
      "... computing pairwise pearson correlation ...\n",
      " RASTERS IN:  (657, 55740)\n",
      " BINNING WINDOW:  30\n"
     ]
    },
    {
     "name": "stderr",
     "output_type": "stream",
     "text": [
      "660it [00:34, 18.96it/s]                         \n"
     ]
    },
    {
     "name": "stdout",
     "output_type": "stream",
     "text": [
      "... computing cell overlaps ...\n"
     ]
    },
    {
     "name": "stderr",
     "output_type": "stream",
     "text": [
      "100%|██████████| 30/30 [00:47<00:00,  1.57s/it]\n"
     ]
    },
    {
     "name": "stdout",
     "output_type": "stream",
     "text": [
      "Removed cells:  186\n",
      "DONE\n",
      "\n",
      "\n",
      "\n",
      "processing:  DON-003165_20210213\n"
     ]
    },
    {
     "name": "stderr",
     "output_type": "stream",
     "text": [
      "low pass filter: 100%|██████████| 354/354 [00:00<00:00, 2387.20it/s]\n",
      "model filter: remove bleaching or trends: 100%|██████████| 354/354 [00:01<00:00, 205.76it/s]\n",
      "100%|██████████| 354/354 [00:01<00:00, 230.47it/s]\n",
      "binarizing continuous traces filtered fluorescence onphase: 100%|██████████| 354/354 [00:00<00:00, 1279.45it/s]\n",
      "binarizing continuous traces filtered fluorescence upphase: 100%|██████████| 354/354 [00:01<00:00, 218.21it/s]\n"
     ]
    },
    {
     "name": "stdout",
     "output_type": "stream",
     "text": [
      "...saving data...\n",
      "   Queiscent periods (seconds):  1190.3333333333333\n",
      "   Running periods (seconds):  584.3333333333334\n",
      "... computing pairwise pearson correlation ...\n",
      " RASTERS IN:  (354, 55740)\n",
      " BINNING WINDOW:  30\n"
     ]
    },
    {
     "name": "stderr",
     "output_type": "stream",
     "text": [
      "100%|██████████| 354/354 [00:19<00:00, 18.61it/s]\n"
     ]
    },
    {
     "name": "stdout",
     "output_type": "stream",
     "text": [
      "... computing cell overlaps ...\n"
     ]
    },
    {
     "name": "stderr",
     "output_type": "stream",
     "text": [
      "100%|██████████| 30/30 [00:23<00:00,  1.27it/s]\n"
     ]
    },
    {
     "name": "stdout",
     "output_type": "stream",
     "text": [
      "Removed cells:  80\n",
      "DONE\n",
      "   Queiscent periods (seconds):  1190.3333333333333\n",
      "   Running periods (seconds):  584.3333333333334\n",
      "... computing pairwise pearson correlation ...\n",
      " RASTERS IN:  (354, 17530)\n",
      " BINNING WINDOW:  30\n"
     ]
    },
    {
     "name": "stderr",
     "output_type": "stream",
     "text": [
      "100%|██████████| 354/354 [00:04<00:00, 86.10it/s]\n"
     ]
    },
    {
     "name": "stdout",
     "output_type": "stream",
     "text": [
      "... computing cell overlaps ...\n"
     ]
    },
    {
     "name": "stderr",
     "output_type": "stream",
     "text": [
      "100%|██████████| 30/30 [00:23<00:00,  1.27it/s]\n"
     ]
    },
    {
     "name": "stdout",
     "output_type": "stream",
     "text": [
      "Removed cells:  74\n",
      "DONE\n",
      "   Queiscent periods (seconds):  1190.3333333333333\n",
      "   Running periods (seconds):  584.3333333333334\n",
      "... computing pairwise pearson correlation ...\n",
      " RASTERS IN:  (354, 55740)\n",
      " BINNING WINDOW:  30\n"
     ]
    },
    {
     "name": "stderr",
     "output_type": "stream",
     "text": [
      "100%|██████████| 354/354 [00:18<00:00, 18.72it/s]\n"
     ]
    },
    {
     "name": "stdout",
     "output_type": "stream",
     "text": [
      "... computing cell overlaps ...\n"
     ]
    },
    {
     "name": "stderr",
     "output_type": "stream",
     "text": [
      "100%|██████████| 30/30 [00:23<00:00,  1.27it/s]\n"
     ]
    },
    {
     "name": "stdout",
     "output_type": "stream",
     "text": [
      "Removed cells:  80\n",
      "DONE\n",
      "\n",
      "\n",
      "\n",
      "processing:  DON-003165_20210223\n"
     ]
    },
    {
     "name": "stderr",
     "output_type": "stream",
     "text": [
      "low pass filter: 100%|██████████| 305/305 [00:00<00:00, 2408.38it/s]\n",
      "model filter: remove bleaching or trends: 100%|██████████| 305/305 [00:01<00:00, 201.95it/s]\n",
      "100%|██████████| 305/305 [00:01<00:00, 241.91it/s]\n",
      "binarizing continuous traces filtered fluorescence onphase: 100%|██████████| 305/305 [00:00<00:00, 1129.78it/s]\n",
      "binarizing continuous traces filtered fluorescence upphase: 100%|██████████| 305/305 [00:01<00:00, 239.73it/s]\n"
     ]
    },
    {
     "name": "stdout",
     "output_type": "stream",
     "text": [
      "...saving data...\n",
      "   Queiscent periods (seconds):  1404.0333333333333\n",
      "   Running periods (seconds):  328.3666666666667\n",
      "... computing pairwise pearson correlation ...\n",
      " RASTERS IN:  (305, 55740)\n",
      " BINNING WINDOW:  30\n"
     ]
    },
    {
     "name": "stderr",
     "output_type": "stream",
     "text": [
      "306it [00:18, 16.89it/s]                         \n"
     ]
    },
    {
     "name": "stdout",
     "output_type": "stream",
     "text": [
      "... computing cell overlaps ...\n"
     ]
    },
    {
     "name": "stderr",
     "output_type": "stream",
     "text": [
      "100%|██████████| 30/30 [00:22<00:00,  1.31it/s]\n"
     ]
    },
    {
     "name": "stdout",
     "output_type": "stream",
     "text": [
      "Removed cells:  56\n",
      "DONE\n",
      "   Queiscent periods (seconds):  1404.0333333333333\n",
      "   Running periods (seconds):  328.3666666666667\n",
      "... computing pairwise pearson correlation ...\n",
      " RASTERS IN:  (305, 9851)\n",
      " BINNING WINDOW:  30\n"
     ]
    },
    {
     "name": "stderr",
     "output_type": "stream",
     "text": [
      "306it [00:03, 95.54it/s]                         \n"
     ]
    },
    {
     "name": "stdout",
     "output_type": "stream",
     "text": [
      "... computing cell overlaps ...\n"
     ]
    },
    {
     "name": "stderr",
     "output_type": "stream",
     "text": [
      "100%|██████████| 30/30 [00:22<00:00,  1.31it/s]\n"
     ]
    },
    {
     "name": "stdout",
     "output_type": "stream",
     "text": [
      "Removed cells:  50\n",
      "DONE\n",
      "   Queiscent periods (seconds):  1404.0333333333333\n",
      "   Running periods (seconds):  328.3666666666667\n",
      "... computing pairwise pearson correlation ...\n",
      " RASTERS IN:  (305, 55740)\n",
      " BINNING WINDOW:  30\n"
     ]
    },
    {
     "name": "stderr",
     "output_type": "stream",
     "text": [
      "306it [00:18, 16.89it/s]                         \n"
     ]
    },
    {
     "name": "stdout",
     "output_type": "stream",
     "text": [
      "... computing cell overlaps ...\n"
     ]
    },
    {
     "name": "stderr",
     "output_type": "stream",
     "text": [
      "100%|██████████| 30/30 [00:22<00:00,  1.31it/s]\n"
     ]
    },
    {
     "name": "stdout",
     "output_type": "stream",
     "text": [
      "Removed cells:  56\n",
      "DONE\n",
      "\n",
      "\n",
      "\n",
      "processing:  DON-003165_20210215\n"
     ]
    },
    {
     "name": "stderr",
     "output_type": "stream",
     "text": [
      "low pass filter: 100%|██████████| 337/337 [00:00<00:00, 2418.02it/s]\n",
      "model filter: remove bleaching or trends: 100%|██████████| 337/337 [00:01<00:00, 202.50it/s]\n",
      "342it [00:01, 244.51it/s]              \n",
      "binarizing continuous traces filtered fluorescence onphase: 100%|██████████| 337/337 [00:00<00:00, 1244.12it/s]\n",
      "binarizing continuous traces filtered fluorescence upphase: 100%|██████████| 337/337 [00:01<00:00, 230.93it/s]\n"
     ]
    },
    {
     "name": "stdout",
     "output_type": "stream",
     "text": [
      "...saving data...\n",
      "   Queiscent periods (seconds):  24.3\n",
      "   Running periods (seconds):  58.46666666666667\n",
      "... computing pairwise pearson correlation ...\n",
      " RASTERS IN:  (337, 55740)\n",
      " BINNING WINDOW:  30\n"
     ]
    },
    {
     "name": "stderr",
     "output_type": "stream",
     "text": [
      "339it [00:19, 17.10it/s]                         \n"
     ]
    },
    {
     "name": "stdout",
     "output_type": "stream",
     "text": [
      "... computing cell overlaps ...\n"
     ]
    },
    {
     "name": "stderr",
     "output_type": "stream",
     "text": [
      "100%|██████████| 30/30 [00:24<00:00,  1.24it/s]"
     ]
    },
    {
     "name": "stdout",
     "output_type": "stream",
     "text": [
      "Removed cells:  76\n",
      "DONE\n",
      "   Queiscent periods (seconds):  24.3\n",
      "   Running periods (seconds):  58.46666666666667\n",
      "... computing pairwise pearson correlation ...\n",
      " RASTERS IN:  (337, 1754)\n",
      " BINNING WINDOW:  30\n"
     ]
    },
    {
     "name": "stderr",
     "output_type": "stream",
     "text": [
      "\n",
      "339it [00:00, 602.96it/s]              \n"
     ]
    },
    {
     "name": "stdout",
     "output_type": "stream",
     "text": [
      "... computing cell overlaps ...\n"
     ]
    },
    {
     "name": "stderr",
     "output_type": "stream",
     "text": [
      "100%|██████████| 30/30 [00:24<00:00,  1.24it/s]"
     ]
    },
    {
     "name": "stdout",
     "output_type": "stream",
     "text": [
      "Removed cells:  32\n",
      "DONE\n",
      "   Queiscent periods (seconds):  24.3\n",
      "   Running periods (seconds):  58.46666666666667\n",
      "... computing pairwise pearson correlation ...\n",
      " RASTERS IN:  (337, 55740)\n",
      " BINNING WINDOW:  30\n"
     ]
    },
    {
     "name": "stderr",
     "output_type": "stream",
     "text": [
      "\n",
      "339it [00:19, 17.11it/s]                         \n"
     ]
    },
    {
     "name": "stdout",
     "output_type": "stream",
     "text": [
      "... computing cell overlaps ...\n"
     ]
    },
    {
     "name": "stderr",
     "output_type": "stream",
     "text": [
      "100%|██████████| 30/30 [00:24<00:00,  1.24it/s]\n"
     ]
    },
    {
     "name": "stdout",
     "output_type": "stream",
     "text": [
      "Removed cells:  76\n",
      "DONE\n",
      "Processing:  DON-003343\n",
      "sessions:  ['DON-003343_20210213', 'DON-003343_20210218', 'DON-003343_20210217', 'DON-003343_20210216', 'DON-003343_20210219', 'DON-003343_20210215', 'DON-003343_20210222', 'DON-003343_20210221', 'DON-003343_20210220', 'DON-003343_20210214']\n",
      "\n",
      "\n",
      "\n",
      "processing:  DON-003343_20210213\n"
     ]
    },
    {
     "name": "stderr",
     "output_type": "stream",
     "text": [
      "low pass filter: 100%|██████████| 840/840 [00:00<00:00, 2433.62it/s]\n",
      "model filter: remove bleaching or trends: 100%|██████████| 840/840 [00:04<00:00, 207.39it/s]\n",
      "100%|██████████| 840/840 [00:03<00:00, 232.03it/s]\n",
      "binarizing continuous traces filtered fluorescence onphase: 100%|██████████| 840/840 [00:00<00:00, 1457.01it/s]\n",
      "binarizing continuous traces filtered fluorescence upphase: 100%|██████████| 840/840 [00:03<00:00, 270.10it/s]\n"
     ]
    },
    {
     "name": "stdout",
     "output_type": "stream",
     "text": [
      "...saving data...\n",
      "   Queiscent periods (seconds):  1404.4\n",
      "   Running periods (seconds):  353.2\n",
      "... computing pairwise pearson correlation ...\n",
      " RASTERS IN:  (840, 55740)\n",
      " BINNING WINDOW:  30\n"
     ]
    },
    {
     "name": "stderr",
     "output_type": "stream",
     "text": [
      "100%|██████████| 840/840 [00:45<00:00, 18.65it/s]\n"
     ]
    },
    {
     "name": "stdout",
     "output_type": "stream",
     "text": [
      "... computing cell overlaps ...\n"
     ]
    },
    {
     "name": "stderr",
     "output_type": "stream",
     "text": [
      "100%|██████████| 30/30 [00:58<00:00,  1.96s/it]\n"
     ]
    },
    {
     "name": "stdout",
     "output_type": "stream",
     "text": [
      "Removed cells:  210\n",
      "DONE\n",
      "   Queiscent periods (seconds):  1404.4\n",
      "   Running periods (seconds):  353.2\n",
      "... computing pairwise pearson correlation ...\n",
      " RASTERS IN:  (840, 10596)\n",
      " BINNING WINDOW:  30\n"
     ]
    },
    {
     "name": "stderr",
     "output_type": "stream",
     "text": [
      "100%|██████████| 840/840 [00:07<00:00, 107.84it/s]\n"
     ]
    },
    {
     "name": "stdout",
     "output_type": "stream",
     "text": [
      "... computing cell overlaps ...\n"
     ]
    },
    {
     "name": "stderr",
     "output_type": "stream",
     "text": [
      "100%|██████████| 30/30 [00:59<00:00,  1.97s/it]\n"
     ]
    },
    {
     "name": "stdout",
     "output_type": "stream",
     "text": [
      "Removed cells:  161\n",
      "DONE\n",
      "   Queiscent periods (seconds):  1404.4\n",
      "   Running periods (seconds):  353.2\n",
      "... computing pairwise pearson correlation ...\n",
      " RASTERS IN:  (840, 55740)\n",
      " BINNING WINDOW:  30\n"
     ]
    },
    {
     "name": "stderr",
     "output_type": "stream",
     "text": [
      "100%|██████████| 840/840 [00:45<00:00, 18.38it/s]\n"
     ]
    },
    {
     "name": "stdout",
     "output_type": "stream",
     "text": [
      "... computing cell overlaps ...\n"
     ]
    },
    {
     "name": "stderr",
     "output_type": "stream",
     "text": [
      "100%|██████████| 30/30 [00:58<00:00,  1.96s/it]\n"
     ]
    },
    {
     "name": "stdout",
     "output_type": "stream",
     "text": [
      "Removed cells:  210\n",
      "DONE\n",
      "\n",
      "\n",
      "\n",
      "processing:  DON-003343_20210218\n"
     ]
    },
    {
     "name": "stderr",
     "output_type": "stream",
     "text": [
      "low pass filter: 100%|██████████| 542/542 [00:00<00:00, 2425.90it/s]\n",
      "model filter: remove bleaching or trends: 100%|██████████| 542/542 [00:02<00:00, 207.68it/s]\n",
      "549it [00:02, 252.87it/s]                         \n",
      "binarizing continuous traces filtered fluorescence onphase: 100%|██████████| 542/542 [00:00<00:00, 1622.25it/s]\n",
      "binarizing continuous traces filtered fluorescence upphase: 100%|██████████| 542/542 [00:01<00:00, 325.51it/s]\n"
     ]
    },
    {
     "name": "stdout",
     "output_type": "stream",
     "text": [
      "...saving data...\n",
      "   Queiscent periods (seconds):  1439.4333333333334\n",
      "   Running periods (seconds):  351.3333333333333\n",
      "... computing pairwise pearson correlation ...\n",
      " RASTERS IN:  (542, 55740)\n",
      " BINNING WINDOW:  30\n"
     ]
    },
    {
     "name": "stderr",
     "output_type": "stream",
     "text": [
      "545it [00:30, 17.87it/s]                         \n"
     ]
    },
    {
     "name": "stdout",
     "output_type": "stream",
     "text": [
      "... computing cell overlaps ...\n"
     ]
    },
    {
     "name": "stderr",
     "output_type": "stream",
     "text": [
      "100%|██████████| 30/30 [00:39<00:00,  1.33s/it]\n"
     ]
    },
    {
     "name": "stdout",
     "output_type": "stream",
     "text": [
      "Removed cells:  113\n",
      "DONE\n",
      "   Queiscent periods (seconds):  1439.4333333333334\n",
      "   Running periods (seconds):  351.3333333333333\n",
      "... computing pairwise pearson correlation ...\n",
      " RASTERS IN:  (542, 10540)\n",
      " BINNING WINDOW:  30\n"
     ]
    },
    {
     "name": "stderr",
     "output_type": "stream",
     "text": [
      "545it [00:07, 74.71it/s]                         \n"
     ]
    },
    {
     "name": "stdout",
     "output_type": "stream",
     "text": [
      "... computing cell overlaps ...\n"
     ]
    },
    {
     "name": "stderr",
     "output_type": "stream",
     "text": [
      "100%|██████████| 30/30 [00:39<00:00,  1.33s/it]\n"
     ]
    },
    {
     "name": "stdout",
     "output_type": "stream",
     "text": [
      "Removed cells:  91\n",
      "DONE\n",
      "   Queiscent periods (seconds):  1439.4333333333334\n",
      "   Running periods (seconds):  351.3333333333333\n",
      "... computing pairwise pearson correlation ...\n",
      " RASTERS IN:  (542, 55740)\n",
      " BINNING WINDOW:  30\n"
     ]
    },
    {
     "name": "stderr",
     "output_type": "stream",
     "text": [
      "545it [00:30, 17.90it/s]                         \n"
     ]
    },
    {
     "name": "stdout",
     "output_type": "stream",
     "text": [
      "... computing cell overlaps ...\n"
     ]
    },
    {
     "name": "stderr",
     "output_type": "stream",
     "text": [
      "100%|██████████| 30/30 [00:39<00:00,  1.33s/it]\n"
     ]
    },
    {
     "name": "stdout",
     "output_type": "stream",
     "text": [
      "Removed cells:  113\n",
      "DONE\n",
      "\n",
      "\n",
      "\n",
      "processing:  DON-003343_20210217\n"
     ]
    },
    {
     "name": "stderr",
     "output_type": "stream",
     "text": [
      "low pass filter: 100%|██████████| 778/778 [00:00<00:00, 2429.44it/s]\n",
      "model filter: remove bleaching or trends: 100%|██████████| 778/778 [00:03<00:00, 205.60it/s]\n",
      "780it [00:03, 238.73it/s]                         \n",
      "binarizing continuous traces filtered fluorescence onphase: 100%|██████████| 778/778 [00:00<00:00, 1192.63it/s]\n",
      "binarizing continuous traces filtered fluorescence upphase: 100%|██████████| 778/778 [00:03<00:00, 241.50it/s]\n"
     ]
    },
    {
     "name": "stdout",
     "output_type": "stream",
     "text": [
      "...saving data...\n",
      "   Queiscent periods (seconds):  1220.2\n",
      "   Running periods (seconds):  570.9\n",
      "... computing pairwise pearson correlation ...\n",
      " RASTERS IN:  (778, 55740)\n",
      " BINNING WINDOW:  30\n"
     ]
    },
    {
     "name": "stderr",
     "output_type": "stream",
     "text": [
      "784it [00:39, 20.00it/s]                         \n"
     ]
    },
    {
     "name": "stdout",
     "output_type": "stream",
     "text": [
      "... computing cell overlaps ...\n"
     ]
    },
    {
     "name": "stderr",
     "output_type": "stream",
     "text": [
      "100%|██████████| 30/30 [00:54<00:00,  1.81s/it]\n"
     ]
    },
    {
     "name": "stdout",
     "output_type": "stream",
     "text": [
      "Removed cells:  163\n",
      "DONE\n",
      "   Queiscent periods (seconds):  1220.2\n",
      "   Running periods (seconds):  570.9\n",
      "... computing pairwise pearson correlation ...\n",
      " RASTERS IN:  (778, 17127)\n",
      " BINNING WINDOW:  30\n"
     ]
    },
    {
     "name": "stderr",
     "output_type": "stream",
     "text": [
      "784it [00:11, 65.38it/s]                         \n"
     ]
    },
    {
     "name": "stdout",
     "output_type": "stream",
     "text": [
      "... computing cell overlaps ...\n"
     ]
    },
    {
     "name": "stderr",
     "output_type": "stream",
     "text": [
      "100%|██████████| 30/30 [00:54<00:00,  1.81s/it]\n"
     ]
    },
    {
     "name": "stdout",
     "output_type": "stream",
     "text": [
      "Removed cells:  148\n",
      "DONE\n",
      "   Queiscent periods (seconds):  1220.2\n",
      "   Running periods (seconds):  570.9\n",
      "... computing pairwise pearson correlation ...\n",
      " RASTERS IN:  (778, 55740)\n",
      " BINNING WINDOW:  30\n"
     ]
    },
    {
     "name": "stderr",
     "output_type": "stream",
     "text": [
      "784it [00:39, 19.77it/s]                         \n"
     ]
    },
    {
     "name": "stdout",
     "output_type": "stream",
     "text": [
      "... computing cell overlaps ...\n"
     ]
    },
    {
     "name": "stderr",
     "output_type": "stream",
     "text": [
      "100%|██████████| 30/30 [00:53<00:00,  1.79s/it]\n"
     ]
    },
    {
     "name": "stdout",
     "output_type": "stream",
     "text": [
      "Removed cells:  163\n",
      "DONE\n",
      "\n",
      "\n",
      "\n",
      "processing:  DON-003343_20210216\n"
     ]
    },
    {
     "name": "stderr",
     "output_type": "stream",
     "text": [
      "low pass filter: 100%|██████████| 1023/1023 [00:00<00:00, 2420.97it/s]\n",
      "model filter: remove bleaching or trends: 100%|██████████| 1023/1023 [00:04<00:00, 208.55it/s]\n",
      "1024it [00:04, 237.49it/s]                         \n",
      "binarizing continuous traces filtered fluorescence onphase: 100%|██████████| 1023/1023 [00:00<00:00, 1190.86it/s]\n",
      "binarizing continuous traces filtered fluorescence upphase: 100%|██████████| 1023/1023 [00:04<00:00, 204.98it/s]\n"
     ]
    },
    {
     "name": "stdout",
     "output_type": "stream",
     "text": [
      "...saving data...\n",
      "   Queiscent periods (seconds):  999.7666666666667\n",
      "   Running periods (seconds):  797.6333333333333\n",
      "... computing pairwise pearson correlation ...\n",
      " RASTERS IN:  (1023, 55740)\n",
      " BINNING WINDOW:  30\n"
     ]
    },
    {
     "name": "stderr",
     "output_type": "stream",
     "text": [
      "1024it [01:05, 15.72it/s]                          \n"
     ]
    },
    {
     "name": "stdout",
     "output_type": "stream",
     "text": [
      "... computing cell overlaps ...\n"
     ]
    },
    {
     "name": "stderr",
     "output_type": "stream",
     "text": [
      "100%|██████████| 30/30 [01:18<00:00,  2.62s/it]\n"
     ]
    },
    {
     "name": "stdout",
     "output_type": "stream",
     "text": [
      "Removed cells:  258\n",
      "DONE\n",
      "   Queiscent periods (seconds):  999.7666666666667\n",
      "   Running periods (seconds):  797.6333333333333\n",
      "... computing pairwise pearson correlation ...\n",
      " RASTERS IN:  (1023, 23929)\n",
      " BINNING WINDOW:  30\n"
     ]
    },
    {
     "name": "stderr",
     "output_type": "stream",
     "text": [
      "1024it [00:30, 33.41it/s]                          \n"
     ]
    },
    {
     "name": "stdout",
     "output_type": "stream",
     "text": [
      "... computing cell overlaps ...\n"
     ]
    },
    {
     "name": "stderr",
     "output_type": "stream",
     "text": [
      "100%|██████████| 30/30 [01:18<00:00,  2.61s/it]\n"
     ]
    },
    {
     "name": "stdout",
     "output_type": "stream",
     "text": [
      "Removed cells:  245\n",
      "DONE\n",
      "   Queiscent periods (seconds):  999.7666666666667\n",
      "   Running periods (seconds):  797.6333333333333\n",
      "... computing pairwise pearson correlation ...\n",
      " RASTERS IN:  (1023, 55740)\n",
      " BINNING WINDOW:  30\n"
     ]
    },
    {
     "name": "stderr",
     "output_type": "stream",
     "text": [
      "1024it [01:03, 16.01it/s]                          \n"
     ]
    },
    {
     "name": "stdout",
     "output_type": "stream",
     "text": [
      "... computing cell overlaps ...\n"
     ]
    },
    {
     "name": "stderr",
     "output_type": "stream",
     "text": [
      "100%|██████████| 30/30 [01:18<00:00,  2.61s/it]\n"
     ]
    },
    {
     "name": "stdout",
     "output_type": "stream",
     "text": [
      "Removed cells:  258\n",
      "DONE\n",
      "\n",
      "\n",
      "\n",
      "processing:  DON-003343_20210219\n"
     ]
    },
    {
     "name": "stderr",
     "output_type": "stream",
     "text": [
      "low pass filter: 100%|██████████| 840/840 [00:00<00:00, 2421.03it/s]\n",
      "model filter: remove bleaching or trends: 100%|██████████| 840/840 [00:04<00:00, 201.97it/s]\n",
      "100%|██████████| 840/840 [00:03<00:00, 226.02it/s]\n",
      "binarizing continuous traces filtered fluorescence onphase: 100%|██████████| 840/840 [00:00<00:00, 1129.70it/s]\n",
      "binarizing continuous traces filtered fluorescence upphase: 100%|██████████| 840/840 [00:03<00:00, 240.44it/s]\n"
     ]
    },
    {
     "name": "stdout",
     "output_type": "stream",
     "text": [
      "...saving data...\n",
      "   Queiscent periods (seconds):  1333.7\n",
      "   Running periods (seconds):  436.8\n",
      "... computing pairwise pearson correlation ...\n",
      " RASTERS IN:  (840, 55740)\n",
      " BINNING WINDOW:  30\n"
     ]
    },
    {
     "name": "stderr",
     "output_type": "stream",
     "text": [
      "100%|██████████| 840/840 [00:49<00:00, 16.96it/s]\n"
     ]
    },
    {
     "name": "stdout",
     "output_type": "stream",
     "text": [
      "... computing cell overlaps ...\n"
     ]
    },
    {
     "name": "stderr",
     "output_type": "stream",
     "text": [
      "100%|██████████| 30/30 [01:01<00:00,  2.05s/it]\n"
     ]
    },
    {
     "name": "stdout",
     "output_type": "stream",
     "text": [
      "Removed cells:  193\n",
      "DONE\n",
      "   Queiscent periods (seconds):  1333.7\n",
      "   Running periods (seconds):  436.8\n",
      "... computing pairwise pearson correlation ...\n",
      " RASTERS IN:  (840, 13104)\n",
      " BINNING WINDOW:  30\n"
     ]
    },
    {
     "name": "stderr",
     "output_type": "stream",
     "text": [
      "100%|██████████| 840/840 [00:12<00:00, 68.63it/s]\n"
     ]
    },
    {
     "name": "stdout",
     "output_type": "stream",
     "text": [
      "... computing cell overlaps ...\n"
     ]
    },
    {
     "name": "stderr",
     "output_type": "stream",
     "text": [
      "100%|██████████| 30/30 [01:01<00:00,  2.06s/it]\n"
     ]
    },
    {
     "name": "stdout",
     "output_type": "stream",
     "text": [
      "Removed cells:  173\n",
      "DONE\n",
      "   Queiscent periods (seconds):  1333.7\n",
      "   Running periods (seconds):  436.8\n",
      "... computing pairwise pearson correlation ...\n",
      " RASTERS IN:  (840, 55740)\n",
      " BINNING WINDOW:  30\n"
     ]
    },
    {
     "name": "stderr",
     "output_type": "stream",
     "text": [
      "100%|██████████| 840/840 [00:49<00:00, 16.99it/s]\n"
     ]
    },
    {
     "name": "stdout",
     "output_type": "stream",
     "text": [
      "... computing cell overlaps ...\n"
     ]
    },
    {
     "name": "stderr",
     "output_type": "stream",
     "text": [
      "100%|██████████| 30/30 [01:01<00:00,  2.06s/it]\n"
     ]
    },
    {
     "name": "stdout",
     "output_type": "stream",
     "text": [
      "Removed cells:  193\n",
      "DONE\n",
      "\n",
      "\n",
      "\n",
      "processing:  DON-003343_20210215\n"
     ]
    },
    {
     "name": "stderr",
     "output_type": "stream",
     "text": [
      "low pass filter: 100%|██████████| 1084/1084 [00:00<00:00, 2385.57it/s]\n",
      "model filter: remove bleaching or trends: 100%|██████████| 1084/1084 [00:05<00:00, 206.74it/s]\n",
      "1088it [00:04, 242.02it/s]                         \n",
      "binarizing continuous traces filtered fluorescence onphase: 100%|██████████| 1084/1084 [00:00<00:00, 1131.17it/s]\n",
      "binarizing continuous traces filtered fluorescence upphase: 100%|██████████| 1084/1084 [00:05<00:00, 196.00it/s]\n"
     ]
    },
    {
     "name": "stdout",
     "output_type": "stream",
     "text": [
      "...saving data...\n",
      "   Queiscent periods (seconds):  10.6\n",
      "   Running periods (seconds):  77.0\n",
      "... computing pairwise pearson correlation ...\n",
      " RASTERS IN:  (1084, 55740)\n",
      " BINNING WINDOW:  30\n"
     ]
    },
    {
     "name": "stderr",
     "output_type": "stream",
     "text": [
      "1089it [00:59, 18.34it/s]                          \n"
     ]
    },
    {
     "name": "stdout",
     "output_type": "stream",
     "text": [
      "... computing cell overlaps ...\n"
     ]
    },
    {
     "name": "stderr",
     "output_type": "stream",
     "text": [
      "100%|██████████| 30/30 [01:23<00:00,  2.79s/it]\n"
     ]
    },
    {
     "name": "stdout",
     "output_type": "stream",
     "text": [
      "Removed cells:  288\n",
      "DONE\n",
      "   Queiscent periods (seconds):  10.6\n",
      "   Running periods (seconds):  77.0\n",
      "... computing pairwise pearson correlation ...\n",
      " RASTERS IN:  (1084, 2310)\n",
      " BINNING WINDOW:  30\n"
     ]
    },
    {
     "name": "stderr",
     "output_type": "stream",
     "text": [
      "1089it [00:04, 249.25it/s]                         \n"
     ]
    },
    {
     "name": "stdout",
     "output_type": "stream",
     "text": [
      "... computing cell overlaps ...\n"
     ]
    },
    {
     "name": "stderr",
     "output_type": "stream",
     "text": [
      "100%|██████████| 30/30 [01:23<00:00,  2.79s/it]\n"
     ]
    },
    {
     "name": "stdout",
     "output_type": "stream",
     "text": [
      "Removed cells:  112\n",
      "DONE\n",
      "   Queiscent periods (seconds):  10.6\n",
      "   Running periods (seconds):  77.0\n",
      "... computing pairwise pearson correlation ...\n",
      " RASTERS IN:  (1084, 55740)\n",
      " BINNING WINDOW:  30\n"
     ]
    },
    {
     "name": "stderr",
     "output_type": "stream",
     "text": [
      "1089it [01:04, 16.81it/s]                          \n"
     ]
    },
    {
     "name": "stdout",
     "output_type": "stream",
     "text": [
      "... computing cell overlaps ...\n"
     ]
    },
    {
     "name": "stderr",
     "output_type": "stream",
     "text": [
      "100%|██████████| 30/30 [01:23<00:00,  2.77s/it]\n"
     ]
    },
    {
     "name": "stdout",
     "output_type": "stream",
     "text": [
      "Removed cells:  288\n",
      "DONE\n",
      "\n",
      "\n",
      "\n",
      "processing:  DON-003343_20210222\n"
     ]
    },
    {
     "name": "stderr",
     "output_type": "stream",
     "text": [
      "low pass filter: 100%|██████████| 519/519 [00:00<00:00, 2426.02it/s]\n",
      "model filter: remove bleaching or trends: 100%|██████████| 519/519 [00:02<00:00, 203.39it/s]\n",
      "522it [00:02, 241.37it/s]                         \n",
      "binarizing continuous traces filtered fluorescence onphase: 100%|██████████| 519/519 [00:00<00:00, 1211.41it/s]\n",
      "binarizing continuous traces filtered fluorescence upphase: 100%|██████████| 519/519 [00:02<00:00, 226.94it/s]\n"
     ]
    },
    {
     "name": "stdout",
     "output_type": "stream",
     "text": [
      "...saving data...\n",
      "   Queiscent periods (seconds):  1247.3666666666666\n",
      "   Running periods (seconds):  541.7666666666667\n",
      "... computing pairwise pearson correlation ...\n",
      " RASTERS IN:  (519, 55740)\n",
      " BINNING WINDOW:  30\n"
     ]
    },
    {
     "name": "stderr",
     "output_type": "stream",
     "text": [
      "520it [00:28, 18.46it/s]                         \n"
     ]
    },
    {
     "name": "stdout",
     "output_type": "stream",
     "text": [
      "... computing cell overlaps ...\n"
     ]
    },
    {
     "name": "stderr",
     "output_type": "stream",
     "text": [
      "100%|██████████| 30/30 [00:37<00:00,  1.26s/it]\n"
     ]
    },
    {
     "name": "stdout",
     "output_type": "stream",
     "text": [
      "Removed cells:  133\n",
      "DONE\n",
      "   Queiscent periods (seconds):  1247.3666666666666\n",
      "   Running periods (seconds):  541.7666666666667\n",
      "... computing pairwise pearson correlation ...\n",
      " RASTERS IN:  (519, 16253)\n",
      " BINNING WINDOW:  30\n"
     ]
    },
    {
     "name": "stderr",
     "output_type": "stream",
     "text": [
      "520it [00:08, 62.29it/s]                         \n"
     ]
    },
    {
     "name": "stdout",
     "output_type": "stream",
     "text": [
      "... computing cell overlaps ...\n"
     ]
    },
    {
     "name": "stderr",
     "output_type": "stream",
     "text": [
      "100%|██████████| 30/30 [00:38<00:00,  1.27s/it]\n"
     ]
    },
    {
     "name": "stdout",
     "output_type": "stream",
     "text": [
      "Removed cells:  116\n",
      "DONE\n",
      "   Queiscent periods (seconds):  1247.3666666666666\n",
      "   Running periods (seconds):  541.7666666666667\n",
      "... computing pairwise pearson correlation ...\n",
      " RASTERS IN:  (519, 55740)\n",
      " BINNING WINDOW:  30\n"
     ]
    },
    {
     "name": "stderr",
     "output_type": "stream",
     "text": [
      "520it [00:28, 18.40it/s]                         \n"
     ]
    },
    {
     "name": "stdout",
     "output_type": "stream",
     "text": [
      "... computing cell overlaps ...\n"
     ]
    },
    {
     "name": "stderr",
     "output_type": "stream",
     "text": [
      "100%|██████████| 30/30 [00:37<00:00,  1.26s/it]\n"
     ]
    },
    {
     "name": "stdout",
     "output_type": "stream",
     "text": [
      "Removed cells:  133\n",
      "DONE\n",
      "\n",
      "\n",
      "\n",
      "processing:  DON-003343_20210221\n"
     ]
    },
    {
     "name": "stderr",
     "output_type": "stream",
     "text": [
      "low pass filter: 100%|██████████| 605/605 [00:00<00:00, 2443.42it/s]\n",
      "model filter: remove bleaching or trends: 100%|██████████| 605/605 [00:02<00:00, 207.07it/s]\n",
      "610it [00:02, 238.36it/s]                         \n",
      "binarizing continuous traces filtered fluorescence onphase: 100%|██████████| 605/605 [00:00<00:00, 1251.20it/s]\n",
      "binarizing continuous traces filtered fluorescence upphase: 100%|██████████| 605/605 [00:02<00:00, 236.91it/s]\n"
     ]
    },
    {
     "name": "stdout",
     "output_type": "stream",
     "text": [
      "...saving data...\n",
      "Wheel data couldn't be processed, only using all data\n",
      "... computing pairwise pearson correlation ...\n",
      " RASTERS IN:  (605, 55740)\n",
      " BINNING WINDOW:  30\n"
     ]
    },
    {
     "name": "stderr",
     "output_type": "stream",
     "text": [
      "100%|██████████| 605/605 [00:34<00:00, 17.33it/s]\n"
     ]
    },
    {
     "name": "stdout",
     "output_type": "stream",
     "text": [
      "... computing cell overlaps ...\n"
     ]
    },
    {
     "name": "stderr",
     "output_type": "stream",
     "text": [
      "100%|██████████| 30/30 [00:42<00:00,  1.42s/it]"
     ]
    },
    {
     "name": "stdout",
     "output_type": "stream",
     "text": [
      "Removed cells:  174\n",
      "DONE\n",
      "Wheel data couldn't be processed, only using all data\n",
      "... computing pairwise pearson correlation ...\n",
      " RASTERS IN:  (605, 55740)\n",
      " BINNING WINDOW:  30\n"
     ]
    },
    {
     "name": "stderr",
     "output_type": "stream",
     "text": [
      "\n",
      "100%|██████████| 605/605 [00:34<00:00, 17.55it/s]\n"
     ]
    },
    {
     "name": "stdout",
     "output_type": "stream",
     "text": [
      "... errror loading :  DON-003343_20210221   DON-003343\n",
      "\n",
      "\n",
      "\n",
      "processing:  DON-003343_20210220\n"
     ]
    },
    {
     "name": "stderr",
     "output_type": "stream",
     "text": [
      "low pass filter: 100%|██████████| 882/882 [00:00<00:00, 2446.03it/s]\n",
      "model filter: remove bleaching or trends: 100%|██████████| 882/882 [00:04<00:00, 206.08it/s]\n",
      "100%|██████████| 882/882 [00:03<00:00, 244.98it/s]\n",
      "binarizing continuous traces filtered fluorescence onphase: 100%|██████████| 882/882 [00:00<00:00, 1266.80it/s]\n",
      "binarizing continuous traces filtered fluorescence upphase: 100%|██████████| 882/882 [00:03<00:00, 237.85it/s]\n"
     ]
    },
    {
     "name": "stdout",
     "output_type": "stream",
     "text": [
      "...saving data...\n",
      "   Queiscent periods (seconds):  1329.9\n",
      "   Running periods (seconds):  442.56666666666666\n",
      "... computing pairwise pearson correlation ...\n",
      " RASTERS IN:  (882, 55740)\n",
      " BINNING WINDOW:  30\n"
     ]
    },
    {
     "name": "stderr",
     "output_type": "stream",
     "text": [
      "100%|██████████| 882/882 [00:54<00:00, 16.24it/s]\n"
     ]
    },
    {
     "name": "stdout",
     "output_type": "stream",
     "text": [
      "... computing cell overlaps ...\n"
     ]
    },
    {
     "name": "stderr",
     "output_type": "stream",
     "text": [
      "100%|██████████| 30/30 [01:05<00:00,  2.17s/it]\n"
     ]
    },
    {
     "name": "stdout",
     "output_type": "stream",
     "text": [
      "Removed cells:  227\n",
      "DONE\n",
      "   Queiscent periods (seconds):  1329.9\n",
      "   Running periods (seconds):  442.56666666666666\n",
      "... computing pairwise pearson correlation ...\n",
      " RASTERS IN:  (882, 13277)\n",
      " BINNING WINDOW:  30\n"
     ]
    },
    {
     "name": "stderr",
     "output_type": "stream",
     "text": [
      "100%|██████████| 882/882 [00:14<00:00, 62.03it/s]\n"
     ]
    },
    {
     "name": "stdout",
     "output_type": "stream",
     "text": [
      "... computing cell overlaps ...\n"
     ]
    },
    {
     "name": "stderr",
     "output_type": "stream",
     "text": [
      "100%|██████████| 30/30 [01:04<00:00,  2.16s/it]\n"
     ]
    },
    {
     "name": "stdout",
     "output_type": "stream",
     "text": [
      "Removed cells:  193\n",
      "DONE\n",
      "   Queiscent periods (seconds):  1329.9\n",
      "   Running periods (seconds):  442.56666666666666\n",
      "... computing pairwise pearson correlation ...\n",
      " RASTERS IN:  (882, 55740)\n",
      " BINNING WINDOW:  30\n"
     ]
    },
    {
     "name": "stderr",
     "output_type": "stream",
     "text": [
      "100%|██████████| 882/882 [00:54<00:00, 16.19it/s]\n"
     ]
    },
    {
     "name": "stdout",
     "output_type": "stream",
     "text": [
      "... computing cell overlaps ...\n"
     ]
    },
    {
     "name": "stderr",
     "output_type": "stream",
     "text": [
      "100%|██████████| 30/30 [01:05<00:00,  2.17s/it]\n"
     ]
    },
    {
     "name": "stdout",
     "output_type": "stream",
     "text": [
      "Removed cells:  227\n",
      "DONE\n",
      "\n",
      "\n",
      "\n",
      "processing:  DON-003343_20210214\n"
     ]
    },
    {
     "name": "stderr",
     "output_type": "stream",
     "text": [
      "low pass filter: 100%|██████████| 842/842 [00:00<00:00, 2430.67it/s]\n",
      "model filter: remove bleaching or trends: 100%|██████████| 842/842 [00:04<00:00, 205.61it/s]\n",
      "854it [00:03, 241.13it/s]                         \n",
      "binarizing continuous traces filtered fluorescence onphase: 100%|██████████| 842/842 [00:00<00:00, 1279.64it/s]\n",
      "binarizing continuous traces filtered fluorescence upphase: 100%|██████████| 842/842 [00:03<00:00, 240.20it/s]\n"
     ]
    },
    {
     "name": "stdout",
     "output_type": "stream",
     "text": [
      "...saving data...\n",
      "   Queiscent periods (seconds):  1434.3333333333333\n",
      "   Running periods (seconds):  349.9\n",
      "... computing pairwise pearson correlation ...\n",
      " RASTERS IN:  (842, 55740)\n",
      " BINNING WINDOW:  30\n"
     ]
    },
    {
     "name": "stderr",
     "output_type": "stream",
     "text": [
      "847it [00:47, 17.76it/s]                         \n"
     ]
    },
    {
     "name": "stdout",
     "output_type": "stream",
     "text": [
      "... computing cell overlaps ...\n"
     ]
    },
    {
     "name": "stderr",
     "output_type": "stream",
     "text": [
      "100%|██████████| 30/30 [01:00<00:00,  2.02s/it]\n"
     ]
    },
    {
     "name": "stdout",
     "output_type": "stream",
     "text": [
      "Removed cells:  190\n",
      "DONE\n",
      "   Queiscent periods (seconds):  1434.3333333333333\n",
      "   Running periods (seconds):  349.9\n",
      "... computing pairwise pearson correlation ...\n",
      " RASTERS IN:  (842, 10497)\n",
      " BINNING WINDOW:  30\n"
     ]
    },
    {
     "name": "stderr",
     "output_type": "stream",
     "text": [
      "847it [00:07, 117.72it/s]                         \n"
     ]
    },
    {
     "name": "stdout",
     "output_type": "stream",
     "text": [
      "... computing cell overlaps ...\n"
     ]
    },
    {
     "name": "stderr",
     "output_type": "stream",
     "text": [
      "100%|██████████| 30/30 [01:00<00:00,  2.02s/it]\n"
     ]
    },
    {
     "name": "stdout",
     "output_type": "stream",
     "text": [
      "Removed cells:  149\n",
      "DONE\n",
      "   Queiscent periods (seconds):  1434.3333333333333\n",
      "   Running periods (seconds):  349.9\n",
      "... computing pairwise pearson correlation ...\n",
      " RASTERS IN:  (842, 55740)\n",
      " BINNING WINDOW:  30\n"
     ]
    },
    {
     "name": "stderr",
     "output_type": "stream",
     "text": [
      "847it [00:48, 17.64it/s]                         \n"
     ]
    },
    {
     "name": "stdout",
     "output_type": "stream",
     "text": [
      "... computing cell overlaps ...\n"
     ]
    },
    {
     "name": "stderr",
     "output_type": "stream",
     "text": [
      "100%|██████████| 30/30 [01:00<00:00,  2.02s/it]\n"
     ]
    },
    {
     "name": "stdout",
     "output_type": "stream",
     "text": [
      "Removed cells:  190\n",
      "DONE\n",
      "Processing:  DON-006084\n",
      "sessions:  ['20210526', '20210523', '20210525', '20210519', '20210527', '20210522', '20210521', '20210524', '20210520', '20210528']\n",
      "\n",
      "\n",
      "\n",
      "processing:  20210526\n"
     ]
    },
    {
     "name": "stderr",
     "output_type": "stream",
     "text": [
      "low pass filter: 100%|██████████| 322/322 [00:00<00:00, 2422.96it/s]\n",
      "model filter: remove bleaching or trends: 100%|██████████| 322/322 [00:01<00:00, 202.36it/s]\n",
      "  0%|          | 0/322 [00:00<?, ?it/s]"
     ]
    },
    {
     "name": "stdout",
     "output_type": "stream",
     "text": [
      "error data corrupt: data:  [0.00089394 0.00089393 0.00089392 ... 0.00023764 0.00023763 0.00023762]\n"
     ]
    },
    {
     "name": "stderr",
     "output_type": "stream",
     "text": [
      "324it [00:01, 209.54it/s]              \n",
      "binarizing continuous traces filtered fluorescence onphase: 100%|██████████| 322/322 [00:00<00:00, 987.34it/s]\n",
      "binarizing continuous traces filtered fluorescence upphase: 100%|██████████| 322/322 [00:01<00:00, 315.37it/s]\n"
     ]
    },
    {
     "name": "stdout",
     "output_type": "stream",
     "text": [
      "...saving data...\n",
      "   Queiscent periods (seconds):  1566.8666666666666\n",
      "   Running periods (seconds):  125.26666666666667\n",
      "... computing pairwise pearson correlation ...\n",
      " RASTERS IN:  (322, 55740)\n",
      " BINNING WINDOW:  30\n"
     ]
    },
    {
     "name": "stderr",
     "output_type": "stream",
     "text": [
      "324it [00:19, 16.41it/s]                         \n"
     ]
    },
    {
     "name": "stdout",
     "output_type": "stream",
     "text": [
      "... computing cell overlaps ...\n"
     ]
    },
    {
     "name": "stderr",
     "output_type": "stream",
     "text": [
      "100%|██████████| 30/30 [00:23<00:00,  1.26it/s]\n"
     ]
    },
    {
     "name": "stdout",
     "output_type": "stream",
     "text": [
      "Removed cells:  72\n",
      "DONE\n",
      "   Queiscent periods (seconds):  1566.8666666666666\n",
      "   Running periods (seconds):  125.26666666666667\n",
      "... computing pairwise pearson correlation ...\n",
      " RASTERS IN:  (322, 3758)\n",
      " BINNING WINDOW:  30\n"
     ]
    },
    {
     "name": "stderr",
     "output_type": "stream",
     "text": [
      "324it [00:01, 240.92it/s]              \n"
     ]
    },
    {
     "name": "stdout",
     "output_type": "stream",
     "text": [
      "... computing cell overlaps ...\n"
     ]
    },
    {
     "name": "stderr",
     "output_type": "stream",
     "text": [
      "100%|██████████| 30/30 [00:23<00:00,  1.25it/s]\n"
     ]
    },
    {
     "name": "stdout",
     "output_type": "stream",
     "text": [
      "Removed cells:  55\n",
      "DONE\n",
      "   Queiscent periods (seconds):  1566.8666666666666\n",
      "   Running periods (seconds):  125.26666666666667\n",
      "... computing pairwise pearson correlation ...\n",
      " RASTERS IN:  (322, 55740)\n",
      " BINNING WINDOW:  30\n"
     ]
    },
    {
     "name": "stderr",
     "output_type": "stream",
     "text": [
      "324it [00:19, 16.35it/s]                         \n"
     ]
    },
    {
     "name": "stdout",
     "output_type": "stream",
     "text": [
      "... computing cell overlaps ...\n"
     ]
    },
    {
     "name": "stderr",
     "output_type": "stream",
     "text": [
      "100%|██████████| 30/30 [00:23<00:00,  1.26it/s]\n"
     ]
    },
    {
     "name": "stdout",
     "output_type": "stream",
     "text": [
      "Removed cells:  72\n",
      "DONE\n",
      "\n",
      "\n",
      "\n",
      "processing:  20210523\n"
     ]
    },
    {
     "name": "stderr",
     "output_type": "stream",
     "text": [
      "low pass filter: 100%|██████████| 514/514 [00:00<00:00, 2416.43it/s]\n",
      "model filter: remove bleaching or trends: 100%|██████████| 514/514 [00:02<00:00, 200.84it/s]\n",
      " 68%|██████▊   | 351/514 [00:02<00:00, 175.49it/s]"
     ]
    },
    {
     "name": "stdout",
     "output_type": "stream",
     "text": [
      "error data corrupt: data:  [3.9752503e-04 3.9894017e-04 4.0068937e-04 ... 1.8259399e-06 1.8176149e-06\n",
      " 1.8095687e-06]\n"
     ]
    },
    {
     "name": "stderr",
     "output_type": "stream",
     "text": [
      "522it [00:02, 207.96it/s]                         \n",
      "binarizing continuous traces filtered fluorescence onphase: 100%|██████████| 514/514 [00:00<00:00, 981.18it/s] \n",
      "binarizing continuous traces filtered fluorescence upphase: 100%|██████████| 514/514 [00:01<00:00, 329.85it/s]\n"
     ]
    },
    {
     "name": "stdout",
     "output_type": "stream",
     "text": [
      "...saving data...\n",
      "   Queiscent periods (seconds):  1602.7\n",
      "   Running periods (seconds):  119.76666666666667\n",
      "... computing pairwise pearson correlation ...\n",
      " RASTERS IN:  (514, 55740)\n",
      " BINNING WINDOW:  30\n"
     ]
    },
    {
     "name": "stderr",
     "output_type": "stream",
     "text": [
      "515it [00:26, 19.32it/s]                         \n"
     ]
    },
    {
     "name": "stdout",
     "output_type": "stream",
     "text": [
      "... computing cell overlaps ...\n"
     ]
    },
    {
     "name": "stderr",
     "output_type": "stream",
     "text": [
      "100%|██████████| 30/30 [00:36<00:00,  1.22s/it]\n"
     ]
    },
    {
     "name": "stdout",
     "output_type": "stream",
     "text": [
      "Removed cells:  107\n",
      "DONE\n",
      "   Queiscent periods (seconds):  1602.7\n",
      "   Running periods (seconds):  119.76666666666667\n",
      "... computing pairwise pearson correlation ...\n",
      " RASTERS IN:  (514, 3593)\n",
      " BINNING WINDOW:  30\n"
     ]
    },
    {
     "name": "stderr",
     "output_type": "stream",
     "text": [
      "515it [00:01, 468.78it/s]              \n"
     ]
    },
    {
     "name": "stdout",
     "output_type": "stream",
     "text": [
      "... computing cell overlaps ...\n"
     ]
    },
    {
     "name": "stderr",
     "output_type": "stream",
     "text": [
      "100%|██████████| 30/30 [00:36<00:00,  1.23s/it]\n"
     ]
    },
    {
     "name": "stdout",
     "output_type": "stream",
     "text": [
      "Removed cells:  81\n",
      "DONE\n",
      "   Queiscent periods (seconds):  1602.7\n",
      "   Running periods (seconds):  119.76666666666667\n",
      "... computing pairwise pearson correlation ...\n",
      " RASTERS IN:  (514, 55740)\n",
      " BINNING WINDOW:  30\n"
     ]
    },
    {
     "name": "stderr",
     "output_type": "stream",
     "text": [
      "515it [00:26, 19.22it/s]                         \n"
     ]
    },
    {
     "name": "stdout",
     "output_type": "stream",
     "text": [
      "... computing cell overlaps ...\n"
     ]
    },
    {
     "name": "stderr",
     "output_type": "stream",
     "text": [
      "100%|██████████| 30/30 [00:36<00:00,  1.22s/it]\n"
     ]
    },
    {
     "name": "stdout",
     "output_type": "stream",
     "text": [
      "Removed cells:  107\n",
      "DONE\n",
      "\n",
      "\n",
      "\n",
      "processing:  20210525\n"
     ]
    },
    {
     "name": "stderr",
     "output_type": "stream",
     "text": [
      "low pass filter: 100%|██████████| 544/544 [00:00<00:00, 2413.03it/s]\n",
      "model filter: remove bleaching or trends: 100%|██████████| 544/544 [00:02<00:00, 202.68it/s]\n",
      " 65%|██████▍   | 351/544 [00:02<00:01, 175.49it/s]"
     ]
    },
    {
     "name": "stdout",
     "output_type": "stream",
     "text": [
      "error data corrupt: data:  [0.00019612 0.00053877 0.00089673 ... 0.00037933 0.00033222 0.00029495]\n",
      "error data corrupt: data:  [8.7924702e-05 8.7925087e-05 8.7925480e-05 ... 1.4663977e-04 1.3981231e-04\n",
      " 1.3441159e-04]\n",
      "error data corrupt: data:  [5.3602621e-06 5.3625504e-06 5.3648387e-06 ... 1.3289759e-04 1.3289988e-04\n",
      " 1.3290216e-04]\n",
      "error data corrupt: data:  [0.00010015 0.00010015 0.00010015 ... 0.00051964 0.00045005 0.000395  ]error data corrupt: data:  [0.00016829 0.00017401 0.00018106 ... 0.00017433 0.00017431 0.0001743 ]\n",
      "\n",
      "error data corrupt: data:  [3.0675519e-04 3.5827683e-04 4.2190097e-04 ... 3.0156807e-05 3.0125040e-05\n",
      " 3.0099694e-05]\n",
      "error data corrupt: data:  [0.00049996 0.00056343 0.0006418  ... 0.00023361 0.00023361 0.00023361]\n",
      "error data corrupt: data:  [0.00015524 0.00015524 0.00015525 ... 0.00020417 0.00020415 0.00020414]\n",
      "error data corrupt: data:  [1.7639942e-04 1.7659359e-04 1.7683311e-04 ... 1.9227939e-03 1.6277669e-03\n",
      " 1.3340839e-05]\n",
      "error data corrupt: data:  [0.0002239  0.00023133 0.00024051 ... 0.00010281 0.00010265 0.00010252]\n",
      "error data corrupt: data:  [0.00041258 0.00046703 0.00053427 ... 0.00028539 0.00025634 0.00023336]\n",
      "error data corrupt: data:  [0.00028831 0.00031702 0.00035248 ... 0.00104051 0.0008867  0.00076503]\n",
      "error data corrupt: data:  [0.00010964 0.00010989 0.00011021 ... 0.00010929 0.00010858 0.00010803]\n",
      "error data corrupt: data:  [3.2070926e-05 3.2074931e-05 3.2078955e-05 ... 1.5934024e-03 1.3569449e-03\n",
      " 1.1698975e-03]\n",
      "error data corrupt: data:  [0.00046424 0.00076417 0.00108386 ... 0.00012919 0.00011298 0.00010015]\n",
      "error data corrupt: data:  [8.5254629e-05 8.5255917e-05 8.5257314e-05 ... 4.6198635e-04 4.0400316e-04\n",
      " 3.5813614e-04]\n",
      "error data corrupt: data:  [5.8760161e-05 5.8769638e-05 5.8780952e-05 ... 1.5086462e-04 1.5086627e-04\n",
      " 1.5086793e-04]\n"
     ]
    },
    {
     "name": "stderr",
     "output_type": "stream",
     "text": [
      "549it [00:02, 217.41it/s]                         \n",
      "binarizing continuous traces filtered fluorescence onphase: 100%|██████████| 544/544 [00:00<00:00, 1108.76it/s]\n",
      "binarizing continuous traces filtered fluorescence upphase: 100%|██████████| 544/544 [00:01<00:00, 376.84it/s]\n"
     ]
    },
    {
     "name": "stdout",
     "output_type": "stream",
     "text": [
      "...saving data...\n",
      "   Queiscent periods (seconds):  1647.3666666666666\n",
      "   Running periods (seconds):  98.83333333333333\n",
      "... computing pairwise pearson correlation ...\n",
      " RASTERS IN:  (544, 55740)\n",
      " BINNING WINDOW:  30\n"
     ]
    },
    {
     "name": "stderr",
     "output_type": "stream",
     "text": [
      "545it [00:33, 16.10it/s]                         \n"
     ]
    },
    {
     "name": "stdout",
     "output_type": "stream",
     "text": [
      "... computing cell overlaps ...\n"
     ]
    },
    {
     "name": "stderr",
     "output_type": "stream",
     "text": [
      "100%|██████████| 30/30 [00:41<00:00,  1.37s/it]\n"
     ]
    },
    {
     "name": "stdout",
     "output_type": "stream",
     "text": [
      "Removed cells:  100\n",
      "DONE\n",
      "   Queiscent periods (seconds):  1647.3666666666666\n",
      "   Running periods (seconds):  98.83333333333333\n",
      "... computing pairwise pearson correlation ...\n",
      " RASTERS IN:  (544, 2965)\n",
      " BINNING WINDOW:  30\n"
     ]
    },
    {
     "name": "stderr",
     "output_type": "stream",
     "text": [
      "545it [00:02, 267.10it/s]                         \n"
     ]
    },
    {
     "name": "stdout",
     "output_type": "stream",
     "text": [
      "... computing cell overlaps ...\n"
     ]
    },
    {
     "name": "stderr",
     "output_type": "stream",
     "text": [
      "100%|██████████| 30/30 [00:41<00:00,  1.38s/it]\n"
     ]
    },
    {
     "name": "stdout",
     "output_type": "stream",
     "text": [
      "Removed cells:  71\n",
      "DONE\n",
      "   Queiscent periods (seconds):  1647.3666666666666\n",
      "   Running periods (seconds):  98.83333333333333\n",
      "... computing pairwise pearson correlation ...\n",
      " RASTERS IN:  (544, 55740)\n",
      " BINNING WINDOW:  30\n"
     ]
    },
    {
     "name": "stderr",
     "output_type": "stream",
     "text": [
      "545it [00:33, 16.32it/s]                         \n"
     ]
    },
    {
     "name": "stdout",
     "output_type": "stream",
     "text": [
      "... computing cell overlaps ...\n"
     ]
    },
    {
     "name": "stderr",
     "output_type": "stream",
     "text": [
      "100%|██████████| 30/30 [00:41<00:00,  1.37s/it]\n"
     ]
    },
    {
     "name": "stdout",
     "output_type": "stream",
     "text": [
      "Removed cells:  100\n",
      "DONE\n",
      "\n",
      "\n",
      "\n",
      "processing:  20210519\n"
     ]
    },
    {
     "name": "stderr",
     "output_type": "stream",
     "text": [
      "low pass filter: 100%|██████████| 441/441 [00:00<00:00, 2443.09it/s]\n",
      "model filter: remove bleaching or trends: 100%|██████████| 441/441 [00:02<00:00, 201.66it/s]\n",
      "100%|██████████| 441/441 [00:02<00:00, 208.49it/s]\n",
      "binarizing continuous traces filtered fluorescence onphase: 100%|██████████| 441/441 [00:00<00:00, 905.03it/s]\n",
      "binarizing continuous traces filtered fluorescence upphase: 100%|██████████| 441/441 [00:01<00:00, 325.00it/s]\n"
     ]
    },
    {
     "name": "stdout",
     "output_type": "stream",
     "text": [
      "...saving data...\n",
      "   Queiscent periods (seconds):  1520.9\n",
      "   Running periods (seconds):  242.23333333333332\n",
      "... computing pairwise pearson correlation ...\n",
      " RASTERS IN:  (441, 55740)\n",
      " BINNING WINDOW:  30\n"
     ]
    },
    {
     "name": "stderr",
     "output_type": "stream",
     "text": [
      "444it [00:26, 16.91it/s]                         \n"
     ]
    },
    {
     "name": "stdout",
     "output_type": "stream",
     "text": [
      "... computing cell overlaps ...\n"
     ]
    },
    {
     "name": "stderr",
     "output_type": "stream",
     "text": [
      "100%|██████████| 30/30 [00:32<00:00,  1.07s/it]\n"
     ]
    },
    {
     "name": "stdout",
     "output_type": "stream",
     "text": [
      "Removed cells:  109\n",
      "DONE\n",
      "   Queiscent periods (seconds):  1520.9\n",
      "   Running periods (seconds):  242.23333333333332\n",
      "... computing pairwise pearson correlation ...\n",
      " RASTERS IN:  (441, 7267)\n",
      " BINNING WINDOW:  30\n"
     ]
    },
    {
     "name": "stderr",
     "output_type": "stream",
     "text": [
      "444it [00:02, 159.59it/s]                         \n"
     ]
    },
    {
     "name": "stdout",
     "output_type": "stream",
     "text": [
      "... computing cell overlaps ...\n"
     ]
    },
    {
     "name": "stderr",
     "output_type": "stream",
     "text": [
      "100%|██████████| 30/30 [00:32<00:00,  1.08s/it]\n"
     ]
    },
    {
     "name": "stdout",
     "output_type": "stream",
     "text": [
      "Removed cells:  96\n",
      "DONE\n",
      "   Queiscent periods (seconds):  1520.9\n",
      "   Running periods (seconds):  242.23333333333332\n",
      "... computing pairwise pearson correlation ...\n",
      " RASTERS IN:  (441, 55740)\n",
      " BINNING WINDOW:  30\n"
     ]
    },
    {
     "name": "stderr",
     "output_type": "stream",
     "text": [
      "444it [00:26, 17.04it/s]                         \n"
     ]
    },
    {
     "name": "stdout",
     "output_type": "stream",
     "text": [
      "... computing cell overlaps ...\n"
     ]
    },
    {
     "name": "stderr",
     "output_type": "stream",
     "text": [
      "100%|██████████| 30/30 [00:32<00:00,  1.07s/it]\n"
     ]
    },
    {
     "name": "stdout",
     "output_type": "stream",
     "text": [
      "Removed cells:  109\n",
      "DONE\n",
      "\n",
      "\n",
      "\n",
      "processing:  20210527\n"
     ]
    },
    {
     "name": "stderr",
     "output_type": "stream",
     "text": [
      "low pass filter: 100%|██████████| 546/546 [00:00<00:00, 2421.56it/s]\n",
      "model filter: remove bleaching or trends: 100%|██████████| 546/546 [00:02<00:00, 203.60it/s]\n",
      "  0%|          | 0/546 [00:00<?, ?it/s]"
     ]
    },
    {
     "name": "stdout",
     "output_type": "stream",
     "text": [
      "error data corrupt: data:  [0.00066651 0.000669   0.00067207 ... 0.000861   0.0008602  0.00085957]\n"
     ]
    },
    {
     "name": "stderr",
     "output_type": "stream",
     "text": [
      " 68%|██████▊   | 369/546 [00:02<00:00, 184.49it/s]"
     ]
    },
    {
     "name": "stdout",
     "output_type": "stream",
     "text": [
      "error data corrupt: data:  [0.00077135 0.00089434 0.00104623 ... 0.00034213 0.00030785 0.00028073]\n",
      "error data corrupt: data:  [0.00075049 0.00075076 0.00075109 ... 0.00120975 0.00110346 0.00101938]\n"
     ]
    },
    {
     "name": "stderr",
     "output_type": "stream",
     "text": [
      "549it [00:02, 219.69it/s]                         \n",
      "binarizing continuous traces filtered fluorescence onphase: 100%|██████████| 546/546 [00:00<00:00, 856.18it/s]\n",
      "binarizing continuous traces filtered fluorescence upphase: 100%|██████████| 546/546 [00:02<00:00, 264.56it/s]\n"
     ]
    },
    {
     "name": "stdout",
     "output_type": "stream",
     "text": [
      "...saving data...\n",
      "   Queiscent periods (seconds):  1420.3333333333333\n",
      "   Running periods (seconds):  286.3\n",
      "... computing pairwise pearson correlation ...\n",
      " RASTERS IN:  (546, 55740)\n",
      " BINNING WINDOW:  30\n"
     ]
    },
    {
     "name": "stderr",
     "output_type": "stream",
     "text": [
      "550it [00:27, 19.69it/s]                         \n"
     ]
    },
    {
     "name": "stdout",
     "output_type": "stream",
     "text": [
      "... computing cell overlaps ...\n"
     ]
    },
    {
     "name": "stderr",
     "output_type": "stream",
     "text": [
      "100%|██████████| 30/30 [00:37<00:00,  1.24s/it]\n"
     ]
    },
    {
     "name": "stdout",
     "output_type": "stream",
     "text": [
      "Removed cells:  114\n",
      "DONE\n",
      "   Queiscent periods (seconds):  1420.3333333333333\n",
      "   Running periods (seconds):  286.3\n",
      "... computing pairwise pearson correlation ...\n",
      " RASTERS IN:  (546, 8589)\n",
      " BINNING WINDOW:  30\n"
     ]
    },
    {
     "name": "stderr",
     "output_type": "stream",
     "text": [
      "550it [00:04, 115.04it/s]                         \n"
     ]
    },
    {
     "name": "stdout",
     "output_type": "stream",
     "text": [
      "... computing cell overlaps ...\n"
     ]
    },
    {
     "name": "stderr",
     "output_type": "stream",
     "text": [
      "100%|██████████| 30/30 [00:37<00:00,  1.24s/it]\n"
     ]
    },
    {
     "name": "stdout",
     "output_type": "stream",
     "text": [
      "Removed cells:  94\n",
      "DONE\n",
      "   Queiscent periods (seconds):  1420.3333333333333\n",
      "   Running periods (seconds):  286.3\n",
      "... computing pairwise pearson correlation ...\n",
      " RASTERS IN:  (546, 55740)\n",
      " BINNING WINDOW:  30\n"
     ]
    },
    {
     "name": "stderr",
     "output_type": "stream",
     "text": [
      "550it [00:27, 19.80it/s]                         \n"
     ]
    },
    {
     "name": "stdout",
     "output_type": "stream",
     "text": [
      "... computing cell overlaps ...\n"
     ]
    },
    {
     "name": "stderr",
     "output_type": "stream",
     "text": [
      "100%|██████████| 30/30 [00:37<00:00,  1.24s/it]\n"
     ]
    },
    {
     "name": "stdout",
     "output_type": "stream",
     "text": [
      "Removed cells:  114\n",
      "DONE\n",
      "\n",
      "\n",
      "\n",
      "processing:  20210522\n"
     ]
    },
    {
     "name": "stderr",
     "output_type": "stream",
     "text": [
      "low pass filter: 100%|██████████| 562/562 [00:00<00:00, 2428.19it/s]\n",
      "model filter: remove bleaching or trends: 100%|██████████| 562/562 [00:02<00:00, 201.24it/s]\n",
      " 64%|██████▍   | 360/562 [00:02<00:01, 179.99it/s]"
     ]
    },
    {
     "name": "stdout",
     "output_type": "stream",
     "text": [
      "error data corrupt: data:  [0.00070895 0.00077674 0.00086046 ... 0.00058412 0.00058383 0.0005836 ]\n",
      "error data corrupt: data:  [4.5470780e-04 4.6057696e-04 4.6782297e-04 ... 1.8409978e-03 9.4639597e-04\n",
      " 5.5456221e-05]\n"
     ]
    },
    {
     "name": "stderr",
     "output_type": "stream",
     "text": [
      "567it [00:02, 209.34it/s]                         \n",
      "binarizing continuous traces filtered fluorescence onphase: 100%|██████████| 562/562 [00:00<00:00, 956.07it/s]\n",
      "binarizing continuous traces filtered fluorescence upphase: 100%|██████████| 562/562 [00:01<00:00, 345.85it/s]\n"
     ]
    },
    {
     "name": "stdout",
     "output_type": "stream",
     "text": [
      "...saving data...\n",
      "   Queiscent periods (seconds):  1432.4\n",
      "   Running periods (seconds):  270.03333333333336\n",
      "... computing pairwise pearson correlation ...\n",
      " RASTERS IN:  (562, 55740)\n",
      " BINNING WINDOW:  30\n"
     ]
    },
    {
     "name": "stderr",
     "output_type": "stream",
     "text": [
      "565it [00:34, 16.29it/s]                         \n"
     ]
    },
    {
     "name": "stdout",
     "output_type": "stream",
     "text": [
      "... computing cell overlaps ...\n"
     ]
    },
    {
     "name": "stderr",
     "output_type": "stream",
     "text": [
      "100%|██████████| 30/30 [00:41<00:00,  1.39s/it]\n"
     ]
    },
    {
     "name": "stdout",
     "output_type": "stream",
     "text": [
      "Removed cells:  145\n",
      "DONE\n",
      "   Queiscent periods (seconds):  1432.4\n",
      "   Running periods (seconds):  270.03333333333336\n",
      "... computing pairwise pearson correlation ...\n",
      " RASTERS IN:  (562, 8101)\n",
      " BINNING WINDOW:  30\n"
     ]
    },
    {
     "name": "stderr",
     "output_type": "stream",
     "text": [
      "565it [00:05, 107.58it/s]                        \n"
     ]
    },
    {
     "name": "stdout",
     "output_type": "stream",
     "text": [
      "... computing cell overlaps ...\n"
     ]
    },
    {
     "name": "stderr",
     "output_type": "stream",
     "text": [
      "100%|██████████| 30/30 [00:41<00:00,  1.39s/it]\n"
     ]
    },
    {
     "name": "stdout",
     "output_type": "stream",
     "text": [
      "Removed cells:  112\n",
      "DONE\n",
      "   Queiscent periods (seconds):  1432.4\n",
      "   Running periods (seconds):  270.03333333333336\n",
      "... computing pairwise pearson correlation ...\n",
      " RASTERS IN:  (562, 55740)\n",
      " BINNING WINDOW:  30\n"
     ]
    },
    {
     "name": "stderr",
     "output_type": "stream",
     "text": [
      "565it [00:34, 16.51it/s]                         \n"
     ]
    },
    {
     "name": "stdout",
     "output_type": "stream",
     "text": [
      "... computing cell overlaps ...\n"
     ]
    },
    {
     "name": "stderr",
     "output_type": "stream",
     "text": [
      "100%|██████████| 30/30 [00:41<00:00,  1.40s/it]\n"
     ]
    },
    {
     "name": "stdout",
     "output_type": "stream",
     "text": [
      "Removed cells:  145\n",
      "DONE\n",
      "\n",
      "\n",
      "\n",
      "processing:  20210521\n"
     ]
    },
    {
     "name": "stderr",
     "output_type": "stream",
     "text": [
      "low pass filter: 100%|██████████| 460/460 [00:00<00:00, 2446.92it/s]\n",
      "model filter: remove bleaching or trends: 100%|██████████| 460/460 [00:02<00:00, 200.41it/s]\n",
      "464it [00:02, 196.45it/s]                         \n",
      "binarizing continuous traces filtered fluorescence onphase: 100%|██████████| 460/460 [00:00<00:00, 826.65it/s]\n",
      "binarizing continuous traces filtered fluorescence upphase: 100%|██████████| 460/460 [00:01<00:00, 283.88it/s]\n"
     ]
    },
    {
     "name": "stdout",
     "output_type": "stream",
     "text": [
      "...saving data...\n",
      "   Queiscent periods (seconds):  1470.9666666666667\n",
      "   Running periods (seconds):  258.8\n",
      "... computing pairwise pearson correlation ...\n",
      " RASTERS IN:  (460, 55740)\n",
      " BINNING WINDOW:  30\n"
     ]
    },
    {
     "name": "stderr",
     "output_type": "stream",
     "text": [
      "100%|██████████| 460/460 [00:24<00:00, 18.63it/s]\n"
     ]
    },
    {
     "name": "stdout",
     "output_type": "stream",
     "text": [
      "... computing cell overlaps ...\n"
     ]
    },
    {
     "name": "stderr",
     "output_type": "stream",
     "text": [
      "100%|██████████| 30/30 [00:31<00:00,  1.05s/it]\n"
     ]
    },
    {
     "name": "stdout",
     "output_type": "stream",
     "text": [
      "Removed cells:  129\n",
      "DONE\n",
      "   Queiscent periods (seconds):  1470.9666666666667\n",
      "   Running periods (seconds):  258.8\n",
      "... computing pairwise pearson correlation ...\n",
      " RASTERS IN:  (460, 7764)\n",
      " BINNING WINDOW:  30\n"
     ]
    },
    {
     "name": "stderr",
     "output_type": "stream",
     "text": [
      "100%|██████████| 460/460 [00:02<00:00, 175.17it/s]\n"
     ]
    },
    {
     "name": "stdout",
     "output_type": "stream",
     "text": [
      "... computing cell overlaps ...\n"
     ]
    },
    {
     "name": "stderr",
     "output_type": "stream",
     "text": [
      "100%|██████████| 30/30 [00:31<00:00,  1.06s/it]\n"
     ]
    },
    {
     "name": "stdout",
     "output_type": "stream",
     "text": [
      "Removed cells:  105\n",
      "DONE\n",
      "   Queiscent periods (seconds):  1470.9666666666667\n",
      "   Running periods (seconds):  258.8\n",
      "... computing pairwise pearson correlation ...\n",
      " RASTERS IN:  (460, 55740)\n",
      " BINNING WINDOW:  30\n"
     ]
    },
    {
     "name": "stderr",
     "output_type": "stream",
     "text": [
      "100%|██████████| 460/460 [00:24<00:00, 18.69it/s]\n"
     ]
    },
    {
     "name": "stdout",
     "output_type": "stream",
     "text": [
      "... computing cell overlaps ...\n"
     ]
    },
    {
     "name": "stderr",
     "output_type": "stream",
     "text": [
      "100%|██████████| 30/30 [00:31<00:00,  1.05s/it]\n"
     ]
    },
    {
     "name": "stdout",
     "output_type": "stream",
     "text": [
      "Removed cells:  129\n",
      "DONE\n",
      "\n",
      "\n",
      "\n",
      "processing:  20210524\n"
     ]
    },
    {
     "name": "stderr",
     "output_type": "stream",
     "text": [
      "low pass filter: 100%|██████████| 259/259 [00:00<00:00, 2414.39it/s]\n",
      "model filter: remove bleaching or trends: 100%|██████████| 259/259 [00:01<00:00, 201.22it/s]\n",
      "260it [00:01, 201.07it/s]              \n",
      "binarizing continuous traces filtered fluorescence onphase: 100%|██████████| 259/259 [00:00<00:00, 751.88it/s]\n",
      "binarizing continuous traces filtered fluorescence upphase: 100%|██████████| 259/259 [00:01<00:00, 229.67it/s]\n"
     ]
    },
    {
     "name": "stdout",
     "output_type": "stream",
     "text": [
      "...saving data...\n",
      "   Queiscent periods (seconds):  1562.2\n",
      "   Running periods (seconds):  128.86666666666667\n",
      "... computing pairwise pearson correlation ...\n",
      " RASTERS IN:  (259, 55740)\n",
      " BINNING WINDOW:  30\n"
     ]
    },
    {
     "name": "stderr",
     "output_type": "stream",
     "text": [
      "261it [00:12, 20.76it/s]                         \n"
     ]
    },
    {
     "name": "stdout",
     "output_type": "stream",
     "text": [
      "... computing cell overlaps ...\n"
     ]
    },
    {
     "name": "stderr",
     "output_type": "stream",
     "text": [
      "100%|██████████| 30/30 [00:19<00:00,  1.56it/s]\n"
     ]
    },
    {
     "name": "stdout",
     "output_type": "stream",
     "text": [
      "Removed cells:  69\n",
      "DONE\n",
      "   Queiscent periods (seconds):  1562.2\n",
      "   Running periods (seconds):  128.86666666666667\n",
      "... computing pairwise pearson correlation ...\n",
      " RASTERS IN:  (259, 3866)\n",
      " BINNING WINDOW:  30\n"
     ]
    },
    {
     "name": "stderr",
     "output_type": "stream",
     "text": [
      "261it [00:00, 396.88it/s]              \n"
     ]
    },
    {
     "name": "stdout",
     "output_type": "stream",
     "text": [
      "... computing cell overlaps ...\n"
     ]
    },
    {
     "name": "stderr",
     "output_type": "stream",
     "text": [
      "100%|██████████| 30/30 [00:19<00:00,  1.56it/s]\n"
     ]
    },
    {
     "name": "stdout",
     "output_type": "stream",
     "text": [
      "Removed cells:  50\n",
      "DONE\n",
      "   Queiscent periods (seconds):  1562.2\n",
      "   Running periods (seconds):  128.86666666666667\n",
      "... computing pairwise pearson correlation ...\n",
      " RASTERS IN:  (259, 55740)\n",
      " BINNING WINDOW:  30\n"
     ]
    },
    {
     "name": "stderr",
     "output_type": "stream",
     "text": [
      "261it [00:13, 19.52it/s]                         \n"
     ]
    },
    {
     "name": "stdout",
     "output_type": "stream",
     "text": [
      "... computing cell overlaps ...\n"
     ]
    },
    {
     "name": "stderr",
     "output_type": "stream",
     "text": [
      "100%|██████████| 30/30 [00:19<00:00,  1.57it/s]\n"
     ]
    },
    {
     "name": "stdout",
     "output_type": "stream",
     "text": [
      "Removed cells:  69\n",
      "DONE\n",
      "\n",
      "\n",
      "\n",
      "processing:  20210520\n"
     ]
    },
    {
     "name": "stderr",
     "output_type": "stream",
     "text": [
      "low pass filter: 100%|██████████| 521/521 [00:00<00:00, 2428.96it/s]\n",
      "model filter: remove bleaching or trends: 100%|██████████| 521/521 [00:02<00:00, 202.96it/s]\n",
      "522it [00:02, 195.14it/s]                         \n",
      "binarizing continuous traces filtered fluorescence onphase: 100%|██████████| 521/521 [00:00<00:00, 791.61it/s]\n",
      "binarizing continuous traces filtered fluorescence upphase: 100%|██████████| 521/521 [00:01<00:00, 261.73it/s]\n"
     ]
    },
    {
     "name": "stdout",
     "output_type": "stream",
     "text": [
      "...saving data...\n",
      "   Queiscent periods (seconds):  1409.3333333333333\n",
      "   Running periods (seconds):  357.9\n",
      "... computing pairwise pearson correlation ...\n",
      " RASTERS IN:  (521, 55740)\n",
      " BINNING WINDOW:  30\n"
     ]
    },
    {
     "name": "stderr",
     "output_type": "stream",
     "text": [
      "525it [00:28, 18.53it/s]                         \n"
     ]
    },
    {
     "name": "stdout",
     "output_type": "stream",
     "text": [
      "... computing cell overlaps ...\n"
     ]
    },
    {
     "name": "stderr",
     "output_type": "stream",
     "text": [
      "100%|██████████| 30/30 [00:37<00:00,  1.25s/it]\n"
     ]
    },
    {
     "name": "stdout",
     "output_type": "stream",
     "text": [
      "Removed cells:  132\n",
      "DONE\n",
      "   Queiscent periods (seconds):  1409.3333333333333\n",
      "   Running periods (seconds):  357.9\n",
      "... computing pairwise pearson correlation ...\n",
      " RASTERS IN:  (521, 10737)\n",
      " BINNING WINDOW:  30\n"
     ]
    },
    {
     "name": "stderr",
     "output_type": "stream",
     "text": [
      "525it [00:05, 96.12it/s]                         \n"
     ]
    },
    {
     "name": "stdout",
     "output_type": "stream",
     "text": [
      "... computing cell overlaps ...\n"
     ]
    },
    {
     "name": "stderr",
     "output_type": "stream",
     "text": [
      "100%|██████████| 30/30 [00:37<00:00,  1.25s/it]\n"
     ]
    },
    {
     "name": "stdout",
     "output_type": "stream",
     "text": [
      "Removed cells:  120\n",
      "DONE\n",
      "   Queiscent periods (seconds):  1409.3333333333333\n",
      "   Running periods (seconds):  357.9\n",
      "... computing pairwise pearson correlation ...\n",
      " RASTERS IN:  (521, 55740)\n",
      " BINNING WINDOW:  30\n"
     ]
    },
    {
     "name": "stderr",
     "output_type": "stream",
     "text": [
      "525it [00:28, 18.65it/s]                         \n"
     ]
    },
    {
     "name": "stdout",
     "output_type": "stream",
     "text": [
      "... computing cell overlaps ...\n"
     ]
    },
    {
     "name": "stderr",
     "output_type": "stream",
     "text": [
      "100%|██████████| 30/30 [00:37<00:00,  1.25s/it]\n"
     ]
    },
    {
     "name": "stdout",
     "output_type": "stream",
     "text": [
      "Removed cells:  132\n",
      "DONE\n",
      "\n",
      "\n",
      "\n",
      "processing:  20210528\n"
     ]
    },
    {
     "name": "stderr",
     "output_type": "stream",
     "text": [
      "low pass filter: 100%|██████████| 400/400 [00:00<00:00, 2426.24it/s]\n",
      "model filter: remove bleaching or trends: 100%|██████████| 400/400 [00:01<00:00, 200.30it/s]\n",
      "406it [00:01, 210.57it/s]              \n",
      "binarizing continuous traces filtered fluorescence onphase: 100%|██████████| 400/400 [00:00<00:00, 1123.85it/s]\n",
      "binarizing continuous traces filtered fluorescence upphase: 100%|██████████| 400/400 [00:00<00:00, 405.73it/s]\n"
     ]
    },
    {
     "name": "stdout",
     "output_type": "stream",
     "text": [
      "...saving data...\n",
      "   Queiscent periods (seconds):  1623.4\n",
      "   Running periods (seconds):  104.6\n",
      "... computing pairwise pearson correlation ...\n",
      " RASTERS IN:  (400, 55740)\n",
      " BINNING WINDOW:  30\n"
     ]
    },
    {
     "name": "stderr",
     "output_type": "stream",
     "text": [
      "100%|██████████| 400/400 [00:20<00:00, 19.60it/s]\n"
     ]
    },
    {
     "name": "stdout",
     "output_type": "stream",
     "text": [
      "... computing cell overlaps ...\n"
     ]
    },
    {
     "name": "stderr",
     "output_type": "stream",
     "text": [
      "100%|██████████| 30/30 [00:28<00:00,  1.06it/s]\n"
     ]
    },
    {
     "name": "stdout",
     "output_type": "stream",
     "text": [
      "Removed cells:  107\n",
      "DONE\n",
      "   Queiscent periods (seconds):  1623.4\n",
      "   Running periods (seconds):  104.6\n",
      "... computing pairwise pearson correlation ...\n",
      " RASTERS IN:  (400, 3138)\n",
      " BINNING WINDOW:  30\n"
     ]
    },
    {
     "name": "stderr",
     "output_type": "stream",
     "text": [
      "100%|██████████| 400/400 [00:01<00:00, 324.15it/s]\n"
     ]
    },
    {
     "name": "stdout",
     "output_type": "stream",
     "text": [
      "... computing cell overlaps ...\n"
     ]
    },
    {
     "name": "stderr",
     "output_type": "stream",
     "text": [
      "100%|██████████| 30/30 [00:28<00:00,  1.05it/s]\n"
     ]
    },
    {
     "name": "stdout",
     "output_type": "stream",
     "text": [
      "Removed cells:  65\n",
      "DONE\n",
      "   Queiscent periods (seconds):  1623.4\n",
      "   Running periods (seconds):  104.6\n",
      "... computing pairwise pearson correlation ...\n",
      " RASTERS IN:  (400, 55740)\n",
      " BINNING WINDOW:  30\n"
     ]
    },
    {
     "name": "stderr",
     "output_type": "stream",
     "text": [
      "100%|██████████| 400/400 [00:20<00:00, 19.50it/s]\n"
     ]
    },
    {
     "name": "stdout",
     "output_type": "stream",
     "text": [
      "... computing cell overlaps ...\n"
     ]
    },
    {
     "name": "stderr",
     "output_type": "stream",
     "text": [
      "100%|██████████| 30/30 [00:28<00:00,  1.06it/s]\n"
     ]
    },
    {
     "name": "stdout",
     "output_type": "stream",
     "text": [
      "Removed cells:  107\n",
      "DONE\n",
      "Processing:  DON-006085\n",
      "sessions:  ['20210526', '20210523', '20210525', '20210519', '20210527', '20210522', '20210521', '20210524', '20210520', '20210528']\n",
      "\n",
      "\n",
      "\n",
      "processing:  20210526\n"
     ]
    },
    {
     "name": "stderr",
     "output_type": "stream",
     "text": [
      "low pass filter: 100%|██████████| 1015/1015 [00:00<00:00, 2428.92it/s]\n",
      "model filter: remove bleaching or trends: 100%|██████████| 1015/1015 [00:04<00:00, 206.07it/s]\n",
      "1024it [00:04, 207.11it/s]                         \n",
      "binarizing continuous traces filtered fluorescence onphase: 100%|██████████| 1015/1015 [00:00<00:00, 1265.71it/s]\n",
      "binarizing continuous traces filtered fluorescence upphase: 100%|██████████| 1015/1015 [00:01<00:00, 524.85it/s]\n"
     ]
    },
    {
     "name": "stdout",
     "output_type": "stream",
     "text": [
      "...saving data...\n",
      "   Queiscent periods (seconds):  1308.1\n",
      "   Running periods (seconds):  421.1333333333333\n",
      "... computing pairwise pearson correlation ...\n",
      " RASTERS IN:  (1015, 55740)\n",
      " BINNING WINDOW:  30\n"
     ]
    },
    {
     "name": "stderr",
     "output_type": "stream",
     "text": [
      "1016it [00:58, 17.27it/s]                         \n"
     ]
    },
    {
     "name": "stdout",
     "output_type": "stream",
     "text": [
      "... computing cell overlaps ...\n"
     ]
    },
    {
     "name": "stderr",
     "output_type": "stream",
     "text": [
      "100%|██████████| 30/30 [01:14<00:00,  2.48s/it]\n"
     ]
    },
    {
     "name": "stdout",
     "output_type": "stream",
     "text": [
      "Removed cells:  225\n",
      "DONE\n",
      "   Queiscent periods (seconds):  1308.1\n",
      "   Running periods (seconds):  421.1333333333333\n",
      "... computing pairwise pearson correlation ...\n",
      " RASTERS IN:  (1015, 12634)\n",
      " BINNING WINDOW:  30\n"
     ]
    },
    {
     "name": "stderr",
     "output_type": "stream",
     "text": [
      "1016it [00:13, 72.64it/s]                         \n"
     ]
    },
    {
     "name": "stdout",
     "output_type": "stream",
     "text": [
      "... computing cell overlaps ...\n"
     ]
    },
    {
     "name": "stderr",
     "output_type": "stream",
     "text": [
      "100%|██████████| 30/30 [01:13<00:00,  2.45s/it]\n"
     ]
    },
    {
     "name": "stdout",
     "output_type": "stream",
     "text": [
      "Removed cells:  162\n",
      "DONE\n",
      "   Queiscent periods (seconds):  1308.1\n",
      "   Running periods (seconds):  421.1333333333333\n",
      "... computing pairwise pearson correlation ...\n",
      " RASTERS IN:  (1015, 55740)\n",
      " BINNING WINDOW:  30\n"
     ]
    },
    {
     "name": "stderr",
     "output_type": "stream",
     "text": [
      "1016it [00:58, 17.29it/s]                         \n"
     ]
    },
    {
     "name": "stdout",
     "output_type": "stream",
     "text": [
      "... computing cell overlaps ...\n"
     ]
    },
    {
     "name": "stderr",
     "output_type": "stream",
     "text": [
      "100%|██████████| 30/30 [01:13<00:00,  2.46s/it]\n"
     ]
    },
    {
     "name": "stdout",
     "output_type": "stream",
     "text": [
      "Removed cells:  225\n",
      "DONE\n",
      "\n",
      "\n",
      "\n",
      "processing:  20210523\n"
     ]
    },
    {
     "name": "stderr",
     "output_type": "stream",
     "text": [
      "low pass filter: 100%|██████████| 1191/1191 [00:00<00:00, 2409.39it/s]\n",
      "model filter: remove bleaching or trends: 100%|██████████| 1191/1191 [00:05<00:00, 204.93it/s]\n",
      "1197it [00:06, 198.45it/s]                          \n",
      "binarizing continuous traces filtered fluorescence onphase: 100%|██████████| 1191/1191 [00:01<00:00, 964.48it/s] \n",
      "binarizing continuous traces filtered fluorescence upphase: 100%|██████████| 1191/1191 [00:02<00:00, 429.55it/s]\n"
     ]
    },
    {
     "name": "stdout",
     "output_type": "stream",
     "text": [
      "...saving data...\n",
      "   Queiscent periods (seconds):  1079.2\n",
      "   Running periods (seconds):  571.0333333333333\n",
      "... computing pairwise pearson correlation ...\n",
      " RASTERS IN:  (1191, 55740)\n",
      " BINNING WINDOW:  30\n"
     ]
    },
    {
     "name": "stderr",
     "output_type": "stream",
     "text": [
      "1200it [01:01, 19.36it/s]                          \n"
     ]
    },
    {
     "name": "stdout",
     "output_type": "stream",
     "text": [
      "... computing cell overlaps ...\n"
     ]
    },
    {
     "name": "stderr",
     "output_type": "stream",
     "text": [
      "100%|██████████| 30/30 [01:28<00:00,  2.95s/it]\n"
     ]
    },
    {
     "name": "stdout",
     "output_type": "stream",
     "text": [
      "Removed cells:  298\n",
      "DONE\n",
      "   Queiscent periods (seconds):  1079.2\n",
      "   Running periods (seconds):  571.0333333333333\n",
      "... computing pairwise pearson correlation ...\n",
      " RASTERS IN:  (1191, 17131)\n",
      " BINNING WINDOW:  30\n"
     ]
    },
    {
     "name": "stderr",
     "output_type": "stream",
     "text": [
      "1200it [00:19, 61.99it/s]                          \n"
     ]
    },
    {
     "name": "stdout",
     "output_type": "stream",
     "text": [
      "... computing cell overlaps ...\n"
     ]
    },
    {
     "name": "stderr",
     "output_type": "stream",
     "text": [
      "100%|██████████| 30/30 [01:28<00:00,  2.95s/it]\n"
     ]
    },
    {
     "name": "stdout",
     "output_type": "stream",
     "text": [
      "Removed cells:  273\n",
      "DONE\n",
      "   Queiscent periods (seconds):  1079.2\n",
      "   Running periods (seconds):  571.0333333333333\n",
      "... computing pairwise pearson correlation ...\n",
      " RASTERS IN:  (1191, 55740)\n",
      " BINNING WINDOW:  30\n"
     ]
    },
    {
     "name": "stderr",
     "output_type": "stream",
     "text": [
      "1200it [01:02, 19.11it/s]                          \n"
     ]
    },
    {
     "name": "stdout",
     "output_type": "stream",
     "text": [
      "... computing cell overlaps ...\n"
     ]
    },
    {
     "name": "stderr",
     "output_type": "stream",
     "text": [
      "100%|██████████| 30/30 [01:28<00:00,  2.95s/it]\n"
     ]
    },
    {
     "name": "stdout",
     "output_type": "stream",
     "text": [
      "Removed cells:  298\n",
      "DONE\n",
      "\n",
      "\n",
      "\n",
      "processing:  20210525\n"
     ]
    },
    {
     "name": "stderr",
     "output_type": "stream",
     "text": [
      "low pass filter: 100%|██████████| 1128/1128 [00:00<00:00, 2452.64it/s]\n",
      "model filter: remove bleaching or trends: 100%|██████████| 1128/1128 [00:05<00:00, 203.53it/s]\n",
      "1134it [00:05, 189.65it/s]                         \n",
      "binarizing continuous traces filtered fluorescence onphase: 100%|██████████| 1128/1128 [00:01<00:00, 875.11it/s]\n",
      "binarizing continuous traces filtered fluorescence upphase: 100%|██████████| 1128/1128 [00:03<00:00, 373.13it/s]\n"
     ]
    },
    {
     "name": "stdout",
     "output_type": "stream",
     "text": [
      "...saving data...\n",
      "   Queiscent periods (seconds):  1294.6333333333334\n",
      "   Running periods (seconds):  419.03333333333336\n",
      "... computing pairwise pearson correlation ...\n",
      " RASTERS IN:  (1128, 55740)\n",
      " BINNING WINDOW:  30\n"
     ]
    },
    {
     "name": "stderr",
     "output_type": "stream",
     "text": [
      "1134it [01:06, 17.15it/s]                          \n"
     ]
    },
    {
     "name": "stdout",
     "output_type": "stream",
     "text": [
      "... computing cell overlaps ...\n"
     ]
    },
    {
     "name": "stderr",
     "output_type": "stream",
     "text": [
      "100%|██████████| 30/30 [01:24<00:00,  2.81s/it]\n"
     ]
    },
    {
     "name": "stdout",
     "output_type": "stream",
     "text": [
      "Removed cells:  326\n",
      "DONE\n",
      "   Queiscent periods (seconds):  1294.6333333333334\n",
      "   Running periods (seconds):  419.03333333333336\n",
      "... computing pairwise pearson correlation ...\n",
      " RASTERS IN:  (1128, 12571)\n",
      " BINNING WINDOW:  30\n"
     ]
    },
    {
     "name": "stderr",
     "output_type": "stream",
     "text": [
      "1134it [00:17, 63.33it/s]                         \n"
     ]
    },
    {
     "name": "stdout",
     "output_type": "stream",
     "text": [
      "... computing cell overlaps ...\n"
     ]
    },
    {
     "name": "stderr",
     "output_type": "stream",
     "text": [
      "100%|██████████| 30/30 [01:24<00:00,  2.82s/it]\n"
     ]
    },
    {
     "name": "stdout",
     "output_type": "stream",
     "text": [
      "Removed cells:  280\n",
      "DONE\n",
      "   Queiscent periods (seconds):  1294.6333333333334\n",
      "   Running periods (seconds):  419.03333333333336\n",
      "... computing pairwise pearson correlation ...\n",
      " RASTERS IN:  (1128, 55740)\n",
      " BINNING WINDOW:  30\n"
     ]
    },
    {
     "name": "stderr",
     "output_type": "stream",
     "text": [
      "1134it [01:05, 17.20it/s]                          \n"
     ]
    },
    {
     "name": "stdout",
     "output_type": "stream",
     "text": [
      "... computing cell overlaps ...\n"
     ]
    },
    {
     "name": "stderr",
     "output_type": "stream",
     "text": [
      "100%|██████████| 30/30 [01:24<00:00,  2.82s/it]\n"
     ]
    },
    {
     "name": "stdout",
     "output_type": "stream",
     "text": [
      "Removed cells:  326\n",
      "DONE\n",
      "\n",
      "\n",
      "\n",
      "processing:  20210519\n"
     ]
    },
    {
     "name": "stderr",
     "output_type": "stream",
     "text": [
      "low pass filter: 100%|██████████| 1316/1316 [00:00<00:00, 2434.15it/s]\n",
      "model filter: remove bleaching or trends: 100%|██████████| 1316/1316 [00:06<00:00, 203.38it/s]\n",
      "1323it [00:06, 202.28it/s]                          \n",
      "binarizing continuous traces filtered fluorescence onphase: 100%|██████████| 1316/1316 [00:01<00:00, 908.42it/s] \n",
      "binarizing continuous traces filtered fluorescence upphase: 100%|██████████| 1316/1316 [00:03<00:00, 425.43it/s]\n"
     ]
    },
    {
     "name": "stdout",
     "output_type": "stream",
     "text": [
      "...saving data...\n",
      "   Queiscent periods (seconds):  1534.1333333333334\n",
      "   Running periods (seconds):  209.53333333333333\n",
      "... computing pairwise pearson correlation ...\n",
      " RASTERS IN:  (1316, 55740)\n",
      " BINNING WINDOW:  30\n"
     ]
    },
    {
     "name": "stderr",
     "output_type": "stream",
     "text": [
      "1320it [01:09, 18.86it/s]                          \n"
     ]
    },
    {
     "name": "stdout",
     "output_type": "stream",
     "text": [
      "... computing cell overlaps ...\n"
     ]
    },
    {
     "name": "stderr",
     "output_type": "stream",
     "text": [
      "100%|██████████| 30/30 [01:40<00:00,  3.37s/it]\n"
     ]
    },
    {
     "name": "stdout",
     "output_type": "stream",
     "text": [
      "Removed cells:  461\n",
      "DONE\n",
      "   Queiscent periods (seconds):  1534.1333333333334\n",
      "   Running periods (seconds):  209.53333333333333\n",
      "... computing pairwise pearson correlation ...\n",
      " RASTERS IN:  (1316, 6286)\n",
      " BINNING WINDOW:  30\n"
     ]
    },
    {
     "name": "stderr",
     "output_type": "stream",
     "text": [
      "1320it [00:06, 198.47it/s]                          \n"
     ]
    },
    {
     "name": "stdout",
     "output_type": "stream",
     "text": [
      "... computing cell overlaps ...\n"
     ]
    },
    {
     "name": "stderr",
     "output_type": "stream",
     "text": [
      "100%|██████████| 30/30 [01:41<00:00,  3.38s/it]\n"
     ]
    },
    {
     "name": "stdout",
     "output_type": "stream",
     "text": [
      "Removed cells:  333\n",
      "DONE\n",
      "   Queiscent periods (seconds):  1534.1333333333334\n",
      "   Running periods (seconds):  209.53333333333333\n",
      "... computing pairwise pearson correlation ...\n",
      " RASTERS IN:  (1316, 55740)\n",
      " BINNING WINDOW:  30\n"
     ]
    },
    {
     "name": "stderr",
     "output_type": "stream",
     "text": [
      "1320it [01:10, 18.66it/s]                          \n"
     ]
    },
    {
     "name": "stdout",
     "output_type": "stream",
     "text": [
      "... computing cell overlaps ...\n"
     ]
    },
    {
     "name": "stderr",
     "output_type": "stream",
     "text": [
      "100%|██████████| 30/30 [01:40<00:00,  3.35s/it]\n"
     ]
    },
    {
     "name": "stdout",
     "output_type": "stream",
     "text": [
      "Removed cells:  461\n",
      "DONE\n",
      "\n",
      "\n",
      "\n",
      "processing:  20210527\n"
     ]
    },
    {
     "name": "stderr",
     "output_type": "stream",
     "text": [
      "low pass filter: 100%|██████████| 1027/1027 [00:00<00:00, 2447.66it/s]\n",
      "model filter: remove bleaching or trends: 100%|██████████| 1027/1027 [00:05<00:00, 204.04it/s]\n",
      "1037it [00:05, 192.98it/s]                         \n",
      "binarizing continuous traces filtered fluorescence onphase: 100%|██████████| 1027/1027 [00:00<00:00, 1115.94it/s]\n",
      "binarizing continuous traces filtered fluorescence upphase: 100%|██████████| 1027/1027 [00:02<00:00, 419.56it/s]\n"
     ]
    },
    {
     "name": "stdout",
     "output_type": "stream",
     "text": [
      "...saving data...\n",
      "   Queiscent periods (seconds):  977.5333333333333\n",
      "   Running periods (seconds):  708.8\n",
      "... computing pairwise pearson correlation ...\n",
      " RASTERS IN:  (1027, 55740)\n",
      " BINNING WINDOW:  30\n"
     ]
    },
    {
     "name": "stderr",
     "output_type": "stream",
     "text": [
      "1035it [00:56, 18.21it/s]                          \n"
     ]
    },
    {
     "name": "stdout",
     "output_type": "stream",
     "text": [
      "... computing cell overlaps ...\n"
     ]
    },
    {
     "name": "stderr",
     "output_type": "stream",
     "text": [
      "100%|██████████| 30/30 [01:16<00:00,  2.54s/it]\n"
     ]
    },
    {
     "name": "stdout",
     "output_type": "stream",
     "text": [
      "Removed cells:  220\n",
      "DONE\n",
      "   Queiscent periods (seconds):  977.5333333333333\n",
      "   Running periods (seconds):  708.8\n",
      "... computing pairwise pearson correlation ...\n",
      " RASTERS IN:  (1027, 21264)\n",
      " BINNING WINDOW:  30\n"
     ]
    },
    {
     "name": "stderr",
     "output_type": "stream",
     "text": [
      "1035it [00:23, 44.33it/s]                         \n"
     ]
    },
    {
     "name": "stdout",
     "output_type": "stream",
     "text": [
      "... computing cell overlaps ...\n"
     ]
    },
    {
     "name": "stderr",
     "output_type": "stream",
     "text": [
      "100%|██████████| 30/30 [01:16<00:00,  2.56s/it]\n"
     ]
    },
    {
     "name": "stdout",
     "output_type": "stream",
     "text": [
      "Removed cells:  198\n",
      "DONE\n",
      "   Queiscent periods (seconds):  977.5333333333333\n",
      "   Running periods (seconds):  708.8\n",
      "... computing pairwise pearson correlation ...\n",
      " RASTERS IN:  (1027, 55740)\n",
      " BINNING WINDOW:  30\n"
     ]
    },
    {
     "name": "stderr",
     "output_type": "stream",
     "text": [
      "1035it [00:57, 18.04it/s]                         \n"
     ]
    },
    {
     "name": "stdout",
     "output_type": "stream",
     "text": [
      "... computing cell overlaps ...\n"
     ]
    },
    {
     "name": "stderr",
     "output_type": "stream",
     "text": [
      "100%|██████████| 30/30 [01:16<00:00,  2.54s/it]\n"
     ]
    },
    {
     "name": "stdout",
     "output_type": "stream",
     "text": [
      "Removed cells:  220\n",
      "DONE\n",
      "\n",
      "\n",
      "\n",
      "processing:  20210522\n"
     ]
    },
    {
     "name": "stderr",
     "output_type": "stream",
     "text": [
      "low pass filter: 100%|██████████| 1603/1603 [00:00<00:00, 2443.90it/s]\n",
      "model filter: remove bleaching or trends: 100%|██████████| 1603/1603 [00:07<00:00, 204.80it/s]\n",
      "1612it [00:08, 195.21it/s]                          \n",
      "binarizing continuous traces filtered fluorescence onphase: 100%|██████████| 1603/1603 [00:01<00:00, 928.16it/s] \n",
      "binarizing continuous traces filtered fluorescence upphase: 100%|██████████| 1603/1603 [00:03<00:00, 405.09it/s]\n"
     ]
    },
    {
     "name": "stdout",
     "output_type": "stream",
     "text": [
      "...saving data...\n",
      "   Queiscent periods (seconds):  1001.5666666666667\n",
      "   Running periods (seconds):  695.9\n",
      "... computing pairwise pearson correlation ...\n",
      " RASTERS IN:  (1603, 55740)\n",
      " BINNING WINDOW:  30\n"
     ]
    },
    {
     "name": "stderr",
     "output_type": "stream",
     "text": [
      "1612it [01:28, 18.15it/s]                          \n"
     ]
    },
    {
     "name": "stdout",
     "output_type": "stream",
     "text": [
      "... computing cell overlaps ...\n"
     ]
    },
    {
     "name": "stderr",
     "output_type": "stream",
     "text": [
      "100%|██████████| 30/30 [02:15<00:00,  4.51s/it]\n"
     ]
    },
    {
     "name": "stdout",
     "output_type": "stream",
     "text": [
      "Removed cells:  573\n",
      "DONE\n",
      "   Queiscent periods (seconds):  1001.5666666666667\n",
      "   Running periods (seconds):  695.9\n",
      "... computing pairwise pearson correlation ...\n",
      " RASTERS IN:  (1603, 20877)\n",
      " BINNING WINDOW:  30\n"
     ]
    },
    {
     "name": "stderr",
     "output_type": "stream",
     "text": [
      "1612it [00:35, 45.59it/s]                          \n"
     ]
    },
    {
     "name": "stdout",
     "output_type": "stream",
     "text": [
      "... computing cell overlaps ...\n"
     ]
    },
    {
     "name": "stderr",
     "output_type": "stream",
     "text": [
      "100%|██████████| 30/30 [02:13<00:00,  4.45s/it]\n"
     ]
    },
    {
     "name": "stdout",
     "output_type": "stream",
     "text": [
      "Removed cells:  512\n",
      "DONE\n",
      "   Queiscent periods (seconds):  1001.5666666666667\n",
      "   Running periods (seconds):  695.9\n",
      "... computing pairwise pearson correlation ...\n",
      " RASTERS IN:  (1603, 55740)\n",
      " BINNING WINDOW:  30\n"
     ]
    },
    {
     "name": "stderr",
     "output_type": "stream",
     "text": [
      "1612it [01:29, 18.02it/s]                          \n"
     ]
    },
    {
     "name": "stdout",
     "output_type": "stream",
     "text": [
      "... computing cell overlaps ...\n"
     ]
    },
    {
     "name": "stderr",
     "output_type": "stream",
     "text": [
      "  0%|          | 0/30 [00:00<?, ?it/s]"
     ]
    }
   ],
   "source": [
    "############################################\n",
    "################# Load data ################\n",
    "############################################\n",
    "\n",
    "#turn off plotting or multiprocessing will crash\n",
    "plt.switch_backend('agg')\n",
    "\n",
    "#\n",
    "def get_sessions_from_directory_listing(root_dir,\n",
    "                                       animal_id):\n",
    "    \n",
    "    sessions = os.listdir(root_dir+animal_id)\n",
    "    print (\"sessions: \", sessions)\n",
    "    \n",
    "    return sessions\n",
    "    \n",
    "#\n",
    "animal_ids = [\n",
    "    \n",
    "    'DON-002865',\n",
    "    'DON-003165',\n",
    "    'DON-003343',\n",
    "            \n",
    "    'DON-006084',\n",
    "    'DON-006085',\n",
    "    'DON-006087',\n",
    "    \n",
    "\n",
    "#     'DON-008497',\n",
    "#     'DON-008498',\n",
    "#     'DON-008499',\n",
    "    \n",
    "    # 'DON-009191',\n",
    "    # 'DON-009192',\n",
    "    # 'DON-010473',\n",
    "    # 'DON-010477',\n",
    "    \n",
    "\n",
    "       \n",
    "    \n",
    "    \n",
    "]\n",
    "              \n",
    "############################################\n",
    "############################################\n",
    "############################################\n",
    "root_dir = '/media/cat/4TB/donato/'\n",
    "dir_ = '/002P-F/tif/'\n",
    "\n",
    "#\n",
    "for animal_id in animal_ids:\n",
    "\n",
    "    #\n",
    "    print (\"Processing: \", animal_id)\n",
    "\n",
    "    #\n",
    "    sessions = get_sessions_from_directory_listing(root_dir,\n",
    "                                                  animal_id)\n",
    "\n",
    "    #\n",
    "    for session in sessions:\n",
    "        #\n",
    "        fname_check  =  os.path.join(root_dir, \n",
    "                                     animal_id, \n",
    "                                     session+dir_, 'suite2p','plane0',\n",
    "                                     'goodcell_correlations_array_post_deduplication_filtered.npy'\n",
    "                                      )\n",
    "\n",
    "        #\n",
    "        #if os.path.exists(fname_check):\n",
    "        #   continue\n",
    "\n",
    "        #\n",
    "        #try: \n",
    "        try:\n",
    "            #\n",
    "            print ('')\n",
    "            print ('')\n",
    "            print ('')\n",
    "            print (\"processing: \", session)\n",
    "\n",
    "            #if session != '20220302':\n",
    "            #    continue\n",
    "\n",
    "            c = calcium.Calcium()\n",
    "            c.root_dir = root_dir\n",
    "            c.data_dir = os.path.join(root_dir, animal_id, session+dir_, 'suite2p','plane0')\n",
    "            c.animal_id = animal_id\n",
    "            c.session = session\n",
    "            c.detrend_model_order = 1\n",
    "            c.n_cores = 26\n",
    "            \n",
    "            #\n",
    "            c.load_suite2p()           #note: this already deletes the non-trusted suite2p cells\n",
    "            c.save_python = True\n",
    "            c.save_matlab = False\n",
    "\n",
    "            # \n",
    "            c.min_width_event_onphase = 30\n",
    "            c.min_width_event_upphase = 10\n",
    "            c.recompute_binarization = True\n",
    "\n",
    "            # not used currently\n",
    "            c.dff_min = 0.02   #this is the final threshold required by putative spikes\n",
    "            c.percentile_threshold = 0.999999\n",
    "            c.use_upphase = True\n",
    "\n",
    "            #\n",
    "            c.show_plots =False\n",
    "            c.save_plots = True\n",
    "            c.remove_ends = False                     # delete the first and last x seconds in case [ca] imaging had issues\n",
    "            c.detrend_filter_threshold = 0.001\n",
    "            c.mode_window = 30*60  # None: compute mode on entire time; Value: sliding window based - baseline detection # of frames to use to compute mode\n",
    "\n",
    "            #\n",
    "            c.load_binarization()   \n",
    "            c.save_sample_traces()\n",
    "            c.show_rasters(save_image=True)\n",
    "\n",
    "            #\n",
    "            binarization_method = 'upphase'\n",
    "            if binarization_method=='onphase':\n",
    "                traces = c.F_onphase_bin\n",
    "            elif binarization_method=='upphase':\n",
    "                traces = c.F_upphase_bin\n",
    "            else:\n",
    "                print (\"METHOD NOT FOUND\")\n",
    "\n",
    "            \n",
    "            ###################################################################\n",
    "            ########## cleanup cells + compute pairwise correlations ##########\n",
    "            ###################################################################\n",
    "            #c.zscore = True                     # here we compute correlations based on N shuffles of the data and zscore\n",
    "            for z in [[False,False],[True, False],[False,True]]:\n",
    "                ###################################################################\n",
    "                c.subselect_moving_only = z[0]\n",
    "                c.subselect_quiescent_only = z[0]\n",
    "                #c.subselect_moving_only = False\n",
    "                #c.subselect_quiescent_only = False\n",
    "                c.corr_parallel_flag = True\n",
    "                c.zscore = True                     # here we compute correlations based on N shuffles of the data and zscore\n",
    "                                                    # otherwise we save the raw correlation also\n",
    "                c.n_tests_zscore = 1000\n",
    "\n",
    "                #\n",
    "                c.correlation_datatype = 'upphase'      # filtered vs. upphase\n",
    "\n",
    "                # \n",
    "                c.n_cores = 32\n",
    "                c.recompute_correlation = False\n",
    "                c.binning_window = 30        # binning window in frames\n",
    "                c.subsample = 1              # subsample traces by this factor\n",
    "                c.scale_by_DFF = True        # scale traces by DFF\n",
    "                c.shuffle_data = False       # shuffle traces before computing correlations \n",
    "                c.compute_correlations()\n",
    "\n",
    "                # remove duplicate neurons requires correlation array to be computed first; it uses physical overalp but also correlation threshold\n",
    "\n",
    "                #\n",
    "                c.load_footprints()\n",
    "                c.deduplication_method = 'overlap'      # 'overlap'; 'centre_distance'\n",
    "                c.corr_min_distance = 8                 # min distance for centre_distance method - NOT USED HERE\n",
    "                c.corr_max_percent_overlap = 0.25       # max overlap for overlap method\n",
    "                c.corr_threshold = 0.3                  # max correlation allowed for high overlap\n",
    "                c.zscore_threshold = 3.0                # zscore threshold for high overlap\n",
    "\n",
    "                #  \n",
    "                c.corr_delete_method = 'lowest_snr' #'highest_connected', lowest_snr'\n",
    "                c.recompute_deduplication = True\n",
    "                c.remove_duplicate_neurons()     # this removes duplicate neurons and saves non-duplicate version of correlation array\n",
    "\n",
    "                #\n",
    "                print (\"DONE\")\n",
    "        \n",
    "        #\n",
    "        except:\n",
    "           print (\"... errror loading : \", session, \" \", animal_id)\n",
    "\n",
    "print (\"DONE...\")"
   ]
  },
  {
   "cell_type": "code",
   "execution_count": 11,
   "id": "60dd4c97-d18b-482a-a38d-19040213a39e",
   "metadata": {},
   "outputs": [
    {
     "name": "stdout",
     "output_type": "stream",
     "text": [
      "cell_id:  0\n",
      "pearson corr vals:  (1064,)\n",
      "pearson corr pvals:  (1064,)\n",
      "zscore of pearson corr:  (1064,)\n",
      "example pearson corrs:  [16.07442935 -0.2370579   0.49291748 ... -0.90986091 -0.2395688\n",
      "         nan]\n"
     ]
    }
   ],
   "source": [
    "import numpy as np\n",
    "d = np.load('/home/cat/Downloads/0.npz')\n",
    "\n",
    "#\n",
    "print (\"cell_id: \", d['id'])\n",
    "print (\"pearson corr vals: \", d[\"pearson_corr\"].shape)\n",
    "print (\"pearson corr pvals: \", d[\"pvalue_pearson_corr\"].shape)\n",
    "print (\"zscore of pearson corr: \", d[\"z_score_pearson_corr\"].shape)\n",
    "\n",
    "#\n",
    "print (\"example pearson corrs: \", d[\"z_score_pearson_corr\"])\n"
   ]
  },
  {
   "cell_type": "code",
   "execution_count": null,
   "id": "d5104402-0657-495f-a088-10a9a1977c67",
   "metadata": {},
   "outputs": [],
   "source": []
  },
  {
   "cell_type": "code",
   "execution_count": null,
   "id": "fa8f3370-16b4-4d9a-ab2e-bd6d1c4c4aed",
   "metadata": {},
   "outputs": [],
   "source": []
  },
  {
   "cell_type": "code",
   "execution_count": null,
   "id": "6ee294e9-95e1-49e5-a755-e9c1996d867d",
   "metadata": {},
   "outputs": [],
   "source": []
  }
 ],
 "metadata": {
  "kernelspec": {
   "display_name": "Python 3",
   "language": "python",
   "name": "python3"
  },
  "language_info": {
   "codemirror_mode": {
    "name": "ipython",
    "version": 3
   },
   "file_extension": ".py",
   "mimetype": "text/x-python",
   "name": "python",
   "nbconvert_exporter": "python",
   "pygments_lexer": "ipython3",
   "version": "3.8.15"
  }
 },
 "nbformat": 4,
 "nbformat_minor": 5
}
