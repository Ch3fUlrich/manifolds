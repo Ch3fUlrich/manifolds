{
 "cells": [
  {
   "cell_type": "code",
   "execution_count": 1,
   "id": "8f98c6b4-4a90-4f64-adae-4ce2b75e4d57",
   "metadata": {},
   "outputs": [
    {
     "data": {
      "application/javascript": [
       "IPython.notebook.set_autosave_interval(180000)"
      ]
     },
     "metadata": {},
     "output_type": "display_data"
    },
    {
     "name": "stdout",
     "output_type": "stream",
     "text": [
      "Autosaving every 180 seconds\n"
     ]
    },
    {
     "name": "stderr",
     "output_type": "stream",
     "text": [
      "<ipython-input-1-e4476ecac24a>:12: DeprecationWarning: Importing display from IPython.core.display is deprecated since IPython 7.14, please import from IPython display\n",
      "  from IPython.core.display import display, HTML\n"
     ]
    },
    {
     "data": {
      "text/html": [
       "<style>.container { width:100% !important; }</style>"
      ],
      "text/plain": [
       "<IPython.core.display.HTML object>"
      ]
     },
     "metadata": {},
     "output_type": "display_data"
    },
    {
     "name": "stderr",
     "output_type": "stream",
     "text": [
      "/home/cat/.conda/envs/donato/lib/python3.8/site-packages/tqdm/auto.py:22: TqdmWarning: IProgress not found. Please update jupyter and ipywidgets. See https://ipywidgets.readthedocs.io/en/stable/user_install.html\n",
      "  from .autonotebook import tqdm as notebook_tqdm\n"
     ]
    }
   ],
   "source": [
    "import matplotlib\n",
    "%matplotlib tk\n",
    "%autosave 180\n",
    "%load_ext autoreload\n",
    "%autoreload 2\n",
    "\n",
    "import nest_asyncio\n",
    "%config Completer.use_jedi = False\n",
    "\n",
    "#\n",
    "import matplotlib.pyplot as plt\n",
    "from IPython.core.display import display, HTML\n",
    "display(HTML(\"<style>.container { width:100% !important; }</style>\"))\n",
    "\n",
    "# \n",
    "import numpy as np\n",
    "import os\n",
    "import scipy\n",
    "\n",
    "# add root directory to be able to import packages\n",
    "# todo: make all packages installable so they can be called/imported by environment\n",
    "import sys\n",
    "module_path = os.path.abspath(os.path.join('..'))\n",
    "sys.path.append(module_path)\n",
    "\n",
    "from utils.calcium import calcium\n"
   ]
  },
  {
   "cell_type": "code",
   "execution_count": 33,
   "id": "8b7b4d1d-df1a-4bdf-9d20-ac79ead6dc2f",
   "metadata": {},
   "outputs": [
    {
     "name": "stdout",
     "output_type": "stream",
     "text": [
      "(583, 583)\n"
     ]
    }
   ],
   "source": [
    "fname = '/media/cat/4TB/donato/DON-009192/20220319/002P-F/tif/suite2p/plane0/goodcell_correlations_array_post_deduplication_filtered.npy'\n",
    "d = np.load(fname)\n",
    "print (d.shape)\n",
    "\n",
    "plt.figure()\n",
    "plt.imshow(d)\n",
    "cbar = plt.colorbar()\n",
    "cbar.set_label('Correlation', rotation=90)\n",
    "\n",
    "plt.suptitle(os.path.split(fname)[0])\n",
    "plt.xlabel(\"Neuron ID\")\n",
    "plt.ylabel(\"Neuron ID\")\n",
    "plt.show()"
   ]
  },
  {
   "cell_type": "code",
   "execution_count": 25,
   "id": "2c07ea74-b0b1-4366-8344-26e5587fe752",
   "metadata": {},
   "outputs": [],
   "source": [
    "plt.figure()\n",
    "plt.hist(d.flatten(), bins=np.arange(-1,1,0.1),width=0.09)\n",
    "plt.suptitle(os.path.split(fname)[0])\n",
    "plt.xlabel(\"pairwise correlation\")\n",
    "plt.show()"
   ]
  },
  {
   "cell_type": "code",
   "execution_count": 32,
   "id": "8a10b011-9b31-4736-89d8-a58d8de82440",
   "metadata": {},
   "outputs": [
    {
     "name": "stdout",
     "output_type": "stream",
     "text": [
      "(841, 134771)\n"
     ]
    }
   ],
   "source": [
    "#\n",
    "d = np.load('/media/cat/4TB/donato/DON-009192/20220319/002P-F/tif/suite2p/plane0/binarized_traces.npz', allow_pickle=True)\n",
    "\n",
    "#\n",
    "F_filtered = d['F_filtered']\n",
    "print (F_filtered.shape)\n",
    "\n",
    "#\n",
    "plt.figure()\n",
    "t = np.arange(F_filtered[0].shape[0])/30./60.\n",
    "for k in range(20):\n",
    "    plt.plot(t,F_filtered[k]+k*1000)\n",
    "    \n",
    "    #y = F_filtered[k]\n",
    "    #y = y - np.median(y)\n",
    "    \n",
    "    #plt.plot(t, y +k*1000)\n",
    "    \n",
    "    \n",
    "plt.xlabel(\"Time (mins)\")\n",
    "plt.ylabel(\"Filtered [ca] time series\")\n",
    "plt.show()\n",
    "\n"
   ]
  },
  {
   "cell_type": "code",
   "execution_count": null,
   "id": "a8901bbc-e5fe-468b-a7e1-4bf0b6dfa0de",
   "metadata": {},
   "outputs": [],
   "source": []
  },
  {
   "cell_type": "code",
   "execution_count": null,
   "id": "302a0cd5-f775-4de3-af16-c43ee9fca702",
   "metadata": {},
   "outputs": [],
   "source": []
  },
  {
   "cell_type": "code",
   "execution_count": null,
   "id": "586d15b3-2cba-4110-a764-d2365b709779",
   "metadata": {},
   "outputs": [],
   "source": []
  },
  {
   "cell_type": "code",
   "execution_count": null,
   "id": "c8615c65-eec8-4da5-8d4d-b37482021ad8",
   "metadata": {},
   "outputs": [],
   "source": []
  }
 ],
 "metadata": {
  "kernelspec": {
   "display_name": "Python 3",
   "language": "python",
   "name": "python3"
  },
  "language_info": {
   "codemirror_mode": {
    "name": "ipython",
    "version": 3
   },
   "file_extension": ".py",
   "mimetype": "text/x-python",
   "name": "python",
   "nbconvert_exporter": "python",
   "pygments_lexer": "ipython3",
   "version": "3.8.15"
  }
 },
 "nbformat": 4,
 "nbformat_minor": 5
}
