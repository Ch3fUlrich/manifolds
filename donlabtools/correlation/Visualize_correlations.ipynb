{
 "cells": [
  {
   "cell_type": "code",
   "execution_count": 1,
   "id": "8f98c6b4-4a90-4f64-adae-4ce2b75e4d57",
   "metadata": {},
   "outputs": [
    {
     "data": {
      "application/javascript": "IPython.notebook.set_autosave_interval(180000)"
     },
     "metadata": {},
     "output_type": "display_data"
    },
    {
     "name": "stdout",
     "output_type": "stream",
     "text": [
      "Autosaving every 180 seconds\n"
     ]
    },
    {
     "name": "stderr",
     "output_type": "stream",
     "text": [
      "<ipython-input-1-2e45c8c5d139>:12: DeprecationWarning: Importing display from IPython.core.display is deprecated since IPython 7.14, please import from IPython display\n",
      "  from IPython.core.display import display, HTML\n"
     ]
    },
    {
     "data": {
      "text/html": [
       "<style>.container { width:100% !important; }</style>"
      ],
      "text/plain": [
       "<IPython.core.display.HTML object>"
      ]
     },
     "metadata": {},
     "output_type": "display_data"
    },
    {
     "name": "stderr",
     "output_type": "stream",
     "text": [
      "/home/cat/.conda/envs/donato/lib/python3.8/site-packages/tqdm/auto.py:22: TqdmWarning: IProgress not found. Please update jupyter and ipywidgets. See https://ipywidgets.readthedocs.io/en/stable/user_install.html\n",
      "  from .autonotebook import tqdm as notebook_tqdm\n"
     ]
    }
   ],
   "source": [
    "import matplotlib\n",
    "%matplotlib tk\n",
    "%autosave 180\n",
    "%load_ext autoreload\n",
    "%autoreload 2\n",
    "\n",
    "import nest_asyncio\n",
    "%config Completer.use_jedi = False\n",
    "\n",
    "#\n",
    "import matplotlib.pyplot as plt\n",
    "from IPython.core.display import display, HTML\n",
    "display(HTML(\"<style>.container { width:100% !important; }</style>\"))\n",
    "\n",
    "# \n",
    "import numpy as np\n",
    "import os\n",
    "import scipy\n",
    "\n",
    "# add root directory to be able to import packages\n",
    "# todo: make all packages installable so they can be called/imported by environment\n",
    "import sys\n",
    "module_path = os.path.abspath(os.path.join('..'))\n",
    "sys.path.append(module_path)\n",
    "\n",
    "from utils.calcium import calcium\n",
    "\n",
    "from utils2 import VisualizeCorrelations"
   ]
  },
  {
   "cell_type": "code",
   "execution_count": 8,
   "id": "8b7b4d1d-df1a-4bdf-9d20-ac79ead6dc2f",
   "metadata": {},
   "outputs": [
    {
     "name": "stdout",
     "output_type": "stream",
     "text": [
      "# of non-nan values:  10253 , as percent of total:  0.03880830898272495\n",
      "correlation array:  (514, 514)\n"
     ]
    }
   ],
   "source": [
    "###########################################################\n",
    "################## VISUALIZE CORRELATION ARRAY ############\n",
    "###########################################################\n",
    "#\n",
    "#root_dir = '/media/cat/4TB/donato/'\n",
    "root_dir = '/run/user/1000/gvfs/smb-share:server=toucan-all.scicore.unibas.ch,share=donafl00-calcium$/Users/Rodrigo/2021/'\n",
    "#animal_id = 'DON-002865'\n",
    "animal_id = 'DON-006084'\n",
    "#animal_id = 'DON-006085'\n",
    "#animal_id = 'DON-006087'\n",
    "#animal_id = 'DON-003165'\n",
    "#animal_id = 'DON-003343'\n",
    "\n",
    "#session = 'DON-002865_20210210'\n",
    "session = '20210523'\n",
    "#session = '20210601'\n",
    "#session = 'DON-003343_20210220'\n",
    "\n",
    "#\n",
    "vc = VisualizeCorrelations(root_dir, animal_id, session)\n",
    "vc.pval_threshold = 0.05\n",
    "vc.pearson_threshold = 0.3\n",
    "\n",
    "# use zscoring to extract networks\n",
    "vc.zscore = True\n",
    "vc.zscore_threshold = 5\n",
    "\n",
    "# select which behavior state to load \n",
    "vc.subselect_moving_only = False\n",
    "vc.subselect_quiescent_only = False\n",
    "\n",
    "#\n",
    "vc.shuffle = False\n",
    "\n",
    "# select which correlation type to load; dynamic: uses z-scored data; static: uses raw pearson correlation with a threshold\n",
    "#vc.dynamic_corr_flag = True\n",
    "\n",
    "#\n",
    "vc.load_corrs()\n",
    "\n",
    "#\n",
    "print (\"correlation array: \", vc.corrs.shape)"
   ]
  },
  {
   "cell_type": "code",
   "execution_count": 4,
   "id": "2c07ea74-b0b1-4366-8344-26e5587fe752",
   "metadata": {},
   "outputs": [],
   "source": [
    "###########################################################\n",
    "############# VISUALIZE HISTOGRAM OF CORR VALS ############\n",
    "###########################################################\n",
    "\n",
    "vc.show_histogram()\n"
   ]
  },
  {
   "cell_type": "code",
   "execution_count": 5,
   "id": "176afa1c",
   "metadata": {},
   "outputs": [],
   "source": [
    "###########################################################\n",
    "################## VISUALIZE NETWORKS #####################\n",
    "###########################################################\n",
    "#\n",
    "#vc.threshold = 0.3\n",
    "\n",
    "#\n",
    "vc.plot_graph_degree()\n"
   ]
  },
  {
   "cell_type": "code",
   "execution_count": 6,
   "id": "fe00671f",
   "metadata": {},
   "outputs": [
    {
     "name": "stdout",
     "output_type": "stream",
     "text": [
      "Number of nodes: 489\n",
      "Number of edges: 5109\n",
      "Number of nodes: 489\n",
      "Number of edges: 5109\n",
      "Number of single isolates: 0\n",
      "Graph density (manual): 0.04281906869154179\n"
     ]
    }
   ],
   "source": [
    "###########################################################\n",
    "################## VISUALIZE NETWORKS #####################\n",
    "###########################################################\n",
    "\n",
    "# plot the network using the corr array using networkx module\n",
    "import networkx as nx\n",
    "\n",
    "#\n",
    "vc.subsample = 3310\n",
    "vc.remove_isolates = False\n",
    "vc.threshold = 0.3\n",
    "\n",
    "#\n",
    "vc.plot_network()"
   ]
  },
  {
   "cell_type": "code",
   "execution_count": null,
   "id": "5c3451ae",
   "metadata": {},
   "outputs": [],
   "source": []
  },
  {
   "cell_type": "code",
   "execution_count": null,
   "id": "50eba5a8",
   "metadata": {},
   "outputs": [],
   "source": []
  },
  {
   "cell_type": "code",
   "execution_count": null,
   "id": "150b8459",
   "metadata": {},
   "outputs": [],
   "source": []
  },
  {
   "cell_type": "code",
   "execution_count": 23,
   "id": "1e28e90a",
   "metadata": {},
   "outputs": [
    {
     "name": "stdout",
     "output_type": "stream",
     "text": [
      "upphase:  (399, 55740)\n",
      "(299, 299)\n",
      "[[0. 0. 0. ... 0. 0. 0.]\n",
      " [0. 0. 0. ... 0. 0. 0.]\n",
      " [0. 0. 0. ... 0. 0. 0.]\n",
      " ...\n",
      " [0. 0. 0. ... 0. 0. 0.]\n",
      " [0. 0. 0. ... 0. 0. 0.]\n",
      " [0. 0. 0. ... 0. 0. 0.]]\n"
     ]
    }
   ],
   "source": [
    "upphase = np.load(os.path.split(fname)[0]+'/binarized_traces.npz',\n",
    "                  allow_pickle=True)['F_upphase']\n",
    "\n",
    "# delete idx_del from upphase\n",
    "upphase = np.delete(upphase, idx_del, axis=0)\n",
    "print (\"upphase: \", upphase.shape)\n",
    "\n",
    "print (corrs.shape)\n",
    "#print (corrs[0])\n",
    "\n",
    "cell_id = 1\n",
    "\n",
    "threshold = 0.3\n",
    "#idx = np.where(corrs[cell_id]>threshold)[0]\n",
    "\n",
    "# order the corrs by value\n",
    "best_cells = np.argsort(corrs[cell_id])[::-1][:20]\n",
    "\n",
    "#\n",
    "n_plots = 10\n",
    "fps = 30\n",
    "window = 30\n",
    "\n",
    "# plot the cell Id and all the other cells that are correlated with it\n",
    "plt.figure()\n",
    "t = np.arange(upphase.shape[1])/fps\n",
    "# select 10 random ids from the size of corrs\n",
    "cell_ids = np.random.randint(0,corrs.shape[0],n_plots)\n",
    "\n",
    "# choose randomly 10 cells from best_cells\n",
    "cell_ids = np.random.choice(best_cells, n_plots, replace=False)\n",
    "\n",
    "ctr=0\n",
    "for k in cell_ids:\n",
    "    ax=plt.subplot(n_plots,1,ctr+1)\n",
    "    \n",
    "    upphase_cell = upphase[cell_id].copy()\n",
    "    upphase_selected = upphase[k].copy()\n",
    "\n",
    "    plt.plot(t,upphase_selected,c='blue')\n",
    "    plt.plot(t,upphase_cell/2,c='black')\n",
    "  \n",
    "    # plot the correlation value as y label\n",
    "    plt.ylabel(\"#\" +str(k)+'\\n'+\n",
    "                \"pcorr: \"+str(np.round(corrs[cell_id][k],2))+', '\n",
    "               #+str(np.round(corr_re[0],2))\n",
    "               #+\"\\n\"+str(np.round(corr_deleted[0],2))\n",
    "               , fontsize=10)\n",
    "    if ctr<9:\n",
    "        plt.xticks([])\n",
    "    #\n",
    "    plt.yticks([])\n",
    "\n",
    "    #\n",
    "    ctr+=1\n",
    "\n",
    "    #\n",
    "    plt.xlim(t[0],t[-1])\n",
    "#\n",
    "plt.suptitle(\"Cell id \"+str(cell_id), fontsize=20)\n",
    "plt.xlabel(\"Time (sec)\")\n",
    "plt.show()\n",
    "\n",
    "print (corrs)\n"
   ]
  },
  {
   "cell_type": "code",
   "execution_count": null,
   "id": "67eeda4b",
   "metadata": {},
   "outputs": [],
   "source": []
  },
  {
   "cell_type": "code",
   "execution_count": null,
   "id": "ea5cd590",
   "metadata": {},
   "outputs": [],
   "source": []
  },
  {
   "cell_type": "code",
   "execution_count": null,
   "id": "69a87b02",
   "metadata": {},
   "outputs": [],
   "source": []
  },
  {
   "cell_type": "code",
   "execution_count": 45,
   "id": "8a10b011-9b31-4736-89d8-a58d8de82440",
   "metadata": {},
   "outputs": [
    {
     "name": "stdout",
     "output_type": "stream",
     "text": [
      "(841, 134771)\n"
     ]
    }
   ],
   "source": [
    "#\n",
    "d = np.load('/media/cat/4TB/donato/DON-009192/20220319/002P-F/tif/suite2p/plane0/binarized_traces.npz', allow_pickle=True)\n",
    "\n",
    "#\n",
    "F_filtered = d['F_filtered']\n",
    "print (F_filtered.shape)\n",
    "\n",
    "#\n",
    "plt.figure()\n",
    "t = np.arange(F_filtered[0].shape[0])/30./60.\n",
    "for k in range(20):\n",
    "    plt.plot(t,F_filtered[k]+k*1)\n",
    "    \n",
    "   \n",
    "plt.xlabel(\"Time (mins)\")\n",
    "plt.ylabel(\"Filtered [ca] time series\")\n",
    "plt.show()\n",
    "\n"
   ]
  },
  {
   "cell_type": "code",
   "execution_count": 52,
   "id": "a8901bbc-e5fe-468b-a7e1-4bf0b6dfa0de",
   "metadata": {},
   "outputs": [
    {
     "name": "stdout",
     "output_type": "stream",
     "text": [
      "(32, 32)\n"
     ]
    },
    {
     "data": {
      "image/png": "[encoded data removed]",
      "text/plain": [
       "<Figure size 432x288 with 3 Axes>"
      ]
     },
     "metadata": {
      "needs_background": "light"
     },
     "output_type": "display_data"
    }
   ],
   "source": [
    "import numpy as np\n",
    "import matplotlib.pyplot as plt\n",
    "import cv2\n",
    "\n",
    "d = np.load('/media/cat/4TB/donato/nathalie/DON-007021/FS9/cell_analysis/36.npy', allow_pickle=True).item()\n",
    "\n",
    "# D['cell_id'] = cell_id\n",
    "# D[\"overlaps\"] = overlaps\n",
    "# D[\"spatial_info\"] = spatial_infos\n",
    "# D[\"spatial_info_zscores\"] = spatial_info_zscores\n",
    "# D[\"coherence\"] = cohs\n",
    "# D[\"fields_map_split\"] = fields_map_split\n",
    "# D[\"res_array\"] = res_array\n",
    "# D[\"rms_split\"] = rms_split\n",
    "# D['rms_all'] = rms_all\n",
    "# D['fields_map_all'] = fields_map_all\n",
    "\n",
    "#\n",
    "rms_all = d['rms_all'][0]\n",
    "\n",
    "#\n",
    "fields_map_split = d['fields_map_split'][0]\n",
    "print (fields_map_split.shape)\n",
    "#\n",
    "\n",
    "# plot this entry\n",
    "plt.figure()\n",
    "ax = plt.subplot(131)\n",
    "plt.imshow(field)\n",
    "\n",
    "ax=plt.subplot(132)\n",
    "plt.imshow(fields_map_split)\n",
    "\n",
    "# extract the contour of the fields_map_split image\n",
    "ax=plt.subplot(133)\n",
    "\n",
    "\n",
    "binary_image = (fields_map_split * 255).astype(np.uint8)\n",
    "\n",
    "# find contours\n",
    "contours, _ = cv2.findContours(binary_image, cv2.RETR_TREE, cv2.CHAIN_APPROX_SIMPLE)\n",
    "\n",
    "# create an empty image to draw the contours\n",
    "contour_image = np.zeros_like(binary_image)\n",
    "\n",
    "# draw the contours on the empty image\n",
    "cv2.drawContours(contour_image, contours, -1, (255), 1)\n",
    "\n",
    "# show the image\n",
    "plt.imshow(contour_image, cmap='gray')\n",
    "\n",
    "\n",
    "plt.xlim(0,32)\n",
    "plt.ylim(32,0)\n",
    "plt.show()"
   ]
  },
  {
   "cell_type": "code",
   "execution_count": null,
   "id": "302a0cd5-f775-4de3-af16-c43ee9fca702",
   "metadata": {},
   "outputs": [],
   "source": []
  },
  {
   "cell_type": "code",
   "execution_count": null,
   "id": "586d15b3-2cba-4110-a764-d2365b709779",
   "metadata": {},
   "outputs": [],
   "source": []
  },
  {
   "cell_type": "code",
   "execution_count": null,
   "id": "c8615c65-eec8-4da5-8d4d-b37482021ad8",
   "metadata": {},
   "outputs": [],
   "source": []
  }
 ],
 "metadata": {
  "kernelspec": {
   "display_name": "Python 3",
   "language": "python",
   "name": "python3"
  },
  "language_info": {
   "codemirror_mode": {
    "name": "ipython",
    "version": 3
   },
   "file_extension": ".py",
   "mimetype": "text/x-python",
   "name": "python",
   "nbconvert_exporter": "python",
   "pygments_lexer": "ipython3",
   "version": "3.8.15"
  }
 },
 "nbformat": 4,
 "nbformat_minor": 5
}
