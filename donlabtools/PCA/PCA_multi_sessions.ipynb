{
 "cells": [
  {
   "cell_type": "code",
   "execution_count": 1,
   "id": "611dc90f",
   "metadata": {},
   "outputs": [
    {
     "data": {
      "application/javascript": [
       "IPython.notebook.set_autosave_interval(180000)"
      ]
     },
     "metadata": {},
     "output_type": "display_data"
    },
    {
     "name": "stdout",
     "output_type": "stream",
     "text": [
      "Autosaving every 180 seconds\n"
     ]
    },
    {
     "data": {
      "text/html": [
       "<style>.container { width:100% !important; }</style>"
      ],
      "text/plain": [
       "<IPython.core.display.HTML object>"
      ]
     },
     "metadata": {},
     "output_type": "display_data"
    }
   ],
   "source": [
    "import matplotlib\n",
    "%matplotlib tk\n",
    "%autosave 180\n",
    "%load_ext autoreload\n",
    "%autoreload 2\n",
    "\n",
    "import nest_asyncio\n",
    "%config Completer.use_jedi = False\n",
    "\n",
    "#\n",
    "import matplotlib.pyplot as plt\n",
    "from IPython.core.display import display, HTML\n",
    "display(HTML(\"<style>.container { width:100% !important; }</style>\"))\n",
    "\n",
    "# \n",
    "import numpy as np\n",
    "import os\n",
    "import scipy\n",
    "\n",
    "# add root directory to be able to import packages\n",
    "# todo: make all packages installable so they can be called/imported by environment\n",
    "import sys\n",
    "module_path = os.path.abspath(os.path.join('..'))\n",
    "sys.path.append(module_path)\n",
    "\n",
    "from utils.wheel import wheel\n",
    "from utils.calcium import calcium\n"
   ]
  },
  {
   "cell_type": "code",
   "execution_count": 42,
   "id": "240d6ff7",
   "metadata": {
    "scrolled": true
   },
   "outputs": [
    {
     "name": "stdout",
     "output_type": "stream",
     "text": [
      "\n",
      "\n",
      "Session:  /media/cat/4TB/donato/DON-003343/DON-003343_20210213\n",
      "Exp time :  1858.0\n",
      "   Queiscent periods (seconds):  1341.6\n",
      "   Running periods (seconds):  195.93333333333334\n",
      "\n",
      "\n",
      "Session:  /media/cat/4TB/donato/DON-003343/DON-003343_20210214\n",
      "Exp time :  1858.0\n",
      "   Queiscent periods (seconds):  1380.6666666666667\n",
      "   Running periods (seconds):  203.53333333333333\n",
      "\n",
      "\n",
      "Session:  /media/cat/4TB/donato/DON-003343/DON-003343_20210215\n",
      "Exp time :  88.43333333333334\n",
      "   Queiscent periods (seconds):  10.0\n",
      "   Running periods (seconds):  61.0\n",
      " ... insuficient times ...\n",
      "\n",
      "\n",
      "Session:  /media/cat/4TB/donato/DON-003343/DON-003343_20210216\n",
      "Exp time :  1858.0\n",
      "   Queiscent periods (seconds):  964.7666666666667\n",
      "   Running periods (seconds):  541.8\n",
      "\n",
      "\n",
      "Session:  /media/cat/4TB/donato/DON-003343/DON-003343_20210217\n",
      "Exp time :  1858.0\n",
      "   Queiscent periods (seconds):  1172.6333333333334\n",
      "   Running periods (seconds):  379.46666666666664\n",
      "\n",
      "\n",
      "Session:  /media/cat/4TB/donato/DON-003343/DON-003343_20210218\n",
      "Exp time :  1858.0\n",
      "   Queiscent periods (seconds):  1392.5\n",
      "   Running periods (seconds):  219.86666666666667\n",
      "\n",
      "\n",
      "Session:  /media/cat/4TB/donato/DON-003343/DON-003343_20210219\n",
      "Exp time :  1858.0\n",
      "   Queiscent periods (seconds):  1271.5666666666666\n",
      "   Running periods (seconds):  268.73333333333335\n",
      "\n",
      "\n",
      "Session:  /media/cat/4TB/donato/DON-003343/DON-003343_20210220\n",
      "Exp time :  1858.0\n",
      "   Queiscent periods (seconds):  1280.9\n",
      "   Running periods (seconds):  254.9\n",
      "\n",
      "\n",
      "Session:  /media/cat/4TB/donato/DON-003343/DON-003343_20210221\n",
      "  wheel data missing  \n",
      " ... insuficient times ...\n",
      "\n",
      "\n",
      "Session:  /media/cat/4TB/donato/DON-003343/DON-003343_20210222\n",
      "Exp time :  1858.0\n",
      "   Queiscent periods (seconds):  1201.6333333333334\n",
      "   Running periods (seconds):  325.8333333333333\n",
      " ... insuficient cells ... 383\n",
      "DONE\n"
     ]
    }
   ],
   "source": [
    "#############################################\n",
    "######### LOAD SUITE2P BINARIZED DATA #######\n",
    "#############################################\n",
    "\n",
    "# load list of directories to be processed\n",
    "fnames = [\n",
    "    #'/media/cat/4TB/donato/DON-006084/sessions_filenames.txt',   # 200 cells; 600 sec\n",
    "    #'/media/cat/4TB/donato/DON-006085/sessions_filenames.txt',   # 500 cells; 600 sec\n",
    "    #'/media/cat/4TB/donato/DON-006087/sessions_filenames.txt',  \n",
    "    #'/media/cat/4TB/donato/DON-002865/sessions_filenames.txt',  \n",
    "    #'/media/cat/4TB/donato/DON-003165/sessions_filenames.txt', \n",
    "    '/media/cat/4TB/donato/DON-003343/sessions_filenames.txt',\n",
    "]\n",
    "\n",
    "#   \n",
    "n_cells = 400                                     # take top X cells\n",
    "n_sec = 600                                  # fit only specific # of seconds to each dataset \n",
    "remove_duplicate_cells = True\n",
    "process_quiescent_periods = True\n",
    "recompute_deduplication = False\n",
    "\n",
    "for fname in fnames:\n",
    "    #\n",
    "    data_dirs = np.loadtxt(fname, dtype='str')\n",
    "    \n",
    "    #\n",
    "    calcium.pca_multi_sessions(data_dirs, \n",
    "                               n_cells,\n",
    "                               n_sec,\n",
    "                               remove_duplicate_cells,\n",
    "                               recompute_deduplication, \n",
    "                               process_quiescent_periods\n",
    "                              )\n",
    "\n",
    "print (\"DONE\")"
   ]
  },
  {
   "cell_type": "code",
   "execution_count": null,
   "id": "6b1ffa08-e344-4755-a1bb-22ce4273f071",
   "metadata": {},
   "outputs": [],
   "source": []
  },
  {
   "cell_type": "code",
   "execution_count": null,
   "id": "8dce1020-b4e8-41a1-8758-e65aecfa1f7d",
   "metadata": {},
   "outputs": [],
   "source": []
  },
  {
   "cell_type": "code",
   "execution_count": null,
   "id": "6fb367b9-10c3-444a-84e7-b018723f7241",
   "metadata": {},
   "outputs": [],
   "source": []
  },
  {
   "cell_type": "code",
   "execution_count": null,
   "id": "26a5d869-2836-4467-8fff-469dc43460b0",
   "metadata": {},
   "outputs": [],
   "source": []
  },
  {
   "cell_type": "code",
   "execution_count": null,
   "id": "f99a9019",
   "metadata": {},
   "outputs": [],
   "source": []
  },
  {
   "cell_type": "code",
   "execution_count": null,
   "id": "f6ce39e8",
   "metadata": {},
   "outputs": [],
   "source": []
  },
  {
   "cell_type": "code",
   "execution_count": null,
   "id": "8d1b6b80",
   "metadata": {},
   "outputs": [],
   "source": []
  },
  {
   "cell_type": "code",
   "execution_count": null,
   "id": "67585fad",
   "metadata": {},
   "outputs": [],
   "source": []
  },
  {
   "cell_type": "code",
   "execution_count": null,
   "id": "fe3d8bc0",
   "metadata": {},
   "outputs": [],
   "source": []
  },
  {
   "cell_type": "code",
   "execution_count": null,
   "id": "eb29474c",
   "metadata": {},
   "outputs": [],
   "source": []
  }
 ],
 "metadata": {
  "kernelspec": {
   "display_name": "Python 3 (ipykernel)",
   "language": "python",
   "name": "python3"
  },
  "language_info": {
   "codemirror_mode": {
    "name": "ipython",
    "version": 3
   },
   "file_extension": ".py",
   "mimetype": "text/x-python",
   "name": "python",
   "nbconvert_exporter": "python",
   "pygments_lexer": "ipython3",
   "version": "3.8.12"
  }
 },
 "nbformat": 4,
 "nbformat_minor": 5
}
