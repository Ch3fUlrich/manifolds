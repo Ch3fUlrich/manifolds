{
 "cells": [
  {
   "cell_type": "code",
   "execution_count": 256,
   "id": "611dc90f",
   "metadata": {},
   "outputs": [
    {
     "data": {
      "application/javascript": [
       "IPython.notebook.set_autosave_interval(180000)"
      ]
     },
     "metadata": {},
     "output_type": "display_data"
    },
    {
     "name": "stdout",
     "output_type": "stream",
     "text": [
      "Autosaving every 180 seconds\n",
      "The autoreload extension is already loaded. To reload it, use:\n",
      "  %reload_ext autoreload\n"
     ]
    },
    {
     "data": {
      "text/html": [
       "<style>.container { width:100% !important; }</style>"
      ],
      "text/plain": [
       "<IPython.core.display.HTML object>"
      ]
     },
     "metadata": {},
     "output_type": "display_data"
    }
   ],
   "source": [
    "import matplotlib\n",
    "%matplotlib tk\n",
    "%autosave 180\n",
    "%load_ext autoreload\n",
    "%autoreload 2\n",
    "\n",
    "import nest_asyncio\n",
    "%config Completer.use_jedi = False\n",
    "\n",
    "#\n",
    "import matplotlib.pyplot as plt\n",
    "from IPython.core.display import display, HTML\n",
    "display(HTML(\"<style>.container { width:100% !important; }</style>\"))\n",
    "\n",
    "# import scipy\n",
    "import numpy as np\n",
    "# import pandas as pd\n",
    "import os\n",
    "\n",
    "from calcium import calcium\n",
    "# from wheel import wheel\n",
    "# from visualize import visualize\n",
    "# from tqdm import trange\n",
    "\n",
    "import scipy\n",
    "\n",
    "\n"
   ]
  },
  {
   "cell_type": "code",
   "execution_count": 276,
   "id": "240d6ff7",
   "metadata": {
    "scrolled": true
   },
   "outputs": [
    {
     "name": "stdout",
     "output_type": "stream",
     "text": [
      "\n",
      "\n"
     ]
    },
    {
     "name": "stderr",
     "output_type": "stream",
     "text": [
      "\r",
      "low pass filter:   0%|          | 0/1027 [00:00<?, ?it/s]"
     ]
    },
    {
     "name": "stdout",
     "output_type": "stream",
     "text": [
      "WARNING ***** Found cells with 0-[Ca] traces :  179\n",
      "  Fluorescence data loading information\n",
      "         sample rate:  30 hz\n",
      "         self.F (fluorescence):  (1027, 92900)\n",
      "         self.Fneu (neuropile):  (1027, 92900)\n",
      "         self.iscell (Suite2p cell classifier output):  (1788, 2)\n",
      "         # of good cells:  (1027,)\n",
      "         self.spks (deconnvoved spikes):  (1027, 92900)\n",
      "         self.stat (footprints structure):  (1027,)\n",
      "         mean std over all cells :  23.5\n",
      "\n",
      "  Binarization parameters: \n",
      "        low pass filter low cuttoff:  0.5 hz\n",
      "        oasis_thresh_prefilter:  15\n",
      "        min_thresh_std_oasis:  0.1\n",
      "        min_thresh_std_Fluorescence_onphase:  1.5\n",
      "        min_thresh_std_Fluorescence_upphase:  1.5\n",
      "        min_width_event_Fluorescence:  15\n",
      "        min_width_event_oasis:  2\n",
      "        min_event_amplitude:  1\n"
     ]
    },
    {
     "name": "stderr",
     "output_type": "stream",
     "text": [
      "low pass filter: 100%|██████████| 1027/1027 [00:01<00:00, 668.99it/s]\n",
      "model filter: remove bleaching or trends: 100%|██████████| 1027/1027 [00:13<00:00, 77.05it/s]\n",
      "binarizing continuous traces filtered fluorescence onphase:   0%|          | 0/1027 [00:00<?, ?it/s]"
     ]
    },
    {
     "name": "stdout",
     "output_type": "stream",
     "text": [
      "WARNING ***** Found cells with 0-[Ca] traces :  179\n"
     ]
    },
    {
     "name": "stderr",
     "output_type": "stream",
     "text": [
      "binarizing continuous traces filtered fluorescence onphase: 100%|██████████| 1027/1027 [00:15<00:00, 68.16it/s]\n",
      "binarizing continuous traces filtered fluorescence upphase: 100%|██████████| 1027/1027 [00:31<00:00, 32.94it/s]\n"
     ]
    },
    {
     "name": "stdout",
     "output_type": "stream",
     "text": [
      "   Oasis based binarization skipped by default ... \n"
     ]
    }
   ],
   "source": [
    "#############################################\n",
    "######### LOAD SUITE2P AND BINARIZE #########\n",
    "#############################################\n",
    "\n",
    "# input directory where Suite2p outputs matlab Fall.mat and all .npy files\n",
    "data_dir = '/media/cat/4TB/donato/steffen/DON-004366/20210228/'\n",
    "data_dir = '/media/cat/4TB/donato/steffen/DON-004366/20210301/'\n",
    "data_dir = '/media/cat/4TB/donato/DON-003343/DON-003343_20210213/suite2p/plane0/'\n",
    "data_dir = '/media/cat/4TB/donato/nathalie/plane0'\n",
    "#data_dir = '/media/cat/4TB/donato/renan/renan'\n",
    "data_dir = '/media/cat/4TB/donato/steffen/DON-004366/20210228'\n",
    "\n",
    "# \n",
    "c = calcium.Calcium()\n",
    "c.verbose = True             # outputs additional information during processing\n",
    "c.recompute = True           # recomputes binarization and other processing steps; False: loads from previous saved locations\n",
    "c.data_dir = data_dir\n",
    "c.load_suite2p()\n",
    "\n",
    "# binarize fluorescence data\n",
    "c.save_python = True         # save output as .npz file \n",
    "c.save_matlab = False         # save output as .mat file\n",
    "\n",
    "###############################################\n",
    "########## 3 parameters to tweak ##############\n",
    "###############################################\n",
    "#     1. Cutoff for calling somthing a spike:\n",
    "#        This is stored in: std_Fluorescence_onphase/uppohase: defaults: 1.5\n",
    "#                                        higher -> less events; lower -> more events\n",
    "#                                        start at default and increase if data is very noisy and getting too many noise-events\n",
    "c.min_thresh_std_Fluorescence_onphase = 1.5\n",
    "c.min_thresh_std_Fluorescence_upphase = 1.5\n",
    "\n",
    "#     2. Filter of [Ca] data which smooths the data significantly more and decreases number of binarzied events within a multi-second [Ca] event\n",
    "#        This is stored in high_cutoff: default 1.0\n",
    "#                             - the lower we set it the smoother our [Ca] traces and less \"choppy\" the binarized traces\n",
    "c.high_cutoff = .5\n",
    "\n",
    "#     3. Removing bleaching and drift artifacts using polynomial fits\n",
    "#        This is stored in detrend_model_order\n",
    "c.detrend_model_order = 5 # 1-5 polynomial fit\n",
    "\n",
    "# \n",
    "#c.F=c.F[250:260]\n",
    "c.binarize_fluorescence()"
   ]
  },
  {
   "cell_type": "code",
   "execution_count": 195,
   "id": "635bda6e",
   "metadata": {
    "collapsed": true
   },
   "outputs": [
    {
     "name": "stderr",
     "output_type": "stream",
     "text": [
      "low pass filter:  48%|████▊     | 98/203 [00:00<00:00, 976.06it/s]"
     ]
    },
    {
     "name": "stdout",
     "output_type": "stream",
     "text": [
      "cells:  (203, 36026)\n",
      "F times:  (36026,)\n",
      "         mean std over all cells :  4.5\n",
      "\n",
      "  Binarization parameters: \n",
      "        low pass filter low cuttoff:  0.25 hz\n",
      "        oasis_thresh_prefilter:  15\n",
      "        min_thresh_std_oasis:  0.1\n",
      "        min_thresh_std_Fluorescence_onphase:  1.5\n",
      "        min_thresh_std_Fluorescence_upphase:  1.5\n",
      "        min_width_event_Fluorescence:  15\n",
      "        min_width_event_oasis:  2\n",
      "        min_event_amplitude:  1\n"
     ]
    },
    {
     "name": "stderr",
     "output_type": "stream",
     "text": [
      "low pass filter: 100%|██████████| 203/203 [00:00<00:00, 982.34it/s]\n",
      "model filter: remove linear trends up/down: 100%|██████████| 203/203 [00:00<00:00, 324.57it/s]\n",
      "binarizing continuous traces filtered fluorescence onphase:  59%|█████▉    | 120/203 [00:00<00:00, 1189.85it/s]"
     ]
    },
    {
     "name": "stdout",
     "output_type": "stream",
     "text": [
      " std global:  3.5\n"
     ]
    },
    {
     "name": "stderr",
     "output_type": "stream",
     "text": [
      "binarizing continuous traces filtered fluorescence onphase: 100%|██████████| 203/203 [00:00<00:00, 866.10it/s] \n",
      "binarizing continuous traces filtered fluorescence upphase: 100%|██████████| 203/203 [00:00<00:00, 826.36it/s] \n"
     ]
    },
    {
     "name": "stdout",
     "output_type": "stream",
     "text": [
      "   Oasis based binarization skipped by default ... \n"
     ]
    }
   ],
   "source": [
    "#####################################################\n",
    "############## LOAD INSCOPIX AND BINARIZE ###########\n",
    "#####################################################\n",
    "\n",
    "# input calcium traces .csv file from Inscopix\n",
    "fnames = np.loadtxt('laurenz.txt',dtype='str')\n",
    "for fname in fnames:\n",
    "    #fname = '/media/cat/4TB/donato/laurenz/DON-005099/20210609/suite2p/plane0/DON-005099_20210609_TRACES_ACQ.csv'\n",
    "\n",
    "    # \n",
    "    c = calcium.Calcium()\n",
    "    c.verbose = True             # outputs additional information during processing\n",
    "    c.recompute = True           # recomputes binarization and other processing steps; False: loads from previous saved locations\n",
    "    c.data_dir = os.path.split(fname)[0]\n",
    "\n",
    "    # Load inscopix data\n",
    "    c.save_python = True         # save output as .npz file\n",
    "    c.save_matlab = True         # save output as .mat file\n",
    "    c.fname_inscopix = fname\n",
    "    c.load_inscopix()\n",
    "\n",
    "    #\n",
    "    c.binarize_fluorescence()"
   ]
  },
  {
   "cell_type": "code",
   "execution_count": 277,
   "id": "dc28ac1f",
   "metadata": {},
   "outputs": [
    {
     "name": "stdout",
     "output_type": "stream",
     "text": [
      "(1027, 92900)\n"
     ]
    }
   ],
   "source": [
    "###############################################################\n",
    "######### LOAD BINARZIED DATA AND VISUALIZE CELL ACTIVITY #####\n",
    "###############################################################\n",
    "#fname = '/media/cat/4TB/donato/DON-003343/DON-003343_20210213/suite2p/plane0/binarized_traces.npz'\n",
    "#fname = '/media/cat/4TB/donato/steffen/DON-004366/20210228/binarized_traces.npz'\n",
    "fname = '/media/cat/4TB/donato/nathalie/plane0/binarized_traces.npz'\n",
    "#fname = '/media/cat/4TB/donato/renan/renan/binarized_traces.npz'\n",
    "# \n",
    "fname = '/media/cat/4TB/donato/steffen/DON-004366/20210228/binarized_traces.npz'\n",
    "\n",
    "c = calcium.Calcium()\n",
    "c.fname = fname\n",
    "c.load_binarization()\n",
    "\n",
    "# pick a random cell to visuzlie\n",
    "cell_id = 307\n",
    "\n",
    "# \n",
    "scale = 100\n",
    "\n",
    "####################################################\n",
    "fig = plt.figure()\n",
    "t=np.arange(c.F_filtered.shape[1])/c.sample_rate\n",
    "\n",
    "if False:\n",
    "    for k in range(800,848,1):\n",
    "        plt.plot(t,c.F_filtered[k]/scale+k*1, linewidth=3, label='filtered', alpha=.8)\n",
    "    \n",
    "else:\n",
    "    #plt.plot(t,c.F_onphase_bin[cell_id]*.9, linewidth=3, label='onphase', alpha=.8)\n",
    "    #plt.plot(t,c.F_upphase_bin[cell_id], linewidth=3, label='upphase', alpha=.8)\n",
    "    #plt.legend(fontsize=20)\n",
    "\n",
    "    plt.plot(t,(c.F_filtered[cell_id]-np.median(c.F_filtered[cell_id]))/scale, linewidth=3, label='filtered', alpha=.8,\n",
    "            c='black')\n",
    "    plt.plot(t,c.F_processed[cell_id]/scale, linewidth=3, label='filtered', alpha=.8,\n",
    "            c='blue')\n",
    "    plt.plot(t,c.F_onphase_bin[cell_id]*.9, linewidth=3, label='onphase', alpha=.4,\n",
    "            c='orange')\n",
    "    plt.plot(t,c.F_upphase_bin[cell_id], linewidth=3, label='upphase', alpha=.4,\n",
    "            c='green')\n",
    "#plt.legend(fontsize=20)\n",
    "plt.title(\"Cell: \"+str(cell_id) + \"\\nSpike threshold: \"+str(c.min_thresh_std_Fluorescence_upphase)+\n",
    "          \", lowpass filter cutoff (hz): \" +str(c.high_cutoff)+\n",
    "          \", detrend polynomial model order: \"+str(c.detrend_model_order))\n",
    "\n",
    "plt.xlabel(\"Time (sec)\")\n",
    "plt.xlim(t[0], t[-1])\n",
    "plt.show()"
   ]
  },
  {
   "cell_type": "code",
   "execution_count": 279,
   "id": "a0e177d9",
   "metadata": {},
   "outputs": [
    {
     "name": "stdout",
     "output_type": "stream",
     "text": [
      "(1027, 92900)\n",
      "(1027, 92900)\n"
     ]
    }
   ],
   "source": [
    "######################################################\n",
    "############# SHOW RASTERS ###########################\n",
    "######################################################\n",
    "c = calcium.Calcium()\n",
    "c.fname = fname\n",
    "c.load_binarization()\n",
    "\n",
    "idx = np.where(c.F_upphase_bin==1)\n",
    "\n",
    "# \n",
    "img = np.zeros((c.F_onphase_bin.shape[0], c.F_onphase_bin.shape[1]))\n",
    "print (img.shape)\n",
    "for k in range(idx[0].shape[0]):\n",
    "    img[idx[0][k],idx[1][k]-5: idx[1][k]+5]=1\n",
    "\n",
    "#\n",
    "plt.figure()\n",
    "plt.imshow(img, aspect='auto',\n",
    "          cmap='Greys',\n",
    "           extent=[0,img.shape[1]/c.sample_rate,\n",
    "                  img.shape[0]-0.5,-0.5],\n",
    "           \n",
    "          interpolation='none')\n",
    "plt.ylabel(\"Neuron ID (ordered by SNR by Suite2p)\")\n",
    "plt.xlabel(\"Time (sec)\")\n",
    "plt.title(\"Spike threshold: \"+str(c.min_thresh_std_Fluorescence_upphase)+\n",
    "          \", lowpass filter cutoff (hz): \" +str(c.high_cutoff)+\n",
    "          \", detrend polynomial model order: \"+str(c.detrend_model_order))\n",
    "plt.show()\n"
   ]
  },
  {
   "cell_type": "code",
   "execution_count": null,
   "id": "faa37030",
   "metadata": {},
   "outputs": [],
   "source": []
  },
  {
   "cell_type": "code",
   "execution_count": null,
   "id": "c8257683",
   "metadata": {},
   "outputs": [],
   "source": []
  },
  {
   "cell_type": "code",
   "execution_count": null,
   "id": "dd3177bc",
   "metadata": {},
   "outputs": [],
   "source": []
  },
  {
   "cell_type": "code",
   "execution_count": null,
   "id": "afc00149",
   "metadata": {},
   "outputs": [],
   "source": []
  },
  {
   "cell_type": "code",
   "execution_count": null,
   "id": "f99a9019",
   "metadata": {},
   "outputs": [],
   "source": []
  },
  {
   "cell_type": "code",
   "execution_count": null,
   "id": "f6ce39e8",
   "metadata": {},
   "outputs": [],
   "source": []
  },
  {
   "cell_type": "code",
   "execution_count": null,
   "id": "8d1b6b80",
   "metadata": {},
   "outputs": [],
   "source": []
  },
  {
   "cell_type": "code",
   "execution_count": null,
   "id": "67585fad",
   "metadata": {},
   "outputs": [],
   "source": []
  },
  {
   "cell_type": "code",
   "execution_count": null,
   "id": "fe3d8bc0",
   "metadata": {},
   "outputs": [],
   "source": []
  },
  {
   "cell_type": "code",
   "execution_count": null,
   "id": "eb29474c",
   "metadata": {},
   "outputs": [],
   "source": []
  }
 ],
 "metadata": {
  "kernelspec": {
   "display_name": "Python 3",
   "language": "python",
   "name": "python3"
  },
  "language_info": {
   "codemirror_mode": {
    "name": "ipython",
    "version": 3
   },
   "file_extension": ".py",
   "mimetype": "text/x-python",
   "name": "python",
   "nbconvert_exporter": "python",
   "pygments_lexer": "ipython3",
   "version": "3.8.8"
  }
 },
 "nbformat": 4,
 "nbformat_minor": 5
}
