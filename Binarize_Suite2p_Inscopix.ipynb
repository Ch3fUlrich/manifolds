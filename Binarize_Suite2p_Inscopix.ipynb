{
 "cells": [
  {
   "cell_type": "code",
   "execution_count": 51,
   "id": "611dc90f",
   "metadata": {},
   "outputs": [
    {
     "data": {
      "application/javascript": [
       "IPython.notebook.set_autosave_interval(180000)"
      ]
     },
     "metadata": {},
     "output_type": "display_data"
    },
    {
     "name": "stdout",
     "output_type": "stream",
     "text": [
      "Autosaving every 180 seconds\n",
      "The autoreload extension is already loaded. To reload it, use:\n",
      "  %reload_ext autoreload\n"
     ]
    },
    {
     "data": {
      "text/html": [
       "<style>.container { width:100% !important; }</style>"
      ],
      "text/plain": [
       "<IPython.core.display.HTML object>"
      ]
     },
     "metadata": {},
     "output_type": "display_data"
    }
   ],
   "source": [
    "import matplotlib\n",
    "%matplotlib tk\n",
    "%autosave 180\n",
    "%load_ext autoreload\n",
    "%autoreload 2\n",
    "\n",
    "import nest_asyncio\n",
    "%config Completer.use_jedi = False\n",
    "\n",
    "#\n",
    "import matplotlib.pyplot as plt\n",
    "from IPython.core.display import display, HTML\n",
    "display(HTML(\"<style>.container { width:100% !important; }</style>\"))\n",
    "\n",
    "# import scipy\n",
    "import numpy as np\n",
    "# import pandas as pd\n",
    "import os\n",
    "\n",
    "from calcium import calcium\n",
    "# from wheel import wheel\n",
    "# from visualize import visualize\n",
    "# from tqdm import trange\n",
    "\n",
    "import scipy\n",
    "\n",
    "\n"
   ]
  },
  {
   "cell_type": "code",
   "execution_count": 25,
   "id": "240d6ff7",
   "metadata": {},
   "outputs": [
    {
     "name": "stdout",
     "output_type": "stream",
     "text": [
      "\n",
      "\n"
     ]
    },
    {
     "name": "stderr",
     "output_type": "stream",
     "text": [
      "low pass filter:  12%|█▏        | 98/840 [00:00<00:00, 977.87it/s]"
     ]
    },
    {
     "name": "stdout",
     "output_type": "stream",
     "text": [
      "  Fluorescence data loading information\n",
      "         sample rate:  30 hz\n",
      "         self.F (fluorescence):  (840, 55740)\n",
      "         self.Fneu (neuropile):  (840, 55740)\n",
      "         self.iscell (Suite2p cell classifier output):  (1098, 2)\n",
      "         # of good cells:  (840,)\n",
      "         self.spks (deconnvoved spikes):  (840, 55740)\n",
      "         self.stat (footprints structure):  (840,)\n",
      "         mean std over all cells :  8.0\n",
      "\n",
      "  Binarization parameters: \n",
      "        low pass filter low cuttoff:  1 hz\n",
      "        oasis_thresh_prefilter:  15\n",
      "        min_thresh_std_oasis:  0.1\n",
      "        min_thresh_std_Fluorescence_onphase:  1.5\n",
      "        min_thresh_std_Fluorescence_upphase:  1.5\n",
      "        min_width_event_Fluorescence:  15\n",
      "        min_width_event_oasis:  2\n",
      "        min_event_amplitude:  1\n"
     ]
    },
    {
     "name": "stderr",
     "output_type": "stream",
     "text": [
      "low pass filter: 100%|██████████| 840/840 [00:00<00:00, 953.67it/s]\n",
      "binarizing continuous traces: 100%|██████████| 840/840 [00:02<00:00, 401.73it/s]\n",
      "binarizing continuous traces: 100%|██████████| 840/840 [00:09<00:00, 86.86it/s] \n",
      "convolving oasis with exponentional and filtering: 100%|██████████| 840/840 [00:13<00:00, 60.25it/s]\n",
      "binarizing continuous traces: 100%|██████████| 840/840 [00:01<00:00, 496.50it/s]\n",
      "scaling binarized data: 100%|██████████| 840/840 [00:02<00:00, 325.67it/s]\n"
     ]
    }
   ],
   "source": [
    "#############################################\n",
    "######### LOAD SUITE2P AND BINARIZE #########\n",
    "#############################################\n",
    "\n",
    "# input directory where Suite2p outputs matlab Fall.mat and all .npy files\n",
    "data_dir = '/media/cat/4TB/donato/DON-003343/DON-003343_20210213/suite2p/plane0/'\n",
    "\n",
    "c = calcium.Calcium()\n",
    "c.verbose = True             # outputs additional information during processing\n",
    "c.recompute = True           # recomputes binarization and other processing steps; False: loads from previous saved locations\n",
    "c.data_dir = data_dir\n",
    "c.load_suite2p()\n",
    "\n",
    "# binarize fluorescence data\n",
    "c.save_python = True         # save output as .npz file \n",
    "c.save_matlab = True         # save output as .mat file\n",
    "c.binarize_fluorescence()"
   ]
  },
  {
   "cell_type": "code",
   "execution_count": 41,
   "id": "635bda6e",
   "metadata": {},
   "outputs": [
    {
     "name": "stderr",
     "output_type": "stream",
     "text": [
      "low pass filter:  50%|█████     | 102/203 [00:00<00:00, 1019.78it/s]"
     ]
    },
    {
     "name": "stdout",
     "output_type": "stream",
     "text": [
      "cells:  (203, 36026)\n",
      "F times:  (36026,)\n",
      "         mean std over all cells :  3.0\n",
      "\n",
      "  Binarization parameters: \n",
      "        low pass filter low cuttoff:  1 hz\n",
      "        oasis_thresh_prefilter:  15\n",
      "        min_thresh_std_oasis:  0.1\n",
      "        min_thresh_std_Fluorescence_onphase:  1.5\n",
      "        min_thresh_std_Fluorescence_upphase:  1.5\n",
      "        min_width_event_Fluorescence:  15\n",
      "        min_width_event_oasis:  2\n",
      "        min_event_amplitude:  1\n"
     ]
    },
    {
     "name": "stderr",
     "output_type": "stream",
     "text": [
      "low pass filter: 100%|██████████| 203/203 [00:00<00:00, 995.89it/s] \n",
      "binarizing continuous traces: 100%|██████████| 203/203 [00:00<00:00, 510.77it/s]\n",
      "binarizing continuous traces: 100%|██████████| 203/203 [00:00<00:00, 363.79it/s]\n"
     ]
    },
    {
     "name": "stdout",
     "output_type": "stream",
     "text": [
      "   spks not available for dataset, to add it later... \n"
     ]
    }
   ],
   "source": [
    "#####################################################\n",
    "############## LOAD INSCOPIX AND BINARIZE ###########\n",
    "#####################################################\n",
    "\n",
    "# input calcium traces .csv file from Inscopix\n",
    "fname = '/media/cat/4TB/donato/laurenz/DON-005099/20210609/suite2p/plane0/DON-005099_20210609_TRACES_ACQ.csv'\n",
    "\n",
    "c = calcium.Calcium()\n",
    "c.verbose = True             # outputs additional information during processing\n",
    "c.recompute = True           # recomputes binarization and other processing steps; False: loads from previous saved locations\n",
    "c.data_dir = os.path.split(fname)[0]\n",
    "\n",
    "# Load inscopix data\n",
    "c.save_python = True         # save output as .npz file\n",
    "c.save_matlab = True         # save output as .mat file\n",
    "c.fname_inscopix = fname\n",
    "c.load_inscopix()\n",
    "\n",
    "#\n",
    "c.binarize_fluorescence()"
   ]
  },
  {
   "cell_type": "code",
   "execution_count": 56,
   "id": "dc28ac1f",
   "metadata": {},
   "outputs": [
    {
     "name": "stdout",
     "output_type": "stream",
     "text": [
      "(203, 36026)\n"
     ]
    }
   ],
   "source": [
    "#######################################################\n",
    "######### LOAD BINARZIED DATA AND VISUALIZE CCELLS ####\n",
    "#######################################################\n",
    "fname = '/media/cat/4TB/donato/laurenz/DON-005099/20210609/suite2p/plane0/binarized_traces.npz'\n",
    "\n",
    "c = calcium.Calcium()\n",
    "c.verbose = True             # outputs additional information during processing\n",
    "c.fname = fname\n",
    "\n",
    "c.load_binarization()\n",
    "\n",
    "#\n",
    "cell_id = 100\n",
    "scale = 20\n",
    "\n",
    "#\n",
    "fig = plt.figure()\n",
    "t=np.arange(c.F_filtered.shape[1])/c.sample_rate\n",
    "plt.plot(t,c.F_filtered[cell_id]/scale, linewidth=3, label='filtered')\n",
    "plt.plot(t,c.F_onphase_bin[cell_id], linewidth=3, label='onphase')\n",
    "plt.plot(t,c.F_upphase_bin[cell_id], linewidth=3, label='upphase')\n",
    "plt.legend(fontsize=20)\n",
    "plt.xlabel(\"Time (sec)\")\n",
    "plt.xlim(t[0], t[-1])\n",
    "plt.show()"
   ]
  },
  {
   "cell_type": "code",
   "execution_count": null,
   "id": "a0e177d9",
   "metadata": {},
   "outputs": [],
   "source": []
  },
  {
   "cell_type": "code",
   "execution_count": null,
   "id": "defeb871",
   "metadata": {},
   "outputs": [],
   "source": []
  },
  {
   "cell_type": "code",
   "execution_count": null,
   "id": "338e49e3",
   "metadata": {},
   "outputs": [],
   "source": []
  },
  {
   "cell_type": "code",
   "execution_count": null,
   "id": "5fc1d4ee",
   "metadata": {},
   "outputs": [],
   "source": []
  },
  {
   "cell_type": "code",
   "execution_count": null,
   "id": "954922de",
   "metadata": {},
   "outputs": [],
   "source": []
  },
  {
   "cell_type": "code",
   "execution_count": null,
   "id": "3facfb09",
   "metadata": {},
   "outputs": [],
   "source": []
  },
  {
   "cell_type": "code",
   "execution_count": null,
   "id": "82c9fd80",
   "metadata": {},
   "outputs": [],
   "source": []
  },
  {
   "cell_type": "code",
   "execution_count": null,
   "id": "35c3fe1f",
   "metadata": {},
   "outputs": [],
   "source": []
  },
  {
   "cell_type": "code",
   "execution_count": null,
   "id": "f7978625",
   "metadata": {},
   "outputs": [],
   "source": []
  },
  {
   "cell_type": "code",
   "execution_count": null,
   "id": "faa37030",
   "metadata": {},
   "outputs": [],
   "source": []
  },
  {
   "cell_type": "code",
   "execution_count": null,
   "id": "c8257683",
   "metadata": {},
   "outputs": [],
   "source": []
  },
  {
   "cell_type": "code",
   "execution_count": null,
   "id": "dd3177bc",
   "metadata": {},
   "outputs": [],
   "source": []
  },
  {
   "cell_type": "code",
   "execution_count": null,
   "id": "419d8765",
   "metadata": {},
   "outputs": [],
   "source": []
  },
  {
   "cell_type": "code",
   "execution_count": null,
   "id": "afc00149",
   "metadata": {},
   "outputs": [],
   "source": []
  },
  {
   "cell_type": "code",
   "execution_count": null,
   "id": "f99a9019",
   "metadata": {},
   "outputs": [],
   "source": []
  },
  {
   "cell_type": "code",
   "execution_count": null,
   "id": "f6ce39e8",
   "metadata": {},
   "outputs": [],
   "source": []
  },
  {
   "cell_type": "code",
   "execution_count": null,
   "id": "8d1b6b80",
   "metadata": {},
   "outputs": [],
   "source": []
  },
  {
   "cell_type": "code",
   "execution_count": null,
   "id": "67585fad",
   "metadata": {},
   "outputs": [],
   "source": []
  },
  {
   "cell_type": "code",
   "execution_count": null,
   "id": "fe3d8bc0",
   "metadata": {},
   "outputs": [],
   "source": []
  },
  {
   "cell_type": "code",
   "execution_count": null,
   "id": "eb29474c",
   "metadata": {},
   "outputs": [],
   "source": []
  }
 ],
 "metadata": {
  "kernelspec": {
   "display_name": "Python 3",
   "language": "python",
   "name": "python3"
  },
  "language_info": {
   "codemirror_mode": {
    "name": "ipython",
    "version": 3
   },
   "file_extension": ".py",
   "mimetype": "text/x-python",
   "name": "python",
   "nbconvert_exporter": "python",
   "pygments_lexer": "ipython3",
   "version": "3.8.8"
  }
 },
 "nbformat": 4,
 "nbformat_minor": 5
}
