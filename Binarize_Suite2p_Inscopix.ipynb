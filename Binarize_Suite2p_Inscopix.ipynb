{
 "cells": [
  {
   "cell_type": "code",
   "execution_count": 1,
   "id": "611dc90f",
   "metadata": {},
   "outputs": [
    {
     "data": {
      "application/javascript": [
       "IPython.notebook.set_autosave_interval(180000)"
      ]
     },
     "metadata": {},
     "output_type": "display_data"
    },
    {
     "name": "stdout",
     "output_type": "stream",
     "text": [
      "Autosaving every 180 seconds\n"
     ]
    },
    {
     "data": {
      "text/html": [
       "<style>.container { width:100% !important; }</style>"
      ],
      "text/plain": [
       "<IPython.core.display.HTML object>"
      ]
     },
     "metadata": {},
     "output_type": "display_data"
    }
   ],
   "source": [
    "import matplotlib\n",
    "%matplotlib tk\n",
    "%autosave 180\n",
    "%load_ext autoreload\n",
    "%autoreload 2\n",
    "\n",
    "import nest_asyncio\n",
    "%config Completer.use_jedi = False\n",
    "\n",
    "#\n",
    "import matplotlib.pyplot as plt\n",
    "from IPython.core.display import display, HTML\n",
    "display(HTML(\"<style>.container { width:100% !important; }</style>\"))\n",
    "\n",
    "# import scipy\n",
    "import numpy as np\n",
    "# import pandas as pd\n",
    "import os\n",
    "\n",
    "from calcium import calcium\n",
    "# from wheel import wheel\n",
    "# from visualize import visualize\n",
    "# from tqdm import trange\n",
    "\n",
    "import scipy\n",
    "\n",
    "\n"
   ]
  },
  {
   "cell_type": "code",
   "execution_count": 54,
   "id": "240d6ff7",
   "metadata": {
    "scrolled": true
   },
   "outputs": [
    {
     "name": "stdout",
     "output_type": "stream",
     "text": [
      "\n",
      "\n",
      "computing std of global signal (finding max)\n",
      "Found cells with 0 values (to be removed):  57\n",
      "  Fluorescence data loading information\n",
      "         sample rate:  30 hz\n",
      "         self.F (fluorescence):  (1316, 92900)\n",
      "         self.Fneu (neuropile):  (1316, 92900)\n",
      "         self.iscell (Suite2p cell classifier output):  (1962, 2)\n",
      "         # of good cells:  (1316,)\n",
      "         self.spks (deconnvoved spikes):  (1316, 92900)\n",
      "         self.stat (footprints structure):  (1316,)\n",
      "         mean std over all cells :  20.0\n",
      "\n",
      "  Binarization parameters: \n",
      "        low pass filter low cuttoff:  1 hz\n",
      "        oasis_thresh_prefilter:  15\n",
      "        min_thresh_std_oasis:  0.1\n",
      "        min_thresh_std_Fluorescence_onphase:  10\n",
      "        min_thresh_std_Fluorescence_upphase:  10\n",
      "        min_width_event_Fluorescence:  15\n",
      "        min_width_event_oasis:  2\n",
      "        min_event_amplitude:  1\n"
     ]
    },
    {
     "name": "stderr",
     "output_type": "stream",
     "text": [
      "detrending data: 100%|██████████| 1316/1316 [00:02<00:00, 591.28it/s]\n",
      "low pass filter: 100%|██████████| 1316/1316 [00:01<00:00, 674.13it/s]\n"
     ]
    },
    {
     "name": "stdout",
     "output_type": "stream",
     "text": [
      "computing std of global signal (finding max)\n",
      "Found cells with 0 values (to be removed):  57\n",
      " std global:  6.5\n"
     ]
    },
    {
     "name": "stderr",
     "output_type": "stream",
     "text": [
      "binarizing continuous traces filtered fluorescence onphase: 100%|██████████| 1259/1259 [00:01<00:00, 879.11it/s] \n",
      "binarizing continuous traces filtered fluorescence upphase: 100%|██████████| 1259/1259 [00:03<00:00, 383.12it/s] \n"
     ]
    },
    {
     "name": "stdout",
     "output_type": "stream",
     "text": [
      "   Oasis based binarization skipped by default ... \n"
     ]
    }
   ],
   "source": [
    "#############################################\n",
    "######### LOAD SUITE2P AND BINARIZE #########\n",
    "#############################################\n",
    "\n",
    "# input directory where Suite2p outputs matlab Fall.mat and all .npy files\n",
    "data_dir = '/media/cat/4TB/donato/steffen/DON-004366/20210228/'\n",
    "data_dir = '/media/cat/4TB/donato/steffen/DON-004366/20210301/'\n",
    "#data_dir = '/media/cat/4TB/donato/DON-003343/DON-003343_20210213/suite2p/plane0/'\n",
    "\n",
    "c = calcium.Calcium()\n",
    "c.verbose = True             # outputs additional information during processing\n",
    "c.recompute = True           # recomputes binarization and other processing steps; False: loads from previous saved locations\n",
    "c.data_dir = data_dir\n",
    "c.load_suite2p()\n",
    "\n",
    "# binarize fluorescence data\n",
    "c.save_python = True         # save output as .npz file \n",
    "c.save_matlab = False         # save output as .mat file\n",
    "\n",
    "# Tweak these parameters: higher -> less events; lower -> more events\n",
    "c.min_thresh_std_Fluorescence_onphase = 10\n",
    "c.min_thresh_std_Fluorescence_upphase = 10\n",
    "\n",
    "# \n",
    "c.binarize_fluorescence()"
   ]
  },
  {
   "cell_type": "code",
   "execution_count": null,
   "id": "635bda6e",
   "metadata": {},
   "outputs": [],
   "source": [
    "#####################################################\n",
    "############## LOAD INSCOPIX AND BINARIZE ###########\n",
    "#####################################################\n",
    "\n",
    "# input calcium traces .csv file from Inscopix\n",
    "fname = '/media/cat/4TB/donato/laurenz/DON-005099/20210609/suite2p/plane0/DON-005099_20210609_TRACES_ACQ.csv'\n",
    "\n",
    "c = calcium.Calcium()\n",
    "c.verbose = True             # outputs additional information during processing\n",
    "c.recompute = True           # recomputes binarization and other processing steps; False: loads from previous saved locations\n",
    "c.data_dir = os.path.split(fname)[0]\n",
    "\n",
    "# Load inscopix data\n",
    "c.save_python = True         # save output as .npz file\n",
    "c.save_matlab = True         # save output as .mat file\n",
    "c.fname_inscopix = fname\n",
    "c.load_inscopix()\n",
    "\n",
    "#\n",
    "c.binarize_fluorescence()"
   ]
  },
  {
   "cell_type": "code",
   "execution_count": 55,
   "id": "dc28ac1f",
   "metadata": {},
   "outputs": [
    {
     "name": "stdout",
     "output_type": "stream",
     "text": [
      "(1259, 92900)\n"
     ]
    }
   ],
   "source": [
    "###############################################################\n",
    "######### LOAD BINARZIED DATA AND VISUALIZE CELL ACTIVITY #####\n",
    "###############################################################\n",
    "#fname = '/media/cat/4TB/donato/DON-003343/DON-003343_20210213/suite2p/plane0/binarized_traces.npz'\n",
    "#fname = '/media/cat/4TB/donato/steffen/DON-004366/20210228/binarized_traces.npz'\n",
    "fname = '/media/cat/4TB/donato/steffen/DON-004366/20210301/binarized_traces.npz'\n",
    "\n",
    "# \n",
    "c = calcium.Calcium()\n",
    "c.fname = fname\n",
    "c.load_binarization()\n",
    "\n",
    "# pick a random cell to visuzlie\n",
    "cell_id = 0\n",
    "\n",
    "# \n",
    "scale = 100\n",
    "\n",
    "####################################################\n",
    "fig = plt.figure()\n",
    "t=np.arange(c.F_filtered.shape[1])/c.sample_rate\n",
    "plt.plot(t,c.F_filtered[cell_id]/scale, linewidth=3, label='filtered', alpha=.8)\n",
    "plt.plot(t,c.F_onphase_bin[cell_id]*.9, linewidth=3, label='onphase', alpha=.8)\n",
    "plt.plot(t,c.F_upphase_bin[cell_id], linewidth=3, label='upphase', alpha=.8)\n",
    "plt.legend(fontsize=20)\n",
    "plt.xlabel(\"Time (sec)\")\n",
    "plt.xlim(t[0], t[-1])\n",
    "plt.title(\"Cell: \"+str(cell_id))\n",
    "plt.show()"
   ]
  },
  {
   "cell_type": "code",
   "execution_count": 59,
   "id": "a0e177d9",
   "metadata": {},
   "outputs": [],
   "source": [
    "######################################################\n",
    "############# SHOW RASTERS ###########################\n",
    "######################################################\n",
    "idx = np.where(c.F_onphase_bin==1)\n",
    "\n",
    "# \n",
    "img = np.zeros((c.F_onphase_bin.shape[0], c.F_onphase_bin.shape[1]))\n",
    "for k in range(idx[0].shape[0]):\n",
    "    img[idx[0][k],idx[1][k]-5: idx[1][k]+5]=1\n",
    "    \n",
    "plt.imshow(img, aspect='auto',\n",
    "          cmap='Greys')\n",
    "plt.ylabel(\"Neuron ID (ordered by SNR by Suite2p)\")\n",
    "plt.xlabel(\"Time (frames)\")\n",
    "plt.show()\n"
   ]
  },
  {
   "cell_type": "code",
   "execution_count": null,
   "id": "faa37030",
   "metadata": {},
   "outputs": [],
   "source": []
  },
  {
   "cell_type": "code",
   "execution_count": null,
   "id": "c8257683",
   "metadata": {},
   "outputs": [],
   "source": []
  },
  {
   "cell_type": "code",
   "execution_count": null,
   "id": "dd3177bc",
   "metadata": {},
   "outputs": [],
   "source": []
  },
  {
   "cell_type": "code",
   "execution_count": null,
   "id": "afc00149",
   "metadata": {},
   "outputs": [],
   "source": []
  },
  {
   "cell_type": "code",
   "execution_count": null,
   "id": "f99a9019",
   "metadata": {},
   "outputs": [],
   "source": []
  },
  {
   "cell_type": "code",
   "execution_count": null,
   "id": "f6ce39e8",
   "metadata": {},
   "outputs": [],
   "source": []
  },
  {
   "cell_type": "code",
   "execution_count": null,
   "id": "8d1b6b80",
   "metadata": {},
   "outputs": [],
   "source": []
  },
  {
   "cell_type": "code",
   "execution_count": null,
   "id": "67585fad",
   "metadata": {},
   "outputs": [],
   "source": []
  },
  {
   "cell_type": "code",
   "execution_count": null,
   "id": "fe3d8bc0",
   "metadata": {},
   "outputs": [],
   "source": []
  },
  {
   "cell_type": "code",
   "execution_count": null,
   "id": "eb29474c",
   "metadata": {},
   "outputs": [],
   "source": []
  }
 ],
 "metadata": {
  "kernelspec": {
   "display_name": "Python 3",
   "language": "python",
   "name": "python3"
  },
  "language_info": {
   "codemirror_mode": {
    "name": "ipython",
    "version": 3
   },
   "file_extension": ".py",
   "mimetype": "text/x-python",
   "name": "python",
   "nbconvert_exporter": "python",
   "pygments_lexer": "ipython3",
   "version": "3.8.8"
  }
 },
 "nbformat": 4,
 "nbformat_minor": 5
}
