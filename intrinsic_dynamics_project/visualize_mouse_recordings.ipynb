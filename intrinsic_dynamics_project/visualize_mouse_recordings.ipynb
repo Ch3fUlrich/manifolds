{
 "cells": [
  {
   "cell_type": "code",
   "execution_count": 1,
   "id": "3f67a6dc-ac29-4135-a506-607562ad77d1",
   "metadata": {},
   "outputs": [
    {
     "data": {
      "application/javascript": [
       "IPython.notebook.set_autosave_interval(180000)"
      ]
     },
     "metadata": {},
     "output_type": "display_data"
    },
    {
     "name": "stdout",
     "output_type": "stream",
     "text": [
      "Autosaving every 180 seconds\n"
     ]
    },
    {
     "name": "stderr",
     "output_type": "stream",
     "text": [
      "/tmp/ipykernel_1009517/2663164027.py:12: DeprecationWarning: Importing display from IPython.core.display is deprecated since IPython 7.14, please import from IPython display\n",
      "  from IPython.core.display import display, HTML\n"
     ]
    },
    {
     "data": {
      "text/html": [
       "<style>.container { width:100% !important; }</style>"
      ],
      "text/plain": [
       "<IPython.core.display.HTML object>"
      ]
     },
     "metadata": {},
     "output_type": "display_data"
    },
    {
     "name": "stderr",
     "output_type": "stream",
     "text": [
      "/home/cat/code/donatolab/manifolds/utils/animal_database/animal_database.py:11: FutureWarning: Passing a negative integer is deprecated in version 1.0 and will not be supported in future version. Instead, use None to not limit the column width.\n",
      "  pd.set_option('display.max_colwidth', -1)\n"
     ]
    }
   ],
   "source": [
    "import matplotlib\n",
    "%matplotlib tk\n",
    "%autosave 180\n",
    "%load_ext autoreload\n",
    "%autoreload 2\n",
    "\n",
    "import nest_asyncio\n",
    "%config Completer.use_jedi = False\n",
    "\n",
    "#\n",
    "import matplotlib.pyplot as plt\n",
    "from IPython.core.display import display, HTML\n",
    "display(HTML(\"<style>.container { width:100% !important; }</style>\"))\n",
    "\n",
    "# \n",
    "import numpy as np\n",
    "import os\n",
    "import scipy\n",
    "\n",
    "# add root directory to be able to import packages\n",
    "# todo: make all packages installable so they can be called/imported by environment\n",
    "import sys\n",
    "module_path = os.path.abspath(os.path.join('..'))\n",
    "sys.path.append(module_path)\n",
    "\n",
    "from utils.calcium import calcium"
   ]
  },
  {
   "cell_type": "code",
   "execution_count": 67,
   "id": "501ff89f-79aa-4869-8bbc-b95e0bee5a96",
   "metadata": {},
   "outputs": [],
   "source": [
    "#################################################\n",
    "#################### PUP IDS ####################\n",
    "#################################################\n",
    "\n",
    "#\n",
    "mouse_ids = [\n",
    "    '006084',\n",
    "    '006085',\n",
    "    '006087',\n",
    "    '009191',\n",
    "    '009192',\n",
    "    '010473',\n",
    "    '010477'\n",
    "]\n",
    "\n",
    "#\n",
    "PDays = [\n",
    "    [19,28],\n",
    "    [19,28],\n",
    "    [24,33],\n",
    "    [16,46],  # expression issues\n",
    "    [15,60],  \n",
    "    [16,36],\n",
    "    [15,36],\n",
    "]\n",
    "\n",
    "#\n",
    "fig=plt.figure()\n",
    "ax=plt.subplot()\n",
    "xlabels = mouse_ids\n",
    "\n",
    "for k in range(len(mouse_ids)):\n",
    "    #y = np.arange(PDays[k][0],PDays[k][1],0.1)\n",
    "    x = np.arange(PDays[k][0],PDays[k][1],0.1)\n",
    "    y = k\n",
    "    #plt.fill_betweenx(y, k, k+0.9, \n",
    "                      #alpha=.5, label = mouse_ids[k])\n",
    "    \n",
    "    #x = np.arange(\n",
    "    ax.fill_between(x,k,k+0.9,\n",
    "                   label = mouse_ids[k])\n",
    "    \n",
    "    plt.text(np.median(x)-1,k+0.3,str(PDays[k][1]-PDays[k][0]+1))\n",
    "\n",
    "plt.xlim(left=0)\n",
    "plt.ylabel(\"mice ids\")\n",
    "plt.yticks(np.arange(len(mouse_ids))+0.5, mouse_ids,\n",
    "          rotation=45)\n",
    "plt.xlabel(\"P-Day\")\n",
    "plt.legend(ncol=2, fontsize=8, loc=4)\n",
    "plt.show()\n",
    "\n",
    "\n"
   ]
  },
  {
   "cell_type": "code",
   "execution_count": 5,
   "id": "ed40d8ef-5530-420d-b34c-f30640710a1a",
   "metadata": {},
   "outputs": [],
   "source": [
    "#################################################\n",
    "################## ADULT IDS ####################\n",
    "#################################################\n",
    "\n",
    "#\n",
    "mouse_ids = [\n",
    "    '002865', \n",
    "    '003165',\n",
    "    '003343',\n",
    "    '008497',\n",
    "    '008498',\n",
    "    '008499'\n",
    "]\n",
    "\n",
    "#\n",
    "PDays = [\n",
    "    [90,99],\n",
    "    [120,129],\n",
    "    [150,159],\n",
    "    [61,73],\n",
    "    [61,73],\n",
    "    [61,73],\n",
    "]\n",
    "\n",
    "#\n",
    "fig=plt.figure()\n",
    "ax=plt.subplot()\n",
    "xlabels = mouse_ids\n",
    "\n",
    "for k in range(len(mouse_ids)):\n",
    "    #y = np.arange(PDays[k][0],PDays[k][1],0.1)\n",
    "    x = np.arange(PDays[k][0],PDays[k][1],0.1)\n",
    "    y = k\n",
    "    #plt.fill_betweenx(y, k, k+0.9, \n",
    "                      #alpha=.5, label = mouse_ids[k])\n",
    "    \n",
    "    #x = np.arange(\n",
    "    alpha=1.0\n",
    "    if k >2:\n",
    "        alpha=.3\n",
    "    ax.fill_between(x,k,k+0.9, label = mouse_ids[k],\n",
    "                   alpha=alpha)\n",
    "    \n",
    "    plt.text(np.median(x)-3,k+0.3,str(PDays[k][1]-PDays[k][0]+1))\n",
    "\n",
    "plt.xlim(left=0)\n",
    "plt.ylabel(\"mice ids\")\n",
    "plt.yticks(np.arange(len(mouse_ids))+0.5, mouse_ids,\n",
    "          rotation=45)\n",
    "plt.xlabel(\"P-Day\")\n",
    "plt.legend(ncol=2, fontsize=8, loc=4)\n",
    "plt.show()\n"
   ]
  },
  {
   "cell_type": "code",
   "execution_count": null,
   "id": "a8cf6d20-bb08-4ffc-a6e2-ab6d20481e0c",
   "metadata": {},
   "outputs": [],
   "source": []
  },
  {
   "cell_type": "code",
   "execution_count": null,
   "id": "35d29b28-c26d-4108-badb-002c58ee4dca",
   "metadata": {},
   "outputs": [],
   "source": []
  },
  {
   "cell_type": "code",
   "execution_count": null,
   "id": "50a93598-4be6-45ca-8acf-a3ff3cf8dc9c",
   "metadata": {},
   "outputs": [],
   "source": []
  },
  {
   "cell_type": "code",
   "execution_count": null,
   "id": "2df4f0ff-060d-4c58-adaa-c1954208a6e3",
   "metadata": {},
   "outputs": [],
   "source": []
  },
  {
   "cell_type": "code",
   "execution_count": null,
   "id": "14abf60b-d66a-477c-adca-cccc06f8f5b1",
   "metadata": {},
   "outputs": [],
   "source": []
  }
 ],
 "metadata": {
  "kernelspec": {
   "display_name": "Python 3 (ipykernel)",
   "language": "python",
   "name": "python3"
  },
  "language_info": {
   "codemirror_mode": {
    "name": "ipython",
    "version": 3
   },
   "file_extension": ".py",
   "mimetype": "text/x-python",
   "name": "python",
   "nbconvert_exporter": "python",
   "pygments_lexer": "ipython3",
   "version": "3.8.12"
  }
 },
 "nbformat": 4,
 "nbformat_minor": 5
}
