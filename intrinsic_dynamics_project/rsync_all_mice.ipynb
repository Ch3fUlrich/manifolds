{
 "cells": [
  {
   "cell_type": "code",
   "execution_count": 4,
   "id": "3fc435ef-0011-414a-94aa-534e7e937560",
   "metadata": {},
   "outputs": [
    {
     "data": {
      "application/javascript": [
       "IPython.notebook.set_autosave_interval(180000)"
      ]
     },
     "metadata": {},
     "output_type": "display_data"
    },
    {
     "name": "stdout",
     "output_type": "stream",
     "text": [
      "Autosaving every 180 seconds\n",
      "The autoreload extension is already loaded. To reload it, use:\n",
      "  %reload_ext autoreload\n"
     ]
    },
    {
     "data": {
      "text/html": [
       "<style>.container { width:100% !important; }</style>"
      ],
      "text/plain": [
       "<IPython.core.display.HTML object>"
      ]
     },
     "metadata": {},
     "output_type": "display_data"
    }
   ],
   "source": [
    "import matplotlib\n",
    "%matplotlib tk\n",
    "%autosave 180\n",
    "%load_ext autoreload\n",
    "%autoreload 2\n",
    "\n",
    "import nest_asyncio\n",
    "%config Completer.use_jedi = False\n",
    "\n",
    "#\n",
    "import matplotlib.pyplot as plt\n",
    "from IPython.core.display import display, HTML\n",
    "display(HTML(\"<style>.container { width:100% !important; }</style>\"))\n",
    "\n",
    "# \n",
    "import numpy as np\n",
    "import os\n",
    "import scipy\n",
    "\n",
    "# add root directory to be able to import packages\n",
    "# todo: make all packages installable so they can be called/imported by environment\n",
    "import sys\n",
    "module_path = os.path.abspath(os.path.join('..'))\n",
    "sys.path.append(module_path)\n",
    "\n",
    "from utils.calcium import calcium\n",
    "from utils.wheel import wheel\n",
    "from utils.cohort import cohort \n",
    "\n",
    "import subprocess\n",
    "\n",
    "    "
   ]
  },
  {
   "cell_type": "code",
   "execution_count": 16,
   "id": "ca271cd3-4516-4d1c-b650-b29ba6a2a775",
   "metadata": {},
   "outputs": [
    {
     "name": "stdout",
     "output_type": "stream",
     "text": [
      "rsync --progress -av --exclude '*.bin' --exclude '*.mp4' --exclude '*.tif' --exclude '*.mesc' /media/cat/4TB1/donato/DON-006084/ /run/user/1000/gvfs/smb-share\\:server\\=scicore-toucan.scicore.unibas.ch\\,share\\=donafl00-calcium\\$/Users/Rodrigo/DON-006084/\n",
      "rsyncing ... DON-006084\n",
      "rsync --progress -av --exclude '*.bin' --exclude '*.mp4' --exclude '*.tif' --exclude '*.mesc' /media/cat/4TB1/donato/DON-006084/ /run/user/1000/gvfs/smb-share\\:server\\=scicore-toucan.scicore.unibas.ch\\,share\\=donafl00-calcium\\$/Users/Rodrigo/DON-006084/\n",
      "###############################################################\n",
      "\n",
      "\n"
     ]
    }
   ],
   "source": [
    "#############################################################\n",
    "#############################################################\n",
    "#############################################################\n",
    "\n",
    "mouse_ids = [\n",
    "    'DON-006084',\n",
    "    'DON-006085',\n",
    "    'DON-006087',\n",
    "    \n",
    "    'DON-009191',\n",
    "    'DON-009192',\n",
    "    'DON-010473',\n",
    "    'DON-010477',\n",
    "           \n",
    "    'DON-002865',\n",
    "    'DON-003165',\n",
    "    'DON-003343',\n",
    "    \n",
    "    'DON-008497',\n",
    "    'DON-008498',\n",
    "    'DON-008499',  \n",
    "]\n",
    "\n",
    "\n",
    "\n",
    "\n",
    "text = (\"rsync --progress -av --exclude '*.bin' --exclude '*.mp4' --exclude '*.tif' --exclude '*.mesc' \"+\n",
    "        \"/media/cat/4TB1/donato/\"+animal_id + \"/\"+ \n",
    "\n",
    "        \" /run/user/1000/gvfs/smb-share\\:server\\=scicore-toucan.scicore.unibas.ch\\,share\\=donafl00-calcium\\$/Users/Rodrigo/\"+animal_id+\"/\")\n",
    "print (text)\n",
    "\n",
    "for mouse_id in mouse_ids:\n",
    "    print (\"rsyncing ...\", mouse_id)\n",
    "\n",
    "    print (text)\n",
    "    \n",
    "    #os.system(text)\n",
    "    \n",
    "    print (\"###############################################################\")\n",
    "    print (\"\")\n",
    "    print (\"\")\n",
    "\n",
    "\n",
    "    break"
   ]
  },
  {
   "cell_type": "code",
   "execution_count": null,
   "id": "a40f5610-393a-4c60-a1bc-9dff22edba23",
   "metadata": {},
   "outputs": [],
   "source": []
  }
 ],
 "metadata": {
  "kernelspec": {
   "display_name": "Python 3 (ipykernel)",
   "language": "python",
   "name": "python3"
  },
  "language_info": {
   "codemirror_mode": {
    "name": "ipython",
    "version": 3
   },
   "file_extension": ".py",
   "mimetype": "text/x-python",
   "name": "python",
   "nbconvert_exporter": "python",
   "pygments_lexer": "ipython3",
   "version": "3.8.12"
  }
 },
 "nbformat": 4,
 "nbformat_minor": 5
}
