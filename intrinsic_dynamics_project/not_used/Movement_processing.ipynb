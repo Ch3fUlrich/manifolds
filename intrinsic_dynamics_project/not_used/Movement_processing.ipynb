{
 "cells": [
  {
   "cell_type": "code",
   "execution_count": 1,
   "id": "3f67a6dc-ac29-4135-a506-607562ad77d1",
   "metadata": {},
   "outputs": [
    {
     "data": {
      "application/javascript": [
       "IPython.notebook.set_autosave_interval(180000)"
      ]
     },
     "metadata": {},
     "output_type": "display_data"
    },
    {
     "name": "stdout",
     "output_type": "stream",
     "text": [
      "Autosaving every 180 seconds\n"
     ]
    },
    {
     "data": {
      "text/html": [
       "<style>.container { width:100% !important; }</style>"
      ],
      "text/plain": [
       "<IPython.core.display.HTML object>"
      ]
     },
     "metadata": {},
     "output_type": "display_data"
    }
   ],
   "source": [
    "import matplotlib\n",
    "%matplotlib tk\n",
    "%autosave 180\n",
    "%load_ext autoreload\n",
    "%autoreload 2\n",
    "\n",
    "import nest_asyncio\n",
    "%config Completer.use_jedi = False\n",
    "\n",
    "#\n",
    "import matplotlib.pyplot as plt\n",
    "from IPython.core.display import display, HTML\n",
    "display(HTML(\"<style>.container { width:100% !important; }</style>\"))\n",
    "\n",
    "# \n",
    "import numpy as np\n",
    "import os\n",
    "import scipy\n",
    "\n",
    "# add root directory to be able to import packages\n",
    "# todo: make all packages installable so they can be called/imported by environment\n",
    "import sys\n",
    "module_path = os.path.abspath(os.path.join('..'))\n",
    "sys.path.append(module_path)\n",
    "\n",
    "from utils.calcium import calcium\n",
    "\n",
    "from utils.wheel import wheel"
   ]
  },
  {
   "cell_type": "code",
   "execution_count": 2,
   "id": "717e760d-3423-4f50-91e8-8cee9bb6a3cc",
   "metadata": {},
   "outputs": [],
   "source": [
    "#########################################################\n",
    "########## COMPUTE VELOCITY FROM ROTARY ENCODER ##########\n",
    "##########################################################\n",
    "from tqdm import trange\n",
    "\n",
    "#\n",
    "def binarize(data):\n",
    "    \n",
    "    idx = np.where(data<2.5)[0]\n",
    "    idx2 = np.where(data>=2.5)[0]\n",
    "    \n",
    "    data[idx] = 0\n",
    "    data[idx2] = 1\n",
    "    \n",
    "    #\n",
    "    return data\n",
    "\n",
    "#\n",
    "def get_velocity(rot1, rot2):\n",
    "    \n",
    "    # distance\n",
    "    n_clicks_per_rotation = 500\n",
    "    ball_diameter = 0.2  # distance in meters\n",
    "    ball_circumference = ball_diameter*3.141592\n",
    "    dist_per_click = ball_circumference/n_clicks_per_rotation\n",
    "    \n",
    "    # time\n",
    "    sample_rate = 1000\n",
    "    seconds_per_time_stamp = 1/sample_rate\n",
    "    \n",
    "    \n",
    "    #\n",
    "    bin1 = binarize(rot1)\n",
    "    bin2 = binarize(rot2)\n",
    "    \n",
    "    #\n",
    "    clicks = np.array((bin1, bin2)).T.squeeze()\n",
    "    print (clicks)\n",
    "        \n",
    "    #\n",
    "    vel = []\n",
    "    times = []\n",
    "    last_click_location = 0\n",
    "    time_since_last_click = 0\n",
    "    rot1_last_state = clicks[0,0]\n",
    "    rot2_state = clicks[0,1]\n",
    "    for k in trange(0,clicks.shape[0],1):\n",
    "        \n",
    "        #\n",
    "        if clicks[k,0]!=rot1_last_state:\n",
    "            distance = dist_per_click  #only walked 1 click\n",
    "            time = time_since_last_click*seconds_per_time_stamp\n",
    "            \n",
    "            # \n",
    "            v = distance/time \n",
    "            \n",
    "            #\n",
    "            vel.append(v)\n",
    "            times.append(k/sample_rate)       \n",
    "            \n",
    "            #\n",
    "            time_since_last_click=0\n",
    "            last_click_location=k #.copy()\n",
    "            rot1_last_state=clicks[k,0]\n",
    "        else:\n",
    "            vel.append(0)\n",
    "            times.append(k/sample_rate)       \n",
    "\n",
    "        #    \n",
    "        time_since_last_click+=1\n",
    "    #\n",
    "    return np.array(vel), np.array(times)\n",
    "    "
   ]
  },
  {
   "cell_type": "code",
   "execution_count": 3,
   "id": "ebed7982-8e39-4ac6-aa4b-dba14d2b3993",
   "metadata": {},
   "outputs": [],
   "source": [
    "#\n",
    "# import scipy\n",
    "# fname_mat = '/media/cat/4TB1/donato/DON-009191/20220220/TRD-2P/DON-009191_20220220_TRD-2P_S1-ACQ.mat'\n",
    "\n",
    "# data = scipy.io.loadmat(fname_mat)\n",
    "# #print (data)\n",
    "\n",
    "# print (data['trainingdata'].shape)\n",
    "# rot1 = data['trainingdata'][:,0]\n",
    "# rot2 = data['trainingdata'][:,1]\n",
    "\n",
    "# #\n",
    "# vel, times = get_velocity(rot1,rot2)\n",
    "\n",
    "#\n",
    "data_wheel = np.load('/media/cat/4TB1/donato/DON-009191/20220220/TRD-2P/wheel.npy')\n",
    "\n",
    "w = wheel.Wheel()\n",
    "w.root_dir = '/media/cat/4TB1/donato/DON-009191/20220217/TRD-2P/'\n",
    "w.load_track()\n",
    "w.compute_velocity()\n"
   ]
  },
  {
   "cell_type": "code",
   "execution_count": 10,
   "id": "97e97429-443d-4d3a-8118-cb9463c44307",
   "metadata": {},
   "outputs": [
    {
     "name": "stdout",
     "output_type": "stream",
     "text": [
      "Keys: <KeysViewHDF5 ['raw_dist', 'spd', 'tt']>\n",
      "<class 'h5py._hl.dataset.Dataset'>\n"
     ]
    }
   ],
   "source": [
    "####################################################\n",
    "def get_h5py_speed(filename):\n",
    "    import h5py\n",
    "    #filename = \"file.hdf5\"\n",
    "\n",
    "    with h5py.File(filename, \"r\") as f:\n",
    "        # Print all root level object names (aka keys) \n",
    "        # these can be group or dataset names \n",
    "        print(\"Keys: %s\" % f.keys())\n",
    "        # get first object name/key; may or may NOT be a group\n",
    "        a_group_key = list(f.keys())[1]\n",
    "\n",
    "        # get the object type for a_group_key: usually group or dataset\n",
    "        print(type(f[a_group_key])) \n",
    "\n",
    "        # If a_group_key is a group name, \n",
    "        # this gets the object names in the group and returns as a list\n",
    "        data = list(f[a_group_key])\n",
    "\n",
    "        # If a_group_key is a dataset name, \n",
    "        # this gets the dataset values and returns as a list\n",
    "        data = list(f[a_group_key])\n",
    "\n",
    "        # preferred methods to get dataset values:\n",
    "        ds_obj = f[a_group_key]      # returns as a h5py dataset object\n",
    "        ds_arr = f[a_group_key][()].squeeze()  # returns as a numpy array\n",
    "\n",
    "        #\n",
    "\n",
    "    return ds_arr\n",
    "\n",
    "################################################\n",
    "vel_python = np.load('/media/cat/4TB1/donato/DON-009191/20220217/TRD-2P/velocity.npy')*100\n",
    "\n",
    "\n",
    "filename = '/media/cat/4TB1/donato/DON-009191/20220217/TRD-2P/trd_var.mat'\n",
    "vel_matlab = get_h5py_speed(filename)\n",
    "####################################################\n",
    "\n",
    "plt.figure()\n",
    "#times = np.arange(vel_python.shape[0])/30.\n",
    "plt.plot(w.track.velocity.times[start:end],\n",
    "         w.track.velocity.values[start:end]*100, c='blue', label='python')\n",
    "\n",
    "#\n",
    "times_matlab = np.arange(vel_matlab.shape[0])/10000.\n",
    "plt.plot(times_matlab[::30], vel_matlab[::30], c='red',label='matlab')\n",
    "plt.legend(fontsize=16)\n",
    "plt.show()"
   ]
  },
  {
   "cell_type": "code",
   "execution_count": 5,
   "id": "8da6af6d-eadb-486c-a53c-c82580f61114",
   "metadata": {},
   "outputs": [
    {
     "ename": "FileNotFoundError",
     "evalue": "[Errno 2] No such file or directory: '/home/cat/Downloads/Downloads/results.npz'",
     "output_type": "error",
     "traceback": [
      "\u001b[0;31m---------------------------------------------------------------------------\u001b[0m",
      "\u001b[0;31mFileNotFoundError\u001b[0m                         Traceback (most recent call last)",
      "\u001b[0;32m/tmp/ipykernel_101841/790425230.py\u001b[0m in \u001b[0;36m<module>\u001b[0;34m\u001b[0m\n\u001b[1;32m      2\u001b[0m \u001b[0;31m############# COMPUTE VELOCITY FROM ROTARY ENCODERS ##############\u001b[0m\u001b[0;34m\u001b[0m\u001b[0;34m\u001b[0m\u001b[0;34m\u001b[0m\u001b[0m\n\u001b[1;32m      3\u001b[0m \u001b[0;31m##################################################################\u001b[0m\u001b[0;34m\u001b[0m\u001b[0;34m\u001b[0m\u001b[0;34m\u001b[0m\u001b[0m\n\u001b[0;32m----> 4\u001b[0;31m data = np.load('/home/cat/Downloads/Downloads/results.npz',\n\u001b[0m\u001b[1;32m      5\u001b[0m                allow_pickle=True)\n\u001b[1;32m      6\u001b[0m \u001b[0;34m\u001b[0m\u001b[0m\n",
      "\u001b[0;32m~/anaconda3/envs/manifolds/lib/python3.8/site-packages/numpy/lib/npyio.py\u001b[0m in \u001b[0;36mload\u001b[0;34m(file, mmap_mode, allow_pickle, fix_imports, encoding)\u001b[0m\n\u001b[1;32m    405\u001b[0m             \u001b[0mown_fid\u001b[0m \u001b[0;34m=\u001b[0m \u001b[0;32mFalse\u001b[0m\u001b[0;34m\u001b[0m\u001b[0;34m\u001b[0m\u001b[0m\n\u001b[1;32m    406\u001b[0m         \u001b[0;32melse\u001b[0m\u001b[0;34m:\u001b[0m\u001b[0;34m\u001b[0m\u001b[0;34m\u001b[0m\u001b[0m\n\u001b[0;32m--> 407\u001b[0;31m             \u001b[0mfid\u001b[0m \u001b[0;34m=\u001b[0m \u001b[0mstack\u001b[0m\u001b[0;34m.\u001b[0m\u001b[0menter_context\u001b[0m\u001b[0;34m(\u001b[0m\u001b[0mopen\u001b[0m\u001b[0;34m(\u001b[0m\u001b[0mos_fspath\u001b[0m\u001b[0;34m(\u001b[0m\u001b[0mfile\u001b[0m\u001b[0;34m)\u001b[0m\u001b[0;34m,\u001b[0m \u001b[0;34m\"rb\"\u001b[0m\u001b[0;34m)\u001b[0m\u001b[0;34m)\u001b[0m\u001b[0;34m\u001b[0m\u001b[0;34m\u001b[0m\u001b[0m\n\u001b[0m\u001b[1;32m    408\u001b[0m             \u001b[0mown_fid\u001b[0m \u001b[0;34m=\u001b[0m \u001b[0;32mTrue\u001b[0m\u001b[0;34m\u001b[0m\u001b[0;34m\u001b[0m\u001b[0m\n\u001b[1;32m    409\u001b[0m \u001b[0;34m\u001b[0m\u001b[0m\n",
      "\u001b[0;31mFileNotFoundError\u001b[0m: [Errno 2] No such file or directory: '/home/cat/Downloads/Downloads/results.npz'"
     ]
    }
   ],
   "source": [
    "##################################################################\n",
    "############# COMPUTE VELOCITY FROM ROTARY ENCODERS ##############\n",
    "##################################################################\n",
    "data = np.load('/home/cat/Downloads/Downloads/results.npz',\n",
    "               allow_pickle=True)\n",
    "\n",
    "#\n",
    "lick_detector_times = data['lick_detector_abstime']\n",
    "print (\"lick detector: \", lick_detector_times.shape, lick_detector_times)\n",
    "\n",
    "#\n",
    "reward_times = data['reward_times'].squeeze().T[:,1]\n",
    "#print (\"reward times: \", reward_times[:50])\n",
    "ttl_times = data['ttl_times']\n",
    "#print (\"ttl times: \", ttl_times)\n",
    "\n",
    "#\n",
    "rot1 = data['rotary_encoder1_abstime']\n",
    "rot2 = data['rotary_encoder2_abstime']\n",
    "#print (\"rotary 1: \", rot1)\n",
    "#print (\"rotary 2: \", rot2)\n",
    "\n",
    "#\n",
    "vel, times = get_velocity(rot1,rot2)\n",
    "\n",
    "plt.figure()\n",
    "plt.plot(times, vel)\n",
    "plt.show()"
   ]
  },
  {
   "cell_type": "code",
   "execution_count": 21,
   "id": "446cb9d1-1f7a-4950-86ef-cacefe172a11",
   "metadata": {},
   "outputs": [
    {
     "name": "stdout",
     "output_type": "stream",
     "text": [
      "(18300000,) (18300000,)\n"
     ]
    }
   ],
   "source": [
    "#\n",
    "vel2 = np.load('/media/cat/4TB1/donato/DON-009191/20220217/TRD-2P/wheel.npy').squeeze()\n",
    "print (vel.shape, vel2.shape)\n",
    "\n",
    "plt.figure()\n",
    "#plt.plot(times, vel, c='blue')\n",
    "plt.plot(times, vel2, c='red',)\n",
    "plt.show()"
   ]
  },
  {
   "cell_type": "code",
   "execution_count": 67,
   "id": "501ff89f-79aa-4869-8bbc-b95e0bee5a96",
   "metadata": {},
   "outputs": [],
   "source": [
    "#################################################\n",
    "#################### PUP IDS ####################\n",
    "#################################################\n",
    "\n",
    "#\n",
    "mouse_ids = [\n",
    "    #'006084',\n",
    "    #'006085',\n",
    "    #'006087',\n",
    "    '009191',\n",
    "    '009192',\n",
    "    '010473',\n",
    "    '010477'\n",
    "]\n",
    "\n",
    "#\n",
    "PDays = [\n",
    "    #[19,28],\n",
    "    #[19,28],\n",
    "    #[24,33],\n",
    "    [16,48],  # expression issues\n",
    "    [15,60],  \n",
    "    [16,33],\n",
    "    [15,33],\n",
    "]\n",
    "\n",
    "#\n",
    "fig=plt.figure()\n",
    "ax=plt.subplot()\n",
    "xlabels = mouse_ids\n",
    "\n",
    "#\n",
    "for k in range(len(mouse_ids)):\n",
    "    #y = np.arange(PDays[k][0],PDays[k][1],0.1)\n",
    "    x = np.arange(PDays[k][0],PDays[k][1],0.1)\n",
    "    y = k\n",
    "    #plt.fill_betweenx(y, k, k+0.9, \n",
    "                      #alpha=.5, label = mouse_ids[k])\n",
    "    \n",
    "    #x = np.arange(\n",
    "    ax.fill_between(x,k,k+0.9,\n",
    "                   label = mouse_ids[k])\n",
    "    \n",
    "    plt.text(np.median(x)-1,k+0.3,str(PDays[k][1]-PDays[k][0]+1))\n",
    "\n",
    "#\n",
    "plt.xlim(left=0)\n",
    "plt.ylabel(\"mice ids\")\n",
    "plt.yticks(np.arange(len(mouse_ids))+0.5, \n",
    "           mouse_ids, \n",
    "           rotation=45)\n",
    "plt.xlabel(\"P-Day\")\n",
    "plt.legend(ncol=2, fontsize=8, loc=4)\n",
    "plt.show()\n",
    "\n",
    "\n"
   ]
  },
  {
   "cell_type": "code",
   "execution_count": 5,
   "id": "ed40d8ef-5530-420d-b34c-f30640710a1a",
   "metadata": {},
   "outputs": [],
   "source": [
    "#################################################\n",
    "################## ADULT IDS ####################\n",
    "#################################################\n",
    "\n",
    "#\n",
    "mouse_ids = [\n",
    "    '002865', \n",
    "    '003165',\n",
    "    '003343',\n",
    "    '008497',\n",
    "    '008498',\n",
    "    '008499'\n",
    "]\n",
    "\n",
    "#\n",
    "PDays = [\n",
    "    [90,99],\n",
    "    [120,129],\n",
    "    [150,159],\n",
    "    [61,73],\n",
    "    [61,73],\n",
    "    [61,73],\n",
    "]\n",
    "\n",
    "#\n",
    "fig=plt.figure()\n",
    "ax=plt.subplot()\n",
    "xlabels = mouse_ids\n",
    "\n",
    "for k in range(len(mouse_ids)):\n",
    "    #y = np.arange(PDays[k][0],PDays[k][1],0.1)\n",
    "    x = np.arange(PDays[k][0],PDays[k][1],0.1)\n",
    "    y = k\n",
    "    #plt.fill_betweenx(y, k, k+0.9, \n",
    "                      #alpha=.5, label = mouse_ids[k])\n",
    "    \n",
    "    #x = np.arange(\n",
    "    alpha=1.0\n",
    "    if k >2:\n",
    "        alpha=.3\n",
    "    ax.fill_between(x,k,k+0.9, label = mouse_ids[k],\n",
    "                   alpha=alpha)\n",
    "    \n",
    "    plt.text(np.median(x)-3,k+0.3,str(PDays[k][1]-PDays[k][0]+1))\n",
    "\n",
    "plt.xlim(left=0)\n",
    "plt.ylabel(\"mice ids\")\n",
    "plt.yticks(np.arange(len(mouse_ids))+0.5, mouse_ids,\n",
    "          rotation=45)\n",
    "plt.xlabel(\"P-Day\")\n",
    "plt.legend(ncol=2, fontsize=8, loc=4)\n",
    "plt.show()\n"
   ]
  },
  {
   "cell_type": "code",
   "execution_count": 44,
   "id": "a8cf6d20-bb08-4ffc-a6e2-ab6d20481e0c",
   "metadata": {},
   "outputs": [
    {
     "name": "stdout",
     "output_type": "stream",
     "text": [
      "(18299999,)\n"
     ]
    }
   ],
   "source": []
  },
  {
   "cell_type": "code",
   "execution_count": 43,
   "id": "35d29b28-c26d-4108-badb-002c58ee4dca",
   "metadata": {},
   "outputs": [
    {
     "name": "stdout",
     "output_type": "stream",
     "text": [
      "(18299999,)\n"
     ]
    }
   ],
   "source": []
  },
  {
   "cell_type": "code",
   "execution_count": null,
   "id": "50a93598-4be6-45ca-8acf-a3ff3cf8dc9c",
   "metadata": {},
   "outputs": [],
   "source": []
  },
  {
   "cell_type": "code",
   "execution_count": null,
   "id": "2df4f0ff-060d-4c58-adaa-c1954208a6e3",
   "metadata": {},
   "outputs": [],
   "source": []
  },
  {
   "cell_type": "code",
   "execution_count": null,
   "id": "14abf60b-d66a-477c-adca-cccc06f8f5b1",
   "metadata": {},
   "outputs": [],
   "source": []
  }
 ],
 "metadata": {
  "kernelspec": {
   "display_name": "Python 3 (ipykernel)",
   "language": "python",
   "name": "python3"
  },
  "language_info": {
   "codemirror_mode": {
    "name": "ipython",
    "version": 3
   },
   "file_extension": ".py",
   "mimetype": "text/x-python",
   "name": "python",
   "nbconvert_exporter": "python",
   "pygments_lexer": "ipython3",
   "version": "3.8.12"
  }
 },
 "nbformat": 4,
 "nbformat_minor": 5
}
