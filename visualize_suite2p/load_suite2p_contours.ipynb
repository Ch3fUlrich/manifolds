{
 "cells": [
  {
   "cell_type": "code",
   "execution_count": 3,
   "id": "611dc90f",
   "metadata": {},
   "outputs": [
    {
     "data": {
      "application/javascript": [
       "IPython.notebook.set_autosave_interval(180000)"
      ]
     },
     "metadata": {},
     "output_type": "display_data"
    },
    {
     "name": "stdout",
     "output_type": "stream",
     "text": [
      "Autosaving every 180 seconds\n",
      "The autoreload extension is already loaded. To reload it, use:\n",
      "  %reload_ext autoreload\n"
     ]
    },
    {
     "name": "stderr",
     "output_type": "stream",
     "text": [
      "<ipython-input-3-c3753d360d7f>:12: DeprecationWarning: Importing display from IPython.core.display is deprecated since IPython 7.14, please import from IPython display\n",
      "  from IPython.core.display import display, HTML\n"
     ]
    },
    {
     "data": {
      "text/html": [
       "<style>.container { width:100% !important; }</style>"
      ],
      "text/plain": [
       "<IPython.core.display.HTML object>"
      ]
     },
     "metadata": {},
     "output_type": "display_data"
    },
    {
     "name": "stderr",
     "output_type": "stream",
     "text": [
      "/home/cat/.conda/envs/donato/lib/python3.8/site-packages/tqdm/auto.py:22: TqdmWarning: IProgress not found. Please update jupyter and ipywidgets. See https://ipywidgets.readthedocs.io/en/stable/user_install.html\n",
      "  from .autonotebook import tqdm as notebook_tqdm\n"
     ]
    }
   ],
   "source": [
    "import matplotlib\n",
    "%matplotlib tk\n",
    "%autosave 180\n",
    "%load_ext autoreload\n",
    "%autoreload 2\n",
    "\n",
    "import nest_asyncio\n",
    "%config Completer.use_jedi = False\n",
    "\n",
    "#\n",
    "import matplotlib.pyplot as plt\n",
    "from IPython.core.display import display, HTML\n",
    "display(HTML(\"<style>.container { width:100% !important; }</style>\"))\n",
    "\n",
    "# \n",
    "import numpy as np\n",
    "import os\n",
    "import scipy\n",
    "\n",
    "# add root directory to be able to import packages\n",
    "# todo: make all packages installable so they can be called/imported by environment\n",
    "import sys\n",
    "module_path = os.path.abspath('/home/cat/code/donatolab/')\n",
    "sys.path.append(module_path)\n",
    "\n",
    "from utils.wheel import wheel\n",
    "from utils.calcium import calcium\n"
   ]
  },
  {
   "cell_type": "code",
   "execution_count": 9,
   "id": "240d6ff7",
   "metadata": {
    "scrolled": true,
    "tags": []
   },
   "outputs": [
    {
     "name": "stdout",
     "output_type": "stream",
     "text": [
      "  Fluorescence data loading information\n",
      "         sample rate:  30 hz\n",
      "         self.F (fluorescence):  (93, 20000)\n",
      "         self.Fneu (neuropile):  (93, 20000)\n",
      "         self.iscell (Suite2p cell classifier output):  (306, 2)\n",
      "              of which number of good cells:  (93,)\n",
      "         self.spks (deconnvoved spikes):  (93, 20000)\n",
      "         self.stat (footprints structure):  (93,)\n",
      "         mean std over all cells :  57.0\n",
      "   todo: print binarization defaults...\n",
      "binarized data (# cells, # time points):  (93, 20000)\n"
     ]
    }
   ],
   "source": [
    "#############################################\n",
    "######### LOAD SUITE2P BINARIZED DATA #######\n",
    "#############################################\n",
    "\n",
    "# input directory where Suite2p outputs matlab Fall.mat and all .npy files\n",
    "# data_dir = '/media/cat/4TB/donato/steffen/DON-004366/20210228/'\n",
    "# data_dir = '/media/cat/4TB/donato/steffen/DON-004366/20210301/'\n",
    "#data_dir = '/media/cat/4TB/donato/DON-003343/DON-003343_20210214/suite2p/plane0/'\n",
    "# data_dir = '/media/cat/4TB/donato/nathalie/plane0'\n",
    "# data_dir = '/media/cat/4TB/donato/renan/renan'\n",
    "#data_dir = '/media/cat/4TB/donato/steffen/DON-004366/20210228/'\n",
    "data_dir = '/media/cat/4TB/donato/DON-006084/20210520/'\n",
    "\n",
    "data_dir = '/media/cat/4TB/donato/andres/DON011733/20230118/calibration/'\n",
    "\n",
    "# initialize calcium object and load suite2p data\n",
    "c = calcium.Calcium()\n",
    "c.verbose = True                          # outputs additional information during processing\n",
    "c.recompute_binarization = False           # recomputes binarization and other processing steps; False: loads from previous saved locations if avialable\n",
    "c.data_dir = data_dir\n",
    "c.load_suite2p()                          # this function assumes output dirs is either in data_dir OR data_dir/suite2p/plane0/\n",
    "c.save_matlab = False\n",
    "#\n",
    "c.detrend_model_order = 1\n",
    "\n",
    "#\n",
    "c.save_python = True\n",
    "\n",
    "#\n",
    "c.load_binarization()\n",
    "traces = c.F_upphase_bin    # c.F_upphase_bin\n",
    "\n",
    "print (\"binarized data (# cells, # time points): \", traces.shape)\n"
   ]
  },
  {
   "cell_type": "code",
   "execution_count": 10,
   "id": "cfac258e-def1-4296-b519-5fa1051df6c0",
   "metadata": {
    "tags": []
   },
   "outputs": [
    {
     "name": "stdout",
     "output_type": "stream",
     "text": [
      "# of footprints;  93\n",
      "# of contours:  93\n"
     ]
    }
   ],
   "source": [
    "#################################################\n",
    "############# LOAD CONTOURS ###################\n",
    "#################################################\n",
    "\n",
    "# this loads the suite2p footprints\n",
    "c.load_footprints()\n",
    "print (\"# of footprints; \", len(c.footprints))\n",
    "\n",
    "# these should be the contours that we can plot\n",
    "print (\"# of contours: \", len(c.contours))\n",
    "\n",
    "plt.figure()\n",
    "for k in range(len(c.footprints)):\n",
    "    plt.plot(c.contours[k][:,0], c.contours[k][:,1])\n",
    "plt.xlim(0,512)\n",
    "plt.ylim(0,512)\n",
    "plt.show()"
   ]
  },
  {
   "cell_type": "code",
   "execution_count": 4,
   "id": "8dce1020-b4e8-41a1-8758-e65aecfa1f7d",
   "metadata": {},
   "outputs": [
    {
     "name": "stdout",
     "output_type": "stream",
     "text": [
      "# of traces:  155\n"
     ]
    }
   ],
   "source": [
    "#################################################\n",
    "############# LOAD TRACES FOR ROIS ##############\n",
    "#################################################\n",
    "\n",
    "print (\"# of traces: \", len(c.F_filtered))\n",
    "\n",
    "plt.figure()\n",
    "plt.plot(c.F_filtered[0])\n",
    "plt.show()"
   ]
  },
  {
   "cell_type": "code",
   "execution_count": null,
   "id": "6fb367b9-10c3-444a-84e7-b018723f7241",
   "metadata": {},
   "outputs": [],
   "source": []
  },
  {
   "cell_type": "code",
   "execution_count": null,
   "id": "26a5d869-2836-4467-8fff-469dc43460b0",
   "metadata": {},
   "outputs": [],
   "source": []
  },
  {
   "cell_type": "code",
   "execution_count": null,
   "id": "f99a9019",
   "metadata": {},
   "outputs": [],
   "source": []
  },
  {
   "cell_type": "code",
   "execution_count": null,
   "id": "f6ce39e8",
   "metadata": {},
   "outputs": [],
   "source": []
  },
  {
   "cell_type": "code",
   "execution_count": null,
   "id": "8d1b6b80",
   "metadata": {},
   "outputs": [],
   "source": []
  },
  {
   "cell_type": "code",
   "execution_count": null,
   "id": "67585fad",
   "metadata": {},
   "outputs": [],
   "source": []
  },
  {
   "cell_type": "code",
   "execution_count": null,
   "id": "fe3d8bc0",
   "metadata": {},
   "outputs": [],
   "source": []
  },
  {
   "cell_type": "code",
   "execution_count": null,
   "id": "eb29474c",
   "metadata": {},
   "outputs": [],
   "source": []
  }
 ],
 "metadata": {
  "kernelspec": {
   "display_name": "Python 3",
   "language": "python",
   "name": "python3"
  },
  "language_info": {
   "codemirror_mode": {
    "name": "ipython",
    "version": 3
   },
   "file_extension": ".py",
   "mimetype": "text/x-python",
   "name": "python",
   "nbconvert_exporter": "python",
   "pygments_lexer": "ipython3",
   "version": "3.8.15"
  }
 },
 "nbformat": 4,
 "nbformat_minor": 5
}
