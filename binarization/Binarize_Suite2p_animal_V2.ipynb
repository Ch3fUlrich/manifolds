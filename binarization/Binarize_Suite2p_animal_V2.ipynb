{
 "cells": [
  {
   "cell_type": "code",
   "execution_count": 1,
   "id": "611dc90f",
   "metadata": {},
   "outputs": [
    {
     "data": {
      "application/javascript": [
       "IPython.notebook.set_autosave_interval(180000)"
      ]
     },
     "metadata": {},
     "output_type": "display_data"
    },
    {
     "name": "stdout",
     "output_type": "stream",
     "text": [
      "Autosaving every 180 seconds\n"
     ]
    },
    {
     "name": "stderr",
     "output_type": "stream",
     "text": [
      "<ipython-input-1-e4476ecac24a>:12: DeprecationWarning: Importing display from IPython.core.display is deprecated since IPython 7.14, please import from IPython display\n",
      "  from IPython.core.display import display, HTML\n"
     ]
    },
    {
     "data": {
      "text/html": [
       "<style>.container { width:100% !important; }</style>"
      ],
      "text/plain": [
       "<IPython.core.display.HTML object>"
      ]
     },
     "metadata": {},
     "output_type": "display_data"
    },
    {
     "name": "stderr",
     "output_type": "stream",
     "text": [
      "/home/cat/.conda/envs/donato/lib/python3.8/site-packages/tqdm/auto.py:22: TqdmWarning: IProgress not found. Please update jupyter and ipywidgets. See https://ipywidgets.readthedocs.io/en/stable/user_install.html\n",
      "  from .autonotebook import tqdm as notebook_tqdm\n"
     ]
    }
   ],
   "source": [
    "import matplotlib\n",
    "%matplotlib tk\n",
    "%autosave 180\n",
    "%load_ext autoreload\n",
    "%autoreload 2\n",
    "\n",
    "import nest_asyncio\n",
    "%config Completer.use_jedi = False\n",
    "\n",
    "#\n",
    "import matplotlib.pyplot as plt\n",
    "from IPython.core.display import display, HTML\n",
    "display(HTML(\"<style>.container { width:100% !important; }</style>\"))\n",
    "\n",
    "# \n",
    "import numpy as np\n",
    "import os\n",
    "import scipy\n",
    "\n",
    "# add root directory to be able to import packages\n",
    "# todo: make all packages installable so they can be called/imported by environment\n",
    "import sys\n",
    "module_path = os.path.abspath(os.path.join('..'))\n",
    "sys.path.append(module_path)\n",
    "\n",
    "from utils.calcium import calcium\n"
   ]
  },
  {
   "cell_type": "code",
   "execution_count": 15,
   "id": "240d6ff7",
   "metadata": {
    "scrolled": true
   },
   "outputs": [
    {
     "name": "stdout",
     "output_type": "stream",
     "text": [
      "\n",
      "\n",
      "\n",
      "Processing session:  DON-003343_20210213\n",
      "\n",
      "\n",
      "\n",
      "Processing session:  DON-003343_20210218\n",
      "\n",
      "\n",
      "\n",
      "Processing session:  DON-003343_20210217\n",
      "\n",
      "\n",
      "\n",
      "Processing session:  DON-003343_20210216\n",
      "\n",
      "\n",
      "\n",
      "Processing session:  DON-003343_20210219\n",
      "\n",
      "\n",
      "\n",
      "Processing session:  DON-003343_20210215\n",
      "\n",
      "\n",
      "\n",
      "Processing session:  DON-003343_20210222\n",
      "\n",
      "\n",
      "\n",
      "Processing session:  DON-003343_20210221\n",
      "\n",
      "\n",
      "\n",
      "Processing session:  DON-003343_20210220\n",
      "\n",
      "\n",
      "\n",
      "Processing session:  DON-003343_20210214\n"
     ]
    },
    {
     "name": "stderr",
     "output_type": "stream",
     "text": [
      "low pass filter: 100%|██████████| 842/842 [00:00<00:00, 2389.51it/s]\n",
      "model filter: remove bleaching or trends: 100%|██████████| 842/842 [00:02<00:00, 280.95it/s]\n",
      "854it [00:03, 228.40it/s]                         \n",
      "binarizing continuous traces filtered fluorescence onphase: 100%|██████████| 842/842 [00:00<00:00, 2089.21it/s]\n",
      "binarizing continuous traces filtered fluorescence upphase: 100%|██████████| 842/842 [00:01<00:00, 556.98it/s]\n"
     ]
    },
    {
     "name": "stdout",
     "output_type": "stream",
     "text": [
      "   Oasis based binarization skipped by default ... \n",
      " ... DONE ...\n"
     ]
    }
   ],
   "source": [
    "#############################################\n",
    "######### LOAD SUITE2P AND BINARIZE #########\n",
    "#############################################\n",
    "\n",
    "# input directory where Suite2p outputs matlab Fall.mat and all .npy files\n",
    "# load list of directories to be processed\n",
    "root_dir = '/media/cat/4TB/donato/'\n",
    "animal_id = 'DON-003343'\n",
    "\n",
    "sessions = os.listdir(os.path.join(root_dir, animal_id))\n",
    "\n",
    "# initialize calcium object and load suite2p data\n",
    "for session in sessions:\n",
    "    print (\"\\n\\n\")\n",
    "    print (\"Processing session: \", session)\n",
    "    \n",
    "    # initialize calcium object and load suite2p data\n",
    "    c = calcium.Calcium()\n",
    "    c.verbose = False                          # outputs additional information during processing\n",
    "    c.recompute_binarization = True           # recomputes binarization and other processing steps; False: loads from previous saved locations\n",
    "    c.data_dir = os.path.join(root_dir,\n",
    "                              animal_id,\n",
    "                              session,\n",
    "                              '002P-F',\n",
    "                             'tif',\n",
    "                             'suite2p',\n",
    "                             'plane0')\n",
    "    c.load_suite2p()                          \n",
    "\n",
    "    # set flags to save matlab and python data\n",
    "    c.save_python = True         # save output as .npz file \n",
    "    c.save_matlab = False         # save output as .mat file\n",
    "\n",
    "    ###############################################\n",
    "    ##### PARAMETERS FOR RUNNING BINARIZATION #####\n",
    "    ###############################################\n",
    "    c.min_width_event_onphase = c.sample_rate//2 # set minimum withd of an onphase event; default: 0.5 seconds\n",
    "    c.min_width_event_upphase = c.sample_rate//4 # set minimum width of upphase event; default: 0.25 seconds\n",
    "\n",
    "    ############# PARAMTERS TO TWEAK ##############\n",
    "    #     1. Cutoff for calling somthing a spike:\n",
    "    #        This is stored in: std_Fluorescence_onphase/uppohase: defaults: 1.5\n",
    "    #                                        higher -> less events; lower -> more events\n",
    "    #                                        start at default and increase if data is very noisy and getting too many noise-events\n",
    "    c.min_thresh_std_onphase = 2.5      # set the minimum thrshold for onphase detection; defatul 2.5\n",
    "    c.min_thresh_std_upphase = 2.5      # set the minimum thershold for uppohase detection; default: 2.5\n",
    "\n",
    "    #     2. Filter of [Ca] data which smooths the data significantly more and decreases number of binarzied events within a multi-second [Ca] event\n",
    "    #        This is stored in high_cutoff: default 0.5 to 1.0\n",
    "    #        The lower we set it the smoother our [Ca] traces and less \"choppy\" the binarized traces (but we loose some temporal precision)\n",
    "    c.high_cutoff = 0.5              \n",
    "\n",
    "    #     3. Removing bleaching and drift artifacts using polynomial fits\n",
    "    #        This is stored in detrend_model_order\n",
    "    c.detrend_model_order = 1 # 1-3 polynomial fit\n",
    "    c.detrend_model_type = 'mode' # 'mode', 'polynomial'\n",
    "\n",
    "    #\n",
    "    c.mode_window = None #*30 # 120 seconds @ 30Hz \n",
    "\n",
    "    ################################################\n",
    "    ########### RUN BINARIZATION STEP ##############\n",
    "    ################################################\n",
    "    # \n",
    "    # double check that we have set the STD thrshold at a reasonable level to catch biggest/highest SNR bursts\n",
    "    c.show_plots = True\n",
    "\n",
    "    #\n",
    "    c.min_width_event_onphase = 30\n",
    "    c.min_width_event_upphase = 10\n",
    "    c.recompute_binarization = True\n",
    "\n",
    "    # not used currently\n",
    "    c.dff_min = 0.02   #this is the final threshold required by putative spikes\n",
    "    c.percentile_threshold = 0.999999\n",
    "    c.use_upphase = True\n",
    "\n",
    "    #\n",
    "    c.show_plots =False\n",
    "    c.remove_ends = False\n",
    "    c.detrend_filter_threshold = 0.001\n",
    "    c.binarize_fluorescence()\n",
    "\n",
    "\n",
    "    # generate standard randomized plots:\n",
    "    c.save_sample_traces()\n",
    "\n",
    "    #\n",
    "    save_image = True\n",
    "    c.show_rasters(save_image)\n",
    "\n",
    "print (\" ... DONE ...\")"
   ]
  },
  {
   "cell_type": "code",
   "execution_count": 117,
   "id": "dc28ac1f",
   "metadata": {},
   "outputs": [],
   "source": [
    "###############################################################\n",
    "######### LOAD BINARZIED DATA AND VISUALIZE CELL ACTIVITY #####\n",
    "###############################################################\n",
    "#fname = '/media/cat/4TB/donato/DON-003343/DON-003343_20210213/suite2p/plane0/binarized_traces.npz'\n",
    "# # \n",
    "fname = os.path.join(data_dir,'suite2p','plane0','binarized_traces.npz')\n",
    "\n",
    "c = calcium.Calcium()\n",
    "c.fname = fname\n",
    "c.data_dir = data_dir\n",
    "c.recompute_binarization = False\n",
    "c.load_binarization()\n",
    "\n",
    "# pick a random cell to visualize\n",
    "cell_id = 986\n",
    "scale = .3\n",
    "\n",
    "# \n",
    "c.plot_cell_binarization(cell_id, scale)\n"
   ]
  },
  {
   "cell_type": "code",
   "execution_count": 68,
   "id": "a0e177d9",
   "metadata": {},
   "outputs": [],
   "source": [
    "######################################################\n",
    "############# SHOW RASTERS ###########################\n",
    "######################################################\n",
    "fname = os.path.join(data_dir,'suite2p','plane0','binarized_traces.npz')\n",
    "#data_dir = '/media/cat/4TB/donato/DON-003343/DON-003343_20210213/suite2p/plane0/'\n",
    "\n",
    "c = calcium.Calcium()\n",
    "c.data_dir = data_dir\n",
    "c.fname = fname\n",
    "c.recompute_binarization = False\n",
    "c.load_binarization()\n",
    "\n",
    "c.show_rasters()\n"
   ]
  },
  {
   "cell_type": "code",
   "execution_count": 62,
   "id": "faa37030",
   "metadata": {},
   "outputs": [
    {
     "name": "stderr",
     "output_type": "stream",
     "text": [
      "<ipython-input-62-6f56bde31059>:9: FutureWarning: Unlike other reduction functions (e.g. `skew`, `kurtosis`), the default behavior of `mode` typically preserves the axis it acts along. In SciPy 1.11.0, this behavior will change: the default value of `keepdims` will become False, the `axis` over which the statistic is taken will be eliminated, and the value None will no longer be accepted. Set `keepdims` to True or False to avoid this warning.\n",
      "  mode = scipy.stats.mode(trace)[0]\n"
     ]
    }
   ],
   "source": [
    "import scipy\n",
    "\n",
    "#\n",
    "trace = np.load('/home/cat/trace.npy')\n",
    "\n",
    "#\n",
    "y = np.histogram(trace, bins = np.arange(-1,1,0.001))\n",
    "\n",
    "mode = scipy.stats.mode(trace)[0]\n",
    "mode_empirical = y[1][np.argmax(y[0])]\n",
    "\n",
    "#\n",
    "plt.figure()\n",
    "plt.plot(y[1][:-1],y[0])\n",
    "plt.plot([mode,mode],[0,4000])\n",
    "plt.plot([mode_empirical, mode_empirical],[0,4000])\n",
    "\n",
    "plt.show()"
   ]
  },
  {
   "cell_type": "code",
   "execution_count": null,
   "id": "c8257683",
   "metadata": {},
   "outputs": [],
   "source": []
  },
  {
   "cell_type": "code",
   "execution_count": null,
   "id": "dd3177bc",
   "metadata": {},
   "outputs": [],
   "source": []
  },
  {
   "cell_type": "code",
   "execution_count": null,
   "id": "afc00149",
   "metadata": {},
   "outputs": [],
   "source": []
  },
  {
   "cell_type": "code",
   "execution_count": null,
   "id": "f99a9019",
   "metadata": {},
   "outputs": [],
   "source": []
  },
  {
   "cell_type": "code",
   "execution_count": null,
   "id": "f6ce39e8",
   "metadata": {},
   "outputs": [],
   "source": []
  },
  {
   "cell_type": "code",
   "execution_count": null,
   "id": "8d1b6b80",
   "metadata": {},
   "outputs": [],
   "source": []
  },
  {
   "cell_type": "code",
   "execution_count": null,
   "id": "67585fad",
   "metadata": {},
   "outputs": [],
   "source": []
  },
  {
   "cell_type": "code",
   "execution_count": null,
   "id": "fe3d8bc0",
   "metadata": {},
   "outputs": [],
   "source": []
  },
  {
   "cell_type": "code",
   "execution_count": null,
   "id": "eb29474c",
   "metadata": {},
   "outputs": [],
   "source": []
  }
 ],
 "metadata": {
  "kernelspec": {
   "display_name": "Python 3",
   "language": "python",
   "name": "python3"
  },
  "language_info": {
   "codemirror_mode": {
    "name": "ipython",
    "version": 3
   },
   "file_extension": ".py",
   "mimetype": "text/x-python",
   "name": "python",
   "nbconvert_exporter": "python",
   "pygments_lexer": "ipython3",
   "version": "3.8.15"
  }
 },
 "nbformat": 4,
 "nbformat_minor": 5
}
