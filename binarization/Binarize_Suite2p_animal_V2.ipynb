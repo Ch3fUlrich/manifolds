{
 "cells": [
  {
   "cell_type": "code",
   "execution_count": 1,
   "id": "611dc90f",
   "metadata": {},
   "outputs": [
    {
     "data": {
      "application/javascript": [
       "IPython.notebook.set_autosave_interval(180000)"
      ]
     },
     "metadata": {},
     "output_type": "display_data"
    },
    {
     "name": "stdout",
     "output_type": "stream",
     "text": [
      "Autosaving every 180 seconds\n"
     ]
    },
    {
     "name": "stderr",
     "output_type": "stream",
     "text": [
      "<ipython-input-1-e4476ecac24a>:12: DeprecationWarning: Importing display from IPython.core.display is deprecated since IPython 7.14, please import from IPython display\n",
      "  from IPython.core.display import display, HTML\n"
     ]
    },
    {
     "data": {
      "text/html": [
       "<style>.container { width:100% !important; }</style>"
      ],
      "text/plain": [
       "<IPython.core.display.HTML object>"
      ]
     },
     "metadata": {},
     "output_type": "display_data"
    },
    {
     "name": "stderr",
     "output_type": "stream",
     "text": [
      "/home/cat/.conda/envs/donato/lib/python3.8/site-packages/tqdm/auto.py:22: TqdmWarning: IProgress not found. Please update jupyter and ipywidgets. See https://ipywidgets.readthedocs.io/en/stable/user_install.html\n",
      "  from .autonotebook import tqdm as notebook_tqdm\n"
     ]
    }
   ],
   "source": [
    "import matplotlib\n",
    "%matplotlib tk\n",
    "%autosave 180\n",
    "%load_ext autoreload\n",
    "%autoreload 2\n",
    "\n",
    "import nest_asyncio\n",
    "%config Completer.use_jedi = False\n",
    "\n",
    "#\n",
    "import matplotlib.pyplot as plt\n",
    "from IPython.core.display import display, HTML\n",
    "display(HTML(\"<style>.container { width:100% !important; }</style>\"))\n",
    "\n",
    "# \n",
    "import numpy as np\n",
    "import os\n",
    "import scipy\n",
    "\n",
    "# add root directory to be able to import packages\n",
    "# todo: make all packages installable so they can be called/imported by environment\n",
    "import sys\n",
    "module_path = os.path.abspath(os.path.join('..'))\n",
    "sys.path.append(module_path)\n",
    "\n",
    "from utils.calcium import calcium\n"
   ]
  },
  {
   "cell_type": "code",
   "execution_count": 3,
   "id": "240d6ff7",
   "metadata": {
    "scrolled": true
   },
   "outputs": [
    {
     "name": "stdout",
     "output_type": "stream",
     "text": [
      "\n",
      "\n",
      "\n",
      "Processing session:  DON-003165_20210220\n"
     ]
    },
    {
     "name": "stderr",
     "output_type": "stream",
     "text": [
      "low pass filter: 100%|██████████| 301/301 [00:00<00:00, 2128.62it/s]\n",
      "model filter: remove bleaching or trends: 100%|██████████| 301/301 [00:01<00:00, 250.49it/s]\n",
      "305it [00:02, 149.06it/s]                         \n",
      "binarizing continuous traces filtered fluorescence onphase: 100%|██████████| 301/301 [00:00<00:00, 1745.07it/s]\n",
      "binarizing continuous traces filtered fluorescence upphase: 100%|██████████| 301/301 [00:00<00:00, 460.40it/s]\n"
     ]
    },
    {
     "name": "stdout",
     "output_type": "stream",
     "text": [
      "\n",
      "\n",
      "\n",
      "Processing session:  DON-003165_20210216\n"
     ]
    },
    {
     "name": "stderr",
     "output_type": "stream",
     "text": [
      "low pass filter: 100%|██████████| 389/389 [00:00<00:00, 2304.76it/s]\n",
      "model filter: remove bleaching or trends: 100%|██████████| 389/389 [00:01<00:00, 264.95it/s]\n",
      "392it [00:02, 170.52it/s]                         \n",
      "binarizing continuous traces filtered fluorescence onphase: 100%|██████████| 389/389 [00:00<00:00, 1763.50it/s]\n",
      "binarizing continuous traces filtered fluorescence upphase: 100%|██████████| 389/389 [00:00<00:00, 468.94it/s]\n"
     ]
    },
    {
     "name": "stdout",
     "output_type": "stream",
     "text": [
      "\n",
      "\n",
      "\n",
      "Processing session:  DON-003165_20210219\n"
     ]
    },
    {
     "name": "stderr",
     "output_type": "stream",
     "text": [
      "low pass filter: 100%|██████████| 305/305 [00:00<00:00, 2206.75it/s]\n",
      "model filter: remove bleaching or trends: 100%|██████████| 305/305 [00:01<00:00, 249.02it/s]\n",
      "100%|██████████| 305/305 [00:02<00:00, 131.09it/s]\n",
      "binarizing continuous traces filtered fluorescence onphase: 100%|██████████| 305/305 [00:00<00:00, 1515.64it/s]\n",
      "binarizing continuous traces filtered fluorescence upphase: 100%|██████████| 305/305 [00:00<00:00, 374.96it/s]\n"
     ]
    },
    {
     "name": "stdout",
     "output_type": "stream",
     "text": [
      "\n",
      "\n",
      "\n",
      "Processing session:  DON-003165_20210218\n"
     ]
    },
    {
     "name": "stderr",
     "output_type": "stream",
     "text": [
      "low pass filter: 100%|██████████| 399/399 [00:00<00:00, 1607.55it/s]\n",
      "model filter: remove bleaching or trends: 100%|██████████| 399/399 [00:02<00:00, 163.30it/s]\n",
      "100%|██████████| 399/399 [00:03<00:00, 104.22it/s]\n",
      "binarizing continuous traces filtered fluorescence onphase: 100%|██████████| 399/399 [00:00<00:00, 1283.71it/s]\n",
      "binarizing continuous traces filtered fluorescence upphase: 100%|██████████| 399/399 [00:01<00:00, 398.06it/s]\n"
     ]
    },
    {
     "name": "stdout",
     "output_type": "stream",
     "text": [
      "\n",
      "\n",
      "\n",
      "Processing session:  DON-003165_20210217\n"
     ]
    },
    {
     "name": "stderr",
     "output_type": "stream",
     "text": [
      "low pass filter: 100%|██████████| 399/399 [00:00<00:00, 2150.76it/s]\n",
      "model filter: remove bleaching or trends: 100%|██████████| 399/399 [00:01<00:00, 244.98it/s]\n",
      "100%|██████████| 399/399 [00:02<00:00, 139.30it/s]\n",
      "binarizing continuous traces filtered fluorescence onphase: 100%|██████████| 399/399 [00:00<00:00, 1629.95it/s]\n",
      "binarizing continuous traces filtered fluorescence upphase: 100%|██████████| 399/399 [00:01<00:00, 348.95it/s]\n"
     ]
    },
    {
     "name": "stdout",
     "output_type": "stream",
     "text": [
      "\n",
      "\n",
      "\n",
      "Processing session:  DON-003165_20210222\n"
     ]
    },
    {
     "name": "stderr",
     "output_type": "stream",
     "text": [
      "low pass filter: 100%|██████████| 321/321 [00:00<00:00, 2216.40it/s]\n",
      "model filter: remove bleaching or trends: 100%|██████████| 321/321 [00:01<00:00, 253.76it/s]\n",
      "324it [00:02, 156.80it/s]                         \n",
      "binarizing continuous traces filtered fluorescence onphase: 100%|██████████| 321/321 [00:00<00:00, 1420.42it/s]\n",
      "binarizing continuous traces filtered fluorescence upphase: 100%|██████████| 321/321 [00:00<00:00, 388.67it/s]\n"
     ]
    },
    {
     "name": "stdout",
     "output_type": "stream",
     "text": [
      "\n",
      "\n",
      "\n",
      "Processing session:  DON-003165_20210211\n"
     ]
    },
    {
     "name": "stderr",
     "output_type": "stream",
     "text": [
      "low pass filter: 100%|██████████| 657/657 [00:00<00:00, 2272.02it/s]\n",
      "model filter: remove bleaching or trends: 100%|██████████| 657/657 [00:02<00:00, 260.51it/s]\n",
      "660it [00:03, 201.96it/s]                         \n",
      "binarizing continuous traces filtered fluorescence onphase: 100%|██████████| 657/657 [00:00<00:00, 1610.02it/s]\n",
      "binarizing continuous traces filtered fluorescence upphase: 100%|██████████| 657/657 [00:02<00:00, 248.13it/s]\n"
     ]
    },
    {
     "name": "stdout",
     "output_type": "stream",
     "text": [
      "\n",
      "\n",
      "\n",
      "Processing session:  DON-003165_20210213\n"
     ]
    },
    {
     "name": "stderr",
     "output_type": "stream",
     "text": [
      "low pass filter: 100%|██████████| 354/354 [00:00<00:00, 2294.64it/s]\n",
      "model filter: remove bleaching or trends: 100%|██████████| 354/354 [00:01<00:00, 271.60it/s]\n",
      "100%|██████████| 354/354 [00:01<00:00, 187.26it/s]\n",
      "binarizing continuous traces filtered fluorescence onphase: 100%|██████████| 354/354 [00:00<00:00, 1983.07it/s]\n",
      "binarizing continuous traces filtered fluorescence upphase: 100%|██████████| 354/354 [00:00<00:00, 512.81it/s]\n"
     ]
    },
    {
     "name": "stdout",
     "output_type": "stream",
     "text": [
      "\n",
      "\n",
      "\n",
      "Processing session:  DON-003165_20210223\n"
     ]
    },
    {
     "name": "stderr",
     "output_type": "stream",
     "text": [
      "low pass filter: 100%|██████████| 305/305 [00:00<00:00, 2269.18it/s]\n",
      "model filter: remove bleaching or trends: 100%|██████████| 305/305 [00:01<00:00, 272.26it/s]\n",
      "100%|██████████| 305/305 [00:01<00:00, 223.48it/s]\n",
      "binarizing continuous traces filtered fluorescence onphase: 100%|██████████| 305/305 [00:00<00:00, 1493.16it/s]\n",
      "binarizing continuous traces filtered fluorescence upphase: 100%|██████████| 305/305 [00:00<00:00, 391.83it/s]\n"
     ]
    },
    {
     "name": "stdout",
     "output_type": "stream",
     "text": [
      "\n",
      "\n",
      "\n",
      "Processing session:  DON-003165_20210215\n"
     ]
    },
    {
     "name": "stderr",
     "output_type": "stream",
     "text": [
      "low pass filter: 100%|██████████| 337/337 [00:00<00:00, 2246.10it/s]\n",
      "model filter: remove bleaching or trends: 100%|██████████| 337/337 [00:01<00:00, 256.03it/s]\n",
      "342it [00:02, 148.36it/s]                         \n",
      "binarizing continuous traces filtered fluorescence onphase: 100%|██████████| 337/337 [00:00<00:00, 1784.05it/s]\n",
      "binarizing continuous traces filtered fluorescence upphase: 100%|██████████| 337/337 [00:00<00:00, 526.13it/s]\n"
     ]
    },
    {
     "name": "stdout",
     "output_type": "stream",
     "text": [
      "\n",
      "\n",
      "\n",
      "Processing session:  DON-003343_20210213\n"
     ]
    },
    {
     "name": "stderr",
     "output_type": "stream",
     "text": [
      "low pass filter: 100%|██████████| 840/840 [00:00<00:00, 2290.21it/s]\n",
      "model filter: remove bleaching or trends: 100%|██████████| 840/840 [00:03<00:00, 256.50it/s]\n",
      "100%|██████████| 840/840 [00:05<00:00, 144.94it/s]\n",
      "binarizing continuous traces filtered fluorescence onphase: 100%|██████████| 840/840 [00:00<00:00, 1715.12it/s]\n",
      "binarizing continuous traces filtered fluorescence upphase: 100%|██████████| 840/840 [00:01<00:00, 520.37it/s]\n"
     ]
    },
    {
     "name": "stdout",
     "output_type": "stream",
     "text": [
      "\n",
      "\n",
      "\n",
      "Processing session:  DON-003343_20210218\n"
     ]
    },
    {
     "name": "stderr",
     "output_type": "stream",
     "text": [
      "low pass filter: 100%|██████████| 542/542 [00:00<00:00, 2170.16it/s]\n",
      "model filter: remove bleaching or trends: 100%|██████████| 542/542 [00:02<00:00, 245.70it/s]\n",
      "549it [00:03, 144.42it/s]                         \n",
      "binarizing continuous traces filtered fluorescence onphase: 100%|██████████| 542/542 [00:00<00:00, 2072.20it/s]\n",
      "binarizing continuous traces filtered fluorescence upphase: 100%|██████████| 542/542 [00:00<00:00, 608.80it/s]\n"
     ]
    },
    {
     "name": "stdout",
     "output_type": "stream",
     "text": [
      "\n",
      "\n",
      "\n",
      "Processing session:  DON-003343_20210217\n"
     ]
    },
    {
     "name": "stderr",
     "output_type": "stream",
     "text": [
      "low pass filter: 100%|██████████| 778/778 [00:00<00:00, 2215.02it/s]\n",
      "model filter: remove bleaching or trends: 100%|██████████| 778/778 [00:03<00:00, 251.80it/s]\n",
      "780it [00:04, 173.05it/s]                         \n",
      "binarizing continuous traces filtered fluorescence onphase: 100%|██████████| 778/778 [00:00<00:00, 1835.69it/s]\n",
      "binarizing continuous traces filtered fluorescence upphase: 100%|██████████| 778/778 [00:01<00:00, 555.12it/s]\n"
     ]
    },
    {
     "name": "stdout",
     "output_type": "stream",
     "text": [
      "\n",
      "\n",
      "\n",
      "Processing session:  DON-003343_20210216\n"
     ]
    },
    {
     "name": "stderr",
     "output_type": "stream",
     "text": [
      "low pass filter: 100%|██████████| 1023/1023 [00:00<00:00, 2295.48it/s]\n",
      "model filter: remove bleaching or trends: 100%|██████████| 1023/1023 [00:03<00:00, 270.58it/s]\n",
      "1024it [00:05, 190.11it/s]                         \n",
      "binarizing continuous traces filtered fluorescence onphase: 100%|██████████| 1023/1023 [00:00<00:00, 1962.88it/s]\n",
      "binarizing continuous traces filtered fluorescence upphase: 100%|██████████| 1023/1023 [00:02<00:00, 470.04it/s]\n"
     ]
    },
    {
     "name": "stdout",
     "output_type": "stream",
     "text": [
      "\n",
      "\n",
      "\n",
      "Processing session:  DON-003343_20210219\n"
     ]
    },
    {
     "name": "stderr",
     "output_type": "stream",
     "text": [
      "low pass filter: 100%|██████████| 840/840 [00:00<00:00, 2299.68it/s]\n",
      "model filter: remove bleaching or trends: 100%|██████████| 840/840 [00:03<00:00, 265.94it/s]\n",
      "100%|██████████| 840/840 [00:05<00:00, 164.03it/s]\n",
      "binarizing continuous traces filtered fluorescence onphase: 100%|██████████| 840/840 [00:00<00:00, 1805.39it/s]\n",
      "binarizing continuous traces filtered fluorescence upphase: 100%|██████████| 840/840 [00:01<00:00, 555.04it/s]\n"
     ]
    },
    {
     "name": "stdout",
     "output_type": "stream",
     "text": [
      "\n",
      "\n",
      "\n",
      "Processing session:  DON-003343_20210215\n"
     ]
    },
    {
     "name": "stderr",
     "output_type": "stream",
     "text": [
      "low pass filter: 100%|██████████| 1084/1084 [00:00<00:00, 2133.75it/s]\n",
      "model filter: remove bleaching or trends: 100%|██████████| 1084/1084 [00:04<00:00, 239.08it/s]\n",
      "1088it [00:06, 172.80it/s]                         \n",
      "binarizing continuous traces filtered fluorescence onphase: 100%|██████████| 1084/1084 [00:00<00:00, 1690.47it/s]\n",
      "binarizing continuous traces filtered fluorescence upphase: 100%|██████████| 1084/1084 [00:02<00:00, 379.65it/s]\n"
     ]
    },
    {
     "name": "stdout",
     "output_type": "stream",
     "text": [
      "\n",
      "\n",
      "\n",
      "Processing session:  DON-003343_20210222\n"
     ]
    },
    {
     "name": "stderr",
     "output_type": "stream",
     "text": [
      "low pass filter: 100%|██████████| 519/519 [00:00<00:00, 2287.69it/s]\n",
      "model filter: remove bleaching or trends: 100%|██████████| 519/519 [00:01<00:00, 269.07it/s]\n",
      " 61%|██████    | 315/519 [00:02<00:01, 157.49it/s]"
     ]
    },
    {
     "name": "stdout",
     "output_type": "stream",
     "text": [
      "error data corrupt: data:  [0.00029062 0.00036369 0.00043838 ... 0.00113014 0.00117821 0.00124116]\n"
     ]
    },
    {
     "name": "stderr",
     "output_type": "stream",
     "text": [
      "522it [00:02, 198.29it/s]                         \n",
      "binarizing continuous traces filtered fluorescence onphase: 100%|██████████| 519/519 [00:00<00:00, 1535.29it/s]\n",
      "binarizing continuous traces filtered fluorescence upphase: 100%|██████████| 519/519 [00:01<00:00, 428.53it/s]\n"
     ]
    },
    {
     "name": "stdout",
     "output_type": "stream",
     "text": [
      "\n",
      "\n",
      "\n",
      "Processing session:  DON-003343_20210221\n"
     ]
    },
    {
     "name": "stderr",
     "output_type": "stream",
     "text": [
      "low pass filter: 100%|██████████| 605/605 [00:00<00:00, 2327.00it/s]\n",
      "model filter: remove bleaching or trends: 100%|██████████| 605/605 [00:02<00:00, 273.73it/s]\n",
      "  0%|          | 0/605 [00:00<?, ?it/s]"
     ]
    },
    {
     "name": "stdout",
     "output_type": "stream",
     "text": [
      "error data corrupt: data:  [0.00029062 0.00036369 0.00043838 ... 0.00113014 0.00117821 0.00124116]\n"
     ]
    },
    {
     "name": "stderr",
     "output_type": "stream",
     "text": [
      "610it [00:02, 260.10it/s]                         \n",
      "binarizing continuous traces filtered fluorescence onphase: 100%|██████████| 605/605 [00:00<00:00, 1554.21it/s]\n",
      "binarizing continuous traces filtered fluorescence upphase: 100%|██████████| 605/605 [00:01<00:00, 424.54it/s]\n"
     ]
    },
    {
     "name": "stdout",
     "output_type": "stream",
     "text": [
      "\n",
      "\n",
      "\n",
      "Processing session:  DON-003343_20210220\n"
     ]
    },
    {
     "name": "stderr",
     "output_type": "stream",
     "text": [
      "low pass filter: 100%|██████████| 882/882 [00:00<00:00, 2178.68it/s]\n",
      "model filter: remove bleaching or trends: 100%|██████████| 882/882 [00:03<00:00, 240.53it/s]\n",
      "100%|██████████| 882/882 [00:03<00:00, 223.48it/s]\n",
      "binarizing continuous traces filtered fluorescence onphase: 100%|██████████| 882/882 [00:00<00:00, 1718.00it/s]\n",
      "binarizing continuous traces filtered fluorescence upphase: 100%|██████████| 882/882 [00:02<00:00, 416.74it/s]\n"
     ]
    },
    {
     "name": "stdout",
     "output_type": "stream",
     "text": [
      "\n",
      "\n",
      "\n",
      "Processing session:  DON-003343_20210214\n"
     ]
    },
    {
     "name": "stderr",
     "output_type": "stream",
     "text": [
      "low pass filter: 100%|██████████| 842/842 [00:00<00:00, 2348.65it/s]\n",
      "model filter: remove bleaching or trends: 100%|██████████| 842/842 [00:03<00:00, 277.28it/s]\n",
      "854it [00:04, 213.11it/s]                         \n",
      "binarizing continuous traces filtered fluorescence onphase: 100%|██████████| 842/842 [00:00<00:00, 2062.96it/s]\n",
      "binarizing continuous traces filtered fluorescence upphase: 100%|██████████| 842/842 [00:01<00:00, 547.57it/s]\n"
     ]
    },
    {
     "name": "stdout",
     "output_type": "stream",
     "text": [
      "\n",
      "\n",
      "\n",
      "Processing session:  20210526\n"
     ]
    },
    {
     "name": "stderr",
     "output_type": "stream",
     "text": [
      "low pass filter: 100%|██████████| 322/322 [00:00<00:00, 2340.77it/s]\n",
      "model filter: remove bleaching or trends: 100%|██████████| 322/322 [00:01<00:00, 272.94it/s]\n",
      "  0%|          | 0/322 [00:00<?, ?it/s]"
     ]
    },
    {
     "name": "stdout",
     "output_type": "stream",
     "text": [
      "error data corrupt: data:  [0.00089403 0.00089403 0.00089403 ... 0.0002444  0.00024394 0.00024354]\n"
     ]
    },
    {
     "name": "stderr",
     "output_type": "stream",
     "text": [
      "324it [00:01, 200.19it/s]              \n",
      "binarizing continuous traces filtered fluorescence onphase: 100%|██████████| 322/322 [00:00<00:00, 1628.41it/s]\n",
      "binarizing continuous traces filtered fluorescence upphase: 100%|██████████| 322/322 [00:00<00:00, 494.36it/s]\n"
     ]
    },
    {
     "name": "stdout",
     "output_type": "stream",
     "text": [
      "\n",
      "\n",
      "\n",
      "Processing session:  20210523\n"
     ]
    },
    {
     "name": "stderr",
     "output_type": "stream",
     "text": [
      "low pass filter: 100%|██████████| 514/514 [00:00<00:00, 2366.17it/s]\n",
      "model filter: remove bleaching or trends: 100%|██████████| 514/514 [00:01<00:00, 267.91it/s]\n",
      " 67%|██████▋   | 342/514 [00:02<00:01, 170.99it/s]"
     ]
    },
    {
     "name": "stdout",
     "output_type": "stream",
     "text": [
      "error data corrupt: data:  [4.5386897e-04 4.6104944e-04 4.6902493e-04 ... 5.1161587e-06 4.9629898e-06\n",
      " 4.8324250e-06]\n"
     ]
    },
    {
     "name": "stderr",
     "output_type": "stream",
     "text": [
      "522it [00:02, 181.83it/s]                         \n",
      "binarizing continuous traces filtered fluorescence onphase: 100%|██████████| 514/514 [00:00<00:00, 1742.16it/s]\n",
      "binarizing continuous traces filtered fluorescence upphase: 100%|██████████| 514/514 [00:00<00:00, 571.00it/s]\n"
     ]
    },
    {
     "name": "stdout",
     "output_type": "stream",
     "text": [
      "\n",
      "\n",
      "\n",
      "Processing session:  20210525\n"
     ]
    },
    {
     "name": "stderr",
     "output_type": "stream",
     "text": [
      "low pass filter: 100%|██████████| 544/544 [00:00<00:00, 2376.15it/s]\n",
      "model filter: remove bleaching or trends: 100%|██████████| 544/544 [00:02<00:00, 270.42it/s]\n",
      " 66%|██████▌   | 360/544 [00:02<00:01, 179.99it/s]"
     ]
    },
    {
     "name": "stdout",
     "output_type": "stream",
     "text": [
      "error data corrupt: data:  [0.00011402 0.00024249 0.00037242 ... 0.0007308  0.00069206 0.0006593 ]\n",
      "error data corrupt: data:  [5.3607928e-06 5.3630811e-06 5.3653694e-06 ... 1.3291412e-04 1.3291529e-04\n",
      " 1.3291664e-04]\n",
      "error data corrupt: data:  [0.00049666 0.00053376 0.00057496 ... 0.00026281 0.00026281 0.00026281]\n",
      "error data corrupt: data:  [8.8199791e-05 8.8231413e-05 8.8266490e-05 ... 3.7874296e-04 3.6072242e-04\n",
      " 3.4548718e-04]\n",
      "error data corrupt: data:  [6.7459827e-04 7.4645667e-04 8.2626345e-04 ... 8.4132371e-05 8.2301209e-05\n",
      " 8.0753169e-05]\n",
      "error data corrupt: data:  [0.00032577 0.00034689 0.00037034 ... 0.00018659 0.00018602 0.00018555]\n",
      "error data corrupt: data:  [0.00015524 0.00015524 0.00015525 ... 0.00022444 0.00022308 0.00022194]\n",
      "error data corrupt: data:  [0.00010079 0.00010086 0.00010094 ... 0.00089018 0.00083924 0.00079617]\n",
      "error data corrupt: data:  [2.0700716e-04 2.1057259e-04 2.1453228e-04 ... 6.9195032e-04 5.6143745e-04\n",
      " 9.3863186e-05]\n",
      "error data corrupt: data:  [0.00033008 0.00034642 0.00036458 ... 0.0001317  0.00013    0.00012857]\n",
      "error data corrupt: data:  [0.00060777 0.0006619  0.00072203 ... 0.00073623 0.00069703 0.0006639 ]\n",
      "error data corrupt: data:  [0.0004516  0.00048694 0.00052619 ... 0.00150795 0.00141972 0.00134512]\n",
      "error data corrupt: data:  [0.00013782 0.00014114 0.00014483 ... 0.00016647 0.00016242 0.000159  ]\n",
      "error data corrupt: data:  [3.2457621e-05 3.2498490e-05 3.2543441e-05 ... 1.6940618e-03 1.5980513e-03\n",
      " 1.5168808e-03]\n",
      "error data corrupt: data:  [0.00070123 0.00087118 0.00104891 ... 0.00031383 0.00029985 0.00028803]\n",
      "error data corrupt: data:  [8.6035012e-05 8.6122687e-05 8.6219967e-05 ... 6.3165487e-04 5.9846579e-04\n",
      " 5.7040673e-04]\n",
      "error data corrupt: data:  [6.4479493e-05 6.5130065e-05 6.5852422e-05 ... 1.5092237e-04 1.5092340e-04\n",
      " 1.5092455e-04]\n"
     ]
    },
    {
     "name": "stderr",
     "output_type": "stream",
     "text": [
      "549it [00:02, 201.73it/s]                         \n",
      "binarizing continuous traces filtered fluorescence onphase: 100%|██████████| 544/544 [00:00<00:00, 1811.43it/s]\n",
      "binarizing continuous traces filtered fluorescence upphase: 100%|██████████| 544/544 [00:00<00:00, 601.83it/s]\n"
     ]
    },
    {
     "name": "stdout",
     "output_type": "stream",
     "text": [
      "\n",
      "\n",
      "\n",
      "Processing session:  20210519\n"
     ]
    },
    {
     "name": "stderr",
     "output_type": "stream",
     "text": [
      "low pass filter: 100%|██████████| 441/441 [00:00<00:00, 2405.03it/s]\n",
      "model filter: remove bleaching or trends: 100%|██████████| 441/441 [00:01<00:00, 269.08it/s]\n",
      "100%|██████████| 441/441 [00:02<00:00, 202.76it/s]\n",
      "binarizing continuous traces filtered fluorescence onphase: 100%|██████████| 441/441 [00:00<00:00, 1397.15it/s]\n",
      "binarizing continuous traces filtered fluorescence upphase: 100%|██████████| 441/441 [00:00<00:00, 563.12it/s]\n"
     ]
    },
    {
     "name": "stdout",
     "output_type": "stream",
     "text": [
      "\n",
      "\n",
      "\n",
      "Processing session:  20210527\n"
     ]
    },
    {
     "name": "stderr",
     "output_type": "stream",
     "text": [
      "low pass filter: 100%|██████████| 546/546 [00:00<00:00, 2390.12it/s]\n",
      "model filter: remove bleaching or trends: 100%|██████████| 546/546 [00:01<00:00, 275.11it/s]\n",
      "549it [00:02, 211.71it/s]                         \n",
      "binarizing continuous traces filtered fluorescence onphase: 100%|██████████| 546/546 [00:00<00:00, 1331.54it/s]\n",
      "binarizing continuous traces filtered fluorescence upphase: 100%|██████████| 546/546 [00:01<00:00, 422.56it/s]\n"
     ]
    },
    {
     "name": "stdout",
     "output_type": "stream",
     "text": [
      "\n",
      "\n",
      "\n",
      "Processing session:  20210522\n"
     ]
    },
    {
     "name": "stderr",
     "output_type": "stream",
     "text": [
      "low pass filter: 100%|██████████| 562/562 [00:00<00:00, 2303.46it/s]\n",
      "model filter: remove bleaching or trends: 100%|██████████| 562/562 [00:02<00:00, 265.54it/s]\n",
      "567it [00:02, 205.39it/s]                         \n",
      "binarizing continuous traces filtered fluorescence onphase: 100%|██████████| 562/562 [00:00<00:00, 1606.00it/s]\n",
      "binarizing continuous traces filtered fluorescence upphase: 100%|██████████| 562/562 [00:00<00:00, 600.97it/s]\n"
     ]
    },
    {
     "name": "stdout",
     "output_type": "stream",
     "text": [
      "\n",
      "\n",
      "\n",
      "Processing session:  20210521\n"
     ]
    },
    {
     "name": "stderr",
     "output_type": "stream",
     "text": [
      "low pass filter: 100%|██████████| 460/460 [00:00<00:00, 2394.37it/s]\n",
      "model filter: remove bleaching or trends: 100%|██████████| 460/460 [00:01<00:00, 275.07it/s]\n",
      "464it [00:02, 202.35it/s]                         \n",
      "binarizing continuous traces filtered fluorescence onphase: 100%|██████████| 460/460 [00:00<00:00, 1242.51it/s]\n",
      "binarizing continuous traces filtered fluorescence upphase: 100%|██████████| 460/460 [00:01<00:00, 447.49it/s]\n"
     ]
    },
    {
     "name": "stdout",
     "output_type": "stream",
     "text": [
      "\n",
      "\n",
      "\n",
      "Processing session:  20210524\n"
     ]
    },
    {
     "name": "stderr",
     "output_type": "stream",
     "text": [
      "low pass filter: 100%|██████████| 259/259 [00:00<00:00, 2387.87it/s]\n",
      "model filter: remove bleaching or trends: 100%|██████████| 259/259 [00:00<00:00, 277.92it/s]\n",
      "260it [00:01, 198.43it/s]              \n",
      "binarizing continuous traces filtered fluorescence onphase: 100%|██████████| 259/259 [00:00<00:00, 1455.08it/s]\n",
      "binarizing continuous traces filtered fluorescence upphase: 100%|██████████| 259/259 [00:00<00:00, 377.22it/s]\n"
     ]
    },
    {
     "name": "stdout",
     "output_type": "stream",
     "text": [
      "\n",
      "\n",
      "\n",
      "Processing session:  20210520\n"
     ]
    },
    {
     "name": "stderr",
     "output_type": "stream",
     "text": [
      "low pass filter: 100%|██████████| 521/521 [00:00<00:00, 2403.15it/s]\n",
      "model filter: remove bleaching or trends: 100%|██████████| 521/521 [00:01<00:00, 275.83it/s]\n",
      "522it [00:02, 195.66it/s]                         \n",
      "binarizing continuous traces filtered fluorescence onphase: 100%|██████████| 521/521 [00:00<00:00, 1200.07it/s]\n",
      "binarizing continuous traces filtered fluorescence upphase: 100%|██████████| 521/521 [00:01<00:00, 434.17it/s]\n"
     ]
    },
    {
     "name": "stdout",
     "output_type": "stream",
     "text": [
      "\n",
      "\n",
      "\n",
      "Processing session:  20210528\n"
     ]
    },
    {
     "name": "stderr",
     "output_type": "stream",
     "text": [
      "low pass filter: 100%|██████████| 400/400 [00:00<00:00, 2357.48it/s]\n",
      "model filter: remove bleaching or trends: 100%|██████████| 400/400 [00:01<00:00, 269.30it/s]\n",
      "406it [00:02, 197.88it/s]                         \n",
      "binarizing continuous traces filtered fluorescence onphase: 100%|██████████| 400/400 [00:00<00:00, 1870.33it/s]\n",
      "binarizing continuous traces filtered fluorescence upphase: 100%|██████████| 400/400 [00:00<00:00, 633.29it/s]\n"
     ]
    },
    {
     "name": "stdout",
     "output_type": "stream",
     "text": [
      "\n",
      "\n",
      "\n",
      "Processing session:  20210526\n"
     ]
    },
    {
     "name": "stderr",
     "output_type": "stream",
     "text": [
      "low pass filter: 100%|██████████| 1015/1015 [00:00<00:00, 2303.30it/s]\n",
      "model filter: remove bleaching or trends: 100%|██████████| 1015/1015 [00:06<00:00, 156.60it/s]\n",
      "1024it [00:04, 211.06it/s]                         \n",
      "binarizing continuous traces filtered fluorescence onphase: 100%|██████████| 1015/1015 [00:00<00:00, 2021.50it/s]\n",
      "binarizing continuous traces filtered fluorescence upphase: 100%|██████████| 1015/1015 [00:00<00:00, 1116.19it/s]\n"
     ]
    },
    {
     "name": "stdout",
     "output_type": "stream",
     "text": [
      "\n",
      "\n",
      "\n",
      "Processing session:  20210523\n"
     ]
    },
    {
     "name": "stderr",
     "output_type": "stream",
     "text": [
      "low pass filter: 100%|██████████| 1191/1191 [00:00<00:00, 2377.15it/s]\n",
      "model filter: remove bleaching or trends: 100%|██████████| 1191/1191 [00:07<00:00, 154.21it/s]\n",
      "1197it [00:06, 193.90it/s]                          \n",
      "binarizing continuous traces filtered fluorescence onphase: 100%|██████████| 1191/1191 [00:00<00:00, 1382.72it/s]\n",
      "binarizing continuous traces filtered fluorescence upphase: 100%|██████████| 1191/1191 [00:01<00:00, 762.20it/s] \n"
     ]
    },
    {
     "name": "stdout",
     "output_type": "stream",
     "text": [
      "\n",
      "\n",
      "\n",
      "Processing session:  20210525\n"
     ]
    },
    {
     "name": "stderr",
     "output_type": "stream",
     "text": [
      "low pass filter: 100%|██████████| 1128/1128 [00:00<00:00, 2413.69it/s]\n",
      "model filter: remove bleaching or trends: 100%|██████████| 1128/1128 [00:06<00:00, 161.25it/s]\n",
      "1134it [00:05, 193.07it/s]                         \n",
      "binarizing continuous traces filtered fluorescence onphase: 100%|██████████| 1128/1128 [00:00<00:00, 1260.72it/s]\n",
      "binarizing continuous traces filtered fluorescence upphase: 100%|██████████| 1128/1128 [00:01<00:00, 669.52it/s]\n"
     ]
    },
    {
     "name": "stdout",
     "output_type": "stream",
     "text": [
      "\n",
      "\n",
      "\n",
      "Processing session:  20210519\n"
     ]
    },
    {
     "name": "stderr",
     "output_type": "stream",
     "text": [
      "low pass filter: 100%|██████████| 1316/1316 [00:00<00:00, 2407.13it/s]\n",
      "model filter: remove bleaching or trends: 100%|██████████| 1316/1316 [00:08<00:00, 161.70it/s]\n",
      "1323it [00:06, 210.67it/s]                          \n",
      "binarizing continuous traces filtered fluorescence onphase: 100%|██████████| 1316/1316 [00:00<00:00, 1450.20it/s]\n",
      "binarizing continuous traces filtered fluorescence upphase: 100%|██████████| 1316/1316 [00:01<00:00, 761.97it/s]\n"
     ]
    },
    {
     "name": "stdout",
     "output_type": "stream",
     "text": [
      "\n",
      "\n",
      "\n",
      "Processing session:  20210527\n"
     ]
    },
    {
     "name": "stderr",
     "output_type": "stream",
     "text": [
      "low pass filter: 100%|██████████| 1027/1027 [00:00<00:00, 2418.26it/s]\n",
      "model filter: remove bleaching or trends: 100%|██████████| 1027/1027 [00:06<00:00, 161.32it/s]\n",
      "1037it [00:05, 200.89it/s]                         \n",
      "binarizing continuous traces filtered fluorescence onphase: 100%|██████████| 1027/1027 [00:00<00:00, 1675.11it/s]\n",
      "binarizing continuous traces filtered fluorescence upphase: 100%|██████████| 1027/1027 [00:01<00:00, 821.20it/s]\n"
     ]
    },
    {
     "name": "stdout",
     "output_type": "stream",
     "text": [
      "\n",
      "\n",
      "\n",
      "Processing session:  20210522\n"
     ]
    },
    {
     "name": "stderr",
     "output_type": "stream",
     "text": [
      "low pass filter: 100%|██████████| 1603/1603 [00:00<00:00, 2431.37it/s]\n",
      "model filter: remove bleaching or trends: 100%|██████████| 1603/1603 [00:09<00:00, 162.03it/s]\n",
      "1612it [00:08, 197.90it/s]                          \n",
      "binarizing continuous traces filtered fluorescence onphase: 100%|██████████| 1603/1603 [00:01<00:00, 1382.06it/s]\n",
      "binarizing continuous traces filtered fluorescence upphase: 100%|██████████| 1603/1603 [00:02<00:00, 757.35it/s] \n"
     ]
    },
    {
     "name": "stdout",
     "output_type": "stream",
     "text": [
      "\n",
      "\n",
      "\n",
      "Processing session:  20210521\n"
     ]
    },
    {
     "name": "stderr",
     "output_type": "stream",
     "text": [
      "low pass filter: 100%|██████████| 460/460 [00:00<00:00, 2416.37it/s]\n",
      "model filter: remove bleaching or trends: 100%|██████████| 460/460 [00:02<00:00, 159.89it/s]\n",
      "464it [00:02, 204.73it/s]                         \n",
      "binarizing continuous traces filtered fluorescence onphase: 100%|██████████| 460/460 [00:00<00:00, 1381.26it/s]\n",
      "binarizing continuous traces filtered fluorescence upphase: 100%|██████████| 460/460 [00:00<00:00, 499.88it/s]\n"
     ]
    },
    {
     "name": "stdout",
     "output_type": "stream",
     "text": [
      "\n",
      "\n",
      "\n",
      "Processing session:  20210524\n"
     ]
    },
    {
     "name": "stderr",
     "output_type": "stream",
     "text": [
      "low pass filter: 100%|██████████| 1173/1173 [00:00<00:00, 2433.95it/s]\n",
      "model filter: remove bleaching or trends: 100%|██████████| 1173/1173 [00:07<00:00, 161.28it/s]\n",
      " 65%|██████▍   | 760/1173 [00:04<00:02, 196.66it/s]"
     ]
    },
    {
     "name": "stdout",
     "output_type": "stream",
     "text": [
      "error data corrupt: data:  [0.00093887 0.00101281 0.00109492 ... 0.00100747 0.00087933 0.00052325]\n"
     ]
    },
    {
     "name": "stderr",
     "output_type": "stream",
     "text": [
      "1178it [00:05, 222.15it/s]                         \n",
      "binarizing continuous traces filtered fluorescence onphase: 100%|██████████| 1173/1173 [00:00<00:00, 2194.75it/s]\n",
      "binarizing continuous traces filtered fluorescence upphase: 100%|██████████| 1173/1173 [00:00<00:00, 1242.45it/s]\n"
     ]
    },
    {
     "name": "stdout",
     "output_type": "stream",
     "text": [
      "\n",
      "\n",
      "\n",
      "Processing session:  20210520\n"
     ]
    },
    {
     "name": "stderr",
     "output_type": "stream",
     "text": [
      "low pass filter: 100%|██████████| 1111/1111 [00:00<00:00, 2430.53it/s]\n",
      "model filter: remove bleaching or trends: 100%|██████████| 1111/1111 [00:06<00:00, 159.77it/s]\n",
      "1116it [00:05, 208.33it/s]                         \n",
      "binarizing continuous traces filtered fluorescence onphase: 100%|██████████| 1111/1111 [00:00<00:00, 1276.18it/s]\n",
      "binarizing continuous traces filtered fluorescence upphase: 100%|██████████| 1111/1111 [00:01<00:00, 697.25it/s]\n"
     ]
    },
    {
     "name": "stdout",
     "output_type": "stream",
     "text": [
      "\n",
      "\n",
      "\n",
      "Processing session:  20210528\n"
     ]
    },
    {
     "name": "stderr",
     "output_type": "stream",
     "text": [
      "low pass filter: 100%|██████████| 690/690 [00:00<00:00, 2412.54it/s]\n",
      "model filter: remove bleaching or trends: 100%|██████████| 690/690 [00:04<00:00, 160.28it/s]\n",
      "693it [00:03, 215.30it/s]                         \n",
      "binarizing continuous traces filtered fluorescence onphase: 100%|██████████| 690/690 [00:00<00:00, 1955.58it/s]\n",
      "binarizing continuous traces filtered fluorescence upphase: 100%|██████████| 690/690 [00:00<00:00, 934.78it/s] \n"
     ]
    },
    {
     "name": "stdout",
     "output_type": "stream",
     "text": [
      "\n",
      "\n",
      "\n",
      "Processing session:  20210526\n"
     ]
    },
    {
     "name": "stderr",
     "output_type": "stream",
     "text": [
      "low pass filter: 100%|██████████| 632/632 [00:00<00:00, 2411.19it/s]\n",
      "model filter: remove bleaching or trends: 100%|██████████| 632/632 [00:02<00:00, 278.06it/s]\n",
      "640it [00:03, 194.46it/s]                         \n",
      "binarizing continuous traces filtered fluorescence onphase: 100%|██████████| 632/632 [00:00<00:00, 1369.42it/s]\n",
      "binarizing continuous traces filtered fluorescence upphase: 100%|██████████| 632/632 [00:01<00:00, 587.58it/s]\n"
     ]
    },
    {
     "name": "stdout",
     "output_type": "stream",
     "text": [
      "\n",
      "\n",
      "\n",
      "Processing session:  20210525\n"
     ]
    },
    {
     "name": "stderr",
     "output_type": "stream",
     "text": [
      "low pass filter: 100%|██████████| 418/418 [00:00<00:00, 2422.39it/s]\n",
      "model filter: remove bleaching or trends: 100%|██████████| 418/418 [00:01<00:00, 277.28it/s]\n",
      "420it [00:02, 195.79it/s]                         \n",
      "binarizing continuous traces filtered fluorescence onphase: 100%|██████████| 418/418 [00:00<00:00, 1313.78it/s]\n",
      "binarizing continuous traces filtered fluorescence upphase: 100%|██████████| 418/418 [00:00<00:00, 507.82it/s]\n"
     ]
    },
    {
     "name": "stdout",
     "output_type": "stream",
     "text": [
      "\n",
      "\n",
      "\n",
      "Processing session:  20210530\n"
     ]
    },
    {
     "name": "stderr",
     "output_type": "stream",
     "text": [
      "low pass filter: 100%|██████████| 1466/1466 [00:00<00:00, 2426.44it/s]\n",
      "model filter: remove bleaching or trends: 100%|██████████| 1466/1466 [00:05<00:00, 280.69it/s]\n",
      "1472it [00:07, 205.87it/s]                          \n",
      "binarizing continuous traces filtered fluorescence onphase: 100%|██████████| 1466/1466 [00:01<00:00, 1102.07it/s]\n",
      "binarizing continuous traces filtered fluorescence upphase: 100%|██████████| 1466/1466 [00:03<00:00, 426.61it/s]\n"
     ]
    },
    {
     "name": "stdout",
     "output_type": "stream",
     "text": [
      "\n",
      "\n",
      "\n",
      "Processing session:  20210527\n"
     ]
    },
    {
     "name": "stderr",
     "output_type": "stream",
     "text": [
      "low pass filter: 100%|██████████| 573/573 [00:00<00:00, 2379.07it/s]\n",
      "model filter: remove bleaching or trends: 100%|██████████| 573/573 [00:02<00:00, 276.44it/s]\n",
      "576it [00:02, 205.30it/s]                         \n",
      "binarizing continuous traces filtered fluorescence onphase: 100%|██████████| 573/573 [00:00<00:00, 1729.04it/s]\n",
      "binarizing continuous traces filtered fluorescence upphase: 100%|██████████| 573/573 [00:00<00:00, 634.25it/s]\n"
     ]
    },
    {
     "name": "stdout",
     "output_type": "stream",
     "text": [
      "\n",
      "\n",
      "\n",
      "Processing session:  20210602\n"
     ]
    },
    {
     "name": "stderr",
     "output_type": "stream",
     "text": [
      "low pass filter: 100%|██████████| 1121/1121 [00:00<00:00, 2403.77it/s]\n",
      "model filter: remove bleaching or trends: 100%|██████████| 1121/1121 [00:04<00:00, 278.54it/s]\n",
      "1134it [00:05, 214.37it/s]                         \n",
      "binarizing continuous traces filtered fluorescence onphase: 100%|██████████| 1121/1121 [00:01<00:00, 823.36it/s]\n",
      "binarizing continuous traces filtered fluorescence upphase: 100%|██████████| 1121/1121 [00:03<00:00, 305.87it/s]\n"
     ]
    },
    {
     "name": "stdout",
     "output_type": "stream",
     "text": [
      "\n",
      "\n",
      "\n",
      "Processing session:  20210529\n"
     ]
    },
    {
     "name": "stderr",
     "output_type": "stream",
     "text": [
      "low pass filter: 100%|██████████| 1009/1009 [00:00<00:00, 2428.45it/s]\n",
      "model filter: remove bleaching or trends: 100%|██████████| 1009/1009 [00:03<00:00, 276.78it/s]\n",
      "1024it [00:04, 216.32it/s]                         \n",
      "binarizing continuous traces filtered fluorescence onphase: 100%|██████████| 1009/1009 [00:00<00:00, 1234.32it/s]\n",
      "binarizing continuous traces filtered fluorescence upphase: 100%|██████████| 1009/1009 [00:02<00:00, 447.28it/s]\n"
     ]
    },
    {
     "name": "stdout",
     "output_type": "stream",
     "text": [
      "\n",
      "\n",
      "\n",
      "Processing session:  20210601\n"
     ]
    },
    {
     "name": "stderr",
     "output_type": "stream",
     "text": [
      "low pass filter: 100%|██████████| 962/962 [00:00<00:00, 2439.33it/s]\n",
      "model filter: remove bleaching or trends: 100%|██████████| 962/962 [00:03<00:00, 280.53it/s]\n",
      "976it [00:04, 216.34it/s]                         \n",
      "binarizing continuous traces filtered fluorescence onphase: 100%|██████████| 962/962 [00:01<00:00, 860.95it/s]\n",
      "binarizing continuous traces filtered fluorescence upphase: 100%|██████████| 962/962 [00:03<00:00, 310.47it/s]\n"
     ]
    },
    {
     "name": "stdout",
     "output_type": "stream",
     "text": [
      "\n",
      "\n",
      "\n",
      "Processing session:  20210531\n"
     ]
    },
    {
     "name": "stderr",
     "output_type": "stream",
     "text": [
      "low pass filter: 100%|██████████| 1132/1132 [00:00<00:00, 2432.89it/s]\n",
      "model filter: remove bleaching or trends: 100%|██████████| 1132/1132 [00:04<00:00, 280.85it/s]\n",
      "1134it [00:05, 215.40it/s]                         \n",
      "binarizing continuous traces filtered fluorescence onphase: 100%|██████████| 1132/1132 [00:01<00:00, 953.39it/s] \n",
      "binarizing continuous traces filtered fluorescence upphase: 100%|██████████| 1132/1132 [00:03<00:00, 342.14it/s]\n"
     ]
    },
    {
     "name": "stdout",
     "output_type": "stream",
     "text": [
      "\n",
      "\n",
      "\n",
      "Processing session:  20210524\n"
     ]
    },
    {
     "name": "stderr",
     "output_type": "stream",
     "text": [
      "low pass filter: 100%|██████████| 244/244 [00:00<00:00, 2429.94it/s]\n",
      "model filter: remove bleaching or trends: 100%|██████████| 244/244 [00:00<00:00, 276.83it/s]\n",
      "100%|██████████| 244/244 [00:01<00:00, 200.26it/s]\n",
      "binarizing continuous traces filtered fluorescence onphase: 100%|██████████| 244/244 [00:00<00:00, 1609.15it/s]\n",
      "binarizing continuous traces filtered fluorescence upphase: 100%|██████████| 244/244 [00:00<00:00, 554.06it/s]\n"
     ]
    },
    {
     "name": "stdout",
     "output_type": "stream",
     "text": [
      "\n",
      "\n",
      "\n",
      "Processing session:  20210528\n"
     ]
    },
    {
     "name": "stderr",
     "output_type": "stream",
     "text": [
      "low pass filter: 100%|██████████| 764/764 [00:00<00:00, 2300.98it/s]\n",
      "model filter: remove bleaching or trends: 100%|██████████| 764/764 [00:02<00:00, 277.38it/s]\n",
      "768it [00:03, 200.58it/s]                         \n",
      "binarizing continuous traces filtered fluorescence onphase: 100%|██████████| 764/764 [00:00<00:00, 1261.29it/s]\n",
      "binarizing continuous traces filtered fluorescence upphase: 100%|██████████| 764/764 [00:01<00:00, 550.49it/s]\n"
     ]
    },
    {
     "name": "stdout",
     "output_type": "stream",
     "text": [
      " ... DONE ...\n"
     ]
    }
   ],
   "source": [
    "#############################################\n",
    "######### LOAD SUITE2P AND BINARIZE #########\n",
    "#############################################\n",
    "\n",
    "# input directory where Suite2p outputs matlab Fall.mat and all .npy files\n",
    "# load list of directories to be processed\n",
    "root_dir = '/media/cat/4TB/donato/'\n",
    "animal_id = 'DON-002865'\n",
    "\n",
    "animal_ids = [\n",
    "#'DON-002865',\n",
    "'DON-003165',\n",
    "'DON-003343',\n",
    "'DON-006084',\n",
    "'DON-006085',\n",
    "'DON-006087',\n",
    "]\n",
    "\n",
    "for animal_id in animal_ids:\n",
    "    sessions = os.listdir(os.path.join(root_dir, animal_id))\n",
    "\n",
    "    # initialize calcium object and load suite2p data\n",
    "    for session in sessions:\n",
    "        print (\"\\n\\n\")\n",
    "        print (\"Processing session: \", session)\n",
    "\n",
    "        # initialize calcium object and load suite2p data\n",
    "        c = calcium.Calcium()\n",
    "        c.verbose = False                          # outputs additional information during processing\n",
    "        c.recompute_binarization = True           # recomputes binarization and other processing steps; False: loads from previous saved locations\n",
    "        c.data_dir = os.path.join(root_dir,\n",
    "                                  animal_id,\n",
    "                                  session,\n",
    "                                  '002P-F',\n",
    "                                 'tif',\n",
    "                                 'suite2p',\n",
    "                                 'plane0')\n",
    "        c.load_suite2p()                          \n",
    "\n",
    "        # set flags to save matlab and python data\n",
    "        c.save_python = True         # save output as .npz file \n",
    "        c.save_matlab = False         # save output as .mat file\n",
    "\n",
    "        ###############################################\n",
    "        ##### PARAMETERS FOR RUNNING BINARIZATION #####\n",
    "        ###############################################\n",
    "        c.min_width_event_onphase = c.sample_rate//2 # set minimum withd of an onphase event; default: 0.5 seconds\n",
    "        c.min_width_event_upphase = c.sample_rate//4 # set minimum width of upphase event; default: 0.25 seconds\n",
    "\n",
    "        ############# PARAMTERS TO TWEAK ##############\n",
    "        #     1. Cutoff for calling somthing a spike:\n",
    "        #        This is stored in: std_Fluorescence_onphase/uppohase: defaults: 1.5\n",
    "        #                                        higher -> less events; lower -> more events\n",
    "        #                                        start at default and increase if data is very noisy and getting too many noise-events\n",
    "        c.min_thresh_std_onphase = 2.5      # set the minimum thrshold for onphase detection; defatul 2.5\n",
    "        c.min_thresh_std_upphase = 2.5      # set the minimum thershold for uppohase detection; default: 2.5\n",
    "\n",
    "        #     2. Filter of [Ca] data which smooths the data significantly more and decreases number of binarzied events within a multi-second [Ca] event\n",
    "        #        This is stored in high_cutoff: default 0.5 to 1.0\n",
    "        #        The lower we set it the smoother our [Ca] traces and less \"choppy\" the binarized traces (but we loose some temporal precision)\n",
    "        c.high_cutoff = 0.5              \n",
    "\n",
    "        #     3. Removing bleaching and drift artifacts using polynomial fits\n",
    "        #        This is stored in detrend_model_order\n",
    "        c.detrend_model_order = 1 # 1-3 polynomial fit\n",
    "        c.detrend_model_type = 'mode' # 'mode', 'polynomial'\n",
    "\n",
    "        #\n",
    "\n",
    "        ################################################\n",
    "        ########### RUN BINARIZATION STEP ##############\n",
    "        ################################################\n",
    "        # \n",
    "        # double check that we have set the STD thrshold at a reasonable level to catch biggest/highest SNR bursts\n",
    "        c.show_plots = True\n",
    "\n",
    "        #\n",
    "        c.min_width_event_onphase = 30\n",
    "        c.min_width_event_upphase = 10\n",
    "        c.recompute_binarization = True\n",
    "\n",
    "        # not used currently\n",
    "        c.dff_min = 0.02   #this is the final threshold required by putative spikes\n",
    "        c.percentile_threshold = 0.999999\n",
    "        c.use_upphase = True\n",
    "\n",
    "        #\n",
    "        c.show_plots =False\n",
    "        c.remove_ends = False\n",
    "        c.detrend_filter_threshold = 0.001\n",
    "\n",
    "        if animal_id == 'DON-006085':                           ################ SPECIAL CASE; THIS MOUSE HAS CORTICAL WAVES######\n",
    "            c.mode_window = 30*30 #*30 # 120 seconds @ \n",
    "        else:\n",
    "            c.mode_window = None #*30 # 120 seconds @ \n",
    "        c.binarize_fluorescence()\n",
    "\n",
    "\n",
    "        # generate standard randomized plots:\n",
    "        c.save_sample_traces()\n",
    "\n",
    "        #\n",
    "        save_image = True\n",
    "        c.show_rasters(save_image)\n",
    "\n",
    "print (\" ... DONE ...\")"
   ]
  },
  {
   "cell_type": "code",
   "execution_count": 117,
   "id": "dc28ac1f",
   "metadata": {},
   "outputs": [],
   "source": [
    "###############################################################\n",
    "######### LOAD BINARZIED DATA AND VISUALIZE CELL ACTIVITY #####\n",
    "###############################################################\n",
    "#fname = '/media/cat/4TB/donato/DON-003343/DON-003343_20210213/suite2p/plane0/binarized_traces.npz'\n",
    "# # \n",
    "fname = os.path.join(data_dir,'suite2p','plane0','binarized_traces.npz')\n",
    "\n",
    "c = calcium.Calcium()\n",
    "c.fname = fname\n",
    "c.data_dir = data_dir\n",
    "c.recompute_binarization = False\n",
    "c.load_binarization()\n",
    "\n",
    "# pick a random cell to visualize\n",
    "cell_id = 986\n",
    "scale = .3\n",
    "\n",
    "# \n",
    "c.plot_cell_binarization(cell_id, scale)\n"
   ]
  },
  {
   "cell_type": "code",
   "execution_count": 68,
   "id": "a0e177d9",
   "metadata": {},
   "outputs": [],
   "source": [
    "######################################################\n",
    "############# SHOW RASTERS ###########################\n",
    "######################################################\n",
    "fname = os.path.join(data_dir,'suite2p','plane0','binarized_traces.npz')\n",
    "#data_dir = '/media/cat/4TB/donato/DON-003343/DON-003343_20210213/suite2p/plane0/'\n",
    "\n",
    "c = calcium.Calcium()\n",
    "c.data_dir = data_dir\n",
    "c.fname = fname\n",
    "c.recompute_binarization = False\n",
    "c.load_binarization()\n",
    "\n",
    "c.show_rasters()\n"
   ]
  },
  {
   "cell_type": "code",
   "execution_count": null,
   "id": "c8257683",
   "metadata": {},
   "outputs": [],
   "source": []
  },
  {
   "cell_type": "code",
   "execution_count": null,
   "id": "dd3177bc",
   "metadata": {},
   "outputs": [],
   "source": []
  },
  {
   "cell_type": "code",
   "execution_count": null,
   "id": "afc00149",
   "metadata": {},
   "outputs": [],
   "source": []
  },
  {
   "cell_type": "code",
   "execution_count": null,
   "id": "f99a9019",
   "metadata": {},
   "outputs": [],
   "source": []
  },
  {
   "cell_type": "code",
   "execution_count": null,
   "id": "f6ce39e8",
   "metadata": {},
   "outputs": [],
   "source": []
  },
  {
   "cell_type": "code",
   "execution_count": null,
   "id": "8d1b6b80",
   "metadata": {},
   "outputs": [],
   "source": []
  },
  {
   "cell_type": "code",
   "execution_count": null,
   "id": "67585fad",
   "metadata": {},
   "outputs": [],
   "source": []
  },
  {
   "cell_type": "code",
   "execution_count": null,
   "id": "fe3d8bc0",
   "metadata": {},
   "outputs": [],
   "source": []
  },
  {
   "cell_type": "code",
   "execution_count": null,
   "id": "eb29474c",
   "metadata": {},
   "outputs": [],
   "source": []
  }
 ],
 "metadata": {
  "kernelspec": {
   "display_name": "Python 3",
   "language": "python",
   "name": "python3"
  },
  "language_info": {
   "codemirror_mode": {
    "name": "ipython",
    "version": 3
   },
   "file_extension": ".py",
   "mimetype": "text/x-python",
   "name": "python",
   "nbconvert_exporter": "python",
   "pygments_lexer": "ipython3",
   "version": "3.8.15"
  }
 },
 "nbformat": 4,
 "nbformat_minor": 5
}
