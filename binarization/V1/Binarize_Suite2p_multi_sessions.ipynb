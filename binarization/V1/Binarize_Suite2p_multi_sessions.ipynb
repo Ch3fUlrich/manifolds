{
 "cells": [
  {
   "cell_type": "code",
   "execution_count": 1,
   "id": "611dc90f",
   "metadata": {},
   "outputs": [
    {
     "data": {
      "application/javascript": [
       "IPython.notebook.set_autosave_interval(180000)"
      ]
     },
     "metadata": {},
     "output_type": "display_data"
    },
    {
     "name": "stdout",
     "output_type": "stream",
     "text": [
      "Autosaving every 180 seconds\n"
     ]
    },
    {
     "data": {
      "text/html": [
       "<style>.container { width:100% !important; }</style>"
      ],
      "text/plain": [
       "<IPython.core.display.HTML object>"
      ]
     },
     "metadata": {},
     "output_type": "display_data"
    }
   ],
   "source": [
    "import matplotlib\n",
    "%matplotlib tk\n",
    "%autosave 180\n",
    "%load_ext autoreload\n",
    "%autoreload 2\n",
    "\n",
    "import nest_asyncio\n",
    "%config Completer.use_jedi = False\n",
    "\n",
    "#\n",
    "import matplotlib.pyplot as plt\n",
    "from IPython.core.display import display, HTML\n",
    "display(HTML(\"<style>.container { width:100% !important; }</style>\"))\n",
    "\n",
    "# \n",
    "import numpy as np\n",
    "import os\n",
    "import scipy\n",
    "\n",
    "# add root directory to be able to import packages\n",
    "# todo: make all packages installable so they can be called/imported by environment\n",
    "import sys\n",
    "module_path = os.path.abspath(os.path.join('..'))\n",
    "sys.path.append(module_path)\n",
    "\n",
    "from utils.calcium import calcium\n"
   ]
  },
  {
   "cell_type": "code",
   "execution_count": 9,
   "id": "240d6ff7",
   "metadata": {
    "scrolled": true
   },
   "outputs": [
    {
     "name": "stdout",
     "output_type": "stream",
     "text": [
      "\n",
      "\n"
     ]
    },
    {
     "name": "stderr",
     "output_type": "stream",
     "text": [
      "low pass filter: 100%|█████████████████████████████████████████████████████████████████████████████████████████████████| 902/902 [00:01<00:00, 804.60it/s]\n",
      "model filter: remove bleaching or trends: 100%|████████████████████████████████████████████████████████████████████████| 902/902 [00:01<00:00, 593.76it/s]\n",
      "binarizing continuous traces filtered fluorescence onphase: 100%|██████████████████████████████████████████████████████| 902/902 [00:01<00:00, 711.66it/s]\n",
      "binarizing continuous traces filtered fluorescence upphase: 100%|██████████████████████████████████████████████████████| 902/902 [00:05<00:00, 171.21it/s]\n"
     ]
    },
    {
     "name": "stdout",
     "output_type": "stream",
     "text": [
      "   Oasis based binarization skipped by default ... \n",
      "\n",
      "\n"
     ]
    },
    {
     "name": "stderr",
     "output_type": "stream",
     "text": [
      "low pass filter: 100%|█████████████████████████████████████████████████████████████████████████████████████████████████| 774/774 [00:01<00:00, 667.88it/s]\n",
      "model filter: remove bleaching or trends: 100%|████████████████████████████████████████████████████████████████████████| 774/774 [00:01<00:00, 522.54it/s]\n",
      "binarizing continuous traces filtered fluorescence onphase: 100%|██████████████████████████████████████████████████████| 774/774 [00:01<00:00, 744.96it/s]\n",
      "binarizing continuous traces filtered fluorescence upphase: 100%|██████████████████████████████████████████████████████| 774/774 [00:03<00:00, 193.86it/s]\n"
     ]
    },
    {
     "name": "stdout",
     "output_type": "stream",
     "text": [
      "   Oasis based binarization skipped by default ... \n",
      "\n",
      "\n"
     ]
    },
    {
     "name": "stderr",
     "output_type": "stream",
     "text": [
      "low pass filter: 100%|█████████████████████████████████████████████████████████████████████████████████████████████████| 526/526 [00:00<00:00, 749.46it/s]\n",
      "model filter: remove bleaching or trends: 100%|████████████████████████████████████████████████████████████████████████| 526/526 [00:00<00:00, 559.12it/s]\n",
      "binarizing continuous traces filtered fluorescence onphase: 100%|██████████████████████████████████████████████████████| 526/526 [00:00<00:00, 644.82it/s]\n",
      "binarizing continuous traces filtered fluorescence upphase: 100%|██████████████████████████████████████████████████████| 526/526 [00:02<00:00, 206.18it/s]\n"
     ]
    },
    {
     "name": "stdout",
     "output_type": "stream",
     "text": [
      "   Oasis based binarization skipped by default ... \n",
      "\n",
      "\n"
     ]
    },
    {
     "name": "stderr",
     "output_type": "stream",
     "text": [
      "low pass filter: 100%|█████████████████████████████████████████████████████████████████████████████████████████████████| 669/669 [00:00<00:00, 787.28it/s]\n",
      "model filter: remove bleaching or trends: 100%|████████████████████████████████████████████████████████████████████████| 669/669 [00:01<00:00, 611.07it/s]\n",
      "binarizing continuous traces filtered fluorescence onphase: 100%|██████████████████████████████████████████████████████| 669/669 [00:00<00:00, 754.35it/s]\n",
      "binarizing continuous traces filtered fluorescence upphase: 100%|██████████████████████████████████████████████████████| 669/669 [00:03<00:00, 174.47it/s]\n"
     ]
    },
    {
     "name": "stdout",
     "output_type": "stream",
     "text": [
      "   Oasis based binarization skipped by default ... \n",
      "\n",
      "\n"
     ]
    },
    {
     "name": "stderr",
     "output_type": "stream",
     "text": [
      "low pass filter: 100%|█████████████████████████████████████████████████████████████████████████████████████████████████| 728/728 [00:00<00:00, 781.97it/s]\n",
      "model filter: remove bleaching or trends: 100%|████████████████████████████████████████████████████████████████████████| 728/728 [00:01<00:00, 625.44it/s]\n",
      "binarizing continuous traces filtered fluorescence onphase: 100%|██████████████████████████████████████████████████████| 728/728 [00:00<00:00, 842.64it/s]\n",
      "binarizing continuous traces filtered fluorescence upphase: 100%|██████████████████████████████████████████████████████| 728/728 [00:03<00:00, 224.61it/s]\n"
     ]
    },
    {
     "name": "stdout",
     "output_type": "stream",
     "text": [
      "   Oasis based binarization skipped by default ... \n",
      "\n",
      "\n"
     ]
    },
    {
     "name": "stderr",
     "output_type": "stream",
     "text": [
      "low pass filter: 100%|███████████████████████████████████████████████████████████████████████████████████████████████| 1070/1070 [00:01<00:00, 702.80it/s]\n",
      "model filter: remove bleaching or trends: 100%|██████████████████████████████████████████████████████████████████████| 1070/1070 [00:01<00:00, 541.75it/s]\n",
      "binarizing continuous traces filtered fluorescence onphase: 100%|████████████████████████████████████████████████████| 1070/1070 [00:01<00:00, 888.33it/s]\n",
      "binarizing continuous traces filtered fluorescence upphase: 100%|████████████████████████████████████████████████████| 1070/1070 [00:05<00:00, 198.45it/s]\n"
     ]
    },
    {
     "name": "stdout",
     "output_type": "stream",
     "text": [
      "   Oasis based binarization skipped by default ... \n",
      "\n",
      "\n"
     ]
    },
    {
     "name": "stderr",
     "output_type": "stream",
     "text": [
      "low pass filter: 100%|█████████████████████████████████████████████████████████████████████████████████████████████████| 724/724 [00:01<00:00, 689.71it/s]\n",
      "model filter: remove bleaching or trends: 100%|████████████████████████████████████████████████████████████████████████| 724/724 [00:01<00:00, 534.76it/s]\n",
      "binarizing continuous traces filtered fluorescence onphase: 100%|██████████████████████████████████████████████████████| 724/724 [00:00<00:00, 766.78it/s]\n",
      "binarizing continuous traces filtered fluorescence upphase: 100%|██████████████████████████████████████████████████████| 724/724 [00:04<00:00, 169.90it/s]\n"
     ]
    },
    {
     "name": "stdout",
     "output_type": "stream",
     "text": [
      "   Oasis based binarization skipped by default ... \n",
      "\n",
      "\n"
     ]
    },
    {
     "name": "stderr",
     "output_type": "stream",
     "text": [
      "low pass filter: 100%|█████████████████████████████████████████████████████████████████████████████████████████████████| 718/718 [00:00<00:00, 725.32it/s]\n",
      "model filter: remove bleaching or trends: 100%|████████████████████████████████████████████████████████████████████████| 718/718 [00:01<00:00, 568.81it/s]\n",
      "binarizing continuous traces filtered fluorescence onphase: 100%|██████████████████████████████████████████████████████| 718/718 [00:00<00:00, 765.29it/s]\n",
      "binarizing continuous traces filtered fluorescence upphase: 100%|██████████████████████████████████████████████████████| 718/718 [00:04<00:00, 177.95it/s]\n"
     ]
    },
    {
     "name": "stdout",
     "output_type": "stream",
     "text": [
      "   Oasis based binarization skipped by default ... \n",
      "\n",
      "\n"
     ]
    },
    {
     "name": "stderr",
     "output_type": "stream",
     "text": [
      "low pass filter: 100%|█████████████████████████████████████████████████████████████████████████████████████████████████| 639/639 [00:00<00:00, 747.63it/s]\n",
      "model filter: remove bleaching or trends: 100%|████████████████████████████████████████████████████████████████████████| 639/639 [00:01<00:00, 600.15it/s]\n",
      "binarizing continuous traces filtered fluorescence onphase: 100%|██████████████████████████████████████████████████████| 639/639 [00:00<00:00, 735.56it/s]\n",
      "binarizing continuous traces filtered fluorescence upphase: 100%|██████████████████████████████████████████████████████| 639/639 [00:03<00:00, 202.56it/s]\n"
     ]
    },
    {
     "name": "stdout",
     "output_type": "stream",
     "text": [
      "   Oasis based binarization skipped by default ... \n",
      "\n",
      "\n"
     ]
    },
    {
     "name": "stderr",
     "output_type": "stream",
     "text": [
      "low pass filter: 100%|█████████████████████████████████████████████████████████████████████████████████████████████████| 873/873 [00:01<00:00, 569.58it/s]\n",
      "model filter: remove bleaching or trends: 100%|████████████████████████████████████████████████████████████████████████| 873/873 [00:01<00:00, 457.38it/s]\n",
      "binarizing continuous traces filtered fluorescence onphase: 100%|██████████████████████████████████████████████████████| 873/873 [00:01<00:00, 505.94it/s]\n",
      "binarizing continuous traces filtered fluorescence upphase: 100%|██████████████████████████████████████████████████████| 873/873 [00:05<00:00, 172.74it/s]\n"
     ]
    },
    {
     "name": "stdout",
     "output_type": "stream",
     "text": [
      "   Oasis based binarization skipped by default ... \n",
      "  DONE  \n"
     ]
    }
   ],
   "source": [
    "#############################################\n",
    "######### LOAD SUITE2P AND BINARIZE #########\n",
    "#############################################\n",
    "\n",
    "# load list of directories to be processed\n",
    "data_dirs = np.loadtxt('/media/cat/4TB/donato/DON-002865/sessions_filenames.txt', dtype='str')\n",
    "\n",
    "# initialize calcium object and load suite2p data\n",
    "for data_dir in data_dirs:\n",
    "    \n",
    "    c = calcium.Calcium()\n",
    "    c.verbose = False                          # outputs additional information during processing\n",
    "    c.recompute_binarization = True           # recomputes binarization and other processing steps; False: loads from previous saved locations\n",
    "    c.data_dir = data_dir\n",
    "    c.load_suite2p()                          \n",
    "\n",
    "    # set flags to save matlab and python data\n",
    "    c.save_python = True         # save output as .npz file \n",
    "    c.save_matlab = False         # save output as .mat file\n",
    "\n",
    "    ###############################################\n",
    "    ##### PARAMETERS FOR RUNNING BINARIZATION #####\n",
    "    ###############################################\n",
    "    c.min_width_event_onphase = c.sample_rate//2 # set minimum withd of an onphase event; default: 0.5 seconds\n",
    "    c.min_width_event_upphase = c.sample_rate//4 # set minimum width of upphase event; default: 0.25 seconds\n",
    "\n",
    "    ############# PARAMTERS TO TWEAK ##############\n",
    "    #     1. Cutoff for calling somthing a spike:\n",
    "    #        This is stored in: std_Fluorescence_onphase/uppohase: defaults: 1.5\n",
    "    #                                        higher -> less events; lower -> more events\n",
    "    #                                        start at default and increase if data is very noisy and getting too many noise-events\n",
    "    c.min_thresh_std_onphase = 2.5      # set the minimum thrshold for onphase detection; defatul 2.5\n",
    "    c.min_thresh_std_upphase = 2.5      # set the minimum thershold for uppohase detection; default: 2.5\n",
    "\n",
    "    #     2. Filter of [Ca] data which smooths the data significantly more and decreases number of binarzied events within a multi-second [Ca] event\n",
    "    #        This is stored in high_cutoff: default 0.5 to 1.0\n",
    "    #        The lower we set it the smoother our [Ca] traces and less \"choppy\" the binarized traces (but we loose some temporal precision)\n",
    "    c.high_cutoff = 0.5              \n",
    "\n",
    "    #     3. Removing bleaching and drift artifacts using polynomial fits\n",
    "    #        This is stored in detrend_model_order\n",
    "    c.detrend_model_order = 1 # 1-5 polynomial fit\n",
    "\n",
    "\n",
    "    ################################################\n",
    "    ########### RUN BINARIZATION STEP ##############\n",
    "    ################################################\n",
    "    # \n",
    "    c.binarize_fluorescence()\n",
    "    \n",
    "print (\"  DONE  \") "
   ]
  },
  {
   "cell_type": "code",
   "execution_count": null,
   "id": "faa37030",
   "metadata": {},
   "outputs": [],
   "source": []
  },
  {
   "cell_type": "code",
   "execution_count": null,
   "id": "c8257683",
   "metadata": {},
   "outputs": [],
   "source": []
  },
  {
   "cell_type": "code",
   "execution_count": null,
   "id": "dd3177bc",
   "metadata": {},
   "outputs": [],
   "source": []
  },
  {
   "cell_type": "code",
   "execution_count": null,
   "id": "afc00149",
   "metadata": {},
   "outputs": [],
   "source": []
  },
  {
   "cell_type": "code",
   "execution_count": null,
   "id": "f99a9019",
   "metadata": {},
   "outputs": [],
   "source": []
  },
  {
   "cell_type": "code",
   "execution_count": null,
   "id": "f6ce39e8",
   "metadata": {},
   "outputs": [],
   "source": []
  },
  {
   "cell_type": "code",
   "execution_count": null,
   "id": "8d1b6b80",
   "metadata": {},
   "outputs": [],
   "source": []
  },
  {
   "cell_type": "code",
   "execution_count": null,
   "id": "67585fad",
   "metadata": {},
   "outputs": [],
   "source": []
  },
  {
   "cell_type": "code",
   "execution_count": null,
   "id": "fe3d8bc0",
   "metadata": {},
   "outputs": [],
   "source": []
  },
  {
   "cell_type": "code",
   "execution_count": null,
   "id": "eb29474c",
   "metadata": {},
   "outputs": [],
   "source": []
  }
 ],
 "metadata": {
  "kernelspec": {
   "display_name": "Python 3",
   "language": "python",
   "name": "python3"
  },
  "language_info": {
   "codemirror_mode": {
    "name": "ipython",
    "version": 3
   },
   "file_extension": ".py",
   "mimetype": "text/x-python",
   "name": "python",
   "nbconvert_exporter": "python",
   "pygments_lexer": "ipython3",
   "version": "3.8.15"
  }
 },
 "nbformat": 4,
 "nbformat_minor": 5
}
